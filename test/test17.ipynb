{
 "cells": [
  {
   "cell_type": "code",
   "execution_count": 1,
   "outputs": [],
   "source": [
    "import torch\n",
    "import torch.nn as nn\n",
    "from torch.utils.data import Dataset, DataLoader\n",
    "import numpy as np\n",
    "import matplotlib.pyplot as plt"
   ],
   "metadata": {
    "collapsed": false,
    "ExecuteTime": {
     "end_time": "2025-07-24T15:00:09.045090500Z",
     "start_time": "2025-07-24T14:59:57.830370300Z"
    }
   },
   "id": "initial_id"
  },
  {
   "cell_type": "code",
   "execution_count": 4,
   "outputs": [
    {
     "name": "stdout",
     "output_type": "stream",
     "text": [
      "param_dict: {'epochs': [200], 'batch_size': [200], 'save_every': [5], 'learning_rate': [0.001], 'test_size': [0.2], 'seed': [398], 'hidden_size': [10], 'bias': [True], 'dropout_rate': [0.1], 'ode_nn': [((50, 'tanh'), (50, 'tanh'))], 'readout_nn': [((50, 'tanh'), (50, 'tanh'))], 'enc_nn': [((50, 'tanh'), (50, 'tanh'))], 'use_rnn': [False], 'func_appl_X': [[]], 'solver': ['euler'], 'weight': [0.5], 'weight_decay': [1.0], 'dataset': ['BlackScholes', 'Heston', 'OrnsteinUhlenbeck'], 'dataset_id': [None], 'plot': [True], 'evaluate': [True], 'paths_to_plot': [(0, 1, 2, 3, 4)]}\n",
      "param_dict: {'epochs': [100], 'batch_size': [20], 'save_every': [10], 'learning_rate': [0.001], 'test_size': [0.2], 'training_size': [200, 400, 800, 1600, 3200, 6400, 12800], 'seed': [398], 'hidden_size': [10], 'bias': [True], 'dropout_rate': [0.1], 'ode_nn': [((10, 'tanh'), (10, 'tanh'))], 'readout_nn': [((10, 'tanh'), (10, 'tanh'))], 'enc_nn': [((10, 'tanh'), (10, 'tanh'))], 'use_rnn': [False], 'func_appl_X': [[]], 'solver': ['euler'], 'weight': [0.5], 'weight_decay': [1.0], 'dataset': ['Heston'], 'dataset_id': [None], 'plot': [True], 'paths_to_plot': [(0,)], 'saved_models_path': ['../data/conv-study-Heston-saved_models/'], 'evaluate': [True]}\n",
      "param_dict: {'epochs': [100], 'batch_size': [20], 'save_every': [10], 'learning_rate': [0.001], 'test_size': [0.2], 'training_size': [200, 400, 800, 1600, 3200, 6400, 12800], 'seed': [398], 'hidden_size': [10], 'bias': [True], 'dropout_rate': [0.1], 'ode_nn': [((20, 'tanh'), (20, 'tanh'))], 'readout_nn': [((20, 'tanh'), (20, 'tanh'))], 'enc_nn': [((20, 'tanh'), (20, 'tanh'))], 'use_rnn': [False], 'func_appl_X': [[]], 'solver': ['euler'], 'weight': [0.5], 'weight_decay': [1.0], 'dataset': ['Heston'], 'dataset_id': [None], 'plot': [True], 'paths_to_plot': [(0,)], 'saved_models_path': ['../data/conv-study-Heston-saved_models/'], 'evaluate': [True]}\n",
      "param_dict: {'epochs': [100], 'batch_size': [20], 'save_every': [10], 'learning_rate': [0.001], 'test_size': [0.2], 'training_size': [200, 400, 800, 1600, 3200, 6400, 12800], 'seed': [398], 'hidden_size': [10], 'bias': [True], 'dropout_rate': [0.1], 'ode_nn': [((40, 'tanh'), (40, 'tanh'))], 'readout_nn': [((40, 'tanh'), (40, 'tanh'))], 'enc_nn': [((40, 'tanh'), (40, 'tanh'))], 'use_rnn': [False], 'func_appl_X': [[]], 'solver': ['euler'], 'weight': [0.5], 'weight_decay': [1.0], 'dataset': ['Heston'], 'dataset_id': [None], 'plot': [True], 'paths_to_plot': [(0,)], 'saved_models_path': ['../data/conv-study-Heston-saved_models/'], 'evaluate': [True]}\n",
      "param_dict: {'epochs': [100], 'batch_size': [20], 'save_every': [10], 'learning_rate': [0.001], 'test_size': [0.2], 'training_size': [200, 400, 800, 1600, 3200, 6400, 12800], 'seed': [398], 'hidden_size': [10], 'bias': [True], 'dropout_rate': [0.1], 'ode_nn': [((80, 'tanh'), (80, 'tanh'))], 'readout_nn': [((80, 'tanh'), (80, 'tanh'))], 'enc_nn': [((80, 'tanh'), (80, 'tanh'))], 'use_rnn': [False], 'func_appl_X': [[]], 'solver': ['euler'], 'weight': [0.5], 'weight_decay': [1.0], 'dataset': ['Heston'], 'dataset_id': [None], 'plot': [True], 'paths_to_plot': [(0,)], 'saved_models_path': ['../data/conv-study-Heston-saved_models/'], 'evaluate': [True]}\n",
      "param_dict: {'epochs': [100], 'batch_size': [20], 'save_every': [10], 'learning_rate': [0.001], 'test_size': [0.2], 'training_size': [200, 400, 800, 1600, 3200, 6400, 12800], 'seed': [398], 'hidden_size': [10], 'bias': [True], 'dropout_rate': [0.1], 'ode_nn': [((160, 'tanh'), (160, 'tanh'))], 'readout_nn': [((160, 'tanh'), (160, 'tanh'))], 'enc_nn': [((160, 'tanh'), (160, 'tanh'))], 'use_rnn': [False], 'func_appl_X': [[]], 'solver': ['euler'], 'weight': [0.5], 'weight_decay': [1.0], 'dataset': ['Heston'], 'dataset_id': [None], 'plot': [True], 'paths_to_plot': [(0,)], 'saved_models_path': ['../data/conv-study-Heston-saved_models/'], 'evaluate': [True]}\n",
      "param_dict: {'epochs': [100], 'batch_size': [20], 'save_every': [10], 'learning_rate': [0.001], 'test_size': [0.2], 'training_size': [200, 400, 800, 1600, 3200, 6400, 12800], 'seed': [398], 'hidden_size': [10], 'bias': [True], 'dropout_rate': [0.1], 'ode_nn': [((320, 'tanh'), (320, 'tanh'))], 'readout_nn': [((320, 'tanh'), (320, 'tanh'))], 'enc_nn': [((320, 'tanh'), (320, 'tanh'))], 'use_rnn': [False], 'func_appl_X': [[]], 'solver': ['euler'], 'weight': [0.5], 'weight_decay': [1.0], 'dataset': ['Heston'], 'dataset_id': [None], 'plot': [True], 'paths_to_plot': [(0,)], 'saved_models_path': ['../data/conv-study-Heston-saved_models/'], 'evaluate': [True]}\n",
      "param_dict: {'epochs': [100], 'batch_size': [20], 'save_every': [10], 'learning_rate': [0.001], 'test_size': [0.2], 'training_size': [200, 400, 800, 1600, 3200, 6400, 12800], 'seed': [398], 'hidden_size': [10], 'bias': [True], 'dropout_rate': [0.1], 'ode_nn': [((10, 'tanh'), (10, 'tanh'))], 'readout_nn': [((10, 'tanh'), (10, 'tanh'))], 'enc_nn': [((10, 'tanh'), (10, 'tanh'))], 'use_rnn': [False], 'func_appl_X': [[]], 'solver': ['euler'], 'weight': [0.5], 'weight_decay': [1.0], 'dataset': ['BlackScholes'], 'dataset_id': [None], 'plot': [True], 'paths_to_plot': [(0,)], 'saved_models_path': ['../data/conv-study-BS-saved_models/'], 'evaluate': [True]}\n",
      "param_dict: {'epochs': [100], 'batch_size': [20], 'save_every': [10], 'learning_rate': [0.001], 'test_size': [0.2], 'training_size': [200, 400, 800, 1600, 3200, 6400, 12800], 'seed': [398], 'hidden_size': [10], 'bias': [True], 'dropout_rate': [0.1], 'ode_nn': [((20, 'tanh'), (20, 'tanh'))], 'readout_nn': [((20, 'tanh'), (20, 'tanh'))], 'enc_nn': [((20, 'tanh'), (20, 'tanh'))], 'use_rnn': [False], 'func_appl_X': [[]], 'solver': ['euler'], 'weight': [0.5], 'weight_decay': [1.0], 'dataset': ['BlackScholes'], 'dataset_id': [None], 'plot': [True], 'paths_to_plot': [(0,)], 'saved_models_path': ['../data/conv-study-BS-saved_models/'], 'evaluate': [True]}\n",
      "param_dict: {'epochs': [100], 'batch_size': [20], 'save_every': [10], 'learning_rate': [0.001], 'test_size': [0.2], 'training_size': [200, 400, 800, 1600, 3200, 6400, 12800], 'seed': [398], 'hidden_size': [10], 'bias': [True], 'dropout_rate': [0.1], 'ode_nn': [((40, 'tanh'), (40, 'tanh'))], 'readout_nn': [((40, 'tanh'), (40, 'tanh'))], 'enc_nn': [((40, 'tanh'), (40, 'tanh'))], 'use_rnn': [False], 'func_appl_X': [[]], 'solver': ['euler'], 'weight': [0.5], 'weight_decay': [1.0], 'dataset': ['BlackScholes'], 'dataset_id': [None], 'plot': [True], 'paths_to_plot': [(0,)], 'saved_models_path': ['../data/conv-study-BS-saved_models/'], 'evaluate': [True]}\n",
      "param_dict: {'epochs': [100], 'batch_size': [20], 'save_every': [10], 'learning_rate': [0.001], 'test_size': [0.2], 'training_size': [200, 400, 800, 1600, 3200, 6400, 12800], 'seed': [398], 'hidden_size': [10], 'bias': [True], 'dropout_rate': [0.1], 'ode_nn': [((80, 'tanh'), (80, 'tanh'))], 'readout_nn': [((80, 'tanh'), (80, 'tanh'))], 'enc_nn': [((80, 'tanh'), (80, 'tanh'))], 'use_rnn': [False], 'func_appl_X': [[]], 'solver': ['euler'], 'weight': [0.5], 'weight_decay': [1.0], 'dataset': ['BlackScholes'], 'dataset_id': [None], 'plot': [True], 'paths_to_plot': [(0,)], 'saved_models_path': ['../data/conv-study-BS-saved_models/'], 'evaluate': [True]}\n",
      "param_dict: {'epochs': [100], 'batch_size': [20], 'save_every': [10], 'learning_rate': [0.001], 'test_size': [0.2], 'training_size': [200, 400, 800, 1600, 3200, 6400, 12800], 'seed': [398], 'hidden_size': [10], 'bias': [True], 'dropout_rate': [0.1], 'ode_nn': [((160, 'tanh'), (160, 'tanh'))], 'readout_nn': [((160, 'tanh'), (160, 'tanh'))], 'enc_nn': [((160, 'tanh'), (160, 'tanh'))], 'use_rnn': [False], 'func_appl_X': [[]], 'solver': ['euler'], 'weight': [0.5], 'weight_decay': [1.0], 'dataset': ['BlackScholes'], 'dataset_id': [None], 'plot': [True], 'paths_to_plot': [(0,)], 'saved_models_path': ['../data/conv-study-BS-saved_models/'], 'evaluate': [True]}\n",
      "param_dict: {'epochs': [100], 'batch_size': [20], 'save_every': [10], 'learning_rate': [0.001], 'test_size': [0.2], 'training_size': [200, 400, 800, 1600, 3200, 6400, 12800], 'seed': [398], 'hidden_size': [10], 'bias': [True], 'dropout_rate': [0.1], 'ode_nn': [((320, 'tanh'), (320, 'tanh'))], 'readout_nn': [((320, 'tanh'), (320, 'tanh'))], 'enc_nn': [((320, 'tanh'), (320, 'tanh'))], 'use_rnn': [False], 'func_appl_X': [[]], 'solver': ['euler'], 'weight': [0.5], 'weight_decay': [1.0], 'dataset': ['BlackScholes'], 'dataset_id': [None], 'plot': [True], 'paths_to_plot': [(0,)], 'saved_models_path': ['../data/conv-study-BS-saved_models/'], 'evaluate': [True]}\n",
      "param_dict: {'epochs': [100], 'batch_size': [20], 'save_every': [10], 'learning_rate': [0.001], 'test_size': [0.2], 'training_size': [200, 400, 800, 1600, 3200, 6400, 12800], 'seed': [398], 'hidden_size': [10], 'bias': [True], 'dropout_rate': [0.1], 'ode_nn': [((10, 'tanh'), (10, 'tanh'))], 'readout_nn': [((10, 'tanh'), (10, 'tanh'))], 'enc_nn': [((10, 'tanh'), (10, 'tanh'))], 'use_rnn': [False], 'func_appl_X': [[]], 'solver': ['euler'], 'weight': [0.5], 'weight_decay': [1.0], 'dataset': ['OrnsteinUhlenbeck'], 'dataset_id': [None], 'plot': [True], 'paths_to_plot': [(0,)], 'saved_models_path': ['../data/conv-study-OU-saved_models/'], 'evaluate': [True]}\n",
      "param_dict: {'epochs': [100], 'batch_size': [20], 'save_every': [10], 'learning_rate': [0.001], 'test_size': [0.2], 'training_size': [200, 400, 800, 1600, 3200, 6400, 12800], 'seed': [398], 'hidden_size': [10], 'bias': [True], 'dropout_rate': [0.1], 'ode_nn': [((20, 'tanh'), (20, 'tanh'))], 'readout_nn': [((20, 'tanh'), (20, 'tanh'))], 'enc_nn': [((20, 'tanh'), (20, 'tanh'))], 'use_rnn': [False], 'func_appl_X': [[]], 'solver': ['euler'], 'weight': [0.5], 'weight_decay': [1.0], 'dataset': ['OrnsteinUhlenbeck'], 'dataset_id': [None], 'plot': [True], 'paths_to_plot': [(0,)], 'saved_models_path': ['../data/conv-study-OU-saved_models/'], 'evaluate': [True]}\n",
      "param_dict: {'epochs': [100], 'batch_size': [20], 'save_every': [10], 'learning_rate': [0.001], 'test_size': [0.2], 'training_size': [200, 400, 800, 1600, 3200, 6400, 12800], 'seed': [398], 'hidden_size': [10], 'bias': [True], 'dropout_rate': [0.1], 'ode_nn': [((40, 'tanh'), (40, 'tanh'))], 'readout_nn': [((40, 'tanh'), (40, 'tanh'))], 'enc_nn': [((40, 'tanh'), (40, 'tanh'))], 'use_rnn': [False], 'func_appl_X': [[]], 'solver': ['euler'], 'weight': [0.5], 'weight_decay': [1.0], 'dataset': ['OrnsteinUhlenbeck'], 'dataset_id': [None], 'plot': [True], 'paths_to_plot': [(0,)], 'saved_models_path': ['../data/conv-study-OU-saved_models/'], 'evaluate': [True]}\n",
      "param_dict: {'epochs': [100], 'batch_size': [20], 'save_every': [10], 'learning_rate': [0.001], 'test_size': [0.2], 'training_size': [200, 400, 800, 1600, 3200, 6400, 12800], 'seed': [398], 'hidden_size': [10], 'bias': [True], 'dropout_rate': [0.1], 'ode_nn': [((80, 'tanh'), (80, 'tanh'))], 'readout_nn': [((80, 'tanh'), (80, 'tanh'))], 'enc_nn': [((80, 'tanh'), (80, 'tanh'))], 'use_rnn': [False], 'func_appl_X': [[]], 'solver': ['euler'], 'weight': [0.5], 'weight_decay': [1.0], 'dataset': ['OrnsteinUhlenbeck'], 'dataset_id': [None], 'plot': [True], 'paths_to_plot': [(0,)], 'saved_models_path': ['../data/conv-study-OU-saved_models/'], 'evaluate': [True]}\n",
      "param_dict: {'epochs': [100], 'batch_size': [20], 'save_every': [10], 'learning_rate': [0.001], 'test_size': [0.2], 'training_size': [200, 400, 800, 1600, 3200, 6400, 12800], 'seed': [398], 'hidden_size': [10], 'bias': [True], 'dropout_rate': [0.1], 'ode_nn': [((160, 'tanh'), (160, 'tanh'))], 'readout_nn': [((160, 'tanh'), (160, 'tanh'))], 'enc_nn': [((160, 'tanh'), (160, 'tanh'))], 'use_rnn': [False], 'func_appl_X': [[]], 'solver': ['euler'], 'weight': [0.5], 'weight_decay': [1.0], 'dataset': ['OrnsteinUhlenbeck'], 'dataset_id': [None], 'plot': [True], 'paths_to_plot': [(0,)], 'saved_models_path': ['../data/conv-study-OU-saved_models/'], 'evaluate': [True]}\n",
      "param_dict: {'epochs': [100], 'batch_size': [20], 'save_every': [10], 'learning_rate': [0.001], 'test_size': [0.2], 'training_size': [200, 400, 800, 1600, 3200, 6400, 12800], 'seed': [398], 'hidden_size': [10], 'bias': [True], 'dropout_rate': [0.1], 'ode_nn': [((320, 'tanh'), (320, 'tanh'))], 'readout_nn': [((320, 'tanh'), (320, 'tanh'))], 'enc_nn': [((320, 'tanh'), (320, 'tanh'))], 'use_rnn': [False], 'func_appl_X': [[]], 'solver': ['euler'], 'weight': [0.5], 'weight_decay': [1.0], 'dataset': ['OrnsteinUhlenbeck'], 'dataset_id': [None], 'plot': [True], 'paths_to_plot': [(0,)], 'saved_models_path': ['../data/conv-study-OU-saved_models/'], 'evaluate': [True]}\n",
      "param_dict: {'epochs': [200], 'batch_size': [100], 'save_every': [1], 'learning_rate': [0.001], 'test_size': [0.2], 'seed': [398], 'hidden_size': [10], 'bias': [True], 'dropout_rate': [0.1], 'ode_nn': [((50, 'tanh'), (50, 'tanh'))], 'readout_nn': [((50, 'tanh'), (50, 'tanh'))], 'enc_nn': [((50, 'tanh'), (50, 'tanh'))], 'use_rnn': [False], 'func_appl_X': [[]], 'solver': ['euler'], 'weight': [0.5], 'weight_decay': [1.0], 'dataset': ['HestonWOFeller'], 'dataset_id': [1], 'plot': [True], 'paths_to_plot': [(0, 1, 2, 3, 4)], 'evaluate': [True], 'saved_models_path': ['../data/saved_models_HestonWOFeller/']}\n",
      "param_dict: {'epochs': [200], 'batch_size': [100], 'save_every': [1], 'learning_rate': [0.001], 'test_size': [0.2], 'seed': [398], 'hidden_size': [10], 'bias': [True], 'dropout_rate': [0.1], 'ode_nn': [((100, 'tanh'), (100, 'tanh'))], 'readout_nn': [((100, 'tanh'), (100, 'tanh'))], 'enc_nn': [((100, 'tanh'), (100, 'tanh'))], 'use_rnn': [False], 'func_appl_X': [[]], 'solver': ['euler'], 'weight': [0.5], 'weight_decay': [1.0], 'dataset': ['combined_OrnsteinUhlenbeck_BlackScholes'], 'plot': [True], 'paths_to_plot': [(0, 1, 2, 3, 4)], 'evaluate': [True], 'saved_models_path': ['../data/saved_models_combined_OU_BS/'], 'dataset_id': [1]}\n",
      "param_dict: {'epochs': [100], 'batch_size': [100], 'save_every': [1], 'learning_rate': [0.001], 'test_size': [0.2], 'seed': [398], 'hidden_size': [10], 'bias': [True], 'dropout_rate': [0.1], 'ode_nn': [((400, 'tanh'), (400, 'tanh'))], 'readout_nn': [((400, 'tanh'), (400, 'tanh'))], 'enc_nn': [((400, 'tanh'), (400, 'tanh'))], 'use_rnn': [False], 'func_appl_X': [[]], 'solver': ['euler'], 'weight': [0.5], 'weight_decay': [1.0], 'dataset': ['sine_BlackScholes'], 'dataset_id': [1], 'plot': [True], 'paths_to_plot': [(0, 1, 2, 3, 4)], 'evaluate': [True], 'saved_models_path': ['../data/saved_models_sine_BS/']}\n",
      "param_dict: {'epochs': [100], 'batch_size': [20], 'save_every': [1], 'learning_rate': [0.001], 'test_size': [0.2], 'seed': [398], 'hidden_size': [50, 100], 'bias': [True], 'dropout_rate': [0.1], 'ode_nn': [None], 'readout_nn': [None], 'enc_nn': [None], 'use_rnn': [False], 'func_appl_X': [[]], 'solver': ['euler'], 'weight': [0.5], 'weight_decay': [1.0], 'dataset': ['BlackScholes', 'Heston', 'OrnsteinUhlenbeck'], 'dataset_id': [None], 'plot': [True], 'paths_to_plot': [(0, 1, 2, 3, 4)], 'evaluate': [True], 'other_model': ['GRU_ODE_Bayes'], 'saved_models_path': ['../data/saved_models_GRUODEBayes-comparison/'], 'GRU_ODE_Bayes-impute': [True, False], 'GRU_ODE_Bayes-logvar': [True, False], 'GRU_ODE_Bayes-mixing': [0.0001, 0.5]}\n",
      "param_dict: {'epochs': [100], 'batch_size': [20], 'save_every': [1], 'learning_rate': [0.001], 'test_size': [0.2], 'seed': [398], 'hidden_size': [10], 'bias': [True], 'dropout_rate': [0.1], 'ode_nn': [((50, 'tanh'), (50, 'tanh'))], 'readout_nn': [((50, 'tanh'), (50, 'tanh'))], 'enc_nn': [((50, 'tanh'), (50, 'tanh'))], 'use_rnn': [False], 'func_appl_X': [[]], 'solver': ['euler'], 'weight': [0.5], 'weight_decay': [1.0], 'dataset': ['BlackScholes', 'Heston', 'OrnsteinUhlenbeck'], 'dataset_id': [None], 'plot': [True], 'paths_to_plot': [(0, 1, 2, 3, 4)], 'evaluate': [True], 'saved_models_path': ['../data/saved_models_GRUODEBayes-comparison/']}\n",
      "param_dict: {'epochs': [200], 'batch_size': [100], 'save_every': [1], 'learning_rate': [0.001], 'hidden_size': [10], 'bias': [True], 'dropout_rate': [0.1], 'ode_nn': [((50, 'tanh'), (50, 'tanh'))], 'readout_nn': [((50, 'tanh'), (50, 'tanh'))], 'enc_nn': [((50, 'tanh'), (50, 'tanh'))], 'use_rnn': [False], 'solver': ['euler'], 'weight': [0.5], 'weight_decay': [1.0], 'dataset': ['climate'], 'data_index': [0, 1, 2, 3, 4], 'delta_t': [0.1], 'saved_models_path': ['../data/saved_models_NJODE1-climate/'], 'dataset_id': [1]}\n",
      "param_dict: {'epochs': [200], 'batch_size': [100], 'save_every': [1], 'learning_rate': [0.001], 'hidden_size': [50], 'bias': [True], 'dropout_rate': [0.1], 'ode_nn': [((400, 'tanh'), (400, 'tanh'))], 'readout_nn': [((400, 'tanh'), (400, 'tanh'))], 'enc_nn': [((400, 'tanh'), (400, 'tanh'))], 'use_rnn': [False], 'solver': ['euler'], 'weight': [0.5], 'weight_decay': [1.0], 'dataset': ['climate'], 'data_index': [0, 1, 2, 3, 4], 'delta_t': [0.1], 'saved_models_path': ['../data/saved_models_NJODE1-climate/'], 'dataset_id': [1]}\n",
      "param_dict: {'epochs': [50], 'batch_size': [100], 'save_every': [1], 'learning_rate': [0.001], 'hidden_size': [50], 'bias': [True], 'dropout_rate': [0.2], 'ode_nn': [None], 'readout_nn': [None], 'enc_nn': [None], 'use_rnn': [False], 'solver': ['euler'], 'weight': [0.5], 'weight_decay': [0, 1, 2, 3, 4], 'dataset': ['climate'], 'data_index': [1], 'delta_t': [0.1], 'other_model': ['GRU_ODE_Bayes'], 'GRU_ODE_Bayes-impute': [False], 'GRU_ODE_Bayes-logvar': [True], 'GRU_ODE_Bayes-mixing': [0.0001], 'GRU_ODE_Bayes-p_hidden': [25], 'GRU_ODE_Bayes-prep_hidden': [10], 'GRU_ODE_Bayes-cov_hidden': [50], 'saved_models_path': ['../data/saved_models_NJODE1-climate/'], 'dataset_id': [1]}\n",
      "param_dict: {'epochs': [175], 'batch_size': [50], 'save_every': [1], 'learning_rate': [0.001], 'hidden_size': [41], 'bias': [True], 'dropout_rate': [0.1], 'ode_nn': [((50, 'tanh'), (50, 'tanh'))], 'readout_nn': [((50, 'tanh'), (50, 'tanh'))], 'enc_nn': [((50, 'tanh'), (50, 'tanh'))], 'use_rnn': [False], 'solver': ['euler'], 'weight': [0.5], 'weight_decay': [1.0], 'dataset': ['physionet'], 'quantization': [0.016], 'n_samples': [8000], 'saved_models_path': ['../data/saved_models_NJODE1_physionet_comparison/'], 'dataset_id': [1]}\n",
      "param_dict: {'epochs': [175], 'batch_size': [50], 'save_every': [1], 'learning_rate': [0.001], 'hidden_size': [41], 'bias': [True], 'dropout_rate': [0.1], 'ode_nn': [((200, 'tanh'), (200, 'tanh'))], 'readout_nn': [((200, 'tanh'), (200, 'tanh'))], 'enc_nn': [((200, 'tanh'), (200, 'tanh'))], 'use_rnn': [False], 'solver': ['euler'], 'weight': [0.5], 'weight_decay': [1.0], 'dataset': ['physionet'], 'quantization': [0.016], 'n_samples': [8000], 'saved_models_path': ['../data/saved_models_NJODE1_physionet_comparison/'], 'dataset_id': [1]}\n",
      "param_dict: {'epochs': [50], 'batch_size': [50], 'save_every': [1], 'learning_rate': [0.01], 'test_size': [0.2], 'seed': [398], 'hidden_size': [100], 'bias': [True], 'dropout_rate': [0.1], 'ode_nn': [((50, 'tanh'),)], 'readout_nn': [((50, 'tanh'),)], 'enc_nn': [((50, 'tanh'),)], 'use_rnn': [False, True], 'solver': ['euler'], 'weight': [0.5], 'weight_decay': [1.0], 'input_sig': [False, True], 'level': [2], 'use_sig_for_classifier': [False], 'data_dict': ['LOB_dict1', 'LOB_dict2', 'LOB_dict3'], 'which_loss': ['easy'], 'plot': [True], 'evaluate': [True], 'paths_to_plot': [(0, 1, 2, 3, 4)], 'output_midprice_only': [False], 'use_eval_on_train': [False], 'classifier_nn': [((50, 'tanh'),)], 'classifier_loss_weight': [1.0], 'saved_models_path': ['../data/saved_models_LOB/'], 'dataset_id': [1]}\n",
      "param_dict: {'epochs': [50], 'batch_size': [50], 'save_every': [1], 'learning_rate': [0.01], 'test_size': [0.2], 'seed': [398], 'hidden_size': [100], 'bias': [True], 'dropout_rate': [0.1], 'ode_nn': [((50, 'tanh'),)], 'readout_nn': [((50, 'tanh'),)], 'enc_nn': [((50, 'tanh'),)], 'use_rnn': [False, True], 'solver': ['euler'], 'weight': [0.5], 'weight_decay': [1.0], 'input_sig': [True], 'level': [2], 'use_sig_for_classifier': [True], 'data_dict': ['LOB_dict1', 'LOB_dict2', 'LOB_dict3'], 'which_loss': ['easy'], 'plot': [True], 'evaluate': [True], 'paths_to_plot': [(0, 1, 2, 3, 4)], 'output_midprice_only': [False], 'use_eval_on_train': [False], 'classifier_nn': [((50, 'tanh'),)], 'classifier_loss_weight': [1.0], 'saved_models_path': ['../data/saved_models_LOB/'], 'dataset_id': [1]}\n",
      "param_dict: {'epochs': [50], 'batch_size': [50], 'save_every': [1], 'learning_rate': [0.01], 'test_size': [0.2], 'seed': [398], 'hidden_size': [100], 'bias': [True], 'dropout_rate': [0.1], 'ode_nn': [((50, 'tanh'),)], 'readout_nn': [((50, 'tanh'),)], 'enc_nn': [((50, 'tanh'),)], 'use_rnn': [False], 'solver': ['euler'], 'weight': [0.5], 'weight_decay': [1.0], 'input_sig': [True], 'level': [2], 'use_sig_for_classifier': [False], 'data_dict': ['LOB_dict3'], 'which_loss': ['easy'], 'plot': [True], 'evaluate': [True], 'paths_to_plot': [(0, 1, 2, 3, 4)], 'output_midprice_only': [False, True], 'use_eval_on_train': [False], 'residual_enc_dec': [True], 'classifier_nn': [None, ((50, 'tanh'),)], 'classifier_loss_weight': [1.0], 'saved_models_path': ['../data/saved_models_LOB/'], 'dataset_id': [1]}\n",
      "param_dict: {'epochs': [200], 'batch_size': [50], 'save_every': [1], 'learning_rate': [0.001], 'dataset': ['retrain_LOB'], 'evaluate': [True], 'saved_models_path': ['../data/saved_models_retrain_LOB/'], 'load_model_id': [17, 18, 9, 10, 11, 12, 19, 20, 21, 22], 'load_saved_models_path': ['../data/saved_models_LOB/'], 'load_model_load_best': [True, False], 'dataset_id': [1]}\n",
      "param_dict: {'epochs': [1000], 'batch_size': [50], 'save_every': [1], 'learning_rate': [0.001], 'dataset': ['retrain_LOB'], 'evaluate': [True], 'saved_models_path': ['../data/saved_models_retrain_LOB/'], 'load_model_id': [17, 18, 9, 10, 11, 12, 19, 20, 21, 22], 'load_saved_models_path': ['../data/saved_models_LOB/'], 'load_model_load_best': [True, False], 'new_classifier_nn': [{'nn_desc': ((200, 'tanh'), (200, 'tanh')), 'dropout_rate': 0.1, 'bias': True}], 'dataset_id': [1]}\n",
      "param_dict: {'epochs': [1000], 'batch_size': [50], 'save_every': [1], 'learning_rate': [0.001], 'dataset': ['retrain_LOB'], 'evaluate': [True], 'saved_models_path': ['../data/saved_models_retrain_LOB/'], 'load_model_id': [17, 18, 9, 10, 11, 12, 19, 20, 21, 22], 'load_saved_models_path': ['../data/saved_models_LOB/'], 'load_model_load_best': [True, False], 'new_classifier_nn': [{'nn_desc': ((200, 'tanh'), (200, 'tanh'), (200, 'tanh'), (200, 'tanh')), 'dropout_rate': 0.1, 'bias': True}], 'dataset_id': [1]}\n",
      "param_dict: {'epochs': [50], 'batch_size': [50], 'save_every': [1], 'learning_rate': [0.01], 'test_size': [0.2], 'seed': [398], 'hidden_size': [100], 'bias': [True], 'dropout_rate': [0.1], 'ode_nn': [((50, 'tanh'),)], 'readout_nn': [((50, 'tanh'),)], 'enc_nn': [((50, 'tanh'),)], 'use_rnn': [False], 'solver': ['euler'], 'weight': [0.5], 'weight_decay': [1.0], 'input_sig': [True], 'level': [2], 'use_sig_for_classifier': [False], 'data_dict': ['LOB_dict_K_3', 'LOB_dict_K_6'], 'which_loss': ['easy'], 'plot': [True], 'evaluate': [True], 'paths_to_plot': [(0, 1, 2, 3, 4)], 'output_midprice_only': [False], 'use_eval_on_train': [False], 'residual_enc_dec': [True], 'classifier_nn': [((50, 'tanh'),)], 'classifier_loss_weight': [1.0], 'saved_models_path': ['../data/saved_models_LOB_K/'], 'dataset_id': [1]}\n",
      "param_dict: {'epochs': [200], 'batch_size': [50], 'save_every': [1], 'learning_rate': [0.001], 'dataset': ['retrain_LOB'], 'evaluate': [True], 'saved_models_path': ['../data/saved_models_retrain_LOB_K/'], 'load_model_id': [1, 2], 'load_saved_models_path': ['../data/saved_models_LOB_K/'], 'load_model_load_best': [True, False], 'dataset_id': [1]}\n",
      "param_dict: {'epochs': [1000], 'batch_size': [50], 'save_every': [1], 'learning_rate': [0.001], 'dataset': ['retrain_LOB'], 'evaluate': [True], 'saved_models_path': ['../data/saved_models_retrain_LOB_K/'], 'load_model_id': [1, 2], 'load_saved_models_path': ['../data/saved_models_LOB_K/'], 'load_model_load_best': [True, False], 'new_classifier_nn': [{'nn_desc': ((200, 'tanh'), (200, 'tanh')), 'dropout_rate': 0.1, 'bias': True}], 'dataset_id': [1]}\n",
      "param_dict: {'epochs': [1000], 'batch_size': [50], 'save_every': [1], 'learning_rate': [0.001], 'dataset': ['retrain_LOB'], 'evaluate': [True], 'saved_models_path': ['../data/saved_models_retrain_LOB_K/'], 'load_model_id': [1, 2], 'load_saved_models_path': ['../data/saved_models_LOB_K/'], 'load_model_load_best': [True, False], 'new_classifier_nn': [{'nn_desc': ((200, 'tanh'), (200, 'tanh'), (200, 'tanh'), (200, 'tanh')), 'dropout_rate': 0.1, 'bias': True}], 'dataset_id': [1]}\n",
      "param_dict: {'epochs': [50], 'batch_size': [50], 'save_every': [1], 'learning_rate': [0.01], 'test_size': [0.2], 'seed': [398], 'hidden_size': [100], 'bias': [True], 'dropout_rate': [0.1], 'ode_nn': [((50, 'tanh'),)], 'readout_nn': [((50, 'tanh'),)], 'enc_nn': [((50, 'tanh'),)], 'use_rnn': [False], 'solver': ['euler'], 'weight': [0.5], 'weight_decay': [1.0], 'input_sig': [True], 'level': [2], 'use_sig_for_classifier': [False], 'data_dict': ['LOB_dict3_2', 'LOB_dict_K_3_2', 'LOB_dict_K_6_2'], 'which_loss': ['easy'], 'plot': [True], 'evaluate': [True], 'paths_to_plot': [(0, 1, 2, 3, 4)], 'output_midprice_only': [False], 'use_eval_on_train': [False], 'residual_enc_dec': [True], 'classifier_nn': [((50, 'tanh'),)], 'classifier_loss_weight': [1.0], 'saved_models_path': ['../data/saved_models_LOB_n/'], 'dataset_id': [1]}\n",
      "param_dict: {'epochs': [200], 'batch_size': [50], 'save_every': [1], 'learning_rate': [0.001], 'dataset': ['retrain_LOB'], 'evaluate': [True], 'saved_models_path': ['../data/saved_models_retrain_LOB_n/'], 'load_model_id': [1, 2, 3], 'load_saved_models_path': ['../data/saved_models_LOB_n/'], 'load_model_load_best': [True, False], 'dataset_id': [1]}\n",
      "param_dict: {'epochs': [1000], 'batch_size': [50], 'save_every': [1], 'learning_rate': [0.001], 'dataset': ['retrain_LOB'], 'evaluate': [True], 'saved_models_path': ['../data/saved_models_retrain_LOB_n/'], 'load_model_id': [1, 2, 3], 'load_saved_models_path': ['../data/saved_models_LOB_n/'], 'load_model_load_best': [True, False], 'new_classifier_nn': [{'nn_desc': ((200, 'tanh'), (200, 'tanh')), 'dropout_rate': 0.1, 'bias': True}], 'dataset_id': [1]}\n",
      "param_dict: {'epochs': [1000], 'batch_size': [50], 'save_every': [1], 'learning_rate': [0.001], 'dataset': ['retrain_LOB'], 'evaluate': [True], 'saved_models_path': ['../data/saved_models_retrain_LOB_n/'], 'load_model_id': [1, 2, 3], 'load_saved_models_path': ['../data/saved_models_LOB_n/'], 'load_model_load_best': [True, False], 'new_classifier_nn': [{'nn_desc': ((200, 'tanh'), (200, 'tanh'), (200, 'tanh'), (200, 'tanh')), 'dropout_rate': 0.1, 'bias': True}], 'dataset_id': [1]}\n",
      "param_dict: {'epochs': [200], 'batch_size': [200], 'save_every': [1], 'learning_rate': [0.001], 'test_size': [0.2], 'seed': [398], 'hidden_size': [50], 'bias': [True], 'dropout_rate': [0.1], 'ode_nn': [((50, 'tanh'),)], 'readout_nn': [None], 'enc_nn': [((50, 'tanh'),)], 'func_appl_X': [[]], 'solver': ['euler'], 'weight': [0.5], 'weight_decay': [1.0], 'dataset': ['BM', 'BMandVar'], 'dataset_id': [None], 'which_loss': ['easy'], 'coord_wise_tau': [False], 'use_y_for_ode': [True], 'use_rnn': [False], 'masked': [False], 'plot': [True], 'evaluate': [True], 'paths_to_plot': [(0, 1, 2, 3, 4)], 'plot_same_yaxis': [True], 'train_readout_only': [True], 'saved_models_path': ['../data/saved_models_randNJODE/']}\n",
      "param_dict: {'epochs': [200], 'batch_size': [200], 'save_every': [1], 'learning_rate': [0.001], 'test_size': [0.2], 'seed': [398], 'hidden_size': [50, 200], 'bias': [True], 'dropout_rate': [0.1], 'ode_nn': [((50, 'tanh'),)], 'enc_nn': [((50, 'tanh'),)], 'func_appl_X': [[]], 'solver': ['euler'], 'weight': [0.5], 'weight_decay': [1.0], 'dataset': ['BM', 'BMandVar'], 'dataset_id': [None], 'which_loss': ['easy'], 'coord_wise_tau': [False], 'use_y_for_ode': [True], 'use_rnn': [False], 'masked': [False], 'plot': [True], 'evaluate': [True], 'paths_to_plot': [(0, 1, 2, 3, 4)], 'plot_same_yaxis': [True], 'other_model': ['randomizedNJODE'], 'saved_models_path': ['../data/saved_models_randNJODE/']}\n",
      "param_dict: {'epochs': [200], 'batch_size': [200], 'save_every': [1], 'learning_rate': [0.001], 'test_size': [0.2], 'seed': [398], 'hidden_size': [50, 200], 'bias': [True], 'dropout_rate': [0.1], 'ode_nn': [((50, 'tanh'),)], 'enc_nn': [((50, 'tanh'),)], 'func_appl_X': [[]], 'solver': ['euler'], 'weight': [0.5], 'weight_decay': [1.0], 'dataset': ['DoublePendulum'], 'dataset_id': [None], 'which_loss': ['easy'], 'coord_wise_tau': [False], 'use_y_for_ode': [True], 'use_rnn': [False], 'masked': [False], 'plot': [True], 'evaluate': [True], 'paths_to_plot': [(0, 1, 2, 3, 4)], 'plot_same_yaxis': [True], 'other_model': ['randomizedNJODE'], 'saved_models_path': ['../data/saved_models_randNJODE/']}\n",
      "param_dict: {'epochs': [200], 'batch_size': [200], 'save_every': [1], 'learning_rate': [0.001], 'test_size': [0.2], 'seed': [398], 'hidden_size': [50, 200], 'bias': [True], 'dropout_rate': [0.1], 'ode_nn': [((50, 'tanh'),)], 'enc_nn': [((50, 'tanh'),)], 'func_appl_X': [[]], 'solver': ['euler'], 'weight': [0.5], 'weight_decay': [1.0], 'data_dict': ['BlackScholes_dict'], 'dataset_id': [None], 'which_loss': ['easy'], 'coord_wise_tau': [False], 'use_y_for_ode': [True], 'use_rnn': [False, True], 'masked': [False], 'plot': [True], 'evaluate': [True], 'paths_to_plot': [(0, 1, 2, 3, 4)], 'plot_same_yaxis': [True], 'other_model': ['randomizedNJODE'], 'saved_models_path': ['../data/saved_models_randNJODE_BS/']}\n",
      "param_dict: {'epochs': [200], 'batch_size': [200], 'save_every': [1], 'learning_rate': [0.01, 0.001], 'test_size': [0.2], 'seed': [398], 'hidden_size': [None], 'bias': [True], 'dropout_rate': [0.1], 'ode_nn': [None], 'readout_nn': [None], 'enc_nn': [((100, 'tanh'),)], 'func_appl_X': [[]], 'solver': ['euler'], 'weight': [0.5], 'weight_decay': [1.0], 'dataset': ['BlackScholes'], 'dataset_id': [None], 'which_loss': ['easy'], 'coord_wise_tau': [False], 'use_y_for_ode': [True], 'use_rnn': [True, False], 'input_sig': [True, False], 'level': [2], 'masked': [False], 'plot': [True], 'evaluate': [True], 'paths_to_plot': [(0, 1, 2, 3, 4)], 'plot_same_yaxis': [True], 'other_model': ['NJmodel'], 'saved_models_path': ['../data/saved_models_NJmodel/']}\n",
      "param_dict: {'epochs': [200], 'batch_size': [200], 'save_every': [1], 'learning_rate': [0.001], 'test_size': [0.2], 'seed': [398], 'hidden_size': [50], 'bias': [True], 'dropout_rate': [0.1], 'ode_nn': [((100, 'tanh'),)], 'readout_nn': [None, ((100, 'tanh'),)], 'enc_nn': [((100, 'tanh'),)], 'func_appl_X': [[]], 'solver': ['euler'], 'weight': [0.5], 'weight_decay': [1.0], 'dataset': ['BlackScholes'], 'dataset_id': [None], 'which_loss': ['easy'], 'coord_wise_tau': [False], 'use_y_for_ode': [True], 'use_rnn': [True, False], 'input_sig': [True, False], 'level': [2], 'masked': [False], 'plot': [True], 'evaluate': [True], 'paths_to_plot': [(0, 1, 2, 3, 4)], 'plot_same_yaxis': [True], 'saved_models_path': ['../data/saved_models_NJmodel/']}\n",
      "param_dict: {'epochs': [200], 'batch_size': [200], 'save_every': [1], 'learning_rate': [0.001], 'test_size': [0.2], 'seed': [398], 'hidden_size': [None], 'bias': [True], 'dropout_rate': [0.1], 'ode_nn': [None], 'readout_nn': [None], 'enc_nn': [((2000, 'tanh'),), ((200, 'tanh'), (200, 'tanh'))], 'func_appl_X': [[]], 'solver': ['euler'], 'weight': [0.5], 'weight_decay': [1.0], 'dataset': ['BlackScholes'], 'dataset_id': [None], 'which_loss': ['easy'], 'coord_wise_tau': [False], 'use_y_for_ode': [True], 'use_rnn': [True], 'input_sig': [True], 'level': [2], 'masked': [False], 'plot': [True], 'evaluate': [True], 'paths_to_plot': [(0, 1, 2, 3, 4)], 'plot_same_yaxis': [True], 'other_model': ['NJmodel'], 'saved_models_path': ['../data/saved_models_NJmodel/']}\n",
      "param_dict: {'epochs': [200], 'batch_size': [200], 'save_every': [1], 'learning_rate': [0.001], 'test_size': [0.2], 'seed': [398], 'hidden_size': [50], 'bias': [True], 'dropout_rate': [0.1], 'ode_nn': [((50, 'tanh'), (50, 'tanh'))], 'readout_nn': [((50, 'tanh'), (50, 'tanh'))], 'enc_nn': [((50, 'tanh'), (50, 'tanh'))], 'func_appl_X': [[]], 'solver': ['euler'], 'weight': [0.5], 'weight_decay': [1.0], 'data_dict': ['BS_dep_obs_dict'], 'dataset_id': [None], 'which_loss': ['easy'], 'coord_wise_tau': [False], 'use_y_for_ode': [True], 'use_rnn': [True], 'input_sig': [True], 'level': [3], 'masked': [False], 'residual_dec': [True, False], 'plot': [True], 'evaluate': [True], 'paths_to_plot': [(0, 1, 2, 3, 4)], 'plot_same_yaxis': [True], 'plot_obs_prob': [True], 'saved_models_path': ['../data/saved_models_DepObservations/']}\n",
      "param_dict: {'epochs': [200], 'batch_size': [200], 'save_every': [1], 'learning_rate': [0.001], 'test_size': [0.2], 'seed': [398], 'hidden_size': [100], 'bias': [True], 'dropout_rate': [0.1], 'ode_nn': [((100, 'tanh'),)], 'readout_nn': [((100, 'tanh'),), None], 'enc_nn': [((100, 'tanh'),)], 'use_rnn': [True], 'residual_dec': [True, False], 'func_appl_X': [[]], 'solver': ['euler'], 'weight': [0.5], 'weight_decay': [1.0], 'input_sig': [True], 'level': [3], 'data_dict': ['BM_NoisyObs_dict'], 'which_loss': ['easy', 'noisy_obs'], 'coord_wise_tau': [False], 'use_y_for_ode': [True], 'masked': [False], 'plot': [True], 'evaluate': [True], 'paths_to_plot': [(0, 1, 2, 3, 4)], 'plot_same_yaxis': [True], 'saved_models_path': ['../data/saved_models_BMNoisyObs/'], 'dataset_id': [1]}\n",
      "param_dict: {'epochs': [200], 'batch_size': [200], 'save_every': [1], 'learning_rate': [0.001], 'test_size': [0.2], 'seed': [398], 'hidden_size': [100], 'bias': [True], 'dropout_rate': [0.1], 'ode_nn': [((100, 'relu'),)], 'readout_nn': [((100, 'relu'),), None], 'enc_nn': [((100, 'relu'),)], 'use_rnn': [True], 'residual_dec': [True, False], 'func_appl_X': [[]], 'solver': ['euler'], 'weight': [0.5], 'weight_decay': [1.0], 'input_sig': [True], 'level': [3], 'data_dict': ['BM_NoisyObs_dict'], 'which_loss': ['easy', 'noisy_obs'], 'coord_wise_tau': [False], 'use_y_for_ode': [True], 'masked': [False], 'plot': [True], 'evaluate': [True], 'paths_to_plot': [(0, 1, 2, 3, 4)], 'plot_same_yaxis': [True], 'saved_models_path': ['../data/saved_models_BMNoisyObs/'], 'dataset_id': [1]}\n",
      "param_dict: {'epochs': [100], 'batch_size': [50], 'save_every': [1], 'learning_rate': [0.001], 'test_size': [0.2], 'hidden_size': [50], 'bias': [True], 'dropout_rate': [0.1], 'ode_nn': [((50, 'tanh'),)], 'readout_nn': [((50, 'tanh'),)], 'enc_nn': [((50, 'tanh'),)], 'use_rnn': [True], 'solver': ['euler'], 'weight': [0.5], 'weight_decay': [1.0], 'input_sig': [True], 'level': [2], 'dataset': ['physionet'], 'dataset_id': [None], 'which_loss': ['easy', 'noisy_obs'], 'quantization': [0.016], 'n_samples': [8000], 'saved_models_path': ['../data/saved_models_PhysioNet_NJODE3/'], 'obs_noise': [{'std_factor': 0.0, 'seed': 333}, {'std_factor': 0.2, 'seed': 333}, {'std_factor': 0.4, 'seed': 333}, {'std_factor': 0.6, 'seed': 333}, {'std_factor': 0.8, 'seed': 333}, {'std_factor': 1.0, 'seed': 333}]}\n",
      "param_dict: {'epochs': [200], 'batch_size': [100], 'save_every': [1], 'learning_rate': [0.001], 'test_size': [0.2], 'seed': [398], 'hidden_size': [50], 'bias': [True], 'dropout_rate': [0.1], 'ode_nn': [((50, 'tanh'),)], 'readout_nn': [((50, 'tanh'),)], 'enc_nn': [((50, 'tanh'),)], 'use_rnn': [False, True], 'solver': ['euler'], 'weight': [0.5], 'weight_decay': [1.0], 'input_sig': [False, True], 'level': [2], 'dataset': ['climate'], 'data_index': [0, 1, 2, 3, 4], 'which_loss': ['easy', 'noisy_obs'], 'delta_t': [0.1], 'saved_models_path': ['../data/saved_models_Climate/'], 'dataset_id': [1]}\n",
      "param_dict: {'epochs': [200], 'batch_size': [200], 'save_every': [1], 'learning_rate': [0.001], 'test_size': [0.2], 'seed': [398], 'hidden_size': [400], 'bias': [True], 'dropout_rate': [0.1], 'ode_nn': [((200, 'tanh'),)], 'readout_nn': [((200, 'tanh'),)], 'enc_nn': [((200, 'tanh'),)], 'use_rnn': [True], 'func_appl_X': [[]], 'solver': ['euler'], 'weight': [0.5], 'weight_decay': [1.0], 'input_sig': [False], 'level': [3], 'data_dict': ['DP_dict3'], 'test_data_dict': ['DP_dict3_test'], 'which_loss': ['easy'], 'plot': [True], 'evaluate': [True], 'paths_to_plot': [(0, 1, 2, 3, 4)], 'saved_models_path': ['../data/saved_models_ODEexp_DoublePendulum/'], 'use_current_y_for_ode': [False, True], 'use_observation_as_input': [False, True, 0.5, 0.75, 0.25, 'lambda x: np.random.random(1) < 1-x/200', 'lambda x: np.random.random(1) < 1-x/100'], 'val_use_observation_as_input': [False], 'eval_use_true_paths': [True], 'dataset_id': [1]}\n",
      "param_dict: {'epochs': [300], 'batch_size': [200], 'save_every': [1], 'learning_rate': [0.001], 'test_size': [0.2], 'seed': [398], 'hidden_size': [400], 'bias': [True], 'dropout_rate': [0.1], 'ode_nn': [((200, 'tanh'),)], 'readout_nn': [((200, 'tanh'),)], 'enc_nn': [((200, 'tanh'),)], 'use_rnn': [True], 'func_appl_X': [[]], 'solver': ['euler'], 'weight': [0.5], 'weight_decay': [1.0], 'input_sig': [False], 'level': [3], 'data_dict': ['DP_dict4'], 'test_data_dict': ['DP_dict3_test'], 'which_loss': ['easy'], 'plot': [True], 'evaluate': [True], 'paths_to_plot': [(0, 1, 2, 3, 4)], 'saved_models_path': ['../data/saved_models_ODEexp_DoublePendulum/'], 'use_current_y_for_ode': [True], 'use_observation_as_input': ['lambda x: np.random.random() < 1-x/100'], 'val_use_observation_as_input': [False], 'eval_use_true_paths': [True], 'dataset_id': [1]}\n",
      "param_dict: {'epochs': [300], 'batch_size': [200], 'save_every': [1], 'learning_rate': [0.001], 'test_size': [0.2], 'seed': [398], 'hidden_size': [400], 'bias': [True], 'dropout_rate': [0.1], 'ode_nn': [((400, 'tanh'),)], 'readout_nn': [((400, 'tanh'),)], 'enc_nn': [((400, 'tanh'),)], 'use_rnn': [True], 'func_appl_X': [[]], 'solver': ['euler'], 'weight': [0.5], 'weight_decay': [1.0], 'input_sig': [False], 'level': [3], 'data_dict': ['DP_dict4'], 'test_data_dict': ['DP_dict3_test'], 'which_loss': ['easy'], 'plot': [True], 'evaluate': [True], 'paths_to_plot': [(0, 1, 2, 3, 4)], 'saved_models_path': ['../data/saved_models_ODEexp_DoublePendulum/'], 'use_current_y_for_ode': [True], 'use_observation_as_input': ['lambda x: np.random.random() < 1-x/100'], 'val_use_observation_as_input': [False], 'eval_use_true_paths': [True], 'dataset_id': [1]}\n",
      "param_dict: {'epochs': [300], 'batch_size': [200], 'save_every': [1], 'learning_rate': [0.001], 'test_size': [0.2], 'seed': [398], 'hidden_size': [400], 'bias': [True], 'dropout_rate': [0.1], 'ode_nn': [((200, 'tanh'), (200, 'tanh'))], 'readout_nn': [((200, 'tanh'), (200, 'tanh'))], 'enc_nn': [((200, 'tanh'), (200, 'tanh'))], 'use_rnn': [True], 'func_appl_X': [[]], 'solver': ['euler'], 'weight': [0.5], 'weight_decay': [1.0], 'input_sig': [False], 'level': [3], 'data_dict': ['DP_dict4'], 'test_data_dict': ['DP_dict3_test'], 'which_loss': ['easy'], 'plot': [True], 'evaluate': [True], 'paths_to_plot': [(0, 1, 2, 3, 4)], 'saved_models_path': ['../data/saved_models_ODEexp_DoublePendulum/'], 'use_current_y_for_ode': [True], 'use_observation_as_input': ['lambda x: np.random.random() < 1-x/100'], 'val_use_observation_as_input': [False], 'eval_use_true_paths': [True], 'dataset_id': [1]}\n",
      "param_dict: {'epochs': [300], 'batch_size': [200], 'save_every': [1], 'learning_rate': [0.001], 'test_size': [0.2], 'seed': [398], 'hidden_size': [400], 'bias': [True], 'dropout_rate': [0.1], 'ode_nn': [((200, 'relu'), (200, 'tanh'))], 'readout_nn': [((200, 'relu'), (200, 'tanh'))], 'enc_nn': [((200, 'relu'), (200, 'tanh'))], 'use_rnn': [True], 'func_appl_X': [[]], 'solver': ['euler'], 'weight': [0.5], 'weight_decay': [1.0], 'input_sig': [False], 'level': [3], 'data_dict': ['DP_dict4'], 'test_data_dict': ['DP_dict3_test'], 'which_loss': ['easy'], 'plot': [True], 'evaluate': [True], 'paths_to_plot': [(0, 1, 2, 3, 4)], 'saved_models_path': ['../data/saved_models_ODEexp_DoublePendulum/'], 'use_current_y_for_ode': [True], 'use_observation_as_input': ['lambda x: np.random.random() < 1-x/100'], 'val_use_observation_as_input': [False], 'eval_use_true_paths': [True], 'dataset_id': [1]}\n",
      "param_dict: {'epochs': [200], 'batch_size': [200], 'save_every': [1], 'learning_rate': [0.001], 'test_size': [0.2], 'seed': [398], 'hidden_size': [100], 'bias': [True], 'dropout_rate': [0.1], 'ode_nn': [((100, 'tanh'),)], 'readout_nn': [((100, 'tanh'),)], 'enc_nn': [((100, 'tanh'),)], 'use_rnn': [True], 'func_appl_X': [[]], 'solver': ['euler'], 'weight': [0.5], 'weight_decay': [1.0], 'input_sig': [True], 'level': [3], 'data_dict': ['BS_LT_dict'], 'test_data_dict': ['BS_LT_dict_test'], 'which_loss': ['easy'], 'plot': [True], 'evaluate': [True], 'paths_to_plot': [(0, 1, 2, 3, 4)], 'saved_models_path': ['../data/saved_models_BS_LongTerm/'], 'use_current_y_for_ode': [False, True], 'use_observation_as_input': [True, 'lambda x: np.random.random(1) < 1-x/100'], 'val_use_observation_as_input': [False], 'dataset_id': [1]}\n",
      "param_dict: {'epochs': [200], 'batch_size': [200], 'save_every': [1], 'learning_rate': [0.001], 'test_size': [0.2], 'seed': [398], 'hidden_size': [100], 'bias': [True], 'dropout_rate': [0.1], 'ode_nn': [((100, 'tanh'),)], 'readout_nn': [((100, 'tanh'),)], 'enc_nn': [((100, 'tanh'),)], 'use_rnn': [True], 'func_appl_X': [[]], 'solver': ['euler'], 'weight': [0.5], 'weight_decay': [1.0], 'input_sig': [True], 'level': [3], 'data_dict': ['BS_LT_dict2'], 'test_data_dict': ['BS_LT_dict2_test'], 'which_loss': ['easy'], 'plot': [True], 'evaluate': [True], 'paths_to_plot': [(0, 1, 2, 3, 4)], 'saved_models_path': ['../data/saved_models_BS_LongTerm/'], 'use_current_y_for_ode': [False, True], 'use_observation_as_input': [True, 'lambda x: np.random.random(1) < 1-x/100'], 'val_use_observation_as_input': [False], 'dataset_id': [1]}\n",
      "param_dict: {'epochs': [200], 'batch_size': [200], 'save_every': [1], 'learning_rate': [0.001], 'test_size': [0.2], 'seed': [398], 'hidden_size': [100], 'bias': [True], 'dropout_rate': [0.1], 'ode_nn': [((100, 'tanh'),)], 'readout_nn': [((100, 'tanh'),)], 'enc_nn': [((100, 'tanh'),)], 'use_rnn': [True], 'func_appl_X': [[]], 'solver': ['euler'], 'weight': [0.5], 'weight_decay': [1.0], 'input_sig': [True], 'level': [3], 'data_dict': ['BS_LT_dict1'], 'test_data_dict': ['BS_LT_dict_test'], 'which_loss': ['easy'], 'plot': [True], 'evaluate': [True], 'paths_to_plot': [(0, 1, 2, 3, 4)], 'saved_models_path': ['../data/saved_models_BS_LongTerm/'], 'use_current_y_for_ode': [False, True], 'use_observation_as_input': [True, 'lambda x: np.random.random(1) < 1-x/100'], 'val_use_observation_as_input': [False], 'dataset_id': [1]}\n",
      "param_dict: {'epochs': [175], 'batch_size': [50], 'save_every': [1], 'learning_rate': [0.001], 'test_size': [0.2], 'hidden_size': [50], 'bias': [True], 'dropout_rate': [0.1], 'ode_nn': [((50, 'tanh'),)], 'readout_nn': [((50, 'tanh'),)], 'enc_nn': [((50, 'tanh'),)], 'use_rnn': [True], 'solver': ['euler'], 'weight': [0.5], 'weight_decay': [1.0], 'input_sig': [True], 'level': [2], 'dataset': ['physionet'], 'dataset_id': [None], 'which_loss': ['easy'], 'quantization': [0.016], 'n_samples': [8000], 'saved_models_path': ['../data/saved_models_LongTerm_physionet/'], 'use_current_y_for_ode': [False, True], 'use_observation_as_input': ['lambda x: np.random.random(1) < 1-x/350', 'lambda x: np.random.random(1) < 1-(x-100)/150', 'lambda x: np.random.random(1) < 1-min(x-75,50)/200'], 'val_use_observation_as_input': [True]}\n",
      "param_dict: {'epochs': [200], 'batch_size': [200], 'save_every': [1], 'learning_rate': [0.001], 'test_size': [0.2], 'seed': [398], 'hidden_size': [100], 'bias': [True], 'dropout_rate': [0.1], 'ode_nn': [((100, 'tanh'),)], 'readout_nn': [((100, 'tanh'),), None], 'enc_nn': [((100, 'tanh'),)], 'use_rnn': [True, False], 'residual_enc_dec': [True, False], 'func_appl_X': [[]], 'solver': ['euler'], 'weight': [0.5], 'weight_decay': [1.0], 'input_sig': [True, False], 'level': [3], 'data_dict': ['PF_BSUP_dict1'], 'test_data_dict': ['PF_BSUP_dict1_test'], 'which_loss': ['IO'], 'coord_wise_tau': [False], 'use_y_for_ode': [False], 'masked': [False], 'plot': [True], 'evaluate': [True], 'paths_to_plot': [(0, 1, 2, 3, 4)], 'plot_same_yaxis': [False], 'use_cond_exp': [True], 'saved_models_path': ['../data/saved_models_BSUncertainParams/'], 'dataset_id': [1]}\n",
      "param_dict: {'epochs': [200], 'batch_size': [200], 'save_every': [1], 'learning_rate': [0.001], 'test_size': [0.2], 'seed': [398], 'hidden_size': [100], 'bias': [True], 'dropout_rate': [0.1], 'ode_nn': [((100, 'relu'),)], 'readout_nn': [((100, 'relu'),), None], 'enc_nn': [((100, 'relu'),)], 'use_rnn': [True, False], 'residual_enc_dec': [True, False], 'func_appl_X': [[]], 'solver': ['euler'], 'weight': [0.5], 'weight_decay': [1.0], 'input_sig': [True, False], 'level': [3], 'data_dict': ['PF_BSUP_dict1'], 'test_data_dict': ['PF_BSUP_dict1_test'], 'which_loss': ['IO'], 'coord_wise_tau': [False], 'use_y_for_ode': [False], 'masked': [False], 'plot': [True], 'evaluate': [True], 'paths_to_plot': [(0, 1, 2, 3, 4)], 'plot_same_yaxis': [False], 'use_cond_exp': [True], 'saved_models_path': ['../data/saved_models_BSUncertainParams/'], 'dataset_id': [1]}\n",
      "param_dict: {'epochs': [200], 'batch_size': [200], 'save_every': [1], 'learning_rate': [0.001], 'test_size': [0.2], 'seed': [398], 'hidden_size': [100], 'bias': [True], 'dropout_rate': [0.1], 'ode_nn': [((100, 'tanh'),)], 'readout_nn': [((100, 'tanh'),), None], 'enc_nn': [((100, 'tanh'),)], 'use_rnn': [True, False], 'residual_enc_dec': [True, False], 'func_appl_X': [[]], 'solver': ['euler'], 'weight': [0.5], 'weight_decay': [1.0], 'input_sig': [True, False], 'level': [3], 'data_dict': ['PF_BSUP_dict2'], 'test_data_dict': ['PF_BSUP_dict2_test'], 'which_loss': ['IO'], 'coord_wise_tau': [False], 'use_y_for_ode': [False], 'masked': [False], 'plot': [True], 'evaluate': [True], 'paths_to_plot': [(0, 1, 2, 3, 4)], 'plot_same_yaxis': [False], 'use_cond_exp': [True], 'saved_models_path': ['../data/saved_models_BSUncertainParams2/'], 'dataset_id': [1]}\n",
      "param_dict: {'epochs': [200], 'batch_size': [200], 'save_every': [1], 'learning_rate': [0.001], 'test_size': [0.2], 'seed': [398], 'hidden_size': [100], 'bias': [True], 'dropout_rate': [0.1], 'ode_nn': [((100, 'relu'),)], 'readout_nn': [((100, 'relu'),), None], 'enc_nn': [((100, 'relu'),)], 'use_rnn': [True, False], 'residual_enc_dec': [True, False], 'func_appl_X': [[]], 'solver': ['euler'], 'weight': [0.5], 'weight_decay': [1.0], 'input_sig': [True, False], 'level': [3], 'data_dict': ['PF_BSUP_dict2'], 'test_data_dict': ['PF_BSUP_dict2_test'], 'which_loss': ['IO'], 'coord_wise_tau': [False], 'use_y_for_ode': [False], 'masked': [False], 'plot': [True], 'evaluate': [True], 'paths_to_plot': [(0, 1, 2, 3, 4)], 'plot_same_yaxis': [False], 'use_cond_exp': [True], 'saved_models_path': ['../data/saved_models_BSUncertainParams2/'], 'dataset_id': [1]}\n",
      "param_dict: {'epochs': [200], 'batch_size': [200], 'save_every': [1], 'learning_rate': [0.001], 'test_size': [0.2], 'seed': [398], 'hidden_size': [200], 'bias': [True], 'dropout_rate': [0.1], 'ode_nn': [((100, 'relu'),)], 'readout_nn': [((100, 'relu'),)], 'enc_nn': [((100, 'relu'),)], 'use_rnn': [True], 'residual_enc_dec': [True], 'func_appl_X': [[]], 'solver': ['euler'], 'weight': [0.5], 'weight_decay': [1.0], 'input_sig': [True], 'level': [3], 'data_dict': ['PF_BSUP_dict_CS1_1'], 'test_data_dict': ['PF_BSUP_dict_CS1_test_1'], 'which_loss': ['IO'], 'coord_wise_tau': [False], 'use_y_for_ode': [False], 'masked': [False], 'plot': [True], 'evaluate': [True], 'paths_to_plot': [(0, 1, 2, 3, 4)], 'plot_same_yaxis': [False], 'use_cond_exp': [True], 'saved_models_path': ['../data/saved_models_BSUncertainParams_CS/'], 'dataset_id': [1]}\n",
      "param_dict: {'epochs': [200], 'batch_size': [200], 'save_every': [1], 'learning_rate': [0.001], 'test_size': [0.2], 'seed': [398], 'hidden_size': [200], 'bias': [True], 'dropout_rate': [0.1], 'ode_nn': [((100, 'relu'),)], 'readout_nn': [((100, 'relu'),)], 'enc_nn': [((100, 'relu'),)], 'use_rnn': [True], 'residual_enc_dec': [True], 'func_appl_X': [[]], 'solver': ['euler'], 'weight': [0.5], 'weight_decay': [1.0], 'input_sig': [True], 'level': [3], 'data_dict': ['PF_BSUP_dict_CS1_2'], 'test_data_dict': ['PF_BSUP_dict_CS1_test_2'], 'which_loss': ['IO'], 'coord_wise_tau': [False], 'use_y_for_ode': [False], 'masked': [False], 'plot': [True], 'evaluate': [True], 'paths_to_plot': [(0, 1, 2, 3, 4)], 'plot_same_yaxis': [False], 'use_cond_exp': [True], 'saved_models_path': ['../data/saved_models_BSUncertainParams_CS/'], 'dataset_id': [1]}\n",
      "param_dict: {'epochs': [200], 'batch_size': [200], 'save_every': [1], 'learning_rate': [0.001], 'test_size': [0.2], 'seed': [398], 'hidden_size': [200], 'bias': [True], 'dropout_rate': [0.1], 'ode_nn': [((100, 'relu'),)], 'readout_nn': [((100, 'relu'),)], 'enc_nn': [((100, 'relu'),)], 'use_rnn': [True], 'residual_enc_dec': [True], 'func_appl_X': [[]], 'solver': ['euler'], 'weight': [0.5], 'weight_decay': [1.0], 'input_sig': [True], 'level': [3], 'data_dict': ['PF_BSUP_dict_CS1_3'], 'test_data_dict': ['PF_BSUP_dict_CS1_test_3'], 'which_loss': ['IO'], 'coord_wise_tau': [False], 'use_y_for_ode': [False], 'masked': [False], 'plot': [True], 'evaluate': [True], 'paths_to_plot': [(0, 1, 2, 3, 4)], 'plot_same_yaxis': [False], 'use_cond_exp': [True], 'saved_models_path': ['../data/saved_models_BSUncertainParams_CS/'], 'dataset_id': [1]}\n",
      "param_dict: {'epochs': [200], 'batch_size': [200], 'save_every': [1], 'learning_rate': [0.001], 'test_size': [0.2], 'seed': [398], 'hidden_size': [200], 'bias': [True], 'dropout_rate': [0.1], 'ode_nn': [((100, 'relu'),)], 'readout_nn': [((100, 'relu'),)], 'enc_nn': [((100, 'relu'),)], 'use_rnn': [True], 'residual_enc_dec': [True], 'func_appl_X': [[]], 'solver': ['euler'], 'weight': [0.5], 'weight_decay': [1.0], 'input_sig': [True], 'level': [3], 'data_dict': ['PF_BSUP_dict_CS1_4'], 'test_data_dict': ['PF_BSUP_dict_CS1_test_4'], 'which_loss': ['IO'], 'coord_wise_tau': [False], 'use_y_for_ode': [False], 'masked': [False], 'plot': [True], 'evaluate': [True], 'paths_to_plot': [(0, 1, 2, 3, 4)], 'plot_same_yaxis': [False], 'use_cond_exp': [True], 'saved_models_path': ['../data/saved_models_BSUncertainParams_CS/'], 'dataset_id': [1]}\n",
      "param_dict: {'epochs': [200], 'batch_size': [200], 'save_every': [1], 'learning_rate': [0.001], 'test_size': [0.2], 'seed': [398], 'hidden_size': [200], 'bias': [True], 'dropout_rate': [0.1], 'ode_nn': [((100, 'relu'),)], 'readout_nn': [((100, 'relu'),)], 'enc_nn': [((100, 'relu'),)], 'use_rnn': [True], 'residual_enc_dec': [True], 'func_appl_X': [[]], 'solver': ['euler'], 'weight': [0.5], 'weight_decay': [1.0], 'input_sig': [True], 'level': [3], 'data_dict': ['PF_BSUP_dict_CS1_5'], 'test_data_dict': ['PF_BSUP_dict_CS1_test_5'], 'which_loss': ['IO'], 'coord_wise_tau': [False], 'use_y_for_ode': [False], 'masked': [False], 'plot': [True], 'evaluate': [True], 'paths_to_plot': [(0, 1, 2, 3, 4)], 'plot_same_yaxis': [False], 'use_cond_exp': [True], 'saved_models_path': ['../data/saved_models_BSUncertainParams_CS/'], 'dataset_id': [1]}\n",
      "param_dict: {'epochs': [200], 'batch_size': [200], 'save_every': [1], 'learning_rate': [0.001], 'test_size': [0.2], 'seed': [398], 'hidden_size': [200], 'bias': [True], 'dropout_rate': [0.1], 'ode_nn': [((100, 'relu'),)], 'readout_nn': [((100, 'relu'),)], 'enc_nn': [((100, 'relu'),)], 'use_rnn': [True], 'residual_enc_dec': [True], 'func_appl_X': [[]], 'solver': ['euler'], 'weight': [0.5], 'weight_decay': [1.0], 'input_sig': [True], 'level': [3], 'data_dict': ['PF_BSUP_dict_CS1_6'], 'test_data_dict': ['PF_BSUP_dict_CS1_test_6'], 'which_loss': ['IO'], 'coord_wise_tau': [False], 'use_y_for_ode': [False], 'masked': [False], 'plot': [True], 'evaluate': [True], 'paths_to_plot': [(0, 1, 2, 3, 4)], 'plot_same_yaxis': [False], 'use_cond_exp': [True], 'saved_models_path': ['../data/saved_models_BSUncertainParams_CS/'], 'dataset_id': [1]}\n",
      "param_dict: {'epochs': [200], 'batch_size': [200], 'save_every': [1], 'learning_rate': [0.001], 'test_size': [0.2], 'seed': [398], 'hidden_size': [200], 'bias': [True], 'dropout_rate': [0.1], 'ode_nn': [((100, 'relu'),)], 'readout_nn': [((100, 'relu'),)], 'enc_nn': [((100, 'relu'),)], 'use_rnn': [True], 'residual_enc_dec': [True], 'func_appl_X': [[]], 'solver': ['euler'], 'weight': [0.5], 'weight_decay': [1.0], 'input_sig': [True], 'level': [3], 'data_dict': ['PF_BSUP_dict_CS2_1'], 'test_data_dict': ['PF_BSUP_dict_CS2_test_1'], 'which_loss': ['IO'], 'coord_wise_tau': [False], 'use_y_for_ode': [False], 'masked': [False], 'plot': [True], 'evaluate': [True], 'paths_to_plot': [(0, 1, 2, 3, 4)], 'plot_same_yaxis': [False], 'use_cond_exp': [True], 'saved_models_path': ['../data/saved_models_BSUncertainParams_CS/'], 'dataset_id': [1]}\n",
      "param_dict: {'epochs': [200], 'batch_size': [200], 'save_every': [1], 'learning_rate': [0.001], 'test_size': [0.2], 'seed': [398], 'hidden_size': [200], 'bias': [True], 'dropout_rate': [0.1], 'ode_nn': [((100, 'relu'),)], 'readout_nn': [((100, 'relu'),)], 'enc_nn': [((100, 'relu'),)], 'use_rnn': [True], 'residual_enc_dec': [True], 'func_appl_X': [[]], 'solver': ['euler'], 'weight': [0.5], 'weight_decay': [1.0], 'input_sig': [True], 'level': [3], 'data_dict': ['PF_BSUP_dict_CS2_2'], 'test_data_dict': ['PF_BSUP_dict_CS2_test_2'], 'which_loss': ['IO'], 'coord_wise_tau': [False], 'use_y_for_ode': [False], 'masked': [False], 'plot': [True], 'evaluate': [True], 'paths_to_plot': [(0, 1, 2, 3, 4)], 'plot_same_yaxis': [False], 'use_cond_exp': [True], 'saved_models_path': ['../data/saved_models_BSUncertainParams_CS/'], 'dataset_id': [1]}\n",
      "param_dict: {'epochs': [200], 'batch_size': [200], 'save_every': [1], 'learning_rate': [0.001], 'test_size': [0.2], 'seed': [398], 'hidden_size': [200], 'bias': [True], 'dropout_rate': [0.1], 'ode_nn': [((100, 'relu'),)], 'readout_nn': [((100, 'relu'),)], 'enc_nn': [((100, 'relu'),)], 'use_rnn': [True], 'residual_enc_dec': [True], 'func_appl_X': [[]], 'solver': ['euler'], 'weight': [0.5], 'weight_decay': [1.0], 'input_sig': [True], 'level': [3], 'data_dict': ['PF_BSUP_dict_CS2_3'], 'test_data_dict': ['PF_BSUP_dict_CS2_test_3'], 'which_loss': ['IO'], 'coord_wise_tau': [False], 'use_y_for_ode': [False], 'masked': [False], 'plot': [True], 'evaluate': [True], 'paths_to_plot': [(0, 1, 2, 3, 4)], 'plot_same_yaxis': [False], 'use_cond_exp': [True], 'saved_models_path': ['../data/saved_models_BSUncertainParams_CS/'], 'dataset_id': [1]}\n",
      "param_dict: {'epochs': [200], 'batch_size': [200], 'save_every': [1], 'learning_rate': [0.001], 'test_size': [0.2], 'seed': [398], 'hidden_size': [200], 'bias': [True], 'dropout_rate': [0.1], 'ode_nn': [((100, 'relu'),)], 'readout_nn': [((100, 'relu'),)], 'enc_nn': [((100, 'relu'),)], 'use_rnn': [True], 'residual_enc_dec': [True], 'func_appl_X': [[]], 'solver': ['euler'], 'weight': [0.5], 'weight_decay': [1.0], 'input_sig': [True], 'level': [3], 'data_dict': ['PF_BSUP_dict_CS2_4'], 'test_data_dict': ['PF_BSUP_dict_CS2_test_4'], 'which_loss': ['IO'], 'coord_wise_tau': [False], 'use_y_for_ode': [False], 'masked': [False], 'plot': [True], 'evaluate': [True], 'paths_to_plot': [(0, 1, 2, 3, 4)], 'plot_same_yaxis': [False], 'use_cond_exp': [True], 'saved_models_path': ['../data/saved_models_BSUncertainParams_CS/'], 'dataset_id': [1]}\n",
      "param_dict: {'epochs': [200], 'batch_size': [200], 'save_every': [1], 'learning_rate': [0.001], 'test_size': [0.2], 'seed': [398], 'hidden_size': [200], 'bias': [True], 'dropout_rate': [0.1], 'ode_nn': [((100, 'relu'),)], 'readout_nn': [((100, 'relu'),)], 'enc_nn': [((100, 'relu'),)], 'use_rnn': [True], 'residual_enc_dec': [True], 'func_appl_X': [[]], 'solver': ['euler'], 'weight': [0.5], 'weight_decay': [1.0], 'input_sig': [True], 'level': [3], 'data_dict': ['PF_BSUP_dict_CS2_5'], 'test_data_dict': ['PF_BSUP_dict_CS2_test_5'], 'which_loss': ['IO'], 'coord_wise_tau': [False], 'use_y_for_ode': [False], 'masked': [False], 'plot': [True], 'evaluate': [True], 'paths_to_plot': [(0, 1, 2, 3, 4)], 'plot_same_yaxis': [False], 'use_cond_exp': [True], 'saved_models_path': ['../data/saved_models_BSUncertainParams_CS/'], 'dataset_id': [1]}\n",
      "param_dict: {'epochs': [200], 'batch_size': [200], 'save_every': [1], 'learning_rate': [0.001], 'test_size': [0.2], 'seed': [398], 'hidden_size': [200], 'bias': [True], 'dropout_rate': [0.1], 'ode_nn': [((100, 'relu'),)], 'readout_nn': [((100, 'relu'),)], 'enc_nn': [((100, 'relu'),)], 'use_rnn': [True], 'residual_enc_dec': [True], 'func_appl_X': [[]], 'solver': ['euler'], 'weight': [0.5], 'weight_decay': [1.0], 'input_sig': [True], 'level': [3], 'data_dict': ['PF_BSUP_dict_CS2_6'], 'test_data_dict': ['PF_BSUP_dict_CS2_test_6'], 'which_loss': ['IO'], 'coord_wise_tau': [False], 'use_y_for_ode': [False], 'masked': [False], 'plot': [True], 'evaluate': [True], 'paths_to_plot': [(0, 1, 2, 3, 4)], 'plot_same_yaxis': [False], 'use_cond_exp': [True], 'saved_models_path': ['../data/saved_models_BSUncertainParams_CS/'], 'dataset_id': [1]}\n",
      "param_dict: {'epochs': [200], 'batch_size': [200], 'save_every': [1], 'learning_rate': [0.001], 'test_size': [0.2], 'seed': [398], 'hidden_size': [100, 200], 'bias': [True], 'dropout_rate': [0.1], 'ode_nn': [((100, 'tanh'),)], 'readout_nn': [((100, 'tanh'),)], 'enc_nn': [((100, 'tanh'),)], 'use_rnn': [True, False], 'residual_enc_dec': [True], 'func_appl_X': [['power-2']], 'solver': ['euler'], 'weight': [0.5], 'weight_decay': [1.0], 'input_sig': [True, False], 'level': [3], 'data_dict': ['PF_BMwUD_dict1'], 'test_data_dict': ['PF_BMwUD_dict1_test'], 'which_loss': ['IO'], 'coord_wise_tau': [False], 'use_y_for_ode': [False], 'masked': [False], 'plot': [True], 'evaluate': [True], 'paths_to_plot': [(0, 1, 2, 3, 4)], 'plot_variance': [True], 'plot_same_yaxis': [False], 'use_cond_exp': [True], 'saved_models_path': ['../data/saved_models_BMwUncertainDrift/'], 'dataset_id': [1]}\n",
      "param_dict: {'epochs': [200], 'batch_size': [200], 'save_every': [1], 'learning_rate': [0.001], 'test_size': [0.2], 'seed': [398], 'hidden_size': [100, 200], 'bias': [True], 'dropout_rate': [0.1], 'ode_nn': [((100, 'tanh'),)], 'readout_nn': [((100, 'tanh'),)], 'enc_nn': [((100, 'tanh'),)], 'use_rnn': [True, False], 'residual_enc_dec': [True], 'func_appl_X': [[]], 'solver': ['euler'], 'weight': [0.5], 'weight_decay': [1.0], 'input_sig': [True, False], 'level': [3], 'data_dict': ['IO_BM_Filter_dict_1'], 'test_data_dict': ['IO_BM_Filter_dict_1_test'], 'which_loss': ['very_easy'], 'coord_wise_tau': [False], 'use_y_for_ode': [False], 'masked': [False], 'plot': [True], 'evaluate': [True], 'paths_to_plot': [(0, 1, 2, 3, 4)], 'plot_variance': [False], 'plot_same_yaxis': [False], 'use_cond_exp': [True], 'saved_models_path': ['../data/saved_models_IO_BMFilter/'], 'dataset_id': [1]}\n",
      "param_dict: {'epochs': [200], 'batch_size': [200], 'save_every': [1], 'learning_rate': [0.001], 'test_size': [0.2], 'seed': [398], 'hidden_size': [100], 'bias': [True], 'dropout_rate': [0.1], 'ode_nn': [((100, 'tanh'),)], 'readout_nn': [((100, 'tanh'),)], 'enc_nn': [((100, 'tanh'),)], 'use_rnn': [True], 'residual_enc_dec': [True], 'func_appl_X': [[]], 'solver': ['euler'], 'weight': [0.5], 'weight_decay': [1.0], 'input_sig': [True], 'level': [3], 'data_dict': ['IO_BS_dict'], 'test_data_dict': ['IO_BS_dict_test'], 'which_loss': ['IO', 'easy'], 'which_val_loss': ['jump'], 'coord_wise_tau': [False], 'use_y_for_ode': [False], 'masked': [False], 'plot': [True], 'evaluate': [True], 'paths_to_plot': [(0, 1, 2, 3, 4)], 'plot_same_yaxis': [False], 'use_cond_exp': [True], 'saved_models_path': ['../data/saved_models_BS_learn_jumps/'], 'dataset_id': [1]}\n",
      "param_dict: {'epochs': [200], 'batch_size': [200], 'save_every': [1], 'learning_rate': [0.001], 'test_size': [0.2], 'seed': [398], 'hidden_size': [100], 'bias': [True], 'dropout_rate': [0.1], 'ode_nn': [((100, 'relu'),)], 'readout_nn': [((100, 'relu'),)], 'enc_nn': [((100, 'relu'),)], 'use_rnn': [True], 'residual_enc_dec': [True], 'func_appl_X': [[]], 'solver': ['euler'], 'weight': [0.5], 'weight_decay': [1.0], 'input_sig': [True], 'level': [3], 'data_dict': ['IO_BS_dict'], 'test_data_dict': ['IO_BS_dict_test'], 'which_loss': ['IO', 'easy'], 'which_val_loss': ['jump'], 'coord_wise_tau': [False], 'use_y_for_ode': [False], 'masked': [False], 'plot': [True], 'evaluate': [True], 'paths_to_plot': [(0, 1, 2, 3, 4)], 'plot_same_yaxis': [False], 'use_cond_exp': [True], 'saved_models_path': ['../data/saved_models_BS_learn_jumps/'], 'dataset_id': [1]}\n",
      "param_dict: {'epochs': [200], 'batch_size': [200], 'save_every': [1], 'learning_rate': [0.001], 'test_size': [0.2], 'seed': [398], 'hidden_size': [200], 'bias': [True], 'dropout_rate': [0.1], 'ode_nn': [((100, 'tanh'),)], 'readout_nn': [((100, 'tanh'),)], 'enc_nn': [((100, 'tanh'),)], 'use_rnn': [True, False], 'residual_enc_dec': [True, False], 'func_appl_X': [[]], 'solver': ['euler'], 'weight': [0.5], 'weight_decay': [1.0], 'input_sig': [True, False], 'level': [3], 'data_dict': ['PF_CIR_dict1'], 'test_data_dict': ['PF_CIR_dict1_test'], 'which_loss': ['IO'], 'coord_wise_tau': [False], 'use_y_for_ode': [False], 'masked': [False], 'plot': [True], 'evaluate': [True], 'paths_to_plot': [(0, 1, 2, 3, 4)], 'plot_same_yaxis': [False], 'use_cond_exp': [True], 'saved_models_path': ['../data/saved_models_CIRUncertainParams/'], 'dataset_id': [1]}\n",
      "param_dict: {'epochs': [200], 'batch_size': [200], 'save_every': [1], 'learning_rate': [0.001], 'test_size': [0.2], 'seed': [398], 'hidden_size': [200], 'bias': [True], 'dropout_rate': [0.1], 'ode_nn': [((100, 'relu'),)], 'readout_nn': [((100, 'relu'),)], 'enc_nn': [((100, 'relu'),)], 'use_rnn': [True, False], 'residual_enc_dec': [True, False], 'func_appl_X': [[]], 'solver': ['euler'], 'weight': [0.5], 'weight_decay': [1.0], 'input_sig': [True, False], 'level': [3], 'data_dict': ['PF_CIR_dict1'], 'test_data_dict': ['PF_CIR_dict1_test'], 'which_loss': ['IO'], 'coord_wise_tau': [False], 'use_y_for_ode': [False], 'masked': [False], 'plot': [True], 'evaluate': [True], 'paths_to_plot': [(0, 1, 2, 3, 4)], 'plot_same_yaxis': [False], 'use_cond_exp': [True], 'saved_models_path': ['../data/saved_models_CIRUncertainParams/'], 'dataset_id': [1]}\n",
      "param_dict: {'epochs': [200], 'batch_size': [200], 'save_every': [1], 'learning_rate': [0.001], 'test_size': [0.2], 'seed': [398], 'hidden_size': [200], 'bias': [True], 'dropout_rate': [0.1], 'ode_nn': [((100, 'tanh'),)], 'readout_nn': [((100, 'tanh'),)], 'enc_nn': [((100, 'tanh'),)], 'use_rnn': [True, False], 'residual_enc_dec': [True, False], 'func_appl_X': [[]], 'solver': ['euler'], 'weight': [0.5], 'weight_decay': [1.0], 'input_sig': [True, False], 'level': [3], 'data_dict': ['PF_CIR_dict2'], 'test_data_dict': ['PF_CIR_dict2_test'], 'which_loss': ['IO'], 'coord_wise_tau': [False], 'use_y_for_ode': [False], 'masked': [False], 'plot': [True], 'evaluate': [True], 'paths_to_plot': [(0, 1, 2, 3, 4)], 'plot_same_yaxis': [False], 'use_cond_exp': [True], 'saved_models_path': ['../data/saved_models_CIRUncertainParams/'], 'dataset_id': [1]}\n",
      "param_dict: {'epochs': [200], 'batch_size': [200], 'save_every': [1], 'learning_rate': [0.001], 'test_size': [0.2], 'seed': [398], 'hidden_size': [200], 'bias': [True], 'dropout_rate': [0.1], 'ode_nn': [((100, 'relu'),)], 'readout_nn': [((100, 'relu'),)], 'enc_nn': [((100, 'relu'),)], 'use_rnn': [True, False], 'residual_enc_dec': [True, False], 'func_appl_X': [[]], 'solver': ['euler'], 'weight': [0.5], 'weight_decay': [1.0], 'input_sig': [True, False], 'level': [3], 'data_dict': ['PF_CIR_dict2'], 'test_data_dict': ['PF_CIR_dict2_test'], 'which_loss': ['IO'], 'coord_wise_tau': [False], 'use_y_for_ode': [False], 'masked': [False], 'plot': [True], 'evaluate': [True], 'paths_to_plot': [(0, 1, 2, 3, 4)], 'plot_same_yaxis': [False], 'use_cond_exp': [True], 'saved_models_path': ['../data/saved_models_CIRUncertainParams/'], 'dataset_id': [1]}\n",
      "param_dict: {'epochs': [200], 'batch_size': [200], 'save_every': [1], 'learning_rate': [0.001], 'test_size': [0.2], 'seed': [398], 'hidden_size': [200], 'bias': [True], 'dropout_rate': [0.1], 'ode_nn': [((100, 'tanh'),)], 'readout_nn': [((100, 'tanh'),)], 'enc_nn': [((100, 'tanh'),)], 'use_rnn': [True, False], 'residual_enc_dec': [True, False], 'func_appl_X': [[]], 'solver': ['euler'], 'weight': [0.5], 'weight_decay': [1.0], 'input_sig': [True, False], 'level': [3], 'data_dict': ['PF_CIR_dict3'], 'test_data_dict': ['PF_CIR_dict3_test'], 'which_loss': ['IO'], 'coord_wise_tau': [False], 'use_y_for_ode': [False], 'masked': [False], 'plot': [True], 'evaluate': [True], 'paths_to_plot': [(0, 1, 2, 3, 4)], 'plot_same_yaxis': [False], 'use_cond_exp': [True], 'saved_models_path': ['../data/saved_models_CIRUncertainParams/'], 'dataset_id': [1]}\n",
      "param_dict: {'epochs': [200], 'batch_size': [200], 'save_every': [1], 'learning_rate': [0.001], 'test_size': [0.2], 'seed': [398], 'hidden_size': [200], 'bias': [True], 'dropout_rate': [0.1], 'ode_nn': [((100, 'relu'),)], 'readout_nn': [((100, 'relu'),)], 'enc_nn': [((100, 'relu'),)], 'use_rnn': [True, False], 'residual_enc_dec': [True, False], 'func_appl_X': [[]], 'solver': ['euler'], 'weight': [0.5], 'weight_decay': [1.0], 'input_sig': [True, False], 'level': [3], 'data_dict': ['PF_CIR_dict3'], 'test_data_dict': ['PF_CIR_dict3_test'], 'which_loss': ['IO'], 'coord_wise_tau': [False], 'use_y_for_ode': [False], 'masked': [False], 'plot': [True], 'evaluate': [True], 'paths_to_plot': [(0, 1, 2, 3, 4)], 'plot_same_yaxis': [False], 'use_cond_exp': [True], 'saved_models_path': ['../data/saved_models_CIRUncertainParams/'], 'dataset_id': [1]}\n",
      "param_dict: {'epochs': [200], 'batch_size': [200], 'save_every': [1], 'learning_rate': [0.001], 'test_size': [0.2], 'seed': [398], 'hidden_size': [200], 'bias': [True], 'dropout_rate': [0.1], 'ode_nn': [((100, 'tanh'),)], 'readout_nn': [((100, 'tanh'),)], 'enc_nn': [((100, 'tanh'),)], 'use_rnn': [True, False], 'residual_enc_dec': [True, False], 'func_appl_X': [[]], 'solver': ['euler'], 'weight': [0.5], 'weight_decay': [1.0], 'input_sig': [True, False], 'level': [3], 'data_dict': ['PF_CIR_dict4'], 'test_data_dict': ['PF_CIR_dict4_test'], 'which_loss': ['IO'], 'coord_wise_tau': [False], 'use_y_for_ode': [False], 'masked': [False], 'plot': [True], 'evaluate': [True], 'paths_to_plot': [(0, 1, 2, 3, 4)], 'plot_same_yaxis': [False], 'use_cond_exp': [True], 'saved_models_path': ['../data/saved_models_CIRUncertainParams/'], 'dataset_id': [1]}\n",
      "param_dict: {'epochs': [200], 'batch_size': [200], 'save_every': [1], 'learning_rate': [0.001], 'test_size': [0.2], 'seed': [398], 'hidden_size': [200], 'bias': [True], 'dropout_rate': [0.1], 'ode_nn': [((100, 'relu'),)], 'readout_nn': [((100, 'relu'),)], 'enc_nn': [((100, 'relu'),)], 'use_rnn': [True, False], 'residual_enc_dec': [True, False], 'func_appl_X': [[]], 'solver': ['euler'], 'weight': [0.5], 'weight_decay': [1.0], 'input_sig': [True, False], 'level': [3], 'data_dict': ['PF_CIR_dict4'], 'test_data_dict': ['PF_CIR_dict4_test'], 'which_loss': ['IO'], 'coord_wise_tau': [False], 'use_y_for_ode': [False], 'masked': [False], 'plot': [True], 'evaluate': [True], 'paths_to_plot': [(0, 1, 2, 3, 4)], 'plot_same_yaxis': [False], 'use_cond_exp': [True], 'saved_models_path': ['../data/saved_models_CIRUncertainParams/'], 'dataset_id': [1]}\n",
      "param_dict: {'epochs': [200], 'batch_size': [200], 'save_every': [1], 'learning_rate': [0.001], 'test_size': [0.2], 'seed': [398], 'hidden_size': [200], 'bias': [True], 'dropout_rate': [0.1], 'ode_nn': [((100, 'tanh'),)], 'readout_nn': [((100, 'tanh'),)], 'enc_nn': [((100, 'tanh'),)], 'use_rnn': [True, False], 'residual_enc_dec': [True, False], 'func_appl_X': [[]], 'solver': ['euler'], 'weight': [0.5], 'weight_decay': [1.0], 'input_sig': [True, False], 'level': [3], 'data_dict': ['IO_BMClass_dict'], 'test_data_dict': ['IO_BMClass_dict_test'], 'which_loss': ['IO'], 'coord_wise_tau': [False], 'use_y_for_ode': [False], 'masked': [False], 'plot': [True], 'evaluate': [True], 'paths_to_plot': [(0, 1, 2, 3, 4)], 'plot_same_yaxis': [False], 'use_cond_exp': [True], 'saved_models_path': ['../data/saved_models_BMClassification/'], 'dataset_id': [1]}\n",
      "param_dict: {'epochs': [200], 'batch_size': [200], 'save_every': [1], 'learning_rate': [0.001], 'test_size': [0.2], 'seed': [398], 'hidden_size': [200], 'bias': [True], 'dropout_rate': [0.1], 'ode_nn': [((100, 'relu'),)], 'readout_nn': [((100, 'relu'),)], 'enc_nn': [((100, 'relu'),)], 'use_rnn': [True, False], 'residual_enc_dec': [True, False], 'func_appl_X': [[]], 'solver': ['euler'], 'weight': [0.5], 'weight_decay': [1.0], 'input_sig': [True, False], 'level': [3], 'data_dict': ['IO_BMClass_dict'], 'test_data_dict': ['IO_BMClass_dict_test'], 'which_loss': ['IO'], 'coord_wise_tau': [False], 'use_y_for_ode': [False], 'masked': [False], 'plot': [True], 'evaluate': [True], 'paths_to_plot': [(0, 1, 2, 3, 4)], 'plot_same_yaxis': [False], 'use_cond_exp': [True], 'saved_models_path': ['../data/saved_models_BMClassification/'], 'dataset_id': [1]}\n",
      "param_dict: {'epochs': [200], 'batch_size': [200], 'save_every': [1], 'learning_rate': [0.001], 'test_size': [0.2], 'seed': [398], 'hidden_size': [400], 'bias': [True], 'dropout_rate': [0.1], 'ode_nn': [((200, 'tanh'),)], 'readout_nn': [((200, 'tanh'),)], 'enc_nn': [((200, 'tanh'),)], 'use_rnn': [True, False], 'func_appl_X': [[]], 'solver': ['euler'], 'weight': [0.5], 'weight_decay': [1.0], 'input_sig': [False, True], 'level': [3], 'residual_enc_dec': [False, True], 'data_dict': ['BM_Quantiles'], 'test_data_dict': ['BM_Quantiles_test'], 'which_loss': ['quantile_jump', 'quantile'], 'loss_quantiles': [[0.1, 0.5, 0.9]], 'which_val_loss': ['quantile'], 'plot': [True], 'evaluate': [True], 'paths_to_plot': [(0, 1, 2, 3, 4)], 'saved_models_path': ['../data/saved_models_BMandQuantiles/'], 'use_current_y_for_ode': [False], 'use_y_for_ode': [False], 'use_observation_as_input': [True, 'lambda x: np.random.random(1) < 1-x/200'], 'dataset_id': [1]}\n",
      "param_dict: {'epochs': [200], 'batch_size': [200], 'save_every': [5], 'learning_rate': [0.001], 'test_size': [0.2], 'seed': [398], 'hidden_size': [10], 'bias': [True], 'dropout_rate': [0.1], 'ode_nn': [((50, 'tanh'), (50, 'tanh'))], 'readout_nn': [((50, 'tanh'), (50, 'tanh'))], 'enc_nn': [((50, 'tanh'), (50, 'tanh'))], 'use_rnn': [False], 'func_appl_X': [[]], 'solver': ['euler'], 'weight': [0.5], 'weight_decay': [1.0], 'data_dict': ['poisson_pp_dict'], 'plot': [True], 'evaluate': [True], 'paths_to_plot': [(0, 1, 2, 3, 4)], 'saved_models_path': ['../data/saved_models_PPP/'], 'dataset_id': [1]}\n",
      "param_dict: {'epochs': [200], 'batch_size': [200], 'save_every': [1], 'learning_rate': [0.001], 'test_size': [0.2], 'seed': [398], 'hidden_size': [10, 50], 'bias': [True], 'dropout_rate': [0.1], 'ode_nn': [((50, 'tanh'), (50, 'tanh'))], 'readout_nn': [((50, 'tanh'), (50, 'tanh'))], 'enc_nn': [((50, 'tanh'), (50, 'tanh'))], 'use_rnn': [False], 'func_appl_X': [[]], 'solver': ['euler'], 'weight': [0.5], 'weight_decay': [1.0], 'data_dict': ['FBM_1_dict'], 'plot': [True], 'evaluate': [True], 'paths_to_plot': [(0, 1, 2, 3, 4)], 'saved_models_path': ['../data/saved_models_FBM/'], 'dataset_id': [1]}\n",
      "param_dict: {'epochs': [200], 'batch_size': [50, 200], 'save_every': [1], 'learning_rate': [0.001], 'test_size': [0.2], 'seed': [398], 'hidden_size': [10, 50], 'bias': [True], 'dropout_rate': [0.1], 'ode_nn': [((50, 'tanh'), (50, 'tanh'))], 'readout_nn': [((50, 'tanh'), (50, 'tanh'))], 'enc_nn': [((50, 'tanh'), (50, 'tanh'))], 'use_rnn': [False], 'func_appl_X': [[]], 'solver': ['euler'], 'weight': [0.5], 'weight_decay': [1.0], 'input_sig': [True], 'level': [2, 3], 'data_dict': ['FBM_1_dict'], 'which_loss': ['standard', 'easy'], 'plot': [True], 'evaluate': [True], 'paths_to_plot': [(0, 1, 2, 3, 4)], 'saved_models_path': ['../data/saved_models_FBM/'], 'dataset_id': [1]}\n",
      "param_dict: {'epochs': [200], 'batch_size': [50, 200], 'save_every': [1], 'learning_rate': [0.001], 'test_size': [0.2], 'seed': [398], 'hidden_size': [10, 50], 'bias': [True], 'dropout_rate': [0.1], 'ode_nn': [((200, 'tanh'), (200, 'tanh'))], 'readout_nn': [((200, 'tanh'), (200, 'tanh'))], 'enc_nn': [((200, 'tanh'), (200, 'tanh'))], 'use_rnn': [False], 'func_appl_X': [[]], 'solver': ['euler'], 'weight': [0.5], 'weight_decay': [1.0], 'input_sig': [True], 'level': [2, 3], 'data_dict': ['FBM_1_dict'], 'which_loss': ['standard', 'easy'], 'plot': [True], 'evaluate': [True], 'paths_to_plot': [(0, 1, 2, 3, 4)], 'saved_models_path': ['../data/saved_models_FBM/'], 'dataset_id': [1]}\n",
      "param_dict: {'epochs': [200], 'batch_size': [200], 'save_every': [1], 'learning_rate': [0.001], 'test_size': [0.2], 'seed': [398], 'hidden_size': [50, 100], 'bias': [True], 'dropout_rate': [0.1], 'ode_nn': [((200, 'tanh'), (200, 'tanh'))], 'readout_nn': [((200, 'tanh'), (200, 'tanh')), None], 'enc_nn': [((200, 'tanh'), (200, 'tanh'))], 'use_rnn': [True], 'func_appl_X': [[]], 'solver': ['euler'], 'weight': [0.5], 'weight_decay': [1.0], 'input_sig': [True, False], 'level': [3], 'data_dict': ['FBM_1_dict'], 'which_loss': ['easy'], 'plot': [True], 'evaluate': [True], 'paths_to_plot': [(0, 1, 2, 3, 4)], 'saved_models_path': ['../data/saved_models_FBM/'], 'dataset_id': [1]}\n",
      "param_dict: {'epochs': [200], 'batch_size': [200], 'save_every': [1], 'learning_rate': [0.001], 'test_size': [0.2], 'seed': [398], 'hidden_size': [50, 100], 'bias': [True], 'dropout_rate': [0.1], 'ode_nn': [((200, 'tanh'), (200, 'tanh'))], 'readout_nn': [((200, 'tanh'), (200, 'tanh'))], 'enc_nn': [((200, 'tanh'), (200, 'tanh'))], 'use_rnn': [False], 'func_appl_X': [[]], 'solver': ['euler'], 'weight': [0.5], 'weight_decay': [1.0], 'input_sig': [False], 'level': [3], 'data_dict': ['FBM_1_dict'], 'which_loss': ['easy'], 'plot': [True], 'evaluate': [True], 'paths_to_plot': [(0, 1, 2, 3, 4)], 'saved_models_path': ['../data/saved_models_FBM/'], 'dataset_id': [1]}\n",
      "param_dict: {'epochs': [200], 'batch_size': [200], 'save_every': [1], 'learning_rate': [0.001], 'test_size': [0.2], 'seed': [398], 'hidden_size': [50], 'bias': [True], 'dropout_rate': [0.1], 'ode_nn': [((200, 'tanh'), (200, 'tanh'))], 'readout_nn': [((200, 'tanh'), (200, 'tanh'))], 'enc_nn': [((200, 'tanh'), (200, 'tanh'))], 'use_rnn': [True], 'func_appl_X': [[]], 'solver': ['euler'], 'weight': [0.5], 'weight_decay': [1.0], 'input_sig': [True], 'level': [1, 2, 4, 5, 6, 7, 8, 9, 10], 'data_dict': ['FBM_1_dict'], 'which_loss': ['easy'], 'plot': [True], 'evaluate': [True], 'paths_to_plot': [(0, 1, 2, 3, 4)], 'saved_models_path': ['../data/saved_models_FBM/'], 'dataset_id': [1]}\n",
      "param_dict: {'epochs': [200], 'batch_size': [200], 'save_every': [1], 'learning_rate': [0.001], 'test_size': [0.2], 'seed': [398], 'hidden_size': [50], 'bias': [True], 'dropout_rate': [0.1], 'ode_nn': [((200, 'tanh'), (200, 'tanh'))], 'readout_nn': [((200, 'tanh'), (200, 'tanh'))], 'enc_nn': [((200, 'tanh'), (200, 'tanh'))], 'use_rnn': [True], 'func_appl_X': [[]], 'solver': ['euler'], 'weight': [0.5], 'weight_decay': [1.0], 'input_sig': [True], 'level': [1, 2, 4, 5, 6, 7, 8, 9, 10], 'data_dict': ['FBM_1_dict'], 'which_loss': ['easy'], 'plot': [True], 'evaluate': [True], 'paths_to_plot': [(0, 1, 2, 3, 4)], 'saved_models_path': ['../data/saved_models_FBM/'], 'dataset_id': [1]}\n",
      "param_dict: {'epochs': [200], 'batch_size': [200], 'save_every': [1], 'learning_rate': [0.001], 'test_size': [0.2], 'seed': [398], 'hidden_size': [100], 'bias': [True], 'dropout_rate': [0.1], 'ode_nn': [((100, 'tanh'),)], 'readout_nn': [((100, 'tanh'),), None], 'enc_nn': [((100, 'tanh'),)], 'use_rnn': [True], 'func_appl_X': [[]], 'solver': ['euler'], 'weight': [0.5], 'weight_decay': [1.0], 'input_sig': [True], 'level': [2], 'dataset': ['BM2DCorr'], 'dataset_id': [None], 'which_loss': ['easy'], 'coord_wise_tau': [False], 'use_y_for_ode': [True], 'masked': [True], 'plot': [True], 'evaluate': [True], 'paths_to_plot': [(0, 1, 2, 3, 4)], 'plot_same_yaxis': [True], 'saved_models_path': ['../data/saved_models_BM2D/']}\n",
      "param_dict: {'epochs': [200], 'batch_size': [200], 'save_every': [1], 'learning_rate': [0.001], 'test_size': [0.2], 'seed': [398], 'hidden_size': [100], 'bias': [True], 'dropout_rate': [0.1], 'ode_nn': [((100, 'relu'),)], 'readout_nn': [((100, 'relu'),), None], 'enc_nn': [((100, 'relu'),)], 'use_rnn': [True], 'func_appl_X': [[]], 'solver': ['euler'], 'weight': [0.5], 'weight_decay': [1.0], 'input_sig': [True], 'level': [2], 'dataset': ['BM2DCorr'], 'dataset_id': [None], 'which_loss': ['easy'], 'coord_wise_tau': [False], 'use_y_for_ode': [True], 'masked': [True], 'plot': [True], 'evaluate': [True], 'paths_to_plot': [(0, 1, 2, 3, 4)], 'plot_same_yaxis': [True], 'saved_models_path': ['../data/saved_models_BM2D/']}\n",
      "param_dict: {'epochs': [200], 'batch_size': [200], 'save_every': [1], 'learning_rate': [0.001], 'test_size': [0.2], 'seed': [398], 'hidden_size': [50], 'bias': [True], 'dropout_rate': [0.1], 'ode_nn': [((50, 'tanh'),)], 'readout_nn': [None], 'enc_nn': [((50, 'tanh'),)], 'func_appl_X': [[]], 'solver': ['euler'], 'weight': [0.5], 'weight_decay': [1.0], 'dataset': ['BMandVar'], 'dataset_id': [None], 'which_loss': ['easy'], 'coord_wise_tau': [False], 'use_y_for_ode': [True], 'use_rnn': [False], 'masked': [False], 'plot': [True], 'evaluate': [True], 'paths_to_plot': [(0, 1, 2, 3, 4)], 'plot_same_yaxis': [True], 'saved_models_path': ['../data/saved_models_BMandVar/']}\n",
      "param_dict: {'epochs': [200], 'batch_size': [200], 'save_every': [1], 'learning_rate': [0.001], 'test_size': [0.2], 'seed': [398], 'hidden_size': [50], 'bias': [True], 'dropout_rate': [0.1], 'ode_nn': [((50, 'tanh'),)], 'readout_nn': [None], 'enc_nn': [((50, 'tanh'),)], 'func_appl_X': [['power-2']], 'solver': ['euler'], 'weight': [0.5], 'weight_decay': [1.0], 'dataset': ['BM'], 'dataset_id': [None], 'which_loss': ['easy'], 'coord_wise_tau': [False], 'use_y_for_ode': [True], 'use_rnn': [False], 'masked': [False], 'plot': [True], 'plot_variance': [True], 'evaluate': [True], 'paths_to_plot': [(0, 1, 2, 3, 4)], 'plot_same_yaxis': [True], 'saved_models_path': ['../data/saved_models_BMandVar/']}\n",
      "param_dict: {'epochs': [200], 'batch_size': [200], 'save_every': [1], 'learning_rate': [0.001], 'test_size': [0.2], 'seed': [398], 'hidden_size': [50], 'bias': [True], 'dropout_rate': [0.1], 'ode_nn': [((50, 'tanh'), (50, 'tanh'))], 'readout_nn': [((50, 'tanh'), (50, 'tanh'))], 'enc_nn': [((50, 'tanh'), (50, 'tanh'))], 'func_appl_X': [[]], 'solver': ['euler'], 'weight': [0.5], 'weight_decay': [1.0], 'data_dict': ['BS_dep_intensity_dict'], 'dataset_id': [None], 'which_loss': ['easy'], 'coord_wise_tau': [False], 'use_y_for_ode': [True], 'use_rnn': [False], 'masked': [False], 'plot': [True], 'evaluate': [True], 'paths_to_plot': [(0, 1, 2, 3, 4)], 'plot_same_yaxis': [True], 'saved_models_path': ['../data/saved_models_DepIntensity/']}\n",
      "param_dict: {'epochs': [200], 'batch_size': [200], 'save_every': [1], 'learning_rate': [0.001], 'test_size': [0.2], 'seed': [398], 'hidden_size': [50], 'bias': [True], 'dropout_rate': [0.1], 'ode_nn': [((50, 'tanh'), (50, 'tanh'))], 'readout_nn': [((50, 'tanh'), (50, 'tanh'))], 'enc_nn': [((50, 'tanh'), (50, 'tanh'))], 'func_appl_X': [[]], 'solver': ['euler'], 'weight': [0.5], 'weight_decay': [1.0], 'data_dict': ['BS_dep_intensity_dict'], 'dataset_id': [None], 'which_loss': ['easy'], 'coord_wise_tau': [False], 'use_y_for_ode': [True], 'use_rnn': [True], 'input_sig': [True], 'level': [3], 'masked': [False], 'plot': [True], 'evaluate': [True], 'paths_to_plot': [(0, 1, 2, 3, 4)], 'plot_same_yaxis': [True], 'saved_models_path': ['../data/saved_models_DepIntensity/']}\n",
      "param_dict: {'epochs': [175], 'batch_size': [50], 'save_every': [1], 'learning_rate': [0.001], 'test_size': [0.2], 'hidden_size': [50], 'bias': [True], 'dropout_rate': [0.1], 'ode_nn': [((50, 'tanh'),)], 'readout_nn': [((50, 'tanh'),)], 'enc_nn': [((50, 'tanh'),)], 'use_rnn': [True], 'solver': ['euler'], 'weight': [0.5], 'weight_decay': [1.0], 'input_sig': [True], 'level': [2], 'dataset': ['physionet'], 'dataset_id': [None], 'which_loss': ['easy'], 'quantization': [0.016], 'n_samples': [8000], 'saved_models_path': ['../data/saved_models_PhysioNet/']}\n",
      "param_dict: {'epochs': [175], 'batch_size': [50], 'save_every': [1], 'learning_rate': [0.001], 'test_size': [0.2], 'hidden_size': [50], 'bias': [True], 'dropout_rate': [0.1], 'ode_nn': [((50, 'tanh'),)], 'readout_nn': [((50, 'tanh'),)], 'enc_nn': [((50, 'tanh'),)], 'use_rnn': [True], 'solver': ['euler'], 'weight': [0.5], 'weight_decay': [1.0], 'input_sig': [True], 'level': [2], 'dataset': ['physionet'], 'dataset_id': [None], 'which_loss': ['easy'], 'quantization': [0.016], 'n_samples': [8000], 'saved_models_path': ['../data/saved_models_PhysioNet/']}\n",
      "param_dict: {'epochs': [200], 'batch_size': [100], 'save_every': [1], 'learning_rate': [0.001], 'test_size': [0.2], 'seed': [398], 'hidden_size': [50, 100], 'bias': [True], 'dropout_rate': [0.1], 'ode_nn': [((50, 'tanh'),)], 'readout_nn': [((50, 'tanh'),)], 'enc_nn': [((50, 'tanh'),)], 'use_rnn': [True], 'solver': ['euler'], 'weight': [0.5], 'weight_decay': [1.0], 'input_sig': [False, True], 'level': [2], 'dataset': ['climate'], 'data_index': [0, 1, 2, 3, 4], 'which_loss': ['easy'], 'delta_t': [0.1], 'saved_models_path': ['../data/saved_models_Climate/'], 'dataset_id': [1]}\n",
      "param_dict: {'epochs': [200], 'batch_size': [100], 'save_every': [1], 'learning_rate': [0.001], 'test_size': [0.2], 'seed': [398], 'hidden_size': [50, 100], 'bias': [True], 'dropout_rate': [0.1], 'ode_nn': [((200, 'tanh'), (200, 'tanh'))], 'readout_nn': [((200, 'tanh'), (200, 'tanh'))], 'enc_nn': [((200, 'tanh'), (200, 'tanh'))], 'use_rnn': [True], 'solver': ['euler'], 'weight': [0.5], 'weight_decay': [1.0], 'input_sig': [False, True], 'level': [2], 'dataset': ['climate'], 'data_index': [0, 1, 2, 3, 4], 'which_loss': ['easy'], 'delta_t': [0.1], 'saved_models_path': ['../data/saved_models_Climate/'], 'dataset_id': [1]}\n",
      "param_dict: {'epochs': [200], 'batch_size': [200], 'save_every': [1], 'learning_rate': [0.001], 'test_size': [0.2], 'seed': [398], 'hidden_size': [50, 100, 200, 400], 'bias': [True], 'dropout_rate': [0.1], 'ode_nn': [((200, 'tanh'),)], 'readout_nn': [((200, 'tanh'),)], 'enc_nn': [((200, 'tanh'),)], 'use_rnn': [False, True], 'func_appl_X': [[]], 'solver': ['euler'], 'weight': [0.5], 'weight_decay': [1.0], 'input_sig': [False, True], 'level': [3], 'data_dict': ['DP_dict1', 'DP_dict2'], 'which_loss': ['easy'], 'plot': [True], 'evaluate': [True], 'paths_to_plot': [(0, 1, 2, 3, 4)], 'saved_models_path': ['../data/saved_models_DoublePendulum/'], 'dataset_id': [1]}\n",
      "param_dict: {'epochs': [200], 'batch_size': [200], 'save_every': [1], 'learning_rate': [0.001], 'test_size': [0.2], 'seed': [398], 'hidden_size': [50, 100, 200, 400], 'bias': [True], 'dropout_rate': [0.1], 'ode_nn': [((200, 'relu'),)], 'readout_nn': [((200, 'relu'),)], 'enc_nn': [((200, 'relu'),)], 'use_rnn': [False, True], 'func_appl_X': [[]], 'solver': ['euler'], 'weight': [0.5], 'weight_decay': [1.0], 'input_sig': [False, True], 'level': [3], 'data_dict': ['DP_dict1', 'DP_dict2'], 'which_loss': ['easy'], 'plot': [True], 'evaluate': [True], 'paths_to_plot': [(0, 1, 2, 3, 4)], 'saved_models_path': ['../data/saved_models_DoublePendulum/'], 'dataset_id': [1]}\n",
      "param_dict: {'epochs': [200], 'batch_size': [200], 'save_every': [1], 'learning_rate': [0.001], 'test_size': [0.2], 'seed': [398], 'hidden_size': [400], 'bias': [True], 'dropout_rate': [0.1], 'ode_nn': [((200, 'tanh'),)], 'readout_nn': [((200, 'tanh'),)], 'enc_nn': [((200, 'tanh'),)], 'use_rnn': [True], 'func_appl_X': [[]], 'solver': ['euler'], 'weight': [0.5], 'weight_decay': [1.0], 'input_sig': [False], 'level': [3], 'data_dict': ['DP_dict3'], 'which_loss': ['easy'], 'plot': [True], 'evaluate': [True], 'paths_to_plot': [(0, 1, 2, 3, 4)], 'saved_models_path': ['../data/saved_models_DoublePendulum/'], 'dataset_id': [1]}\n",
      "param_dict: {'epochs': [200], 'batch_size': [200], 'save_every': [1], 'learning_rate': [0.001], 'test_size': [0.2], 'seed': [398], 'hidden_size': [200], 'bias': [True], 'dropout_rate': [0.1], 'ode_nn': [((100, 'tanh'),)], 'readout_nn': [((100, 'tanh'),), None], 'enc_nn': [((100, 'tanh'),)], 'use_rnn': [True], 'func_appl_X': [[]], 'solver': ['euler'], 'weight': [0.5], 'weight_decay': [1.0], 'input_sig': [True], 'level': [2], 'data_dict': ['BM_Filter_dict_1'], 'test_data_dict': ['BM_Filter_dict_testdata'], 'which_loss': ['easy'], 'use_y_for_ode': [True], 'masked': [True], 'plot': [True], 'evaluate': [True], 'paths_to_plot': [(0, 1, 2, 3, 4)], 'plot_same_yaxis': [True], 'saved_models_path': ['../data/saved_models_BMFiltering/'], 'dataset_id': [1]}\n",
      "param_dict: {'epochs': [200], 'batch_size': [200], 'save_every': [1], 'learning_rate': [0.001], 'test_size': [0.2], 'seed': [398], 'hidden_size': [400], 'bias': [True], 'dropout_rate': [0.1], 'ode_nn': [((200, 'relu'),)], 'readout_nn': [((200, 'relu'),), None], 'enc_nn': [((200, 'relu'),)], 'use_rnn': [True], 'func_appl_X': [[]], 'solver': ['euler'], 'weight': [0.5], 'weight_decay': [1.0], 'input_sig': [True, False], 'level': [2], 'data_dict': ['BM_TimeLag_dict_1', 'BM_TimeLag_dict_2'], 'test_data_dict': ['BM_TimeLag_dict_testdata'], 'which_loss': ['easy'], 'residual_enc_dec': [False], 'ode_input_scaling_func': ['tanh'], 'enc_input_t': [True], 'coord_wise_tau': [True], 'use_y_for_ode': [True], 'masked': [True], 'plot': [True], 'evaluate': [True], 'paths_to_plot': [(0, 1, 2, 3, 4)], 'plot_same_yaxis': [True], 'saved_models_path': ['../data/saved_models_BMTimeLag/'], 'dataset_id': [1]}\n",
      "param_dict: {'epochs': [100], 'batch_size': [100], 'save_every': [1], 'learning_rate': [0.001], 'test_size': [0.2], 'seed': [398], 'hidden_size': [10], 'bias': [True], 'dropout_rate': [0.1], 'ode_nn': [((50, 'tanh'), (50, 'tanh'))], 'readout_nn': [((50, 'tanh'), (50, 'tanh'))], 'enc_nn': [((50, 'tanh'), (50, 'tanh'))], 'use_rnn': [False], 'func_appl_X': [[]], 'solver': ['euler'], 'weight': [0.5], 'weight_decay': [1.0], 'which_loss': ['easy'], 'dataset': ['OrnsteinUhlenbeckMultiDimensional'], 'dataset_id': [None], 'plot': [True], 'paths_to_plot': [(0,)], 'evaluate': [True], 'saved_models_path': ['../data/saved_models_OrnsteinUhlenbeckMultiDimensional/']}\n",
      "param_dict: {'epochs': [100], 'batch_size': [100], 'save_every': [1], 'learning_rate': [0.001], 'test_size': [0.2], 'seed': [398], 'hidden_size': [10], 'bias': [True], 'dropout_rate': [0.1], 'ode_nn': [((50, 'tanh'), (50, 'tanh'))], 'readout_nn': [((50, 'tanh'), (50, 'tanh'))], 'enc_nn': [((50, 'tanh'), (50, 'tanh'))], 'use_rnn': [False], 'func_appl_X': [[]], 'solver': ['euler'], 'weight': [0.5], 'weight_decay': [1.0], 'which_loss': ['easy_vol'], 'dataset': ['OrnsteinUhlenbeckForZ'], 'dataset_id': [None], 'use_cond_exp': [False], 'eval_use_true_paths': [True], 'plot': [True], 'paths_to_plot': [(0,)], 'evaluate': [True], 'saved_models_path': ['../data/saved_models_OrnsteinUhlenbeckForZ/']}\n",
      "param_dict: {'epochs': [200], 'batch_size': [200], 'save_every': [5], 'learning_rate': [0.001], 'test_size': [0.2], 'seed': [398], 'hidden_size': [10], 'bias': [True], 'dropout_rate': [0.1], 'ode_nn': [((50, 'tanh'), (50, 'tanh'))], 'readout_nn': [((50, 'tanh'), (50, 'tanh'))], 'enc_nn': [((50, 'tanh'), (50, 'tanh'))], 'use_rnn': [False], 'func_appl_X': [[]], 'solver': ['euler'], 'weight': [0.5], 'weight_decay': [1.0], 'data_dict': ['poisson_pp_dict'], 'plot': [True], 'evaluate': [True], 'paths_to_plot': [(0, 1, 2, 3, 4)], 'saved_models_path': ['../data/saved_models_PPP/'], 'dataset_id': [1]}\n",
      "param_dict: {'epochs': [200], 'batch_size': [200], 'save_every': [1], 'learning_rate': [0.001], 'test_size': [0.2], 'seed': [398], 'hidden_size': [10, 50], 'bias': [True], 'dropout_rate': [0.1], 'ode_nn': [((50, 'tanh'), (50, 'tanh'))], 'readout_nn': [((50, 'tanh'), (50, 'tanh'))], 'enc_nn': [((50, 'tanh'), (50, 'tanh'))], 'use_rnn': [False], 'func_appl_X': [[]], 'solver': ['euler'], 'weight': [0.5], 'weight_decay': [1.0], 'data_dict': ['FBM_1_dict'], 'plot': [True], 'evaluate': [True], 'paths_to_plot': [(0, 1, 2, 3, 4)], 'saved_models_path': ['../data/saved_models_FBM/'], 'dataset_id': [1]}\n",
      "param_dict: {'epochs': [200], 'batch_size': [50, 200], 'save_every': [1], 'learning_rate': [0.001], 'test_size': [0.2], 'seed': [398], 'hidden_size': [10, 50], 'bias': [True], 'dropout_rate': [0.1], 'ode_nn': [((50, 'tanh'), (50, 'tanh'))], 'readout_nn': [((50, 'tanh'), (50, 'tanh'))], 'enc_nn': [((50, 'tanh'), (50, 'tanh'))], 'use_rnn': [False], 'func_appl_X': [[]], 'solver': ['euler'], 'weight': [0.5], 'weight_decay': [1.0], 'input_sig': [True], 'level': [2, 3], 'data_dict': ['FBM_1_dict'], 'which_loss': ['standard', 'easy'], 'plot': [True], 'evaluate': [True], 'paths_to_plot': [(0, 1, 2, 3, 4)], 'saved_models_path': ['../data/saved_models_FBM/'], 'dataset_id': [1]}\n",
      "param_dict: {'epochs': [200], 'batch_size': [50, 200], 'save_every': [1], 'learning_rate': [0.001], 'test_size': [0.2], 'seed': [398], 'hidden_size': [10, 50], 'bias': [True], 'dropout_rate': [0.1], 'ode_nn': [((200, 'tanh'), (200, 'tanh'))], 'readout_nn': [((200, 'tanh'), (200, 'tanh'))], 'enc_nn': [((200, 'tanh'), (200, 'tanh'))], 'use_rnn': [False], 'func_appl_X': [[]], 'solver': ['euler'], 'weight': [0.5], 'weight_decay': [1.0], 'input_sig': [True], 'level': [2, 3], 'data_dict': ['FBM_1_dict'], 'which_loss': ['standard', 'easy'], 'plot': [True], 'evaluate': [True], 'paths_to_plot': [(0, 1, 2, 3, 4)], 'saved_models_path': ['../data/saved_models_FBM/'], 'dataset_id': [1]}\n",
      "param_dict: {'epochs': [200], 'batch_size': [200], 'save_every': [1], 'learning_rate': [0.001], 'test_size': [0.2], 'seed': [398], 'hidden_size': [50, 100], 'bias': [True], 'dropout_rate': [0.1], 'ode_nn': [((200, 'tanh'), (200, 'tanh'))], 'readout_nn': [((200, 'tanh'), (200, 'tanh')), None], 'enc_nn': [((200, 'tanh'), (200, 'tanh'))], 'use_rnn': [True], 'func_appl_X': [[]], 'solver': ['euler'], 'weight': [0.5], 'weight_decay': [1.0], 'input_sig': [True, False], 'level': [3], 'data_dict': ['FBM_1_dict'], 'which_loss': ['easy'], 'plot': [True], 'evaluate': [True], 'paths_to_plot': [(0, 1, 2, 3, 4)], 'saved_models_path': ['../data/saved_models_FBM/'], 'dataset_id': [1]}\n",
      "param_dict: {'epochs': [200], 'batch_size': [200], 'save_every': [1], 'learning_rate': [0.001], 'test_size': [0.2], 'seed': [398], 'hidden_size': [50, 100], 'bias': [True], 'dropout_rate': [0.1], 'ode_nn': [((200, 'tanh'), (200, 'tanh'))], 'readout_nn': [((200, 'tanh'), (200, 'tanh'))], 'enc_nn': [((200, 'tanh'), (200, 'tanh'))], 'use_rnn': [False], 'func_appl_X': [[]], 'solver': ['euler'], 'weight': [0.5], 'weight_decay': [1.0], 'input_sig': [False], 'level': [3], 'data_dict': ['FBM_1_dict'], 'which_loss': ['easy'], 'plot': [True], 'evaluate': [True], 'paths_to_plot': [(0, 1, 2, 3, 4)], 'saved_models_path': ['../data/saved_models_FBM/'], 'dataset_id': [1]}\n",
      "param_dict: {'epochs': [200], 'batch_size': [200], 'save_every': [1], 'learning_rate': [0.001], 'test_size': [0.2], 'seed': [398], 'hidden_size': [50], 'bias': [True], 'dropout_rate': [0.1], 'ode_nn': [((200, 'tanh'), (200, 'tanh'))], 'readout_nn': [((200, 'tanh'), (200, 'tanh'))], 'enc_nn': [((200, 'tanh'), (200, 'tanh'))], 'use_rnn': [True], 'func_appl_X': [[]], 'solver': ['euler'], 'weight': [0.5], 'weight_decay': [1.0], 'input_sig': [True], 'level': [1, 2, 4, 5, 6, 7, 8, 9, 10], 'data_dict': ['FBM_1_dict'], 'which_loss': ['easy'], 'plot': [True], 'evaluate': [True], 'paths_to_plot': [(0, 1, 2, 3, 4)], 'saved_models_path': ['../data/saved_models_FBM/'], 'dataset_id': [1]}\n",
      "param_dict: {'epochs': [200], 'batch_size': [200], 'save_every': [1], 'learning_rate': [0.001], 'test_size': [0.2], 'seed': [398], 'hidden_size': [50], 'bias': [True], 'dropout_rate': [0.1], 'ode_nn': [((200, 'tanh'), (200, 'tanh'))], 'readout_nn': [((200, 'tanh'), (200, 'tanh'))], 'enc_nn': [((200, 'tanh'), (200, 'tanh'))], 'use_rnn': [True], 'func_appl_X': [[]], 'solver': ['euler'], 'weight': [0.5], 'weight_decay': [1.0], 'input_sig': [True], 'level': [1, 2, 4, 5, 6, 7, 8, 9, 10], 'data_dict': ['FBM_1_dict'], 'which_loss': ['easy'], 'plot': [True], 'evaluate': [True], 'paths_to_plot': [(0, 1, 2, 3, 4)], 'saved_models_path': ['../data/saved_models_FBM/'], 'dataset_id': [1]}\n",
      "param_dict: {'epochs': [200], 'batch_size': [200], 'save_every': [1], 'learning_rate': [0.001], 'test_size': [0.2], 'seed': [398], 'hidden_size': [100], 'bias': [True], 'dropout_rate': [0.1], 'ode_nn': [((100, 'tanh'),)], 'readout_nn': [((100, 'tanh'),), None], 'enc_nn': [((100, 'tanh'),)], 'use_rnn': [True], 'func_appl_X': [[]], 'solver': ['euler'], 'weight': [0.5], 'weight_decay': [1.0], 'input_sig': [True], 'level': [2], 'dataset': ['BM2DCorr'], 'dataset_id': [None], 'which_loss': ['easy'], 'coord_wise_tau': [False], 'use_y_for_ode': [True], 'masked': [True], 'plot': [True], 'evaluate': [True], 'paths_to_plot': [(0, 1, 2, 3, 4)], 'plot_same_yaxis': [True], 'saved_models_path': ['../data/saved_models_BM2D/']}\n",
      "param_dict: {'epochs': [200], 'batch_size': [200], 'save_every': [1], 'learning_rate': [0.001], 'test_size': [0.2], 'seed': [398], 'hidden_size': [100], 'bias': [True], 'dropout_rate': [0.1], 'ode_nn': [((100, 'relu'),)], 'readout_nn': [((100, 'relu'),), None], 'enc_nn': [((100, 'relu'),)], 'use_rnn': [True], 'func_appl_X': [[]], 'solver': ['euler'], 'weight': [0.5], 'weight_decay': [1.0], 'input_sig': [True], 'level': [2], 'dataset': ['BM2DCorr'], 'dataset_id': [None], 'which_loss': ['easy'], 'coord_wise_tau': [False], 'use_y_for_ode': [True], 'masked': [True], 'plot': [True], 'evaluate': [True], 'paths_to_plot': [(0, 1, 2, 3, 4)], 'plot_same_yaxis': [True], 'saved_models_path': ['../data/saved_models_BM2D/']}\n",
      "param_dict: {'epochs': [200], 'batch_size': [200], 'save_every': [1], 'learning_rate': [0.001], 'test_size': [0.2], 'seed': [398], 'hidden_size': [50], 'bias': [True], 'dropout_rate': [0.1], 'ode_nn': [((50, 'tanh'),)], 'readout_nn': [None], 'enc_nn': [((50, 'tanh'),)], 'func_appl_X': [[]], 'solver': ['euler'], 'weight': [0.5], 'weight_decay': [1.0], 'dataset': ['BMandVar'], 'dataset_id': [None], 'which_loss': ['easy'], 'coord_wise_tau': [False], 'use_y_for_ode': [True], 'use_rnn': [False], 'masked': [False], 'plot': [True], 'evaluate': [True], 'paths_to_plot': [(0, 1, 2, 3, 4)], 'plot_same_yaxis': [True], 'saved_models_path': ['../data/saved_models_BMandVar/']}\n",
      "param_dict: {'epochs': [200], 'batch_size': [200], 'save_every': [1], 'learning_rate': [0.001], 'test_size': [0.2], 'seed': [398], 'hidden_size': [50], 'bias': [True], 'dropout_rate': [0.1], 'ode_nn': [((50, 'tanh'),)], 'readout_nn': [None], 'enc_nn': [((50, 'tanh'),)], 'func_appl_X': [['power-2']], 'solver': ['euler'], 'weight': [0.5], 'weight_decay': [1.0], 'dataset': ['BM'], 'dataset_id': [None], 'which_loss': ['easy'], 'coord_wise_tau': [False], 'use_y_for_ode': [True], 'use_rnn': [False], 'masked': [False], 'plot': [True], 'plot_variance': [True], 'evaluate': [True], 'paths_to_plot': [(0, 1, 2, 3, 4)], 'plot_same_yaxis': [True], 'saved_models_path': ['../data/saved_models_BMandVar/']}\n",
      "param_dict: {'epochs': [200], 'batch_size': [200], 'save_every': [1], 'learning_rate': [0.001], 'test_size': [0.2], 'seed': [398], 'hidden_size': [50], 'bias': [True], 'dropout_rate': [0.1], 'ode_nn': [((50, 'tanh'), (50, 'tanh'))], 'readout_nn': [((50, 'tanh'), (50, 'tanh'))], 'enc_nn': [((50, 'tanh'), (50, 'tanh'))], 'func_appl_X': [[]], 'solver': ['euler'], 'weight': [0.5], 'weight_decay': [1.0], 'data_dict': ['BS_dep_intensity_dict'], 'dataset_id': [None], 'which_loss': ['easy'], 'coord_wise_tau': [False], 'use_y_for_ode': [True], 'use_rnn': [False], 'masked': [False], 'plot': [True], 'evaluate': [True], 'paths_to_plot': [(0, 1, 2, 3, 4)], 'plot_same_yaxis': [True], 'saved_models_path': ['../data/saved_models_DepIntensity/']}\n",
      "param_dict: {'epochs': [200], 'batch_size': [200], 'save_every': [1], 'learning_rate': [0.001], 'test_size': [0.2], 'seed': [398], 'hidden_size': [50], 'bias': [True], 'dropout_rate': [0.1], 'ode_nn': [((50, 'tanh'), (50, 'tanh'))], 'readout_nn': [((50, 'tanh'), (50, 'tanh'))], 'enc_nn': [((50, 'tanh'), (50, 'tanh'))], 'func_appl_X': [[]], 'solver': ['euler'], 'weight': [0.5], 'weight_decay': [1.0], 'data_dict': ['BS_dep_intensity_dict'], 'dataset_id': [None], 'which_loss': ['easy'], 'coord_wise_tau': [False], 'use_y_for_ode': [True], 'use_rnn': [True], 'input_sig': [True], 'level': [3], 'masked': [False], 'plot': [True], 'evaluate': [True], 'paths_to_plot': [(0, 1, 2, 3, 4)], 'plot_same_yaxis': [True], 'saved_models_path': ['../data/saved_models_DepIntensity/']}\n",
      "param_dict: {'epochs': [175], 'batch_size': [50], 'save_every': [1], 'learning_rate': [0.001], 'test_size': [0.2], 'hidden_size': [50], 'bias': [True], 'dropout_rate': [0.1], 'ode_nn': [((50, 'tanh'),)], 'readout_nn': [((50, 'tanh'),)], 'enc_nn': [((50, 'tanh'),)], 'use_rnn': [True], 'solver': ['euler'], 'weight': [0.5], 'weight_decay': [1.0], 'input_sig': [True], 'level': [2], 'dataset': ['physionet'], 'dataset_id': [None], 'which_loss': ['easy'], 'quantization': [0.016], 'n_samples': [8000], 'saved_models_path': ['../data/saved_models_PhysioNet/']}\n",
      "param_dict: {'epochs': [175], 'batch_size': [50], 'save_every': [1], 'learning_rate': [0.001], 'test_size': [0.2], 'hidden_size': [50], 'bias': [True], 'dropout_rate': [0.1], 'ode_nn': [((50, 'tanh'),)], 'readout_nn': [((50, 'tanh'),)], 'enc_nn': [((50, 'tanh'),)], 'use_rnn': [True], 'solver': ['euler'], 'weight': [0.5], 'weight_decay': [1.0], 'input_sig': [True], 'level': [2], 'dataset': ['physionet'], 'dataset_id': [None], 'which_loss': ['easy'], 'quantization': [0.016], 'n_samples': [8000], 'saved_models_path': ['../data/saved_models_PhysioNet/']}\n",
      "param_dict: {'epochs': [200], 'batch_size': [100], 'save_every': [1], 'learning_rate': [0.001], 'test_size': [0.2], 'seed': [398], 'hidden_size': [50, 100], 'bias': [True], 'dropout_rate': [0.1], 'ode_nn': [((50, 'tanh'),)], 'readout_nn': [((50, 'tanh'),)], 'enc_nn': [((50, 'tanh'),)], 'use_rnn': [True], 'solver': ['euler'], 'weight': [0.5], 'weight_decay': [1.0], 'input_sig': [False, True], 'level': [2], 'dataset': ['climate'], 'data_index': [0, 1, 2, 3, 4], 'which_loss': ['easy'], 'delta_t': [0.1], 'saved_models_path': ['../data/saved_models_Climate/'], 'dataset_id': [1]}\n",
      "param_dict: {'epochs': [200], 'batch_size': [100], 'save_every': [1], 'learning_rate': [0.001], 'test_size': [0.2], 'seed': [398], 'hidden_size': [50, 100], 'bias': [True], 'dropout_rate': [0.1], 'ode_nn': [((200, 'tanh'), (200, 'tanh'))], 'readout_nn': [((200, 'tanh'), (200, 'tanh'))], 'enc_nn': [((200, 'tanh'), (200, 'tanh'))], 'use_rnn': [True], 'solver': ['euler'], 'weight': [0.5], 'weight_decay': [1.0], 'input_sig': [False, True], 'level': [2], 'dataset': ['climate'], 'data_index': [0, 1, 2, 3, 4], 'which_loss': ['easy'], 'delta_t': [0.1], 'saved_models_path': ['../data/saved_models_Climate/'], 'dataset_id': [1]}\n",
      "param_dict: {'epochs': [200], 'batch_size': [200], 'save_every': [1], 'learning_rate': [0.001], 'test_size': [0.2], 'seed': [398], 'hidden_size': [50, 100, 200, 400], 'bias': [True], 'dropout_rate': [0.1], 'ode_nn': [((200, 'tanh'),)], 'readout_nn': [((200, 'tanh'),)], 'enc_nn': [((200, 'tanh'),)], 'use_rnn': [False, True], 'func_appl_X': [[]], 'solver': ['euler'], 'weight': [0.5], 'weight_decay': [1.0], 'input_sig': [False, True], 'level': [3], 'data_dict': ['DP_dict1', 'DP_dict2'], 'which_loss': ['easy'], 'plot': [True], 'evaluate': [True], 'paths_to_plot': [(0, 1, 2, 3, 4)], 'saved_models_path': ['../data/saved_models_DoublePendulum/'], 'dataset_id': [1]}\n",
      "param_dict: {'epochs': [200], 'batch_size': [200], 'save_every': [1], 'learning_rate': [0.001], 'test_size': [0.2], 'seed': [398], 'hidden_size': [50, 100, 200, 400], 'bias': [True], 'dropout_rate': [0.1], 'ode_nn': [((200, 'relu'),)], 'readout_nn': [((200, 'relu'),)], 'enc_nn': [((200, 'relu'),)], 'use_rnn': [False, True], 'func_appl_X': [[]], 'solver': ['euler'], 'weight': [0.5], 'weight_decay': [1.0], 'input_sig': [False, True], 'level': [3], 'data_dict': ['DP_dict1', 'DP_dict2'], 'which_loss': ['easy'], 'plot': [True], 'evaluate': [True], 'paths_to_plot': [(0, 1, 2, 3, 4)], 'saved_models_path': ['../data/saved_models_DoublePendulum/'], 'dataset_id': [1]}\n",
      "param_dict: {'epochs': [200], 'batch_size': [200], 'save_every': [1], 'learning_rate': [0.001], 'test_size': [0.2], 'seed': [398], 'hidden_size': [400], 'bias': [True], 'dropout_rate': [0.1], 'ode_nn': [((200, 'tanh'),)], 'readout_nn': [((200, 'tanh'),)], 'enc_nn': [((200, 'tanh'),)], 'use_rnn': [True], 'func_appl_X': [[]], 'solver': ['euler'], 'weight': [0.5], 'weight_decay': [1.0], 'input_sig': [False], 'level': [3], 'data_dict': ['DP_dict3'], 'which_loss': ['easy'], 'plot': [True], 'evaluate': [True], 'paths_to_plot': [(0, 1, 2, 3, 4)], 'saved_models_path': ['../data/saved_models_DoublePendulum/'], 'dataset_id': [1]}\n",
      "param_dict: {'epochs': [200], 'batch_size': [200], 'save_every': [1], 'learning_rate': [0.001], 'test_size': [0.2], 'seed': [398], 'hidden_size': [200], 'bias': [True], 'dropout_rate': [0.1], 'ode_nn': [((100, 'tanh'),)], 'readout_nn': [((100, 'tanh'),), None], 'enc_nn': [((100, 'tanh'),)], 'use_rnn': [True], 'func_appl_X': [[]], 'solver': ['euler'], 'weight': [0.5], 'weight_decay': [1.0], 'input_sig': [True], 'level': [2], 'data_dict': ['BM_Filter_dict_1'], 'test_data_dict': ['BM_Filter_dict_testdata'], 'which_loss': ['easy'], 'use_y_for_ode': [True], 'masked': [True], 'plot': [True], 'evaluate': [True], 'paths_to_plot': [(0, 1, 2, 3, 4)], 'plot_same_yaxis': [True], 'saved_models_path': ['../data/saved_models_BMFiltering/'], 'dataset_id': [1]}\n",
      "param_dict: {'epochs': [200], 'batch_size': [200], 'save_every': [1], 'learning_rate': [0.001], 'test_size': [0.2], 'seed': [398], 'hidden_size': [400], 'bias': [True], 'dropout_rate': [0.1], 'ode_nn': [((200, 'relu'),)], 'readout_nn': [((200, 'relu'),), None], 'enc_nn': [((200, 'relu'),)], 'use_rnn': [True], 'func_appl_X': [[]], 'solver': ['euler'], 'weight': [0.5], 'weight_decay': [1.0], 'input_sig': [True, False], 'level': [2], 'data_dict': ['BM_TimeLag_dict_1', 'BM_TimeLag_dict_2'], 'test_data_dict': ['BM_TimeLag_dict_testdata'], 'which_loss': ['easy'], 'residual_enc_dec': [False], 'ode_input_scaling_func': ['tanh'], 'enc_input_t': [True], 'coord_wise_tau': [True], 'use_y_for_ode': [True], 'masked': [True], 'plot': [True], 'evaluate': [True], 'paths_to_plot': [(0, 1, 2, 3, 4)], 'plot_same_yaxis': [True], 'saved_models_path': ['../data/saved_models_BMTimeLag/'], 'dataset_id': [1]}\n",
      "param_dict: {'epochs': [100], 'batch_size': [100], 'save_every': [1], 'learning_rate': [0.001], 'test_size': [0.2], 'seed': [398], 'hidden_size': [10], 'bias': [True], 'dropout_rate': [0.1], 'ode_nn': [((50, 'tanh'), (50, 'tanh'))], 'readout_nn': [((50, 'tanh'), (50, 'tanh'))], 'enc_nn': [((50, 'tanh'), (50, 'tanh'))], 'use_rnn': [False], 'func_appl_X': [[]], 'solver': ['euler'], 'weight': [0.5], 'weight_decay': [1.0], 'which_loss': ['easy'], 'dataset': ['OrnsteinUhlenbeckMultiDimensional'], 'dataset_id': [None], 'plot': [True], 'paths_to_plot': [(0,)], 'evaluate': [True], 'saved_models_path': ['../data/saved_models_OrnsteinUhlenbeckMultiDimensional/']}\n",
      "param_dict: {'epochs': [100], 'batch_size': [100], 'save_every': [1], 'learning_rate': [0.001], 'test_size': [0.2], 'seed': [398], 'hidden_size': [10], 'bias': [True], 'dropout_rate': [0.1], 'ode_nn': [((50, 'tanh'), (50, 'tanh'))], 'readout_nn': [((50, 'tanh'), (50, 'tanh'))], 'enc_nn': [((50, 'tanh'), (50, 'tanh'))], 'use_rnn': [False], 'func_appl_X': [[]], 'solver': ['euler'], 'weight': [0.5], 'weight_decay': [1.0], 'which_loss': ['easy_vol'], 'dataset': ['OrnsteinUhlenbeckForZ'], 'dataset_id': [None], 'use_cond_exp': [False], 'eval_use_true_paths': [True], 'plot': [True], 'paths_to_plot': [(0,)], 'evaluate': [True], 'saved_models_path': ['../data/saved_models_OrnsteinUhlenbeckForZ/']}\n",
      "mob30009889\n",
      "SERVER=False\n"
     ]
    }
   ],
   "source": [
    "import NJODE.data_utils as data_utils\n",
    "import NJODE.train as train"
   ],
   "metadata": {
    "collapsed": false,
    "ExecuteTime": {
     "end_time": "2025-07-24T15:01:13.535304200Z",
     "start_time": "2025-07-24T15:01:07.664328400Z"
    }
   },
   "id": "3fceaae51ce3c5d"
  },
  {
   "cell_type": "code",
   "execution_count": null,
   "outputs": [
    {
     "name": "stdout",
     "output_type": "stream",
     "text": [
      "{'S0': [20, 17, 20], 'dimension': 3, 'dt': 0.01, 'maturity': 1.0, 'mean': [1.2, 1.0, 1.5], 'model_name': 'OrnsteinUhlenbeckForZ', 'nb_paths': 10000, 'nb_steps': 100, 'obs_perc': 1.0, 'scheme': 'euler', 'speed': [[0.3, 0.0, 0.0], [0.0, 0.4, 0.0], [0.0, 0.0, 0.5]], 'volatility': [[1.0, 0.0, 0.0], [0.0, 1.5, 0.0], [0.0, 0.0, 2.0]]}\n",
      "using loss: easy_vol\n",
      "neuralODE use input scaling with tanh\n",
      "use residual network: input_size=3, output_size=10\n",
      "use residual network: input_size=10, output_size=3\n",
      "model-id: None\n",
      "\n",
      "using CPU\n",
      "input_coords: [0 1 2]\n",
      "output_coords: [0 1 2]\n",
      "input_size: 3\n",
      "output_size: 3\n",
      "signature_coords: [0 1 2]\n",
      "new model_id=88\n",
      "model params:\n",
      "{\"batch_size\": 100, \"bias\": true, \"data_dict\": null, \"dataset\": \"OrnsteinUhlenbeckForZ\", \"dataset_id\": 95, \"dropout_rate\": 0.1, \"enc_nn\": [[50, \"tanh\"], [50, \"tanh\"]], \"epochs\": 100, \"hidden_size\": 10, \"input_size\": 3, \"learning_rate\": 0.001, \"ode_nn\": [[50, \"tanh\"], [50, \"tanh\"]], \"optimal_val_loss\": NaN, \"options\": {\"eval_use_true_paths\": true, \"use_cond_exp\": false, \"which_loss\": \"easy_vol\"}, \"output_size\": 3, \"readout_nn\": [[50, \"tanh\"], [50, \"tanh\"]], \"seed\": 398, \"solver\": \"euler\", \"test_size\": 0.2, \"use_rnn\": false, \"weight\": 0.5, \"weight_decay\": 1.0}\n",
      "initiate new model ...\n",
      "\n",
      "model overview:\n",
      "NJODE(\n",
      "  (ode_f): ODEFunc(\n",
      "    (f): Sequential(\n",
      "      (0): Linear(in_features=15, out_features=50, bias=True)\n",
      "      (1): Tanh()\n",
      "      (2): Dropout(p=0.1, inplace=False)\n",
      "      (3): Linear(in_features=50, out_features=50, bias=True)\n",
      "      (4): Tanh()\n",
      "      (5): Dropout(p=0.1, inplace=False)\n",
      "      (6): Linear(in_features=50, out_features=10, bias=True)\n",
      "    )\n",
      "  )\n",
      "  (encoder_map): FFNN(\n",
      "    (ffnn): Sequential(\n",
      "      (0): Linear(in_features=3, out_features=50, bias=True)\n",
      "      (1): Tanh()\n",
      "      (2): Dropout(p=0.1, inplace=False)\n",
      "      (3): Linear(in_features=50, out_features=50, bias=True)\n",
      "      (4): Tanh()\n",
      "      (5): Dropout(p=0.1, inplace=False)\n",
      "      (6): Linear(in_features=50, out_features=10, bias=True)\n",
      "    )\n",
      "  )\n",
      "  (readout_map): FFNN(\n",
      "    (ffnn): Sequential(\n",
      "      (0): Linear(in_features=10, out_features=50, bias=True)\n",
      "      (1): Tanh()\n",
      "      (2): Dropout(p=0.1, inplace=False)\n",
      "      (3): Linear(in_features=50, out_features=50, bias=True)\n",
      "      (4): Tanh()\n",
      "      (5): Dropout(p=0.1, inplace=False)\n",
      "      (6): Linear(in_features=50, out_features=3, bias=True)\n",
      "    )\n",
      "  )\n",
      ") \n",
      "\n",
      "# parameters=10373\n",
      "\n",
      "# trainable parameters=10373\n",
      "\n",
      "start training ...\n"
     ]
    },
    {
     "name": "stderr",
     "output_type": "stream",
     "text": [
      "80it [00:22,  3.60it/s]\n"
     ]
    },
    {
     "name": "stdout",
     "output_type": "stream",
     "text": [
      "evaluating ...\n",
      "epoch 1, weight=0.50000, train-loss=0.11809, optimal-val-loss=nan, val-loss=2.31954, \n",
      "plotting ...\n"
     ]
    },
    {
     "name": "stderr",
     "output_type": "stream",
     "text": [
      "C:\\Users\\gg868\\thesis\\NJODE\\train.py:987: FutureWarning: The behavior of DataFrame concatenation with empty or all-NA entries is deprecated. In a future version, this will no longer exclude empty or all-NA columns when determining the result dtypes. To retain the old behavior, exclude the relevant entries before the concat operation.\n",
      "  df_metric = pd.concat([df_metric, df_m_app], ignore_index=True)\n",
      "C:\\Users\\gg868\\thesis\\NJODE\\train.py:998: FutureWarning: The behavior of DataFrame concatenation with empty or all-NA entries is deprecated. In a future version, this will no longer exclude empty or all-NA columns when determining the result dtypes. To retain the old behavior, exclude the relevant entries before the concat operation.\n",
      "  df_metric = pd.concat([df_metric, df_m_app], ignore_index=True)\n"
     ]
    },
    {
     "name": "stdout",
     "output_type": "stream",
     "text": [
      "optimal test-loss (with current weight=0.50000): 0.00000\n",
      "model test-loss (with current weight=0.50000): 2.31954\n",
      "save model ...\n",
      "saved!\n",
      "save new best model: last-best-loss: inf, new-best-loss: 2.31954, epoch: 1\n",
      "saved!\n",
      "----------------------------------------------------------------------------------------------------\n"
     ]
    },
    {
     "name": "stderr",
     "output_type": "stream",
     "text": [
      "80it [00:22,  3.59it/s]\n"
     ]
    },
    {
     "name": "stdout",
     "output_type": "stream",
     "text": [
      "evaluating ...\n",
      "epoch 2, weight=0.50000, train-loss=0.12296, optimal-val-loss=nan, val-loss=2.32080, \n",
      "plotting ...\n",
      "optimal test-loss (with current weight=0.50000): 0.00000\n",
      "model test-loss (with current weight=0.50000): 2.32080\n",
      "save model ...\n",
      "saved!\n",
      "----------------------------------------------------------------------------------------------------\n"
     ]
    },
    {
     "name": "stderr",
     "output_type": "stream",
     "text": [
      "80it [00:22,  3.58it/s]\n"
     ]
    },
    {
     "name": "stdout",
     "output_type": "stream",
     "text": [
      "evaluating ...\n",
      "epoch 3, weight=0.50000, train-loss=0.11402, optimal-val-loss=nan, val-loss=2.32252, \n",
      "plotting ...\n",
      "optimal test-loss (with current weight=0.50000): 0.00000\n",
      "model test-loss (with current weight=0.50000): 2.32252\n",
      "save model ...\n",
      "saved!\n",
      "----------------------------------------------------------------------------------------------------\n"
     ]
    },
    {
     "name": "stderr",
     "output_type": "stream",
     "text": [
      "80it [00:22,  3.59it/s]\n"
     ]
    },
    {
     "name": "stdout",
     "output_type": "stream",
     "text": [
      "evaluating ...\n",
      "epoch 4, weight=0.50000, train-loss=0.11415, optimal-val-loss=nan, val-loss=2.32441, \n",
      "plotting ...\n",
      "optimal test-loss (with current weight=0.50000): 0.00000\n",
      "model test-loss (with current weight=0.50000): 2.32441\n",
      "save model ...\n",
      "saved!\n",
      "----------------------------------------------------------------------------------------------------\n"
     ]
    },
    {
     "name": "stderr",
     "output_type": "stream",
     "text": [
      "80it [00:24,  3.31it/s]\n"
     ]
    },
    {
     "name": "stdout",
     "output_type": "stream",
     "text": [
      "evaluating ...\n",
      "epoch 5, weight=0.50000, train-loss=0.11211, optimal-val-loss=nan, val-loss=2.32639, \n",
      "plotting ...\n",
      "optimal test-loss (with current weight=0.50000): 0.00000\n",
      "model test-loss (with current weight=0.50000): 2.32639\n",
      "save model ...\n",
      "saved!\n",
      "----------------------------------------------------------------------------------------------------\n"
     ]
    },
    {
     "name": "stderr",
     "output_type": "stream",
     "text": [
      "80it [00:22,  3.56it/s]\n"
     ]
    },
    {
     "name": "stdout",
     "output_type": "stream",
     "text": [
      "evaluating ...\n",
      "epoch 6, weight=0.50000, train-loss=0.11726, optimal-val-loss=nan, val-loss=2.32643, \n",
      "plotting ...\n",
      "optimal test-loss (with current weight=0.50000): 0.00000\n",
      "model test-loss (with current weight=0.50000): 2.32643\n",
      "save model ...\n",
      "saved!\n",
      "----------------------------------------------------------------------------------------------------\n"
     ]
    },
    {
     "name": "stderr",
     "output_type": "stream",
     "text": [
      "80it [00:21,  3.69it/s]\n"
     ]
    },
    {
     "name": "stdout",
     "output_type": "stream",
     "text": [
      "evaluating ...\n",
      "epoch 7, weight=0.50000, train-loss=0.10898, optimal-val-loss=nan, val-loss=2.32674, \n",
      "plotting ...\n",
      "optimal test-loss (with current weight=0.50000): 0.00000\n",
      "model test-loss (with current weight=0.50000): 2.32674\n",
      "save model ...\n",
      "saved!\n",
      "----------------------------------------------------------------------------------------------------\n"
     ]
    },
    {
     "name": "stderr",
     "output_type": "stream",
     "text": [
      "80it [00:22,  3.52it/s]\n"
     ]
    },
    {
     "name": "stdout",
     "output_type": "stream",
     "text": [
      "evaluating ...\n",
      "epoch 8, weight=0.50000, train-loss=0.11651, optimal-val-loss=nan, val-loss=2.32664, \n",
      "plotting ...\n",
      "optimal test-loss (with current weight=0.50000): 0.00000\n",
      "model test-loss (with current weight=0.50000): 2.32664\n",
      "save model ...\n",
      "saved!\n",
      "----------------------------------------------------------------------------------------------------\n"
     ]
    },
    {
     "name": "stderr",
     "output_type": "stream",
     "text": [
      "80it [00:21,  3.70it/s]\n"
     ]
    },
    {
     "name": "stdout",
     "output_type": "stream",
     "text": [
      "evaluating ...\n",
      "epoch 9, weight=0.50000, train-loss=0.11458, optimal-val-loss=nan, val-loss=2.32688, \n",
      "plotting ...\n",
      "optimal test-loss (with current weight=0.50000): 0.00000\n",
      "model test-loss (with current weight=0.50000): 2.32688\n",
      "save model ...\n",
      "saved!\n",
      "----------------------------------------------------------------------------------------------------\n"
     ]
    },
    {
     "name": "stderr",
     "output_type": "stream",
     "text": [
      "80it [00:22,  3.56it/s]\n"
     ]
    },
    {
     "name": "stdout",
     "output_type": "stream",
     "text": [
      "evaluating ...\n",
      "epoch 10, weight=0.50000, train-loss=0.11870, optimal-val-loss=nan, val-loss=2.32690, \n",
      "plotting ...\n",
      "optimal test-loss (with current weight=0.50000): 0.00000\n",
      "model test-loss (with current weight=0.50000): 2.32690\n",
      "save model ...\n",
      "saved!\n",
      "----------------------------------------------------------------------------------------------------\n"
     ]
    },
    {
     "name": "stderr",
     "output_type": "stream",
     "text": [
      "80it [00:22,  3.54it/s]\n"
     ]
    },
    {
     "name": "stdout",
     "output_type": "stream",
     "text": [
      "evaluating ...\n",
      "epoch 11, weight=0.50000, train-loss=0.12045, optimal-val-loss=nan, val-loss=2.32713, \n",
      "plotting ...\n",
      "optimal test-loss (with current weight=0.50000): 0.00000\n",
      "model test-loss (with current weight=0.50000): 2.32713\n",
      "save model ...\n",
      "saved!\n",
      "----------------------------------------------------------------------------------------------------\n"
     ]
    },
    {
     "name": "stderr",
     "output_type": "stream",
     "text": [
      "80it [00:22,  3.61it/s]\n"
     ]
    },
    {
     "name": "stdout",
     "output_type": "stream",
     "text": [
      "evaluating ...\n",
      "epoch 12, weight=0.50000, train-loss=0.11614, optimal-val-loss=nan, val-loss=2.32719, \n",
      "plotting ...\n",
      "optimal test-loss (with current weight=0.50000): 0.00000\n",
      "model test-loss (with current weight=0.50000): 2.32719\n",
      "save model ...\n",
      "saved!\n",
      "----------------------------------------------------------------------------------------------------\n"
     ]
    },
    {
     "name": "stderr",
     "output_type": "stream",
     "text": [
      "80it [00:22,  3.60it/s]\n"
     ]
    },
    {
     "name": "stdout",
     "output_type": "stream",
     "text": [
      "evaluating ...\n",
      "epoch 13, weight=0.50000, train-loss=0.11536, optimal-val-loss=nan, val-loss=2.32741, \n",
      "plotting ...\n",
      "optimal test-loss (with current weight=0.50000): 0.00000\n",
      "model test-loss (with current weight=0.50000): 2.32741\n",
      "save model ...\n",
      "saved!\n",
      "----------------------------------------------------------------------------------------------------\n"
     ]
    },
    {
     "name": "stderr",
     "output_type": "stream",
     "text": [
      "80it [00:21,  3.67it/s]\n"
     ]
    },
    {
     "name": "stdout",
     "output_type": "stream",
     "text": [
      "evaluating ...\n",
      "epoch 14, weight=0.50000, train-loss=0.11846, optimal-val-loss=nan, val-loss=2.32812, \n",
      "plotting ...\n",
      "optimal test-loss (with current weight=0.50000): 0.00000\n",
      "model test-loss (with current weight=0.50000): 2.32812\n",
      "save model ...\n",
      "saved!\n",
      "----------------------------------------------------------------------------------------------------\n"
     ]
    },
    {
     "name": "stderr",
     "output_type": "stream",
     "text": [
      "80it [00:22,  3.52it/s]\n"
     ]
    },
    {
     "name": "stdout",
     "output_type": "stream",
     "text": [
      "evaluating ...\n",
      "epoch 15, weight=0.50000, train-loss=0.11778, optimal-val-loss=nan, val-loss=2.32748, \n",
      "plotting ...\n",
      "optimal test-loss (with current weight=0.50000): 0.00000\n",
      "model test-loss (with current weight=0.50000): 2.32748\n",
      "save model ...\n",
      "saved!\n",
      "----------------------------------------------------------------------------------------------------\n"
     ]
    },
    {
     "name": "stderr",
     "output_type": "stream",
     "text": [
      "80it [00:22,  3.56it/s]\n"
     ]
    },
    {
     "name": "stdout",
     "output_type": "stream",
     "text": [
      "evaluating ...\n",
      "epoch 16, weight=0.50000, train-loss=0.11518, optimal-val-loss=nan, val-loss=2.32730, \n",
      "plotting ...\n",
      "optimal test-loss (with current weight=0.50000): 0.00000\n",
      "model test-loss (with current weight=0.50000): 2.32730\n",
      "save model ...\n",
      "saved!\n",
      "----------------------------------------------------------------------------------------------------\n"
     ]
    },
    {
     "name": "stderr",
     "output_type": "stream",
     "text": [
      "80it [00:24,  3.24it/s]\n"
     ]
    },
    {
     "name": "stdout",
     "output_type": "stream",
     "text": [
      "evaluating ...\n",
      "epoch 17, weight=0.50000, train-loss=0.11748, optimal-val-loss=nan, val-loss=2.32774, \n",
      "plotting ...\n",
      "optimal test-loss (with current weight=0.50000): 0.00000\n",
      "model test-loss (with current weight=0.50000): 2.32774\n",
      "save model ...\n",
      "saved!\n",
      "----------------------------------------------------------------------------------------------------\n"
     ]
    },
    {
     "name": "stderr",
     "output_type": "stream",
     "text": [
      "80it [00:23,  3.42it/s]\n"
     ]
    },
    {
     "name": "stdout",
     "output_type": "stream",
     "text": [
      "evaluating ...\n",
      "epoch 18, weight=0.50000, train-loss=0.11436, optimal-val-loss=nan, val-loss=2.32749, \n",
      "plotting ...\n",
      "optimal test-loss (with current weight=0.50000): 0.00000\n",
      "model test-loss (with current weight=0.50000): 2.32749\n",
      "save model ...\n",
      "saved!\n",
      "----------------------------------------------------------------------------------------------------\n"
     ]
    },
    {
     "name": "stderr",
     "output_type": "stream",
     "text": [
      "80it [00:25,  3.10it/s]\n"
     ]
    },
    {
     "name": "stdout",
     "output_type": "stream",
     "text": [
      "evaluating ...\n",
      "epoch 19, weight=0.50000, train-loss=0.11893, optimal-val-loss=nan, val-loss=2.32796, \n",
      "plotting ...\n",
      "optimal test-loss (with current weight=0.50000): 0.00000\n",
      "model test-loss (with current weight=0.50000): 2.32796\n",
      "save model ...\n",
      "saved!\n",
      "----------------------------------------------------------------------------------------------------\n"
     ]
    },
    {
     "name": "stderr",
     "output_type": "stream",
     "text": [
      "80it [00:28,  2.82it/s]\n"
     ]
    },
    {
     "name": "stdout",
     "output_type": "stream",
     "text": [
      "evaluating ...\n",
      "epoch 20, weight=0.50000, train-loss=0.11688, optimal-val-loss=nan, val-loss=2.32799, \n",
      "plotting ...\n",
      "optimal test-loss (with current weight=0.50000): 0.00000\n",
      "model test-loss (with current weight=0.50000): 2.32799\n",
      "save model ...\n",
      "saved!\n",
      "----------------------------------------------------------------------------------------------------\n"
     ]
    },
    {
     "name": "stderr",
     "output_type": "stream",
     "text": [
      "80it [00:31,  2.52it/s]\n"
     ]
    },
    {
     "name": "stdout",
     "output_type": "stream",
     "text": [
      "evaluating ...\n",
      "epoch 21, weight=0.50000, train-loss=0.12216, optimal-val-loss=nan, val-loss=2.32802, \n",
      "plotting ...\n",
      "optimal test-loss (with current weight=0.50000): 0.00000\n",
      "model test-loss (with current weight=0.50000): 2.32802\n",
      "save model ...\n",
      "saved!\n",
      "----------------------------------------------------------------------------------------------------\n"
     ]
    },
    {
     "name": "stderr",
     "output_type": "stream",
     "text": [
      "80it [00:34,  2.35it/s]\n"
     ]
    },
    {
     "name": "stdout",
     "output_type": "stream",
     "text": [
      "evaluating ...\n",
      "epoch 22, weight=0.50000, train-loss=0.11790, optimal-val-loss=nan, val-loss=2.32870, \n",
      "plotting ...\n",
      "optimal test-loss (with current weight=0.50000): 0.00000\n",
      "model test-loss (with current weight=0.50000): 2.32870\n",
      "save model ...\n",
      "saved!\n",
      "----------------------------------------------------------------------------------------------------\n"
     ]
    },
    {
     "name": "stderr",
     "output_type": "stream",
     "text": [
      "80it [00:44,  1.82it/s]\n"
     ]
    },
    {
     "name": "stdout",
     "output_type": "stream",
     "text": [
      "evaluating ...\n",
      "epoch 23, weight=0.50000, train-loss=0.11163, optimal-val-loss=nan, val-loss=2.32929, \n",
      "plotting ...\n",
      "optimal test-loss (with current weight=0.50000): 0.00000\n",
      "model test-loss (with current weight=0.50000): 2.32929\n",
      "save model ...\n",
      "saved!\n",
      "----------------------------------------------------------------------------------------------------\n"
     ]
    },
    {
     "name": "stderr",
     "output_type": "stream",
     "text": [
      "80it [00:52,  1.53it/s]\n"
     ]
    },
    {
     "name": "stdout",
     "output_type": "stream",
     "text": [
      "evaluating ...\n",
      "epoch 24, weight=0.50000, train-loss=0.11259, optimal-val-loss=nan, val-loss=2.32957, \n",
      "plotting ...\n",
      "optimal test-loss (with current weight=0.50000): 0.00000\n",
      "model test-loss (with current weight=0.50000): 2.32957\n",
      "save model ...\n",
      "saved!\n",
      "----------------------------------------------------------------------------------------------------\n"
     ]
    },
    {
     "name": "stderr",
     "output_type": "stream",
     "text": [
      "80it [00:58,  1.36it/s]\n"
     ]
    },
    {
     "name": "stdout",
     "output_type": "stream",
     "text": [
      "evaluating ...\n",
      "epoch 25, weight=0.50000, train-loss=0.11559, optimal-val-loss=nan, val-loss=2.32928, \n",
      "plotting ...\n",
      "optimal test-loss (with current weight=0.50000): 0.00000\n",
      "model test-loss (with current weight=0.50000): 2.32928\n",
      "save model ...\n",
      "saved!\n",
      "----------------------------------------------------------------------------------------------------\n"
     ]
    },
    {
     "name": "stderr",
     "output_type": "stream",
     "text": [
      "80it [01:01,  1.29it/s]\n"
     ]
    },
    {
     "name": "stdout",
     "output_type": "stream",
     "text": [
      "evaluating ...\n",
      "epoch 26, weight=0.50000, train-loss=0.11303, optimal-val-loss=nan, val-loss=2.33067, \n",
      "plotting ...\n",
      "optimal test-loss (with current weight=0.50000): 0.00000\n",
      "model test-loss (with current weight=0.50000): 2.33067\n",
      "save model ...\n",
      "saved!\n",
      "----------------------------------------------------------------------------------------------------\n"
     ]
    },
    {
     "name": "stderr",
     "output_type": "stream",
     "text": [
      "80it [01:05,  1.21it/s]\n"
     ]
    },
    {
     "name": "stdout",
     "output_type": "stream",
     "text": [
      "evaluating ...\n",
      "epoch 27, weight=0.50000, train-loss=0.11433, optimal-val-loss=nan, val-loss=2.33140, \n",
      "plotting ...\n",
      "optimal test-loss (with current weight=0.50000): 0.00000\n",
      "model test-loss (with current weight=0.50000): 2.33140\n",
      "save model ...\n",
      "saved!\n",
      "----------------------------------------------------------------------------------------------------\n"
     ]
    },
    {
     "name": "stderr",
     "output_type": "stream",
     "text": [
      "80it [00:56,  1.41it/s]\n"
     ]
    },
    {
     "name": "stdout",
     "output_type": "stream",
     "text": [
      "evaluating ...\n",
      "epoch 28, weight=0.50000, train-loss=0.11417, optimal-val-loss=nan, val-loss=2.33084, \n",
      "plotting ...\n",
      "optimal test-loss (with current weight=0.50000): 0.00000\n",
      "model test-loss (with current weight=0.50000): 2.33084\n",
      "save model ...\n",
      "saved!\n",
      "----------------------------------------------------------------------------------------------------\n"
     ]
    },
    {
     "name": "stderr",
     "output_type": "stream",
     "text": [
      "80it [00:51,  1.55it/s]\n"
     ]
    },
    {
     "name": "stdout",
     "output_type": "stream",
     "text": [
      "evaluating ...\n",
      "epoch 29, weight=0.50000, train-loss=0.11510, optimal-val-loss=nan, val-loss=2.33080, \n",
      "plotting ...\n",
      "optimal test-loss (with current weight=0.50000): 0.00000\n",
      "model test-loss (with current weight=0.50000): 2.33080\n",
      "save model ...\n",
      "saved!\n",
      "----------------------------------------------------------------------------------------------------\n"
     ]
    },
    {
     "name": "stderr",
     "output_type": "stream",
     "text": [
      "80it [00:47,  1.67it/s]\n"
     ]
    },
    {
     "name": "stdout",
     "output_type": "stream",
     "text": [
      "evaluating ...\n",
      "epoch 30, weight=0.50000, train-loss=0.11736, optimal-val-loss=nan, val-loss=2.33130, \n",
      "plotting ...\n",
      "optimal test-loss (with current weight=0.50000): 0.00000\n",
      "model test-loss (with current weight=0.50000): 2.33130\n",
      "save model ...\n",
      "saved!\n",
      "----------------------------------------------------------------------------------------------------\n"
     ]
    },
    {
     "name": "stderr",
     "output_type": "stream",
     "text": [
      "80it [00:43,  1.84it/s]\n"
     ]
    },
    {
     "name": "stdout",
     "output_type": "stream",
     "text": [
      "evaluating ...\n",
      "epoch 31, weight=0.50000, train-loss=0.12114, optimal-val-loss=nan, val-loss=2.33086, \n",
      "plotting ...\n",
      "optimal test-loss (with current weight=0.50000): 0.00000\n",
      "model test-loss (with current weight=0.50000): 2.33086\n",
      "save model ...\n",
      "saved!\n",
      "----------------------------------------------------------------------------------------------------\n"
     ]
    },
    {
     "name": "stderr",
     "output_type": "stream",
     "text": [
      "80it [00:38,  2.08it/s]\n"
     ]
    },
    {
     "name": "stdout",
     "output_type": "stream",
     "text": [
      "evaluating ...\n",
      "epoch 32, weight=0.50000, train-loss=0.11468, optimal-val-loss=nan, val-loss=2.33127, \n",
      "plotting ...\n",
      "optimal test-loss (with current weight=0.50000): 0.00000\n",
      "model test-loss (with current weight=0.50000): 2.33127\n",
      "save model ...\n",
      "saved!\n",
      "----------------------------------------------------------------------------------------------------\n"
     ]
    },
    {
     "name": "stderr",
     "output_type": "stream",
     "text": [
      "80it [00:37,  2.12it/s]\n"
     ]
    },
    {
     "name": "stdout",
     "output_type": "stream",
     "text": [
      "evaluating ...\n",
      "epoch 33, weight=0.50000, train-loss=0.12026, optimal-val-loss=nan, val-loss=2.33126, \n",
      "plotting ...\n",
      "optimal test-loss (with current weight=0.50000): 0.00000\n",
      "model test-loss (with current weight=0.50000): 2.33126\n",
      "save model ...\n",
      "saved!\n",
      "----------------------------------------------------------------------------------------------------\n"
     ]
    },
    {
     "name": "stderr",
     "output_type": "stream",
     "text": [
      "80it [00:36,  2.17it/s]\n"
     ]
    },
    {
     "name": "stdout",
     "output_type": "stream",
     "text": [
      "evaluating ...\n",
      "epoch 34, weight=0.50000, train-loss=0.11575, optimal-val-loss=nan, val-loss=2.33127, \n",
      "plotting ...\n",
      "optimal test-loss (with current weight=0.50000): 0.00000\n",
      "model test-loss (with current weight=0.50000): 2.33127\n",
      "save model ...\n",
      "saved!\n",
      "----------------------------------------------------------------------------------------------------\n"
     ]
    },
    {
     "name": "stderr",
     "output_type": "stream",
     "text": [
      "80it [00:35,  2.22it/s]\n"
     ]
    },
    {
     "name": "stdout",
     "output_type": "stream",
     "text": [
      "evaluating ...\n",
      "epoch 35, weight=0.50000, train-loss=0.11317, optimal-val-loss=nan, val-loss=2.33222, \n",
      "plotting ...\n",
      "optimal test-loss (with current weight=0.50000): 0.00000\n",
      "model test-loss (with current weight=0.50000): 2.33222\n",
      "save model ...\n",
      "saved!\n",
      "----------------------------------------------------------------------------------------------------\n"
     ]
    },
    {
     "name": "stderr",
     "output_type": "stream",
     "text": [
      "80it [00:37,  2.15it/s]\n"
     ]
    },
    {
     "name": "stdout",
     "output_type": "stream",
     "text": [
      "evaluating ...\n",
      "epoch 36, weight=0.50000, train-loss=0.11137, optimal-val-loss=nan, val-loss=2.33201, \n",
      "plotting ...\n",
      "optimal test-loss (with current weight=0.50000): 0.00000\n",
      "model test-loss (with current weight=0.50000): 2.33201\n",
      "save model ...\n",
      "saved!\n",
      "----------------------------------------------------------------------------------------------------\n"
     ]
    },
    {
     "name": "stderr",
     "output_type": "stream",
     "text": [
      "80it [00:37,  2.12it/s]\n"
     ]
    },
    {
     "name": "stdout",
     "output_type": "stream",
     "text": [
      "evaluating ...\n",
      "epoch 37, weight=0.50000, train-loss=0.11398, optimal-val-loss=nan, val-loss=2.33126, \n",
      "plotting ...\n",
      "optimal test-loss (with current weight=0.50000): 0.00000\n",
      "model test-loss (with current weight=0.50000): 2.33126\n",
      "save model ...\n",
      "saved!\n",
      "----------------------------------------------------------------------------------------------------\n"
     ]
    },
    {
     "name": "stderr",
     "output_type": "stream",
     "text": [
      "80it [00:35,  2.24it/s]\n"
     ]
    },
    {
     "name": "stdout",
     "output_type": "stream",
     "text": [
      "evaluating ...\n",
      "epoch 38, weight=0.50000, train-loss=0.11527, optimal-val-loss=nan, val-loss=2.33192, \n",
      "plotting ...\n",
      "optimal test-loss (with current weight=0.50000): 0.00000\n",
      "model test-loss (with current weight=0.50000): 2.33192\n",
      "save model ...\n",
      "saved!\n",
      "----------------------------------------------------------------------------------------------------\n"
     ]
    },
    {
     "name": "stderr",
     "output_type": "stream",
     "text": [
      "80it [00:36,  2.22it/s]\n"
     ]
    },
    {
     "name": "stdout",
     "output_type": "stream",
     "text": [
      "evaluating ...\n",
      "epoch 39, weight=0.50000, train-loss=0.11616, optimal-val-loss=nan, val-loss=2.33183, \n",
      "plotting ...\n",
      "optimal test-loss (with current weight=0.50000): 0.00000\n",
      "model test-loss (with current weight=0.50000): 2.33183\n",
      "save model ...\n",
      "saved!\n",
      "----------------------------------------------------------------------------------------------------\n"
     ]
    },
    {
     "name": "stderr",
     "output_type": "stream",
     "text": [
      "80it [00:34,  2.35it/s]\n"
     ]
    },
    {
     "name": "stdout",
     "output_type": "stream",
     "text": [
      "evaluating ...\n",
      "epoch 40, weight=0.50000, train-loss=0.11585, optimal-val-loss=nan, val-loss=2.33123, \n",
      "plotting ...\n",
      "optimal test-loss (with current weight=0.50000): 0.00000\n",
      "model test-loss (with current weight=0.50000): 2.33123\n",
      "save model ...\n",
      "saved!\n",
      "----------------------------------------------------------------------------------------------------\n"
     ]
    },
    {
     "name": "stderr",
     "output_type": "stream",
     "text": [
      "80it [00:33,  2.42it/s]\n"
     ]
    },
    {
     "name": "stdout",
     "output_type": "stream",
     "text": [
      "evaluating ...\n",
      "epoch 41, weight=0.50000, train-loss=0.11531, optimal-val-loss=nan, val-loss=2.33109, \n",
      "plotting ...\n",
      "optimal test-loss (with current weight=0.50000): 0.00000\n",
      "model test-loss (with current weight=0.50000): 2.33109\n",
      "save model ...\n",
      "saved!\n",
      "----------------------------------------------------------------------------------------------------\n"
     ]
    },
    {
     "name": "stderr",
     "output_type": "stream",
     "text": [
      "80it [00:34,  2.33it/s]\n"
     ]
    },
    {
     "name": "stdout",
     "output_type": "stream",
     "text": [
      "evaluating ...\n",
      "epoch 42, weight=0.50000, train-loss=0.11637, optimal-val-loss=nan, val-loss=2.33102, \n",
      "plotting ...\n",
      "optimal test-loss (with current weight=0.50000): 0.00000\n",
      "model test-loss (with current weight=0.50000): 2.33102\n",
      "save model ...\n",
      "saved!\n",
      "----------------------------------------------------------------------------------------------------\n"
     ]
    },
    {
     "name": "stderr",
     "output_type": "stream",
     "text": [
      "80it [00:33,  2.37it/s]\n"
     ]
    },
    {
     "name": "stdout",
     "output_type": "stream",
     "text": [
      "evaluating ...\n",
      "epoch 43, weight=0.50000, train-loss=0.11625, optimal-val-loss=nan, val-loss=2.33171, \n",
      "plotting ...\n",
      "optimal test-loss (with current weight=0.50000): 0.00000\n",
      "model test-loss (with current weight=0.50000): 2.33171\n",
      "save model ...\n",
      "saved!\n",
      "----------------------------------------------------------------------------------------------------\n"
     ]
    },
    {
     "name": "stderr",
     "output_type": "stream",
     "text": [
      "80it [00:31,  2.51it/s]\n"
     ]
    },
    {
     "name": "stdout",
     "output_type": "stream",
     "text": [
      "evaluating ...\n",
      "epoch 44, weight=0.50000, train-loss=0.11280, optimal-val-loss=nan, val-loss=2.33077, \n",
      "plotting ...\n",
      "optimal test-loss (with current weight=0.50000): 0.00000\n",
      "model test-loss (with current weight=0.50000): 2.33077\n",
      "save model ...\n",
      "saved!\n",
      "----------------------------------------------------------------------------------------------------\n"
     ]
    },
    {
     "name": "stderr",
     "output_type": "stream",
     "text": [
      "80it [00:30,  2.60it/s]\n"
     ]
    },
    {
     "name": "stdout",
     "output_type": "stream",
     "text": [
      "evaluating ...\n",
      "epoch 45, weight=0.50000, train-loss=0.11554, optimal-val-loss=nan, val-loss=2.33210, \n",
      "plotting ...\n",
      "optimal test-loss (with current weight=0.50000): 0.00000\n",
      "model test-loss (with current weight=0.50000): 2.33210\n",
      "save model ...\n",
      "saved!\n",
      "----------------------------------------------------------------------------------------------------\n"
     ]
    },
    {
     "name": "stderr",
     "output_type": "stream",
     "text": [
      "80it [00:31,  2.56it/s]\n"
     ]
    },
    {
     "name": "stdout",
     "output_type": "stream",
     "text": [
      "evaluating ...\n",
      "epoch 46, weight=0.50000, train-loss=0.11637, optimal-val-loss=nan, val-loss=2.33111, \n",
      "plotting ...\n",
      "optimal test-loss (with current weight=0.50000): 0.00000\n",
      "model test-loss (with current weight=0.50000): 2.33111\n",
      "save model ...\n",
      "saved!\n",
      "----------------------------------------------------------------------------------------------------\n"
     ]
    },
    {
     "name": "stderr",
     "output_type": "stream",
     "text": [
      "80it [00:29,  2.69it/s]\n"
     ]
    },
    {
     "name": "stdout",
     "output_type": "stream",
     "text": [
      "evaluating ...\n",
      "epoch 47, weight=0.50000, train-loss=0.11540, optimal-val-loss=nan, val-loss=2.33106, \n",
      "plotting ...\n",
      "optimal test-loss (with current weight=0.50000): 0.00000\n",
      "model test-loss (with current weight=0.50000): 2.33106\n",
      "save model ...\n",
      "saved!\n",
      "----------------------------------------------------------------------------------------------------\n"
     ]
    },
    {
     "name": "stderr",
     "output_type": "stream",
     "text": [
      "80it [00:31,  2.52it/s]\n"
     ]
    },
    {
     "name": "stdout",
     "output_type": "stream",
     "text": [
      "evaluating ...\n",
      "epoch 48, weight=0.50000, train-loss=0.11441, optimal-val-loss=nan, val-loss=2.33108, \n",
      "plotting ...\n",
      "optimal test-loss (with current weight=0.50000): 0.00000\n",
      "model test-loss (with current weight=0.50000): 2.33108\n",
      "save model ...\n",
      "saved!\n",
      "----------------------------------------------------------------------------------------------------\n"
     ]
    },
    {
     "name": "stderr",
     "output_type": "stream",
     "text": [
      "80it [00:30,  2.62it/s]\n"
     ]
    },
    {
     "name": "stdout",
     "output_type": "stream",
     "text": [
      "evaluating ...\n",
      "epoch 49, weight=0.50000, train-loss=0.12021, optimal-val-loss=nan, val-loss=2.33112, \n",
      "plotting ...\n",
      "optimal test-loss (with current weight=0.50000): 0.00000\n",
      "model test-loss (with current weight=0.50000): 2.33112\n",
      "save model ...\n",
      "saved!\n",
      "----------------------------------------------------------------------------------------------------\n"
     ]
    },
    {
     "name": "stderr",
     "output_type": "stream",
     "text": [
      "80it [00:30,  2.58it/s]\n"
     ]
    },
    {
     "name": "stdout",
     "output_type": "stream",
     "text": [
      "evaluating ...\n",
      "epoch 50, weight=0.50000, train-loss=0.12226, optimal-val-loss=nan, val-loss=2.33120, \n",
      "plotting ...\n",
      "optimal test-loss (with current weight=0.50000): 0.00000\n",
      "model test-loss (with current weight=0.50000): 2.33120\n",
      "save model ...\n",
      "saved!\n",
      "----------------------------------------------------------------------------------------------------\n"
     ]
    },
    {
     "name": "stderr",
     "output_type": "stream",
     "text": [
      "80it [00:32,  2.45it/s]\n"
     ]
    },
    {
     "name": "stdout",
     "output_type": "stream",
     "text": [
      "evaluating ...\n",
      "epoch 51, weight=0.50000, train-loss=0.11688, optimal-val-loss=nan, val-loss=2.33332, \n",
      "plotting ...\n",
      "optimal test-loss (with current weight=0.50000): 0.00000\n",
      "model test-loss (with current weight=0.50000): 2.33332\n",
      "save model ...\n",
      "saved!\n",
      "----------------------------------------------------------------------------------------------------\n"
     ]
    },
    {
     "name": "stderr",
     "output_type": "stream",
     "text": [
      "80it [00:30,  2.64it/s]\n"
     ]
    },
    {
     "name": "stdout",
     "output_type": "stream",
     "text": [
      "evaluating ...\n",
      "epoch 52, weight=0.50000, train-loss=0.11396, optimal-val-loss=nan, val-loss=2.33172, \n",
      "plotting ...\n",
      "optimal test-loss (with current weight=0.50000): 0.00000\n",
      "model test-loss (with current weight=0.50000): 2.33172\n",
      "save model ...\n",
      "saved!\n",
      "----------------------------------------------------------------------------------------------------\n"
     ]
    },
    {
     "name": "stderr",
     "output_type": "stream",
     "text": [
      "80it [00:31,  2.51it/s]\n"
     ]
    },
    {
     "name": "stdout",
     "output_type": "stream",
     "text": [
      "evaluating ...\n",
      "epoch 53, weight=0.50000, train-loss=0.11505, optimal-val-loss=nan, val-loss=2.33111, \n",
      "plotting ...\n",
      "optimal test-loss (with current weight=0.50000): 0.00000\n",
      "model test-loss (with current weight=0.50000): 2.33111\n",
      "save model ...\n",
      "saved!\n",
      "----------------------------------------------------------------------------------------------------\n"
     ]
    },
    {
     "name": "stderr",
     "output_type": "stream",
     "text": [
      "80it [00:31,  2.51it/s]\n"
     ]
    },
    {
     "name": "stdout",
     "output_type": "stream",
     "text": [
      "evaluating ...\n",
      "epoch 54, weight=0.50000, train-loss=0.11980, optimal-val-loss=nan, val-loss=2.33089, \n",
      "plotting ...\n",
      "optimal test-loss (with current weight=0.50000): 0.00000\n",
      "model test-loss (with current weight=0.50000): 2.33089\n",
      "save model ...\n",
      "saved!\n",
      "----------------------------------------------------------------------------------------------------\n"
     ]
    },
    {
     "name": "stderr",
     "output_type": "stream",
     "text": [
      "80it [00:33,  2.39it/s]\n"
     ]
    },
    {
     "name": "stdout",
     "output_type": "stream",
     "text": [
      "evaluating ...\n",
      "epoch 55, weight=0.50000, train-loss=0.11514, optimal-val-loss=nan, val-loss=2.33154, \n",
      "plotting ...\n",
      "optimal test-loss (with current weight=0.50000): 0.00000\n",
      "model test-loss (with current weight=0.50000): 2.33154\n",
      "save model ...\n",
      "saved!\n",
      "----------------------------------------------------------------------------------------------------\n"
     ]
    },
    {
     "name": "stderr",
     "output_type": "stream",
     "text": [
      "80it [00:33,  2.40it/s]\n"
     ]
    },
    {
     "name": "stdout",
     "output_type": "stream",
     "text": [
      "evaluating ...\n",
      "epoch 56, weight=0.50000, train-loss=0.11531, optimal-val-loss=nan, val-loss=2.33160, \n",
      "plotting ...\n",
      "optimal test-loss (with current weight=0.50000): 0.00000\n",
      "model test-loss (with current weight=0.50000): 2.33160\n",
      "save model ...\n",
      "saved!\n",
      "----------------------------------------------------------------------------------------------------\n"
     ]
    },
    {
     "name": "stderr",
     "output_type": "stream",
     "text": [
      "80it [00:33,  2.37it/s]\n"
     ]
    },
    {
     "name": "stdout",
     "output_type": "stream",
     "text": [
      "evaluating ...\n",
      "epoch 57, weight=0.50000, train-loss=0.11489, optimal-val-loss=nan, val-loss=2.33118, \n",
      "plotting ...\n",
      "optimal test-loss (with current weight=0.50000): 0.00000\n",
      "model test-loss (with current weight=0.50000): 2.33118\n",
      "save model ...\n",
      "saved!\n",
      "----------------------------------------------------------------------------------------------------\n"
     ]
    },
    {
     "name": "stderr",
     "output_type": "stream",
     "text": [
      "80it [00:34,  2.33it/s]\n"
     ]
    },
    {
     "name": "stdout",
     "output_type": "stream",
     "text": [
      "evaluating ...\n",
      "epoch 58, weight=0.50000, train-loss=0.11704, optimal-val-loss=nan, val-loss=2.33094, \n",
      "plotting ...\n",
      "optimal test-loss (with current weight=0.50000): 0.00000\n",
      "model test-loss (with current weight=0.50000): 2.33094\n",
      "save model ...\n",
      "saved!\n",
      "----------------------------------------------------------------------------------------------------\n"
     ]
    },
    {
     "name": "stderr",
     "output_type": "stream",
     "text": [
      "80it [00:38,  2.09it/s]\n"
     ]
    },
    {
     "name": "stdout",
     "output_type": "stream",
     "text": [
      "evaluating ...\n",
      "epoch 59, weight=0.50000, train-loss=0.11901, optimal-val-loss=nan, val-loss=2.33098, \n",
      "plotting ...\n",
      "optimal test-loss (with current weight=0.50000): 0.00000\n",
      "model test-loss (with current weight=0.50000): 2.33098\n",
      "save model ...\n",
      "saved!\n",
      "----------------------------------------------------------------------------------------------------\n"
     ]
    },
    {
     "name": "stderr",
     "output_type": "stream",
     "text": [
      "80it [00:40,  1.95it/s]\n"
     ]
    },
    {
     "name": "stdout",
     "output_type": "stream",
     "text": [
      "evaluating ...\n",
      "epoch 60, weight=0.50000, train-loss=0.11689, optimal-val-loss=nan, val-loss=2.33099, \n",
      "plotting ...\n",
      "optimal test-loss (with current weight=0.50000): 0.00000\n",
      "model test-loss (with current weight=0.50000): 2.33099\n",
      "save model ...\n",
      "saved!\n",
      "----------------------------------------------------------------------------------------------------\n"
     ]
    },
    {
     "name": "stderr",
     "output_type": "stream",
     "text": [
      "80it [00:43,  1.85it/s]\n"
     ]
    },
    {
     "name": "stdout",
     "output_type": "stream",
     "text": [
      "evaluating ...\n",
      "epoch 61, weight=0.50000, train-loss=0.11706, optimal-val-loss=nan, val-loss=2.33192, \n",
      "plotting ...\n",
      "optimal test-loss (with current weight=0.50000): 0.00000\n",
      "model test-loss (with current weight=0.50000): 2.33192\n",
      "save model ...\n",
      "saved!\n",
      "----------------------------------------------------------------------------------------------------\n"
     ]
    },
    {
     "name": "stderr",
     "output_type": "stream",
     "text": [
      "80it [00:46,  1.73it/s]\n"
     ]
    },
    {
     "name": "stdout",
     "output_type": "stream",
     "text": [
      "evaluating ...\n",
      "epoch 62, weight=0.50000, train-loss=0.11310, optimal-val-loss=nan, val-loss=2.33159, \n",
      "plotting ...\n",
      "optimal test-loss (with current weight=0.50000): 0.00000\n",
      "model test-loss (with current weight=0.50000): 2.33159\n",
      "save model ...\n",
      "saved!\n",
      "----------------------------------------------------------------------------------------------------\n"
     ]
    },
    {
     "name": "stderr",
     "output_type": "stream",
     "text": [
      "80it [00:55,  1.44it/s]\n"
     ]
    },
    {
     "name": "stdout",
     "output_type": "stream",
     "text": [
      "evaluating ...\n",
      "epoch 63, weight=0.50000, train-loss=0.12081, optimal-val-loss=nan, val-loss=2.33140, \n",
      "plotting ...\n",
      "optimal test-loss (with current weight=0.50000): 0.00000\n",
      "model test-loss (with current weight=0.50000): 2.33140\n",
      "save model ...\n",
      "saved!\n",
      "----------------------------------------------------------------------------------------------------\n"
     ]
    },
    {
     "name": "stderr",
     "output_type": "stream",
     "text": [
      "80it [00:54,  1.47it/s]\n"
     ]
    },
    {
     "name": "stdout",
     "output_type": "stream",
     "text": [
      "evaluating ...\n",
      "epoch 64, weight=0.50000, train-loss=0.11547, optimal-val-loss=nan, val-loss=2.33084, \n",
      "plotting ...\n",
      "optimal test-loss (with current weight=0.50000): 0.00000\n",
      "model test-loss (with current weight=0.50000): 2.33084\n",
      "save model ...\n",
      "saved!\n",
      "----------------------------------------------------------------------------------------------------\n"
     ]
    },
    {
     "name": "stderr",
     "output_type": "stream",
     "text": [
      "80it [00:55,  1.44it/s]\n"
     ]
    },
    {
     "name": "stdout",
     "output_type": "stream",
     "text": [
      "evaluating ...\n",
      "epoch 65, weight=0.50000, train-loss=0.11057, optimal-val-loss=nan, val-loss=2.33287, \n",
      "plotting ...\n",
      "optimal test-loss (with current weight=0.50000): 0.00000\n",
      "model test-loss (with current weight=0.50000): 2.33287\n",
      "save model ...\n",
      "saved!\n",
      "----------------------------------------------------------------------------------------------------\n"
     ]
    },
    {
     "name": "stderr",
     "output_type": "stream",
     "text": [
      "80it [00:55,  1.44it/s]\n"
     ]
    },
    {
     "name": "stdout",
     "output_type": "stream",
     "text": [
      "evaluating ...\n",
      "epoch 66, weight=0.50000, train-loss=0.11256, optimal-val-loss=nan, val-loss=2.33120, \n",
      "plotting ...\n",
      "optimal test-loss (with current weight=0.50000): 0.00000\n",
      "model test-loss (with current weight=0.50000): 2.33120\n",
      "save model ...\n",
      "saved!\n",
      "----------------------------------------------------------------------------------------------------\n"
     ]
    },
    {
     "name": "stderr",
     "output_type": "stream",
     "text": [
      "80it [00:57,  1.40it/s]\n"
     ]
    },
    {
     "name": "stdout",
     "output_type": "stream",
     "text": [
      "evaluating ...\n",
      "epoch 67, weight=0.50000, train-loss=0.11547, optimal-val-loss=nan, val-loss=2.33145, \n",
      "plotting ...\n",
      "optimal test-loss (with current weight=0.50000): 0.00000\n",
      "model test-loss (with current weight=0.50000): 2.33145\n",
      "save model ...\n",
      "saved!\n",
      "----------------------------------------------------------------------------------------------------\n"
     ]
    },
    {
     "name": "stderr",
     "output_type": "stream",
     "text": [
      "80it [00:58,  1.37it/s]\n"
     ]
    },
    {
     "name": "stdout",
     "output_type": "stream",
     "text": [
      "evaluating ...\n",
      "epoch 68, weight=0.50000, train-loss=0.11572, optimal-val-loss=nan, val-loss=2.33150, \n",
      "plotting ...\n",
      "optimal test-loss (with current weight=0.50000): 0.00000\n",
      "model test-loss (with current weight=0.50000): 2.33150\n",
      "save model ...\n",
      "saved!\n",
      "----------------------------------------------------------------------------------------------------\n"
     ]
    },
    {
     "name": "stderr",
     "output_type": "stream",
     "text": [
      "80it [00:57,  1.39it/s]\n"
     ]
    },
    {
     "name": "stdout",
     "output_type": "stream",
     "text": [
      "evaluating ...\n",
      "epoch 69, weight=0.50000, train-loss=0.11429, optimal-val-loss=nan, val-loss=2.33125, \n",
      "plotting ...\n",
      "optimal test-loss (with current weight=0.50000): 0.00000\n",
      "model test-loss (with current weight=0.50000): 2.33125\n",
      "save model ...\n",
      "saved!\n",
      "----------------------------------------------------------------------------------------------------\n"
     ]
    },
    {
     "name": "stderr",
     "output_type": "stream",
     "text": [
      "80it [00:56,  1.42it/s]\n"
     ]
    },
    {
     "name": "stdout",
     "output_type": "stream",
     "text": [
      "evaluating ...\n",
      "epoch 70, weight=0.50000, train-loss=0.11934, optimal-val-loss=nan, val-loss=2.33134, \n",
      "plotting ...\n",
      "optimal test-loss (with current weight=0.50000): 0.00000\n",
      "model test-loss (with current weight=0.50000): 2.33134\n",
      "save model ...\n",
      "saved!\n",
      "----------------------------------------------------------------------------------------------------\n"
     ]
    },
    {
     "name": "stderr",
     "output_type": "stream",
     "text": [
      "80it [00:58,  1.37it/s]\n"
     ]
    },
    {
     "name": "stdout",
     "output_type": "stream",
     "text": [
      "evaluating ...\n",
      "epoch 71, weight=0.50000, train-loss=0.11425, optimal-val-loss=nan, val-loss=2.33090, \n",
      "plotting ...\n",
      "optimal test-loss (with current weight=0.50000): 0.00000\n",
      "model test-loss (with current weight=0.50000): 2.33090\n",
      "save model ...\n",
      "saved!\n",
      "----------------------------------------------------------------------------------------------------\n"
     ]
    },
    {
     "name": "stderr",
     "output_type": "stream",
     "text": [
      "80it [00:59,  1.34it/s]\n"
     ]
    },
    {
     "name": "stdout",
     "output_type": "stream",
     "text": [
      "evaluating ...\n",
      "epoch 72, weight=0.50000, train-loss=0.11300, optimal-val-loss=nan, val-loss=2.33183, \n",
      "plotting ...\n",
      "optimal test-loss (with current weight=0.50000): 0.00000\n",
      "model test-loss (with current weight=0.50000): 2.33183\n",
      "save model ...\n",
      "saved!\n",
      "----------------------------------------------------------------------------------------------------\n"
     ]
    },
    {
     "name": "stderr",
     "output_type": "stream",
     "text": [
      "80it [01:03,  1.25it/s]\n"
     ]
    },
    {
     "name": "stdout",
     "output_type": "stream",
     "text": [
      "evaluating ...\n",
      "epoch 73, weight=0.50000, train-loss=0.11452, optimal-val-loss=nan, val-loss=2.33114, \n",
      "plotting ...\n",
      "optimal test-loss (with current weight=0.50000): 0.00000\n",
      "model test-loss (with current weight=0.50000): 2.33114\n",
      "save model ...\n",
      "saved!\n",
      "----------------------------------------------------------------------------------------------------\n"
     ]
    },
    {
     "name": "stderr",
     "output_type": "stream",
     "text": [
      "80it [01:07,  1.18it/s]\n"
     ]
    },
    {
     "name": "stdout",
     "output_type": "stream",
     "text": [
      "evaluating ...\n",
      "epoch 74, weight=0.50000, train-loss=0.11915, optimal-val-loss=nan, val-loss=2.33225, \n",
      "plotting ...\n",
      "optimal test-loss (with current weight=0.50000): 0.00000\n",
      "model test-loss (with current weight=0.50000): 2.33225\n",
      "save model ...\n",
      "saved!\n",
      "----------------------------------------------------------------------------------------------------\n"
     ]
    },
    {
     "name": "stderr",
     "output_type": "stream",
     "text": [
      "80it [01:06,  1.21it/s]\n"
     ]
    },
    {
     "name": "stdout",
     "output_type": "stream",
     "text": [
      "evaluating ...\n",
      "epoch 75, weight=0.50000, train-loss=0.11680, optimal-val-loss=nan, val-loss=2.33174, \n",
      "plotting ...\n",
      "optimal test-loss (with current weight=0.50000): 0.00000\n",
      "model test-loss (with current weight=0.50000): 2.33174\n",
      "save model ...\n",
      "saved!\n",
      "----------------------------------------------------------------------------------------------------\n"
     ]
    },
    {
     "name": "stderr",
     "output_type": "stream",
     "text": [
      "80it [01:10,  1.13it/s]\n"
     ]
    },
    {
     "name": "stdout",
     "output_type": "stream",
     "text": [
      "evaluating ...\n",
      "epoch 76, weight=0.50000, train-loss=0.11487, optimal-val-loss=nan, val-loss=2.33197, \n",
      "plotting ...\n",
      "optimal test-loss (with current weight=0.50000): 0.00000\n",
      "model test-loss (with current weight=0.50000): 2.33197\n",
      "save model ...\n",
      "saved!\n",
      "----------------------------------------------------------------------------------------------------\n"
     ]
    },
    {
     "name": "stderr",
     "output_type": "stream",
     "text": [
      "80it [01:15,  1.05it/s]\n"
     ]
    },
    {
     "name": "stdout",
     "output_type": "stream",
     "text": [
      "evaluating ...\n",
      "epoch 77, weight=0.50000, train-loss=0.11485, optimal-val-loss=nan, val-loss=2.33166, \n",
      "plotting ...\n",
      "optimal test-loss (with current weight=0.50000): 0.00000\n",
      "model test-loss (with current weight=0.50000): 2.33166\n",
      "save model ...\n",
      "saved!\n",
      "----------------------------------------------------------------------------------------------------\n"
     ]
    },
    {
     "name": "stderr",
     "output_type": "stream",
     "text": [
      "80it [01:17,  1.03it/s]\n"
     ]
    },
    {
     "name": "stdout",
     "output_type": "stream",
     "text": [
      "evaluating ...\n",
      "epoch 78, weight=0.50000, train-loss=0.11684, optimal-val-loss=nan, val-loss=2.33119, \n",
      "plotting ...\n",
      "optimal test-loss (with current weight=0.50000): 0.00000\n",
      "model test-loss (with current weight=0.50000): 2.33119\n",
      "save model ...\n",
      "saved!\n",
      "----------------------------------------------------------------------------------------------------\n"
     ]
    },
    {
     "name": "stderr",
     "output_type": "stream",
     "text": [
      "80it [01:22,  1.03s/it]\n"
     ]
    },
    {
     "name": "stdout",
     "output_type": "stream",
     "text": [
      "evaluating ...\n",
      "epoch 79, weight=0.50000, train-loss=0.12096, optimal-val-loss=nan, val-loss=2.33109, \n",
      "plotting ...\n",
      "optimal test-loss (with current weight=0.50000): 0.00000\n",
      "model test-loss (with current weight=0.50000): 2.33109\n",
      "save model ...\n",
      "saved!\n",
      "----------------------------------------------------------------------------------------------------\n"
     ]
    },
    {
     "name": "stderr",
     "output_type": "stream",
     "text": [
      "80it [01:33,  1.17s/it]\n"
     ]
    },
    {
     "name": "stdout",
     "output_type": "stream",
     "text": [
      "evaluating ...\n",
      "epoch 80, weight=0.50000, train-loss=0.11646, optimal-val-loss=nan, val-loss=2.33119, \n",
      "plotting ...\n",
      "optimal test-loss (with current weight=0.50000): 0.00000\n",
      "model test-loss (with current weight=0.50000): 2.33119\n",
      "save model ...\n",
      "saved!\n",
      "----------------------------------------------------------------------------------------------------\n"
     ]
    },
    {
     "name": "stderr",
     "output_type": "stream",
     "text": [
      "80it [01:25,  1.07s/it]\n"
     ]
    },
    {
     "name": "stdout",
     "output_type": "stream",
     "text": [
      "evaluating ...\n",
      "epoch 81, weight=0.50000, train-loss=0.11385, optimal-val-loss=nan, val-loss=2.33102, \n",
      "plotting ...\n",
      "optimal test-loss (with current weight=0.50000): 0.00000\n",
      "model test-loss (with current weight=0.50000): 2.33102\n",
      "save model ...\n",
      "saved!\n",
      "----------------------------------------------------------------------------------------------------\n"
     ]
    },
    {
     "name": "stderr",
     "output_type": "stream",
     "text": [
      "80it [01:27,  1.09s/it]\n"
     ]
    },
    {
     "name": "stdout",
     "output_type": "stream",
     "text": [
      "evaluating ...\n",
      "epoch 82, weight=0.50000, train-loss=0.11548, optimal-val-loss=nan, val-loss=2.33141, \n",
      "plotting ...\n",
      "optimal test-loss (with current weight=0.50000): 0.00000\n",
      "model test-loss (with current weight=0.50000): 2.33141\n",
      "save model ...\n",
      "saved!\n",
      "----------------------------------------------------------------------------------------------------\n"
     ]
    },
    {
     "name": "stderr",
     "output_type": "stream",
     "text": [
      "80it [01:29,  1.12s/it]\n"
     ]
    },
    {
     "name": "stdout",
     "output_type": "stream",
     "text": [
      "evaluating ...\n",
      "epoch 83, weight=0.50000, train-loss=0.11700, optimal-val-loss=nan, val-loss=2.33125, \n",
      "plotting ...\n",
      "optimal test-loss (with current weight=0.50000): 0.00000\n",
      "model test-loss (with current weight=0.50000): 2.33125\n",
      "save model ...\n",
      "saved!\n",
      "----------------------------------------------------------------------------------------------------\n"
     ]
    },
    {
     "name": "stderr",
     "output_type": "stream",
     "text": [
      "80it [01:28,  1.11s/it]\n"
     ]
    },
    {
     "name": "stdout",
     "output_type": "stream",
     "text": [
      "evaluating ...\n",
      "epoch 84, weight=0.50000, train-loss=0.12247, optimal-val-loss=nan, val-loss=2.33113, \n",
      "plotting ...\n",
      "optimal test-loss (with current weight=0.50000): 0.00000\n",
      "model test-loss (with current weight=0.50000): 2.33113\n",
      "save model ...\n",
      "saved!\n",
      "----------------------------------------------------------------------------------------------------\n"
     ]
    },
    {
     "name": "stderr",
     "output_type": "stream",
     "text": [
      "80it [01:29,  1.12s/it]\n"
     ]
    },
    {
     "name": "stdout",
     "output_type": "stream",
     "text": [
      "evaluating ...\n",
      "epoch 85, weight=0.50000, train-loss=0.11659, optimal-val-loss=nan, val-loss=2.33107, \n",
      "plotting ...\n",
      "optimal test-loss (with current weight=0.50000): 0.00000\n",
      "model test-loss (with current weight=0.50000): 2.33107\n",
      "save model ...\n",
      "saved!\n",
      "----------------------------------------------------------------------------------------------------\n"
     ]
    },
    {
     "name": "stderr",
     "output_type": "stream",
     "text": [
      "80it [01:37,  1.22s/it]\n"
     ]
    },
    {
     "name": "stdout",
     "output_type": "stream",
     "text": [
      "evaluating ...\n",
      "epoch 86, weight=0.50000, train-loss=0.11374, optimal-val-loss=nan, val-loss=2.33138, \n",
      "plotting ...\n",
      "optimal test-loss (with current weight=0.50000): 0.00000\n",
      "model test-loss (with current weight=0.50000): 2.33138\n",
      "save model ...\n",
      "saved!\n",
      "----------------------------------------------------------------------------------------------------\n"
     ]
    },
    {
     "name": "stderr",
     "output_type": "stream",
     "text": [
      "80it [01:32,  1.15s/it]\n"
     ]
    },
    {
     "name": "stdout",
     "output_type": "stream",
     "text": [
      "evaluating ...\n",
      "epoch 87, weight=0.50000, train-loss=0.11974, optimal-val-loss=nan, val-loss=2.33136, \n",
      "plotting ...\n",
      "optimal test-loss (with current weight=0.50000): 0.00000\n",
      "model test-loss (with current weight=0.50000): 2.33136\n",
      "save model ...\n",
      "saved!\n",
      "----------------------------------------------------------------------------------------------------\n"
     ]
    },
    {
     "name": "stderr",
     "output_type": "stream",
     "text": [
      "80it [01:29,  1.12s/it]\n"
     ]
    },
    {
     "name": "stdout",
     "output_type": "stream",
     "text": [
      "evaluating ...\n",
      "epoch 88, weight=0.50000, train-loss=0.11566, optimal-val-loss=nan, val-loss=2.33112, \n",
      "plotting ...\n",
      "optimal test-loss (with current weight=0.50000): 0.00000\n",
      "model test-loss (with current weight=0.50000): 2.33112\n",
      "save model ...\n",
      "saved!\n",
      "----------------------------------------------------------------------------------------------------\n"
     ]
    },
    {
     "name": "stderr",
     "output_type": "stream",
     "text": [
      "80it [01:29,  1.12s/it]\n"
     ]
    },
    {
     "name": "stdout",
     "output_type": "stream",
     "text": [
      "evaluating ...\n",
      "epoch 89, weight=0.50000, train-loss=0.12154, optimal-val-loss=nan, val-loss=2.33210, \n",
      "plotting ...\n",
      "optimal test-loss (with current weight=0.50000): 0.00000\n",
      "model test-loss (with current weight=0.50000): 2.33210\n",
      "save model ...\n",
      "saved!\n",
      "----------------------------------------------------------------------------------------------------\n"
     ]
    },
    {
     "name": "stderr",
     "output_type": "stream",
     "text": [
      "80it [01:29,  1.11s/it]\n"
     ]
    },
    {
     "name": "stdout",
     "output_type": "stream",
     "text": [
      "evaluating ...\n",
      "epoch 90, weight=0.50000, train-loss=0.11477, optimal-val-loss=nan, val-loss=2.33071, \n",
      "plotting ...\n",
      "optimal test-loss (with current weight=0.50000): 0.00000\n",
      "model test-loss (with current weight=0.50000): 2.33071\n",
      "save model ...\n",
      "saved!\n",
      "----------------------------------------------------------------------------------------------------\n"
     ]
    },
    {
     "name": "stderr",
     "output_type": "stream",
     "text": [
      "80it [01:30,  1.13s/it]\n"
     ]
    },
    {
     "name": "stdout",
     "output_type": "stream",
     "text": [
      "evaluating ...\n",
      "epoch 91, weight=0.50000, train-loss=0.11368, optimal-val-loss=nan, val-loss=2.33129, \n",
      "plotting ...\n",
      "optimal test-loss (with current weight=0.50000): 0.00000\n",
      "model test-loss (with current weight=0.50000): 2.33129\n",
      "save model ...\n",
      "saved!\n",
      "----------------------------------------------------------------------------------------------------\n"
     ]
    },
    {
     "name": "stderr",
     "output_type": "stream",
     "text": [
      "80it [01:32,  1.15s/it]\n"
     ]
    },
    {
     "name": "stdout",
     "output_type": "stream",
     "text": [
      "evaluating ...\n",
      "epoch 92, weight=0.50000, train-loss=0.11653, optimal-val-loss=nan, val-loss=2.33130, \n",
      "plotting ...\n",
      "optimal test-loss (with current weight=0.50000): 0.00000\n",
      "model test-loss (with current weight=0.50000): 2.33130\n",
      "save model ...\n",
      "saved!\n",
      "----------------------------------------------------------------------------------------------------\n"
     ]
    },
    {
     "name": "stderr",
     "output_type": "stream",
     "text": [
      "80it [01:30,  1.13s/it]\n"
     ]
    },
    {
     "name": "stdout",
     "output_type": "stream",
     "text": [
      "evaluating ...\n",
      "epoch 93, weight=0.50000, train-loss=0.11812, optimal-val-loss=nan, val-loss=2.33169, \n",
      "plotting ...\n",
      "optimal test-loss (with current weight=0.50000): 0.00000\n",
      "model test-loss (with current weight=0.50000): 2.33169\n",
      "save model ...\n",
      "saved!\n",
      "----------------------------------------------------------------------------------------------------\n"
     ]
    },
    {
     "name": "stderr",
     "output_type": "stream",
     "text": [
      "80it [01:29,  1.12s/it]\n"
     ]
    },
    {
     "name": "stdout",
     "output_type": "stream",
     "text": [
      "evaluating ...\n",
      "epoch 94, weight=0.50000, train-loss=0.11472, optimal-val-loss=nan, val-loss=2.33258, \n",
      "plotting ...\n",
      "optimal test-loss (with current weight=0.50000): 0.00000\n",
      "model test-loss (with current weight=0.50000): 2.33258\n",
      "save model ...\n",
      "saved!\n",
      "----------------------------------------------------------------------------------------------------\n"
     ]
    },
    {
     "name": "stderr",
     "output_type": "stream",
     "text": [
      "80it [01:26,  1.08s/it]\n"
     ]
    },
    {
     "name": "stdout",
     "output_type": "stream",
     "text": [
      "evaluating ...\n",
      "epoch 95, weight=0.50000, train-loss=0.11453, optimal-val-loss=nan, val-loss=2.33152, \n",
      "plotting ...\n",
      "optimal test-loss (with current weight=0.50000): 0.00000\n",
      "model test-loss (with current weight=0.50000): 2.33152\n",
      "save model ...\n",
      "saved!\n",
      "----------------------------------------------------------------------------------------------------\n"
     ]
    },
    {
     "name": "stderr",
     "output_type": "stream",
     "text": [
      "80it [01:27,  1.10s/it]\n"
     ]
    },
    {
     "name": "stdout",
     "output_type": "stream",
     "text": [
      "evaluating ...\n",
      "epoch 96, weight=0.50000, train-loss=0.11532, optimal-val-loss=nan, val-loss=2.33094, \n",
      "plotting ...\n",
      "optimal test-loss (with current weight=0.50000): 0.00000\n",
      "model test-loss (with current weight=0.50000): 2.33094\n",
      "save model ...\n",
      "saved!\n",
      "----------------------------------------------------------------------------------------------------\n"
     ]
    },
    {
     "name": "stderr",
     "output_type": "stream",
     "text": [
      "80it [01:27,  1.10s/it]\n"
     ]
    },
    {
     "name": "stdout",
     "output_type": "stream",
     "text": [
      "evaluating ...\n",
      "epoch 97, weight=0.50000, train-loss=0.11830, optimal-val-loss=nan, val-loss=2.33119, \n",
      "plotting ...\n",
      "optimal test-loss (with current weight=0.50000): 0.00000\n",
      "model test-loss (with current weight=0.50000): 2.33119\n",
      "save model ...\n",
      "saved!\n",
      "----------------------------------------------------------------------------------------------------\n"
     ]
    },
    {
     "name": "stderr",
     "output_type": "stream",
     "text": [
      "80it [01:25,  1.06s/it]\n"
     ]
    },
    {
     "name": "stdout",
     "output_type": "stream",
     "text": [
      "evaluating ...\n",
      "epoch 98, weight=0.50000, train-loss=0.11657, optimal-val-loss=nan, val-loss=2.33103, \n",
      "plotting ...\n",
      "optimal test-loss (with current weight=0.50000): 0.00000\n",
      "model test-loss (with current weight=0.50000): 2.33103\n",
      "save model ...\n",
      "saved!\n",
      "----------------------------------------------------------------------------------------------------\n"
     ]
    },
    {
     "name": "stderr",
     "output_type": "stream",
     "text": [
      "80it [01:25,  1.06s/it]\n"
     ]
    },
    {
     "name": "stdout",
     "output_type": "stream",
     "text": [
      "evaluating ...\n",
      "epoch 99, weight=0.50000, train-loss=0.11475, optimal-val-loss=nan, val-loss=2.33177, \n",
      "plotting ...\n",
      "optimal test-loss (with current weight=0.50000): 0.00000\n",
      "model test-loss (with current weight=0.50000): 2.33177\n",
      "save model ...\n",
      "saved!\n",
      "----------------------------------------------------------------------------------------------------\n"
     ]
    },
    {
     "name": "stderr",
     "output_type": "stream",
     "text": [
      "80it [01:26,  1.08s/it]\n"
     ]
    },
    {
     "name": "stdout",
     "output_type": "stream",
     "text": [
      "evaluating ...\n",
      "epoch 100, weight=0.50000, train-loss=0.11519, optimal-val-loss=nan, val-loss=2.33174, \n",
      "plotting ...\n",
      "optimal test-loss (with current weight=0.50000): 0.00000\n",
      "model test-loss (with current weight=0.50000): 2.33174\n",
      "save model ...\n",
      "saved!\n",
      "----------------------------------------------------------------------------------------------------\n",
      "{'S0': [1.0, 1.5, 2.0], 'dimension': 3, 'dt': 0.01, 'maturity': 1.0, 'mean': [1.2, 1.0, 1.5], 'model_name': 'OrnsteinUhlenbeckMultiDimensional', 'nb_paths': 10000, 'nb_steps': 100, 'obs_perc': 1.0, 'scheme': 'euler', 'speed': [[0.3, 0.0, 0.0], [0.0, 0.3, 0.0], [0.0, 0.0, 0.3]], 'volatility': [[0.2, 0.1, 0.1], [0.1, 0.25, 0.1], [0.1, 0.1, 0.3]]}\n",
      "using loss: easy\n",
      "neuralODE use input scaling with tanh\n",
      "use residual network: input_size=3, output_size=10\n",
      "use residual network: input_size=10, output_size=3\n",
      "model-id: None\n",
      "\n",
      "using CPU\n",
      "input_coords: [0 1 2]\n",
      "output_coords: [0 1 2]\n",
      "input_size: 3\n",
      "output_size: 3\n",
      "signature_coords: [0 1 2]\n",
      "optimal val-loss (achieved by true cond exp): 0.00253\n",
      "new model_id=89\n",
      "model params:\n",
      "{\"batch_size\": 100, \"bias\": true, \"data_dict\": null, \"dataset\": \"OrnsteinUhlenbeckMultiDimensional\", \"dataset_id\": 96, \"dropout_rate\": 0.1, \"enc_nn\": [[50, \"tanh\"], [50, \"tanh\"]], \"epochs\": 100, \"hidden_size\": 10, \"input_size\": 3, \"learning_rate\": 0.001, \"ode_nn\": [[50, \"tanh\"], [50, \"tanh\"]], \"optimal_val_loss\": 0.002532841979241091, \"options\": {\"use_cond_exp\": true, \"which_loss\": \"easy\"}, \"output_size\": 3, \"readout_nn\": [[50, \"tanh\"], [50, \"tanh\"]], \"seed\": 398, \"solver\": \"euler\", \"test_size\": 0.2, \"use_rnn\": false, \"weight\": 0.5, \"weight_decay\": 1.0}\n",
      "initiate new model ...\n",
      "\n",
      "model overview:\n",
      "NJODE(\n",
      "  (ode_f): ODEFunc(\n",
      "    (f): Sequential(\n",
      "      (0): Linear(in_features=15, out_features=50, bias=True)\n",
      "      (1): Tanh()\n",
      "      (2): Dropout(p=0.1, inplace=False)\n",
      "      (3): Linear(in_features=50, out_features=50, bias=True)\n",
      "      (4): Tanh()\n",
      "      (5): Dropout(p=0.1, inplace=False)\n",
      "      (6): Linear(in_features=50, out_features=10, bias=True)\n",
      "    )\n",
      "  )\n",
      "  (encoder_map): FFNN(\n",
      "    (ffnn): Sequential(\n",
      "      (0): Linear(in_features=3, out_features=50, bias=True)\n",
      "      (1): Tanh()\n",
      "      (2): Dropout(p=0.1, inplace=False)\n",
      "      (3): Linear(in_features=50, out_features=50, bias=True)\n",
      "      (4): Tanh()\n",
      "      (5): Dropout(p=0.1, inplace=False)\n",
      "      (6): Linear(in_features=50, out_features=10, bias=True)\n",
      "    )\n",
      "  )\n",
      "  (readout_map): FFNN(\n",
      "    (ffnn): Sequential(\n",
      "      (0): Linear(in_features=10, out_features=50, bias=True)\n",
      "      (1): Tanh()\n",
      "      (2): Dropout(p=0.1, inplace=False)\n",
      "      (3): Linear(in_features=50, out_features=50, bias=True)\n",
      "      (4): Tanh()\n",
      "      (5): Dropout(p=0.1, inplace=False)\n",
      "      (6): Linear(in_features=50, out_features=3, bias=True)\n",
      "    )\n",
      "  )\n",
      ") \n",
      "\n",
      "# parameters=10373\n",
      "\n",
      "# trainable parameters=10373\n",
      "\n",
      "start training ...\n"
     ]
    },
    {
     "name": "stderr",
     "output_type": "stream",
     "text": [
      "80it [00:28,  2.81it/s]\n"
     ]
    },
    {
     "name": "stdout",
     "output_type": "stream",
     "text": [
      "evaluating ...\n",
      "epoch 1, weight=0.50000, train-loss=0.10657, optimal-val-loss=0.00253, val-loss=0.00599, \n",
      "plotting ...\n"
     ]
    },
    {
     "name": "stderr",
     "output_type": "stream",
     "text": [
      "C:\\Users\\gg868\\thesis\\NJODE\\train.py:987: FutureWarning: The behavior of DataFrame concatenation with empty or all-NA entries is deprecated. In a future version, this will no longer exclude empty or all-NA columns when determining the result dtypes. To retain the old behavior, exclude the relevant entries before the concat operation.\n",
      "  df_metric = pd.concat([df_metric, df_m_app], ignore_index=True)\n",
      "C:\\Users\\gg868\\thesis\\NJODE\\train.py:998: FutureWarning: The behavior of DataFrame concatenation with empty or all-NA entries is deprecated. In a future version, this will no longer exclude empty or all-NA columns when determining the result dtypes. To retain the old behavior, exclude the relevant entries before the concat operation.\n",
      "  df_metric = pd.concat([df_metric, df_m_app], ignore_index=True)\n"
     ]
    },
    {
     "name": "stdout",
     "output_type": "stream",
     "text": [
      "optimal test-loss (with current weight=0.50000): 0.00253\n",
      "model test-loss (with current weight=0.50000): 0.00599\n",
      "save model ...\n",
      "saved!\n",
      "save new best model: last-best-loss: inf, new-best-loss: 0.00599, epoch: 1\n",
      "saved!\n",
      "----------------------------------------------------------------------------------------------------\n"
     ]
    },
    {
     "name": "stderr",
     "output_type": "stream",
     "text": [
      "80it [00:36,  2.16it/s]\n"
     ]
    },
    {
     "name": "stdout",
     "output_type": "stream",
     "text": [
      "evaluating ...\n",
      "epoch 2, weight=0.50000, train-loss=0.04210, optimal-val-loss=0.00253, val-loss=0.00391, \n",
      "plotting ...\n",
      "optimal test-loss (with current weight=0.50000): 0.00253\n",
      "model test-loss (with current weight=0.50000): 0.00391\n",
      "save model ...\n",
      "saved!\n",
      "save new best model: last-best-loss: 0.00599, new-best-loss: 0.00391, epoch: 2\n"
     ]
    },
    {
     "name": "stderr",
     "output_type": "stream",
     "text": [
      "C:\\Users\\gg868\\thesis\\NJODE\\train.py:998: FutureWarning: The behavior of DataFrame concatenation with empty or all-NA entries is deprecated. In a future version, this will no longer exclude empty or all-NA columns when determining the result dtypes. To retain the old behavior, exclude the relevant entries before the concat operation.\n",
      "  df_metric = pd.concat([df_metric, df_m_app], ignore_index=True)\n"
     ]
    },
    {
     "name": "stdout",
     "output_type": "stream",
     "text": [
      "saved!\n",
      "----------------------------------------------------------------------------------------------------\n"
     ]
    },
    {
     "name": "stderr",
     "output_type": "stream",
     "text": [
      "80it [00:46,  1.72it/s]\n"
     ]
    },
    {
     "name": "stdout",
     "output_type": "stream",
     "text": [
      "evaluating ...\n",
      "epoch 3, weight=0.50000, train-loss=0.02414, optimal-val-loss=0.00253, val-loss=0.00326, \n",
      "plotting ...\n"
     ]
    },
    {
     "name": "stderr",
     "output_type": "stream",
     "text": [
      "C:\\Users\\gg868\\thesis\\NJODE\\train.py:998: FutureWarning: The behavior of DataFrame concatenation with empty or all-NA entries is deprecated. In a future version, this will no longer exclude empty or all-NA columns when determining the result dtypes. To retain the old behavior, exclude the relevant entries before the concat operation.\n",
      "  df_metric = pd.concat([df_metric, df_m_app], ignore_index=True)\n"
     ]
    },
    {
     "name": "stdout",
     "output_type": "stream",
     "text": [
      "optimal test-loss (with current weight=0.50000): 0.00253\n",
      "model test-loss (with current weight=0.50000): 0.00326\n",
      "save model ...\n",
      "saved!\n",
      "save new best model: last-best-loss: 0.00391, new-best-loss: 0.00326, epoch: 3\n",
      "saved!\n",
      "----------------------------------------------------------------------------------------------------\n"
     ]
    },
    {
     "name": "stderr",
     "output_type": "stream",
     "text": [
      "80it [00:26,  3.00it/s]\n"
     ]
    },
    {
     "name": "stdout",
     "output_type": "stream",
     "text": [
      "evaluating ...\n",
      "epoch 4, weight=0.50000, train-loss=0.01674, optimal-val-loss=0.00253, val-loss=0.00302, \n",
      "plotting ...\n"
     ]
    },
    {
     "name": "stderr",
     "output_type": "stream",
     "text": [
      "C:\\Users\\gg868\\thesis\\NJODE\\train.py:998: FutureWarning: The behavior of DataFrame concatenation with empty or all-NA entries is deprecated. In a future version, this will no longer exclude empty or all-NA columns when determining the result dtypes. To retain the old behavior, exclude the relevant entries before the concat operation.\n",
      "  df_metric = pd.concat([df_metric, df_m_app], ignore_index=True)\n"
     ]
    },
    {
     "name": "stdout",
     "output_type": "stream",
     "text": [
      "optimal test-loss (with current weight=0.50000): 0.00253\n",
      "model test-loss (with current weight=0.50000): 0.00302\n",
      "save model ...\n",
      "saved!\n",
      "save new best model: last-best-loss: 0.00326, new-best-loss: 0.00302, epoch: 4\n",
      "saved!\n",
      "----------------------------------------------------------------------------------------------------\n"
     ]
    },
    {
     "name": "stderr",
     "output_type": "stream",
     "text": [
      "80it [00:25,  3.08it/s]\n"
     ]
    },
    {
     "name": "stdout",
     "output_type": "stream",
     "text": [
      "evaluating ...\n",
      "epoch 5, weight=0.50000, train-loss=0.01311, optimal-val-loss=0.00253, val-loss=0.00288, \n",
      "plotting ...\n"
     ]
    },
    {
     "name": "stderr",
     "output_type": "stream",
     "text": [
      "C:\\Users\\gg868\\thesis\\NJODE\\train.py:998: FutureWarning: The behavior of DataFrame concatenation with empty or all-NA entries is deprecated. In a future version, this will no longer exclude empty or all-NA columns when determining the result dtypes. To retain the old behavior, exclude the relevant entries before the concat operation.\n",
      "  df_metric = pd.concat([df_metric, df_m_app], ignore_index=True)\n"
     ]
    },
    {
     "name": "stdout",
     "output_type": "stream",
     "text": [
      "optimal test-loss (with current weight=0.50000): 0.00253\n",
      "model test-loss (with current weight=0.50000): 0.00288\n",
      "save model ...\n",
      "saved!\n",
      "save new best model: last-best-loss: 0.00302, new-best-loss: 0.00288, epoch: 5\n",
      "saved!\n",
      "----------------------------------------------------------------------------------------------------\n"
     ]
    },
    {
     "name": "stderr",
     "output_type": "stream",
     "text": [
      "80it [00:27,  2.94it/s]\n"
     ]
    },
    {
     "name": "stdout",
     "output_type": "stream",
     "text": [
      "evaluating ...\n",
      "epoch 6, weight=0.50000, train-loss=0.01067, optimal-val-loss=0.00253, val-loss=0.00281, \n",
      "plotting ...\n"
     ]
    },
    {
     "name": "stderr",
     "output_type": "stream",
     "text": [
      "C:\\Users\\gg868\\thesis\\NJODE\\train.py:998: FutureWarning: The behavior of DataFrame concatenation with empty or all-NA entries is deprecated. In a future version, this will no longer exclude empty or all-NA columns when determining the result dtypes. To retain the old behavior, exclude the relevant entries before the concat operation.\n",
      "  df_metric = pd.concat([df_metric, df_m_app], ignore_index=True)\n"
     ]
    },
    {
     "name": "stdout",
     "output_type": "stream",
     "text": [
      "optimal test-loss (with current weight=0.50000): 0.00253\n",
      "model test-loss (with current weight=0.50000): 0.00281\n",
      "save model ...\n",
      "saved!\n",
      "save new best model: last-best-loss: 0.00288, new-best-loss: 0.00281, epoch: 6\n",
      "saved!\n",
      "----------------------------------------------------------------------------------------------------\n"
     ]
    },
    {
     "name": "stderr",
     "output_type": "stream",
     "text": [
      "80it [00:26,  2.99it/s]\n"
     ]
    },
    {
     "name": "stdout",
     "output_type": "stream",
     "text": [
      "evaluating ...\n",
      "epoch 7, weight=0.50000, train-loss=0.00925, optimal-val-loss=0.00253, val-loss=0.00276, \n",
      "plotting ...\n"
     ]
    },
    {
     "name": "stderr",
     "output_type": "stream",
     "text": [
      "C:\\Users\\gg868\\thesis\\NJODE\\train.py:998: FutureWarning: The behavior of DataFrame concatenation with empty or all-NA entries is deprecated. In a future version, this will no longer exclude empty or all-NA columns when determining the result dtypes. To retain the old behavior, exclude the relevant entries before the concat operation.\n",
      "  df_metric = pd.concat([df_metric, df_m_app], ignore_index=True)\n"
     ]
    },
    {
     "name": "stdout",
     "output_type": "stream",
     "text": [
      "optimal test-loss (with current weight=0.50000): 0.00253\n",
      "model test-loss (with current weight=0.50000): 0.00276\n",
      "save model ...\n",
      "saved!\n",
      "save new best model: last-best-loss: 0.00281, new-best-loss: 0.00276, epoch: 7\n",
      "saved!\n",
      "----------------------------------------------------------------------------------------------------\n"
     ]
    },
    {
     "name": "stderr",
     "output_type": "stream",
     "text": [
      "80it [00:27,  2.94it/s]\n"
     ]
    },
    {
     "name": "stdout",
     "output_type": "stream",
     "text": [
      "evaluating ...\n",
      "epoch 8, weight=0.50000, train-loss=0.00800, optimal-val-loss=0.00253, val-loss=0.00273, \n",
      "plotting ...\n"
     ]
    },
    {
     "name": "stderr",
     "output_type": "stream",
     "text": [
      "C:\\Users\\gg868\\thesis\\NJODE\\train.py:998: FutureWarning: The behavior of DataFrame concatenation with empty or all-NA entries is deprecated. In a future version, this will no longer exclude empty or all-NA columns when determining the result dtypes. To retain the old behavior, exclude the relevant entries before the concat operation.\n",
      "  df_metric = pd.concat([df_metric, df_m_app], ignore_index=True)\n"
     ]
    },
    {
     "name": "stdout",
     "output_type": "stream",
     "text": [
      "optimal test-loss (with current weight=0.50000): 0.00253\n",
      "model test-loss (with current weight=0.50000): 0.00273\n",
      "save model ...\n",
      "saved!\n",
      "save new best model: last-best-loss: 0.00276, new-best-loss: 0.00273, epoch: 8\n",
      "saved!\n",
      "----------------------------------------------------------------------------------------------------\n"
     ]
    },
    {
     "name": "stderr",
     "output_type": "stream",
     "text": [
      "80it [00:26,  3.01it/s]\n"
     ]
    },
    {
     "name": "stdout",
     "output_type": "stream",
     "text": [
      "evaluating ...\n",
      "epoch 9, weight=0.50000, train-loss=0.00718, optimal-val-loss=0.00253, val-loss=0.00268, \n",
      "plotting ...\n"
     ]
    },
    {
     "name": "stderr",
     "output_type": "stream",
     "text": [
      "C:\\Users\\gg868\\thesis\\NJODE\\train.py:998: FutureWarning: The behavior of DataFrame concatenation with empty or all-NA entries is deprecated. In a future version, this will no longer exclude empty or all-NA columns when determining the result dtypes. To retain the old behavior, exclude the relevant entries before the concat operation.\n",
      "  df_metric = pd.concat([df_metric, df_m_app], ignore_index=True)\n"
     ]
    },
    {
     "name": "stdout",
     "output_type": "stream",
     "text": [
      "optimal test-loss (with current weight=0.50000): 0.00253\n",
      "model test-loss (with current weight=0.50000): 0.00268\n",
      "save model ...\n",
      "saved!\n",
      "save new best model: last-best-loss: 0.00273, new-best-loss: 0.00268, epoch: 9\n",
      "saved!\n",
      "----------------------------------------------------------------------------------------------------\n"
     ]
    },
    {
     "name": "stderr",
     "output_type": "stream",
     "text": [
      "80it [00:27,  2.95it/s]\n"
     ]
    },
    {
     "name": "stdout",
     "output_type": "stream",
     "text": [
      "evaluating ...\n",
      "epoch 10, weight=0.50000, train-loss=0.00651, optimal-val-loss=0.00253, val-loss=0.00268, \n",
      "plotting ...\n",
      "optimal test-loss (with current weight=0.50000): 0.00253\n",
      "model test-loss (with current weight=0.50000): 0.00268\n",
      "save model ...\n",
      "saved!\n",
      "----------------------------------------------------------------------------------------------------\n"
     ]
    },
    {
     "name": "stderr",
     "output_type": "stream",
     "text": [
      "80it [00:27,  2.89it/s]\n"
     ]
    },
    {
     "name": "stdout",
     "output_type": "stream",
     "text": [
      "evaluating ...\n",
      "epoch 11, weight=0.50000, train-loss=0.00585, optimal-val-loss=0.00253, val-loss=0.00264, \n",
      "plotting ...\n",
      "optimal test-loss (with current weight=0.50000): 0.00253\n",
      "model test-loss (with current weight=0.50000): 0.00264\n",
      "save model ...\n",
      "saved!\n",
      "save new best model: last-best-loss: 0.00268, new-best-loss: 0.00264, epoch: 11\n"
     ]
    },
    {
     "name": "stderr",
     "output_type": "stream",
     "text": [
      "C:\\Users\\gg868\\thesis\\NJODE\\train.py:998: FutureWarning: The behavior of DataFrame concatenation with empty or all-NA entries is deprecated. In a future version, this will no longer exclude empty or all-NA columns when determining the result dtypes. To retain the old behavior, exclude the relevant entries before the concat operation.\n",
      "  df_metric = pd.concat([df_metric, df_m_app], ignore_index=True)\n"
     ]
    },
    {
     "name": "stdout",
     "output_type": "stream",
     "text": [
      "saved!\n",
      "----------------------------------------------------------------------------------------------------\n"
     ]
    },
    {
     "name": "stderr",
     "output_type": "stream",
     "text": [
      "80it [00:28,  2.85it/s]\n"
     ]
    },
    {
     "name": "stdout",
     "output_type": "stream",
     "text": [
      "evaluating ...\n",
      "epoch 12, weight=0.50000, train-loss=0.00538, optimal-val-loss=0.00253, val-loss=0.00265, \n",
      "plotting ...\n",
      "optimal test-loss (with current weight=0.50000): 0.00253\n",
      "model test-loss (with current weight=0.50000): 0.00265\n",
      "save model ...\n",
      "saved!\n",
      "----------------------------------------------------------------------------------------------------\n"
     ]
    },
    {
     "name": "stderr",
     "output_type": "stream",
     "text": [
      "80it [00:26,  2.97it/s]\n"
     ]
    },
    {
     "name": "stdout",
     "output_type": "stream",
     "text": [
      "evaluating ...\n",
      "epoch 13, weight=0.50000, train-loss=0.00496, optimal-val-loss=0.00253, val-loss=0.00263, \n",
      "plotting ...\n"
     ]
    },
    {
     "name": "stderr",
     "output_type": "stream",
     "text": [
      "C:\\Users\\gg868\\thesis\\NJODE\\train.py:998: FutureWarning: The behavior of DataFrame concatenation with empty or all-NA entries is deprecated. In a future version, this will no longer exclude empty or all-NA columns when determining the result dtypes. To retain the old behavior, exclude the relevant entries before the concat operation.\n",
      "  df_metric = pd.concat([df_metric, df_m_app], ignore_index=True)\n"
     ]
    },
    {
     "name": "stdout",
     "output_type": "stream",
     "text": [
      "optimal test-loss (with current weight=0.50000): 0.00253\n",
      "model test-loss (with current weight=0.50000): 0.00263\n",
      "save model ...\n",
      "saved!\n",
      "save new best model: last-best-loss: 0.00264, new-best-loss: 0.00263, epoch: 13\n",
      "saved!\n",
      "----------------------------------------------------------------------------------------------------\n"
     ]
    },
    {
     "name": "stderr",
     "output_type": "stream",
     "text": [
      "80it [00:28,  2.77it/s]\n"
     ]
    },
    {
     "name": "stdout",
     "output_type": "stream",
     "text": [
      "evaluating ...\n",
      "epoch 14, weight=0.50000, train-loss=0.00459, optimal-val-loss=0.00253, val-loss=0.00261, \n",
      "plotting ...\n",
      "optimal test-loss (with current weight=0.50000): 0.00253\n",
      "model test-loss (with current weight=0.50000): 0.00261\n",
      "save model ...\n",
      "saved!\n",
      "save new best model: last-best-loss: 0.00263, new-best-loss: 0.00261, epoch: 14\n"
     ]
    },
    {
     "name": "stderr",
     "output_type": "stream",
     "text": [
      "C:\\Users\\gg868\\thesis\\NJODE\\train.py:998: FutureWarning: The behavior of DataFrame concatenation with empty or all-NA entries is deprecated. In a future version, this will no longer exclude empty or all-NA columns when determining the result dtypes. To retain the old behavior, exclude the relevant entries before the concat operation.\n",
      "  df_metric = pd.concat([df_metric, df_m_app], ignore_index=True)\n"
     ]
    },
    {
     "name": "stdout",
     "output_type": "stream",
     "text": [
      "saved!\n",
      "----------------------------------------------------------------------------------------------------\n"
     ]
    },
    {
     "name": "stderr",
     "output_type": "stream",
     "text": [
      "80it [00:28,  2.80it/s]\n"
     ]
    },
    {
     "name": "stdout",
     "output_type": "stream",
     "text": [
      "evaluating ...\n",
      "epoch 15, weight=0.50000, train-loss=0.00433, optimal-val-loss=0.00253, val-loss=0.00260, \n",
      "plotting ...\n"
     ]
    },
    {
     "name": "stderr",
     "output_type": "stream",
     "text": [
      "C:\\Users\\gg868\\thesis\\NJODE\\train.py:998: FutureWarning: The behavior of DataFrame concatenation with empty or all-NA entries is deprecated. In a future version, this will no longer exclude empty or all-NA columns when determining the result dtypes. To retain the old behavior, exclude the relevant entries before the concat operation.\n",
      "  df_metric = pd.concat([df_metric, df_m_app], ignore_index=True)\n"
     ]
    },
    {
     "name": "stdout",
     "output_type": "stream",
     "text": [
      "optimal test-loss (with current weight=0.50000): 0.00253\n",
      "model test-loss (with current weight=0.50000): 0.00260\n",
      "save model ...\n",
      "saved!\n",
      "save new best model: last-best-loss: 0.00261, new-best-loss: 0.00260, epoch: 15\n",
      "saved!\n",
      "----------------------------------------------------------------------------------------------------\n"
     ]
    },
    {
     "name": "stderr",
     "output_type": "stream",
     "text": [
      "80it [00:27,  2.91it/s]\n"
     ]
    },
    {
     "name": "stdout",
     "output_type": "stream",
     "text": [
      "evaluating ...\n",
      "epoch 16, weight=0.50000, train-loss=0.00417, optimal-val-loss=0.00253, val-loss=0.00260, \n",
      "plotting ...\n",
      "optimal test-loss (with current weight=0.50000): 0.00253\n",
      "model test-loss (with current weight=0.50000): 0.00260\n",
      "save model ...\n",
      "saved!\n",
      "save new best model: last-best-loss: 0.00260, new-best-loss: 0.00260, epoch: 16\n"
     ]
    },
    {
     "name": "stderr",
     "output_type": "stream",
     "text": [
      "C:\\Users\\gg868\\thesis\\NJODE\\train.py:998: FutureWarning: The behavior of DataFrame concatenation with empty or all-NA entries is deprecated. In a future version, this will no longer exclude empty or all-NA columns when determining the result dtypes. To retain the old behavior, exclude the relevant entries before the concat operation.\n",
      "  df_metric = pd.concat([df_metric, df_m_app], ignore_index=True)\n"
     ]
    },
    {
     "name": "stdout",
     "output_type": "stream",
     "text": [
      "saved!\n",
      "----------------------------------------------------------------------------------------------------\n"
     ]
    },
    {
     "name": "stderr",
     "output_type": "stream",
     "text": [
      "80it [00:33,  2.40it/s]\n"
     ]
    },
    {
     "name": "stdout",
     "output_type": "stream",
     "text": [
      "evaluating ...\n",
      "epoch 17, weight=0.50000, train-loss=0.00394, optimal-val-loss=0.00253, val-loss=0.00259, \n",
      "plotting ...\n",
      "optimal test-loss (with current weight=0.50000): 0.00253\n",
      "model test-loss (with current weight=0.50000): 0.00259\n",
      "save model ...\n",
      "saved!\n",
      "save new best model: last-best-loss: 0.00260, new-best-loss: 0.00259, epoch: 17\n"
     ]
    },
    {
     "name": "stderr",
     "output_type": "stream",
     "text": [
      "C:\\Users\\gg868\\thesis\\NJODE\\train.py:998: FutureWarning: The behavior of DataFrame concatenation with empty or all-NA entries is deprecated. In a future version, this will no longer exclude empty or all-NA columns when determining the result dtypes. To retain the old behavior, exclude the relevant entries before the concat operation.\n",
      "  df_metric = pd.concat([df_metric, df_m_app], ignore_index=True)\n"
     ]
    },
    {
     "name": "stdout",
     "output_type": "stream",
     "text": [
      "saved!\n",
      "----------------------------------------------------------------------------------------------------\n"
     ]
    },
    {
     "name": "stderr",
     "output_type": "stream",
     "text": [
      "80it [00:25,  3.13it/s]\n"
     ]
    },
    {
     "name": "stdout",
     "output_type": "stream",
     "text": [
      "evaluating ...\n",
      "epoch 18, weight=0.50000, train-loss=0.00382, optimal-val-loss=0.00253, val-loss=0.00260, \n",
      "plotting ...\n",
      "optimal test-loss (with current weight=0.50000): 0.00253\n",
      "model test-loss (with current weight=0.50000): 0.00260\n",
      "save model ...\n",
      "saved!\n",
      "----------------------------------------------------------------------------------------------------\n"
     ]
    },
    {
     "name": "stderr",
     "output_type": "stream",
     "text": [
      "80it [00:25,  3.16it/s]\n"
     ]
    },
    {
     "name": "stdout",
     "output_type": "stream",
     "text": [
      "evaluating ...\n",
      "epoch 19, weight=0.50000, train-loss=0.00357, optimal-val-loss=0.00253, val-loss=0.00259, \n",
      "plotting ...\n",
      "optimal test-loss (with current weight=0.50000): 0.00253\n",
      "model test-loss (with current weight=0.50000): 0.00259\n",
      "save model ...\n",
      "saved!\n",
      "----------------------------------------------------------------------------------------------------\n"
     ]
    },
    {
     "name": "stderr",
     "output_type": "stream",
     "text": [
      "80it [00:25,  3.15it/s]\n"
     ]
    },
    {
     "name": "stdout",
     "output_type": "stream",
     "text": [
      "evaluating ...\n",
      "epoch 20, weight=0.50000, train-loss=0.00349, optimal-val-loss=0.00253, val-loss=0.00258, \n",
      "plotting ...\n"
     ]
    },
    {
     "name": "stderr",
     "output_type": "stream",
     "text": [
      "C:\\Users\\gg868\\thesis\\NJODE\\train.py:998: FutureWarning: The behavior of DataFrame concatenation with empty or all-NA entries is deprecated. In a future version, this will no longer exclude empty or all-NA columns when determining the result dtypes. To retain the old behavior, exclude the relevant entries before the concat operation.\n",
      "  df_metric = pd.concat([df_metric, df_m_app], ignore_index=True)\n"
     ]
    },
    {
     "name": "stdout",
     "output_type": "stream",
     "text": [
      "optimal test-loss (with current weight=0.50000): 0.00253\n",
      "model test-loss (with current weight=0.50000): 0.00258\n",
      "save model ...\n",
      "saved!\n",
      "save new best model: last-best-loss: 0.00259, new-best-loss: 0.00258, epoch: 20\n",
      "saved!\n",
      "----------------------------------------------------------------------------------------------------\n"
     ]
    },
    {
     "name": "stderr",
     "output_type": "stream",
     "text": [
      "80it [00:26,  2.98it/s]\n"
     ]
    },
    {
     "name": "stdout",
     "output_type": "stream",
     "text": [
      "evaluating ...\n",
      "epoch 21, weight=0.50000, train-loss=0.00327, optimal-val-loss=0.00253, val-loss=0.00257, \n",
      "plotting ...\n",
      "optimal test-loss (with current weight=0.50000): 0.00253\n",
      "model test-loss (with current weight=0.50000): 0.00257\n",
      "save model ...\n",
      "saved!\n",
      "save new best model: last-best-loss: 0.00258, new-best-loss: 0.00257, epoch: 21\n"
     ]
    },
    {
     "name": "stderr",
     "output_type": "stream",
     "text": [
      "C:\\Users\\gg868\\thesis\\NJODE\\train.py:998: FutureWarning: The behavior of DataFrame concatenation with empty or all-NA entries is deprecated. In a future version, this will no longer exclude empty or all-NA columns when determining the result dtypes. To retain the old behavior, exclude the relevant entries before the concat operation.\n",
      "  df_metric = pd.concat([df_metric, df_m_app], ignore_index=True)\n"
     ]
    },
    {
     "name": "stdout",
     "output_type": "stream",
     "text": [
      "saved!\n",
      "----------------------------------------------------------------------------------------------------\n"
     ]
    },
    {
     "name": "stderr",
     "output_type": "stream",
     "text": [
      "80it [00:25,  3.10it/s]\n"
     ]
    },
    {
     "name": "stdout",
     "output_type": "stream",
     "text": [
      "evaluating ...\n",
      "epoch 22, weight=0.50000, train-loss=0.00335, optimal-val-loss=0.00253, val-loss=0.00257, \n",
      "plotting ...\n",
      "optimal test-loss (with current weight=0.50000): 0.00253\n",
      "model test-loss (with current weight=0.50000): 0.00257\n",
      "save model ...\n",
      "saved!\n",
      "----------------------------------------------------------------------------------------------------\n"
     ]
    },
    {
     "name": "stderr",
     "output_type": "stream",
     "text": [
      "80it [00:26,  3.04it/s]\n"
     ]
    },
    {
     "name": "stdout",
     "output_type": "stream",
     "text": [
      "evaluating ...\n",
      "epoch 23, weight=0.50000, train-loss=0.00318, optimal-val-loss=0.00253, val-loss=0.00257, \n",
      "plotting ...\n",
      "optimal test-loss (with current weight=0.50000): 0.00253\n",
      "model test-loss (with current weight=0.50000): 0.00257\n",
      "save model ...\n",
      "saved!\n",
      "----------------------------------------------------------------------------------------------------\n"
     ]
    },
    {
     "name": "stderr",
     "output_type": "stream",
     "text": [
      "80it [00:26,  2.97it/s]\n"
     ]
    },
    {
     "name": "stdout",
     "output_type": "stream",
     "text": [
      "evaluating ...\n",
      "epoch 24, weight=0.50000, train-loss=0.00316, optimal-val-loss=0.00253, val-loss=0.00257, \n",
      "plotting ...\n",
      "optimal test-loss (with current weight=0.50000): 0.00253\n",
      "model test-loss (with current weight=0.50000): 0.00257\n",
      "save model ...\n",
      "saved!\n",
      "save new best model: last-best-loss: 0.00257, new-best-loss: 0.00257, epoch: 24\n"
     ]
    },
    {
     "name": "stderr",
     "output_type": "stream",
     "text": [
      "C:\\Users\\gg868\\thesis\\NJODE\\train.py:998: FutureWarning: The behavior of DataFrame concatenation with empty or all-NA entries is deprecated. In a future version, this will no longer exclude empty or all-NA columns when determining the result dtypes. To retain the old behavior, exclude the relevant entries before the concat operation.\n",
      "  df_metric = pd.concat([df_metric, df_m_app], ignore_index=True)\n"
     ]
    },
    {
     "name": "stdout",
     "output_type": "stream",
     "text": [
      "saved!\n",
      "----------------------------------------------------------------------------------------------------\n"
     ]
    },
    {
     "name": "stderr",
     "output_type": "stream",
     "text": [
      "80it [00:34,  2.34it/s]\n"
     ]
    },
    {
     "name": "stdout",
     "output_type": "stream",
     "text": [
      "evaluating ...\n",
      "epoch 25, weight=0.50000, train-loss=0.00302, optimal-val-loss=0.00253, val-loss=0.00257, \n",
      "plotting ...\n",
      "optimal test-loss (with current weight=0.50000): 0.00253\n",
      "model test-loss (with current weight=0.50000): 0.00257\n",
      "save model ...\n",
      "saved!\n",
      "----------------------------------------------------------------------------------------------------\n"
     ]
    },
    {
     "name": "stderr",
     "output_type": "stream",
     "text": [
      "80it [00:32,  2.47it/s]\n"
     ]
    },
    {
     "name": "stdout",
     "output_type": "stream",
     "text": [
      "evaluating ...\n",
      "epoch 26, weight=0.50000, train-loss=0.00298, optimal-val-loss=0.00253, val-loss=0.00256, \n",
      "plotting ...\n"
     ]
    },
    {
     "name": "stderr",
     "output_type": "stream",
     "text": [
      "C:\\Users\\gg868\\thesis\\NJODE\\train.py:998: FutureWarning: The behavior of DataFrame concatenation with empty or all-NA entries is deprecated. In a future version, this will no longer exclude empty or all-NA columns when determining the result dtypes. To retain the old behavior, exclude the relevant entries before the concat operation.\n",
      "  df_metric = pd.concat([df_metric, df_m_app], ignore_index=True)\n"
     ]
    },
    {
     "name": "stdout",
     "output_type": "stream",
     "text": [
      "optimal test-loss (with current weight=0.50000): 0.00253\n",
      "model test-loss (with current weight=0.50000): 0.00256\n",
      "save model ...\n",
      "saved!\n",
      "save new best model: last-best-loss: 0.00257, new-best-loss: 0.00256, epoch: 26\n",
      "saved!\n",
      "----------------------------------------------------------------------------------------------------\n"
     ]
    },
    {
     "name": "stderr",
     "output_type": "stream",
     "text": [
      "80it [00:25,  3.10it/s]\n"
     ]
    },
    {
     "name": "stdout",
     "output_type": "stream",
     "text": [
      "evaluating ...\n",
      "epoch 27, weight=0.50000, train-loss=0.00294, optimal-val-loss=0.00253, val-loss=0.00256, \n",
      "plotting ...\n"
     ]
    },
    {
     "name": "stderr",
     "output_type": "stream",
     "text": [
      "C:\\Users\\gg868\\thesis\\NJODE\\train.py:998: FutureWarning: The behavior of DataFrame concatenation with empty or all-NA entries is deprecated. In a future version, this will no longer exclude empty or all-NA columns when determining the result dtypes. To retain the old behavior, exclude the relevant entries before the concat operation.\n",
      "  df_metric = pd.concat([df_metric, df_m_app], ignore_index=True)\n"
     ]
    },
    {
     "name": "stdout",
     "output_type": "stream",
     "text": [
      "optimal test-loss (with current weight=0.50000): 0.00253\n",
      "model test-loss (with current weight=0.50000): 0.00256\n",
      "save model ...\n",
      "saved!\n",
      "save new best model: last-best-loss: 0.00256, new-best-loss: 0.00256, epoch: 27\n",
      "saved!\n",
      "----------------------------------------------------------------------------------------------------\n"
     ]
    },
    {
     "name": "stderr",
     "output_type": "stream",
     "text": [
      "80it [00:26,  2.98it/s]\n"
     ]
    },
    {
     "name": "stdout",
     "output_type": "stream",
     "text": [
      "evaluating ...\n",
      "epoch 28, weight=0.50000, train-loss=0.00286, optimal-val-loss=0.00253, val-loss=0.00255, \n",
      "plotting ...\n",
      "optimal test-loss (with current weight=0.50000): 0.00253\n",
      "model test-loss (with current weight=0.50000): 0.00255\n",
      "save model ...\n",
      "saved!\n",
      "save new best model: last-best-loss: 0.00256, new-best-loss: 0.00255, epoch: 28\n"
     ]
    },
    {
     "name": "stderr",
     "output_type": "stream",
     "text": [
      "C:\\Users\\gg868\\thesis\\NJODE\\train.py:998: FutureWarning: The behavior of DataFrame concatenation with empty or all-NA entries is deprecated. In a future version, this will no longer exclude empty or all-NA columns when determining the result dtypes. To retain the old behavior, exclude the relevant entries before the concat operation.\n",
      "  df_metric = pd.concat([df_metric, df_m_app], ignore_index=True)\n"
     ]
    },
    {
     "name": "stdout",
     "output_type": "stream",
     "text": [
      "saved!\n",
      "----------------------------------------------------------------------------------------------------\n"
     ]
    },
    {
     "name": "stderr",
     "output_type": "stream",
     "text": [
      "80it [00:25,  3.17it/s]\n"
     ]
    },
    {
     "name": "stdout",
     "output_type": "stream",
     "text": [
      "evaluating ...\n",
      "epoch 29, weight=0.50000, train-loss=0.00282, optimal-val-loss=0.00253, val-loss=0.00255, \n",
      "plotting ...\n"
     ]
    },
    {
     "name": "stderr",
     "output_type": "stream",
     "text": [
      "C:\\Users\\gg868\\thesis\\NJODE\\train.py:998: FutureWarning: The behavior of DataFrame concatenation with empty or all-NA entries is deprecated. In a future version, this will no longer exclude empty or all-NA columns when determining the result dtypes. To retain the old behavior, exclude the relevant entries before the concat operation.\n",
      "  df_metric = pd.concat([df_metric, df_m_app], ignore_index=True)\n"
     ]
    },
    {
     "name": "stdout",
     "output_type": "stream",
     "text": [
      "optimal test-loss (with current weight=0.50000): 0.00253\n",
      "model test-loss (with current weight=0.50000): 0.00255\n",
      "save model ...\n",
      "saved!\n",
      "save new best model: last-best-loss: 0.00255, new-best-loss: 0.00255, epoch: 29\n",
      "saved!\n",
      "----------------------------------------------------------------------------------------------------\n"
     ]
    },
    {
     "name": "stderr",
     "output_type": "stream",
     "text": [
      "80it [00:25,  3.08it/s]\n"
     ]
    },
    {
     "name": "stdout",
     "output_type": "stream",
     "text": [
      "evaluating ...\n",
      "epoch 30, weight=0.50000, train-loss=0.00281, optimal-val-loss=0.00253, val-loss=0.00256, \n",
      "plotting ...\n",
      "optimal test-loss (with current weight=0.50000): 0.00253\n",
      "model test-loss (with current weight=0.50000): 0.00256\n",
      "save model ...\n",
      "saved!\n",
      "----------------------------------------------------------------------------------------------------\n"
     ]
    },
    {
     "name": "stderr",
     "output_type": "stream",
     "text": [
      "80it [00:25,  3.10it/s]\n"
     ]
    },
    {
     "name": "stdout",
     "output_type": "stream",
     "text": [
      "evaluating ...\n",
      "epoch 31, weight=0.50000, train-loss=0.00282, optimal-val-loss=0.00253, val-loss=0.00255, \n",
      "plotting ...\n",
      "optimal test-loss (with current weight=0.50000): 0.00253\n",
      "model test-loss (with current weight=0.50000): 0.00255\n",
      "save model ...\n",
      "saved!\n",
      "----------------------------------------------------------------------------------------------------\n"
     ]
    },
    {
     "name": "stderr",
     "output_type": "stream",
     "text": [
      "80it [00:27,  2.90it/s]\n"
     ]
    },
    {
     "name": "stdout",
     "output_type": "stream",
     "text": [
      "evaluating ...\n",
      "epoch 32, weight=0.50000, train-loss=0.00271, optimal-val-loss=0.00253, val-loss=0.00255, \n",
      "plotting ...\n"
     ]
    },
    {
     "name": "stderr",
     "output_type": "stream",
     "text": [
      "C:\\Users\\gg868\\thesis\\NJODE\\train.py:998: FutureWarning: The behavior of DataFrame concatenation with empty or all-NA entries is deprecated. In a future version, this will no longer exclude empty or all-NA columns when determining the result dtypes. To retain the old behavior, exclude the relevant entries before the concat operation.\n",
      "  df_metric = pd.concat([df_metric, df_m_app], ignore_index=True)\n"
     ]
    },
    {
     "name": "stdout",
     "output_type": "stream",
     "text": [
      "optimal test-loss (with current weight=0.50000): 0.00253\n",
      "model test-loss (with current weight=0.50000): 0.00255\n",
      "save model ...\n",
      "saved!\n",
      "save new best model: last-best-loss: 0.00255, new-best-loss: 0.00255, epoch: 32\n",
      "saved!\n",
      "----------------------------------------------------------------------------------------------------\n"
     ]
    },
    {
     "name": "stderr",
     "output_type": "stream",
     "text": [
      "80it [00:29,  2.70it/s]\n"
     ]
    },
    {
     "name": "stdout",
     "output_type": "stream",
     "text": [
      "evaluating ...\n",
      "epoch 33, weight=0.50000, train-loss=0.00275, optimal-val-loss=0.00253, val-loss=0.00255, \n",
      "plotting ...\n",
      "optimal test-loss (with current weight=0.50000): 0.00253\n",
      "model test-loss (with current weight=0.50000): 0.00255\n",
      "save model ...\n",
      "saved!\n",
      "----------------------------------------------------------------------------------------------------\n"
     ]
    },
    {
     "name": "stderr",
     "output_type": "stream",
     "text": [
      "80it [00:34,  2.34it/s]\n"
     ]
    },
    {
     "name": "stdout",
     "output_type": "stream",
     "text": [
      "evaluating ...\n",
      "epoch 34, weight=0.50000, train-loss=0.00268, optimal-val-loss=0.00253, val-loss=0.00255, \n",
      "plotting ...\n",
      "optimal test-loss (with current weight=0.50000): 0.00253\n",
      "model test-loss (with current weight=0.50000): 0.00255\n",
      "save model ...\n",
      "saved!\n",
      "----------------------------------------------------------------------------------------------------\n"
     ]
    },
    {
     "name": "stderr",
     "output_type": "stream",
     "text": [
      "80it [00:34,  2.32it/s]\n"
     ]
    },
    {
     "name": "stdout",
     "output_type": "stream",
     "text": [
      "evaluating ...\n",
      "epoch 35, weight=0.50000, train-loss=0.00276, optimal-val-loss=0.00253, val-loss=0.00257, \n",
      "plotting ...\n",
      "optimal test-loss (with current weight=0.50000): 0.00253\n",
      "model test-loss (with current weight=0.50000): 0.00257\n",
      "save model ...\n",
      "saved!\n",
      "----------------------------------------------------------------------------------------------------\n"
     ]
    },
    {
     "name": "stderr",
     "output_type": "stream",
     "text": [
      "80it [00:39,  2.04it/s]\n"
     ]
    },
    {
     "name": "stdout",
     "output_type": "stream",
     "text": [
      "evaluating ...\n",
      "epoch 36, weight=0.50000, train-loss=0.00270, optimal-val-loss=0.00253, val-loss=0.00255, \n",
      "plotting ...\n",
      "optimal test-loss (with current weight=0.50000): 0.00253\n",
      "model test-loss (with current weight=0.50000): 0.00255\n",
      "save model ...\n",
      "saved!\n",
      "----------------------------------------------------------------------------------------------------\n"
     ]
    },
    {
     "name": "stderr",
     "output_type": "stream",
     "text": [
      "80it [00:42,  1.89it/s]\n"
     ]
    },
    {
     "name": "stdout",
     "output_type": "stream",
     "text": [
      "evaluating ...\n",
      "epoch 37, weight=0.50000, train-loss=0.00273, optimal-val-loss=0.00253, val-loss=0.00257, \n",
      "plotting ...\n",
      "optimal test-loss (with current weight=0.50000): 0.00253\n",
      "model test-loss (with current weight=0.50000): 0.00257\n",
      "save model ...\n",
      "saved!\n",
      "----------------------------------------------------------------------------------------------------\n"
     ]
    },
    {
     "name": "stderr",
     "output_type": "stream",
     "text": [
      "80it [00:42,  1.87it/s]\n"
     ]
    },
    {
     "name": "stdout",
     "output_type": "stream",
     "text": [
      "evaluating ...\n",
      "epoch 38, weight=0.50000, train-loss=0.00265, optimal-val-loss=0.00253, val-loss=0.00258, \n",
      "plotting ...\n",
      "optimal test-loss (with current weight=0.50000): 0.00253\n",
      "model test-loss (with current weight=0.50000): 0.00258\n",
      "save model ...\n",
      "saved!\n",
      "----------------------------------------------------------------------------------------------------\n"
     ]
    },
    {
     "name": "stderr",
     "output_type": "stream",
     "text": [
      "80it [1:01:02, 45.78s/it]  \n"
     ]
    },
    {
     "name": "stdout",
     "output_type": "stream",
     "text": [
      "evaluating ...\n",
      "epoch 39, weight=0.50000, train-loss=0.00268, optimal-val-loss=0.00253, val-loss=0.00258, \n",
      "plotting ...\n",
      "optimal test-loss (with current weight=0.50000): 0.00253\n",
      "model test-loss (with current weight=0.50000): 0.00258\n",
      "save model ...\n",
      "saved!\n",
      "----------------------------------------------------------------------------------------------------\n"
     ]
    },
    {
     "name": "stderr",
     "output_type": "stream",
     "text": [
      "80it [00:49,  1.62it/s]\n"
     ]
    },
    {
     "name": "stdout",
     "output_type": "stream",
     "text": [
      "evaluating ...\n",
      "epoch 42, weight=0.50000, train-loss=0.00270, optimal-val-loss=0.00253, val-loss=0.00258, \n",
      "plotting ...\n",
      "optimal test-loss (with current weight=0.50000): 0.00253\n",
      "model test-loss (with current weight=0.50000): 0.00258\n",
      "save model ...\n",
      "saved!\n",
      "----------------------------------------------------------------------------------------------------\n"
     ]
    },
    {
     "name": "stderr",
     "output_type": "stream",
     "text": [
      "80it [00:49,  1.61it/s]\n"
     ]
    },
    {
     "name": "stdout",
     "output_type": "stream",
     "text": [
      "evaluating ...\n",
      "epoch 43, weight=0.50000, train-loss=0.00264, optimal-val-loss=0.00253, val-loss=0.00259, \n",
      "plotting ...\n",
      "optimal test-loss (with current weight=0.50000): 0.00253\n",
      "model test-loss (with current weight=0.50000): 0.00259\n",
      "save model ...\n",
      "saved!\n",
      "----------------------------------------------------------------------------------------------------\n"
     ]
    },
    {
     "name": "stderr",
     "output_type": "stream",
     "text": [
      "80it [00:50,  1.59it/s]\n"
     ]
    },
    {
     "name": "stdout",
     "output_type": "stream",
     "text": [
      "evaluating ...\n",
      "epoch 44, weight=0.50000, train-loss=0.00266, optimal-val-loss=0.00253, val-loss=0.00261, \n",
      "plotting ...\n",
      "optimal test-loss (with current weight=0.50000): 0.00253\n",
      "model test-loss (with current weight=0.50000): 0.00261\n",
      "save model ...\n",
      "saved!\n",
      "----------------------------------------------------------------------------------------------------\n"
     ]
    },
    {
     "name": "stderr",
     "output_type": "stream",
     "text": [
      "80it [00:51,  1.56it/s]\n"
     ]
    },
    {
     "name": "stdout",
     "output_type": "stream",
     "text": [
      "evaluating ...\n",
      "epoch 45, weight=0.50000, train-loss=0.00261, optimal-val-loss=0.00253, val-loss=0.00257, \n",
      "plotting ...\n",
      "optimal test-loss (with current weight=0.50000): 0.00253\n",
      "model test-loss (with current weight=0.50000): 0.00257\n",
      "save model ...\n",
      "saved!\n",
      "----------------------------------------------------------------------------------------------------\n"
     ]
    },
    {
     "name": "stderr",
     "output_type": "stream",
     "text": [
      "80it [00:51,  1.54it/s]\n"
     ]
    },
    {
     "name": "stdout",
     "output_type": "stream",
     "text": [
      "evaluating ...\n",
      "epoch 46, weight=0.50000, train-loss=0.00258, optimal-val-loss=0.00253, val-loss=0.00257, \n",
      "plotting ...\n",
      "optimal test-loss (with current weight=0.50000): 0.00253\n",
      "model test-loss (with current weight=0.50000): 0.00257\n",
      "save model ...\n",
      "saved!\n",
      "----------------------------------------------------------------------------------------------------\n"
     ]
    },
    {
     "name": "stderr",
     "output_type": "stream",
     "text": [
      "80it [00:50,  1.59it/s]\n"
     ]
    },
    {
     "name": "stdout",
     "output_type": "stream",
     "text": [
      "evaluating ...\n",
      "epoch 47, weight=0.50000, train-loss=0.00260, optimal-val-loss=0.00253, val-loss=0.00258, \n",
      "plotting ...\n",
      "optimal test-loss (with current weight=0.50000): 0.00253\n",
      "model test-loss (with current weight=0.50000): 0.00258\n",
      "save model ...\n",
      "saved!\n",
      "----------------------------------------------------------------------------------------------------\n"
     ]
    },
    {
     "name": "stderr",
     "output_type": "stream",
     "text": [
      "80it [00:49,  1.62it/s]\n"
     ]
    },
    {
     "name": "stdout",
     "output_type": "stream",
     "text": [
      "evaluating ...\n",
      "epoch 48, weight=0.50000, train-loss=0.00260, optimal-val-loss=0.00253, val-loss=0.00257, \n",
      "plotting ...\n",
      "optimal test-loss (with current weight=0.50000): 0.00253\n",
      "model test-loss (with current weight=0.50000): 0.00257\n",
      "save model ...\n",
      "saved!\n",
      "----------------------------------------------------------------------------------------------------\n"
     ]
    },
    {
     "name": "stderr",
     "output_type": "stream",
     "text": [
      "80it [00:48,  1.63it/s]\n"
     ]
    },
    {
     "name": "stdout",
     "output_type": "stream",
     "text": [
      "evaluating ...\n",
      "epoch 49, weight=0.50000, train-loss=0.00260, optimal-val-loss=0.00253, val-loss=0.00259, \n",
      "plotting ...\n",
      "optimal test-loss (with current weight=0.50000): 0.00253\n",
      "model test-loss (with current weight=0.50000): 0.00259\n",
      "save model ...\n",
      "saved!\n",
      "----------------------------------------------------------------------------------------------------\n"
     ]
    },
    {
     "name": "stderr",
     "output_type": "stream",
     "text": [
      "80it [00:48,  1.64it/s]\n"
     ]
    },
    {
     "name": "stdout",
     "output_type": "stream",
     "text": [
      "evaluating ...\n",
      "epoch 50, weight=0.50000, train-loss=0.00261, optimal-val-loss=0.00253, val-loss=0.00257, \n",
      "plotting ...\n",
      "optimal test-loss (with current weight=0.50000): 0.00253\n",
      "model test-loss (with current weight=0.50000): 0.00257\n",
      "save model ...\n",
      "saved!\n",
      "----------------------------------------------------------------------------------------------------\n"
     ]
    },
    {
     "name": "stderr",
     "output_type": "stream",
     "text": [
      "80it [00:49,  1.60it/s]\n"
     ]
    },
    {
     "name": "stdout",
     "output_type": "stream",
     "text": [
      "evaluating ...\n",
      "epoch 51, weight=0.50000, train-loss=0.00258, optimal-val-loss=0.00253, val-loss=0.00257, \n",
      "plotting ...\n",
      "optimal test-loss (with current weight=0.50000): 0.00253\n",
      "model test-loss (with current weight=0.50000): 0.00257\n",
      "save model ...\n",
      "saved!\n",
      "----------------------------------------------------------------------------------------------------\n"
     ]
    },
    {
     "name": "stderr",
     "output_type": "stream",
     "text": [
      "80it [00:48,  1.65it/s]\n"
     ]
    },
    {
     "name": "stdout",
     "output_type": "stream",
     "text": [
      "evaluating ...\n",
      "epoch 52, weight=0.50000, train-loss=0.00263, optimal-val-loss=0.00253, val-loss=0.00258, \n",
      "plotting ...\n",
      "optimal test-loss (with current weight=0.50000): 0.00253\n",
      "model test-loss (with current weight=0.50000): 0.00258\n",
      "save model ...\n",
      "saved!\n",
      "----------------------------------------------------------------------------------------------------\n"
     ]
    },
    {
     "name": "stderr",
     "output_type": "stream",
     "text": [
      "80it [00:45,  1.74it/s]\n"
     ]
    },
    {
     "name": "stdout",
     "output_type": "stream",
     "text": [
      "evaluating ...\n",
      "epoch 53, weight=0.50000, train-loss=0.00264, optimal-val-loss=0.00253, val-loss=0.00259, \n",
      "plotting ...\n",
      "optimal test-loss (with current weight=0.50000): 0.00253\n",
      "model test-loss (with current weight=0.50000): 0.00259\n",
      "save model ...\n",
      "saved!\n",
      "----------------------------------------------------------------------------------------------------\n"
     ]
    },
    {
     "name": "stderr",
     "output_type": "stream",
     "text": [
      "80it [00:51,  1.57it/s]\n"
     ]
    },
    {
     "name": "stdout",
     "output_type": "stream",
     "text": [
      "evaluating ...\n",
      "epoch 54, weight=0.50000, train-loss=0.00257, optimal-val-loss=0.00253, val-loss=0.00258, \n",
      "plotting ...\n",
      "optimal test-loss (with current weight=0.50000): 0.00253\n",
      "model test-loss (with current weight=0.50000): 0.00258\n",
      "save model ...\n",
      "saved!\n",
      "----------------------------------------------------------------------------------------------------\n"
     ]
    },
    {
     "name": "stderr",
     "output_type": "stream",
     "text": [
      "80it [04:15,  3.20s/it]\n"
     ]
    },
    {
     "name": "stdout",
     "output_type": "stream",
     "text": [
      "evaluating ...\n",
      "epoch 55, weight=0.50000, train-loss=0.00261, optimal-val-loss=0.00253, val-loss=0.00257, \n",
      "plotting ...\n",
      "optimal test-loss (with current weight=0.50000): 0.00253\n",
      "model test-loss (with current weight=0.50000): 0.00257\n",
      "save model ...\n",
      "saved!\n",
      "----------------------------------------------------------------------------------------------------\n"
     ]
    },
    {
     "name": "stderr",
     "output_type": "stream",
     "text": [
      "38it [00:16,  1.92it/s]"
     ]
    },
    {
     "name": "stdout",
     "output_type": "stream",
     "text": [
      "epoch 62, weight=0.50000, train-loss=0.00258, optimal-val-loss=0.00253, val-loss=0.00264, \n",
      "plotting ...\n",
      "optimal test-loss (with current weight=0.50000): 0.00253\n",
      "model test-loss (with current weight=0.50000): 0.00264\n",
      "save model ...\n",
      "saved!\n",
      "----------------------------------------------------------------------------------------------------\n"
     ]
    },
    {
     "name": "stderr",
     "output_type": "stream",
     "text": [
      "80it [00:40,  1.99it/s]\n"
     ]
    },
    {
     "name": "stdout",
     "output_type": "stream",
     "text": [
      "evaluating ...\n",
      "epoch 63, weight=0.50000, train-loss=0.00263, optimal-val-loss=0.00253, val-loss=0.00261, \n",
      "plotting ...\n",
      "optimal test-loss (with current weight=0.50000): 0.00253\n",
      "model test-loss (with current weight=0.50000): 0.00261\n",
      "save model ...\n",
      "saved!\n",
      "----------------------------------------------------------------------------------------------------\n"
     ]
    },
    {
     "name": "stderr",
     "output_type": "stream",
     "text": [
      "80it [00:35,  2.28it/s]\n"
     ]
    },
    {
     "name": "stdout",
     "output_type": "stream",
     "text": [
      "evaluating ...\n",
      "epoch 64, weight=0.50000, train-loss=0.00262, optimal-val-loss=0.00253, val-loss=0.00260, \n",
      "plotting ...\n",
      "optimal test-loss (with current weight=0.50000): 0.00253\n",
      "model test-loss (with current weight=0.50000): 0.00260\n",
      "save model ...\n",
      "saved!\n",
      "----------------------------------------------------------------------------------------------------\n"
     ]
    },
    {
     "name": "stderr",
     "output_type": "stream",
     "text": [
      "80it [00:33,  2.42it/s]\n"
     ]
    },
    {
     "name": "stdout",
     "output_type": "stream",
     "text": [
      "evaluating ...\n",
      "epoch 65, weight=0.50000, train-loss=0.00257, optimal-val-loss=0.00253, val-loss=0.00259, \n",
      "plotting ...\n",
      "optimal test-loss (with current weight=0.50000): 0.00253\n",
      "model test-loss (with current weight=0.50000): 0.00259\n",
      "save model ...\n",
      "saved!\n",
      "----------------------------------------------------------------------------------------------------\n"
     ]
    },
    {
     "name": "stderr",
     "output_type": "stream",
     "text": [
      "80it [00:33,  2.39it/s]\n"
     ]
    },
    {
     "name": "stdout",
     "output_type": "stream",
     "text": [
      "evaluating ...\n",
      "epoch 66, weight=0.50000, train-loss=0.00260, optimal-val-loss=0.00253, val-loss=0.00261, \n",
      "plotting ...\n",
      "optimal test-loss (with current weight=0.50000): 0.00253\n",
      "model test-loss (with current weight=0.50000): 0.00261\n",
      "save model ...\n",
      "saved!\n",
      "----------------------------------------------------------------------------------------------------\n"
     ]
    },
    {
     "name": "stderr",
     "output_type": "stream",
     "text": [
      "80it [00:32,  2.48it/s]\n"
     ]
    },
    {
     "name": "stdout",
     "output_type": "stream",
     "text": [
      "evaluating ...\n",
      "epoch 67, weight=0.50000, train-loss=0.00257, optimal-val-loss=0.00253, val-loss=0.00270, \n",
      "plotting ...\n",
      "optimal test-loss (with current weight=0.50000): 0.00253\n",
      "model test-loss (with current weight=0.50000): 0.00270\n",
      "save model ...\n",
      "saved!\n",
      "----------------------------------------------------------------------------------------------------\n"
     ]
    },
    {
     "name": "stderr",
     "output_type": "stream",
     "text": [
      "80it [00:30,  2.64it/s]\n"
     ]
    },
    {
     "name": "stdout",
     "output_type": "stream",
     "text": [
      "evaluating ...\n",
      "epoch 68, weight=0.50000, train-loss=0.00260, optimal-val-loss=0.00253, val-loss=0.00261, \n",
      "plotting ...\n",
      "optimal test-loss (with current weight=0.50000): 0.00253\n",
      "model test-loss (with current weight=0.50000): 0.00261\n",
      "save model ...\n",
      "saved!\n",
      "----------------------------------------------------------------------------------------------------\n"
     ]
    },
    {
     "name": "stderr",
     "output_type": "stream",
     "text": [
      "80it [00:31,  2.53it/s]\n"
     ]
    },
    {
     "name": "stdout",
     "output_type": "stream",
     "text": [
      "evaluating ...\n",
      "epoch 69, weight=0.50000, train-loss=0.00262, optimal-val-loss=0.00253, val-loss=0.00260, \n",
      "plotting ...\n",
      "optimal test-loss (with current weight=0.50000): 0.00253\n",
      "model test-loss (with current weight=0.50000): 0.00260\n",
      "save model ...\n",
      "saved!\n",
      "----------------------------------------------------------------------------------------------------\n"
     ]
    },
    {
     "name": "stderr",
     "output_type": "stream",
     "text": [
      "80it [00:28,  2.76it/s]\n"
     ]
    },
    {
     "name": "stdout",
     "output_type": "stream",
     "text": [
      "evaluating ...\n",
      "epoch 70, weight=0.50000, train-loss=0.00252, optimal-val-loss=0.00253, val-loss=0.00257, \n",
      "plotting ...\n",
      "optimal test-loss (with current weight=0.50000): 0.00253\n",
      "model test-loss (with current weight=0.50000): 0.00257\n",
      "save model ...\n",
      "saved!\n",
      "----------------------------------------------------------------------------------------------------\n"
     ]
    },
    {
     "name": "stderr",
     "output_type": "stream",
     "text": [
      "80it [00:29,  2.69it/s]\n"
     ]
    },
    {
     "name": "stdout",
     "output_type": "stream",
     "text": [
      "evaluating ...\n",
      "epoch 71, weight=0.50000, train-loss=0.00256, optimal-val-loss=0.00253, val-loss=0.00257, \n",
      "plotting ...\n",
      "optimal test-loss (with current weight=0.50000): 0.00253\n",
      "model test-loss (with current weight=0.50000): 0.00257\n",
      "save model ...\n",
      "saved!\n",
      "----------------------------------------------------------------------------------------------------\n"
     ]
    },
    {
     "name": "stderr",
     "output_type": "stream",
     "text": [
      "80it [00:28,  2.79it/s]\n"
     ]
    },
    {
     "name": "stdout",
     "output_type": "stream",
     "text": [
      "evaluating ...\n",
      "epoch 72, weight=0.50000, train-loss=0.00260, optimal-val-loss=0.00253, val-loss=0.00258, \n",
      "plotting ...\n",
      "optimal test-loss (with current weight=0.50000): 0.00253\n",
      "model test-loss (with current weight=0.50000): 0.00258\n",
      "save model ...\n",
      "saved!\n",
      "----------------------------------------------------------------------------------------------------\n"
     ]
    },
    {
     "name": "stderr",
     "output_type": "stream",
     "text": [
      "80it [00:29,  2.73it/s]\n"
     ]
    },
    {
     "name": "stdout",
     "output_type": "stream",
     "text": [
      "evaluating ...\n",
      "epoch 73, weight=0.50000, train-loss=0.00259, optimal-val-loss=0.00253, val-loss=0.00257, \n",
      "plotting ...\n",
      "optimal test-loss (with current weight=0.50000): 0.00253\n",
      "model test-loss (with current weight=0.50000): 0.00257\n",
      "save model ...\n",
      "saved!\n",
      "----------------------------------------------------------------------------------------------------\n"
     ]
    },
    {
     "name": "stderr",
     "output_type": "stream",
     "text": [
      "80it [00:27,  2.90it/s]\n"
     ]
    },
    {
     "name": "stdout",
     "output_type": "stream",
     "text": [
      "evaluating ...\n",
      "epoch 74, weight=0.50000, train-loss=0.00261, optimal-val-loss=0.00253, val-loss=0.00257, \n",
      "plotting ...\n",
      "optimal test-loss (with current weight=0.50000): 0.00253\n",
      "model test-loss (with current weight=0.50000): 0.00257\n",
      "save model ...\n",
      "saved!\n",
      "----------------------------------------------------------------------------------------------------\n"
     ]
    },
    {
     "name": "stderr",
     "output_type": "stream",
     "text": [
      "80it [00:29,  2.69it/s]\n"
     ]
    },
    {
     "name": "stdout",
     "output_type": "stream",
     "text": [
      "evaluating ...\n",
      "epoch 75, weight=0.50000, train-loss=0.00254, optimal-val-loss=0.00253, val-loss=0.00257, \n",
      "plotting ...\n",
      "optimal test-loss (with current weight=0.50000): 0.00253\n",
      "model test-loss (with current weight=0.50000): 0.00257\n",
      "save model ...\n",
      "saved!\n",
      "----------------------------------------------------------------------------------------------------\n"
     ]
    },
    {
     "name": "stderr",
     "output_type": "stream",
     "text": [
      "80it [00:30,  2.61it/s]\n"
     ]
    },
    {
     "name": "stdout",
     "output_type": "stream",
     "text": [
      "evaluating ...\n",
      "epoch 76, weight=0.50000, train-loss=0.00258, optimal-val-loss=0.00253, val-loss=0.00256, \n",
      "plotting ...\n",
      "optimal test-loss (with current weight=0.50000): 0.00253\n",
      "model test-loss (with current weight=0.50000): 0.00256\n",
      "save model ...\n",
      "saved!\n",
      "----------------------------------------------------------------------------------------------------\n"
     ]
    },
    {
     "name": "stderr",
     "output_type": "stream",
     "text": [
      "80it [00:28,  2.81it/s]\n"
     ]
    },
    {
     "name": "stdout",
     "output_type": "stream",
     "text": [
      "evaluating ...\n",
      "epoch 77, weight=0.50000, train-loss=0.00253, optimal-val-loss=0.00253, val-loss=0.00255, \n",
      "plotting ...\n",
      "optimal test-loss (with current weight=0.50000): 0.00253\n",
      "model test-loss (with current weight=0.50000): 0.00255\n",
      "save model ...\n",
      "saved!\n",
      "----------------------------------------------------------------------------------------------------\n"
     ]
    },
    {
     "name": "stderr",
     "output_type": "stream",
     "text": [
      "80it [00:29,  2.69it/s]\n"
     ]
    },
    {
     "name": "stdout",
     "output_type": "stream",
     "text": [
      "evaluating ...\n",
      "epoch 78, weight=0.50000, train-loss=0.00262, optimal-val-loss=0.00253, val-loss=0.00258, \n",
      "plotting ...\n",
      "optimal test-loss (with current weight=0.50000): 0.00253\n",
      "model test-loss (with current weight=0.50000): 0.00258\n",
      "save model ...\n",
      "saved!\n",
      "----------------------------------------------------------------------------------------------------\n"
     ]
    },
    {
     "name": "stderr",
     "output_type": "stream",
     "text": [
      "80it [00:28,  2.82it/s]\n"
     ]
    },
    {
     "name": "stdout",
     "output_type": "stream",
     "text": [
      "evaluating ...\n",
      "epoch 79, weight=0.50000, train-loss=0.00264, optimal-val-loss=0.00253, val-loss=0.00258, \n",
      "plotting ...\n",
      "optimal test-loss (with current weight=0.50000): 0.00253\n",
      "model test-loss (with current weight=0.50000): 0.00258\n",
      "save model ...\n",
      "saved!\n",
      "----------------------------------------------------------------------------------------------------\n"
     ]
    },
    {
     "name": "stderr",
     "output_type": "stream",
     "text": [
      "80it [00:30,  2.63it/s]\n"
     ]
    },
    {
     "name": "stdout",
     "output_type": "stream",
     "text": [
      "evaluating ...\n",
      "epoch 80, weight=0.50000, train-loss=0.00259, optimal-val-loss=0.00253, val-loss=0.00257, \n",
      "plotting ...\n",
      "optimal test-loss (with current weight=0.50000): 0.00253\n",
      "model test-loss (with current weight=0.50000): 0.00257\n",
      "save model ...\n",
      "saved!\n",
      "----------------------------------------------------------------------------------------------------\n"
     ]
    },
    {
     "name": "stderr",
     "output_type": "stream",
     "text": [
      "80it [00:28,  2.79it/s]\n"
     ]
    },
    {
     "name": "stdout",
     "output_type": "stream",
     "text": [
      "evaluating ...\n",
      "epoch 81, weight=0.50000, train-loss=0.00254, optimal-val-loss=0.00253, val-loss=0.00259, \n",
      "plotting ...\n",
      "optimal test-loss (with current weight=0.50000): 0.00253\n",
      "model test-loss (with current weight=0.50000): 0.00259\n",
      "save model ...\n",
      "saved!\n",
      "----------------------------------------------------------------------------------------------------\n"
     ]
    },
    {
     "name": "stderr",
     "output_type": "stream",
     "text": [
      "80it [00:28,  2.83it/s]\n"
     ]
    },
    {
     "name": "stdout",
     "output_type": "stream",
     "text": [
      "evaluating ...\n",
      "epoch 82, weight=0.50000, train-loss=0.00253, optimal-val-loss=0.00253, val-loss=0.00256, \n",
      "plotting ...\n",
      "optimal test-loss (with current weight=0.50000): 0.00253\n",
      "model test-loss (with current weight=0.50000): 0.00256\n",
      "save model ...\n",
      "saved!\n",
      "----------------------------------------------------------------------------------------------------\n"
     ]
    },
    {
     "name": "stderr",
     "output_type": "stream",
     "text": [
      "80it [00:26,  3.07it/s]\n"
     ]
    },
    {
     "name": "stdout",
     "output_type": "stream",
     "text": [
      "evaluating ...\n",
      "epoch 83, weight=0.50000, train-loss=0.00255, optimal-val-loss=0.00253, val-loss=0.00258, \n",
      "plotting ...\n",
      "optimal test-loss (with current weight=0.50000): 0.00253\n",
      "model test-loss (with current weight=0.50000): 0.00258\n",
      "save model ...\n",
      "saved!\n",
      "----------------------------------------------------------------------------------------------------\n"
     ]
    },
    {
     "name": "stderr",
     "output_type": "stream",
     "text": [
      "80it [00:26,  3.02it/s]\n"
     ]
    },
    {
     "name": "stdout",
     "output_type": "stream",
     "text": [
      "evaluating ...\n",
      "epoch 84, weight=0.50000, train-loss=0.00254, optimal-val-loss=0.00253, val-loss=0.00257, \n",
      "plotting ...\n",
      "optimal test-loss (with current weight=0.50000): 0.00253\n",
      "model test-loss (with current weight=0.50000): 0.00257\n",
      "save model ...\n",
      "saved!\n",
      "----------------------------------------------------------------------------------------------------\n"
     ]
    },
    {
     "name": "stderr",
     "output_type": "stream",
     "text": [
      "80it [00:25,  3.08it/s]\n"
     ]
    },
    {
     "name": "stdout",
     "output_type": "stream",
     "text": [
      "evaluating ...\n",
      "epoch 85, weight=0.50000, train-loss=0.00256, optimal-val-loss=0.00253, val-loss=0.00257, \n",
      "plotting ...\n",
      "optimal test-loss (with current weight=0.50000): 0.00253\n",
      "model test-loss (with current weight=0.50000): 0.00257\n",
      "save model ...\n",
      "saved!\n",
      "----------------------------------------------------------------------------------------------------\n"
     ]
    },
    {
     "name": "stderr",
     "output_type": "stream",
     "text": [
      "80it [00:26,  3.00it/s]\n"
     ]
    },
    {
     "name": "stdout",
     "output_type": "stream",
     "text": [
      "evaluating ...\n",
      "epoch 86, weight=0.50000, train-loss=0.00251, optimal-val-loss=0.00253, val-loss=0.00258, \n",
      "plotting ...\n",
      "optimal test-loss (with current weight=0.50000): 0.00253\n",
      "model test-loss (with current weight=0.50000): 0.00258\n",
      "save model ...\n",
      "saved!\n",
      "----------------------------------------------------------------------------------------------------\n"
     ]
    },
    {
     "name": "stderr",
     "output_type": "stream",
     "text": [
      "80it [00:25,  3.16it/s]\n"
     ]
    },
    {
     "name": "stdout",
     "output_type": "stream",
     "text": [
      "evaluating ...\n",
      "epoch 87, weight=0.50000, train-loss=0.00254, optimal-val-loss=0.00253, val-loss=0.00256, \n",
      "plotting ...\n",
      "optimal test-loss (with current weight=0.50000): 0.00253\n",
      "model test-loss (with current weight=0.50000): 0.00256\n",
      "save model ...\n",
      "saved!\n",
      "----------------------------------------------------------------------------------------------------\n"
     ]
    },
    {
     "name": "stderr",
     "output_type": "stream",
     "text": [
      "80it [00:27,  2.89it/s]\n"
     ]
    },
    {
     "name": "stdout",
     "output_type": "stream",
     "text": [
      "evaluating ...\n",
      "epoch 88, weight=0.50000, train-loss=0.00258, optimal-val-loss=0.00253, val-loss=0.00256, \n",
      "plotting ...\n",
      "optimal test-loss (with current weight=0.50000): 0.00253\n",
      "model test-loss (with current weight=0.50000): 0.00256\n",
      "save model ...\n",
      "saved!\n",
      "----------------------------------------------------------------------------------------------------\n"
     ]
    },
    {
     "name": "stderr",
     "output_type": "stream",
     "text": [
      "80it [00:24,  3.25it/s]\n"
     ]
    },
    {
     "name": "stdout",
     "output_type": "stream",
     "text": [
      "evaluating ...\n",
      "epoch 89, weight=0.50000, train-loss=0.00253, optimal-val-loss=0.00253, val-loss=0.00259, \n",
      "plotting ...\n",
      "optimal test-loss (with current weight=0.50000): 0.00253\n",
      "model test-loss (with current weight=0.50000): 0.00259\n",
      "save model ...\n",
      "saved!\n",
      "----------------------------------------------------------------------------------------------------\n"
     ]
    },
    {
     "name": "stderr",
     "output_type": "stream",
     "text": [
      "80it [00:26,  3.00it/s]\n"
     ]
    },
    {
     "name": "stdout",
     "output_type": "stream",
     "text": [
      "evaluating ...\n",
      "epoch 90, weight=0.50000, train-loss=0.00255, optimal-val-loss=0.00253, val-loss=0.00255, \n",
      "plotting ...\n",
      "optimal test-loss (with current weight=0.50000): 0.00253\n",
      "model test-loss (with current weight=0.50000): 0.00255\n",
      "save model ...\n",
      "saved!\n",
      "----------------------------------------------------------------------------------------------------\n"
     ]
    },
    {
     "name": "stderr",
     "output_type": "stream",
     "text": [
      "80it [00:24,  3.26it/s]\n"
     ]
    },
    {
     "name": "stdout",
     "output_type": "stream",
     "text": [
      "evaluating ...\n",
      "epoch 91, weight=0.50000, train-loss=0.00252, optimal-val-loss=0.00253, val-loss=0.00255, \n",
      "plotting ...\n",
      "optimal test-loss (with current weight=0.50000): 0.00253\n",
      "model test-loss (with current weight=0.50000): 0.00255\n",
      "save model ...\n",
      "saved!\n",
      "----------------------------------------------------------------------------------------------------\n"
     ]
    },
    {
     "name": "stderr",
     "output_type": "stream",
     "text": [
      "80it [00:27,  2.96it/s]\n"
     ]
    },
    {
     "name": "stdout",
     "output_type": "stream",
     "text": [
      "evaluating ...\n",
      "epoch 92, weight=0.50000, train-loss=0.00257, optimal-val-loss=0.00253, val-loss=0.00257, \n",
      "plotting ...\n",
      "optimal test-loss (with current weight=0.50000): 0.00253\n",
      "model test-loss (with current weight=0.50000): 0.00257\n",
      "save model ...\n",
      "saved!\n",
      "----------------------------------------------------------------------------------------------------\n"
     ]
    },
    {
     "name": "stderr",
     "output_type": "stream",
     "text": [
      "80it [00:24,  3.23it/s]\n"
     ]
    },
    {
     "name": "stdout",
     "output_type": "stream",
     "text": [
      "evaluating ...\n",
      "epoch 93, weight=0.50000, train-loss=0.00260, optimal-val-loss=0.00253, val-loss=0.00255, \n",
      "plotting ...\n",
      "optimal test-loss (with current weight=0.50000): 0.00253\n",
      "model test-loss (with current weight=0.50000): 0.00255\n",
      "save model ...\n",
      "saved!\n",
      "----------------------------------------------------------------------------------------------------\n"
     ]
    },
    {
     "name": "stderr",
     "output_type": "stream",
     "text": [
      "80it [00:26,  3.05it/s]\n"
     ]
    },
    {
     "name": "stdout",
     "output_type": "stream",
     "text": [
      "evaluating ...\n",
      "epoch 94, weight=0.50000, train-loss=0.00258, optimal-val-loss=0.00253, val-loss=0.00256, \n",
      "plotting ...\n",
      "optimal test-loss (with current weight=0.50000): 0.00253\n",
      "model test-loss (with current weight=0.50000): 0.00256\n",
      "save model ...\n",
      "saved!\n",
      "----------------------------------------------------------------------------------------------------\n"
     ]
    },
    {
     "name": "stderr",
     "output_type": "stream",
     "text": [
      "80it [00:24,  3.29it/s]\n"
     ]
    },
    {
     "name": "stdout",
     "output_type": "stream",
     "text": [
      "evaluating ...\n",
      "epoch 95, weight=0.50000, train-loss=0.00259, optimal-val-loss=0.00253, val-loss=0.00258, \n",
      "plotting ...\n",
      "optimal test-loss (with current weight=0.50000): 0.00253\n",
      "model test-loss (with current weight=0.50000): 0.00258\n",
      "save model ...\n",
      "saved!\n",
      "----------------------------------------------------------------------------------------------------\n"
     ]
    },
    {
     "name": "stderr",
     "output_type": "stream",
     "text": [
      "80it [00:26,  3.06it/s]\n"
     ]
    },
    {
     "name": "stdout",
     "output_type": "stream",
     "text": [
      "evaluating ...\n",
      "epoch 96, weight=0.50000, train-loss=0.00250, optimal-val-loss=0.00253, val-loss=0.00258, \n",
      "plotting ...\n",
      "optimal test-loss (with current weight=0.50000): 0.00253\n",
      "model test-loss (with current weight=0.50000): 0.00258\n",
      "save model ...\n",
      "saved!\n",
      "----------------------------------------------------------------------------------------------------\n"
     ]
    },
    {
     "name": "stderr",
     "output_type": "stream",
     "text": [
      "80it [00:24,  3.25it/s]\n"
     ]
    },
    {
     "name": "stdout",
     "output_type": "stream",
     "text": [
      "evaluating ...\n",
      "epoch 97, weight=0.50000, train-loss=0.00251, optimal-val-loss=0.00253, val-loss=0.00256, \n",
      "plotting ...\n",
      "optimal test-loss (with current weight=0.50000): 0.00253\n",
      "model test-loss (with current weight=0.50000): 0.00256\n",
      "save model ...\n",
      "saved!\n",
      "----------------------------------------------------------------------------------------------------\n"
     ]
    },
    {
     "name": "stderr",
     "output_type": "stream",
     "text": [
      "80it [00:25,  3.11it/s]\n"
     ]
    },
    {
     "name": "stdout",
     "output_type": "stream",
     "text": [
      "evaluating ...\n",
      "epoch 98, weight=0.50000, train-loss=0.00255, optimal-val-loss=0.00253, val-loss=0.00255, \n",
      "plotting ...\n",
      "optimal test-loss (with current weight=0.50000): 0.00253\n",
      "model test-loss (with current weight=0.50000): 0.00255\n",
      "save model ...\n",
      "saved!\n",
      "----------------------------------------------------------------------------------------------------\n"
     ]
    },
    {
     "name": "stderr",
     "output_type": "stream",
     "text": [
      "80it [00:24,  3.24it/s]\n"
     ]
    },
    {
     "name": "stdout",
     "output_type": "stream",
     "text": [
      "evaluating ...\n",
      "epoch 99, weight=0.50000, train-loss=0.00258, optimal-val-loss=0.00253, val-loss=0.00256, \n",
      "plotting ...\n",
      "optimal test-loss (with current weight=0.50000): 0.00253\n",
      "model test-loss (with current weight=0.50000): 0.00256\n",
      "save model ...\n",
      "saved!\n",
      "----------------------------------------------------------------------------------------------------\n"
     ]
    },
    {
     "name": "stderr",
     "output_type": "stream",
     "text": [
      "80it [00:26,  3.07it/s]\n"
     ]
    },
    {
     "name": "stdout",
     "output_type": "stream",
     "text": [
      "evaluating ...\n",
      "epoch 100, weight=0.50000, train-loss=0.00253, optimal-val-loss=0.00253, val-loss=0.00254, \n",
      "plotting ...\n",
      "optimal test-loss (with current weight=0.50000): 0.00253\n",
      "model test-loss (with current weight=0.50000): 0.00254\n",
      "save model ...\n",
      "saved!\n",
      "save new best model: last-best-loss: 0.00255, new-best-loss: 0.00254, epoch: 100\n"
     ]
    },
    {
     "name": "stderr",
     "output_type": "stream",
     "text": [
      "C:\\Users\\gg868\\thesis\\NJODE\\train.py:998: FutureWarning: The behavior of DataFrame concatenation with empty or all-NA entries is deprecated. In a future version, this will no longer exclude empty or all-NA columns when determining the result dtypes. To retain the old behavior, exclude the relevant entries before the concat operation.\n",
      "  df_metric = pd.concat([df_metric, df_m_app], ignore_index=True)\n"
     ]
    },
    {
     "name": "stdout",
     "output_type": "stream",
     "text": [
      "saved!\n",
      "----------------------------------------------------------------------------------------------------\n"
     ]
    },
    {
     "data": {
      "text/plain": "0"
     },
     "execution_count": 6,
     "metadata": {},
     "output_type": "execute_result"
    }
   ],
   "source": [
    "dataset_dic = {\n",
    "    'volatility': np.array([[1, 0, 0], [0, 1.5, 0], [0,0, 2]]).tolist(),\n",
    "    'mean': np.array([1.2, 1.0, 1.5]).tolist(),\n",
    "    'speed': np.array([[0.3, 0.0, 0.0], [0.0, 0.4, 0.0],[0.0,0.0,0.5]]).tolist(),\n",
    "    'nb_paths': 10000,\n",
    "    'nb_steps': 100,\n",
    "    'S0': np.array([20, 17 ,20]).tolist(),\n",
    "    'maturity': 1.0,\n",
    "    'dimension': 3,\n",
    "    'obs_perc': 1.0,\n",
    "    'scheme': 'euler',\n",
    "    'model_name': 'OrnsteinUhlenbeckForZ',\n",
    "   'dt': 0.01\n",
    "}\n",
    "_, dataset_id = data_utils.create_dataset(\"OrnsteinUhlenbeckForZ\",dataset_dic)\n",
    "train.train(dataset=\"OrnsteinUhlenbeckForZ\", dataset_id=dataset_id, use_cond_exp=False, eval_use_true_paths=True, plot=True,  which_loss = 'easy_vol')\n",
    "dataset_dic_mu = {\n",
    "    'volatility': np.array([[0.2, 0.1, 0.1], [0.1, 0.25, 0.1], [0.1, 0.1, 0.3]]).tolist(),\n",
    "    'mean': np.array([1.2, 1.0, 1.5]).tolist(),\n",
    "    'speed': np.array([[0.3, 0.0, 0.0], [0.0, 0.3, 0.0], [0.0, 0.0, 0.3]]).tolist(),\n",
    "    'nb_paths': 10000,\n",
    "    'nb_steps': 100,\n",
    "    'S0': np.array([1.0, 1.5, 2.0]).tolist(),\n",
    "    'maturity': 1.0,\n",
    "    'dimension': 3,\n",
    "    'obs_perc': 1.0,\n",
    "    'scheme': 'euler',\n",
    "    'model_name': 'OrnsteinUhlenbeckMultiDimensional',\n",
    "    'dt': 0.01\n",
    "}\n",
    "_, dataset_id_mu = data_utils.create_dataset(\"OrnsteinUhlenbeckMultiDimensional\",dataset_dic_mu)\n",
    "train.train(dataset=\"OrnsteinUhlenbeckMultiDimensional\", dataset_id=dataset_id_mu, use_cond_exp=True,plot=True, which_loss ='easy')"
   ],
   "metadata": {
    "collapsed": false,
    "is_executing": true,
    "ExecuteTime": {
     "start_time": "2025-07-24T15:02:54.782637Z"
    }
   },
   "id": "20a09e9549c7dabf"
  },
  {
   "cell_type": "code",
   "execution_count": 28,
   "outputs": [
    {
     "name": "stdout",
     "output_type": "stream",
     "text": [
      "{'S0': [20, 17, 20], 'dimension': 3, 'dt': 0.01, 'maturity': 1.0, 'mean': [1.2, 1.0, 1.5], 'model_name': 'OrnsteinUhlenbeckForZ', 'nb_paths': 10000, 'nb_steps': 100, 'obs_perc': 1.0, 'scheme': 'euler', 'speed': [[0.3, 0.0, 0.0], [0.0, 0.4, 0.0], [0.0, 0.0, 0.5]], 'volatility': [[1.0, 0.0, 0.0], [0.0, 1.5, 0.0], [0.0, 0.0, 2.0]]}\n",
      "using loss: easy_vol\n",
      "neuralODE use input scaling with tanh\n",
      "use residual network: input_size=3, output_size=10\n",
      "use residual network: input_size=10, output_size=3\n",
      "model-id: None\n",
      "\n",
      "using CPU\n",
      "input_coords: [0 1 2]\n",
      "output_coords: [0 1 2]\n",
      "input_size: 3\n",
      "output_size: 3\n",
      "signature_coords: [0 1 2]\n",
      "new model_id=90\n",
      "model params:\n",
      "{\"batch_size\": 100, \"bias\": true, \"data_dict\": null, \"dataset\": \"OrnsteinUhlenbeckForZ\", \"dataset_id\": 95, \"dropout_rate\": 0.1, \"enc_nn\": [[50, \"tanh\"], [50, \"tanh\"]], \"epochs\": 100, \"hidden_size\": 10, \"input_size\": 3, \"learning_rate\": 0.001, \"ode_nn\": [[50, \"tanh\"], [50, \"tanh\"]], \"optimal_val_loss\": NaN, \"options\": {\"eval_use_true_paths\": true, \"input_size\": 9, \"output_size\": 9, \"use_cond_exp\": false, \"which_loss\": \"easy_vol\"}, \"output_size\": 3, \"readout_nn\": [[50, \"tanh\"], [50, \"tanh\"]], \"seed\": 398, \"solver\": \"euler\", \"test_size\": 0.2, \"use_rnn\": false, \"weight\": 0.5, \"weight_decay\": 1.0}\n",
      "initiate new model ...\n",
      "\n",
      "model overview:\n",
      "NJODE(\n",
      "  (ode_f): ODEFunc(\n",
      "    (f): Sequential(\n",
      "      (0): Linear(in_features=15, out_features=50, bias=True)\n",
      "      (1): Tanh()\n",
      "      (2): Dropout(p=0.1, inplace=False)\n",
      "      (3): Linear(in_features=50, out_features=50, bias=True)\n",
      "      (4): Tanh()\n",
      "      (5): Dropout(p=0.1, inplace=False)\n",
      "      (6): Linear(in_features=50, out_features=10, bias=True)\n",
      "    )\n",
      "  )\n",
      "  (encoder_map): FFNN(\n",
      "    (ffnn): Sequential(\n",
      "      (0): Linear(in_features=3, out_features=50, bias=True)\n",
      "      (1): Tanh()\n",
      "      (2): Dropout(p=0.1, inplace=False)\n",
      "      (3): Linear(in_features=50, out_features=50, bias=True)\n",
      "      (4): Tanh()\n",
      "      (5): Dropout(p=0.1, inplace=False)\n",
      "      (6): Linear(in_features=50, out_features=10, bias=True)\n",
      "    )\n",
      "  )\n",
      "  (readout_map): FFNN(\n",
      "    (ffnn): Sequential(\n",
      "      (0): Linear(in_features=10, out_features=50, bias=True)\n",
      "      (1): Tanh()\n",
      "      (2): Dropout(p=0.1, inplace=False)\n",
      "      (3): Linear(in_features=50, out_features=50, bias=True)\n",
      "      (4): Tanh()\n",
      "      (5): Dropout(p=0.1, inplace=False)\n",
      "      (6): Linear(in_features=50, out_features=3, bias=True)\n",
      "    )\n",
      "  )\n",
      ") \n",
      "\n",
      "# parameters=10373\n",
      "\n",
      "# trainable parameters=10373\n",
      "\n",
      "start training ...\n"
     ]
    },
    {
     "name": "stderr",
     "output_type": "stream",
     "text": [
      "80it [00:25,  3.18it/s]\n"
     ]
    },
    {
     "name": "stdout",
     "output_type": "stream",
     "text": [
      "evaluating ...\n",
      "epoch 1, weight=0.50000, train-loss=0.11429, optimal-val-loss=nan, val-loss=2.32176, \n",
      "plotting ...\n"
     ]
    },
    {
     "name": "stderr",
     "output_type": "stream",
     "text": [
      "C:\\Users\\gg868\\thesis\\NJODE\\train.py:987: FutureWarning: The behavior of DataFrame concatenation with empty or all-NA entries is deprecated. In a future version, this will no longer exclude empty or all-NA columns when determining the result dtypes. To retain the old behavior, exclude the relevant entries before the concat operation.\n",
      "  df_metric = pd.concat([df_metric, df_m_app], ignore_index=True)\n",
      "C:\\Users\\gg868\\thesis\\NJODE\\train.py:998: FutureWarning: The behavior of DataFrame concatenation with empty or all-NA entries is deprecated. In a future version, this will no longer exclude empty or all-NA columns when determining the result dtypes. To retain the old behavior, exclude the relevant entries before the concat operation.\n",
      "  df_metric = pd.concat([df_metric, df_m_app], ignore_index=True)\n"
     ]
    },
    {
     "name": "stdout",
     "output_type": "stream",
     "text": [
      "optimal test-loss (with current weight=0.50000): 0.00000\n",
      "model test-loss (with current weight=0.50000): 2.32176\n",
      "save model ...\n",
      "saved!\n",
      "save new best model: last-best-loss: inf, new-best-loss: 2.32176, epoch: 1\n",
      "saved!\n",
      "----------------------------------------------------------------------------------------------------\n"
     ]
    },
    {
     "name": "stderr",
     "output_type": "stream",
     "text": [
      "80it [00:24,  3.20it/s]\n"
     ]
    },
    {
     "name": "stdout",
     "output_type": "stream",
     "text": [
      "evaluating ...\n",
      "epoch 2, weight=0.50000, train-loss=0.11227, optimal-val-loss=nan, val-loss=2.32261, \n",
      "plotting ...\n",
      "optimal test-loss (with current weight=0.50000): 0.00000\n",
      "model test-loss (with current weight=0.50000): 2.32261\n",
      "save model ...\n",
      "saved!\n",
      "----------------------------------------------------------------------------------------------------\n"
     ]
    },
    {
     "name": "stderr",
     "output_type": "stream",
     "text": [
      "80it [00:22,  3.49it/s]\n"
     ]
    },
    {
     "name": "stdout",
     "output_type": "stream",
     "text": [
      "evaluating ...\n",
      "epoch 3, weight=0.50000, train-loss=0.11353, optimal-val-loss=nan, val-loss=2.32475, \n",
      "plotting ...\n",
      "optimal test-loss (with current weight=0.50000): 0.00000\n",
      "model test-loss (with current weight=0.50000): 2.32475\n",
      "save model ...\n",
      "saved!\n",
      "----------------------------------------------------------------------------------------------------\n"
     ]
    },
    {
     "name": "stderr",
     "output_type": "stream",
     "text": [
      "80it [00:24,  3.33it/s]\n"
     ]
    },
    {
     "name": "stdout",
     "output_type": "stream",
     "text": [
      "evaluating ...\n",
      "epoch 4, weight=0.50000, train-loss=0.11641, optimal-val-loss=nan, val-loss=2.32726, \n",
      "plotting ...\n",
      "optimal test-loss (with current weight=0.50000): 0.00000\n",
      "model test-loss (with current weight=0.50000): 2.32726\n",
      "save model ...\n",
      "saved!\n",
      "----------------------------------------------------------------------------------------------------\n"
     ]
    },
    {
     "name": "stderr",
     "output_type": "stream",
     "text": [
      "80it [00:22,  3.62it/s]\n"
     ]
    },
    {
     "name": "stdout",
     "output_type": "stream",
     "text": [
      "evaluating ...\n",
      "epoch 5, weight=0.50000, train-loss=0.11621, optimal-val-loss=nan, val-loss=2.32980, \n",
      "plotting ...\n",
      "optimal test-loss (with current weight=0.50000): 0.00000\n",
      "model test-loss (with current weight=0.50000): 2.32980\n",
      "save model ...\n",
      "saved!\n",
      "----------------------------------------------------------------------------------------------------\n"
     ]
    },
    {
     "name": "stderr",
     "output_type": "stream",
     "text": [
      "80it [00:20,  3.81it/s]\n"
     ]
    },
    {
     "name": "stdout",
     "output_type": "stream",
     "text": [
      "evaluating ...\n",
      "epoch 6, weight=0.50000, train-loss=0.11779, optimal-val-loss=nan, val-loss=2.33004, \n",
      "plotting ...\n",
      "optimal test-loss (with current weight=0.50000): 0.00000\n",
      "model test-loss (with current weight=0.50000): 2.33004\n",
      "save model ...\n",
      "saved!\n",
      "----------------------------------------------------------------------------------------------------\n"
     ]
    },
    {
     "name": "stderr",
     "output_type": "stream",
     "text": [
      "80it [00:21,  3.65it/s]\n"
     ]
    },
    {
     "name": "stdout",
     "output_type": "stream",
     "text": [
      "evaluating ...\n",
      "epoch 7, weight=0.50000, train-loss=0.11636, optimal-val-loss=nan, val-loss=2.33079, \n",
      "plotting ...\n",
      "optimal test-loss (with current weight=0.50000): 0.00000\n",
      "model test-loss (with current weight=0.50000): 2.33079\n",
      "save model ...\n",
      "saved!\n",
      "----------------------------------------------------------------------------------------------------\n"
     ]
    },
    {
     "name": "stderr",
     "output_type": "stream",
     "text": [
      "80it [00:21,  3.67it/s]\n"
     ]
    },
    {
     "name": "stdout",
     "output_type": "stream",
     "text": [
      "evaluating ...\n",
      "epoch 8, weight=0.50000, train-loss=0.11567, optimal-val-loss=nan, val-loss=2.33125, \n",
      "plotting ...\n",
      "optimal test-loss (with current weight=0.50000): 0.00000\n",
      "model test-loss (with current weight=0.50000): 2.33125\n",
      "save model ...\n",
      "saved!\n",
      "----------------------------------------------------------------------------------------------------\n"
     ]
    },
    {
     "name": "stderr",
     "output_type": "stream",
     "text": [
      "80it [00:22,  3.54it/s]\n"
     ]
    },
    {
     "name": "stdout",
     "output_type": "stream",
     "text": [
      "evaluating ...\n",
      "epoch 9, weight=0.50000, train-loss=0.11576, optimal-val-loss=nan, val-loss=2.33240, \n",
      "plotting ...\n",
      "optimal test-loss (with current weight=0.50000): 0.00000\n",
      "model test-loss (with current weight=0.50000): 2.33240\n",
      "save model ...\n",
      "saved!\n",
      "----------------------------------------------------------------------------------------------------\n"
     ]
    },
    {
     "name": "stderr",
     "output_type": "stream",
     "text": [
      "80it [00:22,  3.59it/s]\n"
     ]
    },
    {
     "name": "stdout",
     "output_type": "stream",
     "text": [
      "evaluating ...\n",
      "epoch 10, weight=0.50000, train-loss=0.11634, optimal-val-loss=nan, val-loss=2.33335, \n",
      "plotting ...\n",
      "optimal test-loss (with current weight=0.50000): 0.00000\n",
      "model test-loss (with current weight=0.50000): 2.33335\n",
      "save model ...\n",
      "saved!\n",
      "----------------------------------------------------------------------------------------------------\n"
     ]
    },
    {
     "name": "stderr",
     "output_type": "stream",
     "text": [
      "80it [00:23,  3.43it/s]\n"
     ]
    },
    {
     "name": "stdout",
     "output_type": "stream",
     "text": [
      "evaluating ...\n",
      "epoch 11, weight=0.50000, train-loss=0.11962, optimal-val-loss=nan, val-loss=2.33354, \n",
      "plotting ...\n",
      "optimal test-loss (with current weight=0.50000): 0.00000\n",
      "model test-loss (with current weight=0.50000): 2.33354\n",
      "save model ...\n",
      "saved!\n",
      "----------------------------------------------------------------------------------------------------\n"
     ]
    },
    {
     "name": "stderr",
     "output_type": "stream",
     "text": [
      "80it [00:23,  3.46it/s]\n"
     ]
    },
    {
     "name": "stdout",
     "output_type": "stream",
     "text": [
      "evaluating ...\n",
      "epoch 12, weight=0.50000, train-loss=0.11506, optimal-val-loss=nan, val-loss=2.33382, \n",
      "plotting ...\n",
      "optimal test-loss (with current weight=0.50000): 0.00000\n",
      "model test-loss (with current weight=0.50000): 2.33382\n",
      "save model ...\n",
      "saved!\n",
      "----------------------------------------------------------------------------------------------------\n"
     ]
    },
    {
     "name": "stderr",
     "output_type": "stream",
     "text": [
      "80it [00:22,  3.56it/s]\n"
     ]
    },
    {
     "name": "stdout",
     "output_type": "stream",
     "text": [
      "evaluating ...\n",
      "epoch 13, weight=0.50000, train-loss=0.11725, optimal-val-loss=nan, val-loss=2.33401, \n",
      "plotting ...\n",
      "optimal test-loss (with current weight=0.50000): 0.00000\n",
      "model test-loss (with current weight=0.50000): 2.33401\n",
      "save model ...\n",
      "saved!\n",
      "----------------------------------------------------------------------------------------------------\n"
     ]
    },
    {
     "name": "stderr",
     "output_type": "stream",
     "text": [
      "80it [00:24,  3.29it/s]\n"
     ]
    },
    {
     "name": "stdout",
     "output_type": "stream",
     "text": [
      "evaluating ...\n",
      "epoch 14, weight=0.50000, train-loss=0.12091, optimal-val-loss=nan, val-loss=2.33369, \n",
      "plotting ...\n",
      "optimal test-loss (with current weight=0.50000): 0.00000\n",
      "model test-loss (with current weight=0.50000): 2.33369\n",
      "save model ...\n",
      "saved!\n",
      "----------------------------------------------------------------------------------------------------\n"
     ]
    },
    {
     "name": "stderr",
     "output_type": "stream",
     "text": [
      "80it [00:22,  3.62it/s]\n"
     ]
    },
    {
     "name": "stdout",
     "output_type": "stream",
     "text": [
      "evaluating ...\n",
      "epoch 15, weight=0.50000, train-loss=0.11604, optimal-val-loss=nan, val-loss=2.33355, \n",
      "plotting ...\n",
      "optimal test-loss (with current weight=0.50000): 0.00000\n",
      "model test-loss (with current weight=0.50000): 2.33355\n",
      "save model ...\n",
      "saved!\n",
      "----------------------------------------------------------------------------------------------------\n"
     ]
    },
    {
     "name": "stderr",
     "output_type": "stream",
     "text": [
      "80it [00:22,  3.56it/s]\n"
     ]
    },
    {
     "name": "stdout",
     "output_type": "stream",
     "text": [
      "evaluating ...\n",
      "epoch 16, weight=0.50000, train-loss=0.11526, optimal-val-loss=nan, val-loss=2.33386, \n",
      "plotting ...\n",
      "optimal test-loss (with current weight=0.50000): 0.00000\n",
      "model test-loss (with current weight=0.50000): 2.33386\n",
      "save model ...\n",
      "saved!\n",
      "----------------------------------------------------------------------------------------------------\n"
     ]
    },
    {
     "name": "stderr",
     "output_type": "stream",
     "text": [
      "80it [00:19,  4.15it/s]\n"
     ]
    },
    {
     "name": "stdout",
     "output_type": "stream",
     "text": [
      "evaluating ...\n",
      "epoch 17, weight=0.50000, train-loss=0.11659, optimal-val-loss=nan, val-loss=2.33371, \n",
      "plotting ...\n",
      "optimal test-loss (with current weight=0.50000): 0.00000\n",
      "model test-loss (with current weight=0.50000): 2.33371\n",
      "save model ...\n",
      "saved!\n",
      "----------------------------------------------------------------------------------------------------\n"
     ]
    },
    {
     "name": "stderr",
     "output_type": "stream",
     "text": [
      "80it [00:20,  4.00it/s]\n"
     ]
    },
    {
     "name": "stdout",
     "output_type": "stream",
     "text": [
      "evaluating ...\n",
      "epoch 18, weight=0.50000, train-loss=0.11616, optimal-val-loss=nan, val-loss=2.33366, \n",
      "plotting ...\n",
      "optimal test-loss (with current weight=0.50000): 0.00000\n",
      "model test-loss (with current weight=0.50000): 2.33366\n",
      "save model ...\n",
      "saved!\n",
      "----------------------------------------------------------------------------------------------------\n"
     ]
    },
    {
     "name": "stderr",
     "output_type": "stream",
     "text": [
      "80it [00:21,  3.64it/s]\n"
     ]
    },
    {
     "name": "stdout",
     "output_type": "stream",
     "text": [
      "evaluating ...\n",
      "epoch 19, weight=0.50000, train-loss=0.11303, optimal-val-loss=nan, val-loss=2.33368, \n",
      "plotting ...\n",
      "optimal test-loss (with current weight=0.50000): 0.00000\n",
      "model test-loss (with current weight=0.50000): 2.33368\n",
      "save model ...\n",
      "saved!\n",
      "----------------------------------------------------------------------------------------------------\n"
     ]
    },
    {
     "name": "stderr",
     "output_type": "stream",
     "text": [
      "80it [00:23,  3.39it/s]\n"
     ]
    },
    {
     "name": "stdout",
     "output_type": "stream",
     "text": [
      "evaluating ...\n",
      "epoch 20, weight=0.50000, train-loss=0.11883, optimal-val-loss=nan, val-loss=2.33367, \n",
      "plotting ...\n",
      "optimal test-loss (with current weight=0.50000): 0.00000\n",
      "model test-loss (with current weight=0.50000): 2.33367\n",
      "save model ...\n",
      "saved!\n",
      "----------------------------------------------------------------------------------------------------\n"
     ]
    },
    {
     "name": "stderr",
     "output_type": "stream",
     "text": [
      "80it [00:28,  2.81it/s]\n"
     ]
    },
    {
     "name": "stdout",
     "output_type": "stream",
     "text": [
      "evaluating ...\n",
      "epoch 21, weight=0.50000, train-loss=0.12018, optimal-val-loss=nan, val-loss=2.33415, \n",
      "plotting ...\n",
      "optimal test-loss (with current weight=0.50000): 0.00000\n",
      "model test-loss (with current weight=0.50000): 2.33415\n",
      "save model ...\n",
      "saved!\n",
      "----------------------------------------------------------------------------------------------------\n"
     ]
    },
    {
     "name": "stderr",
     "output_type": "stream",
     "text": [
      "80it [00:34,  2.31it/s]\n"
     ]
    },
    {
     "name": "stdout",
     "output_type": "stream",
     "text": [
      "evaluating ...\n",
      "epoch 22, weight=0.50000, train-loss=0.11819, optimal-val-loss=nan, val-loss=2.33357, \n",
      "plotting ...\n",
      "optimal test-loss (with current weight=0.50000): 0.00000\n",
      "model test-loss (with current weight=0.50000): 2.33357\n",
      "save model ...\n",
      "saved!\n",
      "----------------------------------------------------------------------------------------------------\n"
     ]
    },
    {
     "name": "stderr",
     "output_type": "stream",
     "text": [
      "80it [00:43,  1.85it/s]\n"
     ]
    },
    {
     "name": "stdout",
     "output_type": "stream",
     "text": [
      "evaluating ...\n",
      "epoch 23, weight=0.50000, train-loss=0.11663, optimal-val-loss=nan, val-loss=2.33457, \n",
      "plotting ...\n",
      "optimal test-loss (with current weight=0.50000): 0.00000\n",
      "model test-loss (with current weight=0.50000): 2.33457\n",
      "save model ...\n",
      "saved!\n",
      "----------------------------------------------------------------------------------------------------\n"
     ]
    },
    {
     "name": "stderr",
     "output_type": "stream",
     "text": [
      "80it [00:52,  1.52it/s]\n"
     ]
    },
    {
     "name": "stdout",
     "output_type": "stream",
     "text": [
      "evaluating ...\n",
      "epoch 24, weight=0.50000, train-loss=0.11484, optimal-val-loss=nan, val-loss=2.33386, \n",
      "plotting ...\n",
      "optimal test-loss (with current weight=0.50000): 0.00000\n",
      "model test-loss (with current weight=0.50000): 2.33386\n",
      "save model ...\n",
      "saved!\n",
      "----------------------------------------------------------------------------------------------------\n"
     ]
    },
    {
     "name": "stderr",
     "output_type": "stream",
     "text": [
      "80it [01:02,  1.28it/s]\n"
     ]
    },
    {
     "name": "stdout",
     "output_type": "stream",
     "text": [
      "evaluating ...\n",
      "epoch 25, weight=0.50000, train-loss=0.11533, optimal-val-loss=nan, val-loss=2.33379, \n",
      "plotting ...\n",
      "optimal test-loss (with current weight=0.50000): 0.00000\n",
      "model test-loss (with current weight=0.50000): 2.33379\n",
      "save model ...\n",
      "saved!\n",
      "----------------------------------------------------------------------------------------------------\n"
     ]
    },
    {
     "name": "stderr",
     "output_type": "stream",
     "text": [
      "80it [01:04,  1.24it/s]\n"
     ]
    },
    {
     "name": "stdout",
     "output_type": "stream",
     "text": [
      "evaluating ...\n",
      "epoch 26, weight=0.50000, train-loss=0.11736, optimal-val-loss=nan, val-loss=2.33391, \n",
      "plotting ...\n",
      "optimal test-loss (with current weight=0.50000): 0.00000\n",
      "model test-loss (with current weight=0.50000): 2.33391\n",
      "save model ...\n",
      "saved!\n",
      "----------------------------------------------------------------------------------------------------\n"
     ]
    },
    {
     "name": "stderr",
     "output_type": "stream",
     "text": [
      "80it [00:55,  1.44it/s]\n"
     ]
    },
    {
     "name": "stdout",
     "output_type": "stream",
     "text": [
      "evaluating ...\n",
      "epoch 27, weight=0.50000, train-loss=0.11766, optimal-val-loss=nan, val-loss=2.33372, \n",
      "plotting ...\n",
      "optimal test-loss (with current weight=0.50000): 0.00000\n",
      "model test-loss (with current weight=0.50000): 2.33372\n",
      "save model ...\n",
      "saved!\n",
      "----------------------------------------------------------------------------------------------------\n"
     ]
    },
    {
     "name": "stderr",
     "output_type": "stream",
     "text": [
      "80it [00:47,  1.68it/s]\n"
     ]
    },
    {
     "name": "stdout",
     "output_type": "stream",
     "text": [
      "evaluating ...\n",
      "epoch 28, weight=0.50000, train-loss=0.11892, optimal-val-loss=nan, val-loss=2.33359, \n",
      "plotting ...\n",
      "optimal test-loss (with current weight=0.50000): 0.00000\n",
      "model test-loss (with current weight=0.50000): 2.33359\n",
      "save model ...\n",
      "saved!\n",
      "----------------------------------------------------------------------------------------------------\n"
     ]
    },
    {
     "name": "stderr",
     "output_type": "stream",
     "text": [
      "80it [00:44,  1.79it/s]\n"
     ]
    },
    {
     "name": "stdout",
     "output_type": "stream",
     "text": [
      "evaluating ...\n",
      "epoch 29, weight=0.50000, train-loss=0.11468, optimal-val-loss=nan, val-loss=2.33369, \n",
      "plotting ...\n",
      "optimal test-loss (with current weight=0.50000): 0.00000\n",
      "model test-loss (with current weight=0.50000): 2.33369\n",
      "save model ...\n",
      "saved!\n",
      "----------------------------------------------------------------------------------------------------\n"
     ]
    },
    {
     "name": "stderr",
     "output_type": "stream",
     "text": [
      "80it [00:35,  2.24it/s]\n"
     ]
    },
    {
     "name": "stdout",
     "output_type": "stream",
     "text": [
      "evaluating ...\n",
      "epoch 30, weight=0.50000, train-loss=0.12060, optimal-val-loss=nan, val-loss=2.33347, \n",
      "plotting ...\n",
      "optimal test-loss (with current weight=0.50000): 0.00000\n",
      "model test-loss (with current weight=0.50000): 2.33347\n",
      "save model ...\n",
      "saved!\n",
      "----------------------------------------------------------------------------------------------------\n"
     ]
    },
    {
     "name": "stderr",
     "output_type": "stream",
     "text": [
      "80it [00:41,  1.95it/s]\n"
     ]
    },
    {
     "name": "stdout",
     "output_type": "stream",
     "text": [
      "evaluating ...\n",
      "epoch 31, weight=0.50000, train-loss=0.11367, optimal-val-loss=nan, val-loss=2.33436, \n",
      "plotting ...\n",
      "optimal test-loss (with current weight=0.50000): 0.00000\n",
      "model test-loss (with current weight=0.50000): 2.33436\n",
      "save model ...\n",
      "saved!\n",
      "----------------------------------------------------------------------------------------------------\n"
     ]
    },
    {
     "name": "stderr",
     "output_type": "stream",
     "text": [
      "80it [00:39,  2.05it/s]\n"
     ]
    },
    {
     "name": "stdout",
     "output_type": "stream",
     "text": [
      "evaluating ...\n",
      "epoch 32, weight=0.50000, train-loss=0.11719, optimal-val-loss=nan, val-loss=2.33375, \n",
      "plotting ...\n",
      "optimal test-loss (with current weight=0.50000): 0.00000\n",
      "model test-loss (with current weight=0.50000): 2.33375\n",
      "save model ...\n",
      "saved!\n",
      "----------------------------------------------------------------------------------------------------\n"
     ]
    },
    {
     "name": "stderr",
     "output_type": "stream",
     "text": [
      "80it [00:33,  2.36it/s]\n"
     ]
    },
    {
     "name": "stdout",
     "output_type": "stream",
     "text": [
      "evaluating ...\n",
      "epoch 33, weight=0.50000, train-loss=0.11720, optimal-val-loss=nan, val-loss=2.33452, \n",
      "plotting ...\n",
      "optimal test-loss (with current weight=0.50000): 0.00000\n",
      "model test-loss (with current weight=0.50000): 2.33452\n",
      "save model ...\n",
      "saved!\n",
      "----------------------------------------------------------------------------------------------------\n"
     ]
    },
    {
     "name": "stderr",
     "output_type": "stream",
     "text": [
      "80it [00:37,  2.13it/s]\n"
     ]
    },
    {
     "name": "stdout",
     "output_type": "stream",
     "text": [
      "evaluating ...\n",
      "epoch 34, weight=0.50000, train-loss=0.12003, optimal-val-loss=nan, val-loss=2.33358, \n",
      "plotting ...\n",
      "optimal test-loss (with current weight=0.50000): 0.00000\n",
      "model test-loss (with current weight=0.50000): 2.33358\n",
      "save model ...\n",
      "saved!\n",
      "----------------------------------------------------------------------------------------------------\n"
     ]
    },
    {
     "name": "stderr",
     "output_type": "stream",
     "text": [
      "80it [00:41,  1.94it/s]\n"
     ]
    },
    {
     "name": "stdout",
     "output_type": "stream",
     "text": [
      "evaluating ...\n",
      "epoch 35, weight=0.50000, train-loss=0.11422, optimal-val-loss=nan, val-loss=2.33362, \n",
      "plotting ...\n",
      "optimal test-loss (with current weight=0.50000): 0.00000\n",
      "model test-loss (with current weight=0.50000): 2.33362\n",
      "save model ...\n",
      "saved!\n",
      "----------------------------------------------------------------------------------------------------\n"
     ]
    },
    {
     "name": "stderr",
     "output_type": "stream",
     "text": [
      "80it [00:38,  2.09it/s]\n"
     ]
    },
    {
     "name": "stdout",
     "output_type": "stream",
     "text": [
      "evaluating ...\n",
      "epoch 36, weight=0.50000, train-loss=0.12020, optimal-val-loss=nan, val-loss=2.33368, \n",
      "plotting ...\n",
      "optimal test-loss (with current weight=0.50000): 0.00000\n",
      "model test-loss (with current weight=0.50000): 2.33368\n",
      "save model ...\n",
      "saved!\n",
      "----------------------------------------------------------------------------------------------------\n"
     ]
    },
    {
     "name": "stderr",
     "output_type": "stream",
     "text": [
      "80it [00:35,  2.28it/s]\n"
     ]
    },
    {
     "name": "stdout",
     "output_type": "stream",
     "text": [
      "evaluating ...\n",
      "epoch 37, weight=0.50000, train-loss=0.11871, optimal-val-loss=nan, val-loss=2.33363, \n",
      "plotting ...\n",
      "optimal test-loss (with current weight=0.50000): 0.00000\n",
      "model test-loss (with current weight=0.50000): 2.33363\n",
      "save model ...\n",
      "saved!\n",
      "----------------------------------------------------------------------------------------------------\n"
     ]
    },
    {
     "name": "stderr",
     "output_type": "stream",
     "text": [
      "80it [00:36,  2.22it/s]\n"
     ]
    },
    {
     "name": "stdout",
     "output_type": "stream",
     "text": [
      "evaluating ...\n",
      "epoch 38, weight=0.50000, train-loss=0.12125, optimal-val-loss=nan, val-loss=2.33347, \n",
      "plotting ...\n",
      "optimal test-loss (with current weight=0.50000): 0.00000\n",
      "model test-loss (with current weight=0.50000): 2.33347\n",
      "save model ...\n",
      "saved!\n",
      "----------------------------------------------------------------------------------------------------\n"
     ]
    },
    {
     "name": "stderr",
     "output_type": "stream",
     "text": [
      "80it [00:37,  2.15it/s]\n"
     ]
    },
    {
     "name": "stdout",
     "output_type": "stream",
     "text": [
      "evaluating ...\n",
      "epoch 39, weight=0.50000, train-loss=0.11750, optimal-val-loss=nan, val-loss=2.33354, \n",
      "plotting ...\n",
      "optimal test-loss (with current weight=0.50000): 0.00000\n",
      "model test-loss (with current weight=0.50000): 2.33354\n",
      "save model ...\n",
      "saved!\n",
      "----------------------------------------------------------------------------------------------------\n"
     ]
    },
    {
     "name": "stderr",
     "output_type": "stream",
     "text": [
      "80it [00:30,  2.65it/s]\n"
     ]
    },
    {
     "name": "stdout",
     "output_type": "stream",
     "text": [
      "evaluating ...\n",
      "epoch 40, weight=0.50000, train-loss=0.11515, optimal-val-loss=nan, val-loss=2.33393, \n",
      "plotting ...\n",
      "optimal test-loss (with current weight=0.50000): 0.00000\n",
      "model test-loss (with current weight=0.50000): 2.33393\n",
      "save model ...\n",
      "saved!\n",
      "----------------------------------------------------------------------------------------------------\n"
     ]
    },
    {
     "name": "stderr",
     "output_type": "stream",
     "text": [
      "80it [00:39,  2.01it/s]\n"
     ]
    },
    {
     "name": "stdout",
     "output_type": "stream",
     "text": [
      "evaluating ...\n",
      "epoch 41, weight=0.50000, train-loss=0.11825, optimal-val-loss=nan, val-loss=2.33344, \n",
      "plotting ...\n",
      "optimal test-loss (with current weight=0.50000): 0.00000\n",
      "model test-loss (with current weight=0.50000): 2.33344\n",
      "save model ...\n",
      "saved!\n",
      "----------------------------------------------------------------------------------------------------\n"
     ]
    },
    {
     "name": "stderr",
     "output_type": "stream",
     "text": [
      "80it [00:39,  2.03it/s]\n"
     ]
    },
    {
     "name": "stdout",
     "output_type": "stream",
     "text": [
      "evaluating ...\n",
      "epoch 42, weight=0.50000, train-loss=0.11446, optimal-val-loss=nan, val-loss=2.33448, \n",
      "plotting ...\n",
      "optimal test-loss (with current weight=0.50000): 0.00000\n",
      "model test-loss (with current weight=0.50000): 2.33448\n",
      "save model ...\n",
      "saved!\n",
      "----------------------------------------------------------------------------------------------------\n"
     ]
    },
    {
     "name": "stderr",
     "output_type": "stream",
     "text": [
      "80it [00:34,  2.35it/s]\n"
     ]
    },
    {
     "name": "stdout",
     "output_type": "stream",
     "text": [
      "evaluating ...\n",
      "epoch 43, weight=0.50000, train-loss=0.11797, optimal-val-loss=nan, val-loss=2.33431, \n",
      "plotting ...\n",
      "optimal test-loss (with current weight=0.50000): 0.00000\n",
      "model test-loss (with current weight=0.50000): 2.33431\n",
      "save model ...\n",
      "saved!\n",
      "----------------------------------------------------------------------------------------------------\n"
     ]
    },
    {
     "name": "stderr",
     "output_type": "stream",
     "text": [
      "80it [00:30,  2.60it/s]\n"
     ]
    },
    {
     "name": "stdout",
     "output_type": "stream",
     "text": [
      "evaluating ...\n",
      "epoch 44, weight=0.50000, train-loss=0.11787, optimal-val-loss=nan, val-loss=2.33377, \n",
      "plotting ...\n",
      "optimal test-loss (with current weight=0.50000): 0.00000\n",
      "model test-loss (with current weight=0.50000): 2.33377\n",
      "save model ...\n",
      "saved!\n",
      "----------------------------------------------------------------------------------------------------\n"
     ]
    },
    {
     "name": "stderr",
     "output_type": "stream",
     "text": [
      "80it [00:34,  2.34it/s]\n"
     ]
    },
    {
     "name": "stdout",
     "output_type": "stream",
     "text": [
      "evaluating ...\n",
      "epoch 45, weight=0.50000, train-loss=0.11617, optimal-val-loss=nan, val-loss=2.33401, \n",
      "plotting ...\n",
      "optimal test-loss (with current weight=0.50000): 0.00000\n",
      "model test-loss (with current weight=0.50000): 2.33401\n",
      "save model ...\n",
      "saved!\n",
      "----------------------------------------------------------------------------------------------------\n"
     ]
    },
    {
     "name": "stderr",
     "output_type": "stream",
     "text": [
      "80it [00:35,  2.24it/s]\n"
     ]
    },
    {
     "name": "stdout",
     "output_type": "stream",
     "text": [
      "evaluating ...\n",
      "epoch 46, weight=0.50000, train-loss=0.12044, optimal-val-loss=nan, val-loss=2.33401, \n",
      "plotting ...\n",
      "optimal test-loss (with current weight=0.50000): 0.00000\n",
      "model test-loss (with current weight=0.50000): 2.33401\n",
      "save model ...\n",
      "saved!\n",
      "----------------------------------------------------------------------------------------------------\n"
     ]
    },
    {
     "name": "stderr",
     "output_type": "stream",
     "text": [
      "80it [00:32,  2.45it/s]\n"
     ]
    },
    {
     "name": "stdout",
     "output_type": "stream",
     "text": [
      "evaluating ...\n",
      "epoch 47, weight=0.50000, train-loss=0.11534, optimal-val-loss=nan, val-loss=2.33406, \n",
      "plotting ...\n",
      "optimal test-loss (with current weight=0.50000): 0.00000\n",
      "model test-loss (with current weight=0.50000): 2.33406\n",
      "save model ...\n",
      "saved!\n",
      "----------------------------------------------------------------------------------------------------\n"
     ]
    },
    {
     "name": "stderr",
     "output_type": "stream",
     "text": [
      "80it [00:37,  2.14it/s]\n"
     ]
    },
    {
     "name": "stdout",
     "output_type": "stream",
     "text": [
      "evaluating ...\n",
      "epoch 48, weight=0.50000, train-loss=0.11539, optimal-val-loss=nan, val-loss=2.33450, \n",
      "plotting ...\n",
      "optimal test-loss (with current weight=0.50000): 0.00000\n",
      "model test-loss (with current weight=0.50000): 2.33450\n",
      "save model ...\n",
      "saved!\n",
      "----------------------------------------------------------------------------------------------------\n"
     ]
    },
    {
     "name": "stderr",
     "output_type": "stream",
     "text": [
      "80it [00:44,  1.81it/s]\n"
     ]
    },
    {
     "name": "stdout",
     "output_type": "stream",
     "text": [
      "evaluating ...\n",
      "epoch 49, weight=0.50000, train-loss=0.11567, optimal-val-loss=nan, val-loss=2.33377, \n",
      "plotting ...\n",
      "optimal test-loss (with current weight=0.50000): 0.00000\n",
      "model test-loss (with current weight=0.50000): 2.33377\n",
      "save model ...\n",
      "saved!\n",
      "----------------------------------------------------------------------------------------------------\n"
     ]
    },
    {
     "name": "stderr",
     "output_type": "stream",
     "text": [
      "80it [00:38,  2.07it/s]\n"
     ]
    },
    {
     "name": "stdout",
     "output_type": "stream",
     "text": [
      "evaluating ...\n",
      "epoch 50, weight=0.50000, train-loss=0.11602, optimal-val-loss=nan, val-loss=2.33546, \n",
      "plotting ...\n",
      "optimal test-loss (with current weight=0.50000): 0.00000\n",
      "model test-loss (with current weight=0.50000): 2.33546\n",
      "save model ...\n",
      "saved!\n",
      "----------------------------------------------------------------------------------------------------\n"
     ]
    },
    {
     "name": "stderr",
     "output_type": "stream",
     "text": [
      "80it [00:42,  1.88it/s]\n"
     ]
    },
    {
     "name": "stdout",
     "output_type": "stream",
     "text": [
      "evaluating ...\n",
      "epoch 51, weight=0.50000, train-loss=0.11837, optimal-val-loss=nan, val-loss=2.33358, \n",
      "plotting ...\n",
      "optimal test-loss (with current weight=0.50000): 0.00000\n",
      "model test-loss (with current weight=0.50000): 2.33358\n",
      "save model ...\n",
      "saved!\n",
      "----------------------------------------------------------------------------------------------------\n"
     ]
    },
    {
     "name": "stderr",
     "output_type": "stream",
     "text": [
      "80it [00:38,  2.07it/s]\n"
     ]
    },
    {
     "name": "stdout",
     "output_type": "stream",
     "text": [
      "evaluating ...\n",
      "epoch 52, weight=0.50000, train-loss=0.11672, optimal-val-loss=nan, val-loss=2.33402, \n",
      "plotting ...\n",
      "optimal test-loss (with current weight=0.50000): 0.00000\n",
      "model test-loss (with current weight=0.50000): 2.33402\n",
      "save model ...\n",
      "saved!\n",
      "----------------------------------------------------------------------------------------------------\n"
     ]
    },
    {
     "name": "stderr",
     "output_type": "stream",
     "text": [
      "80it [00:41,  1.93it/s]\n"
     ]
    },
    {
     "name": "stdout",
     "output_type": "stream",
     "text": [
      "evaluating ...\n",
      "epoch 53, weight=0.50000, train-loss=0.11712, optimal-val-loss=nan, val-loss=2.33389, \n",
      "plotting ...\n",
      "optimal test-loss (with current weight=0.50000): 0.00000\n",
      "model test-loss (with current weight=0.50000): 2.33389\n",
      "save model ...\n",
      "saved!\n",
      "----------------------------------------------------------------------------------------------------\n"
     ]
    },
    {
     "name": "stderr",
     "output_type": "stream",
     "text": [
      "80it [00:38,  2.09it/s]\n"
     ]
    },
    {
     "name": "stdout",
     "output_type": "stream",
     "text": [
      "evaluating ...\n",
      "epoch 54, weight=0.50000, train-loss=0.11817, optimal-val-loss=nan, val-loss=2.33325, \n",
      "plotting ...\n",
      "optimal test-loss (with current weight=0.50000): 0.00000\n",
      "model test-loss (with current weight=0.50000): 2.33325\n",
      "save model ...\n",
      "saved!\n",
      "----------------------------------------------------------------------------------------------------\n"
     ]
    },
    {
     "name": "stderr",
     "output_type": "stream",
     "text": [
      "80it [00:33,  2.40it/s]\n"
     ]
    },
    {
     "name": "stdout",
     "output_type": "stream",
     "text": [
      "evaluating ...\n",
      "epoch 55, weight=0.50000, train-loss=0.11490, optimal-val-loss=nan, val-loss=2.33357, \n",
      "plotting ...\n",
      "optimal test-loss (with current weight=0.50000): 0.00000\n",
      "model test-loss (with current weight=0.50000): 2.33357\n",
      "save model ...\n",
      "saved!\n",
      "----------------------------------------------------------------------------------------------------\n"
     ]
    },
    {
     "name": "stderr",
     "output_type": "stream",
     "text": [
      "80it [00:36,  2.19it/s]\n"
     ]
    },
    {
     "name": "stdout",
     "output_type": "stream",
     "text": [
      "evaluating ...\n",
      "epoch 56, weight=0.50000, train-loss=0.11600, optimal-val-loss=nan, val-loss=2.33317, \n",
      "plotting ...\n",
      "optimal test-loss (with current weight=0.50000): 0.00000\n",
      "model test-loss (with current weight=0.50000): 2.33317\n",
      "save model ...\n",
      "saved!\n",
      "----------------------------------------------------------------------------------------------------\n"
     ]
    },
    {
     "name": "stderr",
     "output_type": "stream",
     "text": [
      "80it [00:36,  2.17it/s]\n"
     ]
    },
    {
     "name": "stdout",
     "output_type": "stream",
     "text": [
      "evaluating ...\n",
      "epoch 57, weight=0.50000, train-loss=0.11559, optimal-val-loss=nan, val-loss=2.33348, \n",
      "plotting ...\n",
      "optimal test-loss (with current weight=0.50000): 0.00000\n",
      "model test-loss (with current weight=0.50000): 2.33348\n",
      "save model ...\n",
      "saved!\n",
      "----------------------------------------------------------------------------------------------------\n"
     ]
    },
    {
     "name": "stderr",
     "output_type": "stream",
     "text": [
      "80it [00:39,  2.05it/s]\n"
     ]
    },
    {
     "name": "stdout",
     "output_type": "stream",
     "text": [
      "evaluating ...\n",
      "epoch 58, weight=0.50000, train-loss=0.11914, optimal-val-loss=nan, val-loss=2.33432, \n",
      "plotting ...\n",
      "optimal test-loss (with current weight=0.50000): 0.00000\n",
      "model test-loss (with current weight=0.50000): 2.33432\n",
      "save model ...\n",
      "saved!\n",
      "----------------------------------------------------------------------------------------------------\n"
     ]
    },
    {
     "name": "stderr",
     "output_type": "stream",
     "text": [
      "80it [00:40,  1.95it/s]\n"
     ]
    },
    {
     "name": "stdout",
     "output_type": "stream",
     "text": [
      "evaluating ...\n",
      "epoch 59, weight=0.50000, train-loss=0.11861, optimal-val-loss=nan, val-loss=2.33360, \n",
      "plotting ...\n",
      "optimal test-loss (with current weight=0.50000): 0.00000\n",
      "model test-loss (with current weight=0.50000): 2.33360\n",
      "save model ...\n",
      "saved!\n",
      "----------------------------------------------------------------------------------------------------\n"
     ]
    },
    {
     "name": "stderr",
     "output_type": "stream",
     "text": [
      "80it [00:43,  1.82it/s]\n"
     ]
    },
    {
     "name": "stdout",
     "output_type": "stream",
     "text": [
      "evaluating ...\n",
      "epoch 60, weight=0.50000, train-loss=0.11648, optimal-val-loss=nan, val-loss=2.33387, \n",
      "plotting ...\n",
      "optimal test-loss (with current weight=0.50000): 0.00000\n",
      "model test-loss (with current weight=0.50000): 2.33387\n",
      "save model ...\n",
      "saved!\n",
      "----------------------------------------------------------------------------------------------------\n"
     ]
    },
    {
     "name": "stderr",
     "output_type": "stream",
     "text": [
      "80it [00:45,  1.74it/s]\n"
     ]
    },
    {
     "name": "stdout",
     "output_type": "stream",
     "text": [
      "evaluating ...\n",
      "epoch 61, weight=0.50000, train-loss=0.11599, optimal-val-loss=nan, val-loss=2.33322, \n",
      "plotting ...\n",
      "optimal test-loss (with current weight=0.50000): 0.00000\n",
      "model test-loss (with current weight=0.50000): 2.33322\n",
      "save model ...\n",
      "saved!\n",
      "----------------------------------------------------------------------------------------------------\n"
     ]
    },
    {
     "name": "stderr",
     "output_type": "stream",
     "text": [
      "80it [00:47,  1.67it/s]\n"
     ]
    },
    {
     "name": "stdout",
     "output_type": "stream",
     "text": [
      "evaluating ...\n",
      "epoch 62, weight=0.50000, train-loss=0.11620, optimal-val-loss=nan, val-loss=2.33343, \n",
      "plotting ...\n",
      "optimal test-loss (with current weight=0.50000): 0.00000\n",
      "model test-loss (with current weight=0.50000): 2.33343\n",
      "save model ...\n",
      "saved!\n",
      "----------------------------------------------------------------------------------------------------\n"
     ]
    },
    {
     "name": "stderr",
     "output_type": "stream",
     "text": [
      "80it [00:52,  1.53it/s]\n"
     ]
    },
    {
     "name": "stdout",
     "output_type": "stream",
     "text": [
      "evaluating ...\n",
      "epoch 63, weight=0.50000, train-loss=0.11878, optimal-val-loss=nan, val-loss=2.33355, \n",
      "plotting ...\n",
      "optimal test-loss (with current weight=0.50000): 0.00000\n",
      "model test-loss (with current weight=0.50000): 2.33355\n",
      "save model ...\n",
      "saved!\n",
      "----------------------------------------------------------------------------------------------------\n"
     ]
    },
    {
     "name": "stderr",
     "output_type": "stream",
     "text": [
      "80it [00:46,  1.74it/s]\n"
     ]
    },
    {
     "name": "stdout",
     "output_type": "stream",
     "text": [
      "evaluating ...\n",
      "epoch 64, weight=0.50000, train-loss=0.11543, optimal-val-loss=nan, val-loss=2.33367, \n",
      "plotting ...\n",
      "optimal test-loss (with current weight=0.50000): 0.00000\n",
      "model test-loss (with current weight=0.50000): 2.33367\n",
      "save model ...\n",
      "saved!\n",
      "----------------------------------------------------------------------------------------------------\n"
     ]
    },
    {
     "name": "stderr",
     "output_type": "stream",
     "text": [
      "80it [00:52,  1.52it/s]\n"
     ]
    },
    {
     "name": "stdout",
     "output_type": "stream",
     "text": [
      "evaluating ...\n",
      "epoch 65, weight=0.50000, train-loss=0.11770, optimal-val-loss=nan, val-loss=2.33361, \n",
      "plotting ...\n",
      "optimal test-loss (with current weight=0.50000): 0.00000\n",
      "model test-loss (with current weight=0.50000): 2.33361\n",
      "save model ...\n",
      "saved!\n",
      "----------------------------------------------------------------------------------------------------\n"
     ]
    },
    {
     "name": "stderr",
     "output_type": "stream",
     "text": [
      "80it [00:50,  1.58it/s]\n"
     ]
    },
    {
     "name": "stdout",
     "output_type": "stream",
     "text": [
      "evaluating ...\n",
      "epoch 66, weight=0.50000, train-loss=0.11530, optimal-val-loss=nan, val-loss=2.33322, \n",
      "plotting ...\n",
      "optimal test-loss (with current weight=0.50000): 0.00000\n",
      "model test-loss (with current weight=0.50000): 2.33322\n",
      "save model ...\n",
      "saved!\n",
      "----------------------------------------------------------------------------------------------------\n"
     ]
    },
    {
     "name": "stderr",
     "output_type": "stream",
     "text": [
      "80it [01:01,  1.30it/s]\n"
     ]
    },
    {
     "name": "stdout",
     "output_type": "stream",
     "text": [
      "evaluating ...\n",
      "epoch 67, weight=0.50000, train-loss=0.11683, optimal-val-loss=nan, val-loss=2.33361, \n",
      "plotting ...\n",
      "optimal test-loss (with current weight=0.50000): 0.00000\n",
      "model test-loss (with current weight=0.50000): 2.33361\n",
      "save model ...\n",
      "saved!\n",
      "----------------------------------------------------------------------------------------------------\n"
     ]
    },
    {
     "name": "stderr",
     "output_type": "stream",
     "text": [
      "80it [00:57,  1.39it/s]\n"
     ]
    },
    {
     "name": "stdout",
     "output_type": "stream",
     "text": [
      "evaluating ...\n",
      "epoch 68, weight=0.50000, train-loss=0.11635, optimal-val-loss=nan, val-loss=2.33361, \n",
      "plotting ...\n",
      "optimal test-loss (with current weight=0.50000): 0.00000\n",
      "model test-loss (with current weight=0.50000): 2.33361\n",
      "save model ...\n",
      "saved!\n",
      "----------------------------------------------------------------------------------------------------\n"
     ]
    },
    {
     "name": "stderr",
     "output_type": "stream",
     "text": [
      "80it [01:00,  1.33it/s]\n"
     ]
    },
    {
     "name": "stdout",
     "output_type": "stream",
     "text": [
      "evaluating ...\n",
      "epoch 69, weight=0.50000, train-loss=0.11717, optimal-val-loss=nan, val-loss=2.33484, \n",
      "plotting ...\n",
      "optimal test-loss (with current weight=0.50000): 0.00000\n",
      "model test-loss (with current weight=0.50000): 2.33484\n",
      "save model ...\n",
      "saved!\n",
      "----------------------------------------------------------------------------------------------------\n"
     ]
    },
    {
     "name": "stderr",
     "output_type": "stream",
     "text": [
      "80it [01:00,  1.32it/s]\n"
     ]
    },
    {
     "name": "stdout",
     "output_type": "stream",
     "text": [
      "evaluating ...\n",
      "epoch 70, weight=0.50000, train-loss=0.12284, optimal-val-loss=nan, val-loss=2.33404, \n",
      "plotting ...\n",
      "optimal test-loss (with current weight=0.50000): 0.00000\n",
      "model test-loss (with current weight=0.50000): 2.33404\n",
      "save model ...\n",
      "saved!\n",
      "----------------------------------------------------------------------------------------------------\n"
     ]
    },
    {
     "name": "stderr",
     "output_type": "stream",
     "text": [
      "80it [01:04,  1.23it/s]\n"
     ]
    },
    {
     "name": "stdout",
     "output_type": "stream",
     "text": [
      "evaluating ...\n",
      "epoch 71, weight=0.50000, train-loss=0.11999, optimal-val-loss=nan, val-loss=2.33389, \n",
      "plotting ...\n",
      "optimal test-loss (with current weight=0.50000): 0.00000\n",
      "model test-loss (with current weight=0.50000): 2.33389\n",
      "save model ...\n",
      "saved!\n",
      "----------------------------------------------------------------------------------------------------\n"
     ]
    },
    {
     "name": "stderr",
     "output_type": "stream",
     "text": [
      "80it [01:04,  1.24it/s]\n"
     ]
    },
    {
     "name": "stdout",
     "output_type": "stream",
     "text": [
      "evaluating ...\n",
      "epoch 72, weight=0.50000, train-loss=0.11913, optimal-val-loss=nan, val-loss=2.33331, \n",
      "plotting ...\n",
      "optimal test-loss (with current weight=0.50000): 0.00000\n",
      "model test-loss (with current weight=0.50000): 2.33331\n",
      "save model ...\n",
      "saved!\n",
      "----------------------------------------------------------------------------------------------------\n"
     ]
    },
    {
     "name": "stderr",
     "output_type": "stream",
     "text": [
      "80it [01:06,  1.20it/s]\n"
     ]
    },
    {
     "name": "stdout",
     "output_type": "stream",
     "text": [
      "evaluating ...\n",
      "epoch 73, weight=0.50000, train-loss=0.11939, optimal-val-loss=nan, val-loss=2.33362, \n",
      "plotting ...\n",
      "optimal test-loss (with current weight=0.50000): 0.00000\n",
      "model test-loss (with current weight=0.50000): 2.33362\n",
      "save model ...\n",
      "saved!\n",
      "----------------------------------------------------------------------------------------------------\n"
     ]
    },
    {
     "name": "stderr",
     "output_type": "stream",
     "text": [
      "80it [01:05,  1.22it/s]\n"
     ]
    },
    {
     "name": "stdout",
     "output_type": "stream",
     "text": [
      "evaluating ...\n",
      "epoch 74, weight=0.50000, train-loss=0.11743, optimal-val-loss=nan, val-loss=2.33363, \n",
      "plotting ...\n",
      "optimal test-loss (with current weight=0.50000): 0.00000\n",
      "model test-loss (with current weight=0.50000): 2.33363\n",
      "save model ...\n",
      "saved!\n",
      "----------------------------------------------------------------------------------------------------\n"
     ]
    },
    {
     "name": "stderr",
     "output_type": "stream",
     "text": [
      "80it [01:06,  1.20it/s]\n"
     ]
    },
    {
     "name": "stdout",
     "output_type": "stream",
     "text": [
      "evaluating ...\n",
      "epoch 75, weight=0.50000, train-loss=0.11403, optimal-val-loss=nan, val-loss=2.33367, \n",
      "plotting ...\n",
      "optimal test-loss (with current weight=0.50000): 0.00000\n",
      "model test-loss (with current weight=0.50000): 2.33367\n",
      "save model ...\n",
      "saved!\n",
      "----------------------------------------------------------------------------------------------------\n"
     ]
    },
    {
     "name": "stderr",
     "output_type": "stream",
     "text": [
      "80it [01:07,  1.18it/s]\n"
     ]
    },
    {
     "name": "stdout",
     "output_type": "stream",
     "text": [
      "evaluating ...\n",
      "epoch 76, weight=0.50000, train-loss=0.12058, optimal-val-loss=nan, val-loss=2.33339, \n",
      "plotting ...\n",
      "optimal test-loss (with current weight=0.50000): 0.00000\n",
      "model test-loss (with current weight=0.50000): 2.33339\n",
      "save model ...\n",
      "saved!\n",
      "----------------------------------------------------------------------------------------------------\n"
     ]
    },
    {
     "name": "stderr",
     "output_type": "stream",
     "text": [
      "80it [01:07,  1.18it/s]\n"
     ]
    },
    {
     "name": "stdout",
     "output_type": "stream",
     "text": [
      "evaluating ...\n",
      "epoch 77, weight=0.50000, train-loss=0.11527, optimal-val-loss=nan, val-loss=2.33383, \n",
      "plotting ...\n",
      "optimal test-loss (with current weight=0.50000): 0.00000\n",
      "model test-loss (with current weight=0.50000): 2.33383\n",
      "save model ...\n",
      "saved!\n",
      "----------------------------------------------------------------------------------------------------\n"
     ]
    },
    {
     "name": "stderr",
     "output_type": "stream",
     "text": [
      "80it [01:09,  1.15it/s]\n"
     ]
    },
    {
     "name": "stdout",
     "output_type": "stream",
     "text": [
      "evaluating ...\n",
      "epoch 78, weight=0.50000, train-loss=0.11851, optimal-val-loss=nan, val-loss=2.33373, \n",
      "plotting ...\n",
      "optimal test-loss (with current weight=0.50000): 0.00000\n",
      "model test-loss (with current weight=0.50000): 2.33373\n",
      "save model ...\n",
      "saved!\n",
      "----------------------------------------------------------------------------------------------------\n"
     ]
    },
    {
     "name": "stderr",
     "output_type": "stream",
     "text": [
      "80it [01:13,  1.08it/s]\n"
     ]
    },
    {
     "name": "stdout",
     "output_type": "stream",
     "text": [
      "evaluating ...\n",
      "epoch 79, weight=0.50000, train-loss=0.12058, optimal-val-loss=nan, val-loss=2.33396, \n",
      "plotting ...\n",
      "optimal test-loss (with current weight=0.50000): 0.00000\n",
      "model test-loss (with current weight=0.50000): 2.33396\n",
      "save model ...\n",
      "saved!\n",
      "----------------------------------------------------------------------------------------------------\n"
     ]
    },
    {
     "name": "stderr",
     "output_type": "stream",
     "text": [
      "80it [01:12,  1.10it/s]\n"
     ]
    },
    {
     "name": "stdout",
     "output_type": "stream",
     "text": [
      "evaluating ...\n",
      "epoch 80, weight=0.50000, train-loss=0.11276, optimal-val-loss=nan, val-loss=2.33424, \n",
      "plotting ...\n",
      "optimal test-loss (with current weight=0.50000): 0.00000\n",
      "model test-loss (with current weight=0.50000): 2.33424\n",
      "save model ...\n",
      "saved!\n",
      "----------------------------------------------------------------------------------------------------\n"
     ]
    },
    {
     "name": "stderr",
     "output_type": "stream",
     "text": [
      "80it [01:14,  1.08it/s]\n"
     ]
    },
    {
     "name": "stdout",
     "output_type": "stream",
     "text": [
      "evaluating ...\n",
      "epoch 81, weight=0.50000, train-loss=0.11312, optimal-val-loss=nan, val-loss=2.33419, \n",
      "plotting ...\n",
      "optimal test-loss (with current weight=0.50000): 0.00000\n",
      "model test-loss (with current weight=0.50000): 2.33419\n",
      "save model ...\n",
      "saved!\n",
      "----------------------------------------------------------------------------------------------------\n"
     ]
    },
    {
     "name": "stderr",
     "output_type": "stream",
     "text": [
      "80it [01:12,  1.10it/s]\n"
     ]
    },
    {
     "name": "stdout",
     "output_type": "stream",
     "text": [
      "evaluating ...\n",
      "epoch 82, weight=0.50000, train-loss=0.11763, optimal-val-loss=nan, val-loss=2.33394, \n",
      "plotting ...\n",
      "optimal test-loss (with current weight=0.50000): 0.00000\n",
      "model test-loss (with current weight=0.50000): 2.33394\n",
      "save model ...\n",
      "saved!\n",
      "----------------------------------------------------------------------------------------------------\n"
     ]
    },
    {
     "name": "stderr",
     "output_type": "stream",
     "text": [
      "80it [01:13,  1.09it/s]\n"
     ]
    },
    {
     "name": "stdout",
     "output_type": "stream",
     "text": [
      "evaluating ...\n",
      "epoch 83, weight=0.50000, train-loss=0.11728, optimal-val-loss=nan, val-loss=2.33391, \n",
      "plotting ...\n",
      "optimal test-loss (with current weight=0.50000): 0.00000\n",
      "model test-loss (with current weight=0.50000): 2.33391\n",
      "save model ...\n",
      "saved!\n",
      "----------------------------------------------------------------------------------------------------\n"
     ]
    },
    {
     "name": "stderr",
     "output_type": "stream",
     "text": [
      "80it [01:11,  1.12it/s]\n"
     ]
    },
    {
     "name": "stdout",
     "output_type": "stream",
     "text": [
      "evaluating ...\n",
      "epoch 84, weight=0.50000, train-loss=0.11970, optimal-val-loss=nan, val-loss=2.33383, \n",
      "plotting ...\n",
      "optimal test-loss (with current weight=0.50000): 0.00000\n",
      "model test-loss (with current weight=0.50000): 2.33383\n",
      "save model ...\n",
      "saved!\n",
      "----------------------------------------------------------------------------------------------------\n"
     ]
    },
    {
     "name": "stderr",
     "output_type": "stream",
     "text": [
      "80it [01:11,  1.12it/s]\n"
     ]
    },
    {
     "name": "stdout",
     "output_type": "stream",
     "text": [
      "evaluating ...\n",
      "epoch 85, weight=0.50000, train-loss=0.11898, optimal-val-loss=nan, val-loss=2.33336, \n",
      "plotting ...\n",
      "optimal test-loss (with current weight=0.50000): 0.00000\n",
      "model test-loss (with current weight=0.50000): 2.33336\n",
      "save model ...\n",
      "saved!\n",
      "----------------------------------------------------------------------------------------------------\n"
     ]
    },
    {
     "name": "stderr",
     "output_type": "stream",
     "text": [
      "80it [01:14,  1.08it/s]\n"
     ]
    },
    {
     "name": "stdout",
     "output_type": "stream",
     "text": [
      "evaluating ...\n",
      "epoch 86, weight=0.50000, train-loss=0.11888, optimal-val-loss=nan, val-loss=2.33479, \n",
      "plotting ...\n",
      "optimal test-loss (with current weight=0.50000): 0.00000\n",
      "model test-loss (with current weight=0.50000): 2.33479\n",
      "save model ...\n",
      "saved!\n",
      "----------------------------------------------------------------------------------------------------\n"
     ]
    },
    {
     "name": "stderr",
     "output_type": "stream",
     "text": [
      "80it [01:11,  1.12it/s]\n"
     ]
    },
    {
     "name": "stdout",
     "output_type": "stream",
     "text": [
      "evaluating ...\n",
      "epoch 87, weight=0.50000, train-loss=0.11796, optimal-val-loss=nan, val-loss=2.33388, \n",
      "plotting ...\n",
      "optimal test-loss (with current weight=0.50000): 0.00000\n",
      "model test-loss (with current weight=0.50000): 2.33388\n",
      "save model ...\n",
      "saved!\n",
      "----------------------------------------------------------------------------------------------------\n"
     ]
    },
    {
     "name": "stderr",
     "output_type": "stream",
     "text": [
      "80it [01:11,  1.11it/s]\n"
     ]
    },
    {
     "name": "stdout",
     "output_type": "stream",
     "text": [
      "evaluating ...\n",
      "epoch 88, weight=0.50000, train-loss=0.11454, optimal-val-loss=nan, val-loss=2.33389, \n",
      "plotting ...\n",
      "optimal test-loss (with current weight=0.50000): 0.00000\n",
      "model test-loss (with current weight=0.50000): 2.33389\n",
      "save model ...\n",
      "saved!\n",
      "----------------------------------------------------------------------------------------------------\n"
     ]
    },
    {
     "name": "stderr",
     "output_type": "stream",
     "text": [
      "80it [01:11,  1.12it/s]\n"
     ]
    },
    {
     "name": "stdout",
     "output_type": "stream",
     "text": [
      "evaluating ...\n",
      "epoch 89, weight=0.50000, train-loss=0.10789, optimal-val-loss=nan, val-loss=2.33327, \n",
      "plotting ...\n",
      "optimal test-loss (with current weight=0.50000): 0.00000\n",
      "model test-loss (with current weight=0.50000): 2.33327\n",
      "save model ...\n",
      "saved!\n",
      "----------------------------------------------------------------------------------------------------\n"
     ]
    },
    {
     "name": "stderr",
     "output_type": "stream",
     "text": [
      "80it [01:12,  1.10it/s]\n"
     ]
    },
    {
     "name": "stdout",
     "output_type": "stream",
     "text": [
      "evaluating ...\n",
      "epoch 90, weight=0.50000, train-loss=0.11882, optimal-val-loss=nan, val-loss=2.33371, \n",
      "plotting ...\n",
      "optimal test-loss (with current weight=0.50000): 0.00000\n",
      "model test-loss (with current weight=0.50000): 2.33371\n",
      "save model ...\n",
      "saved!\n",
      "----------------------------------------------------------------------------------------------------\n"
     ]
    },
    {
     "name": "stderr",
     "output_type": "stream",
     "text": [
      "80it [01:13,  1.09it/s]\n"
     ]
    },
    {
     "name": "stdout",
     "output_type": "stream",
     "text": [
      "evaluating ...\n",
      "epoch 91, weight=0.50000, train-loss=0.11279, optimal-val-loss=nan, val-loss=2.33329, \n",
      "plotting ...\n",
      "optimal test-loss (with current weight=0.50000): 0.00000\n",
      "model test-loss (with current weight=0.50000): 2.33329\n",
      "save model ...\n",
      "saved!\n",
      "----------------------------------------------------------------------------------------------------\n"
     ]
    },
    {
     "name": "stderr",
     "output_type": "stream",
     "text": [
      "80it [01:09,  1.15it/s]\n"
     ]
    },
    {
     "name": "stdout",
     "output_type": "stream",
     "text": [
      "evaluating ...\n",
      "epoch 92, weight=0.50000, train-loss=0.11455, optimal-val-loss=nan, val-loss=2.33383, \n",
      "plotting ...\n",
      "optimal test-loss (with current weight=0.50000): 0.00000\n",
      "model test-loss (with current weight=0.50000): 2.33383\n",
      "save model ...\n",
      "saved!\n",
      "----------------------------------------------------------------------------------------------------\n"
     ]
    },
    {
     "name": "stderr",
     "output_type": "stream",
     "text": [
      "80it [01:08,  1.17it/s]\n"
     ]
    },
    {
     "name": "stdout",
     "output_type": "stream",
     "text": [
      "evaluating ...\n",
      "epoch 93, weight=0.50000, train-loss=0.11312, optimal-val-loss=nan, val-loss=2.33397, \n",
      "plotting ...\n",
      "optimal test-loss (with current weight=0.50000): 0.00000\n",
      "model test-loss (with current weight=0.50000): 2.33397\n",
      "save model ...\n",
      "saved!\n",
      "----------------------------------------------------------------------------------------------------\n"
     ]
    },
    {
     "name": "stderr",
     "output_type": "stream",
     "text": [
      "80it [01:08,  1.17it/s]\n"
     ]
    },
    {
     "name": "stdout",
     "output_type": "stream",
     "text": [
      "evaluating ...\n",
      "epoch 94, weight=0.50000, train-loss=0.11834, optimal-val-loss=nan, val-loss=2.33366, \n",
      "plotting ...\n",
      "optimal test-loss (with current weight=0.50000): 0.00000\n",
      "model test-loss (with current weight=0.50000): 2.33366\n",
      "save model ...\n",
      "saved!\n",
      "----------------------------------------------------------------------------------------------------\n"
     ]
    },
    {
     "name": "stderr",
     "output_type": "stream",
     "text": [
      "80it [01:08,  1.18it/s]\n"
     ]
    },
    {
     "name": "stdout",
     "output_type": "stream",
     "text": [
      "evaluating ...\n",
      "epoch 95, weight=0.50000, train-loss=0.11754, optimal-val-loss=nan, val-loss=2.33313, \n",
      "plotting ...\n",
      "optimal test-loss (with current weight=0.50000): 0.00000\n",
      "model test-loss (with current weight=0.50000): 2.33313\n",
      "save model ...\n",
      "saved!\n",
      "----------------------------------------------------------------------------------------------------\n"
     ]
    },
    {
     "name": "stderr",
     "output_type": "stream",
     "text": [
      "80it [01:10,  1.13it/s]\n"
     ]
    },
    {
     "name": "stdout",
     "output_type": "stream",
     "text": [
      "evaluating ...\n",
      "epoch 96, weight=0.50000, train-loss=0.11795, optimal-val-loss=nan, val-loss=2.33417, \n",
      "plotting ...\n",
      "optimal test-loss (with current weight=0.50000): 0.00000\n",
      "model test-loss (with current weight=0.50000): 2.33417\n",
      "save model ...\n",
      "saved!\n",
      "----------------------------------------------------------------------------------------------------\n"
     ]
    },
    {
     "name": "stderr",
     "output_type": "stream",
     "text": [
      "80it [01:12,  1.11it/s]\n"
     ]
    },
    {
     "name": "stdout",
     "output_type": "stream",
     "text": [
      "evaluating ...\n",
      "epoch 97, weight=0.50000, train-loss=0.11305, optimal-val-loss=nan, val-loss=2.33368, \n",
      "plotting ...\n",
      "optimal test-loss (with current weight=0.50000): 0.00000\n",
      "model test-loss (with current weight=0.50000): 2.33368\n",
      "save model ...\n",
      "saved!\n",
      "----------------------------------------------------------------------------------------------------\n"
     ]
    },
    {
     "name": "stderr",
     "output_type": "stream",
     "text": [
      "80it [01:13,  1.09it/s]\n"
     ]
    },
    {
     "name": "stdout",
     "output_type": "stream",
     "text": [
      "evaluating ...\n",
      "epoch 98, weight=0.50000, train-loss=0.11473, optimal-val-loss=nan, val-loss=2.33425, \n",
      "plotting ...\n",
      "optimal test-loss (with current weight=0.50000): 0.00000\n",
      "model test-loss (with current weight=0.50000): 2.33425\n",
      "save model ...\n",
      "saved!\n",
      "----------------------------------------------------------------------------------------------------\n"
     ]
    },
    {
     "name": "stderr",
     "output_type": "stream",
     "text": [
      "80it [01:07,  1.19it/s]\n"
     ]
    },
    {
     "name": "stdout",
     "output_type": "stream",
     "text": [
      "evaluating ...\n",
      "epoch 99, weight=0.50000, train-loss=0.11988, optimal-val-loss=nan, val-loss=2.33421, \n",
      "plotting ...\n",
      "optimal test-loss (with current weight=0.50000): 0.00000\n",
      "model test-loss (with current weight=0.50000): 2.33421\n",
      "save model ...\n",
      "saved!\n",
      "----------------------------------------------------------------------------------------------------\n"
     ]
    },
    {
     "name": "stderr",
     "output_type": "stream",
     "text": [
      "80it [01:15,  1.06it/s]\n"
     ]
    },
    {
     "name": "stdout",
     "output_type": "stream",
     "text": [
      "evaluating ...\n",
      "epoch 100, weight=0.50000, train-loss=0.11324, optimal-val-loss=nan, val-loss=2.33417, \n",
      "plotting ...\n",
      "optimal test-loss (with current weight=0.50000): 0.00000\n",
      "model test-loss (with current weight=0.50000): 2.33417\n",
      "save model ...\n",
      "saved!\n",
      "----------------------------------------------------------------------------------------------------\n"
     ]
    },
    {
     "data": {
      "text/plain": "0"
     },
     "execution_count": 28,
     "metadata": {},
     "output_type": "execute_result"
    }
   ],
   "source": [
    "train.train(dataset=\"OrnsteinUhlenbeckForZ\", dataset_id=dataset_id, input_size=9, output_size=9, use_cond_exp=False, eval_use_true_paths=True, plot=True,  which_loss = 'easy_vol')"
   ],
   "metadata": {
    "collapsed": false,
    "ExecuteTime": {
     "end_time": "2025-07-24T21:18:39.500125500Z",
     "start_time": "2025-07-24T19:46:56.917267800Z"
    }
   },
   "id": "baeb1b522da811d1"
  },
  {
   "cell_type": "code",
   "execution_count": 8,
   "outputs": [
    {
     "name": "stdout",
     "output_type": "stream",
     "text": [
      "using loss: easy\n",
      "neuralODE use input scaling with tanh\n",
      "use residual network: input_size=3, output_size=10\n",
      "use residual network: input_size=10, output_size=3\n"
     ]
    },
    {
     "data": {
      "text/plain": "NJODE(\n  (ode_f): ODEFunc(\n    (f): Sequential(\n      (0): Linear(in_features=15, out_features=50, bias=True)\n      (1): Tanh()\n      (2): Dropout(p=0, inplace=False)\n      (3): Linear(in_features=50, out_features=50, bias=True)\n      (4): Tanh()\n      (5): Dropout(p=0, inplace=False)\n      (6): Linear(in_features=50, out_features=10, bias=True)\n    )\n  )\n  (encoder_map): FFNN(\n    (ffnn): Sequential(\n      (0): Linear(in_features=3, out_features=50, bias=True)\n      (1): Tanh()\n      (2): Dropout(p=0, inplace=False)\n      (3): Linear(in_features=50, out_features=50, bias=True)\n      (4): Tanh()\n      (5): Dropout(p=0, inplace=False)\n      (6): Linear(in_features=50, out_features=10, bias=True)\n    )\n  )\n  (readout_map): FFNN(\n    (ffnn): Sequential(\n      (0): Linear(in_features=10, out_features=50, bias=True)\n      (1): Tanh()\n      (2): Dropout(p=0, inplace=False)\n      (3): Linear(in_features=50, out_features=50, bias=True)\n      (4): Tanh()\n      (5): Dropout(p=0, inplace=False)\n      (6): Linear(in_features=50, out_features=3, bias=True)\n    )\n  )\n)"
     },
     "execution_count": 8,
     "metadata": {},
     "output_type": "execute_result"
    }
   ],
   "source": [
    "params_dict_mu = {\n",
    "    'input_size': 3,\n",
    "    'hidden_size': 10,\n",
    "    'output_size': 3,\n",
    "    'ode_nn': ((50, \"tanh\"), (50, \"tanh\")),\n",
    "    'readout_nn': ((50, \"tanh\"), (50, \"tanh\")),\n",
    "    'enc_nn': ((50, \"tanh\"), (50, \"tanh\")),\n",
    "    'use_rnn': False,\n",
    "    'options': {'which_loss': 'easy'},\n",
    "    \"input_coords\": np.arange(3),\n",
    "    \"output_coords\": np.arange(3),\n",
    "    \"signature_coords\": np.arange(3)\n",
    "}\n",
    "device = torch.device(\"cuda\" if torch.cuda.is_available() else \"cpu\")\n",
    "from models import get_ckpt_model, NJODE\n",
    "model_mu = NJODE(**params_dict_mu).to(device)\n",
    "optimizer = torch.optim.Adam(model_mu.parameters())\n",
    "get_ckpt_model(\"../data/saved_models/id-57/best_checkpoint/\", model_mu, optimizer, device)\n",
    "model_mu.eval()"
   ],
   "metadata": {
    "collapsed": false,
    "ExecuteTime": {
     "end_time": "2025-07-24T19:12:42.278425100Z",
     "start_time": "2025-07-24T19:12:42.221053800Z"
    }
   },
   "id": "c225d8e7a3d7a3f9"
  },
  {
   "cell_type": "code",
   "execution_count": 9,
   "outputs": [
    {
     "name": "stdout",
     "output_type": "stream",
     "text": [
      "using loss: easy_vol\n",
      "neuralODE use input scaling with tanh\n",
      "use residual network: input_size=9, output_size=10\n",
      "use residual network: input_size=10, output_size=9\n"
     ]
    },
    {
     "data": {
      "text/plain": "NJODE(\n  (ode_f): ODEFunc(\n    (f): Sequential(\n      (0): Linear(in_features=21, out_features=50, bias=True)\n      (1): Tanh()\n      (2): Dropout(p=0, inplace=False)\n      (3): Linear(in_features=50, out_features=50, bias=True)\n      (4): Tanh()\n      (5): Dropout(p=0, inplace=False)\n      (6): Linear(in_features=50, out_features=10, bias=True)\n    )\n  )\n  (encoder_map): FFNN(\n    (ffnn): Sequential(\n      (0): Linear(in_features=9, out_features=50, bias=True)\n      (1): Tanh()\n      (2): Dropout(p=0, inplace=False)\n      (3): Linear(in_features=50, out_features=50, bias=True)\n      (4): Tanh()\n      (5): Dropout(p=0, inplace=False)\n      (6): Linear(in_features=50, out_features=10, bias=True)\n    )\n  )\n  (readout_map): FFNN(\n    (ffnn): Sequential(\n      (0): Linear(in_features=10, out_features=50, bias=True)\n      (1): Tanh()\n      (2): Dropout(p=0, inplace=False)\n      (3): Linear(in_features=50, out_features=50, bias=True)\n      (4): Tanh()\n      (5): Dropout(p=0, inplace=False)\n      (6): Linear(in_features=50, out_features=9, bias=True)\n    )\n  )\n)"
     },
     "execution_count": 9,
     "metadata": {},
     "output_type": "execute_result"
    }
   ],
   "source": [
    "params_dict_vol = {\n",
    "    'input_size': 9,\n",
    "    'hidden_size': 10,\n",
    "    'output_size': 9,\n",
    "    'ode_nn': ((50, \"tanh\"), (50, \"tanh\")),\n",
    "    'readout_nn': ((50, \"tanh\"), (50, \"tanh\")),\n",
    "    'enc_nn': ((50, \"tanh\"), (50, \"tanh\")),\n",
    "    'use_rnn': False,\n",
    "    'options': {'which_loss': 'easy_vol'},\n",
    "    \"input_coords\": np.arange(9),\n",
    "    \"output_coords\": np.arange(9),\n",
    "    \"signature_coords\": np.arange(9)\n",
    "}\n",
    "model_vol = NJODE(**params_dict_vol).to(device)\n",
    "optimizer_vol = torch.optim.Adam(model_vol.parameters())\n",
    "get_ckpt_model(\"../data/saved_models/id-54/last_checkpoint/\", model_vol, optimizer_vol, device)\n",
    "model_vol.eval()"
   ],
   "metadata": {
    "collapsed": false,
    "ExecuteTime": {
     "end_time": "2025-07-24T19:12:46.738896500Z",
     "start_time": "2025-07-24T19:12:46.559674800Z"
    }
   },
   "id": "37cd3827366b915b"
  },
  {
   "cell_type": "code",
   "execution_count": 10,
   "outputs": [],
   "source": [
    " def generate_next_value( X_t, mu_t, sigma_t, delta_t):\n",
    "    \"\"\"\n",
    "    Generate the next value in the time series using the Euler-Maruyama scheme.\n",
    "\n",
    "    :param X_t: current value tensor of shape (batch_size, d)\n",
    "    :param mu_t: drift coefficient tensor of shape (batch_size, d)\n",
    "    :param sigma_t: diffusion coefficient tensor of shape ( d, d)\n",
    "    :param delta_t: time difference float\n",
    "    :return: next value tensor of shape (batch_size, d)\n",
    "    \"\"\"\n",
    "    delta_Wt = torch.randn_like(X_t) * np.sqrt(delta_t)\n",
    "\n",
    "    X_t_next = X_t + mu_t * delta_t + delta_Wt @ sigma_t\n",
    "\n",
    "    return X_t_next"
   ],
   "metadata": {
    "collapsed": false,
    "ExecuteTime": {
     "end_time": "2025-07-24T19:12:52.078674300Z",
     "start_time": "2025-07-24T19:12:52.053493100Z"
    }
   },
   "id": "ec3efbc5ce81e0aa"
  },
  {
   "cell_type": "code",
   "execution_count": 15,
   "outputs": [
    {
     "ename": "RuntimeError",
     "evalue": "mat1 and mat2 shapes cannot be multiplied (1000x21 and 15x50)",
     "output_type": "error",
     "traceback": [
      "\u001B[1;31m---------------------------------------------------------------------------\u001B[0m",
      "\u001B[1;31mRuntimeError\u001B[0m                              Traceback (most recent call last)",
      "Cell \u001B[1;32mIn[15], line 19\u001B[0m\n\u001B[0;32m     17\u001B[0m \u001B[38;5;28;01mif\u001B[39;00m i\u001B[38;5;241m==\u001B[39m\u001B[38;5;241m100\u001B[39m:\n\u001B[0;32m     18\u001B[0m     \u001B[38;5;28mprint\u001B[39m(i)\n\u001B[1;32m---> 19\u001B[0m mu_pred\u001B[38;5;241m=\u001B[39m\u001B[43mmodel_mu\u001B[49m\u001B[38;5;241;43m.\u001B[39;49m\u001B[43mget_pred\u001B[49m\u001B[43m(\u001B[49m\u001B[43mtimes\u001B[49m\u001B[43m,\u001B[49m\u001B[43m \u001B[49m\u001B[43mtime_ptr\u001B[49m\u001B[43m,\u001B[49m\u001B[43m \u001B[49m\u001B[43mX\u001B[49m\u001B[43m,\u001B[49m\u001B[43m \u001B[49m\u001B[43mobs_idx\u001B[49m\u001B[43m,\u001B[49m\u001B[43m \u001B[49m\u001B[43mdelta_t\u001B[49m\u001B[43m,\u001B[49m\u001B[43m \u001B[49m\u001B[43mT\u001B[49m\u001B[43m,\u001B[49m\u001B[43m \u001B[49m\u001B[43mstart_X\u001B[49m\u001B[43m,\u001B[49m\u001B[43m \u001B[49m\u001B[43mn_obs_ot\u001B[49m\u001B[43m)\u001B[49m[\u001B[38;5;124m\"\u001B[39m\u001B[38;5;124mpred\u001B[39m\u001B[38;5;124m\"\u001B[39m][\u001B[38;5;241m-\u001B[39m\u001B[38;5;241m1\u001B[39m]\u001B[38;5;241m.\u001B[39mdetach()\n\u001B[0;32m     21\u001B[0m \u001B[38;5;28;01mif\u001B[39;00m i\u001B[38;5;241m==\u001B[39m\u001B[38;5;241m1\u001B[39m:\n\u001B[0;32m     22\u001B[0m     X_t\u001B[38;5;241m=\u001B[39mstart_X\n",
      "File \u001B[1;32m~\\thesis\\NJODE\\models.py:1163\u001B[0m, in \u001B[0;36mNJODE.get_pred\u001B[1;34m(self, times, time_ptr, X, obs_idx, delta_t, T, start_X, n_obs_ot, M, start_M, which_loss)\u001B[0m\n\u001B[0;32m   1149\u001B[0m \u001B[38;5;250m\u001B[39m\u001B[38;5;124;03m\"\"\"\u001B[39;00m\n\u001B[0;32m   1150\u001B[0m \u001B[38;5;124;03mget predicted path\u001B[39;00m\n\u001B[0;32m   1151\u001B[0m \u001B[38;5;124;03m:param times: see forward\u001B[39;00m\n\u001B[1;32m   (...)\u001B[0m\n\u001B[0;32m   1160\u001B[0m \u001B[38;5;124;03m:return: dict, with prediction y and times t\u001B[39;00m\n\u001B[0;32m   1161\u001B[0m \u001B[38;5;124;03m\"\"\"\u001B[39;00m\n\u001B[0;32m   1162\u001B[0m \u001B[38;5;28mself\u001B[39m\u001B[38;5;241m.\u001B[39meval()\n\u001B[1;32m-> 1163\u001B[0m h, loss, path_t, path_h, path_y \u001B[38;5;241m=\u001B[39m \u001B[38;5;28;43mself\u001B[39;49m\u001B[38;5;241;43m.\u001B[39;49m\u001B[43mforward\u001B[49m\u001B[43m(\u001B[49m\n\u001B[0;32m   1164\u001B[0m \u001B[43m    \u001B[49m\u001B[43mtimes\u001B[49m\u001B[38;5;241;43m=\u001B[39;49m\u001B[43mtimes\u001B[49m\u001B[43m,\u001B[49m\u001B[43m \u001B[49m\u001B[43mtime_ptr\u001B[49m\u001B[38;5;241;43m=\u001B[39;49m\u001B[43mtime_ptr\u001B[49m\u001B[43m,\u001B[49m\u001B[43m \u001B[49m\u001B[43mX\u001B[49m\u001B[38;5;241;43m=\u001B[39;49m\u001B[43mX\u001B[49m\u001B[43m,\u001B[49m\u001B[43m \u001B[49m\u001B[43mobs_idx\u001B[49m\u001B[38;5;241;43m=\u001B[39;49m\u001B[43mobs_idx\u001B[49m\u001B[43m,\u001B[49m\n\u001B[0;32m   1165\u001B[0m \u001B[43m    \u001B[49m\u001B[43mdelta_t\u001B[49m\u001B[38;5;241;43m=\u001B[39;49m\u001B[43mdelta_t\u001B[49m\u001B[43m,\u001B[49m\u001B[43m \u001B[49m\u001B[43mT\u001B[49m\u001B[38;5;241;43m=\u001B[39;49m\u001B[43mT\u001B[49m\u001B[43m,\u001B[49m\u001B[43m \u001B[49m\u001B[43mstart_X\u001B[49m\u001B[38;5;241;43m=\u001B[39;49m\u001B[43mstart_X\u001B[49m\u001B[43m,\u001B[49m\u001B[43m \u001B[49m\u001B[43mn_obs_ot\u001B[49m\u001B[38;5;241;43m=\u001B[39;49m\u001B[43mn_obs_ot\u001B[49m\u001B[43m,\u001B[49m\n\u001B[0;32m   1166\u001B[0m \u001B[43m    \u001B[49m\u001B[43mreturn_path\u001B[49m\u001B[38;5;241;43m=\u001B[39;49m\u001B[38;5;28;43;01mTrue\u001B[39;49;00m\u001B[43m,\u001B[49m\u001B[43m \u001B[49m\u001B[43mget_loss\u001B[49m\u001B[38;5;241;43m=\u001B[39;49m\u001B[38;5;28;43;01mTrue\u001B[39;49;00m\u001B[43m,\u001B[49m\u001B[43m \u001B[49m\u001B[43muntil_T\u001B[49m\u001B[38;5;241;43m=\u001B[39;49m\u001B[38;5;28;43;01mTrue\u001B[39;49;00m\u001B[43m,\u001B[49m\u001B[43m \u001B[49m\u001B[43mM\u001B[49m\u001B[38;5;241;43m=\u001B[39;49m\u001B[43mM\u001B[49m\u001B[43m,\u001B[49m\n\u001B[0;32m   1167\u001B[0m \u001B[43m    \u001B[49m\u001B[43mstart_M\u001B[49m\u001B[38;5;241;43m=\u001B[39;49m\u001B[43mstart_M\u001B[49m\u001B[43m,\u001B[49m\u001B[43m \u001B[49m\u001B[43mwhich_loss\u001B[49m\u001B[38;5;241;43m=\u001B[39;49m\u001B[43mwhich_loss\u001B[49m\u001B[43m)\u001B[49m\n\u001B[0;32m   1168\u001B[0m \u001B[38;5;28;01mreturn\u001B[39;00m {\u001B[38;5;124m'\u001B[39m\u001B[38;5;124mpred\u001B[39m\u001B[38;5;124m'\u001B[39m: path_y, \u001B[38;5;124m'\u001B[39m\u001B[38;5;124mpred_t\u001B[39m\u001B[38;5;124m'\u001B[39m: path_t, \u001B[38;5;124m'\u001B[39m\u001B[38;5;124mloss\u001B[39m\u001B[38;5;124m'\u001B[39m: loss}\n",
      "File \u001B[1;32m~\\thesis\\NJODE\\models.py:924\u001B[0m, in \u001B[0;36mNJODE.forward\u001B[1;34m(self, times, time_ptr, X, obs_idx, delta_t, T, start_X, n_obs_ot, return_path, get_loss, until_T, M, start_M, which_loss, dim_to, predict_labels, return_classifier_out, return_at_last_obs)\u001B[0m\n\u001B[0;32m    922\u001B[0m     delta_t_ \u001B[38;5;241m=\u001B[39m T \u001B[38;5;241m-\u001B[39m current_time\n\u001B[0;32m    923\u001B[0m \u001B[38;5;28;01mif\u001B[39;00m \u001B[38;5;28mself\u001B[39m\u001B[38;5;241m.\u001B[39msolver \u001B[38;5;241m==\u001B[39m \u001B[38;5;124m'\u001B[39m\u001B[38;5;124meuler\u001B[39m\u001B[38;5;124m'\u001B[39m:\n\u001B[1;32m--> 924\u001B[0m     h, current_time \u001B[38;5;241m=\u001B[39m \u001B[38;5;28;43mself\u001B[39;49m\u001B[38;5;241;43m.\u001B[39;49m\u001B[43mode_step\u001B[49m\u001B[43m(\u001B[49m\n\u001B[0;32m    925\u001B[0m \u001B[43m        \u001B[49m\u001B[43mh\u001B[49m\u001B[43m,\u001B[49m\u001B[43m \u001B[49m\u001B[43mdelta_t_\u001B[49m\u001B[43m,\u001B[49m\u001B[43m \u001B[49m\u001B[43mcurrent_time\u001B[49m\u001B[43m,\u001B[49m\u001B[43m \u001B[49m\u001B[43mlast_X\u001B[49m\u001B[38;5;241;43m=\u001B[39;49m\u001B[43mlast_X\u001B[49m\u001B[43m,\u001B[49m\u001B[43m \u001B[49m\u001B[43mtau\u001B[49m\u001B[38;5;241;43m=\u001B[39;49m\u001B[43mtau\u001B[49m\u001B[43m,\u001B[49m\n\u001B[0;32m    926\u001B[0m \u001B[43m        \u001B[49m\u001B[43msignature\u001B[49m\u001B[38;5;241;43m=\u001B[39;49m\u001B[43mc_sig\u001B[49m\u001B[43m,\u001B[49m\u001B[43m \u001B[49m\u001B[43mcurrent_y\u001B[49m\u001B[38;5;241;43m=\u001B[39;49m\u001B[38;5;28;43mself\u001B[39;49m\u001B[38;5;241;43m.\u001B[39;49m\u001B[43mreadout_map\u001B[49m\u001B[43m(\u001B[49m\u001B[43mh\u001B[49m\u001B[43m)\u001B[49m\u001B[43m)\u001B[49m\n\u001B[0;32m    927\u001B[0m \u001B[38;5;28;01melse\u001B[39;00m:\n\u001B[0;32m    928\u001B[0m     \u001B[38;5;28;01mraise\u001B[39;00m \u001B[38;5;167;01mNotImplementedError\u001B[39;00m\n",
      "File \u001B[1;32m~\\thesis\\NJODE\\models.py:565\u001B[0m, in \u001B[0;36mNJODE.ode_step\u001B[1;34m(self, h, delta_t, current_time, last_X, tau, signature, current_y)\u001B[0m\n\u001B[0;32m    563\u001B[0m     signature \u001B[38;5;241m=\u001B[39m \u001B[38;5;28;01mNone\u001B[39;00m\n\u001B[0;32m    564\u001B[0m \u001B[38;5;28;01mif\u001B[39;00m \u001B[38;5;28mself\u001B[39m\u001B[38;5;241m.\u001B[39msolver \u001B[38;5;241m==\u001B[39m \u001B[38;5;124m\"\u001B[39m\u001B[38;5;124meuler\u001B[39m\u001B[38;5;124m\"\u001B[39m:\n\u001B[1;32m--> 565\u001B[0m     h \u001B[38;5;241m=\u001B[39m h \u001B[38;5;241m+\u001B[39m delta_t \u001B[38;5;241m*\u001B[39m \u001B[38;5;28;43mself\u001B[39;49m\u001B[38;5;241;43m.\u001B[39;49m\u001B[43mode_f\u001B[49m\u001B[43m(\u001B[49m\n\u001B[0;32m    566\u001B[0m \u001B[43m        \u001B[49m\u001B[43mx\u001B[49m\u001B[38;5;241;43m=\u001B[39;49m\u001B[43mlast_X\u001B[49m\u001B[43m,\u001B[49m\u001B[43m \u001B[49m\u001B[43mh\u001B[49m\u001B[38;5;241;43m=\u001B[39;49m\u001B[43mh\u001B[49m\u001B[43m,\u001B[49m\u001B[43m \u001B[49m\u001B[43mtau\u001B[49m\u001B[38;5;241;43m=\u001B[39;49m\u001B[43mtau\u001B[49m\u001B[43m,\u001B[49m\u001B[43m \u001B[49m\u001B[43mtdiff\u001B[49m\u001B[38;5;241;43m=\u001B[39;49m\u001B[43mcurrent_time\u001B[49m\u001B[43m \u001B[49m\u001B[38;5;241;43m-\u001B[39;49m\u001B[43m \u001B[49m\u001B[43mtau\u001B[49m\u001B[43m,\u001B[49m\n\u001B[0;32m    567\u001B[0m \u001B[43m        \u001B[49m\u001B[43msignature\u001B[49m\u001B[38;5;241;43m=\u001B[39;49m\u001B[43msignature\u001B[49m\u001B[43m,\u001B[49m\u001B[43m \u001B[49m\u001B[43mcurrent_y\u001B[49m\u001B[38;5;241;43m=\u001B[39;49m\u001B[43mcurrent_y\u001B[49m\u001B[43m)\u001B[49m\n\u001B[0;32m    568\u001B[0m \u001B[38;5;28;01melse\u001B[39;00m:\n\u001B[0;32m    569\u001B[0m     \u001B[38;5;28;01mraise\u001B[39;00m \u001B[38;5;167;01mValueError\u001B[39;00m(\u001B[38;5;124m\"\u001B[39m\u001B[38;5;124mUnknown solver \u001B[39m\u001B[38;5;124m'\u001B[39m\u001B[38;5;132;01m{}\u001B[39;00m\u001B[38;5;124m'\u001B[39m\u001B[38;5;124m.\u001B[39m\u001B[38;5;124m\"\u001B[39m\u001B[38;5;241m.\u001B[39mformat(\u001B[38;5;28mself\u001B[39m\u001B[38;5;241m.\u001B[39msolver))\n",
      "File \u001B[1;32mC:\\Program Files\\Miniconda3\\envs\\thesis\\lib\\site-packages\\torch\\nn\\modules\\module.py:1739\u001B[0m, in \u001B[0;36mModule._wrapped_call_impl\u001B[1;34m(self, *args, **kwargs)\u001B[0m\n\u001B[0;32m   1737\u001B[0m     \u001B[38;5;28;01mreturn\u001B[39;00m \u001B[38;5;28mself\u001B[39m\u001B[38;5;241m.\u001B[39m_compiled_call_impl(\u001B[38;5;241m*\u001B[39margs, \u001B[38;5;241m*\u001B[39m\u001B[38;5;241m*\u001B[39mkwargs)  \u001B[38;5;66;03m# type: ignore[misc]\u001B[39;00m\n\u001B[0;32m   1738\u001B[0m \u001B[38;5;28;01melse\u001B[39;00m:\n\u001B[1;32m-> 1739\u001B[0m     \u001B[38;5;28;01mreturn\u001B[39;00m \u001B[38;5;28mself\u001B[39m\u001B[38;5;241m.\u001B[39m_call_impl(\u001B[38;5;241m*\u001B[39margs, \u001B[38;5;241m*\u001B[39m\u001B[38;5;241m*\u001B[39mkwargs)\n",
      "File \u001B[1;32mC:\\Program Files\\Miniconda3\\envs\\thesis\\lib\\site-packages\\torch\\nn\\modules\\module.py:1750\u001B[0m, in \u001B[0;36mModule._call_impl\u001B[1;34m(self, *args, **kwargs)\u001B[0m\n\u001B[0;32m   1745\u001B[0m \u001B[38;5;66;03m# If we don't have any hooks, we want to skip the rest of the logic in\u001B[39;00m\n\u001B[0;32m   1746\u001B[0m \u001B[38;5;66;03m# this function, and just call forward.\u001B[39;00m\n\u001B[0;32m   1747\u001B[0m \u001B[38;5;28;01mif\u001B[39;00m \u001B[38;5;129;01mnot\u001B[39;00m (\u001B[38;5;28mself\u001B[39m\u001B[38;5;241m.\u001B[39m_backward_hooks \u001B[38;5;129;01mor\u001B[39;00m \u001B[38;5;28mself\u001B[39m\u001B[38;5;241m.\u001B[39m_backward_pre_hooks \u001B[38;5;129;01mor\u001B[39;00m \u001B[38;5;28mself\u001B[39m\u001B[38;5;241m.\u001B[39m_forward_hooks \u001B[38;5;129;01mor\u001B[39;00m \u001B[38;5;28mself\u001B[39m\u001B[38;5;241m.\u001B[39m_forward_pre_hooks\n\u001B[0;32m   1748\u001B[0m         \u001B[38;5;129;01mor\u001B[39;00m _global_backward_pre_hooks \u001B[38;5;129;01mor\u001B[39;00m _global_backward_hooks\n\u001B[0;32m   1749\u001B[0m         \u001B[38;5;129;01mor\u001B[39;00m _global_forward_hooks \u001B[38;5;129;01mor\u001B[39;00m _global_forward_pre_hooks):\n\u001B[1;32m-> 1750\u001B[0m     \u001B[38;5;28;01mreturn\u001B[39;00m forward_call(\u001B[38;5;241m*\u001B[39margs, \u001B[38;5;241m*\u001B[39m\u001B[38;5;241m*\u001B[39mkwargs)\n\u001B[0;32m   1752\u001B[0m result \u001B[38;5;241m=\u001B[39m \u001B[38;5;28;01mNone\u001B[39;00m\n\u001B[0;32m   1753\u001B[0m called_always_called_hooks \u001B[38;5;241m=\u001B[39m \u001B[38;5;28mset\u001B[39m()\n",
      "File \u001B[1;32m~\\thesis\\NJODE\\models.py:170\u001B[0m, in \u001B[0;36mODEFunc.forward\u001B[1;34m(self, x, h, tau, tdiff, signature, current_y)\u001B[0m\n\u001B[0;32m    167\u001B[0m \u001B[38;5;28;01mif\u001B[39;00m \u001B[38;5;28mself\u001B[39m\u001B[38;5;241m.\u001B[39muse_current_y_for_ode:\n\u001B[0;32m    168\u001B[0m     input_f \u001B[38;5;241m=\u001B[39m torch\u001B[38;5;241m.\u001B[39mcat([input_f, \u001B[38;5;28mself\u001B[39m\u001B[38;5;241m.\u001B[39msc_fun(current_y)], dim\u001B[38;5;241m=\u001B[39m\u001B[38;5;241m1\u001B[39m)\n\u001B[1;32m--> 170\u001B[0m df \u001B[38;5;241m=\u001B[39m \u001B[38;5;28;43mself\u001B[39;49m\u001B[38;5;241;43m.\u001B[39;49m\u001B[43mf\u001B[49m\u001B[43m(\u001B[49m\u001B[43minput_f\u001B[49m\u001B[43m)\u001B[49m\n\u001B[0;32m    171\u001B[0m \u001B[38;5;28;01mreturn\u001B[39;00m df\n",
      "File \u001B[1;32mC:\\Program Files\\Miniconda3\\envs\\thesis\\lib\\site-packages\\torch\\nn\\modules\\module.py:1739\u001B[0m, in \u001B[0;36mModule._wrapped_call_impl\u001B[1;34m(self, *args, **kwargs)\u001B[0m\n\u001B[0;32m   1737\u001B[0m     \u001B[38;5;28;01mreturn\u001B[39;00m \u001B[38;5;28mself\u001B[39m\u001B[38;5;241m.\u001B[39m_compiled_call_impl(\u001B[38;5;241m*\u001B[39margs, \u001B[38;5;241m*\u001B[39m\u001B[38;5;241m*\u001B[39mkwargs)  \u001B[38;5;66;03m# type: ignore[misc]\u001B[39;00m\n\u001B[0;32m   1738\u001B[0m \u001B[38;5;28;01melse\u001B[39;00m:\n\u001B[1;32m-> 1739\u001B[0m     \u001B[38;5;28;01mreturn\u001B[39;00m \u001B[38;5;28mself\u001B[39m\u001B[38;5;241m.\u001B[39m_call_impl(\u001B[38;5;241m*\u001B[39margs, \u001B[38;5;241m*\u001B[39m\u001B[38;5;241m*\u001B[39mkwargs)\n",
      "File \u001B[1;32mC:\\Program Files\\Miniconda3\\envs\\thesis\\lib\\site-packages\\torch\\nn\\modules\\module.py:1750\u001B[0m, in \u001B[0;36mModule._call_impl\u001B[1;34m(self, *args, **kwargs)\u001B[0m\n\u001B[0;32m   1745\u001B[0m \u001B[38;5;66;03m# If we don't have any hooks, we want to skip the rest of the logic in\u001B[39;00m\n\u001B[0;32m   1746\u001B[0m \u001B[38;5;66;03m# this function, and just call forward.\u001B[39;00m\n\u001B[0;32m   1747\u001B[0m \u001B[38;5;28;01mif\u001B[39;00m \u001B[38;5;129;01mnot\u001B[39;00m (\u001B[38;5;28mself\u001B[39m\u001B[38;5;241m.\u001B[39m_backward_hooks \u001B[38;5;129;01mor\u001B[39;00m \u001B[38;5;28mself\u001B[39m\u001B[38;5;241m.\u001B[39m_backward_pre_hooks \u001B[38;5;129;01mor\u001B[39;00m \u001B[38;5;28mself\u001B[39m\u001B[38;5;241m.\u001B[39m_forward_hooks \u001B[38;5;129;01mor\u001B[39;00m \u001B[38;5;28mself\u001B[39m\u001B[38;5;241m.\u001B[39m_forward_pre_hooks\n\u001B[0;32m   1748\u001B[0m         \u001B[38;5;129;01mor\u001B[39;00m _global_backward_pre_hooks \u001B[38;5;129;01mor\u001B[39;00m _global_backward_hooks\n\u001B[0;32m   1749\u001B[0m         \u001B[38;5;129;01mor\u001B[39;00m _global_forward_hooks \u001B[38;5;129;01mor\u001B[39;00m _global_forward_pre_hooks):\n\u001B[1;32m-> 1750\u001B[0m     \u001B[38;5;28;01mreturn\u001B[39;00m forward_call(\u001B[38;5;241m*\u001B[39margs, \u001B[38;5;241m*\u001B[39m\u001B[38;5;241m*\u001B[39mkwargs)\n\u001B[0;32m   1752\u001B[0m result \u001B[38;5;241m=\u001B[39m \u001B[38;5;28;01mNone\u001B[39;00m\n\u001B[0;32m   1753\u001B[0m called_always_called_hooks \u001B[38;5;241m=\u001B[39m \u001B[38;5;28mset\u001B[39m()\n",
      "File \u001B[1;32mC:\\Program Files\\Miniconda3\\envs\\thesis\\lib\\site-packages\\torch\\nn\\modules\\container.py:250\u001B[0m, in \u001B[0;36mSequential.forward\u001B[1;34m(self, input)\u001B[0m\n\u001B[0;32m    248\u001B[0m \u001B[38;5;28;01mdef\u001B[39;00m\u001B[38;5;250m \u001B[39m\u001B[38;5;21mforward\u001B[39m(\u001B[38;5;28mself\u001B[39m, \u001B[38;5;28minput\u001B[39m):\n\u001B[0;32m    249\u001B[0m     \u001B[38;5;28;01mfor\u001B[39;00m module \u001B[38;5;129;01min\u001B[39;00m \u001B[38;5;28mself\u001B[39m:\n\u001B[1;32m--> 250\u001B[0m         \u001B[38;5;28minput\u001B[39m \u001B[38;5;241m=\u001B[39m \u001B[43mmodule\u001B[49m\u001B[43m(\u001B[49m\u001B[38;5;28;43minput\u001B[39;49m\u001B[43m)\u001B[49m\n\u001B[0;32m    251\u001B[0m     \u001B[38;5;28;01mreturn\u001B[39;00m \u001B[38;5;28minput\u001B[39m\n",
      "File \u001B[1;32mC:\\Program Files\\Miniconda3\\envs\\thesis\\lib\\site-packages\\torch\\nn\\modules\\module.py:1739\u001B[0m, in \u001B[0;36mModule._wrapped_call_impl\u001B[1;34m(self, *args, **kwargs)\u001B[0m\n\u001B[0;32m   1737\u001B[0m     \u001B[38;5;28;01mreturn\u001B[39;00m \u001B[38;5;28mself\u001B[39m\u001B[38;5;241m.\u001B[39m_compiled_call_impl(\u001B[38;5;241m*\u001B[39margs, \u001B[38;5;241m*\u001B[39m\u001B[38;5;241m*\u001B[39mkwargs)  \u001B[38;5;66;03m# type: ignore[misc]\u001B[39;00m\n\u001B[0;32m   1738\u001B[0m \u001B[38;5;28;01melse\u001B[39;00m:\n\u001B[1;32m-> 1739\u001B[0m     \u001B[38;5;28;01mreturn\u001B[39;00m \u001B[38;5;28mself\u001B[39m\u001B[38;5;241m.\u001B[39m_call_impl(\u001B[38;5;241m*\u001B[39margs, \u001B[38;5;241m*\u001B[39m\u001B[38;5;241m*\u001B[39mkwargs)\n",
      "File \u001B[1;32mC:\\Program Files\\Miniconda3\\envs\\thesis\\lib\\site-packages\\torch\\nn\\modules\\module.py:1750\u001B[0m, in \u001B[0;36mModule._call_impl\u001B[1;34m(self, *args, **kwargs)\u001B[0m\n\u001B[0;32m   1745\u001B[0m \u001B[38;5;66;03m# If we don't have any hooks, we want to skip the rest of the logic in\u001B[39;00m\n\u001B[0;32m   1746\u001B[0m \u001B[38;5;66;03m# this function, and just call forward.\u001B[39;00m\n\u001B[0;32m   1747\u001B[0m \u001B[38;5;28;01mif\u001B[39;00m \u001B[38;5;129;01mnot\u001B[39;00m (\u001B[38;5;28mself\u001B[39m\u001B[38;5;241m.\u001B[39m_backward_hooks \u001B[38;5;129;01mor\u001B[39;00m \u001B[38;5;28mself\u001B[39m\u001B[38;5;241m.\u001B[39m_backward_pre_hooks \u001B[38;5;129;01mor\u001B[39;00m \u001B[38;5;28mself\u001B[39m\u001B[38;5;241m.\u001B[39m_forward_hooks \u001B[38;5;129;01mor\u001B[39;00m \u001B[38;5;28mself\u001B[39m\u001B[38;5;241m.\u001B[39m_forward_pre_hooks\n\u001B[0;32m   1748\u001B[0m         \u001B[38;5;129;01mor\u001B[39;00m _global_backward_pre_hooks \u001B[38;5;129;01mor\u001B[39;00m _global_backward_hooks\n\u001B[0;32m   1749\u001B[0m         \u001B[38;5;129;01mor\u001B[39;00m _global_forward_hooks \u001B[38;5;129;01mor\u001B[39;00m _global_forward_pre_hooks):\n\u001B[1;32m-> 1750\u001B[0m     \u001B[38;5;28;01mreturn\u001B[39;00m forward_call(\u001B[38;5;241m*\u001B[39margs, \u001B[38;5;241m*\u001B[39m\u001B[38;5;241m*\u001B[39mkwargs)\n\u001B[0;32m   1752\u001B[0m result \u001B[38;5;241m=\u001B[39m \u001B[38;5;28;01mNone\u001B[39;00m\n\u001B[0;32m   1753\u001B[0m called_always_called_hooks \u001B[38;5;241m=\u001B[39m \u001B[38;5;28mset\u001B[39m()\n",
      "File \u001B[1;32mC:\\Program Files\\Miniconda3\\envs\\thesis\\lib\\site-packages\\torch\\nn\\modules\\linear.py:125\u001B[0m, in \u001B[0;36mLinear.forward\u001B[1;34m(self, input)\u001B[0m\n\u001B[0;32m    124\u001B[0m \u001B[38;5;28;01mdef\u001B[39;00m\u001B[38;5;250m \u001B[39m\u001B[38;5;21mforward\u001B[39m(\u001B[38;5;28mself\u001B[39m, \u001B[38;5;28minput\u001B[39m: Tensor) \u001B[38;5;241m-\u001B[39m\u001B[38;5;241m>\u001B[39m Tensor:\n\u001B[1;32m--> 125\u001B[0m     \u001B[38;5;28;01mreturn\u001B[39;00m \u001B[43mF\u001B[49m\u001B[38;5;241;43m.\u001B[39;49m\u001B[43mlinear\u001B[49m\u001B[43m(\u001B[49m\u001B[38;5;28;43minput\u001B[39;49m\u001B[43m,\u001B[49m\u001B[43m \u001B[49m\u001B[38;5;28;43mself\u001B[39;49m\u001B[38;5;241;43m.\u001B[39;49m\u001B[43mweight\u001B[49m\u001B[43m,\u001B[49m\u001B[43m \u001B[49m\u001B[38;5;28;43mself\u001B[39;49m\u001B[38;5;241;43m.\u001B[39;49m\u001B[43mbias\u001B[49m\u001B[43m)\u001B[49m\n",
      "\u001B[1;31mRuntimeError\u001B[0m: mat1 and mat2 shapes cannot be multiplied (1000x21 and 15x50)"
     ]
    }
   ],
   "source": [
    "batch_size=1000\n",
    "dim=3\n",
    "times=np.array([])\n",
    "time_ptr = np.array([0])\n",
    "obs_idx = torch.tensor([],dtype=torch.long)\n",
    "start_Z = torch.tensor(np.zeros((1,)), dtype=torch.float).unsqueeze(0)\n",
    "start_Z = start_Z.repeat(batch_size, dim)\n",
    "Z = torch.tensor([], dtype=torch.float)\n",
    "delta_t=0.01\n",
    "X= torch.tensor([], dtype=torch.float)\n",
    "start_X = torch.tensor([1, 1.5, 2.0], dtype=torch.float).unsqueeze(0)\n",
    "start_X = start_X.repeat(batch_size, dim)\n",
    "n_obs_ot=torch.tensor([0]*batch_size, dtype=torch.float)\n",
    "\n",
    "for i in range(1, 101):\n",
    "    T=delta_t*i\n",
    "    if i==100:\n",
    "        print(i)\n",
    "    mu_pred=model_mu.get_pred(times, time_ptr, X, obs_idx, delta_t, T, start_X, n_obs_ot)[\"pred\"][-1].detach()\n",
    "\n",
    "    if i==1:\n",
    "        X_t=start_X\n",
    "    elif i==2:\n",
    "        X_t = X[batch_size*(i-2):batch_size*(i-1), :]\n",
    "        X_t_minus = start_X\n",
    "        # Compute the difference\n",
    "        diff = X_t - X_t_minus\n",
    "\n",
    "        # Compute the outer product for each element in the batch\n",
    "        # diff.unsqueeze(2) has shape (batch_size, dim, 1)\n",
    "        # diff.unsqueeze(1) has shape (batch_size, 1, dim)\n",
    "        Z_tensor = diff.unsqueeze(2) @ diff.unsqueeze(1)\n",
    "        Z=torch.cat((Z,Z_tensor.view(batch_size,-1))).detach()\n",
    "\n",
    "    else:\n",
    "        X_t = X[batch_size*(i-2):batch_size*(i-1), :]\n",
    "        X_t_minus = X[batch_size*(i-3):batch_size*(i-2), :]\n",
    "        # Compute the difference\n",
    "        diff = X_t - X_t_minus\n",
    "\n",
    "        # Compute the outer product for each element in the batch\n",
    "        # diff.unsqueeze(2) has shape (batch_size, dim, 1)\n",
    "        # diff.unsqueeze(1) has shape (batch_size, 1, dim)\n",
    "        Z_tensor = diff.unsqueeze(2) @ diff.unsqueeze(1)\n",
    "        Z=torch.cat((Z,Z_tensor.view(batch_size,-1))).detach()\n",
    "\n",
    "\n",
    "\n",
    "    sigma_pred=model_vol.get_pred(times, time_ptr, Z, obs_idx, delta_t, T, start_Z, n_obs_ot )[\"pred\"][-1].detach()\n",
    "    mu_hat_t = (mu_pred - X_t)/delta_t\n",
    "    sigma_hat_t = sigma_pred.view(batch_size, dim, dim)/np.sqrt(delta_t)\n",
    "\n",
    "\n",
    "    X_next = generate_next_value(X_t, mu_hat_t, sigma_hat_t, delta_t).detach()\n",
    "\n",
    "    X= torch.cat((X, X_next), dim=0)\n",
    "    times=np.append(times, delta_t*i)\n",
    "    time_ptr = np.append(time_ptr, i*batch_size)\n",
    "    obs_idx=torch.cat((obs_idx, torch.arange(batch_size)))\n",
    "    n_obs_ot+=torch.tensor([1]*batch_size, dtype=torch.float)\n",
    "\n",
    "X_new=X.view(100, batch_size, dim).permute(1, 2, 0).detach()\n",
    "start_X_expanded=start_X.unsqueeze(0).permute(1,0,2)\n",
    "X_final=torch.cat((start_X_expanded,X_new),dim=2)"
   ],
   "metadata": {
    "collapsed": false,
    "ExecuteTime": {
     "end_time": "2025-07-24T19:27:27.240680900Z",
     "start_time": "2025-07-24T19:27:26.180159200Z"
    }
   },
   "id": "2aa751844af05e85"
  },
  {
   "cell_type": "code",
   "execution_count": 17,
   "outputs": [],
   "source": [
    "paths = []\n",
    "for j in range(10):\n",
    "    times=np.array([])\n",
    "    time_ptr = np.array([0])\n",
    "    obs_idx = torch.tensor([],dtype=torch.long)\n",
    "    start_Z = torch.tensor(np.zeros((9,)), dtype=torch.float).unsqueeze(0)\n",
    "    Z = torch.tensor([], dtype=torch.float)\n",
    "    delta_t=0.01\n",
    "    X= torch.tensor([], dtype=torch.float)\n",
    "    start_X = torch.tensor([1, 1.5, 2.0], dtype=torch.float).unsqueeze(0)\n",
    "    n_obs_ot=torch.tensor([0], dtype=torch.float)\n",
    "    \n",
    "    for i in range(1, 101):\n",
    "    \n",
    "        T=delta_t*i\n",
    "        mu_pred=model_mu.get_pred(times, time_ptr, X, obs_idx, delta_t, T, start_X, n_obs_ot)[\"pred\"][-1]\n",
    "        \n",
    "    \n",
    "        #print(start_X, X, model_mu.get_pred(times, time_ptr, X, obs_idx, delta_t, T, start_X, n_obs_ot))\n",
    "    \n",
    "    \n",
    "        if i==1:\n",
    "            X_t=start_X\n",
    "        elif i==2:\n",
    "            X_t = X[i-2,:].unsqueeze(0)\n",
    "            X_t_minus = start_X\n",
    "            Z_tensor = (X_t - X_t_minus).T@(X_t-X_t_minus)\n",
    "            Z=torch.cat((Z,Z_tensor.view(1,-1)))\n",
    "        else:\n",
    "            X_t = X[i-2,:].unsqueeze(0)\n",
    "            X_t_minus = X[i-3, :].unsqueeze(0)\n",
    "            Z_tensor = (X_t - X_t_minus).T@(X_t-X_t_minus)\n",
    "            Z=torch.cat((Z,Z_tensor.view(1,-1)))\n",
    "    \n",
    "        \"\"\"\n",
    "        X_t = X[i-1,:].unsqueeze(0)\n",
    "        if i>1:\n",
    "            X_t_minus = X[i-2, :].unsqueeze(0)\n",
    "            Z_tensor = (X_t - X_t_minus).T@(X_t-X_t_minus)\n",
    "            Z=torch.cat((Z,Z_tensor.view(1,-1))) \n",
    "        \"\"\"\n",
    "    \n",
    "        #print(Z)\n",
    "\n",
    "    \n",
    "    \n",
    "        sigma_pred=model_vol.get_pred(times, time_ptr, Z, obs_idx, delta_t, T, start_Z, n_obs_ot )[\"pred\"][-1]\n",
    "     \n",
    "        #print(model_vol.get_pred(times, time_ptr, Z, obs_idx, delta_t, T, start_Z, n_obs_ot ))\n",
    "        mu_hat_t = (mu_pred - X_t)/delta_t\n",
    "        sigma_hat_t = sigma_pred.view(3,3)/np.sqrt(delta_t)\n",
    "        \n",
    "        X_next = generate_next_value(X_t, mu_hat_t, sigma_hat_t, delta_t)\n",
    "        #print(X_next, X_t, mu_hat_t*delta_t,  torch.randn_like(X_t)@sigma_pred.view(3,3))\n",
    "        \n",
    "        #X= torch.cat((X, torch.tensor(mu_data[0,:,i], dtype=torch.float).unsqueeze(0)))\n",
    "        X= torch.cat((X, X_next))\n",
    "        times=np.append(times, delta_t*i)\n",
    "        time_ptr = np.append(time_ptr, i)\n",
    "        obs_idx=torch.cat((obs_idx, torch.tensor([0], dtype=torch.long)))\n",
    "        n_obs_ot+=1\n",
    "    X_new = torch.cat((torch.tensor([1.0, 1.5, 2.0]).unsqueeze(0), X), dim=0)    \n",
    "    paths.append(X_new)\n",
    "generated_paths=torch.stack(paths)"
   ],
   "metadata": {
    "collapsed": false,
    "ExecuteTime": {
     "end_time": "2025-07-24T19:33:19.787796200Z",
     "start_time": "2025-07-24T19:31:11.540677900Z"
    }
   },
   "id": "4d1d961dd56f4367"
  },
  {
   "cell_type": "code",
   "execution_count": 18,
   "outputs": [],
   "source": [
    "mu_data=np.load(\"../data/training_data/OrnsteinUhlenbeckMultiDimensional-96/data.npy\")"
   ],
   "metadata": {
    "collapsed": false,
    "ExecuteTime": {
     "end_time": "2025-07-24T19:33:19.865528Z",
     "start_time": "2025-07-24T19:33:19.796325300Z"
    }
   },
   "id": "5b9f5b949e630bc9"
  },
  {
   "cell_type": "code",
   "execution_count": 19,
   "outputs": [
    {
     "data": {
      "text/plain": "torch.Size([10, 101, 3])"
     },
     "execution_count": 19,
     "metadata": {},
     "output_type": "execute_result"
    }
   ],
   "source": [
    "generated_paths.shape"
   ],
   "metadata": {
    "collapsed": false,
    "ExecuteTime": {
     "end_time": "2025-07-24T19:38:12.135658500Z",
     "start_time": "2025-07-24T19:38:12.074020900Z"
    }
   },
   "id": "dc1163962d814ac5"
  },
  {
   "cell_type": "code",
   "execution_count": 21,
   "outputs": [
    {
     "data": {
      "text/plain": "(10000, 3, 101)"
     },
     "execution_count": 21,
     "metadata": {},
     "output_type": "execute_result"
    }
   ],
   "source": [
    "mu_data.shape"
   ],
   "metadata": {
    "collapsed": false,
    "ExecuteTime": {
     "end_time": "2025-07-24T19:39:07.047782400Z",
     "start_time": "2025-07-24T19:39:06.978090300Z"
    }
   },
   "id": "3c961e55859e7ab3"
  },
  {
   "cell_type": "code",
   "execution_count": 23,
   "outputs": [
    {
     "data": {
      "text/plain": "<Figure size 1000x1800 with 3 Axes>",
      "image/png": "[encoded data removed]"
     },
     "metadata": {},
     "output_type": "display_data"
    }
   ],
   "source": [
    "# Plotting each dimension separately\n",
    "fig, axs = plt.subplots(3, 1, figsize=(10, 18))\n",
    "\n",
    "for i in range(3):\n",
    "    real_path = mu_data[:, i, :].T\n",
    "    generated_path = generated_paths[:,:, i].T\n",
    "\n",
    "    for j in range(1):\n",
    "        axs[i].plot(real_path[:, j], label=f'real_path{j}', linestyle=\"--\")\n",
    "        axs[i].plot(generated_path[:,j].detach().numpy(), label=f'generated_path{j}')\n",
    "    #axs[i].plot(generated_path.detach().numpy(), label=f'generated_path{j}')\n",
    "    axs[i].legend()\n",
    "    axs[i].set_title(f'Dimension {i + 1}')\n",
    "\n",
    "plt.tight_layout()\n",
    "plt.show()"
   ],
   "metadata": {
    "collapsed": false,
    "ExecuteTime": {
     "end_time": "2025-07-24T19:39:49.013211900Z",
     "start_time": "2025-07-24T19:39:48.380240Z"
    }
   },
   "id": "2bf1bbbfe84aa58e"
  },
  {
   "cell_type": "code",
   "execution_count": 24,
   "outputs": [],
   "source": [
    "from scipy.linalg import logm\n",
    "def estimate_ou_params(paths: np.ndarray, dt: float = 0.01):\n",
    "    \"\"\"\n",
    "    ----------\n",
    "    paths : ndarray, shape (n_paths, d, n_steps + 1)\n",
    "        Simulated OU trajectories.\n",
    "    dt    : float\n",
    "        Sampling interval of the data.\n",
    "\n",
    "    Returns\n",
    "    -------\n",
    "    k : (d, d) ndarray  \n",
    "    mu    : (d,)  ndarray   \n",
    "    Q     : (d, d) ndarray  \n",
    "    \"\"\"\n",
    "    n_paths, d, n_steps_plus1 = paths.shape\n",
    "    n_steps = n_steps_plus1 - 1\n",
    "\n",
    "    X0 = paths[:, :, :-1].transpose(0, 2, 1)          \n",
    "    X1 = paths[:, :,  1:].transpose(0, 2, 1)\n",
    "\n",
    "    X0 = X0.reshape(-1, d)\n",
    "    X1 = X1.reshape(-1, d)\n",
    "    Z    = np.hstack((np.ones((X0.shape[0], 1)), X0))\n",
    "    beta = np.linalg.lstsq(Z, X1, rcond=None)[0]     \n",
    "    A    = beta[0]                                    \n",
    "    Phi  = beta[1:].T                                 \n",
    "\n",
    "\n",
    "    k = -logm(Phi) / dt                          \n",
    "    mu    = np.linalg.solve(np.eye(d) - Phi, A)\n",
    "\n",
    "\n",
    "    resid   = X1 - (A + X0 @ Phi.T)\n",
    "    Sigma_e = (resid.T @ resid) / resid.shape[0]      \n",
    "    Q       = Sigma_e / dt                            \n",
    "\n",
    "    return k, mu, Q\n"
   ],
   "metadata": {
    "collapsed": false,
    "ExecuteTime": {
     "end_time": "2025-07-24T19:40:11.868432100Z",
     "start_time": "2025-07-24T19:40:11.828567100Z"
    }
   },
   "id": "5e0bcdc8ec6b1ab1"
  },
  {
   "cell_type": "code",
   "execution_count": 25,
   "outputs": [],
   "source": [
    "speed_1, mean_1, volatility_1 = estimate_ou_params(mu_data,0.01)\n",
    "speed_2, mean_2, volatility_2 = estimate_ou_params(generated_paths.detach().numpy().transpose(0,2,1),0.01)"
   ],
   "metadata": {
    "collapsed": false,
    "ExecuteTime": {
     "end_time": "2025-07-24T19:40:13.081299900Z",
     "start_time": "2025-07-24T19:40:12.757121600Z"
    }
   },
   "id": "a96b3fcf669cc2ac"
  },
  {
   "cell_type": "code",
   "execution_count": 26,
   "outputs": [
    {
     "name": "stdout",
     "output_type": "stream",
     "text": [
      "Real data parameters: \n",
      "speed: \n",
      " [[ 0.33082218 -0.00176172 -0.0008634 ]\n",
      " [ 0.02381161  0.30198362  0.004876  ]\n",
      " [ 0.04782316  0.01568744  0.27252782]]\n",
      "mean: \n",
      " [1.18266072 1.0063067  1.45562998]\n",
      "volatility: \n",
      " [[0.06003105 0.05506514 0.05999066]\n",
      " [0.05506514 0.08252345 0.06499935]\n",
      " [0.05999066 0.06499935 0.1099162 ]]\n"
     ]
    }
   ],
   "source": [
    "print(\"Real data parameters: \") \n",
    "\n",
    "print (f\"speed: \\n {speed_1}\")\n",
    "print(f\"mean: \\n {mean_1}\")\n",
    "print(f\"volatility: \\n {volatility_1}\")"
   ],
   "metadata": {
    "collapsed": false,
    "ExecuteTime": {
     "end_time": "2025-07-24T19:40:14.571865600Z",
     "start_time": "2025-07-24T19:40:14.541567100Z"
    }
   },
   "id": "b03fc9494a9c9f52"
  },
  {
   "cell_type": "code",
   "execution_count": 27,
   "outputs": [
    {
     "name": "stdout",
     "output_type": "stream",
     "text": [
      "Fake data parameters: \n",
      "speed: \n",
      " [[ 1.00069212 -1.33535429  0.79893904]\n",
      " [ 0.92102711 -1.51010369  1.39084297]\n",
      " [ 1.58768737 -1.82199738  1.07147487]]\n",
      "mean: \n",
      " [0.05432937 0.18586302 1.20503704]\n",
      "volatility: \n",
      " [[0.06514838 0.05964212 0.06472842]\n",
      " [0.05964212 0.08379256 0.06749184]\n",
      " [0.06472842 0.06749184 0.11385831]]\n"
     ]
    }
   ],
   "source": [
    "print(\"Fake data parameters: \")\n",
    "\n",
    "print (f\"speed: \\n {speed_2}\")\n",
    "print(f\"mean: \\n {mean_2}\")\n",
    "print(f\"volatility: \\n {volatility_2}\")"
   ],
   "metadata": {
    "collapsed": false,
    "ExecuteTime": {
     "end_time": "2025-07-24T19:40:17.912895600Z",
     "start_time": "2025-07-24T19:40:17.745758200Z"
    }
   },
   "id": "db8222d953b24994"
  },
  {
   "cell_type": "code",
   "execution_count": null,
   "outputs": [],
   "source": [],
   "metadata": {
    "collapsed": false
   },
   "id": "4c6e6f0f31aa1efb"
  }
 ],
 "metadata": {
  "kernelspec": {
   "display_name": "Python 3",
   "language": "python",
   "name": "python3"
  },
  "language_info": {
   "codemirror_mode": {
    "name": "ipython",
    "version": 2
   },
   "file_extension": ".py",
   "mimetype": "text/x-python",
   "name": "python",
   "nbconvert_exporter": "python",
   "pygments_lexer": "ipython2",
   "version": "2.7.6"
  }
 },
 "nbformat": 4,
 "nbformat_minor": 5
}

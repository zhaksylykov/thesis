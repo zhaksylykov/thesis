{
 "cells": [
  {
   "cell_type": "code",
   "execution_count": 1,
   "outputs": [],
   "source": [
    "import torch\n",
    "import torch.nn as nn\n",
    "from torch.utils.data import Dataset, DataLoader\n",
    "import numpy as np\n",
    "import matplotlib.pyplot as plt"
   ],
   "metadata": {
    "collapsed": false,
    "ExecuteTime": {
     "end_time": "2025-06-13T13:35:18.051702600Z",
     "start_time": "2025-06-13T13:35:10.902230200Z"
    }
   },
   "id": "initial_id"
  },
  {
   "cell_type": "code",
   "execution_count": 2,
   "outputs": [
    {
     "name": "stdout",
     "output_type": "stream",
     "text": [
      "param_dict: {'epochs': [200], 'batch_size': [200], 'save_every': [5], 'learning_rate': [0.001], 'test_size': [0.2], 'seed': [398], 'hidden_size': [10], 'bias': [True], 'dropout_rate': [0.1], 'ode_nn': [((50, 'tanh'), (50, 'tanh'))], 'readout_nn': [((50, 'tanh'), (50, 'tanh'))], 'enc_nn': [((50, 'tanh'), (50, 'tanh'))], 'use_rnn': [False], 'func_appl_X': [[]], 'solver': ['euler'], 'weight': [0.5], 'weight_decay': [1.0], 'dataset': ['BlackScholes', 'Heston', 'OrnsteinUhlenbeck'], 'dataset_id': [None], 'plot': [True], 'evaluate': [True], 'paths_to_plot': [(0, 1, 2, 3, 4)]}\n",
      "param_dict: {'epochs': [100], 'batch_size': [20], 'save_every': [10], 'learning_rate': [0.001], 'test_size': [0.2], 'training_size': [200, 400, 800, 1600, 3200, 6400, 12800], 'seed': [398], 'hidden_size': [10], 'bias': [True], 'dropout_rate': [0.1], 'ode_nn': [((10, 'tanh'), (10, 'tanh'))], 'readout_nn': [((10, 'tanh'), (10, 'tanh'))], 'enc_nn': [((10, 'tanh'), (10, 'tanh'))], 'use_rnn': [False], 'func_appl_X': [[]], 'solver': ['euler'], 'weight': [0.5], 'weight_decay': [1.0], 'dataset': ['Heston'], 'dataset_id': [None], 'plot': [True], 'paths_to_plot': [(0,)], 'saved_models_path': ['../data/conv-study-Heston-saved_models/'], 'evaluate': [True]}\n",
      "param_dict: {'epochs': [100], 'batch_size': [20], 'save_every': [10], 'learning_rate': [0.001], 'test_size': [0.2], 'training_size': [200, 400, 800, 1600, 3200, 6400, 12800], 'seed': [398], 'hidden_size': [10], 'bias': [True], 'dropout_rate': [0.1], 'ode_nn': [((20, 'tanh'), (20, 'tanh'))], 'readout_nn': [((20, 'tanh'), (20, 'tanh'))], 'enc_nn': [((20, 'tanh'), (20, 'tanh'))], 'use_rnn': [False], 'func_appl_X': [[]], 'solver': ['euler'], 'weight': [0.5], 'weight_decay': [1.0], 'dataset': ['Heston'], 'dataset_id': [None], 'plot': [True], 'paths_to_plot': [(0,)], 'saved_models_path': ['../data/conv-study-Heston-saved_models/'], 'evaluate': [True]}\n",
      "param_dict: {'epochs': [100], 'batch_size': [20], 'save_every': [10], 'learning_rate': [0.001], 'test_size': [0.2], 'training_size': [200, 400, 800, 1600, 3200, 6400, 12800], 'seed': [398], 'hidden_size': [10], 'bias': [True], 'dropout_rate': [0.1], 'ode_nn': [((40, 'tanh'), (40, 'tanh'))], 'readout_nn': [((40, 'tanh'), (40, 'tanh'))], 'enc_nn': [((40, 'tanh'), (40, 'tanh'))], 'use_rnn': [False], 'func_appl_X': [[]], 'solver': ['euler'], 'weight': [0.5], 'weight_decay': [1.0], 'dataset': ['Heston'], 'dataset_id': [None], 'plot': [True], 'paths_to_plot': [(0,)], 'saved_models_path': ['../data/conv-study-Heston-saved_models/'], 'evaluate': [True]}\n",
      "param_dict: {'epochs': [100], 'batch_size': [20], 'save_every': [10], 'learning_rate': [0.001], 'test_size': [0.2], 'training_size': [200, 400, 800, 1600, 3200, 6400, 12800], 'seed': [398], 'hidden_size': [10], 'bias': [True], 'dropout_rate': [0.1], 'ode_nn': [((80, 'tanh'), (80, 'tanh'))], 'readout_nn': [((80, 'tanh'), (80, 'tanh'))], 'enc_nn': [((80, 'tanh'), (80, 'tanh'))], 'use_rnn': [False], 'func_appl_X': [[]], 'solver': ['euler'], 'weight': [0.5], 'weight_decay': [1.0], 'dataset': ['Heston'], 'dataset_id': [None], 'plot': [True], 'paths_to_plot': [(0,)], 'saved_models_path': ['../data/conv-study-Heston-saved_models/'], 'evaluate': [True]}\n",
      "param_dict: {'epochs': [100], 'batch_size': [20], 'save_every': [10], 'learning_rate': [0.001], 'test_size': [0.2], 'training_size': [200, 400, 800, 1600, 3200, 6400, 12800], 'seed': [398], 'hidden_size': [10], 'bias': [True], 'dropout_rate': [0.1], 'ode_nn': [((160, 'tanh'), (160, 'tanh'))], 'readout_nn': [((160, 'tanh'), (160, 'tanh'))], 'enc_nn': [((160, 'tanh'), (160, 'tanh'))], 'use_rnn': [False], 'func_appl_X': [[]], 'solver': ['euler'], 'weight': [0.5], 'weight_decay': [1.0], 'dataset': ['Heston'], 'dataset_id': [None], 'plot': [True], 'paths_to_plot': [(0,)], 'saved_models_path': ['../data/conv-study-Heston-saved_models/'], 'evaluate': [True]}\n",
      "param_dict: {'epochs': [100], 'batch_size': [20], 'save_every': [10], 'learning_rate': [0.001], 'test_size': [0.2], 'training_size': [200, 400, 800, 1600, 3200, 6400, 12800], 'seed': [398], 'hidden_size': [10], 'bias': [True], 'dropout_rate': [0.1], 'ode_nn': [((320, 'tanh'), (320, 'tanh'))], 'readout_nn': [((320, 'tanh'), (320, 'tanh'))], 'enc_nn': [((320, 'tanh'), (320, 'tanh'))], 'use_rnn': [False], 'func_appl_X': [[]], 'solver': ['euler'], 'weight': [0.5], 'weight_decay': [1.0], 'dataset': ['Heston'], 'dataset_id': [None], 'plot': [True], 'paths_to_plot': [(0,)], 'saved_models_path': ['../data/conv-study-Heston-saved_models/'], 'evaluate': [True]}\n",
      "param_dict: {'epochs': [100], 'batch_size': [20], 'save_every': [10], 'learning_rate': [0.001], 'test_size': [0.2], 'training_size': [200, 400, 800, 1600, 3200, 6400, 12800], 'seed': [398], 'hidden_size': [10], 'bias': [True], 'dropout_rate': [0.1], 'ode_nn': [((10, 'tanh'), (10, 'tanh'))], 'readout_nn': [((10, 'tanh'), (10, 'tanh'))], 'enc_nn': [((10, 'tanh'), (10, 'tanh'))], 'use_rnn': [False], 'func_appl_X': [[]], 'solver': ['euler'], 'weight': [0.5], 'weight_decay': [1.0], 'dataset': ['BlackScholes'], 'dataset_id': [None], 'plot': [True], 'paths_to_plot': [(0,)], 'saved_models_path': ['../data/conv-study-BS-saved_models/'], 'evaluate': [True]}\n",
      "param_dict: {'epochs': [100], 'batch_size': [20], 'save_every': [10], 'learning_rate': [0.001], 'test_size': [0.2], 'training_size': [200, 400, 800, 1600, 3200, 6400, 12800], 'seed': [398], 'hidden_size': [10], 'bias': [True], 'dropout_rate': [0.1], 'ode_nn': [((20, 'tanh'), (20, 'tanh'))], 'readout_nn': [((20, 'tanh'), (20, 'tanh'))], 'enc_nn': [((20, 'tanh'), (20, 'tanh'))], 'use_rnn': [False], 'func_appl_X': [[]], 'solver': ['euler'], 'weight': [0.5], 'weight_decay': [1.0], 'dataset': ['BlackScholes'], 'dataset_id': [None], 'plot': [True], 'paths_to_plot': [(0,)], 'saved_models_path': ['../data/conv-study-BS-saved_models/'], 'evaluate': [True]}\n",
      "param_dict: {'epochs': [100], 'batch_size': [20], 'save_every': [10], 'learning_rate': [0.001], 'test_size': [0.2], 'training_size': [200, 400, 800, 1600, 3200, 6400, 12800], 'seed': [398], 'hidden_size': [10], 'bias': [True], 'dropout_rate': [0.1], 'ode_nn': [((40, 'tanh'), (40, 'tanh'))], 'readout_nn': [((40, 'tanh'), (40, 'tanh'))], 'enc_nn': [((40, 'tanh'), (40, 'tanh'))], 'use_rnn': [False], 'func_appl_X': [[]], 'solver': ['euler'], 'weight': [0.5], 'weight_decay': [1.0], 'dataset': ['BlackScholes'], 'dataset_id': [None], 'plot': [True], 'paths_to_plot': [(0,)], 'saved_models_path': ['../data/conv-study-BS-saved_models/'], 'evaluate': [True]}\n",
      "param_dict: {'epochs': [100], 'batch_size': [20], 'save_every': [10], 'learning_rate': [0.001], 'test_size': [0.2], 'training_size': [200, 400, 800, 1600, 3200, 6400, 12800], 'seed': [398], 'hidden_size': [10], 'bias': [True], 'dropout_rate': [0.1], 'ode_nn': [((80, 'tanh'), (80, 'tanh'))], 'readout_nn': [((80, 'tanh'), (80, 'tanh'))], 'enc_nn': [((80, 'tanh'), (80, 'tanh'))], 'use_rnn': [False], 'func_appl_X': [[]], 'solver': ['euler'], 'weight': [0.5], 'weight_decay': [1.0], 'dataset': ['BlackScholes'], 'dataset_id': [None], 'plot': [True], 'paths_to_plot': [(0,)], 'saved_models_path': ['../data/conv-study-BS-saved_models/'], 'evaluate': [True]}\n",
      "param_dict: {'epochs': [100], 'batch_size': [20], 'save_every': [10], 'learning_rate': [0.001], 'test_size': [0.2], 'training_size': [200, 400, 800, 1600, 3200, 6400, 12800], 'seed': [398], 'hidden_size': [10], 'bias': [True], 'dropout_rate': [0.1], 'ode_nn': [((160, 'tanh'), (160, 'tanh'))], 'readout_nn': [((160, 'tanh'), (160, 'tanh'))], 'enc_nn': [((160, 'tanh'), (160, 'tanh'))], 'use_rnn': [False], 'func_appl_X': [[]], 'solver': ['euler'], 'weight': [0.5], 'weight_decay': [1.0], 'dataset': ['BlackScholes'], 'dataset_id': [None], 'plot': [True], 'paths_to_plot': [(0,)], 'saved_models_path': ['../data/conv-study-BS-saved_models/'], 'evaluate': [True]}\n",
      "param_dict: {'epochs': [100], 'batch_size': [20], 'save_every': [10], 'learning_rate': [0.001], 'test_size': [0.2], 'training_size': [200, 400, 800, 1600, 3200, 6400, 12800], 'seed': [398], 'hidden_size': [10], 'bias': [True], 'dropout_rate': [0.1], 'ode_nn': [((320, 'tanh'), (320, 'tanh'))], 'readout_nn': [((320, 'tanh'), (320, 'tanh'))], 'enc_nn': [((320, 'tanh'), (320, 'tanh'))], 'use_rnn': [False], 'func_appl_X': [[]], 'solver': ['euler'], 'weight': [0.5], 'weight_decay': [1.0], 'dataset': ['BlackScholes'], 'dataset_id': [None], 'plot': [True], 'paths_to_plot': [(0,)], 'saved_models_path': ['../data/conv-study-BS-saved_models/'], 'evaluate': [True]}\n",
      "param_dict: {'epochs': [100], 'batch_size': [20], 'save_every': [10], 'learning_rate': [0.001], 'test_size': [0.2], 'training_size': [200, 400, 800, 1600, 3200, 6400, 12800], 'seed': [398], 'hidden_size': [10], 'bias': [True], 'dropout_rate': [0.1], 'ode_nn': [((10, 'tanh'), (10, 'tanh'))], 'readout_nn': [((10, 'tanh'), (10, 'tanh'))], 'enc_nn': [((10, 'tanh'), (10, 'tanh'))], 'use_rnn': [False], 'func_appl_X': [[]], 'solver': ['euler'], 'weight': [0.5], 'weight_decay': [1.0], 'dataset': ['OrnsteinUhlenbeck'], 'dataset_id': [None], 'plot': [True], 'paths_to_plot': [(0,)], 'saved_models_path': ['../data/conv-study-OU-saved_models/'], 'evaluate': [True]}\n",
      "param_dict: {'epochs': [100], 'batch_size': [20], 'save_every': [10], 'learning_rate': [0.001], 'test_size': [0.2], 'training_size': [200, 400, 800, 1600, 3200, 6400, 12800], 'seed': [398], 'hidden_size': [10], 'bias': [True], 'dropout_rate': [0.1], 'ode_nn': [((20, 'tanh'), (20, 'tanh'))], 'readout_nn': [((20, 'tanh'), (20, 'tanh'))], 'enc_nn': [((20, 'tanh'), (20, 'tanh'))], 'use_rnn': [False], 'func_appl_X': [[]], 'solver': ['euler'], 'weight': [0.5], 'weight_decay': [1.0], 'dataset': ['OrnsteinUhlenbeck'], 'dataset_id': [None], 'plot': [True], 'paths_to_plot': [(0,)], 'saved_models_path': ['../data/conv-study-OU-saved_models/'], 'evaluate': [True]}\n",
      "param_dict: {'epochs': [100], 'batch_size': [20], 'save_every': [10], 'learning_rate': [0.001], 'test_size': [0.2], 'training_size': [200, 400, 800, 1600, 3200, 6400, 12800], 'seed': [398], 'hidden_size': [10], 'bias': [True], 'dropout_rate': [0.1], 'ode_nn': [((40, 'tanh'), (40, 'tanh'))], 'readout_nn': [((40, 'tanh'), (40, 'tanh'))], 'enc_nn': [((40, 'tanh'), (40, 'tanh'))], 'use_rnn': [False], 'func_appl_X': [[]], 'solver': ['euler'], 'weight': [0.5], 'weight_decay': [1.0], 'dataset': ['OrnsteinUhlenbeck'], 'dataset_id': [None], 'plot': [True], 'paths_to_plot': [(0,)], 'saved_models_path': ['../data/conv-study-OU-saved_models/'], 'evaluate': [True]}\n",
      "param_dict: {'epochs': [100], 'batch_size': [20], 'save_every': [10], 'learning_rate': [0.001], 'test_size': [0.2], 'training_size': [200, 400, 800, 1600, 3200, 6400, 12800], 'seed': [398], 'hidden_size': [10], 'bias': [True], 'dropout_rate': [0.1], 'ode_nn': [((80, 'tanh'), (80, 'tanh'))], 'readout_nn': [((80, 'tanh'), (80, 'tanh'))], 'enc_nn': [((80, 'tanh'), (80, 'tanh'))], 'use_rnn': [False], 'func_appl_X': [[]], 'solver': ['euler'], 'weight': [0.5], 'weight_decay': [1.0], 'dataset': ['OrnsteinUhlenbeck'], 'dataset_id': [None], 'plot': [True], 'paths_to_plot': [(0,)], 'saved_models_path': ['../data/conv-study-OU-saved_models/'], 'evaluate': [True]}\n",
      "param_dict: {'epochs': [100], 'batch_size': [20], 'save_every': [10], 'learning_rate': [0.001], 'test_size': [0.2], 'training_size': [200, 400, 800, 1600, 3200, 6400, 12800], 'seed': [398], 'hidden_size': [10], 'bias': [True], 'dropout_rate': [0.1], 'ode_nn': [((160, 'tanh'), (160, 'tanh'))], 'readout_nn': [((160, 'tanh'), (160, 'tanh'))], 'enc_nn': [((160, 'tanh'), (160, 'tanh'))], 'use_rnn': [False], 'func_appl_X': [[]], 'solver': ['euler'], 'weight': [0.5], 'weight_decay': [1.0], 'dataset': ['OrnsteinUhlenbeck'], 'dataset_id': [None], 'plot': [True], 'paths_to_plot': [(0,)], 'saved_models_path': ['../data/conv-study-OU-saved_models/'], 'evaluate': [True]}\n",
      "param_dict: {'epochs': [100], 'batch_size': [20], 'save_every': [10], 'learning_rate': [0.001], 'test_size': [0.2], 'training_size': [200, 400, 800, 1600, 3200, 6400, 12800], 'seed': [398], 'hidden_size': [10], 'bias': [True], 'dropout_rate': [0.1], 'ode_nn': [((320, 'tanh'), (320, 'tanh'))], 'readout_nn': [((320, 'tanh'), (320, 'tanh'))], 'enc_nn': [((320, 'tanh'), (320, 'tanh'))], 'use_rnn': [False], 'func_appl_X': [[]], 'solver': ['euler'], 'weight': [0.5], 'weight_decay': [1.0], 'dataset': ['OrnsteinUhlenbeck'], 'dataset_id': [None], 'plot': [True], 'paths_to_plot': [(0,)], 'saved_models_path': ['../data/conv-study-OU-saved_models/'], 'evaluate': [True]}\n",
      "param_dict: {'epochs': [200], 'batch_size': [100], 'save_every': [1], 'learning_rate': [0.001], 'test_size': [0.2], 'seed': [398], 'hidden_size': [10], 'bias': [True], 'dropout_rate': [0.1], 'ode_nn': [((50, 'tanh'), (50, 'tanh'))], 'readout_nn': [((50, 'tanh'), (50, 'tanh'))], 'enc_nn': [((50, 'tanh'), (50, 'tanh'))], 'use_rnn': [False], 'func_appl_X': [[]], 'solver': ['euler'], 'weight': [0.5], 'weight_decay': [1.0], 'dataset': ['HestonWOFeller'], 'dataset_id': [1], 'plot': [True], 'paths_to_plot': [(0, 1, 2, 3, 4)], 'evaluate': [True], 'saved_models_path': ['../data/saved_models_HestonWOFeller/']}\n",
      "param_dict: {'epochs': [200], 'batch_size': [100], 'save_every': [1], 'learning_rate': [0.001], 'test_size': [0.2], 'seed': [398], 'hidden_size': [10], 'bias': [True], 'dropout_rate': [0.1], 'ode_nn': [((100, 'tanh'), (100, 'tanh'))], 'readout_nn': [((100, 'tanh'), (100, 'tanh'))], 'enc_nn': [((100, 'tanh'), (100, 'tanh'))], 'use_rnn': [False], 'func_appl_X': [[]], 'solver': ['euler'], 'weight': [0.5], 'weight_decay': [1.0], 'dataset': ['combined_OrnsteinUhlenbeck_BlackScholes'], 'plot': [True], 'paths_to_plot': [(0, 1, 2, 3, 4)], 'evaluate': [True], 'saved_models_path': ['../data/saved_models_combined_OU_BS/'], 'dataset_id': [1]}\n",
      "param_dict: {'epochs': [100], 'batch_size': [100], 'save_every': [1], 'learning_rate': [0.001], 'test_size': [0.2], 'seed': [398], 'hidden_size': [10], 'bias': [True], 'dropout_rate': [0.1], 'ode_nn': [((400, 'tanh'), (400, 'tanh'))], 'readout_nn': [((400, 'tanh'), (400, 'tanh'))], 'enc_nn': [((400, 'tanh'), (400, 'tanh'))], 'use_rnn': [False], 'func_appl_X': [[]], 'solver': ['euler'], 'weight': [0.5], 'weight_decay': [1.0], 'dataset': ['sine_BlackScholes'], 'dataset_id': [1], 'plot': [True], 'paths_to_plot': [(0, 1, 2, 3, 4)], 'evaluate': [True], 'saved_models_path': ['../data/saved_models_sine_BS/']}\n",
      "param_dict: {'epochs': [100], 'batch_size': [20], 'save_every': [1], 'learning_rate': [0.001], 'test_size': [0.2], 'seed': [398], 'hidden_size': [50, 100], 'bias': [True], 'dropout_rate': [0.1], 'ode_nn': [None], 'readout_nn': [None], 'enc_nn': [None], 'use_rnn': [False], 'func_appl_X': [[]], 'solver': ['euler'], 'weight': [0.5], 'weight_decay': [1.0], 'dataset': ['BlackScholes', 'Heston', 'OrnsteinUhlenbeck'], 'dataset_id': [None], 'plot': [True], 'paths_to_plot': [(0, 1, 2, 3, 4)], 'evaluate': [True], 'other_model': ['GRU_ODE_Bayes'], 'saved_models_path': ['../data/saved_models_GRUODEBayes-comparison/'], 'GRU_ODE_Bayes-impute': [True, False], 'GRU_ODE_Bayes-logvar': [True, False], 'GRU_ODE_Bayes-mixing': [0.0001, 0.5]}\n",
      "param_dict: {'epochs': [100], 'batch_size': [20], 'save_every': [1], 'learning_rate': [0.001], 'test_size': [0.2], 'seed': [398], 'hidden_size': [10], 'bias': [True], 'dropout_rate': [0.1], 'ode_nn': [((50, 'tanh'), (50, 'tanh'))], 'readout_nn': [((50, 'tanh'), (50, 'tanh'))], 'enc_nn': [((50, 'tanh'), (50, 'tanh'))], 'use_rnn': [False], 'func_appl_X': [[]], 'solver': ['euler'], 'weight': [0.5], 'weight_decay': [1.0], 'dataset': ['BlackScholes', 'Heston', 'OrnsteinUhlenbeck'], 'dataset_id': [None], 'plot': [True], 'paths_to_plot': [(0, 1, 2, 3, 4)], 'evaluate': [True], 'saved_models_path': ['../data/saved_models_GRUODEBayes-comparison/']}\n",
      "param_dict: {'epochs': [200], 'batch_size': [100], 'save_every': [1], 'learning_rate': [0.001], 'hidden_size': [10], 'bias': [True], 'dropout_rate': [0.1], 'ode_nn': [((50, 'tanh'), (50, 'tanh'))], 'readout_nn': [((50, 'tanh'), (50, 'tanh'))], 'enc_nn': [((50, 'tanh'), (50, 'tanh'))], 'use_rnn': [False], 'solver': ['euler'], 'weight': [0.5], 'weight_decay': [1.0], 'dataset': ['climate'], 'data_index': [0, 1, 2, 3, 4], 'delta_t': [0.1], 'saved_models_path': ['../data/saved_models_NJODE1-climate/'], 'dataset_id': [1]}\n",
      "param_dict: {'epochs': [200], 'batch_size': [100], 'save_every': [1], 'learning_rate': [0.001], 'hidden_size': [50], 'bias': [True], 'dropout_rate': [0.1], 'ode_nn': [((400, 'tanh'), (400, 'tanh'))], 'readout_nn': [((400, 'tanh'), (400, 'tanh'))], 'enc_nn': [((400, 'tanh'), (400, 'tanh'))], 'use_rnn': [False], 'solver': ['euler'], 'weight': [0.5], 'weight_decay': [1.0], 'dataset': ['climate'], 'data_index': [0, 1, 2, 3, 4], 'delta_t': [0.1], 'saved_models_path': ['../data/saved_models_NJODE1-climate/'], 'dataset_id': [1]}\n",
      "param_dict: {'epochs': [50], 'batch_size': [100], 'save_every': [1], 'learning_rate': [0.001], 'hidden_size': [50], 'bias': [True], 'dropout_rate': [0.2], 'ode_nn': [None], 'readout_nn': [None], 'enc_nn': [None], 'use_rnn': [False], 'solver': ['euler'], 'weight': [0.5], 'weight_decay': [0, 1, 2, 3, 4], 'dataset': ['climate'], 'data_index': [1], 'delta_t': [0.1], 'other_model': ['GRU_ODE_Bayes'], 'GRU_ODE_Bayes-impute': [False], 'GRU_ODE_Bayes-logvar': [True], 'GRU_ODE_Bayes-mixing': [0.0001], 'GRU_ODE_Bayes-p_hidden': [25], 'GRU_ODE_Bayes-prep_hidden': [10], 'GRU_ODE_Bayes-cov_hidden': [50], 'saved_models_path': ['../data/saved_models_NJODE1-climate/'], 'dataset_id': [1]}\n",
      "param_dict: {'epochs': [175], 'batch_size': [50], 'save_every': [1], 'learning_rate': [0.001], 'hidden_size': [41], 'bias': [True], 'dropout_rate': [0.1], 'ode_nn': [((50, 'tanh'), (50, 'tanh'))], 'readout_nn': [((50, 'tanh'), (50, 'tanh'))], 'enc_nn': [((50, 'tanh'), (50, 'tanh'))], 'use_rnn': [False], 'solver': ['euler'], 'weight': [0.5], 'weight_decay': [1.0], 'dataset': ['physionet'], 'quantization': [0.016], 'n_samples': [8000], 'saved_models_path': ['../data/saved_models_NJODE1_physionet_comparison/'], 'dataset_id': [1]}\n",
      "param_dict: {'epochs': [175], 'batch_size': [50], 'save_every': [1], 'learning_rate': [0.001], 'hidden_size': [41], 'bias': [True], 'dropout_rate': [0.1], 'ode_nn': [((200, 'tanh'), (200, 'tanh'))], 'readout_nn': [((200, 'tanh'), (200, 'tanh'))], 'enc_nn': [((200, 'tanh'), (200, 'tanh'))], 'use_rnn': [False], 'solver': ['euler'], 'weight': [0.5], 'weight_decay': [1.0], 'dataset': ['physionet'], 'quantization': [0.016], 'n_samples': [8000], 'saved_models_path': ['../data/saved_models_NJODE1_physionet_comparison/'], 'dataset_id': [1]}\n",
      "param_dict: {'epochs': [50], 'batch_size': [50], 'save_every': [1], 'learning_rate': [0.01], 'test_size': [0.2], 'seed': [398], 'hidden_size': [100], 'bias': [True], 'dropout_rate': [0.1], 'ode_nn': [((50, 'tanh'),)], 'readout_nn': [((50, 'tanh'),)], 'enc_nn': [((50, 'tanh'),)], 'use_rnn': [False, True], 'solver': ['euler'], 'weight': [0.5], 'weight_decay': [1.0], 'input_sig': [False, True], 'level': [2], 'use_sig_for_classifier': [False], 'data_dict': ['LOB_dict1', 'LOB_dict2', 'LOB_dict3'], 'which_loss': ['easy'], 'plot': [True], 'evaluate': [True], 'paths_to_plot': [(0, 1, 2, 3, 4)], 'output_midprice_only': [False], 'use_eval_on_train': [False], 'classifier_nn': [((50, 'tanh'),)], 'classifier_loss_weight': [1.0], 'saved_models_path': ['../data/saved_models_LOB/'], 'dataset_id': [1]}\n",
      "param_dict: {'epochs': [50], 'batch_size': [50], 'save_every': [1], 'learning_rate': [0.01], 'test_size': [0.2], 'seed': [398], 'hidden_size': [100], 'bias': [True], 'dropout_rate': [0.1], 'ode_nn': [((50, 'tanh'),)], 'readout_nn': [((50, 'tanh'),)], 'enc_nn': [((50, 'tanh'),)], 'use_rnn': [False, True], 'solver': ['euler'], 'weight': [0.5], 'weight_decay': [1.0], 'input_sig': [True], 'level': [2], 'use_sig_for_classifier': [True], 'data_dict': ['LOB_dict1', 'LOB_dict2', 'LOB_dict3'], 'which_loss': ['easy'], 'plot': [True], 'evaluate': [True], 'paths_to_plot': [(0, 1, 2, 3, 4)], 'output_midprice_only': [False], 'use_eval_on_train': [False], 'classifier_nn': [((50, 'tanh'),)], 'classifier_loss_weight': [1.0], 'saved_models_path': ['../data/saved_models_LOB/'], 'dataset_id': [1]}\n",
      "param_dict: {'epochs': [50], 'batch_size': [50], 'save_every': [1], 'learning_rate': [0.01], 'test_size': [0.2], 'seed': [398], 'hidden_size': [100], 'bias': [True], 'dropout_rate': [0.1], 'ode_nn': [((50, 'tanh'),)], 'readout_nn': [((50, 'tanh'),)], 'enc_nn': [((50, 'tanh'),)], 'use_rnn': [False], 'solver': ['euler'], 'weight': [0.5], 'weight_decay': [1.0], 'input_sig': [True], 'level': [2], 'use_sig_for_classifier': [False], 'data_dict': ['LOB_dict3'], 'which_loss': ['easy'], 'plot': [True], 'evaluate': [True], 'paths_to_plot': [(0, 1, 2, 3, 4)], 'output_midprice_only': [False, True], 'use_eval_on_train': [False], 'residual_enc_dec': [True], 'classifier_nn': [None, ((50, 'tanh'),)], 'classifier_loss_weight': [1.0], 'saved_models_path': ['../data/saved_models_LOB/'], 'dataset_id': [1]}\n",
      "param_dict: {'epochs': [200], 'batch_size': [50], 'save_every': [1], 'learning_rate': [0.001], 'dataset': ['retrain_LOB'], 'evaluate': [True], 'saved_models_path': ['../data/saved_models_retrain_LOB/'], 'load_model_id': [17, 18, 9, 10, 11, 12, 19, 20, 21, 22], 'load_saved_models_path': ['../data/saved_models_LOB/'], 'load_model_load_best': [True, False], 'dataset_id': [1]}\n",
      "param_dict: {'epochs': [1000], 'batch_size': [50], 'save_every': [1], 'learning_rate': [0.001], 'dataset': ['retrain_LOB'], 'evaluate': [True], 'saved_models_path': ['../data/saved_models_retrain_LOB/'], 'load_model_id': [17, 18, 9, 10, 11, 12, 19, 20, 21, 22], 'load_saved_models_path': ['../data/saved_models_LOB/'], 'load_model_load_best': [True, False], 'new_classifier_nn': [{'nn_desc': ((200, 'tanh'), (200, 'tanh')), 'dropout_rate': 0.1, 'bias': True}], 'dataset_id': [1]}\n",
      "param_dict: {'epochs': [1000], 'batch_size': [50], 'save_every': [1], 'learning_rate': [0.001], 'dataset': ['retrain_LOB'], 'evaluate': [True], 'saved_models_path': ['../data/saved_models_retrain_LOB/'], 'load_model_id': [17, 18, 9, 10, 11, 12, 19, 20, 21, 22], 'load_saved_models_path': ['../data/saved_models_LOB/'], 'load_model_load_best': [True, False], 'new_classifier_nn': [{'nn_desc': ((200, 'tanh'), (200, 'tanh'), (200, 'tanh'), (200, 'tanh')), 'dropout_rate': 0.1, 'bias': True}], 'dataset_id': [1]}\n",
      "param_dict: {'epochs': [50], 'batch_size': [50], 'save_every': [1], 'learning_rate': [0.01], 'test_size': [0.2], 'seed': [398], 'hidden_size': [100], 'bias': [True], 'dropout_rate': [0.1], 'ode_nn': [((50, 'tanh'),)], 'readout_nn': [((50, 'tanh'),)], 'enc_nn': [((50, 'tanh'),)], 'use_rnn': [False], 'solver': ['euler'], 'weight': [0.5], 'weight_decay': [1.0], 'input_sig': [True], 'level': [2], 'use_sig_for_classifier': [False], 'data_dict': ['LOB_dict_K_3', 'LOB_dict_K_6'], 'which_loss': ['easy'], 'plot': [True], 'evaluate': [True], 'paths_to_plot': [(0, 1, 2, 3, 4)], 'output_midprice_only': [False], 'use_eval_on_train': [False], 'residual_enc_dec': [True], 'classifier_nn': [((50, 'tanh'),)], 'classifier_loss_weight': [1.0], 'saved_models_path': ['../data/saved_models_LOB_K/'], 'dataset_id': [1]}\n",
      "param_dict: {'epochs': [200], 'batch_size': [50], 'save_every': [1], 'learning_rate': [0.001], 'dataset': ['retrain_LOB'], 'evaluate': [True], 'saved_models_path': ['../data/saved_models_retrain_LOB_K/'], 'load_model_id': [1, 2], 'load_saved_models_path': ['../data/saved_models_LOB_K/'], 'load_model_load_best': [True, False], 'dataset_id': [1]}\n",
      "param_dict: {'epochs': [1000], 'batch_size': [50], 'save_every': [1], 'learning_rate': [0.001], 'dataset': ['retrain_LOB'], 'evaluate': [True], 'saved_models_path': ['../data/saved_models_retrain_LOB_K/'], 'load_model_id': [1, 2], 'load_saved_models_path': ['../data/saved_models_LOB_K/'], 'load_model_load_best': [True, False], 'new_classifier_nn': [{'nn_desc': ((200, 'tanh'), (200, 'tanh')), 'dropout_rate': 0.1, 'bias': True}], 'dataset_id': [1]}\n",
      "param_dict: {'epochs': [1000], 'batch_size': [50], 'save_every': [1], 'learning_rate': [0.001], 'dataset': ['retrain_LOB'], 'evaluate': [True], 'saved_models_path': ['../data/saved_models_retrain_LOB_K/'], 'load_model_id': [1, 2], 'load_saved_models_path': ['../data/saved_models_LOB_K/'], 'load_model_load_best': [True, False], 'new_classifier_nn': [{'nn_desc': ((200, 'tanh'), (200, 'tanh'), (200, 'tanh'), (200, 'tanh')), 'dropout_rate': 0.1, 'bias': True}], 'dataset_id': [1]}\n",
      "param_dict: {'epochs': [50], 'batch_size': [50], 'save_every': [1], 'learning_rate': [0.01], 'test_size': [0.2], 'seed': [398], 'hidden_size': [100], 'bias': [True], 'dropout_rate': [0.1], 'ode_nn': [((50, 'tanh'),)], 'readout_nn': [((50, 'tanh'),)], 'enc_nn': [((50, 'tanh'),)], 'use_rnn': [False], 'solver': ['euler'], 'weight': [0.5], 'weight_decay': [1.0], 'input_sig': [True], 'level': [2], 'use_sig_for_classifier': [False], 'data_dict': ['LOB_dict3_2', 'LOB_dict_K_3_2', 'LOB_dict_K_6_2'], 'which_loss': ['easy'], 'plot': [True], 'evaluate': [True], 'paths_to_plot': [(0, 1, 2, 3, 4)], 'output_midprice_only': [False], 'use_eval_on_train': [False], 'residual_enc_dec': [True], 'classifier_nn': [((50, 'tanh'),)], 'classifier_loss_weight': [1.0], 'saved_models_path': ['../data/saved_models_LOB_n/'], 'dataset_id': [1]}\n",
      "param_dict: {'epochs': [200], 'batch_size': [50], 'save_every': [1], 'learning_rate': [0.001], 'dataset': ['retrain_LOB'], 'evaluate': [True], 'saved_models_path': ['../data/saved_models_retrain_LOB_n/'], 'load_model_id': [1, 2, 3], 'load_saved_models_path': ['../data/saved_models_LOB_n/'], 'load_model_load_best': [True, False], 'dataset_id': [1]}\n",
      "param_dict: {'epochs': [1000], 'batch_size': [50], 'save_every': [1], 'learning_rate': [0.001], 'dataset': ['retrain_LOB'], 'evaluate': [True], 'saved_models_path': ['../data/saved_models_retrain_LOB_n/'], 'load_model_id': [1, 2, 3], 'load_saved_models_path': ['../data/saved_models_LOB_n/'], 'load_model_load_best': [True, False], 'new_classifier_nn': [{'nn_desc': ((200, 'tanh'), (200, 'tanh')), 'dropout_rate': 0.1, 'bias': True}], 'dataset_id': [1]}\n",
      "param_dict: {'epochs': [1000], 'batch_size': [50], 'save_every': [1], 'learning_rate': [0.001], 'dataset': ['retrain_LOB'], 'evaluate': [True], 'saved_models_path': ['../data/saved_models_retrain_LOB_n/'], 'load_model_id': [1, 2, 3], 'load_saved_models_path': ['../data/saved_models_LOB_n/'], 'load_model_load_best': [True, False], 'new_classifier_nn': [{'nn_desc': ((200, 'tanh'), (200, 'tanh'), (200, 'tanh'), (200, 'tanh')), 'dropout_rate': 0.1, 'bias': True}], 'dataset_id': [1]}\n",
      "param_dict: {'epochs': [200], 'batch_size': [200], 'save_every': [1], 'learning_rate': [0.001], 'test_size': [0.2], 'seed': [398], 'hidden_size': [50], 'bias': [True], 'dropout_rate': [0.1], 'ode_nn': [((50, 'tanh'),)], 'readout_nn': [None], 'enc_nn': [((50, 'tanh'),)], 'func_appl_X': [[]], 'solver': ['euler'], 'weight': [0.5], 'weight_decay': [1.0], 'dataset': ['BM', 'BMandVar'], 'dataset_id': [None], 'which_loss': ['easy'], 'coord_wise_tau': [False], 'use_y_for_ode': [True], 'use_rnn': [False], 'masked': [False], 'plot': [True], 'evaluate': [True], 'paths_to_plot': [(0, 1, 2, 3, 4)], 'plot_same_yaxis': [True], 'train_readout_only': [True], 'saved_models_path': ['../data/saved_models_randNJODE/']}\n",
      "param_dict: {'epochs': [200], 'batch_size': [200], 'save_every': [1], 'learning_rate': [0.001], 'test_size': [0.2], 'seed': [398], 'hidden_size': [50, 200], 'bias': [True], 'dropout_rate': [0.1], 'ode_nn': [((50, 'tanh'),)], 'enc_nn': [((50, 'tanh'),)], 'func_appl_X': [[]], 'solver': ['euler'], 'weight': [0.5], 'weight_decay': [1.0], 'dataset': ['BM', 'BMandVar'], 'dataset_id': [None], 'which_loss': ['easy'], 'coord_wise_tau': [False], 'use_y_for_ode': [True], 'use_rnn': [False], 'masked': [False], 'plot': [True], 'evaluate': [True], 'paths_to_plot': [(0, 1, 2, 3, 4)], 'plot_same_yaxis': [True], 'other_model': ['randomizedNJODE'], 'saved_models_path': ['../data/saved_models_randNJODE/']}\n",
      "param_dict: {'epochs': [200], 'batch_size': [200], 'save_every': [1], 'learning_rate': [0.001], 'test_size': [0.2], 'seed': [398], 'hidden_size': [50, 200], 'bias': [True], 'dropout_rate': [0.1], 'ode_nn': [((50, 'tanh'),)], 'enc_nn': [((50, 'tanh'),)], 'func_appl_X': [[]], 'solver': ['euler'], 'weight': [0.5], 'weight_decay': [1.0], 'dataset': ['DoublePendulum'], 'dataset_id': [None], 'which_loss': ['easy'], 'coord_wise_tau': [False], 'use_y_for_ode': [True], 'use_rnn': [False], 'masked': [False], 'plot': [True], 'evaluate': [True], 'paths_to_plot': [(0, 1, 2, 3, 4)], 'plot_same_yaxis': [True], 'other_model': ['randomizedNJODE'], 'saved_models_path': ['../data/saved_models_randNJODE/']}\n",
      "param_dict: {'epochs': [200], 'batch_size': [200], 'save_every': [1], 'learning_rate': [0.001], 'test_size': [0.2], 'seed': [398], 'hidden_size': [50, 200], 'bias': [True], 'dropout_rate': [0.1], 'ode_nn': [((50, 'tanh'),)], 'enc_nn': [((50, 'tanh'),)], 'func_appl_X': [[]], 'solver': ['euler'], 'weight': [0.5], 'weight_decay': [1.0], 'data_dict': ['BlackScholes_dict'], 'dataset_id': [None], 'which_loss': ['easy'], 'coord_wise_tau': [False], 'use_y_for_ode': [True], 'use_rnn': [False, True], 'masked': [False], 'plot': [True], 'evaluate': [True], 'paths_to_plot': [(0, 1, 2, 3, 4)], 'plot_same_yaxis': [True], 'other_model': ['randomizedNJODE'], 'saved_models_path': ['../data/saved_models_randNJODE_BS/']}\n",
      "param_dict: {'epochs': [200], 'batch_size': [200], 'save_every': [1], 'learning_rate': [0.01, 0.001], 'test_size': [0.2], 'seed': [398], 'hidden_size': [None], 'bias': [True], 'dropout_rate': [0.1], 'ode_nn': [None], 'readout_nn': [None], 'enc_nn': [((100, 'tanh'),)], 'func_appl_X': [[]], 'solver': ['euler'], 'weight': [0.5], 'weight_decay': [1.0], 'dataset': ['BlackScholes'], 'dataset_id': [None], 'which_loss': ['easy'], 'coord_wise_tau': [False], 'use_y_for_ode': [True], 'use_rnn': [True, False], 'input_sig': [True, False], 'level': [2], 'masked': [False], 'plot': [True], 'evaluate': [True], 'paths_to_plot': [(0, 1, 2, 3, 4)], 'plot_same_yaxis': [True], 'other_model': ['NJmodel'], 'saved_models_path': ['../data/saved_models_NJmodel/']}\n",
      "param_dict: {'epochs': [200], 'batch_size': [200], 'save_every': [1], 'learning_rate': [0.001], 'test_size': [0.2], 'seed': [398], 'hidden_size': [50], 'bias': [True], 'dropout_rate': [0.1], 'ode_nn': [((100, 'tanh'),)], 'readout_nn': [None, ((100, 'tanh'),)], 'enc_nn': [((100, 'tanh'),)], 'func_appl_X': [[]], 'solver': ['euler'], 'weight': [0.5], 'weight_decay': [1.0], 'dataset': ['BlackScholes'], 'dataset_id': [None], 'which_loss': ['easy'], 'coord_wise_tau': [False], 'use_y_for_ode': [True], 'use_rnn': [True, False], 'input_sig': [True, False], 'level': [2], 'masked': [False], 'plot': [True], 'evaluate': [True], 'paths_to_plot': [(0, 1, 2, 3, 4)], 'plot_same_yaxis': [True], 'saved_models_path': ['../data/saved_models_NJmodel/']}\n",
      "param_dict: {'epochs': [200], 'batch_size': [200], 'save_every': [1], 'learning_rate': [0.001], 'test_size': [0.2], 'seed': [398], 'hidden_size': [None], 'bias': [True], 'dropout_rate': [0.1], 'ode_nn': [None], 'readout_nn': [None], 'enc_nn': [((2000, 'tanh'),), ((200, 'tanh'), (200, 'tanh'))], 'func_appl_X': [[]], 'solver': ['euler'], 'weight': [0.5], 'weight_decay': [1.0], 'dataset': ['BlackScholes'], 'dataset_id': [None], 'which_loss': ['easy'], 'coord_wise_tau': [False], 'use_y_for_ode': [True], 'use_rnn': [True], 'input_sig': [True], 'level': [2], 'masked': [False], 'plot': [True], 'evaluate': [True], 'paths_to_plot': [(0, 1, 2, 3, 4)], 'plot_same_yaxis': [True], 'other_model': ['NJmodel'], 'saved_models_path': ['../data/saved_models_NJmodel/']}\n",
      "param_dict: {'epochs': [200], 'batch_size': [200], 'save_every': [1], 'learning_rate': [0.001], 'test_size': [0.2], 'seed': [398], 'hidden_size': [50], 'bias': [True], 'dropout_rate': [0.1], 'ode_nn': [((50, 'tanh'), (50, 'tanh'))], 'readout_nn': [((50, 'tanh'), (50, 'tanh'))], 'enc_nn': [((50, 'tanh'), (50, 'tanh'))], 'func_appl_X': [[]], 'solver': ['euler'], 'weight': [0.5], 'weight_decay': [1.0], 'data_dict': ['BS_dep_obs_dict'], 'dataset_id': [None], 'which_loss': ['easy'], 'coord_wise_tau': [False], 'use_y_for_ode': [True], 'use_rnn': [True], 'input_sig': [True], 'level': [3], 'masked': [False], 'residual_dec': [True, False], 'plot': [True], 'evaluate': [True], 'paths_to_plot': [(0, 1, 2, 3, 4)], 'plot_same_yaxis': [True], 'plot_obs_prob': [True], 'saved_models_path': ['../data/saved_models_DepObservations/']}\n",
      "param_dict: {'epochs': [200], 'batch_size': [200], 'save_every': [1], 'learning_rate': [0.001], 'test_size': [0.2], 'seed': [398], 'hidden_size': [100], 'bias': [True], 'dropout_rate': [0.1], 'ode_nn': [((100, 'tanh'),)], 'readout_nn': [((100, 'tanh'),), None], 'enc_nn': [((100, 'tanh'),)], 'use_rnn': [True], 'residual_dec': [True, False], 'func_appl_X': [[]], 'solver': ['euler'], 'weight': [0.5], 'weight_decay': [1.0], 'input_sig': [True], 'level': [3], 'data_dict': ['BM_NoisyObs_dict'], 'which_loss': ['easy', 'noisy_obs'], 'coord_wise_tau': [False], 'use_y_for_ode': [True], 'masked': [False], 'plot': [True], 'evaluate': [True], 'paths_to_plot': [(0, 1, 2, 3, 4)], 'plot_same_yaxis': [True], 'saved_models_path': ['../data/saved_models_BMNoisyObs/'], 'dataset_id': [1]}\n",
      "param_dict: {'epochs': [200], 'batch_size': [200], 'save_every': [1], 'learning_rate': [0.001], 'test_size': [0.2], 'seed': [398], 'hidden_size': [100], 'bias': [True], 'dropout_rate': [0.1], 'ode_nn': [((100, 'relu'),)], 'readout_nn': [((100, 'relu'),), None], 'enc_nn': [((100, 'relu'),)], 'use_rnn': [True], 'residual_dec': [True, False], 'func_appl_X': [[]], 'solver': ['euler'], 'weight': [0.5], 'weight_decay': [1.0], 'input_sig': [True], 'level': [3], 'data_dict': ['BM_NoisyObs_dict'], 'which_loss': ['easy', 'noisy_obs'], 'coord_wise_tau': [False], 'use_y_for_ode': [True], 'masked': [False], 'plot': [True], 'evaluate': [True], 'paths_to_plot': [(0, 1, 2, 3, 4)], 'plot_same_yaxis': [True], 'saved_models_path': ['../data/saved_models_BMNoisyObs/'], 'dataset_id': [1]}\n",
      "param_dict: {'epochs': [100], 'batch_size': [50], 'save_every': [1], 'learning_rate': [0.001], 'test_size': [0.2], 'hidden_size': [50], 'bias': [True], 'dropout_rate': [0.1], 'ode_nn': [((50, 'tanh'),)], 'readout_nn': [((50, 'tanh'),)], 'enc_nn': [((50, 'tanh'),)], 'use_rnn': [True], 'solver': ['euler'], 'weight': [0.5], 'weight_decay': [1.0], 'input_sig': [True], 'level': [2], 'dataset': ['physionet'], 'dataset_id': [None], 'which_loss': ['easy', 'noisy_obs'], 'quantization': [0.016], 'n_samples': [8000], 'saved_models_path': ['../data/saved_models_PhysioNet_NJODE3/'], 'obs_noise': [{'std_factor': 0.0, 'seed': 333}, {'std_factor': 0.2, 'seed': 333}, {'std_factor': 0.4, 'seed': 333}, {'std_factor': 0.6, 'seed': 333}, {'std_factor': 0.8, 'seed': 333}, {'std_factor': 1.0, 'seed': 333}]}\n",
      "param_dict: {'epochs': [200], 'batch_size': [100], 'save_every': [1], 'learning_rate': [0.001], 'test_size': [0.2], 'seed': [398], 'hidden_size': [50], 'bias': [True], 'dropout_rate': [0.1], 'ode_nn': [((50, 'tanh'),)], 'readout_nn': [((50, 'tanh'),)], 'enc_nn': [((50, 'tanh'),)], 'use_rnn': [False, True], 'solver': ['euler'], 'weight': [0.5], 'weight_decay': [1.0], 'input_sig': [False, True], 'level': [2], 'dataset': ['climate'], 'data_index': [0, 1, 2, 3, 4], 'which_loss': ['easy', 'noisy_obs'], 'delta_t': [0.1], 'saved_models_path': ['../data/saved_models_Climate/'], 'dataset_id': [1]}\n",
      "param_dict: {'epochs': [200], 'batch_size': [200], 'save_every': [1], 'learning_rate': [0.001], 'test_size': [0.2], 'seed': [398], 'hidden_size': [400], 'bias': [True], 'dropout_rate': [0.1], 'ode_nn': [((200, 'tanh'),)], 'readout_nn': [((200, 'tanh'),)], 'enc_nn': [((200, 'tanh'),)], 'use_rnn': [True], 'func_appl_X': [[]], 'solver': ['euler'], 'weight': [0.5], 'weight_decay': [1.0], 'input_sig': [False], 'level': [3], 'data_dict': ['DP_dict3'], 'test_data_dict': ['DP_dict3_test'], 'which_loss': ['easy'], 'plot': [True], 'evaluate': [True], 'paths_to_plot': [(0, 1, 2, 3, 4)], 'saved_models_path': ['../data/saved_models_ODEexp_DoublePendulum/'], 'use_current_y_for_ode': [False, True], 'use_observation_as_input': [False, True, 0.5, 0.75, 0.25, 'lambda x: np.random.random(1) < 1-x/200', 'lambda x: np.random.random(1) < 1-x/100'], 'val_use_observation_as_input': [False], 'eval_use_true_paths': [True], 'dataset_id': [1]}\n",
      "param_dict: {'epochs': [300], 'batch_size': [200], 'save_every': [1], 'learning_rate': [0.001], 'test_size': [0.2], 'seed': [398], 'hidden_size': [400], 'bias': [True], 'dropout_rate': [0.1], 'ode_nn': [((200, 'tanh'),)], 'readout_nn': [((200, 'tanh'),)], 'enc_nn': [((200, 'tanh'),)], 'use_rnn': [True], 'func_appl_X': [[]], 'solver': ['euler'], 'weight': [0.5], 'weight_decay': [1.0], 'input_sig': [False], 'level': [3], 'data_dict': ['DP_dict4'], 'test_data_dict': ['DP_dict3_test'], 'which_loss': ['easy'], 'plot': [True], 'evaluate': [True], 'paths_to_plot': [(0, 1, 2, 3, 4)], 'saved_models_path': ['../data/saved_models_ODEexp_DoublePendulum/'], 'use_current_y_for_ode': [True], 'use_observation_as_input': ['lambda x: np.random.random() < 1-x/100'], 'val_use_observation_as_input': [False], 'eval_use_true_paths': [True], 'dataset_id': [1]}\n",
      "param_dict: {'epochs': [300], 'batch_size': [200], 'save_every': [1], 'learning_rate': [0.001], 'test_size': [0.2], 'seed': [398], 'hidden_size': [400], 'bias': [True], 'dropout_rate': [0.1], 'ode_nn': [((400, 'tanh'),)], 'readout_nn': [((400, 'tanh'),)], 'enc_nn': [((400, 'tanh'),)], 'use_rnn': [True], 'func_appl_X': [[]], 'solver': ['euler'], 'weight': [0.5], 'weight_decay': [1.0], 'input_sig': [False], 'level': [3], 'data_dict': ['DP_dict4'], 'test_data_dict': ['DP_dict3_test'], 'which_loss': ['easy'], 'plot': [True], 'evaluate': [True], 'paths_to_plot': [(0, 1, 2, 3, 4)], 'saved_models_path': ['../data/saved_models_ODEexp_DoublePendulum/'], 'use_current_y_for_ode': [True], 'use_observation_as_input': ['lambda x: np.random.random() < 1-x/100'], 'val_use_observation_as_input': [False], 'eval_use_true_paths': [True], 'dataset_id': [1]}\n",
      "param_dict: {'epochs': [300], 'batch_size': [200], 'save_every': [1], 'learning_rate': [0.001], 'test_size': [0.2], 'seed': [398], 'hidden_size': [400], 'bias': [True], 'dropout_rate': [0.1], 'ode_nn': [((200, 'tanh'), (200, 'tanh'))], 'readout_nn': [((200, 'tanh'), (200, 'tanh'))], 'enc_nn': [((200, 'tanh'), (200, 'tanh'))], 'use_rnn': [True], 'func_appl_X': [[]], 'solver': ['euler'], 'weight': [0.5], 'weight_decay': [1.0], 'input_sig': [False], 'level': [3], 'data_dict': ['DP_dict4'], 'test_data_dict': ['DP_dict3_test'], 'which_loss': ['easy'], 'plot': [True], 'evaluate': [True], 'paths_to_plot': [(0, 1, 2, 3, 4)], 'saved_models_path': ['../data/saved_models_ODEexp_DoublePendulum/'], 'use_current_y_for_ode': [True], 'use_observation_as_input': ['lambda x: np.random.random() < 1-x/100'], 'val_use_observation_as_input': [False], 'eval_use_true_paths': [True], 'dataset_id': [1]}\n",
      "param_dict: {'epochs': [300], 'batch_size': [200], 'save_every': [1], 'learning_rate': [0.001], 'test_size': [0.2], 'seed': [398], 'hidden_size': [400], 'bias': [True], 'dropout_rate': [0.1], 'ode_nn': [((200, 'relu'), (200, 'tanh'))], 'readout_nn': [((200, 'relu'), (200, 'tanh'))], 'enc_nn': [((200, 'relu'), (200, 'tanh'))], 'use_rnn': [True], 'func_appl_X': [[]], 'solver': ['euler'], 'weight': [0.5], 'weight_decay': [1.0], 'input_sig': [False], 'level': [3], 'data_dict': ['DP_dict4'], 'test_data_dict': ['DP_dict3_test'], 'which_loss': ['easy'], 'plot': [True], 'evaluate': [True], 'paths_to_plot': [(0, 1, 2, 3, 4)], 'saved_models_path': ['../data/saved_models_ODEexp_DoublePendulum/'], 'use_current_y_for_ode': [True], 'use_observation_as_input': ['lambda x: np.random.random() < 1-x/100'], 'val_use_observation_as_input': [False], 'eval_use_true_paths': [True], 'dataset_id': [1]}\n",
      "param_dict: {'epochs': [200], 'batch_size': [200], 'save_every': [1], 'learning_rate': [0.001], 'test_size': [0.2], 'seed': [398], 'hidden_size': [100], 'bias': [True], 'dropout_rate': [0.1], 'ode_nn': [((100, 'tanh'),)], 'readout_nn': [((100, 'tanh'),)], 'enc_nn': [((100, 'tanh'),)], 'use_rnn': [True], 'func_appl_X': [[]], 'solver': ['euler'], 'weight': [0.5], 'weight_decay': [1.0], 'input_sig': [True], 'level': [3], 'data_dict': ['BS_LT_dict'], 'test_data_dict': ['BS_LT_dict_test'], 'which_loss': ['easy'], 'plot': [True], 'evaluate': [True], 'paths_to_plot': [(0, 1, 2, 3, 4)], 'saved_models_path': ['../data/saved_models_BS_LongTerm/'], 'use_current_y_for_ode': [False, True], 'use_observation_as_input': [True, 'lambda x: np.random.random(1) < 1-x/100'], 'val_use_observation_as_input': [False], 'dataset_id': [1]}\n",
      "param_dict: {'epochs': [200], 'batch_size': [200], 'save_every': [1], 'learning_rate': [0.001], 'test_size': [0.2], 'seed': [398], 'hidden_size': [100], 'bias': [True], 'dropout_rate': [0.1], 'ode_nn': [((100, 'tanh'),)], 'readout_nn': [((100, 'tanh'),)], 'enc_nn': [((100, 'tanh'),)], 'use_rnn': [True], 'func_appl_X': [[]], 'solver': ['euler'], 'weight': [0.5], 'weight_decay': [1.0], 'input_sig': [True], 'level': [3], 'data_dict': ['BS_LT_dict2'], 'test_data_dict': ['BS_LT_dict2_test'], 'which_loss': ['easy'], 'plot': [True], 'evaluate': [True], 'paths_to_plot': [(0, 1, 2, 3, 4)], 'saved_models_path': ['../data/saved_models_BS_LongTerm/'], 'use_current_y_for_ode': [False, True], 'use_observation_as_input': [True, 'lambda x: np.random.random(1) < 1-x/100'], 'val_use_observation_as_input': [False], 'dataset_id': [1]}\n",
      "param_dict: {'epochs': [200], 'batch_size': [200], 'save_every': [1], 'learning_rate': [0.001], 'test_size': [0.2], 'seed': [398], 'hidden_size': [100], 'bias': [True], 'dropout_rate': [0.1], 'ode_nn': [((100, 'tanh'),)], 'readout_nn': [((100, 'tanh'),)], 'enc_nn': [((100, 'tanh'),)], 'use_rnn': [True], 'func_appl_X': [[]], 'solver': ['euler'], 'weight': [0.5], 'weight_decay': [1.0], 'input_sig': [True], 'level': [3], 'data_dict': ['BS_LT_dict1'], 'test_data_dict': ['BS_LT_dict_test'], 'which_loss': ['easy'], 'plot': [True], 'evaluate': [True], 'paths_to_plot': [(0, 1, 2, 3, 4)], 'saved_models_path': ['../data/saved_models_BS_LongTerm/'], 'use_current_y_for_ode': [False, True], 'use_observation_as_input': [True, 'lambda x: np.random.random(1) < 1-x/100'], 'val_use_observation_as_input': [False], 'dataset_id': [1]}\n",
      "param_dict: {'epochs': [175], 'batch_size': [50], 'save_every': [1], 'learning_rate': [0.001], 'test_size': [0.2], 'hidden_size': [50], 'bias': [True], 'dropout_rate': [0.1], 'ode_nn': [((50, 'tanh'),)], 'readout_nn': [((50, 'tanh'),)], 'enc_nn': [((50, 'tanh'),)], 'use_rnn': [True], 'solver': ['euler'], 'weight': [0.5], 'weight_decay': [1.0], 'input_sig': [True], 'level': [2], 'dataset': ['physionet'], 'dataset_id': [None], 'which_loss': ['easy'], 'quantization': [0.016], 'n_samples': [8000], 'saved_models_path': ['../data/saved_models_LongTerm_physionet/'], 'use_current_y_for_ode': [False, True], 'use_observation_as_input': ['lambda x: np.random.random(1) < 1-x/350', 'lambda x: np.random.random(1) < 1-(x-100)/150', 'lambda x: np.random.random(1) < 1-min(x-75,50)/200'], 'val_use_observation_as_input': [True]}\n",
      "param_dict: {'epochs': [200], 'batch_size': [200], 'save_every': [1], 'learning_rate': [0.001], 'test_size': [0.2], 'seed': [398], 'hidden_size': [100], 'bias': [True], 'dropout_rate': [0.1], 'ode_nn': [((100, 'tanh'),)], 'readout_nn': [((100, 'tanh'),), None], 'enc_nn': [((100, 'tanh'),)], 'use_rnn': [True, False], 'residual_enc_dec': [True, False], 'func_appl_X': [[]], 'solver': ['euler'], 'weight': [0.5], 'weight_decay': [1.0], 'input_sig': [True, False], 'level': [3], 'data_dict': ['PF_BSUP_dict1'], 'test_data_dict': ['PF_BSUP_dict1_test'], 'which_loss': ['IO'], 'coord_wise_tau': [False], 'use_y_for_ode': [False], 'masked': [False], 'plot': [True], 'evaluate': [True], 'paths_to_plot': [(0, 1, 2, 3, 4)], 'plot_same_yaxis': [False], 'use_cond_exp': [True], 'saved_models_path': ['../data/saved_models_BSUncertainParams/'], 'dataset_id': [1]}\n",
      "param_dict: {'epochs': [200], 'batch_size': [200], 'save_every': [1], 'learning_rate': [0.001], 'test_size': [0.2], 'seed': [398], 'hidden_size': [100], 'bias': [True], 'dropout_rate': [0.1], 'ode_nn': [((100, 'relu'),)], 'readout_nn': [((100, 'relu'),), None], 'enc_nn': [((100, 'relu'),)], 'use_rnn': [True, False], 'residual_enc_dec': [True, False], 'func_appl_X': [[]], 'solver': ['euler'], 'weight': [0.5], 'weight_decay': [1.0], 'input_sig': [True, False], 'level': [3], 'data_dict': ['PF_BSUP_dict1'], 'test_data_dict': ['PF_BSUP_dict1_test'], 'which_loss': ['IO'], 'coord_wise_tau': [False], 'use_y_for_ode': [False], 'masked': [False], 'plot': [True], 'evaluate': [True], 'paths_to_plot': [(0, 1, 2, 3, 4)], 'plot_same_yaxis': [False], 'use_cond_exp': [True], 'saved_models_path': ['../data/saved_models_BSUncertainParams/'], 'dataset_id': [1]}\n",
      "param_dict: {'epochs': [200], 'batch_size': [200], 'save_every': [1], 'learning_rate': [0.001], 'test_size': [0.2], 'seed': [398], 'hidden_size': [100], 'bias': [True], 'dropout_rate': [0.1], 'ode_nn': [((100, 'tanh'),)], 'readout_nn': [((100, 'tanh'),), None], 'enc_nn': [((100, 'tanh'),)], 'use_rnn': [True, False], 'residual_enc_dec': [True, False], 'func_appl_X': [[]], 'solver': ['euler'], 'weight': [0.5], 'weight_decay': [1.0], 'input_sig': [True, False], 'level': [3], 'data_dict': ['PF_BSUP_dict2'], 'test_data_dict': ['PF_BSUP_dict2_test'], 'which_loss': ['IO'], 'coord_wise_tau': [False], 'use_y_for_ode': [False], 'masked': [False], 'plot': [True], 'evaluate': [True], 'paths_to_plot': [(0, 1, 2, 3, 4)], 'plot_same_yaxis': [False], 'use_cond_exp': [True], 'saved_models_path': ['../data/saved_models_BSUncertainParams2/'], 'dataset_id': [1]}\n",
      "param_dict: {'epochs': [200], 'batch_size': [200], 'save_every': [1], 'learning_rate': [0.001], 'test_size': [0.2], 'seed': [398], 'hidden_size': [100], 'bias': [True], 'dropout_rate': [0.1], 'ode_nn': [((100, 'relu'),)], 'readout_nn': [((100, 'relu'),), None], 'enc_nn': [((100, 'relu'),)], 'use_rnn': [True, False], 'residual_enc_dec': [True, False], 'func_appl_X': [[]], 'solver': ['euler'], 'weight': [0.5], 'weight_decay': [1.0], 'input_sig': [True, False], 'level': [3], 'data_dict': ['PF_BSUP_dict2'], 'test_data_dict': ['PF_BSUP_dict2_test'], 'which_loss': ['IO'], 'coord_wise_tau': [False], 'use_y_for_ode': [False], 'masked': [False], 'plot': [True], 'evaluate': [True], 'paths_to_plot': [(0, 1, 2, 3, 4)], 'plot_same_yaxis': [False], 'use_cond_exp': [True], 'saved_models_path': ['../data/saved_models_BSUncertainParams2/'], 'dataset_id': [1]}\n",
      "param_dict: {'epochs': [200], 'batch_size': [200], 'save_every': [1], 'learning_rate': [0.001], 'test_size': [0.2], 'seed': [398], 'hidden_size': [200], 'bias': [True], 'dropout_rate': [0.1], 'ode_nn': [((100, 'relu'),)], 'readout_nn': [((100, 'relu'),)], 'enc_nn': [((100, 'relu'),)], 'use_rnn': [True], 'residual_enc_dec': [True], 'func_appl_X': [[]], 'solver': ['euler'], 'weight': [0.5], 'weight_decay': [1.0], 'input_sig': [True], 'level': [3], 'data_dict': ['PF_BSUP_dict_CS1_1'], 'test_data_dict': ['PF_BSUP_dict_CS1_test_1'], 'which_loss': ['IO'], 'coord_wise_tau': [False], 'use_y_for_ode': [False], 'masked': [False], 'plot': [True], 'evaluate': [True], 'paths_to_plot': [(0, 1, 2, 3, 4)], 'plot_same_yaxis': [False], 'use_cond_exp': [True], 'saved_models_path': ['../data/saved_models_BSUncertainParams_CS/'], 'dataset_id': [1]}\n",
      "param_dict: {'epochs': [200], 'batch_size': [200], 'save_every': [1], 'learning_rate': [0.001], 'test_size': [0.2], 'seed': [398], 'hidden_size': [200], 'bias': [True], 'dropout_rate': [0.1], 'ode_nn': [((100, 'relu'),)], 'readout_nn': [((100, 'relu'),)], 'enc_nn': [((100, 'relu'),)], 'use_rnn': [True], 'residual_enc_dec': [True], 'func_appl_X': [[]], 'solver': ['euler'], 'weight': [0.5], 'weight_decay': [1.0], 'input_sig': [True], 'level': [3], 'data_dict': ['PF_BSUP_dict_CS1_2'], 'test_data_dict': ['PF_BSUP_dict_CS1_test_2'], 'which_loss': ['IO'], 'coord_wise_tau': [False], 'use_y_for_ode': [False], 'masked': [False], 'plot': [True], 'evaluate': [True], 'paths_to_plot': [(0, 1, 2, 3, 4)], 'plot_same_yaxis': [False], 'use_cond_exp': [True], 'saved_models_path': ['../data/saved_models_BSUncertainParams_CS/'], 'dataset_id': [1]}\n",
      "param_dict: {'epochs': [200], 'batch_size': [200], 'save_every': [1], 'learning_rate': [0.001], 'test_size': [0.2], 'seed': [398], 'hidden_size': [200], 'bias': [True], 'dropout_rate': [0.1], 'ode_nn': [((100, 'relu'),)], 'readout_nn': [((100, 'relu'),)], 'enc_nn': [((100, 'relu'),)], 'use_rnn': [True], 'residual_enc_dec': [True], 'func_appl_X': [[]], 'solver': ['euler'], 'weight': [0.5], 'weight_decay': [1.0], 'input_sig': [True], 'level': [3], 'data_dict': ['PF_BSUP_dict_CS1_3'], 'test_data_dict': ['PF_BSUP_dict_CS1_test_3'], 'which_loss': ['IO'], 'coord_wise_tau': [False], 'use_y_for_ode': [False], 'masked': [False], 'plot': [True], 'evaluate': [True], 'paths_to_plot': [(0, 1, 2, 3, 4)], 'plot_same_yaxis': [False], 'use_cond_exp': [True], 'saved_models_path': ['../data/saved_models_BSUncertainParams_CS/'], 'dataset_id': [1]}\n",
      "param_dict: {'epochs': [200], 'batch_size': [200], 'save_every': [1], 'learning_rate': [0.001], 'test_size': [0.2], 'seed': [398], 'hidden_size': [200], 'bias': [True], 'dropout_rate': [0.1], 'ode_nn': [((100, 'relu'),)], 'readout_nn': [((100, 'relu'),)], 'enc_nn': [((100, 'relu'),)], 'use_rnn': [True], 'residual_enc_dec': [True], 'func_appl_X': [[]], 'solver': ['euler'], 'weight': [0.5], 'weight_decay': [1.0], 'input_sig': [True], 'level': [3], 'data_dict': ['PF_BSUP_dict_CS1_4'], 'test_data_dict': ['PF_BSUP_dict_CS1_test_4'], 'which_loss': ['IO'], 'coord_wise_tau': [False], 'use_y_for_ode': [False], 'masked': [False], 'plot': [True], 'evaluate': [True], 'paths_to_plot': [(0, 1, 2, 3, 4)], 'plot_same_yaxis': [False], 'use_cond_exp': [True], 'saved_models_path': ['../data/saved_models_BSUncertainParams_CS/'], 'dataset_id': [1]}\n",
      "param_dict: {'epochs': [200], 'batch_size': [200], 'save_every': [1], 'learning_rate': [0.001], 'test_size': [0.2], 'seed': [398], 'hidden_size': [200], 'bias': [True], 'dropout_rate': [0.1], 'ode_nn': [((100, 'relu'),)], 'readout_nn': [((100, 'relu'),)], 'enc_nn': [((100, 'relu'),)], 'use_rnn': [True], 'residual_enc_dec': [True], 'func_appl_X': [[]], 'solver': ['euler'], 'weight': [0.5], 'weight_decay': [1.0], 'input_sig': [True], 'level': [3], 'data_dict': ['PF_BSUP_dict_CS1_5'], 'test_data_dict': ['PF_BSUP_dict_CS1_test_5'], 'which_loss': ['IO'], 'coord_wise_tau': [False], 'use_y_for_ode': [False], 'masked': [False], 'plot': [True], 'evaluate': [True], 'paths_to_plot': [(0, 1, 2, 3, 4)], 'plot_same_yaxis': [False], 'use_cond_exp': [True], 'saved_models_path': ['../data/saved_models_BSUncertainParams_CS/'], 'dataset_id': [1]}\n",
      "param_dict: {'epochs': [200], 'batch_size': [200], 'save_every': [1], 'learning_rate': [0.001], 'test_size': [0.2], 'seed': [398], 'hidden_size': [200], 'bias': [True], 'dropout_rate': [0.1], 'ode_nn': [((100, 'relu'),)], 'readout_nn': [((100, 'relu'),)], 'enc_nn': [((100, 'relu'),)], 'use_rnn': [True], 'residual_enc_dec': [True], 'func_appl_X': [[]], 'solver': ['euler'], 'weight': [0.5], 'weight_decay': [1.0], 'input_sig': [True], 'level': [3], 'data_dict': ['PF_BSUP_dict_CS1_6'], 'test_data_dict': ['PF_BSUP_dict_CS1_test_6'], 'which_loss': ['IO'], 'coord_wise_tau': [False], 'use_y_for_ode': [False], 'masked': [False], 'plot': [True], 'evaluate': [True], 'paths_to_plot': [(0, 1, 2, 3, 4)], 'plot_same_yaxis': [False], 'use_cond_exp': [True], 'saved_models_path': ['../data/saved_models_BSUncertainParams_CS/'], 'dataset_id': [1]}\n",
      "param_dict: {'epochs': [200], 'batch_size': [200], 'save_every': [1], 'learning_rate': [0.001], 'test_size': [0.2], 'seed': [398], 'hidden_size': [200], 'bias': [True], 'dropout_rate': [0.1], 'ode_nn': [((100, 'relu'),)], 'readout_nn': [((100, 'relu'),)], 'enc_nn': [((100, 'relu'),)], 'use_rnn': [True], 'residual_enc_dec': [True], 'func_appl_X': [[]], 'solver': ['euler'], 'weight': [0.5], 'weight_decay': [1.0], 'input_sig': [True], 'level': [3], 'data_dict': ['PF_BSUP_dict_CS2_1'], 'test_data_dict': ['PF_BSUP_dict_CS2_test_1'], 'which_loss': ['IO'], 'coord_wise_tau': [False], 'use_y_for_ode': [False], 'masked': [False], 'plot': [True], 'evaluate': [True], 'paths_to_plot': [(0, 1, 2, 3, 4)], 'plot_same_yaxis': [False], 'use_cond_exp': [True], 'saved_models_path': ['../data/saved_models_BSUncertainParams_CS/'], 'dataset_id': [1]}\n",
      "param_dict: {'epochs': [200], 'batch_size': [200], 'save_every': [1], 'learning_rate': [0.001], 'test_size': [0.2], 'seed': [398], 'hidden_size': [200], 'bias': [True], 'dropout_rate': [0.1], 'ode_nn': [((100, 'relu'),)], 'readout_nn': [((100, 'relu'),)], 'enc_nn': [((100, 'relu'),)], 'use_rnn': [True], 'residual_enc_dec': [True], 'func_appl_X': [[]], 'solver': ['euler'], 'weight': [0.5], 'weight_decay': [1.0], 'input_sig': [True], 'level': [3], 'data_dict': ['PF_BSUP_dict_CS2_2'], 'test_data_dict': ['PF_BSUP_dict_CS2_test_2'], 'which_loss': ['IO'], 'coord_wise_tau': [False], 'use_y_for_ode': [False], 'masked': [False], 'plot': [True], 'evaluate': [True], 'paths_to_plot': [(0, 1, 2, 3, 4)], 'plot_same_yaxis': [False], 'use_cond_exp': [True], 'saved_models_path': ['../data/saved_models_BSUncertainParams_CS/'], 'dataset_id': [1]}\n",
      "param_dict: {'epochs': [200], 'batch_size': [200], 'save_every': [1], 'learning_rate': [0.001], 'test_size': [0.2], 'seed': [398], 'hidden_size': [200], 'bias': [True], 'dropout_rate': [0.1], 'ode_nn': [((100, 'relu'),)], 'readout_nn': [((100, 'relu'),)], 'enc_nn': [((100, 'relu'),)], 'use_rnn': [True], 'residual_enc_dec': [True], 'func_appl_X': [[]], 'solver': ['euler'], 'weight': [0.5], 'weight_decay': [1.0], 'input_sig': [True], 'level': [3], 'data_dict': ['PF_BSUP_dict_CS2_3'], 'test_data_dict': ['PF_BSUP_dict_CS2_test_3'], 'which_loss': ['IO'], 'coord_wise_tau': [False], 'use_y_for_ode': [False], 'masked': [False], 'plot': [True], 'evaluate': [True], 'paths_to_plot': [(0, 1, 2, 3, 4)], 'plot_same_yaxis': [False], 'use_cond_exp': [True], 'saved_models_path': ['../data/saved_models_BSUncertainParams_CS/'], 'dataset_id': [1]}\n",
      "param_dict: {'epochs': [200], 'batch_size': [200], 'save_every': [1], 'learning_rate': [0.001], 'test_size': [0.2], 'seed': [398], 'hidden_size': [200], 'bias': [True], 'dropout_rate': [0.1], 'ode_nn': [((100, 'relu'),)], 'readout_nn': [((100, 'relu'),)], 'enc_nn': [((100, 'relu'),)], 'use_rnn': [True], 'residual_enc_dec': [True], 'func_appl_X': [[]], 'solver': ['euler'], 'weight': [0.5], 'weight_decay': [1.0], 'input_sig': [True], 'level': [3], 'data_dict': ['PF_BSUP_dict_CS2_4'], 'test_data_dict': ['PF_BSUP_dict_CS2_test_4'], 'which_loss': ['IO'], 'coord_wise_tau': [False], 'use_y_for_ode': [False], 'masked': [False], 'plot': [True], 'evaluate': [True], 'paths_to_plot': [(0, 1, 2, 3, 4)], 'plot_same_yaxis': [False], 'use_cond_exp': [True], 'saved_models_path': ['../data/saved_models_BSUncertainParams_CS/'], 'dataset_id': [1]}\n",
      "param_dict: {'epochs': [200], 'batch_size': [200], 'save_every': [1], 'learning_rate': [0.001], 'test_size': [0.2], 'seed': [398], 'hidden_size': [200], 'bias': [True], 'dropout_rate': [0.1], 'ode_nn': [((100, 'relu'),)], 'readout_nn': [((100, 'relu'),)], 'enc_nn': [((100, 'relu'),)], 'use_rnn': [True], 'residual_enc_dec': [True], 'func_appl_X': [[]], 'solver': ['euler'], 'weight': [0.5], 'weight_decay': [1.0], 'input_sig': [True], 'level': [3], 'data_dict': ['PF_BSUP_dict_CS2_5'], 'test_data_dict': ['PF_BSUP_dict_CS2_test_5'], 'which_loss': ['IO'], 'coord_wise_tau': [False], 'use_y_for_ode': [False], 'masked': [False], 'plot': [True], 'evaluate': [True], 'paths_to_plot': [(0, 1, 2, 3, 4)], 'plot_same_yaxis': [False], 'use_cond_exp': [True], 'saved_models_path': ['../data/saved_models_BSUncertainParams_CS/'], 'dataset_id': [1]}\n",
      "param_dict: {'epochs': [200], 'batch_size': [200], 'save_every': [1], 'learning_rate': [0.001], 'test_size': [0.2], 'seed': [398], 'hidden_size': [200], 'bias': [True], 'dropout_rate': [0.1], 'ode_nn': [((100, 'relu'),)], 'readout_nn': [((100, 'relu'),)], 'enc_nn': [((100, 'relu'),)], 'use_rnn': [True], 'residual_enc_dec': [True], 'func_appl_X': [[]], 'solver': ['euler'], 'weight': [0.5], 'weight_decay': [1.0], 'input_sig': [True], 'level': [3], 'data_dict': ['PF_BSUP_dict_CS2_6'], 'test_data_dict': ['PF_BSUP_dict_CS2_test_6'], 'which_loss': ['IO'], 'coord_wise_tau': [False], 'use_y_for_ode': [False], 'masked': [False], 'plot': [True], 'evaluate': [True], 'paths_to_plot': [(0, 1, 2, 3, 4)], 'plot_same_yaxis': [False], 'use_cond_exp': [True], 'saved_models_path': ['../data/saved_models_BSUncertainParams_CS/'], 'dataset_id': [1]}\n",
      "param_dict: {'epochs': [200], 'batch_size': [200], 'save_every': [1], 'learning_rate': [0.001], 'test_size': [0.2], 'seed': [398], 'hidden_size': [100, 200], 'bias': [True], 'dropout_rate': [0.1], 'ode_nn': [((100, 'tanh'),)], 'readout_nn': [((100, 'tanh'),)], 'enc_nn': [((100, 'tanh'),)], 'use_rnn': [True, False], 'residual_enc_dec': [True], 'func_appl_X': [['power-2']], 'solver': ['euler'], 'weight': [0.5], 'weight_decay': [1.0], 'input_sig': [True, False], 'level': [3], 'data_dict': ['PF_BMwUD_dict1'], 'test_data_dict': ['PF_BMwUD_dict1_test'], 'which_loss': ['IO'], 'coord_wise_tau': [False], 'use_y_for_ode': [False], 'masked': [False], 'plot': [True], 'evaluate': [True], 'paths_to_plot': [(0, 1, 2, 3, 4)], 'plot_variance': [True], 'plot_same_yaxis': [False], 'use_cond_exp': [True], 'saved_models_path': ['../data/saved_models_BMwUncertainDrift/'], 'dataset_id': [1]}\n",
      "param_dict: {'epochs': [200], 'batch_size': [200], 'save_every': [1], 'learning_rate': [0.001], 'test_size': [0.2], 'seed': [398], 'hidden_size': [100, 200], 'bias': [True], 'dropout_rate': [0.1], 'ode_nn': [((100, 'tanh'),)], 'readout_nn': [((100, 'tanh'),)], 'enc_nn': [((100, 'tanh'),)], 'use_rnn': [True, False], 'residual_enc_dec': [True], 'func_appl_X': [[]], 'solver': ['euler'], 'weight': [0.5], 'weight_decay': [1.0], 'input_sig': [True, False], 'level': [3], 'data_dict': ['IO_BM_Filter_dict_1'], 'test_data_dict': ['IO_BM_Filter_dict_1_test'], 'which_loss': ['very_easy'], 'coord_wise_tau': [False], 'use_y_for_ode': [False], 'masked': [False], 'plot': [True], 'evaluate': [True], 'paths_to_plot': [(0, 1, 2, 3, 4)], 'plot_variance': [False], 'plot_same_yaxis': [False], 'use_cond_exp': [True], 'saved_models_path': ['../data/saved_models_IO_BMFilter/'], 'dataset_id': [1]}\n",
      "param_dict: {'epochs': [200], 'batch_size': [200], 'save_every': [1], 'learning_rate': [0.001], 'test_size': [0.2], 'seed': [398], 'hidden_size': [100], 'bias': [True], 'dropout_rate': [0.1], 'ode_nn': [((100, 'tanh'),)], 'readout_nn': [((100, 'tanh'),)], 'enc_nn': [((100, 'tanh'),)], 'use_rnn': [True], 'residual_enc_dec': [True], 'func_appl_X': [[]], 'solver': ['euler'], 'weight': [0.5], 'weight_decay': [1.0], 'input_sig': [True], 'level': [3], 'data_dict': ['IO_BS_dict'], 'test_data_dict': ['IO_BS_dict_test'], 'which_loss': ['IO', 'easy'], 'which_val_loss': ['jump'], 'coord_wise_tau': [False], 'use_y_for_ode': [False], 'masked': [False], 'plot': [True], 'evaluate': [True], 'paths_to_plot': [(0, 1, 2, 3, 4)], 'plot_same_yaxis': [False], 'use_cond_exp': [True], 'saved_models_path': ['../data/saved_models_BS_learn_jumps/'], 'dataset_id': [1]}\n",
      "param_dict: {'epochs': [200], 'batch_size': [200], 'save_every': [1], 'learning_rate': [0.001], 'test_size': [0.2], 'seed': [398], 'hidden_size': [100], 'bias': [True], 'dropout_rate': [0.1], 'ode_nn': [((100, 'relu'),)], 'readout_nn': [((100, 'relu'),)], 'enc_nn': [((100, 'relu'),)], 'use_rnn': [True], 'residual_enc_dec': [True], 'func_appl_X': [[]], 'solver': ['euler'], 'weight': [0.5], 'weight_decay': [1.0], 'input_sig': [True], 'level': [3], 'data_dict': ['IO_BS_dict'], 'test_data_dict': ['IO_BS_dict_test'], 'which_loss': ['IO', 'easy'], 'which_val_loss': ['jump'], 'coord_wise_tau': [False], 'use_y_for_ode': [False], 'masked': [False], 'plot': [True], 'evaluate': [True], 'paths_to_plot': [(0, 1, 2, 3, 4)], 'plot_same_yaxis': [False], 'use_cond_exp': [True], 'saved_models_path': ['../data/saved_models_BS_learn_jumps/'], 'dataset_id': [1]}\n",
      "param_dict: {'epochs': [200], 'batch_size': [200], 'save_every': [1], 'learning_rate': [0.001], 'test_size': [0.2], 'seed': [398], 'hidden_size': [200], 'bias': [True], 'dropout_rate': [0.1], 'ode_nn': [((100, 'tanh'),)], 'readout_nn': [((100, 'tanh'),)], 'enc_nn': [((100, 'tanh'),)], 'use_rnn': [True, False], 'residual_enc_dec': [True, False], 'func_appl_X': [[]], 'solver': ['euler'], 'weight': [0.5], 'weight_decay': [1.0], 'input_sig': [True, False], 'level': [3], 'data_dict': ['PF_CIR_dict1'], 'test_data_dict': ['PF_CIR_dict1_test'], 'which_loss': ['IO'], 'coord_wise_tau': [False], 'use_y_for_ode': [False], 'masked': [False], 'plot': [True], 'evaluate': [True], 'paths_to_plot': [(0, 1, 2, 3, 4)], 'plot_same_yaxis': [False], 'use_cond_exp': [True], 'saved_models_path': ['../data/saved_models_CIRUncertainParams/'], 'dataset_id': [1]}\n",
      "param_dict: {'epochs': [200], 'batch_size': [200], 'save_every': [1], 'learning_rate': [0.001], 'test_size': [0.2], 'seed': [398], 'hidden_size': [200], 'bias': [True], 'dropout_rate': [0.1], 'ode_nn': [((100, 'relu'),)], 'readout_nn': [((100, 'relu'),)], 'enc_nn': [((100, 'relu'),)], 'use_rnn': [True, False], 'residual_enc_dec': [True, False], 'func_appl_X': [[]], 'solver': ['euler'], 'weight': [0.5], 'weight_decay': [1.0], 'input_sig': [True, False], 'level': [3], 'data_dict': ['PF_CIR_dict1'], 'test_data_dict': ['PF_CIR_dict1_test'], 'which_loss': ['IO'], 'coord_wise_tau': [False], 'use_y_for_ode': [False], 'masked': [False], 'plot': [True], 'evaluate': [True], 'paths_to_plot': [(0, 1, 2, 3, 4)], 'plot_same_yaxis': [False], 'use_cond_exp': [True], 'saved_models_path': ['../data/saved_models_CIRUncertainParams/'], 'dataset_id': [1]}\n",
      "param_dict: {'epochs': [200], 'batch_size': [200], 'save_every': [1], 'learning_rate': [0.001], 'test_size': [0.2], 'seed': [398], 'hidden_size': [200], 'bias': [True], 'dropout_rate': [0.1], 'ode_nn': [((100, 'tanh'),)], 'readout_nn': [((100, 'tanh'),)], 'enc_nn': [((100, 'tanh'),)], 'use_rnn': [True, False], 'residual_enc_dec': [True, False], 'func_appl_X': [[]], 'solver': ['euler'], 'weight': [0.5], 'weight_decay': [1.0], 'input_sig': [True, False], 'level': [3], 'data_dict': ['PF_CIR_dict2'], 'test_data_dict': ['PF_CIR_dict2_test'], 'which_loss': ['IO'], 'coord_wise_tau': [False], 'use_y_for_ode': [False], 'masked': [False], 'plot': [True], 'evaluate': [True], 'paths_to_plot': [(0, 1, 2, 3, 4)], 'plot_same_yaxis': [False], 'use_cond_exp': [True], 'saved_models_path': ['../data/saved_models_CIRUncertainParams/'], 'dataset_id': [1]}\n",
      "param_dict: {'epochs': [200], 'batch_size': [200], 'save_every': [1], 'learning_rate': [0.001], 'test_size': [0.2], 'seed': [398], 'hidden_size': [200], 'bias': [True], 'dropout_rate': [0.1], 'ode_nn': [((100, 'relu'),)], 'readout_nn': [((100, 'relu'),)], 'enc_nn': [((100, 'relu'),)], 'use_rnn': [True, False], 'residual_enc_dec': [True, False], 'func_appl_X': [[]], 'solver': ['euler'], 'weight': [0.5], 'weight_decay': [1.0], 'input_sig': [True, False], 'level': [3], 'data_dict': ['PF_CIR_dict2'], 'test_data_dict': ['PF_CIR_dict2_test'], 'which_loss': ['IO'], 'coord_wise_tau': [False], 'use_y_for_ode': [False], 'masked': [False], 'plot': [True], 'evaluate': [True], 'paths_to_plot': [(0, 1, 2, 3, 4)], 'plot_same_yaxis': [False], 'use_cond_exp': [True], 'saved_models_path': ['../data/saved_models_CIRUncertainParams/'], 'dataset_id': [1]}\n",
      "param_dict: {'epochs': [200], 'batch_size': [200], 'save_every': [1], 'learning_rate': [0.001], 'test_size': [0.2], 'seed': [398], 'hidden_size': [200], 'bias': [True], 'dropout_rate': [0.1], 'ode_nn': [((100, 'tanh'),)], 'readout_nn': [((100, 'tanh'),)], 'enc_nn': [((100, 'tanh'),)], 'use_rnn': [True, False], 'residual_enc_dec': [True, False], 'func_appl_X': [[]], 'solver': ['euler'], 'weight': [0.5], 'weight_decay': [1.0], 'input_sig': [True, False], 'level': [3], 'data_dict': ['PF_CIR_dict3'], 'test_data_dict': ['PF_CIR_dict3_test'], 'which_loss': ['IO'], 'coord_wise_tau': [False], 'use_y_for_ode': [False], 'masked': [False], 'plot': [True], 'evaluate': [True], 'paths_to_plot': [(0, 1, 2, 3, 4)], 'plot_same_yaxis': [False], 'use_cond_exp': [True], 'saved_models_path': ['../data/saved_models_CIRUncertainParams/'], 'dataset_id': [1]}\n",
      "param_dict: {'epochs': [200], 'batch_size': [200], 'save_every': [1], 'learning_rate': [0.001], 'test_size': [0.2], 'seed': [398], 'hidden_size': [200], 'bias': [True], 'dropout_rate': [0.1], 'ode_nn': [((100, 'relu'),)], 'readout_nn': [((100, 'relu'),)], 'enc_nn': [((100, 'relu'),)], 'use_rnn': [True, False], 'residual_enc_dec': [True, False], 'func_appl_X': [[]], 'solver': ['euler'], 'weight': [0.5], 'weight_decay': [1.0], 'input_sig': [True, False], 'level': [3], 'data_dict': ['PF_CIR_dict3'], 'test_data_dict': ['PF_CIR_dict3_test'], 'which_loss': ['IO'], 'coord_wise_tau': [False], 'use_y_for_ode': [False], 'masked': [False], 'plot': [True], 'evaluate': [True], 'paths_to_plot': [(0, 1, 2, 3, 4)], 'plot_same_yaxis': [False], 'use_cond_exp': [True], 'saved_models_path': ['../data/saved_models_CIRUncertainParams/'], 'dataset_id': [1]}\n",
      "param_dict: {'epochs': [200], 'batch_size': [200], 'save_every': [1], 'learning_rate': [0.001], 'test_size': [0.2], 'seed': [398], 'hidden_size': [200], 'bias': [True], 'dropout_rate': [0.1], 'ode_nn': [((100, 'tanh'),)], 'readout_nn': [((100, 'tanh'),)], 'enc_nn': [((100, 'tanh'),)], 'use_rnn': [True, False], 'residual_enc_dec': [True, False], 'func_appl_X': [[]], 'solver': ['euler'], 'weight': [0.5], 'weight_decay': [1.0], 'input_sig': [True, False], 'level': [3], 'data_dict': ['PF_CIR_dict4'], 'test_data_dict': ['PF_CIR_dict4_test'], 'which_loss': ['IO'], 'coord_wise_tau': [False], 'use_y_for_ode': [False], 'masked': [False], 'plot': [True], 'evaluate': [True], 'paths_to_plot': [(0, 1, 2, 3, 4)], 'plot_same_yaxis': [False], 'use_cond_exp': [True], 'saved_models_path': ['../data/saved_models_CIRUncertainParams/'], 'dataset_id': [1]}\n",
      "param_dict: {'epochs': [200], 'batch_size': [200], 'save_every': [1], 'learning_rate': [0.001], 'test_size': [0.2], 'seed': [398], 'hidden_size': [200], 'bias': [True], 'dropout_rate': [0.1], 'ode_nn': [((100, 'relu'),)], 'readout_nn': [((100, 'relu'),)], 'enc_nn': [((100, 'relu'),)], 'use_rnn': [True, False], 'residual_enc_dec': [True, False], 'func_appl_X': [[]], 'solver': ['euler'], 'weight': [0.5], 'weight_decay': [1.0], 'input_sig': [True, False], 'level': [3], 'data_dict': ['PF_CIR_dict4'], 'test_data_dict': ['PF_CIR_dict4_test'], 'which_loss': ['IO'], 'coord_wise_tau': [False], 'use_y_for_ode': [False], 'masked': [False], 'plot': [True], 'evaluate': [True], 'paths_to_plot': [(0, 1, 2, 3, 4)], 'plot_same_yaxis': [False], 'use_cond_exp': [True], 'saved_models_path': ['../data/saved_models_CIRUncertainParams/'], 'dataset_id': [1]}\n",
      "param_dict: {'epochs': [200], 'batch_size': [200], 'save_every': [1], 'learning_rate': [0.001], 'test_size': [0.2], 'seed': [398], 'hidden_size': [200], 'bias': [True], 'dropout_rate': [0.1], 'ode_nn': [((100, 'tanh'),)], 'readout_nn': [((100, 'tanh'),)], 'enc_nn': [((100, 'tanh'),)], 'use_rnn': [True, False], 'residual_enc_dec': [True, False], 'func_appl_X': [[]], 'solver': ['euler'], 'weight': [0.5], 'weight_decay': [1.0], 'input_sig': [True, False], 'level': [3], 'data_dict': ['IO_BMClass_dict'], 'test_data_dict': ['IO_BMClass_dict_test'], 'which_loss': ['IO'], 'coord_wise_tau': [False], 'use_y_for_ode': [False], 'masked': [False], 'plot': [True], 'evaluate': [True], 'paths_to_plot': [(0, 1, 2, 3, 4)], 'plot_same_yaxis': [False], 'use_cond_exp': [True], 'saved_models_path': ['../data/saved_models_BMClassification/'], 'dataset_id': [1]}\n",
      "param_dict: {'epochs': [200], 'batch_size': [200], 'save_every': [1], 'learning_rate': [0.001], 'test_size': [0.2], 'seed': [398], 'hidden_size': [200], 'bias': [True], 'dropout_rate': [0.1], 'ode_nn': [((100, 'relu'),)], 'readout_nn': [((100, 'relu'),)], 'enc_nn': [((100, 'relu'),)], 'use_rnn': [True, False], 'residual_enc_dec': [True, False], 'func_appl_X': [[]], 'solver': ['euler'], 'weight': [0.5], 'weight_decay': [1.0], 'input_sig': [True, False], 'level': [3], 'data_dict': ['IO_BMClass_dict'], 'test_data_dict': ['IO_BMClass_dict_test'], 'which_loss': ['IO'], 'coord_wise_tau': [False], 'use_y_for_ode': [False], 'masked': [False], 'plot': [True], 'evaluate': [True], 'paths_to_plot': [(0, 1, 2, 3, 4)], 'plot_same_yaxis': [False], 'use_cond_exp': [True], 'saved_models_path': ['../data/saved_models_BMClassification/'], 'dataset_id': [1]}\n",
      "param_dict: {'epochs': [200], 'batch_size': [200], 'save_every': [1], 'learning_rate': [0.001], 'test_size': [0.2], 'seed': [398], 'hidden_size': [400], 'bias': [True], 'dropout_rate': [0.1], 'ode_nn': [((200, 'tanh'),)], 'readout_nn': [((200, 'tanh'),)], 'enc_nn': [((200, 'tanh'),)], 'use_rnn': [True, False], 'func_appl_X': [[]], 'solver': ['euler'], 'weight': [0.5], 'weight_decay': [1.0], 'input_sig': [False, True], 'level': [3], 'residual_enc_dec': [False, True], 'data_dict': ['BM_Quantiles'], 'test_data_dict': ['BM_Quantiles_test'], 'which_loss': ['quantile_jump', 'quantile'], 'loss_quantiles': [[0.1, 0.5, 0.9]], 'which_val_loss': ['quantile'], 'plot': [True], 'evaluate': [True], 'paths_to_plot': [(0, 1, 2, 3, 4)], 'saved_models_path': ['../data/saved_models_BMandQuantiles/'], 'use_current_y_for_ode': [False], 'use_y_for_ode': [False], 'use_observation_as_input': [True, 'lambda x: np.random.random(1) < 1-x/200'], 'dataset_id': [1]}\n",
      "param_dict: {'epochs': [200], 'batch_size': [200], 'save_every': [5], 'learning_rate': [0.001], 'test_size': [0.2], 'seed': [398], 'hidden_size': [10], 'bias': [True], 'dropout_rate': [0.1], 'ode_nn': [((50, 'tanh'), (50, 'tanh'))], 'readout_nn': [((50, 'tanh'), (50, 'tanh'))], 'enc_nn': [((50, 'tanh'), (50, 'tanh'))], 'use_rnn': [False], 'func_appl_X': [[]], 'solver': ['euler'], 'weight': [0.5], 'weight_decay': [1.0], 'data_dict': ['poisson_pp_dict'], 'plot': [True], 'evaluate': [True], 'paths_to_plot': [(0, 1, 2, 3, 4)], 'saved_models_path': ['../data/saved_models_PPP/'], 'dataset_id': [1]}\n",
      "param_dict: {'epochs': [200], 'batch_size': [200], 'save_every': [1], 'learning_rate': [0.001], 'test_size': [0.2], 'seed': [398], 'hidden_size': [10, 50], 'bias': [True], 'dropout_rate': [0.1], 'ode_nn': [((50, 'tanh'), (50, 'tanh'))], 'readout_nn': [((50, 'tanh'), (50, 'tanh'))], 'enc_nn': [((50, 'tanh'), (50, 'tanh'))], 'use_rnn': [False], 'func_appl_X': [[]], 'solver': ['euler'], 'weight': [0.5], 'weight_decay': [1.0], 'data_dict': ['FBM_1_dict'], 'plot': [True], 'evaluate': [True], 'paths_to_plot': [(0, 1, 2, 3, 4)], 'saved_models_path': ['../data/saved_models_FBM/'], 'dataset_id': [1]}\n",
      "param_dict: {'epochs': [200], 'batch_size': [50, 200], 'save_every': [1], 'learning_rate': [0.001], 'test_size': [0.2], 'seed': [398], 'hidden_size': [10, 50], 'bias': [True], 'dropout_rate': [0.1], 'ode_nn': [((50, 'tanh'), (50, 'tanh'))], 'readout_nn': [((50, 'tanh'), (50, 'tanh'))], 'enc_nn': [((50, 'tanh'), (50, 'tanh'))], 'use_rnn': [False], 'func_appl_X': [[]], 'solver': ['euler'], 'weight': [0.5], 'weight_decay': [1.0], 'input_sig': [True], 'level': [2, 3], 'data_dict': ['FBM_1_dict'], 'which_loss': ['standard', 'easy'], 'plot': [True], 'evaluate': [True], 'paths_to_plot': [(0, 1, 2, 3, 4)], 'saved_models_path': ['../data/saved_models_FBM/'], 'dataset_id': [1]}\n",
      "param_dict: {'epochs': [200], 'batch_size': [50, 200], 'save_every': [1], 'learning_rate': [0.001], 'test_size': [0.2], 'seed': [398], 'hidden_size': [10, 50], 'bias': [True], 'dropout_rate': [0.1], 'ode_nn': [((200, 'tanh'), (200, 'tanh'))], 'readout_nn': [((200, 'tanh'), (200, 'tanh'))], 'enc_nn': [((200, 'tanh'), (200, 'tanh'))], 'use_rnn': [False], 'func_appl_X': [[]], 'solver': ['euler'], 'weight': [0.5], 'weight_decay': [1.0], 'input_sig': [True], 'level': [2, 3], 'data_dict': ['FBM_1_dict'], 'which_loss': ['standard', 'easy'], 'plot': [True], 'evaluate': [True], 'paths_to_plot': [(0, 1, 2, 3, 4)], 'saved_models_path': ['../data/saved_models_FBM/'], 'dataset_id': [1]}\n",
      "param_dict: {'epochs': [200], 'batch_size': [200], 'save_every': [1], 'learning_rate': [0.001], 'test_size': [0.2], 'seed': [398], 'hidden_size': [50, 100], 'bias': [True], 'dropout_rate': [0.1], 'ode_nn': [((200, 'tanh'), (200, 'tanh'))], 'readout_nn': [((200, 'tanh'), (200, 'tanh')), None], 'enc_nn': [((200, 'tanh'), (200, 'tanh'))], 'use_rnn': [True], 'func_appl_X': [[]], 'solver': ['euler'], 'weight': [0.5], 'weight_decay': [1.0], 'input_sig': [True, False], 'level': [3], 'data_dict': ['FBM_1_dict'], 'which_loss': ['easy'], 'plot': [True], 'evaluate': [True], 'paths_to_plot': [(0, 1, 2, 3, 4)], 'saved_models_path': ['../data/saved_models_FBM/'], 'dataset_id': [1]}\n",
      "param_dict: {'epochs': [200], 'batch_size': [200], 'save_every': [1], 'learning_rate': [0.001], 'test_size': [0.2], 'seed': [398], 'hidden_size': [50, 100], 'bias': [True], 'dropout_rate': [0.1], 'ode_nn': [((200, 'tanh'), (200, 'tanh'))], 'readout_nn': [((200, 'tanh'), (200, 'tanh'))], 'enc_nn': [((200, 'tanh'), (200, 'tanh'))], 'use_rnn': [False], 'func_appl_X': [[]], 'solver': ['euler'], 'weight': [0.5], 'weight_decay': [1.0], 'input_sig': [False], 'level': [3], 'data_dict': ['FBM_1_dict'], 'which_loss': ['easy'], 'plot': [True], 'evaluate': [True], 'paths_to_plot': [(0, 1, 2, 3, 4)], 'saved_models_path': ['../data/saved_models_FBM/'], 'dataset_id': [1]}\n",
      "param_dict: {'epochs': [200], 'batch_size': [200], 'save_every': [1], 'learning_rate': [0.001], 'test_size': [0.2], 'seed': [398], 'hidden_size': [50], 'bias': [True], 'dropout_rate': [0.1], 'ode_nn': [((200, 'tanh'), (200, 'tanh'))], 'readout_nn': [((200, 'tanh'), (200, 'tanh'))], 'enc_nn': [((200, 'tanh'), (200, 'tanh'))], 'use_rnn': [True], 'func_appl_X': [[]], 'solver': ['euler'], 'weight': [0.5], 'weight_decay': [1.0], 'input_sig': [True], 'level': [1, 2, 4, 5, 6, 7, 8, 9, 10], 'data_dict': ['FBM_1_dict'], 'which_loss': ['easy'], 'plot': [True], 'evaluate': [True], 'paths_to_plot': [(0, 1, 2, 3, 4)], 'saved_models_path': ['../data/saved_models_FBM/'], 'dataset_id': [1]}\n",
      "param_dict: {'epochs': [200], 'batch_size': [200], 'save_every': [1], 'learning_rate': [0.001], 'test_size': [0.2], 'seed': [398], 'hidden_size': [50], 'bias': [True], 'dropout_rate': [0.1], 'ode_nn': [((200, 'tanh'), (200, 'tanh'))], 'readout_nn': [((200, 'tanh'), (200, 'tanh'))], 'enc_nn': [((200, 'tanh'), (200, 'tanh'))], 'use_rnn': [True], 'func_appl_X': [[]], 'solver': ['euler'], 'weight': [0.5], 'weight_decay': [1.0], 'input_sig': [True], 'level': [1, 2, 4, 5, 6, 7, 8, 9, 10], 'data_dict': ['FBM_1_dict'], 'which_loss': ['easy'], 'plot': [True], 'evaluate': [True], 'paths_to_plot': [(0, 1, 2, 3, 4)], 'saved_models_path': ['../data/saved_models_FBM/'], 'dataset_id': [1]}\n",
      "param_dict: {'epochs': [200], 'batch_size': [200], 'save_every': [1], 'learning_rate': [0.001], 'test_size': [0.2], 'seed': [398], 'hidden_size': [100], 'bias': [True], 'dropout_rate': [0.1], 'ode_nn': [((100, 'tanh'),)], 'readout_nn': [((100, 'tanh'),), None], 'enc_nn': [((100, 'tanh'),)], 'use_rnn': [True], 'func_appl_X': [[]], 'solver': ['euler'], 'weight': [0.5], 'weight_decay': [1.0], 'input_sig': [True], 'level': [2], 'dataset': ['BM2DCorr'], 'dataset_id': [None], 'which_loss': ['easy'], 'coord_wise_tau': [False], 'use_y_for_ode': [True], 'masked': [True], 'plot': [True], 'evaluate': [True], 'paths_to_plot': [(0, 1, 2, 3, 4)], 'plot_same_yaxis': [True], 'saved_models_path': ['../data/saved_models_BM2D/']}\n",
      "param_dict: {'epochs': [200], 'batch_size': [200], 'save_every': [1], 'learning_rate': [0.001], 'test_size': [0.2], 'seed': [398], 'hidden_size': [100], 'bias': [True], 'dropout_rate': [0.1], 'ode_nn': [((100, 'relu'),)], 'readout_nn': [((100, 'relu'),), None], 'enc_nn': [((100, 'relu'),)], 'use_rnn': [True], 'func_appl_X': [[]], 'solver': ['euler'], 'weight': [0.5], 'weight_decay': [1.0], 'input_sig': [True], 'level': [2], 'dataset': ['BM2DCorr'], 'dataset_id': [None], 'which_loss': ['easy'], 'coord_wise_tau': [False], 'use_y_for_ode': [True], 'masked': [True], 'plot': [True], 'evaluate': [True], 'paths_to_plot': [(0, 1, 2, 3, 4)], 'plot_same_yaxis': [True], 'saved_models_path': ['../data/saved_models_BM2D/']}\n",
      "param_dict: {'epochs': [200], 'batch_size': [200], 'save_every': [1], 'learning_rate': [0.001], 'test_size': [0.2], 'seed': [398], 'hidden_size': [50], 'bias': [True], 'dropout_rate': [0.1], 'ode_nn': [((50, 'tanh'),)], 'readout_nn': [None], 'enc_nn': [((50, 'tanh'),)], 'func_appl_X': [[]], 'solver': ['euler'], 'weight': [0.5], 'weight_decay': [1.0], 'dataset': ['BMandVar'], 'dataset_id': [None], 'which_loss': ['easy'], 'coord_wise_tau': [False], 'use_y_for_ode': [True], 'use_rnn': [False], 'masked': [False], 'plot': [True], 'evaluate': [True], 'paths_to_plot': [(0, 1, 2, 3, 4)], 'plot_same_yaxis': [True], 'saved_models_path': ['../data/saved_models_BMandVar/']}\n",
      "param_dict: {'epochs': [200], 'batch_size': [200], 'save_every': [1], 'learning_rate': [0.001], 'test_size': [0.2], 'seed': [398], 'hidden_size': [50], 'bias': [True], 'dropout_rate': [0.1], 'ode_nn': [((50, 'tanh'),)], 'readout_nn': [None], 'enc_nn': [((50, 'tanh'),)], 'func_appl_X': [['power-2']], 'solver': ['euler'], 'weight': [0.5], 'weight_decay': [1.0], 'dataset': ['BM'], 'dataset_id': [None], 'which_loss': ['easy'], 'coord_wise_tau': [False], 'use_y_for_ode': [True], 'use_rnn': [False], 'masked': [False], 'plot': [True], 'plot_variance': [True], 'evaluate': [True], 'paths_to_plot': [(0, 1, 2, 3, 4)], 'plot_same_yaxis': [True], 'saved_models_path': ['../data/saved_models_BMandVar/']}\n",
      "param_dict: {'epochs': [200], 'batch_size': [200], 'save_every': [1], 'learning_rate': [0.001], 'test_size': [0.2], 'seed': [398], 'hidden_size': [50], 'bias': [True], 'dropout_rate': [0.1], 'ode_nn': [((50, 'tanh'), (50, 'tanh'))], 'readout_nn': [((50, 'tanh'), (50, 'tanh'))], 'enc_nn': [((50, 'tanh'), (50, 'tanh'))], 'func_appl_X': [[]], 'solver': ['euler'], 'weight': [0.5], 'weight_decay': [1.0], 'data_dict': ['BS_dep_intensity_dict'], 'dataset_id': [None], 'which_loss': ['easy'], 'coord_wise_tau': [False], 'use_y_for_ode': [True], 'use_rnn': [False], 'masked': [False], 'plot': [True], 'evaluate': [True], 'paths_to_plot': [(0, 1, 2, 3, 4)], 'plot_same_yaxis': [True], 'saved_models_path': ['../data/saved_models_DepIntensity/']}\n",
      "param_dict: {'epochs': [200], 'batch_size': [200], 'save_every': [1], 'learning_rate': [0.001], 'test_size': [0.2], 'seed': [398], 'hidden_size': [50], 'bias': [True], 'dropout_rate': [0.1], 'ode_nn': [((50, 'tanh'), (50, 'tanh'))], 'readout_nn': [((50, 'tanh'), (50, 'tanh'))], 'enc_nn': [((50, 'tanh'), (50, 'tanh'))], 'func_appl_X': [[]], 'solver': ['euler'], 'weight': [0.5], 'weight_decay': [1.0], 'data_dict': ['BS_dep_intensity_dict'], 'dataset_id': [None], 'which_loss': ['easy'], 'coord_wise_tau': [False], 'use_y_for_ode': [True], 'use_rnn': [True], 'input_sig': [True], 'level': [3], 'masked': [False], 'plot': [True], 'evaluate': [True], 'paths_to_plot': [(0, 1, 2, 3, 4)], 'plot_same_yaxis': [True], 'saved_models_path': ['../data/saved_models_DepIntensity/']}\n",
      "param_dict: {'epochs': [175], 'batch_size': [50], 'save_every': [1], 'learning_rate': [0.001], 'test_size': [0.2], 'hidden_size': [50], 'bias': [True], 'dropout_rate': [0.1], 'ode_nn': [((50, 'tanh'),)], 'readout_nn': [((50, 'tanh'),)], 'enc_nn': [((50, 'tanh'),)], 'use_rnn': [True], 'solver': ['euler'], 'weight': [0.5], 'weight_decay': [1.0], 'input_sig': [True], 'level': [2], 'dataset': ['physionet'], 'dataset_id': [None], 'which_loss': ['easy'], 'quantization': [0.016], 'n_samples': [8000], 'saved_models_path': ['../data/saved_models_PhysioNet/']}\n",
      "param_dict: {'epochs': [175], 'batch_size': [50], 'save_every': [1], 'learning_rate': [0.001], 'test_size': [0.2], 'hidden_size': [50], 'bias': [True], 'dropout_rate': [0.1], 'ode_nn': [((50, 'tanh'),)], 'readout_nn': [((50, 'tanh'),)], 'enc_nn': [((50, 'tanh'),)], 'use_rnn': [True], 'solver': ['euler'], 'weight': [0.5], 'weight_decay': [1.0], 'input_sig': [True], 'level': [2], 'dataset': ['physionet'], 'dataset_id': [None], 'which_loss': ['easy'], 'quantization': [0.016], 'n_samples': [8000], 'saved_models_path': ['../data/saved_models_PhysioNet/']}\n",
      "param_dict: {'epochs': [200], 'batch_size': [100], 'save_every': [1], 'learning_rate': [0.001], 'test_size': [0.2], 'seed': [398], 'hidden_size': [50, 100], 'bias': [True], 'dropout_rate': [0.1], 'ode_nn': [((50, 'tanh'),)], 'readout_nn': [((50, 'tanh'),)], 'enc_nn': [((50, 'tanh'),)], 'use_rnn': [True], 'solver': ['euler'], 'weight': [0.5], 'weight_decay': [1.0], 'input_sig': [False, True], 'level': [2], 'dataset': ['climate'], 'data_index': [0, 1, 2, 3, 4], 'which_loss': ['easy'], 'delta_t': [0.1], 'saved_models_path': ['../data/saved_models_Climate/'], 'dataset_id': [1]}\n",
      "param_dict: {'epochs': [200], 'batch_size': [100], 'save_every': [1], 'learning_rate': [0.001], 'test_size': [0.2], 'seed': [398], 'hidden_size': [50, 100], 'bias': [True], 'dropout_rate': [0.1], 'ode_nn': [((200, 'tanh'), (200, 'tanh'))], 'readout_nn': [((200, 'tanh'), (200, 'tanh'))], 'enc_nn': [((200, 'tanh'), (200, 'tanh'))], 'use_rnn': [True], 'solver': ['euler'], 'weight': [0.5], 'weight_decay': [1.0], 'input_sig': [False, True], 'level': [2], 'dataset': ['climate'], 'data_index': [0, 1, 2, 3, 4], 'which_loss': ['easy'], 'delta_t': [0.1], 'saved_models_path': ['../data/saved_models_Climate/'], 'dataset_id': [1]}\n",
      "param_dict: {'epochs': [200], 'batch_size': [200], 'save_every': [1], 'learning_rate': [0.001], 'test_size': [0.2], 'seed': [398], 'hidden_size': [50, 100, 200, 400], 'bias': [True], 'dropout_rate': [0.1], 'ode_nn': [((200, 'tanh'),)], 'readout_nn': [((200, 'tanh'),)], 'enc_nn': [((200, 'tanh'),)], 'use_rnn': [False, True], 'func_appl_X': [[]], 'solver': ['euler'], 'weight': [0.5], 'weight_decay': [1.0], 'input_sig': [False, True], 'level': [3], 'data_dict': ['DP_dict1', 'DP_dict2'], 'which_loss': ['easy'], 'plot': [True], 'evaluate': [True], 'paths_to_plot': [(0, 1, 2, 3, 4)], 'saved_models_path': ['../data/saved_models_DoublePendulum/'], 'dataset_id': [1]}\n",
      "param_dict: {'epochs': [200], 'batch_size': [200], 'save_every': [1], 'learning_rate': [0.001], 'test_size': [0.2], 'seed': [398], 'hidden_size': [50, 100, 200, 400], 'bias': [True], 'dropout_rate': [0.1], 'ode_nn': [((200, 'relu'),)], 'readout_nn': [((200, 'relu'),)], 'enc_nn': [((200, 'relu'),)], 'use_rnn': [False, True], 'func_appl_X': [[]], 'solver': ['euler'], 'weight': [0.5], 'weight_decay': [1.0], 'input_sig': [False, True], 'level': [3], 'data_dict': ['DP_dict1', 'DP_dict2'], 'which_loss': ['easy'], 'plot': [True], 'evaluate': [True], 'paths_to_plot': [(0, 1, 2, 3, 4)], 'saved_models_path': ['../data/saved_models_DoublePendulum/'], 'dataset_id': [1]}\n",
      "param_dict: {'epochs': [200], 'batch_size': [200], 'save_every': [1], 'learning_rate': [0.001], 'test_size': [0.2], 'seed': [398], 'hidden_size': [400], 'bias': [True], 'dropout_rate': [0.1], 'ode_nn': [((200, 'tanh'),)], 'readout_nn': [((200, 'tanh'),)], 'enc_nn': [((200, 'tanh'),)], 'use_rnn': [True], 'func_appl_X': [[]], 'solver': ['euler'], 'weight': [0.5], 'weight_decay': [1.0], 'input_sig': [False], 'level': [3], 'data_dict': ['DP_dict3'], 'which_loss': ['easy'], 'plot': [True], 'evaluate': [True], 'paths_to_plot': [(0, 1, 2, 3, 4)], 'saved_models_path': ['../data/saved_models_DoublePendulum/'], 'dataset_id': [1]}\n",
      "param_dict: {'epochs': [200], 'batch_size': [200], 'save_every': [1], 'learning_rate': [0.001], 'test_size': [0.2], 'seed': [398], 'hidden_size': [200], 'bias': [True], 'dropout_rate': [0.1], 'ode_nn': [((100, 'tanh'),)], 'readout_nn': [((100, 'tanh'),), None], 'enc_nn': [((100, 'tanh'),)], 'use_rnn': [True], 'func_appl_X': [[]], 'solver': ['euler'], 'weight': [0.5], 'weight_decay': [1.0], 'input_sig': [True], 'level': [2], 'data_dict': ['BM_Filter_dict_1'], 'test_data_dict': ['BM_Filter_dict_testdata'], 'which_loss': ['easy'], 'use_y_for_ode': [True], 'masked': [True], 'plot': [True], 'evaluate': [True], 'paths_to_plot': [(0, 1, 2, 3, 4)], 'plot_same_yaxis': [True], 'saved_models_path': ['../data/saved_models_BMFiltering/'], 'dataset_id': [1]}\n",
      "param_dict: {'epochs': [200], 'batch_size': [200], 'save_every': [1], 'learning_rate': [0.001], 'test_size': [0.2], 'seed': [398], 'hidden_size': [400], 'bias': [True], 'dropout_rate': [0.1], 'ode_nn': [((200, 'relu'),)], 'readout_nn': [((200, 'relu'),), None], 'enc_nn': [((200, 'relu'),)], 'use_rnn': [True], 'func_appl_X': [[]], 'solver': ['euler'], 'weight': [0.5], 'weight_decay': [1.0], 'input_sig': [True, False], 'level': [2], 'data_dict': ['BM_TimeLag_dict_1', 'BM_TimeLag_dict_2'], 'test_data_dict': ['BM_TimeLag_dict_testdata'], 'which_loss': ['easy'], 'residual_enc_dec': [False], 'ode_input_scaling_func': ['tanh'], 'enc_input_t': [True], 'coord_wise_tau': [True], 'use_y_for_ode': [True], 'masked': [True], 'plot': [True], 'evaluate': [True], 'paths_to_plot': [(0, 1, 2, 3, 4)], 'plot_same_yaxis': [True], 'saved_models_path': ['../data/saved_models_BMTimeLag/'], 'dataset_id': [1]}\n",
      "param_dict: {'epochs': [100], 'batch_size': [100], 'save_every': [1], 'learning_rate': [0.001], 'test_size': [0.2], 'seed': [398], 'hidden_size': [10], 'bias': [True], 'dropout_rate': [0.1], 'ode_nn': [((50, 'tanh'), (50, 'tanh'))], 'readout_nn': [((50, 'tanh'), (50, 'tanh'))], 'enc_nn': [((50, 'tanh'), (50, 'tanh'))], 'use_rnn': [False], 'func_appl_X': [[]], 'solver': ['euler'], 'weight': [0.5], 'weight_decay': [1.0], 'which_loss': ['easy'], 'dataset': ['OrnsteinUhlenbeckMultiDimensional'], 'dataset_id': [None], 'plot': [True], 'paths_to_plot': [(0,)], 'evaluate': [True], 'saved_models_path': ['../data/saved_models_OrnsteinUhlenbeckMultiDimensional/']}\n",
      "param_dict: {'epochs': [100], 'batch_size': [100], 'save_every': [1], 'learning_rate': [0.001], 'test_size': [0.2], 'seed': [398], 'hidden_size': [10], 'bias': [True], 'dropout_rate': [0.1], 'ode_nn': [((50, 'tanh'), (50, 'tanh'))], 'readout_nn': [((50, 'tanh'), (50, 'tanh'))], 'enc_nn': [((50, 'tanh'), (50, 'tanh'))], 'use_rnn': [False], 'func_appl_X': [[]], 'solver': ['euler'], 'weight': [0.5], 'weight_decay': [1.0], 'which_loss': ['easy_vol'], 'dataset': ['OrnsteinUhlenbeckForZ'], 'dataset_id': [None], 'use_cond_exp': [False], 'eval_use_true_paths': [True], 'plot': [True], 'paths_to_plot': [(0,)], 'evaluate': [True], 'saved_models_path': ['../data/saved_models_OrnsteinUhlenbeckForZ/']}\n"
     ]
    }
   ],
   "source": [
    "import data_utils"
   ],
   "metadata": {
    "collapsed": false,
    "ExecuteTime": {
     "end_time": "2025-06-13T13:35:19.146984100Z",
     "start_time": "2025-06-13T13:35:18.055803500Z"
    }
   },
   "id": "a9b942ac999ddbcd"
  },
  {
   "cell_type": "code",
   "execution_count": 3,
   "outputs": [
    {
     "name": "stdout",
     "output_type": "stream",
     "text": [
      "mob30009889\n",
      "SERVER=False\n",
      "{'FBMmethod': 'daviesharte', 'S0': 2, 'dimension': 1, 'dt': 0.01, 'hurst': 0.75, 'maturity': 1.0, 'mean': 1.5, 'model_name': 'OrnsteinUhlenbeckZ', 'nb_paths': 10000, 'nb_steps': 100, 'obs_perc': 1.0, 'return_vol': False, 'scheme': 'euler', 'speed': 0.3, 'v0': 1, 'volatility': 0.3}\n",
      "using loss: easy_vol\n",
      "neuralODE use input scaling with tanh\n",
      "use residual network: input_size=1, output_size=10\n",
      "use residual network: input_size=10, output_size=1\n",
      "model-id: None\n",
      "\n",
      "using CPU\n",
      "input_coords: [0]\n",
      "output_coords: [0]\n",
      "input_size: 1\n",
      "output_size: 1\n",
      "signature_coords: [0]\n",
      "new model_id=83\n",
      "model params:\n",
      "{\"batch_size\": 100, \"bias\": true, \"data_dict\": null, \"dataset\": \"OrnsteinUhlenbeckZ\", \"dataset_id\": 91, \"dropout_rate\": 0.1, \"enc_nn\": [[50, \"tanh\"], [50, \"tanh\"]], \"epochs\": 100, \"hidden_size\": 10, \"input_size\": 1, \"learning_rate\": 0.001, \"ode_nn\": [[50, \"tanh\"], [50, \"tanh\"]], \"optimal_val_loss\": NaN, \"options\": {\"eval_use_true_paths\": true, \"use_cond_exp\": false, \"which_loss\": \"easy_vol\"}, \"output_size\": 1, \"readout_nn\": [[50, \"tanh\"], [50, \"tanh\"]], \"seed\": 398, \"solver\": \"euler\", \"test_size\": 0.2, \"use_rnn\": false, \"weight\": 0.5, \"weight_decay\": 1.0}\n",
      "initiate new model ...\n",
      "\n",
      "model overview:\n",
      "NJODE(\n",
      "  (ode_f): ODEFunc(\n",
      "    (f): Sequential(\n",
      "      (0): Linear(in_features=13, out_features=50, bias=True)\n",
      "      (1): Tanh()\n",
      "      (2): Dropout(p=0.1, inplace=False)\n",
      "      (3): Linear(in_features=50, out_features=50, bias=True)\n",
      "      (4): Tanh()\n",
      "      (5): Dropout(p=0.1, inplace=False)\n",
      "      (6): Linear(in_features=50, out_features=10, bias=True)\n",
      "    )\n",
      "  )\n",
      "  (encoder_map): FFNN(\n",
      "    (ffnn): Sequential(\n",
      "      (0): Linear(in_features=1, out_features=50, bias=True)\n",
      "      (1): Tanh()\n",
      "      (2): Dropout(p=0.1, inplace=False)\n",
      "      (3): Linear(in_features=50, out_features=50, bias=True)\n",
      "      (4): Tanh()\n",
      "      (5): Dropout(p=0.1, inplace=False)\n",
      "      (6): Linear(in_features=50, out_features=10, bias=True)\n",
      "    )\n",
      "  )\n",
      "  (readout_map): FFNN(\n",
      "    (ffnn): Sequential(\n",
      "      (0): Linear(in_features=10, out_features=50, bias=True)\n",
      "      (1): Tanh()\n",
      "      (2): Dropout(p=0.1, inplace=False)\n",
      "      (3): Linear(in_features=50, out_features=50, bias=True)\n",
      "      (4): Tanh()\n",
      "      (5): Dropout(p=0.1, inplace=False)\n",
      "      (6): Linear(in_features=50, out_features=1, bias=True)\n",
      "    )\n",
      "  )\n",
      ") \n",
      "\n",
      "# parameters=10071\n",
      "\n",
      "# trainable parameters=10071\n",
      "\n",
      "start training ...\n"
     ]
    },
    {
     "name": "stderr",
     "output_type": "stream",
     "text": [
      "80it [00:15,  5.12it/s]\n"
     ]
    },
    {
     "name": "stdout",
     "output_type": "stream",
     "text": [
      "evaluating ...\n",
      "epoch 1, weight=0.50000, train-loss=0.00015, optimal-val-loss=nan, val-loss=0.00325, \n",
      "plotting ...\n"
     ]
    },
    {
     "name": "stderr",
     "output_type": "stream",
     "text": [
      "C:\\Users\\gg868\\thesis\\NJODE\\train.py:987: FutureWarning: The behavior of DataFrame concatenation with empty or all-NA entries is deprecated. In a future version, this will no longer exclude empty or all-NA columns when determining the result dtypes. To retain the old behavior, exclude the relevant entries before the concat operation.\n",
      "  df_metric = pd.concat([df_metric, df_m_app], ignore_index=True)\n",
      "C:\\Users\\gg868\\thesis\\NJODE\\train.py:998: FutureWarning: The behavior of DataFrame concatenation with empty or all-NA entries is deprecated. In a future version, this will no longer exclude empty or all-NA columns when determining the result dtypes. To retain the old behavior, exclude the relevant entries before the concat operation.\n",
      "  df_metric = pd.concat([df_metric, df_m_app], ignore_index=True)\n"
     ]
    },
    {
     "name": "stdout",
     "output_type": "stream",
     "text": [
      "optimal test-loss (with current weight=0.50000): 0.00000\n",
      "model test-loss (with current weight=0.50000): 0.00325\n",
      "save model ...\n",
      "saved!\n",
      "save new best model: last-best-loss: inf, new-best-loss: 0.00325, epoch: 1\n",
      "saved!\n",
      "----------------------------------------------------------------------------------------------------\n"
     ]
    },
    {
     "name": "stderr",
     "output_type": "stream",
     "text": [
      "80it [00:15,  5.17it/s]\n"
     ]
    },
    {
     "name": "stdout",
     "output_type": "stream",
     "text": [
      "evaluating ...\n",
      "epoch 2, weight=0.50000, train-loss=0.00016, optimal-val-loss=nan, val-loss=0.00325, \n",
      "plotting ...\n"
     ]
    },
    {
     "name": "stderr",
     "output_type": "stream",
     "text": [
      "C:\\Users\\gg868\\thesis\\NJODE\\train.py:998: FutureWarning: The behavior of DataFrame concatenation with empty or all-NA entries is deprecated. In a future version, this will no longer exclude empty or all-NA columns when determining the result dtypes. To retain the old behavior, exclude the relevant entries before the concat operation.\n",
      "  df_metric = pd.concat([df_metric, df_m_app], ignore_index=True)\n"
     ]
    },
    {
     "name": "stdout",
     "output_type": "stream",
     "text": [
      "optimal test-loss (with current weight=0.50000): 0.00000\n",
      "model test-loss (with current weight=0.50000): 0.00325\n",
      "save model ...\n",
      "saved!\n",
      "save new best model: last-best-loss: 0.00325, new-best-loss: 0.00325, epoch: 2\n",
      "saved!\n",
      "----------------------------------------------------------------------------------------------------\n"
     ]
    },
    {
     "name": "stderr",
     "output_type": "stream",
     "text": [
      "80it [00:14,  5.39it/s]\n"
     ]
    },
    {
     "name": "stdout",
     "output_type": "stream",
     "text": [
      "evaluating ...\n",
      "epoch 3, weight=0.50000, train-loss=0.00016, optimal-val-loss=nan, val-loss=0.00325, \n",
      "plotting ...\n"
     ]
    },
    {
     "name": "stderr",
     "output_type": "stream",
     "text": [
      "C:\\Users\\gg868\\thesis\\NJODE\\train.py:998: FutureWarning: The behavior of DataFrame concatenation with empty or all-NA entries is deprecated. In a future version, this will no longer exclude empty or all-NA columns when determining the result dtypes. To retain the old behavior, exclude the relevant entries before the concat operation.\n",
      "  df_metric = pd.concat([df_metric, df_m_app], ignore_index=True)\n"
     ]
    },
    {
     "name": "stdout",
     "output_type": "stream",
     "text": [
      "optimal test-loss (with current weight=0.50000): 0.00000\n",
      "model test-loss (with current weight=0.50000): 0.00325\n",
      "save model ...\n",
      "saved!\n",
      "save new best model: last-best-loss: 0.00325, new-best-loss: 0.00325, epoch: 3\n",
      "saved!\n",
      "----------------------------------------------------------------------------------------------------\n"
     ]
    },
    {
     "name": "stderr",
     "output_type": "stream",
     "text": [
      "80it [00:15,  5.10it/s]\n"
     ]
    },
    {
     "name": "stdout",
     "output_type": "stream",
     "text": [
      "evaluating ...\n",
      "epoch 4, weight=0.50000, train-loss=0.00016, optimal-val-loss=nan, val-loss=0.00325, \n",
      "plotting ...\n",
      "optimal test-loss (with current weight=0.50000): 0.00000\n",
      "model test-loss (with current weight=0.50000): 0.00325\n",
      "save model ...\n",
      "saved!\n",
      "----------------------------------------------------------------------------------------------------\n"
     ]
    },
    {
     "name": "stderr",
     "output_type": "stream",
     "text": [
      "80it [00:15,  5.23it/s]\n"
     ]
    },
    {
     "name": "stdout",
     "output_type": "stream",
     "text": [
      "evaluating ...\n",
      "epoch 5, weight=0.50000, train-loss=0.00017, optimal-val-loss=nan, val-loss=0.00325, \n",
      "plotting ...\n",
      "optimal test-loss (with current weight=0.50000): 0.00000\n",
      "model test-loss (with current weight=0.50000): 0.00325\n",
      "save model ...\n",
      "saved!\n",
      "----------------------------------------------------------------------------------------------------\n"
     ]
    },
    {
     "name": "stderr",
     "output_type": "stream",
     "text": [
      "80it [00:14,  5.38it/s]\n"
     ]
    },
    {
     "name": "stdout",
     "output_type": "stream",
     "text": [
      "evaluating ...\n",
      "epoch 6, weight=0.50000, train-loss=0.00016, optimal-val-loss=nan, val-loss=0.00325, \n",
      "plotting ...\n",
      "optimal test-loss (with current weight=0.50000): 0.00000\n",
      "model test-loss (with current weight=0.50000): 0.00325\n",
      "save model ...\n",
      "saved!\n",
      "----------------------------------------------------------------------------------------------------\n"
     ]
    },
    {
     "name": "stderr",
     "output_type": "stream",
     "text": [
      "80it [00:14,  5.37it/s]\n"
     ]
    },
    {
     "name": "stdout",
     "output_type": "stream",
     "text": [
      "evaluating ...\n",
      "epoch 7, weight=0.50000, train-loss=0.00016, optimal-val-loss=nan, val-loss=0.00325, \n",
      "plotting ...\n"
     ]
    },
    {
     "name": "stderr",
     "output_type": "stream",
     "text": [
      "C:\\Users\\gg868\\thesis\\NJODE\\train.py:998: FutureWarning: The behavior of DataFrame concatenation with empty or all-NA entries is deprecated. In a future version, this will no longer exclude empty or all-NA columns when determining the result dtypes. To retain the old behavior, exclude the relevant entries before the concat operation.\n",
      "  df_metric = pd.concat([df_metric, df_m_app], ignore_index=True)\n"
     ]
    },
    {
     "name": "stdout",
     "output_type": "stream",
     "text": [
      "optimal test-loss (with current weight=0.50000): 0.00000\n",
      "model test-loss (with current weight=0.50000): 0.00325\n",
      "save model ...\n",
      "saved!\n",
      "save new best model: last-best-loss: 0.00325, new-best-loss: 0.00325, epoch: 7\n",
      "saved!\n",
      "----------------------------------------------------------------------------------------------------\n"
     ]
    },
    {
     "name": "stderr",
     "output_type": "stream",
     "text": [
      "80it [00:15,  5.08it/s]\n"
     ]
    },
    {
     "name": "stdout",
     "output_type": "stream",
     "text": [
      "evaluating ...\n",
      "epoch 8, weight=0.50000, train-loss=0.00017, optimal-val-loss=nan, val-loss=0.00325, \n",
      "plotting ...\n",
      "optimal test-loss (with current weight=0.50000): 0.00000\n",
      "model test-loss (with current weight=0.50000): 0.00325\n",
      "save model ...\n",
      "saved!\n",
      "----------------------------------------------------------------------------------------------------\n"
     ]
    },
    {
     "name": "stderr",
     "output_type": "stream",
     "text": [
      "80it [00:15,  5.15it/s]\n"
     ]
    },
    {
     "name": "stdout",
     "output_type": "stream",
     "text": [
      "evaluating ...\n",
      "epoch 9, weight=0.50000, train-loss=0.00016, optimal-val-loss=nan, val-loss=0.00325, \n",
      "plotting ...\n",
      "optimal test-loss (with current weight=0.50000): 0.00000\n",
      "model test-loss (with current weight=0.50000): 0.00325\n",
      "save model ...\n",
      "saved!\n",
      "----------------------------------------------------------------------------------------------------\n"
     ]
    },
    {
     "name": "stderr",
     "output_type": "stream",
     "text": [
      "80it [00:14,  5.37it/s]\n"
     ]
    },
    {
     "name": "stdout",
     "output_type": "stream",
     "text": [
      "evaluating ...\n",
      "epoch 10, weight=0.50000, train-loss=0.00015, optimal-val-loss=nan, val-loss=0.00325, \n",
      "plotting ...\n",
      "optimal test-loss (with current weight=0.50000): 0.00000\n",
      "model test-loss (with current weight=0.50000): 0.00325\n",
      "save model ...\n",
      "saved!\n",
      "----------------------------------------------------------------------------------------------------\n"
     ]
    },
    {
     "name": "stderr",
     "output_type": "stream",
     "text": [
      "80it [00:16,  4.94it/s]\n"
     ]
    },
    {
     "name": "stdout",
     "output_type": "stream",
     "text": [
      "evaluating ...\n",
      "epoch 11, weight=0.50000, train-loss=0.00016, optimal-val-loss=nan, val-loss=0.00325, \n",
      "plotting ...\n",
      "optimal test-loss (with current weight=0.50000): 0.00000\n",
      "model test-loss (with current weight=0.50000): 0.00325\n",
      "save model ...\n",
      "saved!\n",
      "----------------------------------------------------------------------------------------------------\n"
     ]
    },
    {
     "name": "stderr",
     "output_type": "stream",
     "text": [
      "80it [00:16,  4.93it/s]\n"
     ]
    },
    {
     "name": "stdout",
     "output_type": "stream",
     "text": [
      "evaluating ...\n",
      "epoch 12, weight=0.50000, train-loss=0.00016, optimal-val-loss=nan, val-loss=0.00325, \n",
      "plotting ...\n",
      "optimal test-loss (with current weight=0.50000): 0.00000\n",
      "model test-loss (with current weight=0.50000): 0.00325\n",
      "save model ...\n",
      "saved!\n",
      "----------------------------------------------------------------------------------------------------\n"
     ]
    },
    {
     "name": "stderr",
     "output_type": "stream",
     "text": [
      "80it [00:15,  5.06it/s]\n"
     ]
    },
    {
     "name": "stdout",
     "output_type": "stream",
     "text": [
      "evaluating ...\n",
      "epoch 13, weight=0.50000, train-loss=0.00018, optimal-val-loss=nan, val-loss=0.00325, \n",
      "plotting ...\n",
      "optimal test-loss (with current weight=0.50000): 0.00000\n",
      "model test-loss (with current weight=0.50000): 0.00325\n",
      "save model ...\n",
      "saved!\n",
      "----------------------------------------------------------------------------------------------------\n"
     ]
    },
    {
     "name": "stderr",
     "output_type": "stream",
     "text": [
      "80it [00:17,  4.56it/s]\n"
     ]
    },
    {
     "name": "stdout",
     "output_type": "stream",
     "text": [
      "evaluating ...\n",
      "epoch 14, weight=0.50000, train-loss=0.00017, optimal-val-loss=nan, val-loss=0.00325, \n",
      "plotting ...\n",
      "optimal test-loss (with current weight=0.50000): 0.00000\n",
      "model test-loss (with current weight=0.50000): 0.00325\n",
      "save model ...\n",
      "saved!\n",
      "----------------------------------------------------------------------------------------------------\n"
     ]
    },
    {
     "name": "stderr",
     "output_type": "stream",
     "text": [
      "80it [00:21,  3.80it/s]\n"
     ]
    },
    {
     "name": "stdout",
     "output_type": "stream",
     "text": [
      "evaluating ...\n",
      "epoch 15, weight=0.50000, train-loss=0.00016, optimal-val-loss=nan, val-loss=0.00325, \n",
      "plotting ...\n"
     ]
    },
    {
     "name": "stderr",
     "output_type": "stream",
     "text": [
      "C:\\Users\\gg868\\thesis\\NJODE\\train.py:998: FutureWarning: The behavior of DataFrame concatenation with empty or all-NA entries is deprecated. In a future version, this will no longer exclude empty or all-NA columns when determining the result dtypes. To retain the old behavior, exclude the relevant entries before the concat operation.\n",
      "  df_metric = pd.concat([df_metric, df_m_app], ignore_index=True)\n"
     ]
    },
    {
     "name": "stdout",
     "output_type": "stream",
     "text": [
      "optimal test-loss (with current weight=0.50000): 0.00000\n",
      "model test-loss (with current weight=0.50000): 0.00325\n",
      "save model ...\n",
      "saved!\n",
      "save new best model: last-best-loss: 0.00325, new-best-loss: 0.00325, epoch: 15\n",
      "saved!\n",
      "----------------------------------------------------------------------------------------------------\n"
     ]
    },
    {
     "name": "stderr",
     "output_type": "stream",
     "text": [
      "80it [00:23,  3.46it/s]\n"
     ]
    },
    {
     "name": "stdout",
     "output_type": "stream",
     "text": [
      "evaluating ...\n",
      "epoch 16, weight=0.50000, train-loss=0.00017, optimal-val-loss=nan, val-loss=0.00325, \n",
      "plotting ...\n",
      "optimal test-loss (with current weight=0.50000): 0.00000\n",
      "model test-loss (with current weight=0.50000): 0.00325\n",
      "save model ...\n",
      "saved!\n",
      "----------------------------------------------------------------------------------------------------\n"
     ]
    },
    {
     "name": "stderr",
     "output_type": "stream",
     "text": [
      "80it [00:27,  2.87it/s]\n"
     ]
    },
    {
     "name": "stdout",
     "output_type": "stream",
     "text": [
      "evaluating ...\n",
      "epoch 17, weight=0.50000, train-loss=0.00016, optimal-val-loss=nan, val-loss=0.00325, \n",
      "plotting ...\n",
      "optimal test-loss (with current weight=0.50000): 0.00000\n",
      "model test-loss (with current weight=0.50000): 0.00325\n",
      "save model ...\n",
      "saved!\n",
      "----------------------------------------------------------------------------------------------------\n"
     ]
    },
    {
     "name": "stderr",
     "output_type": "stream",
     "text": [
      "80it [00:32,  2.44it/s]\n"
     ]
    },
    {
     "name": "stdout",
     "output_type": "stream",
     "text": [
      "evaluating ...\n",
      "epoch 18, weight=0.50000, train-loss=0.00017, optimal-val-loss=nan, val-loss=0.00325, \n",
      "plotting ...\n",
      "optimal test-loss (with current weight=0.50000): 0.00000\n",
      "model test-loss (with current weight=0.50000): 0.00325\n",
      "save model ...\n",
      "saved!\n",
      "----------------------------------------------------------------------------------------------------\n"
     ]
    },
    {
     "name": "stderr",
     "output_type": "stream",
     "text": [
      "80it [00:40,  1.97it/s]\n"
     ]
    },
    {
     "name": "stdout",
     "output_type": "stream",
     "text": [
      "evaluating ...\n",
      "epoch 19, weight=0.50000, train-loss=0.00016, optimal-val-loss=nan, val-loss=0.00325, \n",
      "plotting ...\n",
      "optimal test-loss (with current weight=0.50000): 0.00000\n",
      "model test-loss (with current weight=0.50000): 0.00325\n",
      "save model ...\n",
      "saved!\n",
      "----------------------------------------------------------------------------------------------------\n"
     ]
    },
    {
     "name": "stderr",
     "output_type": "stream",
     "text": [
      "80it [00:48,  1.66it/s]\n"
     ]
    },
    {
     "name": "stdout",
     "output_type": "stream",
     "text": [
      "evaluating ...\n",
      "epoch 20, weight=0.50000, train-loss=0.00016, optimal-val-loss=nan, val-loss=0.00325, \n",
      "plotting ...\n",
      "optimal test-loss (with current weight=0.50000): 0.00000\n",
      "model test-loss (with current weight=0.50000): 0.00325\n",
      "save model ...\n",
      "saved!\n",
      "----------------------------------------------------------------------------------------------------\n"
     ]
    },
    {
     "name": "stderr",
     "output_type": "stream",
     "text": [
      "80it [01:01,  1.29it/s]\n"
     ]
    },
    {
     "name": "stdout",
     "output_type": "stream",
     "text": [
      "evaluating ...\n",
      "epoch 21, weight=0.50000, train-loss=0.00015, optimal-val-loss=nan, val-loss=0.00325, \n",
      "plotting ...\n",
      "optimal test-loss (with current weight=0.50000): 0.00000\n",
      "model test-loss (with current weight=0.50000): 0.00325\n",
      "save model ...\n",
      "saved!\n",
      "----------------------------------------------------------------------------------------------------\n"
     ]
    },
    {
     "name": "stderr",
     "output_type": "stream",
     "text": [
      "80it [01:15,  1.06it/s]\n"
     ]
    },
    {
     "name": "stdout",
     "output_type": "stream",
     "text": [
      "evaluating ...\n",
      "epoch 22, weight=0.50000, train-loss=0.00016, optimal-val-loss=nan, val-loss=0.00325, \n",
      "plotting ...\n",
      "optimal test-loss (with current weight=0.50000): 0.00000\n",
      "model test-loss (with current weight=0.50000): 0.00325\n",
      "save model ...\n",
      "saved!\n",
      "----------------------------------------------------------------------------------------------------\n"
     ]
    },
    {
     "name": "stderr",
     "output_type": "stream",
     "text": [
      "80it [01:16,  1.04it/s]\n"
     ]
    },
    {
     "name": "stdout",
     "output_type": "stream",
     "text": [
      "evaluating ...\n",
      "epoch 23, weight=0.50000, train-loss=0.00017, optimal-val-loss=nan, val-loss=0.00325, \n",
      "plotting ...\n",
      "optimal test-loss (with current weight=0.50000): 0.00000\n",
      "model test-loss (with current weight=0.50000): 0.00325\n",
      "save model ...\n",
      "saved!\n",
      "----------------------------------------------------------------------------------------------------\n"
     ]
    },
    {
     "name": "stderr",
     "output_type": "stream",
     "text": [
      "80it [01:29,  1.12s/it]\n"
     ]
    },
    {
     "name": "stdout",
     "output_type": "stream",
     "text": [
      "evaluating ...\n",
      "epoch 24, weight=0.50000, train-loss=0.00016, optimal-val-loss=nan, val-loss=0.00325, \n",
      "plotting ...\n",
      "optimal test-loss (with current weight=0.50000): 0.00000\n",
      "model test-loss (with current weight=0.50000): 0.00325\n",
      "save model ...\n",
      "saved!\n",
      "----------------------------------------------------------------------------------------------------\n"
     ]
    },
    {
     "name": "stderr",
     "output_type": "stream",
     "text": [
      "80it [01:42,  1.28s/it]\n"
     ]
    },
    {
     "name": "stdout",
     "output_type": "stream",
     "text": [
      "evaluating ...\n",
      "epoch 25, weight=0.50000, train-loss=0.00015, optimal-val-loss=nan, val-loss=0.00325, \n",
      "plotting ...\n",
      "optimal test-loss (with current weight=0.50000): 0.00000\n",
      "model test-loss (with current weight=0.50000): 0.00325\n",
      "save model ...\n",
      "saved!\n",
      "----------------------------------------------------------------------------------------------------\n"
     ]
    },
    {
     "name": "stderr",
     "output_type": "stream",
     "text": [
      "80it [01:46,  1.33s/it]\n"
     ]
    },
    {
     "name": "stdout",
     "output_type": "stream",
     "text": [
      "evaluating ...\n",
      "epoch 26, weight=0.50000, train-loss=0.00016, optimal-val-loss=nan, val-loss=0.00325, \n",
      "plotting ...\n",
      "optimal test-loss (with current weight=0.50000): 0.00000\n",
      "model test-loss (with current weight=0.50000): 0.00325\n",
      "save model ...\n",
      "saved!\n",
      "----------------------------------------------------------------------------------------------------\n"
     ]
    },
    {
     "name": "stderr",
     "output_type": "stream",
     "text": [
      "80it [01:44,  1.31s/it]\n"
     ]
    },
    {
     "name": "stdout",
     "output_type": "stream",
     "text": [
      "evaluating ...\n",
      "epoch 27, weight=0.50000, train-loss=0.00016, optimal-val-loss=nan, val-loss=0.00325, \n",
      "plotting ...\n",
      "optimal test-loss (with current weight=0.50000): 0.00000\n",
      "model test-loss (with current weight=0.50000): 0.00325\n",
      "save model ...\n",
      "saved!\n",
      "----------------------------------------------------------------------------------------------------\n"
     ]
    },
    {
     "name": "stderr",
     "output_type": "stream",
     "text": [
      "80it [01:38,  1.23s/it]\n"
     ]
    },
    {
     "name": "stdout",
     "output_type": "stream",
     "text": [
      "evaluating ...\n",
      "epoch 28, weight=0.50000, train-loss=0.00016, optimal-val-loss=nan, val-loss=0.00325, \n",
      "plotting ...\n",
      "optimal test-loss (with current weight=0.50000): 0.00000\n",
      "model test-loss (with current weight=0.50000): 0.00325\n",
      "save model ...\n",
      "saved!\n",
      "----------------------------------------------------------------------------------------------------\n"
     ]
    },
    {
     "name": "stderr",
     "output_type": "stream",
     "text": [
      "80it [01:31,  1.15s/it]\n"
     ]
    },
    {
     "name": "stdout",
     "output_type": "stream",
     "text": [
      "evaluating ...\n",
      "epoch 29, weight=0.50000, train-loss=0.00016, optimal-val-loss=nan, val-loss=0.00325, \n",
      "plotting ...\n",
      "optimal test-loss (with current weight=0.50000): 0.00000\n",
      "model test-loss (with current weight=0.50000): 0.00325\n",
      "save model ...\n",
      "saved!\n",
      "----------------------------------------------------------------------------------------------------\n"
     ]
    },
    {
     "name": "stderr",
     "output_type": "stream",
     "text": [
      "80it [01:31,  1.15s/it]\n"
     ]
    },
    {
     "name": "stdout",
     "output_type": "stream",
     "text": [
      "evaluating ...\n",
      "epoch 30, weight=0.50000, train-loss=0.00017, optimal-val-loss=nan, val-loss=0.00325, \n",
      "plotting ...\n",
      "optimal test-loss (with current weight=0.50000): 0.00000\n",
      "model test-loss (with current weight=0.50000): 0.00325\n",
      "save model ...\n",
      "saved!\n",
      "----------------------------------------------------------------------------------------------------\n"
     ]
    },
    {
     "name": "stderr",
     "output_type": "stream",
     "text": [
      "80it [01:27,  1.10s/it]\n"
     ]
    },
    {
     "name": "stdout",
     "output_type": "stream",
     "text": [
      "evaluating ...\n",
      "epoch 31, weight=0.50000, train-loss=0.00016, optimal-val-loss=nan, val-loss=0.00325, \n",
      "plotting ...\n",
      "optimal test-loss (with current weight=0.50000): 0.00000\n",
      "model test-loss (with current weight=0.50000): 0.00325\n",
      "save model ...\n",
      "saved!\n",
      "----------------------------------------------------------------------------------------------------\n"
     ]
    },
    {
     "name": "stderr",
     "output_type": "stream",
     "text": [
      "80it [01:25,  1.06s/it]\n"
     ]
    },
    {
     "name": "stdout",
     "output_type": "stream",
     "text": [
      "evaluating ...\n",
      "epoch 32, weight=0.50000, train-loss=0.00016, optimal-val-loss=nan, val-loss=0.00325, \n",
      "plotting ...\n",
      "optimal test-loss (with current weight=0.50000): 0.00000\n",
      "model test-loss (with current weight=0.50000): 0.00325\n",
      "save model ...\n",
      "saved!\n",
      "----------------------------------------------------------------------------------------------------\n"
     ]
    },
    {
     "name": "stderr",
     "output_type": "stream",
     "text": [
      "80it [01:24,  1.05s/it]\n"
     ]
    },
    {
     "name": "stdout",
     "output_type": "stream",
     "text": [
      "evaluating ...\n",
      "epoch 33, weight=0.50000, train-loss=0.00017, optimal-val-loss=nan, val-loss=0.00325, \n",
      "plotting ...\n",
      "optimal test-loss (with current weight=0.50000): 0.00000\n",
      "model test-loss (with current weight=0.50000): 0.00325\n",
      "save model ...\n",
      "saved!\n",
      "----------------------------------------------------------------------------------------------------\n"
     ]
    },
    {
     "name": "stderr",
     "output_type": "stream",
     "text": [
      "80it [01:22,  1.04s/it]\n"
     ]
    },
    {
     "name": "stdout",
     "output_type": "stream",
     "text": [
      "evaluating ...\n",
      "epoch 34, weight=0.50000, train-loss=0.00016, optimal-val-loss=nan, val-loss=0.00325, \n",
      "plotting ...\n",
      "optimal test-loss (with current weight=0.50000): 0.00000\n",
      "model test-loss (with current weight=0.50000): 0.00325\n",
      "save model ...\n",
      "saved!\n",
      "----------------------------------------------------------------------------------------------------\n"
     ]
    },
    {
     "name": "stderr",
     "output_type": "stream",
     "text": [
      "80it [01:25,  1.07s/it]\n"
     ]
    },
    {
     "name": "stdout",
     "output_type": "stream",
     "text": [
      "evaluating ...\n",
      "epoch 35, weight=0.50000, train-loss=0.00016, optimal-val-loss=nan, val-loss=0.00325, \n",
      "plotting ...\n",
      "optimal test-loss (with current weight=0.50000): 0.00000\n",
      "model test-loss (with current weight=0.50000): 0.00325\n",
      "save model ...\n",
      "saved!\n",
      "----------------------------------------------------------------------------------------------------\n"
     ]
    },
    {
     "name": "stderr",
     "output_type": "stream",
     "text": [
      "80it [01:24,  1.06s/it]\n"
     ]
    },
    {
     "name": "stdout",
     "output_type": "stream",
     "text": [
      "evaluating ...\n",
      "epoch 36, weight=0.50000, train-loss=0.00017, optimal-val-loss=nan, val-loss=0.00325, \n",
      "plotting ...\n",
      "optimal test-loss (with current weight=0.50000): 0.00000\n",
      "model test-loss (with current weight=0.50000): 0.00325\n",
      "save model ...\n",
      "saved!\n",
      "----------------------------------------------------------------------------------------------------\n"
     ]
    },
    {
     "name": "stderr",
     "output_type": "stream",
     "text": [
      "80it [01:26,  1.08s/it]\n"
     ]
    },
    {
     "name": "stdout",
     "output_type": "stream",
     "text": [
      "evaluating ...\n",
      "epoch 37, weight=0.50000, train-loss=0.00017, optimal-val-loss=nan, val-loss=0.00325, \n",
      "plotting ...\n",
      "optimal test-loss (with current weight=0.50000): 0.00000\n",
      "model test-loss (with current weight=0.50000): 0.00325\n",
      "save model ...\n",
      "saved!\n",
      "----------------------------------------------------------------------------------------------------\n"
     ]
    },
    {
     "name": "stderr",
     "output_type": "stream",
     "text": [
      "80it [01:23,  1.04s/it]\n"
     ]
    },
    {
     "name": "stdout",
     "output_type": "stream",
     "text": [
      "evaluating ...\n",
      "epoch 38, weight=0.50000, train-loss=0.00016, optimal-val-loss=nan, val-loss=0.00325, \n",
      "plotting ...\n",
      "optimal test-loss (with current weight=0.50000): 0.00000\n",
      "model test-loss (with current weight=0.50000): 0.00325\n",
      "save model ...\n",
      "saved!\n",
      "----------------------------------------------------------------------------------------------------\n"
     ]
    },
    {
     "name": "stderr",
     "output_type": "stream",
     "text": [
      "80it [01:21,  1.02s/it]\n"
     ]
    },
    {
     "name": "stdout",
     "output_type": "stream",
     "text": [
      "evaluating ...\n",
      "epoch 39, weight=0.50000, train-loss=0.00016, optimal-val-loss=nan, val-loss=0.00325, \n",
      "plotting ...\n",
      "optimal test-loss (with current weight=0.50000): 0.00000\n",
      "model test-loss (with current weight=0.50000): 0.00325\n",
      "save model ...\n",
      "saved!\n",
      "----------------------------------------------------------------------------------------------------\n"
     ]
    },
    {
     "name": "stderr",
     "output_type": "stream",
     "text": [
      "80it [01:25,  1.07s/it]\n"
     ]
    },
    {
     "name": "stdout",
     "output_type": "stream",
     "text": [
      "evaluating ...\n",
      "epoch 40, weight=0.50000, train-loss=0.00017, optimal-val-loss=nan, val-loss=0.00325, \n",
      "plotting ...\n",
      "optimal test-loss (with current weight=0.50000): 0.00000\n",
      "model test-loss (with current weight=0.50000): 0.00325\n",
      "save model ...\n",
      "saved!\n",
      "----------------------------------------------------------------------------------------------------\n"
     ]
    },
    {
     "name": "stderr",
     "output_type": "stream",
     "text": [
      "80it [01:18,  1.01it/s]\n"
     ]
    },
    {
     "name": "stdout",
     "output_type": "stream",
     "text": [
      "evaluating ...\n",
      "epoch 41, weight=0.50000, train-loss=0.00017, optimal-val-loss=nan, val-loss=0.00325, \n",
      "plotting ...\n",
      "optimal test-loss (with current weight=0.50000): 0.00000\n",
      "model test-loss (with current weight=0.50000): 0.00325\n",
      "save model ...\n",
      "saved!\n",
      "----------------------------------------------------------------------------------------------------\n"
     ]
    },
    {
     "name": "stderr",
     "output_type": "stream",
     "text": [
      "80it [01:16,  1.04it/s]\n"
     ]
    },
    {
     "name": "stdout",
     "output_type": "stream",
     "text": [
      "evaluating ...\n",
      "epoch 42, weight=0.50000, train-loss=0.00016, optimal-val-loss=nan, val-loss=0.00325, \n",
      "plotting ...\n",
      "optimal test-loss (with current weight=0.50000): 0.00000\n",
      "model test-loss (with current weight=0.50000): 0.00325\n",
      "save model ...\n",
      "saved!\n",
      "----------------------------------------------------------------------------------------------------\n"
     ]
    },
    {
     "name": "stderr",
     "output_type": "stream",
     "text": [
      "80it [01:15,  1.06it/s]\n"
     ]
    },
    {
     "name": "stdout",
     "output_type": "stream",
     "text": [
      "evaluating ...\n",
      "epoch 43, weight=0.50000, train-loss=0.00016, optimal-val-loss=nan, val-loss=0.00325, \n",
      "plotting ...\n",
      "optimal test-loss (with current weight=0.50000): 0.00000\n",
      "model test-loss (with current weight=0.50000): 0.00325\n",
      "save model ...\n",
      "saved!\n",
      "----------------------------------------------------------------------------------------------------\n"
     ]
    },
    {
     "name": "stderr",
     "output_type": "stream",
     "text": [
      "80it [01:08,  1.17it/s]\n"
     ]
    },
    {
     "name": "stdout",
     "output_type": "stream",
     "text": [
      "evaluating ...\n",
      "epoch 44, weight=0.50000, train-loss=0.00017, optimal-val-loss=nan, val-loss=0.00325, \n",
      "plotting ...\n",
      "optimal test-loss (with current weight=0.50000): 0.00000\n",
      "model test-loss (with current weight=0.50000): 0.00325\n",
      "save model ...\n",
      "saved!\n",
      "----------------------------------------------------------------------------------------------------\n"
     ]
    },
    {
     "name": "stderr",
     "output_type": "stream",
     "text": [
      "80it [01:04,  1.24it/s]\n"
     ]
    },
    {
     "name": "stdout",
     "output_type": "stream",
     "text": [
      "evaluating ...\n",
      "epoch 45, weight=0.50000, train-loss=0.00016, optimal-val-loss=nan, val-loss=0.00325, \n",
      "plotting ...\n",
      "optimal test-loss (with current weight=0.50000): 0.00000\n",
      "model test-loss (with current weight=0.50000): 0.00325\n",
      "save model ...\n",
      "saved!\n",
      "----------------------------------------------------------------------------------------------------\n"
     ]
    },
    {
     "name": "stderr",
     "output_type": "stream",
     "text": [
      "80it [00:57,  1.39it/s]\n"
     ]
    },
    {
     "name": "stdout",
     "output_type": "stream",
     "text": [
      "evaluating ...\n",
      "epoch 46, weight=0.50000, train-loss=0.00017, optimal-val-loss=nan, val-loss=0.00325, \n",
      "plotting ...\n",
      "optimal test-loss (with current weight=0.50000): 0.00000\n",
      "model test-loss (with current weight=0.50000): 0.00325\n",
      "save model ...\n",
      "saved!\n",
      "----------------------------------------------------------------------------------------------------\n"
     ]
    },
    {
     "name": "stderr",
     "output_type": "stream",
     "text": [
      "80it [00:48,  1.64it/s]\n"
     ]
    },
    {
     "name": "stdout",
     "output_type": "stream",
     "text": [
      "evaluating ...\n",
      "epoch 47, weight=0.50000, train-loss=0.00017, optimal-val-loss=nan, val-loss=0.00325, \n",
      "plotting ...\n",
      "optimal test-loss (with current weight=0.50000): 0.00000\n",
      "model test-loss (with current weight=0.50000): 0.00325\n",
      "save model ...\n",
      "saved!\n",
      "----------------------------------------------------------------------------------------------------\n"
     ]
    },
    {
     "name": "stderr",
     "output_type": "stream",
     "text": [
      "80it [00:41,  1.91it/s]\n"
     ]
    },
    {
     "name": "stdout",
     "output_type": "stream",
     "text": [
      "evaluating ...\n",
      "epoch 48, weight=0.50000, train-loss=0.00017, optimal-val-loss=nan, val-loss=0.00325, \n",
      "plotting ...\n",
      "optimal test-loss (with current weight=0.50000): 0.00000\n",
      "model test-loss (with current weight=0.50000): 0.00325\n",
      "save model ...\n",
      "saved!\n",
      "----------------------------------------------------------------------------------------------------\n"
     ]
    },
    {
     "name": "stderr",
     "output_type": "stream",
     "text": [
      "80it [00:40,  1.97it/s]\n"
     ]
    },
    {
     "name": "stdout",
     "output_type": "stream",
     "text": [
      "evaluating ...\n",
      "epoch 49, weight=0.50000, train-loss=0.00017, optimal-val-loss=nan, val-loss=0.00325, \n",
      "plotting ...\n",
      "optimal test-loss (with current weight=0.50000): 0.00000\n",
      "model test-loss (with current weight=0.50000): 0.00325\n",
      "save model ...\n",
      "saved!\n",
      "----------------------------------------------------------------------------------------------------\n"
     ]
    },
    {
     "name": "stderr",
     "output_type": "stream",
     "text": [
      "80it [00:37,  2.14it/s]\n"
     ]
    },
    {
     "name": "stdout",
     "output_type": "stream",
     "text": [
      "evaluating ...\n",
      "epoch 50, weight=0.50000, train-loss=0.00016, optimal-val-loss=nan, val-loss=0.00325, \n",
      "plotting ...\n",
      "optimal test-loss (with current weight=0.50000): 0.00000\n",
      "model test-loss (with current weight=0.50000): 0.00325\n",
      "save model ...\n",
      "saved!\n",
      "----------------------------------------------------------------------------------------------------\n"
     ]
    },
    {
     "name": "stderr",
     "output_type": "stream",
     "text": [
      "80it [00:36,  2.20it/s]\n"
     ]
    },
    {
     "name": "stdout",
     "output_type": "stream",
     "text": [
      "evaluating ...\n",
      "epoch 51, weight=0.50000, train-loss=0.00016, optimal-val-loss=nan, val-loss=0.00325, \n",
      "plotting ...\n",
      "optimal test-loss (with current weight=0.50000): 0.00000\n",
      "model test-loss (with current weight=0.50000): 0.00325\n",
      "save model ...\n",
      "saved!\n",
      "----------------------------------------------------------------------------------------------------\n"
     ]
    },
    {
     "name": "stderr",
     "output_type": "stream",
     "text": [
      "80it [00:35,  2.23it/s]\n"
     ]
    },
    {
     "name": "stdout",
     "output_type": "stream",
     "text": [
      "evaluating ...\n",
      "epoch 52, weight=0.50000, train-loss=0.00015, optimal-val-loss=nan, val-loss=0.00325, \n",
      "plotting ...\n",
      "optimal test-loss (with current weight=0.50000): 0.00000\n",
      "model test-loss (with current weight=0.50000): 0.00325\n",
      "save model ...\n",
      "saved!\n",
      "----------------------------------------------------------------------------------------------------\n"
     ]
    },
    {
     "name": "stderr",
     "output_type": "stream",
     "text": [
      "80it [00:34,  2.34it/s]\n"
     ]
    },
    {
     "name": "stdout",
     "output_type": "stream",
     "text": [
      "evaluating ...\n",
      "epoch 53, weight=0.50000, train-loss=0.00016, optimal-val-loss=nan, val-loss=0.00325, \n",
      "plotting ...\n",
      "optimal test-loss (with current weight=0.50000): 0.00000\n",
      "model test-loss (with current weight=0.50000): 0.00325\n",
      "save model ...\n",
      "saved!\n",
      "----------------------------------------------------------------------------------------------------\n"
     ]
    },
    {
     "name": "stderr",
     "output_type": "stream",
     "text": [
      "80it [00:32,  2.48it/s]\n"
     ]
    },
    {
     "name": "stdout",
     "output_type": "stream",
     "text": [
      "evaluating ...\n",
      "epoch 54, weight=0.50000, train-loss=0.00017, optimal-val-loss=nan, val-loss=0.00325, \n",
      "plotting ...\n",
      "optimal test-loss (with current weight=0.50000): 0.00000\n",
      "model test-loss (with current weight=0.50000): 0.00325\n",
      "save model ...\n",
      "saved!\n",
      "----------------------------------------------------------------------------------------------------\n"
     ]
    },
    {
     "name": "stderr",
     "output_type": "stream",
     "text": [
      "80it [00:32,  2.50it/s]\n"
     ]
    },
    {
     "name": "stdout",
     "output_type": "stream",
     "text": [
      "evaluating ...\n",
      "epoch 55, weight=0.50000, train-loss=0.00017, optimal-val-loss=nan, val-loss=0.00325, \n",
      "plotting ...\n",
      "optimal test-loss (with current weight=0.50000): 0.00000\n",
      "model test-loss (with current weight=0.50000): 0.00325\n",
      "save model ...\n",
      "saved!\n",
      "----------------------------------------------------------------------------------------------------\n"
     ]
    },
    {
     "name": "stderr",
     "output_type": "stream",
     "text": [
      "80it [00:31,  2.57it/s]\n"
     ]
    },
    {
     "name": "stdout",
     "output_type": "stream",
     "text": [
      "evaluating ...\n",
      "epoch 56, weight=0.50000, train-loss=0.00016, optimal-val-loss=nan, val-loss=0.00325, \n",
      "plotting ...\n",
      "optimal test-loss (with current weight=0.50000): 0.00000\n",
      "model test-loss (with current weight=0.50000): 0.00325\n",
      "save model ...\n",
      "saved!\n",
      "----------------------------------------------------------------------------------------------------\n"
     ]
    },
    {
     "name": "stderr",
     "output_type": "stream",
     "text": [
      "80it [00:34,  2.35it/s]\n"
     ]
    },
    {
     "name": "stdout",
     "output_type": "stream",
     "text": [
      "evaluating ...\n",
      "epoch 57, weight=0.50000, train-loss=0.00016, optimal-val-loss=nan, val-loss=0.00325, \n",
      "plotting ...\n",
      "optimal test-loss (with current weight=0.50000): 0.00000\n",
      "model test-loss (with current weight=0.50000): 0.00325\n",
      "save model ...\n",
      "saved!\n",
      "----------------------------------------------------------------------------------------------------\n"
     ]
    },
    {
     "name": "stderr",
     "output_type": "stream",
     "text": [
      "80it [00:33,  2.41it/s]\n"
     ]
    },
    {
     "name": "stdout",
     "output_type": "stream",
     "text": [
      "evaluating ...\n",
      "epoch 58, weight=0.50000, train-loss=0.00015, optimal-val-loss=nan, val-loss=0.00325, \n",
      "plotting ...\n",
      "optimal test-loss (with current weight=0.50000): 0.00000\n",
      "model test-loss (with current weight=0.50000): 0.00325\n",
      "save model ...\n",
      "saved!\n",
      "----------------------------------------------------------------------------------------------------\n"
     ]
    },
    {
     "name": "stderr",
     "output_type": "stream",
     "text": [
      "80it [00:32,  2.45it/s]\n"
     ]
    },
    {
     "name": "stdout",
     "output_type": "stream",
     "text": [
      "evaluating ...\n",
      "epoch 59, weight=0.50000, train-loss=0.00018, optimal-val-loss=nan, val-loss=0.00325, \n",
      "plotting ...\n",
      "optimal test-loss (with current weight=0.50000): 0.00000\n",
      "model test-loss (with current weight=0.50000): 0.00325\n",
      "save model ...\n",
      "saved!\n",
      "----------------------------------------------------------------------------------------------------\n"
     ]
    },
    {
     "name": "stderr",
     "output_type": "stream",
     "text": [
      "80it [00:30,  2.60it/s]\n"
     ]
    },
    {
     "name": "stdout",
     "output_type": "stream",
     "text": [
      "evaluating ...\n",
      "epoch 60, weight=0.50000, train-loss=0.00016, optimal-val-loss=nan, val-loss=0.00325, \n",
      "plotting ...\n",
      "optimal test-loss (with current weight=0.50000): 0.00000\n",
      "model test-loss (with current weight=0.50000): 0.00325\n",
      "save model ...\n",
      "saved!\n",
      "----------------------------------------------------------------------------------------------------\n"
     ]
    },
    {
     "name": "stderr",
     "output_type": "stream",
     "text": [
      "80it [00:34,  2.34it/s]\n"
     ]
    },
    {
     "name": "stdout",
     "output_type": "stream",
     "text": [
      "evaluating ...\n",
      "epoch 61, weight=0.50000, train-loss=0.00016, optimal-val-loss=nan, val-loss=0.00325, \n",
      "plotting ...\n",
      "optimal test-loss (with current weight=0.50000): 0.00000\n",
      "model test-loss (with current weight=0.50000): 0.00325\n",
      "save model ...\n",
      "saved!\n",
      "----------------------------------------------------------------------------------------------------\n"
     ]
    },
    {
     "name": "stderr",
     "output_type": "stream",
     "text": [
      "80it [00:30,  2.62it/s]\n"
     ]
    },
    {
     "name": "stdout",
     "output_type": "stream",
     "text": [
      "evaluating ...\n",
      "epoch 62, weight=0.50000, train-loss=0.00017, optimal-val-loss=nan, val-loss=0.00325, \n",
      "plotting ...\n",
      "optimal test-loss (with current weight=0.50000): 0.00000\n",
      "model test-loss (with current weight=0.50000): 0.00325\n",
      "save model ...\n",
      "saved!\n",
      "----------------------------------------------------------------------------------------------------\n"
     ]
    },
    {
     "name": "stderr",
     "output_type": "stream",
     "text": [
      "80it [00:29,  2.70it/s]\n"
     ]
    },
    {
     "name": "stdout",
     "output_type": "stream",
     "text": [
      "evaluating ...\n",
      "epoch 63, weight=0.50000, train-loss=0.00018, optimal-val-loss=nan, val-loss=0.00325, \n",
      "plotting ...\n",
      "optimal test-loss (with current weight=0.50000): 0.00000\n",
      "model test-loss (with current weight=0.50000): 0.00325\n",
      "save model ...\n",
      "saved!\n",
      "----------------------------------------------------------------------------------------------------\n"
     ]
    },
    {
     "name": "stderr",
     "output_type": "stream",
     "text": [
      "80it [00:31,  2.56it/s]\n"
     ]
    },
    {
     "name": "stdout",
     "output_type": "stream",
     "text": [
      "evaluating ...\n",
      "epoch 64, weight=0.50000, train-loss=0.00017, optimal-val-loss=nan, val-loss=0.00325, \n",
      "plotting ...\n",
      "optimal test-loss (with current weight=0.50000): 0.00000\n",
      "model test-loss (with current weight=0.50000): 0.00325\n",
      "save model ...\n",
      "saved!\n",
      "----------------------------------------------------------------------------------------------------\n"
     ]
    },
    {
     "name": "stderr",
     "output_type": "stream",
     "text": [
      "80it [00:28,  2.77it/s]\n"
     ]
    },
    {
     "name": "stdout",
     "output_type": "stream",
     "text": [
      "evaluating ...\n",
      "epoch 65, weight=0.50000, train-loss=0.00016, optimal-val-loss=nan, val-loss=0.00325, \n",
      "plotting ...\n",
      "optimal test-loss (with current weight=0.50000): 0.00000\n",
      "model test-loss (with current weight=0.50000): 0.00325\n",
      "save model ...\n",
      "saved!\n",
      "----------------------------------------------------------------------------------------------------\n"
     ]
    },
    {
     "name": "stderr",
     "output_type": "stream",
     "text": [
      "80it [00:29,  2.67it/s]\n"
     ]
    },
    {
     "name": "stdout",
     "output_type": "stream",
     "text": [
      "evaluating ...\n",
      "epoch 66, weight=0.50000, train-loss=0.00017, optimal-val-loss=nan, val-loss=0.00325, \n",
      "plotting ...\n",
      "optimal test-loss (with current weight=0.50000): 0.00000\n",
      "model test-loss (with current weight=0.50000): 0.00325\n",
      "save model ...\n",
      "saved!\n",
      "----------------------------------------------------------------------------------------------------\n"
     ]
    },
    {
     "name": "stderr",
     "output_type": "stream",
     "text": [
      "80it [00:30,  2.61it/s]\n"
     ]
    },
    {
     "name": "stdout",
     "output_type": "stream",
     "text": [
      "evaluating ...\n",
      "epoch 67, weight=0.50000, train-loss=0.00016, optimal-val-loss=nan, val-loss=0.00325, \n",
      "plotting ...\n",
      "optimal test-loss (with current weight=0.50000): 0.00000\n",
      "model test-loss (with current weight=0.50000): 0.00325\n",
      "save model ...\n",
      "saved!\n",
      "----------------------------------------------------------------------------------------------------\n"
     ]
    },
    {
     "name": "stderr",
     "output_type": "stream",
     "text": [
      "80it [00:29,  2.74it/s]\n"
     ]
    },
    {
     "name": "stdout",
     "output_type": "stream",
     "text": [
      "evaluating ...\n",
      "epoch 68, weight=0.50000, train-loss=0.00017, optimal-val-loss=nan, val-loss=0.00325, \n",
      "plotting ...\n",
      "optimal test-loss (with current weight=0.50000): 0.00000\n",
      "model test-loss (with current weight=0.50000): 0.00325\n",
      "save model ...\n",
      "saved!\n",
      "----------------------------------------------------------------------------------------------------\n"
     ]
    },
    {
     "name": "stderr",
     "output_type": "stream",
     "text": [
      "80it [00:29,  2.68it/s]\n"
     ]
    },
    {
     "name": "stdout",
     "output_type": "stream",
     "text": [
      "evaluating ...\n",
      "epoch 69, weight=0.50000, train-loss=0.00016, optimal-val-loss=nan, val-loss=0.00325, \n",
      "plotting ...\n",
      "optimal test-loss (with current weight=0.50000): 0.00000\n",
      "model test-loss (with current weight=0.50000): 0.00325\n",
      "save model ...\n",
      "saved!\n",
      "----------------------------------------------------------------------------------------------------\n"
     ]
    },
    {
     "name": "stderr",
     "output_type": "stream",
     "text": [
      "80it [00:30,  2.64it/s]\n"
     ]
    },
    {
     "name": "stdout",
     "output_type": "stream",
     "text": [
      "evaluating ...\n",
      "epoch 70, weight=0.50000, train-loss=0.00016, optimal-val-loss=nan, val-loss=0.00325, \n",
      "plotting ...\n",
      "optimal test-loss (with current weight=0.50000): 0.00000\n",
      "model test-loss (with current weight=0.50000): 0.00325\n",
      "save model ...\n",
      "saved!\n",
      "----------------------------------------------------------------------------------------------------\n"
     ]
    },
    {
     "name": "stderr",
     "output_type": "stream",
     "text": [
      "80it [00:29,  2.71it/s]\n"
     ]
    },
    {
     "name": "stdout",
     "output_type": "stream",
     "text": [
      "evaluating ...\n",
      "epoch 71, weight=0.50000, train-loss=0.00017, optimal-val-loss=nan, val-loss=0.00325, \n",
      "plotting ...\n",
      "optimal test-loss (with current weight=0.50000): 0.00000\n",
      "model test-loss (with current weight=0.50000): 0.00325\n",
      "save model ...\n",
      "saved!\n",
      "----------------------------------------------------------------------------------------------------\n"
     ]
    },
    {
     "name": "stderr",
     "output_type": "stream",
     "text": [
      "80it [00:31,  2.50it/s]\n"
     ]
    },
    {
     "name": "stdout",
     "output_type": "stream",
     "text": [
      "evaluating ...\n",
      "epoch 72, weight=0.50000, train-loss=0.00016, optimal-val-loss=nan, val-loss=0.00325, \n",
      "plotting ...\n",
      "optimal test-loss (with current weight=0.50000): 0.00000\n",
      "model test-loss (with current weight=0.50000): 0.00325\n",
      "save model ...\n",
      "saved!\n",
      "----------------------------------------------------------------------------------------------------\n"
     ]
    },
    {
     "name": "stderr",
     "output_type": "stream",
     "text": [
      "80it [00:30,  2.64it/s]\n"
     ]
    },
    {
     "name": "stdout",
     "output_type": "stream",
     "text": [
      "evaluating ...\n",
      "epoch 73, weight=0.50000, train-loss=0.00018, optimal-val-loss=nan, val-loss=0.00325, \n",
      "plotting ...\n",
      "optimal test-loss (with current weight=0.50000): 0.00000\n",
      "model test-loss (with current weight=0.50000): 0.00325\n",
      "save model ...\n",
      "saved!\n",
      "----------------------------------------------------------------------------------------------------\n"
     ]
    },
    {
     "name": "stderr",
     "output_type": "stream",
     "text": [
      "80it [00:31,  2.58it/s]\n"
     ]
    },
    {
     "name": "stdout",
     "output_type": "stream",
     "text": [
      "evaluating ...\n",
      "epoch 74, weight=0.50000, train-loss=0.00018, optimal-val-loss=nan, val-loss=0.00325, \n",
      "plotting ...\n",
      "optimal test-loss (with current weight=0.50000): 0.00000\n",
      "model test-loss (with current weight=0.50000): 0.00325\n",
      "save model ...\n",
      "saved!\n",
      "----------------------------------------------------------------------------------------------------\n"
     ]
    },
    {
     "name": "stderr",
     "output_type": "stream",
     "text": [
      "80it [00:30,  2.61it/s]\n"
     ]
    },
    {
     "name": "stdout",
     "output_type": "stream",
     "text": [
      "evaluating ...\n",
      "epoch 75, weight=0.50000, train-loss=0.00016, optimal-val-loss=nan, val-loss=0.00325, \n",
      "plotting ...\n",
      "optimal test-loss (with current weight=0.50000): 0.00000\n",
      "model test-loss (with current weight=0.50000): 0.00325\n",
      "save model ...\n",
      "saved!\n",
      "----------------------------------------------------------------------------------------------------\n"
     ]
    },
    {
     "name": "stderr",
     "output_type": "stream",
     "text": [
      "80it [00:29,  2.71it/s]\n"
     ]
    },
    {
     "name": "stdout",
     "output_type": "stream",
     "text": [
      "evaluating ...\n",
      "epoch 76, weight=0.50000, train-loss=0.00017, optimal-val-loss=nan, val-loss=0.00325, \n",
      "plotting ...\n",
      "optimal test-loss (with current weight=0.50000): 0.00000\n",
      "model test-loss (with current weight=0.50000): 0.00325\n",
      "save model ...\n",
      "saved!\n",
      "----------------------------------------------------------------------------------------------------\n"
     ]
    },
    {
     "name": "stderr",
     "output_type": "stream",
     "text": [
      "80it [00:35,  2.24it/s]\n"
     ]
    },
    {
     "name": "stdout",
     "output_type": "stream",
     "text": [
      "evaluating ...\n",
      "epoch 77, weight=0.50000, train-loss=0.00016, optimal-val-loss=nan, val-loss=0.00325, \n",
      "plotting ...\n",
      "optimal test-loss (with current weight=0.50000): 0.00000\n",
      "model test-loss (with current weight=0.50000): 0.00325\n",
      "save model ...\n",
      "saved!\n",
      "----------------------------------------------------------------------------------------------------\n"
     ]
    },
    {
     "name": "stderr",
     "output_type": "stream",
     "text": [
      "80it [00:34,  2.34it/s]\n"
     ]
    },
    {
     "name": "stdout",
     "output_type": "stream",
     "text": [
      "evaluating ...\n",
      "epoch 78, weight=0.50000, train-loss=0.00016, optimal-val-loss=nan, val-loss=0.00325, \n",
      "plotting ...\n",
      "optimal test-loss (with current weight=0.50000): 0.00000\n",
      "model test-loss (with current weight=0.50000): 0.00325\n",
      "save model ...\n",
      "saved!\n",
      "----------------------------------------------------------------------------------------------------\n"
     ]
    },
    {
     "name": "stderr",
     "output_type": "stream",
     "text": [
      "80it [00:29,  2.69it/s]\n"
     ]
    },
    {
     "name": "stdout",
     "output_type": "stream",
     "text": [
      "evaluating ...\n",
      "epoch 79, weight=0.50000, train-loss=0.00016, optimal-val-loss=nan, val-loss=0.00325, \n",
      "plotting ...\n",
      "optimal test-loss (with current weight=0.50000): 0.00000\n",
      "model test-loss (with current weight=0.50000): 0.00325\n",
      "save model ...\n",
      "saved!\n",
      "----------------------------------------------------------------------------------------------------\n"
     ]
    },
    {
     "name": "stderr",
     "output_type": "stream",
     "text": [
      "80it [00:31,  2.52it/s]\n"
     ]
    },
    {
     "name": "stdout",
     "output_type": "stream",
     "text": [
      "evaluating ...\n",
      "epoch 80, weight=0.50000, train-loss=0.00016, optimal-val-loss=nan, val-loss=0.00325, \n",
      "plotting ...\n",
      "optimal test-loss (with current weight=0.50000): 0.00000\n",
      "model test-loss (with current weight=0.50000): 0.00325\n",
      "save model ...\n",
      "saved!\n",
      "----------------------------------------------------------------------------------------------------\n"
     ]
    },
    {
     "name": "stderr",
     "output_type": "stream",
     "text": [
      "80it [00:30,  2.66it/s]\n"
     ]
    },
    {
     "name": "stdout",
     "output_type": "stream",
     "text": [
      "evaluating ...\n",
      "epoch 81, weight=0.50000, train-loss=0.00016, optimal-val-loss=nan, val-loss=0.00325, \n",
      "plotting ...\n",
      "optimal test-loss (with current weight=0.50000): 0.00000\n",
      "model test-loss (with current weight=0.50000): 0.00325\n",
      "save model ...\n",
      "saved!\n",
      "----------------------------------------------------------------------------------------------------\n"
     ]
    },
    {
     "name": "stderr",
     "output_type": "stream",
     "text": [
      "80it [00:29,  2.70it/s]\n"
     ]
    },
    {
     "name": "stdout",
     "output_type": "stream",
     "text": [
      "evaluating ...\n",
      "epoch 82, weight=0.50000, train-loss=0.00016, optimal-val-loss=nan, val-loss=0.00325, \n",
      "plotting ...\n",
      "optimal test-loss (with current weight=0.50000): 0.00000\n",
      "model test-loss (with current weight=0.50000): 0.00325\n",
      "save model ...\n",
      "saved!\n",
      "----------------------------------------------------------------------------------------------------\n"
     ]
    },
    {
     "name": "stderr",
     "output_type": "stream",
     "text": [
      "80it [00:31,  2.53it/s]\n"
     ]
    },
    {
     "name": "stdout",
     "output_type": "stream",
     "text": [
      "evaluating ...\n",
      "epoch 83, weight=0.50000, train-loss=0.00016, optimal-val-loss=nan, val-loss=0.00325, \n",
      "plotting ...\n",
      "optimal test-loss (with current weight=0.50000): 0.00000\n",
      "model test-loss (with current weight=0.50000): 0.00325\n",
      "save model ...\n",
      "saved!\n",
      "----------------------------------------------------------------------------------------------------\n"
     ]
    },
    {
     "name": "stderr",
     "output_type": "stream",
     "text": [
      "80it [00:32,  2.47it/s]\n"
     ]
    },
    {
     "name": "stdout",
     "output_type": "stream",
     "text": [
      "evaluating ...\n",
      "epoch 84, weight=0.50000, train-loss=0.00016, optimal-val-loss=nan, val-loss=0.00325, \n",
      "plotting ...\n",
      "optimal test-loss (with current weight=0.50000): 0.00000\n",
      "model test-loss (with current weight=0.50000): 0.00325\n",
      "save model ...\n",
      "saved!\n",
      "----------------------------------------------------------------------------------------------------\n"
     ]
    },
    {
     "name": "stderr",
     "output_type": "stream",
     "text": [
      "80it [00:33,  2.37it/s]\n"
     ]
    },
    {
     "name": "stdout",
     "output_type": "stream",
     "text": [
      "evaluating ...\n",
      "epoch 85, weight=0.50000, train-loss=0.00016, optimal-val-loss=nan, val-loss=0.00325, \n",
      "plotting ...\n",
      "optimal test-loss (with current weight=0.50000): 0.00000\n",
      "model test-loss (with current weight=0.50000): 0.00325\n",
      "save model ...\n",
      "saved!\n",
      "----------------------------------------------------------------------------------------------------\n"
     ]
    },
    {
     "name": "stderr",
     "output_type": "stream",
     "text": [
      "80it [00:32,  2.45it/s]\n"
     ]
    },
    {
     "name": "stdout",
     "output_type": "stream",
     "text": [
      "evaluating ...\n",
      "epoch 86, weight=0.50000, train-loss=0.00017, optimal-val-loss=nan, val-loss=0.00325, \n",
      "plotting ...\n",
      "optimal test-loss (with current weight=0.50000): 0.00000\n",
      "model test-loss (with current weight=0.50000): 0.00325\n",
      "save model ...\n",
      "saved!\n",
      "----------------------------------------------------------------------------------------------------\n"
     ]
    },
    {
     "name": "stderr",
     "output_type": "stream",
     "text": [
      "80it [00:31,  2.55it/s]\n"
     ]
    },
    {
     "name": "stdout",
     "output_type": "stream",
     "text": [
      "evaluating ...\n",
      "epoch 87, weight=0.50000, train-loss=0.00015, optimal-val-loss=nan, val-loss=0.00325, \n",
      "plotting ...\n",
      "optimal test-loss (with current weight=0.50000): 0.00000\n",
      "model test-loss (with current weight=0.50000): 0.00325\n",
      "save model ...\n",
      "saved!\n",
      "----------------------------------------------------------------------------------------------------\n"
     ]
    },
    {
     "name": "stderr",
     "output_type": "stream",
     "text": [
      "80it [00:31,  2.56it/s]\n"
     ]
    },
    {
     "name": "stdout",
     "output_type": "stream",
     "text": [
      "evaluating ...\n",
      "epoch 88, weight=0.50000, train-loss=0.00017, optimal-val-loss=nan, val-loss=0.00325, \n",
      "plotting ...\n",
      "optimal test-loss (with current weight=0.50000): 0.00000\n",
      "model test-loss (with current weight=0.50000): 0.00325\n",
      "save model ...\n",
      "saved!\n",
      "----------------------------------------------------------------------------------------------------\n"
     ]
    },
    {
     "name": "stderr",
     "output_type": "stream",
     "text": [
      "80it [00:31,  2.56it/s]\n"
     ]
    },
    {
     "name": "stdout",
     "output_type": "stream",
     "text": [
      "evaluating ...\n",
      "epoch 89, weight=0.50000, train-loss=0.00017, optimal-val-loss=nan, val-loss=0.00325, \n",
      "plotting ...\n",
      "optimal test-loss (with current weight=0.50000): 0.00000\n",
      "model test-loss (with current weight=0.50000): 0.00325\n",
      "save model ...\n",
      "saved!\n",
      "----------------------------------------------------------------------------------------------------\n"
     ]
    },
    {
     "name": "stderr",
     "output_type": "stream",
     "text": [
      "80it [00:32,  2.47it/s]\n"
     ]
    },
    {
     "name": "stdout",
     "output_type": "stream",
     "text": [
      "evaluating ...\n",
      "epoch 90, weight=0.50000, train-loss=0.00015, optimal-val-loss=nan, val-loss=0.00325, \n",
      "plotting ...\n",
      "optimal test-loss (with current weight=0.50000): 0.00000\n",
      "model test-loss (with current weight=0.50000): 0.00325\n",
      "save model ...\n",
      "saved!\n",
      "----------------------------------------------------------------------------------------------------\n"
     ]
    },
    {
     "name": "stderr",
     "output_type": "stream",
     "text": [
      "80it [00:35,  2.23it/s]\n"
     ]
    },
    {
     "name": "stdout",
     "output_type": "stream",
     "text": [
      "evaluating ...\n",
      "epoch 91, weight=0.50000, train-loss=0.00017, optimal-val-loss=nan, val-loss=0.00325, \n",
      "plotting ...\n",
      "optimal test-loss (with current weight=0.50000): 0.00000\n",
      "model test-loss (with current weight=0.50000): 0.00325\n",
      "save model ...\n",
      "saved!\n",
      "----------------------------------------------------------------------------------------------------\n"
     ]
    },
    {
     "name": "stderr",
     "output_type": "stream",
     "text": [
      "80it [00:50,  1.60it/s]\n"
     ]
    },
    {
     "name": "stdout",
     "output_type": "stream",
     "text": [
      "evaluating ...\n",
      "epoch 92, weight=0.50000, train-loss=0.00017, optimal-val-loss=nan, val-loss=0.00325, \n",
      "plotting ...\n",
      "optimal test-loss (with current weight=0.50000): 0.00000\n",
      "model test-loss (with current weight=0.50000): 0.00325\n",
      "save model ...\n",
      "saved!\n",
      "----------------------------------------------------------------------------------------------------\n"
     ]
    },
    {
     "name": "stderr",
     "output_type": "stream",
     "text": [
      "80it [00:47,  1.67it/s]\n"
     ]
    },
    {
     "name": "stdout",
     "output_type": "stream",
     "text": [
      "evaluating ...\n",
      "epoch 93, weight=0.50000, train-loss=0.00015, optimal-val-loss=nan, val-loss=0.00325, \n",
      "plotting ...\n",
      "optimal test-loss (with current weight=0.50000): 0.00000\n",
      "model test-loss (with current weight=0.50000): 0.00325\n",
      "save model ...\n",
      "saved!\n",
      "----------------------------------------------------------------------------------------------------\n"
     ]
    },
    {
     "name": "stderr",
     "output_type": "stream",
     "text": [
      "80it [00:36,  2.18it/s]\n"
     ]
    },
    {
     "name": "stdout",
     "output_type": "stream",
     "text": [
      "evaluating ...\n",
      "epoch 94, weight=0.50000, train-loss=0.00016, optimal-val-loss=nan, val-loss=0.00325, \n",
      "plotting ...\n",
      "optimal test-loss (with current weight=0.50000): 0.00000\n",
      "model test-loss (with current weight=0.50000): 0.00325\n",
      "save model ...\n",
      "saved!\n",
      "----------------------------------------------------------------------------------------------------\n"
     ]
    },
    {
     "name": "stderr",
     "output_type": "stream",
     "text": [
      "80it [00:35,  2.23it/s]\n"
     ]
    },
    {
     "name": "stdout",
     "output_type": "stream",
     "text": [
      "evaluating ...\n",
      "epoch 95, weight=0.50000, train-loss=0.00017, optimal-val-loss=nan, val-loss=0.00325, \n",
      "plotting ...\n",
      "optimal test-loss (with current weight=0.50000): 0.00000\n",
      "model test-loss (with current weight=0.50000): 0.00325\n",
      "save model ...\n",
      "saved!\n",
      "----------------------------------------------------------------------------------------------------\n"
     ]
    },
    {
     "name": "stderr",
     "output_type": "stream",
     "text": [
      "80it [00:40,  1.97it/s]\n"
     ]
    },
    {
     "name": "stdout",
     "output_type": "stream",
     "text": [
      "evaluating ...\n",
      "epoch 96, weight=0.50000, train-loss=0.00017, optimal-val-loss=nan, val-loss=0.00325, \n",
      "plotting ...\n",
      "optimal test-loss (with current weight=0.50000): 0.00000\n",
      "model test-loss (with current weight=0.50000): 0.00325\n",
      "save model ...\n",
      "saved!\n",
      "----------------------------------------------------------------------------------------------------\n"
     ]
    },
    {
     "name": "stderr",
     "output_type": "stream",
     "text": [
      "80it [00:35,  2.22it/s]\n"
     ]
    },
    {
     "name": "stdout",
     "output_type": "stream",
     "text": [
      "evaluating ...\n",
      "epoch 97, weight=0.50000, train-loss=0.00017, optimal-val-loss=nan, val-loss=0.00325, \n",
      "plotting ...\n",
      "optimal test-loss (with current weight=0.50000): 0.00000\n",
      "model test-loss (with current weight=0.50000): 0.00325\n",
      "save model ...\n",
      "saved!\n",
      "----------------------------------------------------------------------------------------------------\n"
     ]
    },
    {
     "name": "stderr",
     "output_type": "stream",
     "text": [
      "80it [00:37,  2.14it/s]\n"
     ]
    },
    {
     "name": "stdout",
     "output_type": "stream",
     "text": [
      "evaluating ...\n",
      "epoch 98, weight=0.50000, train-loss=0.00016, optimal-val-loss=nan, val-loss=0.00325, \n",
      "plotting ...\n",
      "optimal test-loss (with current weight=0.50000): 0.00000\n",
      "model test-loss (with current weight=0.50000): 0.00325\n",
      "save model ...\n",
      "saved!\n",
      "----------------------------------------------------------------------------------------------------\n"
     ]
    },
    {
     "name": "stderr",
     "output_type": "stream",
     "text": [
      "80it [00:40,  2.00it/s]\n"
     ]
    },
    {
     "name": "stdout",
     "output_type": "stream",
     "text": [
      "evaluating ...\n",
      "epoch 99, weight=0.50000, train-loss=0.00016, optimal-val-loss=nan, val-loss=0.00325, \n",
      "plotting ...\n",
      "optimal test-loss (with current weight=0.50000): 0.00000\n",
      "model test-loss (with current weight=0.50000): 0.00325\n",
      "save model ...\n",
      "saved!\n",
      "----------------------------------------------------------------------------------------------------\n"
     ]
    },
    {
     "name": "stderr",
     "output_type": "stream",
     "text": [
      "80it [00:42,  1.88it/s]\n"
     ]
    },
    {
     "name": "stdout",
     "output_type": "stream",
     "text": [
      "evaluating ...\n",
      "epoch 100, weight=0.50000, train-loss=0.00016, optimal-val-loss=nan, val-loss=0.00325, \n",
      "plotting ...\n",
      "optimal test-loss (with current weight=0.50000): 0.00000\n",
      "model test-loss (with current weight=0.50000): 0.00325\n",
      "save model ...\n",
      "saved!\n",
      "----------------------------------------------------------------------------------------------------\n"
     ]
    },
    {
     "data": {
      "text/plain": "0"
     },
     "execution_count": 3,
     "metadata": {},
     "output_type": "execute_result"
    }
   ],
   "source": [
    "import NJODE.train as train\n",
    "vol_dataset_dict = {\n",
    "    'model_name': 'OrnsteinUhlenbeckZ',\n",
    "    'volatility': 0.3,\n",
    "    'mean': 1.5,\n",
    "    \"speed\" : 0.3,\n",
    "    'nb_paths': 10000,\n",
    "    'nb_steps': 100,\n",
    "    'S0': 2,\n",
    "    'maturity': 1.,\n",
    "    'dimension': 1,\n",
    "    'obs_perc': 1.0,\n",
    "    'scheme': 'euler',\n",
    "    'return_vol': False,\n",
    "    'v0': 1,\n",
    "    'hurst':0.75,\n",
    "    'FBMmethod':\"daviesharte\"\n",
    "}\n",
    "_, dataset_id = data_utils.create_dataset('OrnsteinUhlenbeckZ',vol_dataset_dict)\n",
    "train.train(dataset=\"OrnsteinUhlenbeckZ\", dataset_id = dataset_id, use_cond_exp=False, eval_use_true_paths=True, plot=True,  which_loss = 'easy_vol')"
   ],
   "metadata": {
    "collapsed": false,
    "ExecuteTime": {
     "end_time": "2025-06-13T15:07:06.844129800Z",
     "start_time": "2025-06-13T13:35:19.149984400Z"
    }
   },
   "id": "20a09e9549c7dabf"
  },
  {
   "cell_type": "code",
   "execution_count": 2,
   "outputs": [
    {
     "ename": "NameError",
     "evalue": "name 'data_utils' is not defined",
     "output_type": "error",
     "traceback": [
      "\u001B[1;31m---------------------------------------------------------------------------\u001B[0m",
      "\u001B[1;31mNameError\u001B[0m                                 Traceback (most recent call last)",
      "Cell \u001B[1;32mIn[2], line 14\u001B[0m\n\u001B[0;32m      1\u001B[0m mu_dataset_dic \u001B[38;5;241m=\u001B[39m {\n\u001B[0;32m      2\u001B[0m     \u001B[38;5;124m'\u001B[39m\u001B[38;5;124mvolatility\u001B[39m\u001B[38;5;124m'\u001B[39m: \u001B[38;5;241m0.3\u001B[39m,\n\u001B[0;32m      3\u001B[0m     \u001B[38;5;124m'\u001B[39m\u001B[38;5;124mdrift\u001B[39m\u001B[38;5;124m'\u001B[39m: \u001B[38;5;241m0.5\u001B[39m,\n\u001B[1;32m   (...)\u001B[0m\n\u001B[0;32m     12\u001B[0m     \u001B[38;5;124m'\u001B[39m\u001B[38;5;124mdt\u001B[39m\u001B[38;5;124m'\u001B[39m: \u001B[38;5;241m0.01\u001B[39m\n\u001B[0;32m     13\u001B[0m }\n\u001B[1;32m---> 14\u001B[0m datasetpath_mu, dataset_id_mu \u001B[38;5;241m=\u001B[39m \u001B[43mdata_utils\u001B[49m\u001B[38;5;241m.\u001B[39mcreate_dataset(\u001B[38;5;124m\"\u001B[39m\u001B[38;5;124mBlackScholes\u001B[39m\u001B[38;5;124m\"\u001B[39m,mu_dataset_dic)\n",
      "\u001B[1;31mNameError\u001B[0m: name 'data_utils' is not defined"
     ]
    }
   ],
   "source": [
    "mu_dataset_dic = {\n",
    "    'volatility': 0.3,\n",
    "    'drift': 0.5,\n",
    "    'nb_paths': 1000,\n",
    "    'nb_steps': 100,\n",
    "    'S0': 2,\n",
    "    'maturity': 1.0,\n",
    "    'dimension': 1,\n",
    "    'obs_perc': 1.0,\n",
    "    'scheme': 'euler',\n",
    "    'model_name': 'BlackScholes',\n",
    "    'dt': 0.01\n",
    "}\n",
    "datasetpath_mu, dataset_id_mu = data_utils.create_dataset(\"BlackScholes\",mu_dataset_dic)"
   ],
   "metadata": {
    "collapsed": false,
    "ExecuteTime": {
     "end_time": "2025-06-10T15:32:11.120841800Z",
     "start_time": "2025-06-10T15:32:10.984504500Z"
    }
   },
   "id": "39001f5f6f8b5770"
  },
  {
   "cell_type": "code",
   "execution_count": null,
   "outputs": [],
   "source": [
    "train.train(dataset=\"BlackScholes\", dataset_id=dataset_id_mu, use_cond_exp=True,plot=True, which_loss ='easy')"
   ],
   "metadata": {
    "collapsed": false
   },
   "id": "43897893320ea8d3"
  },
  {
   "cell_type": "code",
   "execution_count": 3,
   "outputs": [
    {
     "name": "stdout",
     "output_type": "stream",
     "text": [
      "using loss: easy\n",
      "neuralODE use input scaling with tanh\n",
      "use residual network: input_size=1, output_size=10\n",
      "use residual network: input_size=10, output_size=1\n"
     ]
    },
    {
     "data": {
      "text/plain": "NJODE(\n  (ode_f): ODEFunc(\n    (f): Sequential(\n      (0): Linear(in_features=13, out_features=50, bias=True)\n      (1): Tanh()\n      (2): Dropout(p=0, inplace=False)\n      (3): Linear(in_features=50, out_features=50, bias=True)\n      (4): Tanh()\n      (5): Dropout(p=0, inplace=False)\n      (6): Linear(in_features=50, out_features=10, bias=True)\n    )\n  )\n  (encoder_map): FFNN(\n    (ffnn): Sequential(\n      (0): Linear(in_features=1, out_features=50, bias=True)\n      (1): Tanh()\n      (2): Dropout(p=0, inplace=False)\n      (3): Linear(in_features=50, out_features=50, bias=True)\n      (4): Tanh()\n      (5): Dropout(p=0, inplace=False)\n      (6): Linear(in_features=50, out_features=10, bias=True)\n    )\n  )\n  (readout_map): FFNN(\n    (ffnn): Sequential(\n      (0): Linear(in_features=10, out_features=50, bias=True)\n      (1): Tanh()\n      (2): Dropout(p=0, inplace=False)\n      (3): Linear(in_features=50, out_features=50, bias=True)\n      (4): Tanh()\n      (5): Dropout(p=0, inplace=False)\n      (6): Linear(in_features=50, out_features=1, bias=True)\n    )\n  )\n)"
     },
     "execution_count": 3,
     "metadata": {},
     "output_type": "execute_result"
    }
   ],
   "source": [
    "params_dict_mu = {\n",
    "    'input_size': 1,\n",
    "    'hidden_size': 10,\n",
    "    'output_size': 1,\n",
    "    'ode_nn': ((50, \"tanh\"), (50, \"tanh\")),\n",
    "    'readout_nn': ((50, \"tanh\"), (50, \"tanh\")),\n",
    "    'enc_nn': ((50, \"tanh\"), (50, \"tanh\")),\n",
    "    'use_rnn': False,\n",
    "    'options': {'which_loss': 'easy'},\n",
    "    \"input_coords\": np.arange(1),\n",
    "    \"output_coords\": np.arange(1),\n",
    "    \"signature_coords\": np.arange(1)\n",
    "}\n",
    "device = torch.device(\"cuda\" if torch.cuda.is_available() else \"cpu\")\n",
    "from models import get_ckpt_model, NJODE\n",
    "mu_model = NJODE(**params_dict_mu).to(device)\n",
    "optimizer = torch.optim.Adam(mu_model.parameters())\n",
    "get_ckpt_model(\"../data/saved_models/id-80/best_checkpoint/\", mu_model, optimizer, device)\n",
    "mu_model.eval()"
   ],
   "metadata": {
    "collapsed": false,
    "ExecuteTime": {
     "end_time": "2025-06-11T11:14:09.209239100Z",
     "start_time": "2025-06-11T11:14:05.939143400Z"
    }
   },
   "id": "c225d8e7a3d7a3f9"
  },
  {
   "cell_type": "code",
   "execution_count": 4,
   "outputs": [
    {
     "name": "stdout",
     "output_type": "stream",
     "text": [
      "using loss: easy_vol\n",
      "neuralODE use input scaling with tanh\n",
      "use residual network: input_size=1, output_size=10\n",
      "use residual network: input_size=10, output_size=1\n"
     ]
    },
    {
     "data": {
      "text/plain": "NJODE(\n  (ode_f): ODEFunc(\n    (f): Sequential(\n      (0): Linear(in_features=13, out_features=50, bias=True)\n      (1): Tanh()\n      (2): Dropout(p=0, inplace=False)\n      (3): Linear(in_features=50, out_features=50, bias=True)\n      (4): Tanh()\n      (5): Dropout(p=0, inplace=False)\n      (6): Linear(in_features=50, out_features=10, bias=True)\n    )\n  )\n  (encoder_map): FFNN(\n    (ffnn): Sequential(\n      (0): Linear(in_features=1, out_features=50, bias=True)\n      (1): Tanh()\n      (2): Dropout(p=0, inplace=False)\n      (3): Linear(in_features=50, out_features=50, bias=True)\n      (4): Tanh()\n      (5): Dropout(p=0, inplace=False)\n      (6): Linear(in_features=50, out_features=10, bias=True)\n    )\n  )\n  (readout_map): FFNN(\n    (ffnn): Sequential(\n      (0): Linear(in_features=10, out_features=50, bias=True)\n      (1): Tanh()\n      (2): Dropout(p=0, inplace=False)\n      (3): Linear(in_features=50, out_features=50, bias=True)\n      (4): Tanh()\n      (5): Dropout(p=0, inplace=False)\n      (6): Linear(in_features=50, out_features=1, bias=True)\n    )\n  )\n)"
     },
     "execution_count": 4,
     "metadata": {},
     "output_type": "execute_result"
    }
   ],
   "source": [
    "params_dict_vol = {\n",
    "    'input_size': 1,\n",
    "    'hidden_size': 10,\n",
    "    'output_size': 1,\n",
    "    'ode_nn': ((50, \"tanh\"), (50, \"tanh\")),\n",
    "    'readout_nn': ((50, \"tanh\"), (50, \"tanh\")),\n",
    "    'enc_nn': ((50, \"tanh\"), (50, \"tanh\")),\n",
    "    'use_rnn': False,\n",
    "    'options': {'which_loss': 'easy_vol'},\n",
    "    \"input_coords\": np.arange(1),\n",
    "    \"output_coords\": np.arange(1),\n",
    "    \"signature_coords\": np.arange(1)\n",
    "}\n",
    "vol_model = NJODE(**params_dict_vol).to(device)\n",
    "optimizer_vol = torch.optim.Adam(vol_model.parameters())\n",
    "get_ckpt_model(\"../data/saved_models/id-81/best_checkpoint/\", vol_model, optimizer_vol, device)\n",
    "vol_model.eval()"
   ],
   "metadata": {
    "collapsed": false,
    "ExecuteTime": {
     "end_time": "2025-06-11T11:14:09.758928800Z",
     "start_time": "2025-06-11T11:14:09.672607500Z"
    }
   },
   "id": "37cd3827366b915b"
  },
  {
   "cell_type": "code",
   "execution_count": 5,
   "outputs": [],
   "source": [
    " def generate_next_value( X_t, mu_t, sigma_t, delta_t):\n",
    "    \"\"\"\n",
    "    Generate the next value in the time series using the Euler-Maruyama scheme.\n",
    "\n",
    "    :param X_t: current value tensor of shape (batch_size, d)\n",
    "    :param mu_t: drift coefficient tensor of shape (batch_size, d)\n",
    "    :param sigma_t: diffusion coefficient tensor of shape ( d, d)\n",
    "    :param delta_t: time difference float\n",
    "    :return: next value tensor of shape (batch_size, d)\n",
    "    \"\"\"\n",
    "\n",
    "    delta_Wt = torch.randn_like(X_t) * np.sqrt(delta_t)\n",
    "    delta_Wt_sigma_t = torch.bmm(delta_Wt.unsqueeze(1), sigma_t).squeeze(1)\n",
    "    X_t_next = X_t + mu_t * delta_t + delta_Wt_sigma_t\n",
    "\n",
    "    return X_t_next"
   ],
   "metadata": {
    "collapsed": false,
    "ExecuteTime": {
     "end_time": "2025-06-11T11:14:14.405430600Z",
     "start_time": "2025-06-11T11:14:14.374000300Z"
    }
   },
   "id": "ec3efbc5ce81e0aa"
  },
  {
   "cell_type": "code",
   "execution_count": 7,
   "outputs": [],
   "source": [
    "batch_size=100\n",
    "n_step=101\n",
    "dim=1\n",
    "times=np.array([])\n",
    "time_ptr = np.array([0])\n",
    "obs_idx = torch.tensor([],dtype=torch.long)\n",
    "start_Z = torch.tensor(np.zeros((1,)), dtype=torch.float).unsqueeze(0).repeat(batch_size, dim)\n",
    "Z = torch.zeros((batch_size*(n_step-1),dim*dim), dtype=torch.float)\n",
    "delta_t=0.01\n",
    "X= torch.zeros((batch_size*(n_step-1),dim), dtype=torch.float)\n",
    "start_X = torch.tensor([2.0], dtype=torch.float).unsqueeze(0).repeat(batch_size, dim)\n",
    "n_obs_ot=torch.tensor([0]*batch_size, dtype=torch.float)\n",
    "\n",
    "for i in range(1, n_step):\n",
    "    T=delta_t*i\n",
    "\n",
    "    \n",
    "    if i==1:\n",
    "        X_t=start_X\n",
    "        mu_pred=mu_model.get_pred(times, time_ptr, torch.tensor([], dtype=torch.float), obs_idx, delta_t, T, start_X, n_obs_ot)[\"pred\"][-1]\n",
    "        sigma_pred=vol_model.get_pred(times, time_ptr, torch.tensor([], dtype=torch.float), obs_idx, delta_t, T, start_Z, n_obs_ot )[\"pred\"][-1]\n",
    "        mu_hat_t = (mu_pred - X_t)/delta_t\n",
    "        sigma_hat_t = sigma_pred.view(batch_size, dim, dim)/np.sqrt(delta_t)\n",
    "        X_next = generate_next_value(X_t, mu_hat_t, sigma_hat_t, delta_t)\n",
    "        X[batch_size*(i-1):batch_size*(i),:]=X_next\n",
    "\n",
    "    else: \n",
    "        if i==2: \n",
    "            X_t_minus = start_X\n",
    "        else: \n",
    "            X_t_minus = X[batch_size*(i-3):batch_size*(i-2), :]\n",
    "            \n",
    "        X_t = X_next\n",
    "        # Compute the difference\n",
    "        diff = X_t - X_t_minus\n",
    "        # Compute the outer product for each element in the batch\n",
    "        # diff.unsqueeze(2) has shape (batch_size, dim, 1)\n",
    "        # diff.unsqueeze(1) has shape (batch_size, 1, dim)\n",
    "        Z_tensor = diff.unsqueeze(2) @ diff.unsqueeze(1)\n",
    "        Z[batch_size*(i-2):batch_size*(i-1),:] = Z_tensor.view(batch_size,-1)\n",
    "        \n",
    "        mu_pred=mu_model.get_pred(times, time_ptr, X[:batch_size*(i-1),:], obs_idx, delta_t, T, start_X, n_obs_ot)[\"pred\"][-1]\n",
    "        sigma_pred=vol_model.get_pred(times, time_ptr, Z[:batch_size*(i-1),:], obs_idx, delta_t, T, start_Z, n_obs_ot )[\"pred\"][-1]\n",
    "        mu_hat_t = (mu_pred - X_t)/delta_t\n",
    "        sigma_hat_t = sigma_pred.view(batch_size, dim, dim)/np.sqrt(delta_t)\n",
    "        X_next = generate_next_value(X_t, mu_hat_t, sigma_hat_t, delta_t)\n",
    "        X[batch_size*(i-1):batch_size*(i),:]=X_next\n",
    "    \n",
    "    times=np.append(times, delta_t*i)\n",
    "    time_ptr = np.append(time_ptr, i*batch_size)\n",
    "    obs_idx=torch.cat((obs_idx, torch.arange(batch_size)))\n",
    "    n_obs_ot+=torch.tensor([1]*batch_size, dtype=torch.float)\n",
    "X_new = X.view(n_step-1, batch_size, dim).permute(1, 2, 0)\n",
    "start_X_expanded = start_X.unsqueeze(0).permute(1,0,2)\n",
    "X_final=torch.cat((start_X_expanded, X_new), dim=2)"
   ],
   "metadata": {
    "collapsed": false,
    "ExecuteTime": {
     "end_time": "2025-06-11T11:16:55.892671500Z",
     "start_time": "2025-06-11T11:15:06.085327400Z"
    }
   },
   "id": "b8bfec86a0d4c8e"
  },
  {
   "cell_type": "code",
   "execution_count": 8,
   "outputs": [
    {
     "data": {
      "text/plain": "torch.Size([100, 1, 101])"
     },
     "execution_count": 8,
     "metadata": {},
     "output_type": "execute_result"
    }
   ],
   "source": [
    "X_final.shape"
   ],
   "metadata": {
    "collapsed": false,
    "ExecuteTime": {
     "end_time": "2025-06-11T11:17:48.129105500Z",
     "start_time": "2025-06-11T11:17:48.069580Z"
    }
   },
   "id": "1042766c78667d2c"
  },
  {
   "cell_type": "code",
   "execution_count": 7,
   "outputs": [],
   "source": [
    "data=np.load(\"../data/training_data/OrnsteinUhlenbeckZ-90/data.npy\")"
   ],
   "metadata": {
    "collapsed": false,
    "ExecuteTime": {
     "end_time": "2025-06-13T13:33:31.839551400Z",
     "start_time": "2025-06-13T13:33:31.805281800Z"
    }
   },
   "id": "a692f1d52fd147a"
  },
  {
   "cell_type": "code",
   "execution_count": 8,
   "outputs": [
    {
     "data": {
      "text/plain": "(10000, 1, 100)"
     },
     "execution_count": 8,
     "metadata": {},
     "output_type": "execute_result"
    }
   ],
   "source": [
    "data.shape"
   ],
   "metadata": {
    "collapsed": false,
    "ExecuteTime": {
     "end_time": "2025-06-13T13:33:38.094181300Z",
     "start_time": "2025-06-13T13:33:38.059857600Z"
    }
   },
   "id": "866707b5007fa382"
  },
  {
   "cell_type": "code",
   "execution_count": 10,
   "outputs": [],
   "source": [
    "import matplotlib.pyplot as plt\n",
    "import numpy as np\n",
    "import pandas as pd\n",
    "import torch\n",
    "\n",
    "# Compare (visualize) paths\n",
    "def compare_path(x_real, x_fake, titles=[\"Real\", \"Fake\"], file_path=None, return_figax=False, dim=0, plot_size=100):\n",
    "    fig, ax = plt.subplots(1, 2, figsize=[12, 4], sharex=True, sharey=True)\n",
    "    ax[0].plot(\n",
    "        x_real[:plot_size].numpy().T,\n",
    "        alpha=0.3,\n",
    "        marker=\"o\",\n",
    "        linewidth=1,\n",
    "        markersize=1,\n",
    "    )\n",
    "\n",
    "    ax[1].plot(\n",
    "        x_fake[:plot_size].numpy().T,\n",
    "        alpha=0.3,\n",
    "        marker=\"o\",\n",
    "        linewidth=1,\n",
    "        markersize=1,\n",
    "    )\n",
    "\n",
    "    if titles:\n",
    "        ax[0].set_title(titles[0])\n",
    "        ax[1].set_title(titles[1])\n",
    "\n",
    "    for i in range(2):\n",
    "        ax[i].set_xlabel(\"Time\")\n",
    "        ax[i].set_ylabel(\"Prices\")\n",
    "    if return_figax:\n",
    "        return fig, ax\n",
    "    if file_path is None:\n",
    "        plt.show()\n",
    "    else:\n",
    "        fig.savefig(os.path.join(file_path, 'bs_price.png'))\n",
    "    plt.close()"
   ],
   "metadata": {
    "collapsed": false,
    "ExecuteTime": {
     "end_time": "2025-06-11T11:17:50.962387600Z",
     "start_time": "2025-06-11T11:17:50.937781700Z"
    }
   },
   "id": "2bf1bbbfe84aa58e"
  },
  {
   "cell_type": "code",
   "execution_count": 11,
   "outputs": [],
   "source": [
    "real_data = torch.tensor(data[:, 0, :])\n",
    "fake_data = X_final[:,0,:].detach()"
   ],
   "metadata": {
    "collapsed": false,
    "ExecuteTime": {
     "end_time": "2025-06-11T11:17:52.728324100Z",
     "start_time": "2025-06-11T11:17:52.696726500Z"
    }
   },
   "id": "80b249b421eb5044"
  },
  {
   "cell_type": "code",
   "execution_count": 12,
   "outputs": [
    {
     "data": {
      "text/plain": "<Figure size 1200x400 with 2 Axes>",
      "image/png": "[encoded data removed]"
     },
     "metadata": {},
     "output_type": "display_data"
    }
   ],
   "source": [
    "compare_path(real_data,fake_data,plot_size=10)"
   ],
   "metadata": {
    "collapsed": false,
    "ExecuteTime": {
     "end_time": "2025-06-11T11:17:54.134827800Z",
     "start_time": "2025-06-11T11:17:53.962250900Z"
    }
   },
   "id": "7e0b0fec954dcf86"
  },
  {
   "cell_type": "code",
   "execution_count": 27,
   "outputs": [],
   "source": [
    "import os"
   ],
   "metadata": {
    "collapsed": false,
    "ExecuteTime": {
     "end_time": "2025-06-05T19:56:21.062412300Z",
     "start_time": "2025-06-05T19:56:21.006196100Z"
    }
   },
   "id": "91130a0c846ed1c5"
  },
  {
   "cell_type": "code",
   "execution_count": 16,
   "outputs": [],
   "source": [
    "# Compare Marginal\n",
    "def compare_marginal_hist(real_data, fake_data, n_time_slice=4, file_path=None):\n",
    "    time_range = np.linspace(11, real_data.shape[1] - 1, n_time_slice, dtype=int)\n",
    "    n_cols = n_time_slice\n",
    "    fig, ax = plt.subplots(1, n_cols, figsize=[12, 4], sharey=True, sharex=True)\n",
    "    bins = np.linspace(0, 5, 50)\n",
    "    for i in range(n_cols):\n",
    "        axi = ax.flat[i]\n",
    "        n = time_range[i]\n",
    "        axi.hist(real_data[:, n], bins=bins, alpha=0.5, label=\"real\")\n",
    "        axi.hist(fake_data[:, n], bins=bins, alpha=0.3, label=\"fake\")\n",
    "        axi.set_title(f\"Time: {n}\")\n",
    "        axi.legend()\n",
    "        # axi.set_xlabel(\"Marginal prices\")\n",
    "    if file_path is None:\n",
    "        plt.show()\n",
    "    else:\n",
    "        plt.savefig(file_path, bbox_inches=\"tight\")\n",
    "        plt.close(fig)"
   ],
   "metadata": {
    "collapsed": false,
    "ExecuteTime": {
     "end_time": "2025-06-11T11:18:14.461920Z",
     "start_time": "2025-06-11T11:18:14.445011700Z"
    }
   },
   "id": "217e6b6f81713413"
  },
  {
   "cell_type": "code",
   "execution_count": 18,
   "outputs": [
    {
     "data": {
      "text/plain": "<Figure size 1200x400 with 4 Axes>",
      "image/png": "[encoded data removed]"
     },
     "metadata": {},
     "output_type": "display_data"
    }
   ],
   "source": [
    "compare_marginal_hist(real_data[:100], fake_data, 4)"
   ],
   "metadata": {
    "collapsed": false,
    "ExecuteTime": {
     "end_time": "2025-06-11T11:18:24.328033400Z",
     "start_time": "2025-06-11T11:18:23.896307500Z"
    }
   },
   "id": "f98c4e3b0a089a98"
  },
  {
   "cell_type": "code",
   "execution_count": 19,
   "outputs": [],
   "source": [
    "# Compare Drift and Volatility\n",
    "def prices2returns(prices):\n",
    "    returns = prices[:, 1:] / prices[:, :-1] - 1\n",
    "    return returns\n",
    "\n",
    "\n",
    "def compute_volatility(price_path, T):\n",
    "    return_path = prices2returns(price_path)\n",
    "    vol2 = torch.sum(return_path**2, dim=1) / T\n",
    "    vol = torch.sqrt(vol2)\n",
    "    return vol\n",
    "\n",
    "\n",
    "def compute_drift(price_path, T):\n",
    "    return_path = prices2returns(price_path)\n",
    "    drift = torch.sum(return_path, dim=1) / T\n",
    "    return drift\n",
    "\n",
    "\n",
    "def plot_mean_log_prices(data, data_name, axi):\n",
    "    data = torch.log(data)\n",
    "    data_mean = torch.mean(data, dim=0)\n",
    "    data_std = torch.std(data, dim=0)\n",
    "    axi.plot(data_mean, marker=\"o\", linewidth=1, markersize=1, label=data_name)\n",
    "    axi.fill_between(\n",
    "        torch.arange(len(data_mean)),\n",
    "        data_mean - data_std,\n",
    "        data_mean + data_std,\n",
    "        alpha=0.2,\n",
    "    )\n",
    "\n",
    "\n",
    "def compare_drift_volatility(real_data, fake_data, T):\n",
    "    fig, ax = plt.subplots(1, 2, figsize=[12, 4])\n",
    "\n",
    "    plot_mean_log_prices(real_data, \"real\", ax[0])\n",
    "    plot_mean_log_prices(fake_data, \"fake\", ax[0])\n",
    "    ax[0].legend()\n",
    "    ax[0].set_xlabel(\"Time\")\n",
    "    ax[0].set_title(\"Log-prices\")\n",
    "\n",
    "    vol = compute_volatility(real_data, T)\n",
    "    ax[1].hist(vol, bins=100, alpha=0.4, label=\"real\", density=True)\n",
    "    # sns.kdeplot(vol,ax = ax[1])\n",
    "    vol = compute_volatility(fake_data, T)\n",
    "    ax[1].hist(vol, bins=100, alpha=0.4, label=\"fake\", density=True)\n",
    "    # sns.kdeplot(vol,ax = ax[1])\n",
    "    ax[1].legend()\n",
    "    ax[1].set_title(\"Volatility\")\n",
    "    ax[1].set_xlabel(\"Volatility\")\n",
    "\n",
    "    plt.show()"
   ],
   "metadata": {
    "collapsed": false,
    "ExecuteTime": {
     "end_time": "2025-06-11T11:18:31.873301900Z",
     "start_time": "2025-06-11T11:18:31.841418600Z"
    }
   },
   "id": "10bb31b1f938e437"
  },
  {
   "cell_type": "code",
   "execution_count": 20,
   "outputs": [
    {
     "data": {
      "text/plain": "<Figure size 1200x400 with 2 Axes>",
      "image/png": "[encoded data removed]"
     },
     "metadata": {},
     "output_type": "display_data"
    }
   ],
   "source": [
    "compare_drift_volatility(real_data[:100],fake_data, 1)"
   ],
   "metadata": {
    "collapsed": false,
    "ExecuteTime": {
     "end_time": "2025-06-11T11:18:32.724909700Z",
     "start_time": "2025-06-11T11:18:32.374462Z"
    }
   },
   "id": "ab91c95e6c8e865a"
  },
  {
   "cell_type": "code",
   "execution_count": 21,
   "outputs": [],
   "source": [
    "import scipy.stats as  ss\n",
    "def estimate_OU_params_all_paths(paths, dt):\n",
    "    xx=np.concatenate([paths[i,0,:-1] for i in range(len(paths))])\n",
    "    yy=np.concatenate([paths[i,0,1:] for i in range(len(paths))])\n",
    "    beta, alpha, _, _, _ = ss.linregress(xx,yy)\n",
    "    kappa = -np.log(beta)/dt\n",
    "    theta = alpha/(1-beta)\n",
    "    res = yy-beta*xx-alpha\n",
    "    std_resid=np.std(res,ddof=2)\n",
    "    sigma = std_resid*np.sqrt(2*kappa/(1-beta**2))\n",
    "\n",
    "    return kappa, theta, sigma"
   ],
   "metadata": {
    "collapsed": false,
    "ExecuteTime": {
     "end_time": "2025-06-11T11:18:36.662970300Z",
     "start_time": "2025-06-11T11:18:36.650776300Z"
    }
   },
   "id": "573f291199dde28c"
  },
  {
   "cell_type": "code",
   "execution_count": 22,
   "outputs": [
    {
     "name": "stdout",
     "output_type": "stream",
     "text": [
      "Estimated parameters for real paths :\n",
      "  Mean (theta): 1.40897, error: 0.09103\n",
      "  Volatility (sigma): 0.29682, error: 0.00318\n",
      "  Mean reversion rate (kappa): 0.35692, error 0.05692\n",
      "Estimated parameters for fake paths :\n",
      "  Mean (theta): 3.70418, error: 2.20418\n",
      "  Volatility (sigma): 0.30289, error: 0.00289\n",
      "  Mean reversion rate (kappa): -0.04939, error: 0.34939\n"
     ]
    }
   ],
   "source": [
    "# Estimate parameters for real data\n",
    "kappa_real,  theta_real, sigma_real, = estimate_OU_params_all_paths(data[:100],0.01)\n",
    "print(f\"Estimated parameters for real paths :\")\n",
    "print(f\"  Mean (theta): {theta_real:.5f}, error: {np.abs(theta_real-1.5):.5f}\")\n",
    "print(f\"  Volatility (sigma): {sigma_real:.5f}, error: {np.abs(sigma_real-0.3):.5f}\")\n",
    "print(f\"  Mean reversion rate (kappa): {kappa_real:.5f}, error {np.abs(kappa_real-0.3):.5f}\")\n",
    "\n",
    "# Estimate parameters for generated data\n",
    "kappa_fake,  theta_fake, sigma_fake, = estimate_OU_params_all_paths(X_final[:100].detach().numpy(),0.01)\n",
    "print(f\"Estimated parameters for fake paths :\")\n",
    "print(f\"  Mean (theta): {theta_fake:.5f}, error: {np.abs(theta_fake-1.5):.5f}\")\n",
    "print(f\"  Volatility (sigma): {sigma_fake:.5f}, error: {np.abs(sigma_fake-0.3):.5f}\")\n",
    "print(f\"  Mean reversion rate (kappa): {kappa_fake:.5f}, error: {np.abs(kappa_fake-0.3):.5f}\")"
   ],
   "metadata": {
    "collapsed": false,
    "ExecuteTime": {
     "end_time": "2025-06-11T11:18:37.445955Z",
     "start_time": "2025-06-11T11:18:37.398674200Z"
    }
   },
   "id": "a192f5cf7fc3452"
  },
  {
   "cell_type": "code",
   "execution_count": 4,
   "outputs": [],
   "source": [
    "a=torch.ones(5*1000,1,1)"
   ],
   "metadata": {
    "collapsed": false,
    "ExecuteTime": {
     "end_time": "2025-06-11T15:58:36.898076100Z",
     "start_time": "2025-06-11T15:58:36.870563300Z"
    }
   },
   "id": "5fb27ff52ea123ea"
  },
  {
   "cell_type": "code",
   "execution_count": 5,
   "outputs": [
    {
     "data": {
      "text/plain": "torch.Size([5000, 1, 1])"
     },
     "execution_count": 5,
     "metadata": {},
     "output_type": "execute_result"
    }
   ],
   "source": [
    "a.shape"
   ],
   "metadata": {
    "collapsed": false,
    "ExecuteTime": {
     "end_time": "2025-06-11T15:58:44.813940500Z",
     "start_time": "2025-06-11T15:58:44.763549100Z"
    }
   },
   "id": "37e913cc842b8fb9"
  },
  {
   "cell_type": "code",
   "execution_count": null,
   "outputs": [],
   "source": [],
   "metadata": {
    "collapsed": false
   },
   "id": "224c1470719df70"
  }
 ],
 "metadata": {
  "kernelspec": {
   "display_name": "Python 3",
   "language": "python",
   "name": "python3"
  },
  "language_info": {
   "codemirror_mode": {
    "name": "ipython",
    "version": 2
   },
   "file_extension": ".py",
   "mimetype": "text/x-python",
   "name": "python",
   "nbconvert_exporter": "python",
   "pygments_lexer": "ipython2",
   "version": "2.7.6"
  }
 },
 "nbformat": 4,
 "nbformat_minor": 5
}

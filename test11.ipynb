{
 "cells": [
  {
   "cell_type": "code",
   "execution_count": 1,
   "outputs": [],
   "source": [
    "import torch\n",
    "import torch.nn as nn\n",
    "from torch.utils.data import Dataset, DataLoader\n",
    "import numpy as np\n",
    "import matplotlib.pyplot as plt"
   ],
   "metadata": {
    "collapsed": false,
    "ExecuteTime": {
     "end_time": "2025-05-02T13:51:07.521966Z",
     "start_time": "2025-05-02T13:51:03.347852Z"
    }
   },
   "id": "initial_id"
  },
  {
   "cell_type": "code",
   "execution_count": 2,
   "outputs": [
    {
     "name": "stdout",
     "output_type": "stream",
     "text": [
      "using loss: easy\n",
      "neuralODE use input scaling with tanh\n",
      "use residual network: input_size=3, output_size=10\n",
      "use residual network: input_size=10, output_size=3\n"
     ]
    },
    {
     "data": {
      "text/plain": "NJODE(\n  (ode_f): ODEFunc(\n    (f): Sequential(\n      (0): Linear(in_features=15, out_features=50, bias=True)\n      (1): Tanh()\n      (2): Dropout(p=0, inplace=False)\n      (3): Linear(in_features=50, out_features=50, bias=True)\n      (4): Tanh()\n      (5): Dropout(p=0, inplace=False)\n      (6): Linear(in_features=50, out_features=10, bias=True)\n    )\n  )\n  (encoder_map): FFNN(\n    (ffnn): Sequential(\n      (0): Linear(in_features=3, out_features=50, bias=True)\n      (1): Tanh()\n      (2): Dropout(p=0, inplace=False)\n      (3): Linear(in_features=50, out_features=50, bias=True)\n      (4): Tanh()\n      (5): Dropout(p=0, inplace=False)\n      (6): Linear(in_features=50, out_features=10, bias=True)\n    )\n  )\n  (readout_map): FFNN(\n    (ffnn): Sequential(\n      (0): Linear(in_features=10, out_features=50, bias=True)\n      (1): Tanh()\n      (2): Dropout(p=0, inplace=False)\n      (3): Linear(in_features=50, out_features=50, bias=True)\n      (4): Tanh()\n      (5): Dropout(p=0, inplace=False)\n      (6): Linear(in_features=50, out_features=3, bias=True)\n    )\n  )\n)"
     },
     "execution_count": 2,
     "metadata": {},
     "output_type": "execute_result"
    }
   ],
   "source": [
    "params_dict_mu = {\n",
    "    'input_size': 3,\n",
    "    'hidden_size': 10,\n",
    "    'output_size': 3,\n",
    "    'ode_nn': ((50, \"tanh\"), (50, \"tanh\")),\n",
    "    'readout_nn': ((50, \"tanh\"), (50, \"tanh\")),\n",
    "    'enc_nn': ((50, \"tanh\"), (50, \"tanh\")),\n",
    "    'use_rnn': False,\n",
    "    'options': {'which_loss': 'easy'},\n",
    "    \"input_coords\": np.arange(3),\n",
    "    \"output_coords\": np.arange(3)\n",
    "}\n",
    "device = torch.device(\"cuda\" if torch.cuda.is_available() else \"cpu\")\n",
    "from models import get_ckpt_model, NJODE\n",
    "model_mu = NJODE(**params_dict_mu).to(device)\n",
    "optimizer = torch.optim.Adam(model_mu.parameters())\n",
    "get_ckpt_model(\"../data/saved_models/id-51/last_checkpoint/\", model_mu, optimizer, device)\n",
    "model_mu.eval()"
   ],
   "metadata": {
    "collapsed": false,
    "ExecuteTime": {
     "end_time": "2025-05-02T13:51:11.408286900Z",
     "start_time": "2025-05-02T13:51:07.527179100Z"
    }
   },
   "id": "c225d8e7a3d7a3f9"
  },
  {
   "cell_type": "code",
   "execution_count": 3,
   "outputs": [
    {
     "name": "stdout",
     "output_type": "stream",
     "text": [
      "using loss: easy_vol\n",
      "neuralODE use input scaling with tanh\n",
      "use residual network: input_size=9, output_size=10\n",
      "use residual network: input_size=10, output_size=9\n"
     ]
    },
    {
     "data": {
      "text/plain": "NJODE(\n  (ode_f): ODEFunc(\n    (f): Sequential(\n      (0): Linear(in_features=21, out_features=50, bias=True)\n      (1): Tanh()\n      (2): Dropout(p=0, inplace=False)\n      (3): Linear(in_features=50, out_features=50, bias=True)\n      (4): Tanh()\n      (5): Dropout(p=0, inplace=False)\n      (6): Linear(in_features=50, out_features=10, bias=True)\n    )\n  )\n  (encoder_map): FFNN(\n    (ffnn): Sequential(\n      (0): Linear(in_features=9, out_features=50, bias=True)\n      (1): Tanh()\n      (2): Dropout(p=0, inplace=False)\n      (3): Linear(in_features=50, out_features=50, bias=True)\n      (4): Tanh()\n      (5): Dropout(p=0, inplace=False)\n      (6): Linear(in_features=50, out_features=10, bias=True)\n    )\n  )\n  (readout_map): FFNN(\n    (ffnn): Sequential(\n      (0): Linear(in_features=10, out_features=50, bias=True)\n      (1): Tanh()\n      (2): Dropout(p=0, inplace=False)\n      (3): Linear(in_features=50, out_features=50, bias=True)\n      (4): Tanh()\n      (5): Dropout(p=0, inplace=False)\n      (6): Linear(in_features=50, out_features=9, bias=True)\n    )\n  )\n)"
     },
     "execution_count": 3,
     "metadata": {},
     "output_type": "execute_result"
    }
   ],
   "source": [
    "params_dict_vol = {\n",
    "    'input_size': 9,\n",
    "    'hidden_size': 10,\n",
    "    'output_size': 9,\n",
    "    'ode_nn': ((50, \"tanh\"), (50, \"tanh\")),\n",
    "    'readout_nn': ((50, \"tanh\"), (50, \"tanh\")),\n",
    "    'enc_nn': ((50, \"tanh\"), (50, \"tanh\")),\n",
    "    'use_rnn': False,\n",
    "    'options': {'which_loss': 'easy_vol'},\n",
    "    \"input_coords\": np.arange(9),\n",
    "    \"output_coords\": np.arange(9)\n",
    "}\n",
    "model_vol = NJODE(**params_dict_vol).to(device)\n",
    "optimizer_vol = torch.optim.Adam(model_vol.parameters())\n",
    "get_ckpt_model(\"../data/saved_models/id-52/last_checkpoint/\", model_vol, optimizer_vol, device)\n",
    "model_vol.eval()"
   ],
   "metadata": {
    "collapsed": false,
    "ExecuteTime": {
     "end_time": "2025-05-02T13:51:11.565863900Z",
     "start_time": "2025-05-02T13:51:11.392629300Z"
    }
   },
   "id": "37cd3827366b915b"
  },
  {
   "cell_type": "code",
   "execution_count": 4,
   "outputs": [],
   "source": [
    "mu_data=np.load(\"../data/training_data/OrnsteinUhlenbeckMultiDimensional-46/data.npy\")"
   ],
   "metadata": {
    "collapsed": false,
    "ExecuteTime": {
     "end_time": "2025-05-02T13:51:11.657455500Z",
     "start_time": "2025-05-02T13:51:11.473400700Z"
    }
   },
   "id": "9203cb657b584852"
  },
  {
   "cell_type": "code",
   "execution_count": 5,
   "outputs": [],
   "source": [
    " def generate_next_value( X_t, mu_t, sigma_t, delta_t):\n",
    "    \"\"\"\n",
    "    Generate the next value in the time series using the Euler-Maruyama scheme.\n",
    "\n",
    "    :param X_t: current value tensor of shape (batch_size, d)\n",
    "    :param mu_t: drift coefficient tensor of shape (batch_size, d)\n",
    "    :param sigma_t: diffusion coefficient tensor of shape ( d, d)\n",
    "    :param delta_t: time difference float\n",
    "    :return: next value tensor of shape (batch_size, d)\n",
    "    \"\"\"\n",
    "    delta_Wt = torch.randn_like(X_t) * delta_t** 0.5\n",
    "\n",
    "    X_t_next = X_t + mu_t * delta_t + delta_Wt @ sigma_t\n",
    "\n",
    "    return X_t_next"
   ],
   "metadata": {
    "collapsed": false,
    "ExecuteTime": {
     "end_time": "2025-05-02T13:51:11.688821800Z",
     "start_time": "2025-05-02T13:51:11.552218Z"
    }
   },
   "id": "ec3efbc5ce81e0aa"
  },
  {
   "cell_type": "code",
   "execution_count": 26,
   "outputs": [
    {
     "name": "stdout",
     "output_type": "stream",
     "text": [
      "tensor([[1.0000, 1.5000, 2.0000]]) tensor([[0.0497, 0.0355, 0.0486]], grad_fn=<MulBackward0>) tensor([[0.0366, 0.0264, 0.0244]], grad_fn=<MulBackward0>)\n",
      "tensor([[1.0544, 1.5460, 2.0436]], grad_fn=<UnsqueezeBackward0>) tensor([[0.0495, 0.0467, 0.0141]], grad_fn=<MulBackward0>) tensor([[-0.0057,  0.0063,  0.0344]], grad_fn=<MulBackward0>)\n",
      "tensor([[1.1516, 1.6665, 2.1265]], grad_fn=<UnsqueezeBackward0>) tensor([[-0.0309, -0.0715, -0.0668]], grad_fn=<MulBackward0>) tensor([[-0.0076,  0.0034, -0.0181]], grad_fn=<MulBackward0>)\n",
      "tensor([[1.1649, 1.6443, 2.1025]], grad_fn=<UnsqueezeBackward0>) tensor([[-0.0198, -0.0294,  0.0036]], grad_fn=<MulBackward0>) tensor([[-0.0059, -0.0120,  0.0007]], grad_fn=<MulBackward0>)\n",
      "tensor([[1.1432, 1.6000, 2.0806]], grad_fn=<UnsqueezeBackward0>) tensor([[0.0229, 0.0275, 0.0447]], grad_fn=<MulBackward0>) tensor([[-0.0116, -0.0201,  0.0004]], grad_fn=<MulBackward0>)\n",
      "tensor([[1.1417, 1.6389, 2.1173]], grad_fn=<UnsqueezeBackward0>) tensor([[0.0441, 0.0247, 0.0169]], grad_fn=<MulBackward0>) tensor([[0.0045, 0.0271, 0.0088]], grad_fn=<MulBackward0>)\n",
      "tensor([[1.1944, 1.6870, 2.1707]], grad_fn=<UnsqueezeBackward0>) tensor([[-0.0364, -0.0698, -0.1217]], grad_fn=<MulBackward0>) tensor([[0.0274, 0.0250, 0.0208]], grad_fn=<MulBackward0>)\n",
      "tensor([[1.1971, 1.6586, 2.1085]], grad_fn=<UnsqueezeBackward0>) tensor([[-0.0246, -0.0231, -0.0693]], grad_fn=<MulBackward0>) tensor([[0.0545, 0.0464, 0.0588]], grad_fn=<MulBackward0>)\n"
     ]
    }
   ],
   "source": [
    "times=np.array([0.01,])\n",
    "time_ptr = np.array([0, 1])\n",
    "obs_idx = torch.tensor([0],dtype=torch.long)\n",
    "Vol = torch.tensor([],dtype=torch.float)\n",
    "delta_t=0.01\n",
    "X= torch.tensor(mu_data[0,:,0], dtype=torch.float).unsqueeze(0)\n",
    "start_X = torch.tensor(mu_data[0,:,0], dtype=torch.float).unsqueeze(0)\n",
    "n_obs_ot=torch.tensor([1], dtype=torch.float)\n",
    "\n",
    "for i in range(2,10):\n",
    "    times=np.append(times, 0.01*i)\n",
    "    time_ptr = np.append(time_ptr, i) \n",
    "    T=0.01*i\n",
    "    obs_idx=torch.cat((obs_idx, torch.tensor([0], dtype=torch.long)))\n",
    "    n_obs_ot+=1\n",
    "    X= torch.cat((X, torch.tensor(mu_data[0,:,i-1], dtype=torch.float).unsqueeze(0)))\n",
    "    \n",
    "    # Here mu_pred is conditional expectation of X_t at time 0.01*(i-1) \n",
    "    mu_pred=model_mu.get_pred(times, time_ptr, X, obs_idx, delta_t, T, start_X, n_obs_ot)[\"pred\"][-1]\n",
    "\n",
    "    X_t_plus = X[i-1,:].unsqueeze(0)\n",
    "    X_t = X[i-2, :].unsqueeze(0)\n",
    "    vol_tensor = (X_t_plus - X_t).T@(X_t_plus-X_t)\n",
    "    if i==2:\n",
    "        start_Vol = vol_tensor.view(1,-1)\n",
    "    vol  = vol_tensor.view(1,-1)\n",
    "    Vol = torch.cat((Vol, vol))\n",
    "\n",
    "    # Here sigma_pred conditional expectation of Z_t at time 0.01*(i-2) \n",
    "    sigma_pred=model_vol.get_pred(times[:-1], time_ptr[:-1], Vol, obs_idx[:-1], delta_t, T-0.01, start_Vol, (n_obs_ot-1) )[\"pred\"][-1]\n",
    "    \n",
    "    # Computed mu_hat and sigma_hat at time 0.01*(i-2) \n",
    "    mu_hat_t = (mu_pred - X_t)/delta_t\n",
    "    sigma_hat_t = sigma_pred/(delta_t**0.5)\n",
    "\n",
    "    # generated new point at time 0.01*(i-1) \n",
    "    print(X_t, mu_hat_t*delta_t, torch.randn_like(X_t) @ sigma_hat_t.view(3,3)*(delta_t**0.5))\n",
    "    \n",
    "    X_next = generate_next_value(X_t, mu_hat_t, sigma_hat_t.view(3,3), delta_t)\n",
    "    \n",
    "    # Replace the old real data at time 0.01*(i-1) with generated data \n",
    "    X[i-1,:] = X_next\n"
   ],
   "metadata": {
    "collapsed": false,
    "ExecuteTime": {
     "end_time": "2025-05-02T15:48:29.547894600Z",
     "start_time": "2025-05-02T15:48:29.436425300Z"
    }
   },
   "id": "4d1d961dd56f4367"
  },
  {
   "cell_type": "code",
   "execution_count": 21,
   "outputs": [
    {
     "data": {
      "text/plain": "tensor([[1.0000, 1.5000, 2.0000],\n        [0.9628, 1.4408, 2.1674],\n        [1.6178, 2.0943, 2.0169],\n        [0.2142, 0.6047, 2.1017]], grad_fn=<CopySlices>)"
     },
     "execution_count": 21,
     "metadata": {},
     "output_type": "execute_result"
    }
   ],
   "source": [
    "X"
   ],
   "metadata": {
    "collapsed": false,
    "ExecuteTime": {
     "end_time": "2025-05-02T15:31:16.936446400Z",
     "start_time": "2025-05-02T15:31:16.919936800Z"
    }
   },
   "id": "7f234768d8f7a341"
  },
  {
   "cell_type": "code",
   "execution_count": null,
   "outputs": [],
   "source": [],
   "metadata": {
    "collapsed": false
   },
   "id": "fa5c0ca771463961"
  }
 ],
 "metadata": {
  "kernelspec": {
   "display_name": "Python 3",
   "language": "python",
   "name": "python3"
  },
  "language_info": {
   "codemirror_mode": {
    "name": "ipython",
    "version": 2
   },
   "file_extension": ".py",
   "mimetype": "text/x-python",
   "name": "python",
   "nbconvert_exporter": "python",
   "pygments_lexer": "ipython2",
   "version": "2.7.6"
  }
 },
 "nbformat": 4,
 "nbformat_minor": 5
}

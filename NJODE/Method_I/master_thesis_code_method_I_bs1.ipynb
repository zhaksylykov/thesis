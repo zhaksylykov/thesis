{
  "cells": [
    {
      "cell_type": "markdown",
      "metadata": {
        "id": "CSusx7dSpn-5"
      },
      "source": [
        "# Imports"
      ]
    },
    {
      "cell_type": "code",
      "execution_count": null,
      "metadata": {
        "colab": {
          "base_uri": "https://localhost:8080/"
        },
        "id": "43hk8wXUpeT-",
        "outputId": "edc8a489-df46-4e2e-c1d1-07e2ffd3d407"
      },
      "outputs": [
        {
          "output_type": "stream",
          "name": "stdout",
          "text": [
            "Collecting iisignature\n",
            "  Downloading iisignature-0.24.tar.gz (1.3 MB)\n",
            "\u001b[?25l     \u001b[90m━━━━━━━━━━━━━━━━━━━━━━━━━━━━━━━━━━━━━━━━\u001b[0m \u001b[32m0.0/1.3 MB\u001b[0m \u001b[31m?\u001b[0m eta \u001b[36m-:--:--\u001b[0m\r\u001b[2K     \u001b[91m━━━━━━━━━━━━━━━\u001b[0m\u001b[90m╺\u001b[0m\u001b[90m━━━━━━━━━━━━━━━━━━━━━━━━\u001b[0m \u001b[32m0.5/1.3 MB\u001b[0m \u001b[31m14.1 MB/s\u001b[0m eta \u001b[36m0:00:01\u001b[0m\r\u001b[2K     \u001b[90m━━━━━━━━━━━━━━━━━━━━━━━━━━━━━━━━━━━━━━━━\u001b[0m \u001b[32m1.3/1.3 MB\u001b[0m \u001b[31m19.0 MB/s\u001b[0m eta \u001b[36m0:00:00\u001b[0m\n",
            "\u001b[?25h  Preparing metadata (setup.py) ... \u001b[?25l\u001b[?25hdone\n",
            "Requirement already satisfied: numpy>1.7 in /usr/local/lib/python3.11/dist-packages (from iisignature) (2.0.2)\n",
            "Building wheels for collected packages: iisignature\n",
            "  Building wheel for iisignature (setup.py) ... \u001b[?25l\u001b[?25hdone\n",
            "  Created wheel for iisignature: filename=iisignature-0.24-cp311-cp311-linux_x86_64.whl size=3246077 sha256=00bdd448538b79eb50200dcdc5ac27ddbfd0120e56f1b142fd66c6250eab5fff\n",
            "  Stored in directory: /root/.cache/pip/wheels/1c/f4/57/0b4d3787a07f20a3cd1a91835d6247f55ef899345267bcd6df\n",
            "Successfully built iisignature\n",
            "Installing collected packages: iisignature\n",
            "Successfully installed iisignature-0.24\n"
          ]
        }
      ],
      "source": [
        "# imports\n",
        "import numpy as np\n",
        "import json, os, time, sys\n",
        "from torch.utils.data import Dataset\n",
        "import torch\n",
        "import copy\n",
        "import pandas as pd\n",
        "from absl import app\n",
        "from absl import flags\n",
        "from zipfile import ZipFile\n",
        "\n",
        "import torch\n",
        "import sklearn\n",
        "import scipy.linalg\n",
        "%pip install iisignature\n",
        "import iisignature as sig\n",
        "import warnings\n",
        "\n",
        "from typing import List\n",
        "import torch.nn as nn\n",
        "import tqdm\n",
        "from torch.utils.data import DataLoader\n",
        "from sklearn.model_selection import train_test_split\n",
        "import socket\n",
        "import matplotlib\n",
        "import matplotlib.colors\n",
        "import matplotlib.pyplot as plt\n",
        "from torch.backends import cudnn\n",
        "import gc\n",
        "import scipy.stats as stats"
      ]
    },
    {
      "cell_type": "markdown",
      "metadata": {
        "id": "QYtrpyukptd4"
      },
      "source": [
        "# Data Creation"
      ]
    },
    {
      "cell_type": "code",
      "execution_count": null,
      "metadata": {
        "id": "BBrFWx5ups22"
      },
      "outputs": [],
      "source": [
        "# utility functions\n",
        "def makedirs(dirname):\n",
        "    if not os.path.exists(dirname):\n",
        "        os.makedirs(dirname)\n",
        "\n",
        "def compute_loss(X_obs, Y_obs, Y_obs_bj, n_obs_ot, batch_size, eps=1e-10,\n",
        "                 weight=0.5, M_obs=None, which_loss=\"easy\"):\n",
        "    \"\"\"\n",
        "    compute the loss of the true conditional expectation, as in\n",
        "    model.compute_loss\n",
        "    \"\"\"\n",
        "    loss_fun = LOSS_FUN_DICT[which_loss]\n",
        "    if M_obs is not None:\n",
        "        M_obs = torch.from_numpy(M_obs)\n",
        "    loss = loss_fun(\n",
        "        X_obs=torch.from_numpy(X_obs),\n",
        "        Y_obs=torch.from_numpy(Y_obs),\n",
        "        Y_obs_bj=torch.from_numpy(Y_obs_bj),\n",
        "        n_obs_ot=torch.from_numpy(n_obs_ot),\n",
        "        batch_size=batch_size, eps=eps, weight=weight,\n",
        "        M_obs=M_obs).detach().numpy()\n",
        "    return loss\n",
        "\n",
        "# synthetic datasets:\n",
        "#   this is only a small collection of the available datasets.\n",
        "#   more can be found in the git repo.\n",
        "class StockModel:\n",
        "    \"\"\"\n",
        "    mother class for all stock models defining the variables and methods shared\n",
        "    amongst all of them, some need to be defined individually\n",
        "    \"\"\"\n",
        "\n",
        "    def __init__(self, drift, volatility, S0, nb_paths, nb_steps,\n",
        "                 maturity, sine_coeff, **kwargs):\n",
        "        self.drift = drift\n",
        "        self.volatility = volatility\n",
        "        self.S0 = S0\n",
        "        self.nb_paths = nb_paths\n",
        "        self.nb_steps = nb_steps\n",
        "        self.maturity = maturity\n",
        "        self.dt = maturity / nb_steps\n",
        "        self.dimensions = np.size(S0)\n",
        "        if sine_coeff is None:\n",
        "            self.periodic_coeff = lambda t: 1\n",
        "        else:\n",
        "            self.periodic_coeff = lambda t: (1 + np.sin(sine_coeff * t))\n",
        "        self.loss = None\n",
        "        self.path_t = None\n",
        "        self.path_y = None\n",
        "        self.path_var_y = None\n",
        "\n",
        "        self.return_var_implemented = False\n",
        "        self.loss_comp_for_pow2_implemented = False\n",
        "\n",
        "    def generate_paths(self, **options):\n",
        "        \"\"\"\n",
        "        generate random paths according to the model hyperparams\n",
        "        :return: stock paths as np.array, dim: [nb_paths, data_dim, nb_steps]\n",
        "        \"\"\"\n",
        "        raise ValueError(\"not implemented yet\")\n",
        "\n",
        "    def next_cond_exp(self, *args, **kwargs):\n",
        "        \"\"\"\n",
        "        compute the next point of the conditional expectation starting from\n",
        "        given point for given time_delta\n",
        "        :return: cond. exp. at next time_point (= current_time + time_delta)\n",
        "        \"\"\"\n",
        "        raise ValueError(\"not implemented yet\")\n",
        "\n",
        "    def compute_cond_exp(self, times, time_ptr, X, obs_idx, delta_t, T, start_X,\n",
        "                         n_obs_ot, return_path=True, get_loss=False,\n",
        "                         weight=0.5, store_and_use_stored=True,\n",
        "                         start_time=None, which_loss=\"easy\",\n",
        "                         return_var=False,\n",
        "                         **kwargs):\n",
        "        \"\"\"\n",
        "        compute conditional expectation similar to computing the prediction in\n",
        "        the model.NJODE.forward\n",
        "        ATTENTION: Works correctly only for non-masked data!\n",
        "        :param times: see model.NJODE.forward\n",
        "        :param time_ptr: see model.NJODE.forward\n",
        "        :param X: see model.NJODE.forward, as np.array\n",
        "        :param obs_idx: see model.NJODE.forward, as np.array\n",
        "        :param delta_t: see model.NJODE.forward, as np.array\n",
        "        :param T: see model.NJODE.forward\n",
        "        :param start_X: see model.NJODE.forward, as np.array\n",
        "        :param n_obs_ot: see model.NJODE.forward, as np.array\n",
        "        :param return_path: see model.NJODE.forward\n",
        "        :param get_loss: see model.NJODE.forward\n",
        "        :param weight: see model.NJODE.forward\n",
        "        :param store_and_use_stored: bool, whether the loss, and cond exp path\n",
        "            should be stored and reused when calling the function again\n",
        "        :param start_time: None or float, if float, this is first time point\n",
        "        :param return_var: bool, whether to return the variance additionally to\n",
        "                the process; only if self.return_var_implemented is True\n",
        "        :param kwargs: unused, to allow for additional unused inputs\n",
        "        :return: float (loss), if wanted paths of t and y (np.arrays)\n",
        "        \"\"\"\n",
        "        if return_var and not self.return_var_implemented:\n",
        "            return_var = False\n",
        "\n",
        "        if return_path and store_and_use_stored:\n",
        "            res = [self.loss, self.path_t, self.path_y]\n",
        "            if return_var:\n",
        "                res.append(self.path_var_y)\n",
        "            if get_loss:\n",
        "                if self.path_t is not None and self.loss is not None:\n",
        "                    return res\n",
        "            else:\n",
        "                if self.path_t is not None:\n",
        "                    return res\n",
        "        elif store_and_use_stored:\n",
        "            if get_loss:\n",
        "                if self.loss is not None:\n",
        "                    return self.loss\n",
        "\n",
        "        y = start_X\n",
        "        if return_var:\n",
        "            var_y = start_X*0\n",
        "        batch_size = start_X.shape[0]\n",
        "        current_time = 0.0\n",
        "        if start_time:\n",
        "            current_time = start_time\n",
        "\n",
        "        loss = 0\n",
        "\n",
        "        if return_path:\n",
        "            if start_time:\n",
        "                path_t = []\n",
        "                path_y = []\n",
        "                if return_var:\n",
        "                    path_var_y = []\n",
        "            else:\n",
        "                path_t = [0.]\n",
        "                path_y = [y]\n",
        "                if return_var:\n",
        "                    path_var_y = [var_y]\n",
        "\n",
        "        for i, obs_time in enumerate(times):\n",
        "            # the following is needed for the combined stock model datasets\n",
        "            if obs_time > T + 1e-10*delta_t:\n",
        "                break\n",
        "            if obs_time <= current_time:\n",
        "                continue\n",
        "            # Calculate conditional expectation stepwise\n",
        "            while current_time < (obs_time - 1e-10*delta_t):\n",
        "                if current_time < obs_time - delta_t:\n",
        "                    delta_t_ = delta_t\n",
        "                else:\n",
        "                    delta_t_ = obs_time - current_time\n",
        "                y = self.next_cond_exp(y, delta_t_, current_time)\n",
        "                if return_var:\n",
        "                    var_y = self.next_cond_exp(\n",
        "                        var_y, delta_t_, current_time, variance=True)\n",
        "                current_time = current_time + delta_t_\n",
        "\n",
        "                # Storing the conditional expectation\n",
        "                if return_path:\n",
        "                    path_t.append(current_time)\n",
        "                    path_y.append(y)\n",
        "                    if return_var:\n",
        "                        path_var_y.append(var_y)\n",
        "\n",
        "            # Reached an observation - set new interval\n",
        "            start = time_ptr[i]\n",
        "            end = time_ptr[i + 1]\n",
        "            X_obs = X[start:end]\n",
        "            i_obs = obs_idx[start:end]\n",
        "\n",
        "            # Update h. Also updating loss, tau and last_X\n",
        "            Y_bj = y\n",
        "            temp = copy.deepcopy(y)\n",
        "            temp[i_obs] = X_obs\n",
        "            y = temp\n",
        "            Y = y\n",
        "            if return_var:\n",
        "                temp_var = copy.deepcopy(var_y)\n",
        "                temp_var[i_obs] = X_obs*0\n",
        "                var_y = temp_var\n",
        "\n",
        "            if get_loss:\n",
        "                loss = loss + compute_loss(\n",
        "                    X_obs=X_obs, Y_obs=Y[i_obs], Y_obs_bj=Y_bj[i_obs],\n",
        "                    n_obs_ot=n_obs_ot[i_obs],\n",
        "                    batch_size=batch_size, weight=weight, which_loss=which_loss)\n",
        "            if return_path:\n",
        "                path_t.append(obs_time)\n",
        "                path_y.append(y)\n",
        "                if return_var:\n",
        "                    path_var_y.append(var_y)\n",
        "\n",
        "        # after every observation has been processed, propagating until T\n",
        "        while current_time < T - 1e-10 * delta_t:\n",
        "            if current_time < T - delta_t:\n",
        "                delta_t_ = delta_t\n",
        "            else:\n",
        "                delta_t_ = T - current_time\n",
        "            y = self.next_cond_exp(y, delta_t_, current_time)\n",
        "            if return_var:\n",
        "                var_y = self.next_cond_exp(\n",
        "                    var_y, delta_t_, current_time, variance=True)\n",
        "            current_time = current_time + delta_t_\n",
        "\n",
        "            # Storing the predictions.\n",
        "            if return_path:\n",
        "                path_t.append(current_time)\n",
        "                path_y.append(y)\n",
        "                if return_var:\n",
        "                    path_var_y.append(var_y)\n",
        "\n",
        "        if get_loss and store_and_use_stored:\n",
        "            self.loss = loss\n",
        "        if return_path and store_and_use_stored:\n",
        "            self.path_t = np.array(path_t)\n",
        "            self.path_y = np.array(path_y)\n",
        "            if return_var:\n",
        "                self.path_var_y = np.array(path_var_y)\n",
        "\n",
        "        if return_path:\n",
        "            # path dimension: [time_steps, batch_size, output_size]\n",
        "            res = [loss, np.array(path_t), np.array(path_y)]\n",
        "            if return_var:\n",
        "                res.append(np.array(path_var_y))\n",
        "            return res\n",
        "        else:\n",
        "            return loss\n",
        "\n",
        "    def get_optimal_loss(self, times, time_ptr, X, obs_idx, delta_t, T, start_X,\n",
        "                         n_obs_ot, weight=0.5, M=None, mult=None,\n",
        "                         store_and_use_stored=True, return_var=False,\n",
        "                         which_loss=\"easy\"):\n",
        "        if mult is not None and mult > 1:\n",
        "            bs, dim = start_X.shape\n",
        "            _dim = round(dim / mult)\n",
        "            X = X[:, :_dim]\n",
        "            start_X = start_X[:, :_dim]\n",
        "            if M is not None:\n",
        "                M = M[:, :_dim]\n",
        "\n",
        "        # depending on whether method can return the variance, the result has\n",
        "        #   len 3 or 4\n",
        "        res = self.compute_cond_exp(\n",
        "            times, time_ptr, X, obs_idx, delta_t, T, start_X, n_obs_ot,\n",
        "            return_path=True, get_loss=True, weight=weight, M=M,\n",
        "            store_and_use_stored=store_and_use_stored, return_var=return_var,\n",
        "            which_loss=which_loss)\n",
        "        loss = res[0]\n",
        "        return loss\n",
        "\n",
        "class BlackScholes(StockModel):\n",
        "    \"\"\"\n",
        "    standard Black-Scholes model, see:\n",
        "    https://en.wikipedia.org/wiki/Black–Scholes_model\n",
        "    https://en.wikipedia.org/wiki/Geometric_Brownian_motion\n",
        "    \"\"\"\n",
        "\n",
        "    def __init__(self, drift, volatility, nb_paths, nb_steps, S0,  # initialize relevant parameters\n",
        "                 maturity, sine_coeff=None, **kwargs):\n",
        "        super(BlackScholes, self).__init__(\n",
        "            drift=drift, volatility=volatility, nb_paths=nb_paths,\n",
        "            nb_steps=nb_steps, S0=S0, maturity=maturity,\n",
        "            sine_coeff=sine_coeff\n",
        "        )\n",
        "\n",
        "    def next_cond_exp(self, y, delta_t, current_t):\n",
        "        return y * np.exp(self.drift * self.periodic_coeff(current_t) * delta_t)\n",
        "\n",
        "    def generate_paths(self, start_X=None):\n",
        "        drift = lambda x, t: self.drift * self.periodic_coeff(t) * x\n",
        "        diffusion = lambda x, t: self.volatility * x\n",
        "        spot_paths = np.empty(\n",
        "            (self.nb_paths, self.dimensions, self.nb_steps + 1))\n",
        "        dt = self.dt\n",
        "        if start_X is not None:\n",
        "            spot_paths[:, :, 0] = start_X\n",
        "        for i in range(self.nb_paths):\n",
        "            if start_X is None:\n",
        "                spot_paths[i, :, 0] = self.S0\n",
        "            for k in range(1, self.nb_steps + 1):\n",
        "                random_numbers = np.random.normal(0, 1, self.dimensions)\n",
        "                dW = random_numbers * np.sqrt(dt)\n",
        "                spot_paths[i, :, k] = (\n",
        "                        spot_paths[i, :, k - 1]\n",
        "                        + drift(spot_paths[i, :, k - 1], (k - 1) * dt) * dt\n",
        "                        + diffusion(spot_paths[i, :, k - 1], (k) * dt) * dW)\n",
        "        # stock_path dimension: [nb_paths, dimension, time_steps]\n",
        "        return spot_paths, dt\n",
        "\n",
        "class BM(StockModel):\n",
        "    \"\"\"\n",
        "    Brownian Motion\n",
        "    \"\"\"\n",
        "\n",
        "    def __init__(\n",
        "        self, nb_paths, nb_steps, maturity, dimension, drift=0, **kwargs):\n",
        "        super().__init__(\n",
        "            drift=drift, volatility=None, nb_paths=nb_paths,\n",
        "            nb_steps=nb_steps, S0=0., maturity=maturity,\n",
        "            sine_coeff=None,)\n",
        "        assert dimension == 1\n",
        "        self.return_var_implemented = True\n",
        "\n",
        "    def next_cond_exp(self, y, delta_t, current_t, variance=False):\n",
        "        if variance:\n",
        "            next_y = y + delta_t\n",
        "        else:\n",
        "            next_y = y + self.drift * delta_t\n",
        "        return next_y\n",
        "\n",
        "    def generate_paths(self, start_X=None):\n",
        "        spot_paths = np.zeros(\n",
        "            (self.nb_paths, 1, self.nb_steps + 1))\n",
        "        if start_X is not None:\n",
        "            spot_paths[:, :, 0] = start_X\n",
        "        dt = self.dt\n",
        "\n",
        "        random_numbers = np.random.normal(\n",
        "            0, 1, (self.nb_paths, 1, self.nb_steps)) * np.sqrt(dt)\n",
        "        W = np.cumsum(random_numbers, axis=2)\n",
        "\n",
        "        spot_paths[:, 0, 1:] = spot_paths[:, :, 0] + W[:, 0, :] + self.drift * np.arange(\n",
        "            1, self.nb_steps+1) * dt\n",
        "\n",
        "        # stock_path dimension: [nb_paths, dimension, time_steps]\n",
        "        return spot_paths, dt\n",
        "\n",
        "class BMNoisyObs(BM):\n",
        "    \"\"\"\n",
        "    A Brownian Motion with noisy observations\n",
        "    \"\"\"\n",
        "\n",
        "    def __init__(self, nb_paths, nb_steps, maturity, obs_noise, dimension,\n",
        "                 **kwargs):\n",
        "        super().__init__(\n",
        "            nb_paths=nb_paths, nb_steps=nb_steps, maturity=maturity,\n",
        "            dimension=dimension,)\n",
        "        assert dimension == 1, \"dimension has to be set to 1 for this dataset\"\n",
        "        self.path_t = None\n",
        "        self.loss = None\n",
        "        self.noise_sig = obs_noise[\"scale\"]\n",
        "\n",
        "    def compute_cond_exp(self, times, time_ptr, X, obs_idx, delta_t, T, start_X,\n",
        "                         n_obs_ot, return_path=True, get_loss=False,\n",
        "                         weight=0.5, store_and_use_stored=True,\n",
        "                         start_time=None, M=None, which_loss=\"easy\",\n",
        "                         **kwargs):\n",
        "        \"\"\"\n",
        "        Compute conditional expectation\n",
        "        :param times: np.array, of observation times\n",
        "        :param time_ptr: list, start indices of X and obs_idx for a given\n",
        "                observation time, first element is 0, this pointer tells how\n",
        "                many (and which) of the observations of X along the batch-dim\n",
        "                belong to the current time, and obs_idx then tells to which of\n",
        "                the batch elements they belong. In particular, not each batch-\n",
        "                element has to jump at the same time, and only those elements\n",
        "                which jump at the current time should be updated with a jump\n",
        "        :param X: np.array, data tensor\n",
        "        :param obs_idx: list, index of the batch elements where jumps occur at\n",
        "                current time\n",
        "        :param delta_t: float, time step for Euler\n",
        "        :param T: float, the final time\n",
        "        :param start_X: np.array, the starting point of X\n",
        "        :param n_obs_ot: np.array, the number of observations over the\n",
        "                entire time interval for each element of the batch\n",
        "        :param return_path: bool, whether to return the path of h\n",
        "        :param get_loss: bool, whether to compute the loss, otherwise 0 returned\n",
        "        :param until_T: bool, whether to continue until T (for eval) or only\n",
        "                until last observation (for training)\n",
        "        :param M: None or np.array, if not None: the mask for the data, same\n",
        "                size as X, with 0 or 1 entries\n",
        "        :return: float (loss), if wanted paths of t and y (np.arrays)\n",
        "        \"\"\"\n",
        "        if return_path and store_and_use_stored:\n",
        "            if get_loss:\n",
        "                if self.path_t is not None and self.loss is not None:\n",
        "                    return self.loss, self.path_t, self.path_y\n",
        "            else:\n",
        "                if self.path_t is not None:\n",
        "                    return self.loss, self.path_t, self.path_y\n",
        "        elif store_and_use_stored:\n",
        "            if get_loss:\n",
        "                if self.loss is not None:\n",
        "                    return self.loss\n",
        "\n",
        "        bs = start_X.shape[0]\n",
        "        self.observations = [[] for x in range(bs)]\n",
        "        self.observed_t_all = [[] for x in range(bs)]\n",
        "\n",
        "        y = start_X\n",
        "        batch_size = bs\n",
        "        current_time = 0.0\n",
        "        if start_time:\n",
        "            current_time = start_time\n",
        "\n",
        "        loss = 0\n",
        "\n",
        "        if return_path:\n",
        "            if start_time:\n",
        "                path_t = []\n",
        "                path_y = []\n",
        "            else:\n",
        "                path_t = [0.]\n",
        "                path_y = [y]\n",
        "\n",
        "        for i, obs_time in enumerate(times):\n",
        "            # Calculate conditional expectation stepwise\n",
        "            while current_time < (obs_time - 1e-10 * delta_t):\n",
        "                if current_time < obs_time - delta_t:\n",
        "                    delta_t_ = delta_t\n",
        "                else:\n",
        "                    delta_t_ = obs_time - current_time\n",
        "                y = self.next_cond_exp(y, delta_t_, current_time)\n",
        "                current_time = current_time + delta_t_\n",
        "\n",
        "                # Storing the conditional expectation\n",
        "                if return_path:\n",
        "                    path_t.append(current_time)\n",
        "                    path_y.append(y)\n",
        "\n",
        "            # Reached an observation - set new interval\n",
        "            start = time_ptr[i]\n",
        "            end = time_ptr[i + 1]\n",
        "            X_obs = X[start:end]\n",
        "            i_obs = obs_idx[start:end]\n",
        "\n",
        "            # Update h. Also updating loss, tau and last_X\n",
        "            Y_bj = y\n",
        "            temp = copy.copy(y)\n",
        "            for j, jj in enumerate(i_obs):\n",
        "                self.observations[jj].append(X_obs[j])\n",
        "                self.observed_t_all[jj].append(obs_time)\n",
        "                size = len(self.observed_t_all[jj])\n",
        "                Sig = np.zeros((size, size))\n",
        "                for k in range(size):\n",
        "                    tmin = self.observed_t_all[jj][k]\n",
        "                    Sig[k, k+1:] = tmin\n",
        "                    Sig[k+1:, k] = tmin\n",
        "                    Sig[k, k] = tmin + self.noise_sig**2\n",
        "                sigvec = np.array(self.observed_t_all[jj])\n",
        "                Sig_inv = np.linalg.inv(Sig)\n",
        "                obs = np.array(self.observations[jj])\n",
        "                mu = np.dot(np.dot(sigvec, Sig_inv), obs)\n",
        "                temp[jj] = mu\n",
        "            y = temp\n",
        "            Y = y\n",
        "\n",
        "            if get_loss:\n",
        "                loss = loss + compute_loss(\n",
        "                    X_obs=X_obs, Y_obs=Y[i_obs], Y_obs_bj=Y_bj[i_obs],\n",
        "                    n_obs_ot=n_obs_ot[i_obs], batch_size=batch_size,\n",
        "                    weight=weight, M_obs=None, which_loss=which_loss)\n",
        "            if return_path:\n",
        "                path_t.append(obs_time)\n",
        "                path_y.append(y)\n",
        "\n",
        "        # after every observation has been processed, propagating until T\n",
        "        while current_time < T - 1e-10 * delta_t:\n",
        "            if current_time < T - delta_t:\n",
        "                delta_t_ = delta_t\n",
        "            else:\n",
        "                delta_t_ = T - current_time\n",
        "            y = self.next_cond_exp(y, delta_t_)\n",
        "            current_time = current_time + delta_t_\n",
        "\n",
        "            # Storing the predictions.\n",
        "            if return_path:\n",
        "                path_t.append(current_time)\n",
        "                path_y.append(y)\n",
        "\n",
        "        if get_loss and store_and_use_stored:\n",
        "            self.loss = loss\n",
        "        if return_path and store_and_use_stored:\n",
        "            self.path_t = np.array(path_t)\n",
        "            self.path_y = np.array(path_y)\n",
        "\n",
        "        if return_path:\n",
        "            # path dimension: [time_steps, batch_size, output_size]\n",
        "            return loss, np.array(path_t), np.array(path_y)\n",
        "        else:\n",
        "            return loss\n",
        "\n",
        "class BMFiltering(StockModel):\n",
        "    \"\"\"\n",
        "    A Brownian Motion filtering example. The Signal process is a BM $X$ and the\n",
        "    observation process is given by\n",
        "        $ Y = \\\\alpha X + W, $\n",
        "    where $W$ is also a BM independent of $X$ and $\\\\alpha \\\\in \\\\R$.\n",
        "    $ Z = (Y, X) $, i.e. the first coordinate is $Y$ and is always observed.\n",
        "    expectation for incomplete observations\n",
        "    https://en.wikipedia.org/wiki/Multivariate_normal_distribution\n",
        "\n",
        "    optionally, in the IO_version, Y is the input and X the output coordinate\n",
        "    \"\"\"\n",
        "\n",
        "    def __init__(self, nb_paths, nb_steps, maturity, alpha, dimension,\n",
        "                 IO_version=False, **kwargs):\n",
        "        super().__init__(\n",
        "            drift=None, volatility=None, nb_paths=nb_paths,\n",
        "            nb_steps=nb_steps, S0=np.array([0,0]), maturity=maturity,\n",
        "            sine_coeff=None\n",
        "        )\n",
        "        self.alpha = alpha\n",
        "        assert dimension == 2, \"dimension has to be set to 2 for this dataset\"\n",
        "        self.path_t = None\n",
        "        self.loss = None\n",
        "        self.IO_version = IO_version\n",
        "        if self.IO_version:\n",
        "            self.output_coords = [1]\n",
        "        else:\n",
        "            self.output_coords = [0, 1]\n",
        "\n",
        "    def next_cond_exp(self, y, delta_t, current_t):\n",
        "        return y\n",
        "\n",
        "    def get_mu(self, jj, which_coord_obs):\n",
        "        if self.IO_version:\n",
        "            N = len(self.observed_t_all[jj])\n",
        "            sig_11 = np.zeros((N,N))\n",
        "            for i in range(N):\n",
        "                for j in range(N):\n",
        "                    sig_11[i,j] = ((self.alpha**2+1) *\n",
        "                                   self.observed_t_all[jj][min(i,j)])\n",
        "            sig_21 = self.alpha * np.array(\n",
        "                self.observed_t_all[jj]).reshape((1,-1))\n",
        "            sig_22 = self.observed_t_all[jj][-1]\n",
        "            sig_11_inv = np.linalg.inv(sig_11)\n",
        "            mu = np.dot(sig_21, np.dot(\n",
        "                sig_11_inv, np.array(self.observed_X0[jj])))\n",
        "            return mu\n",
        "\n",
        "        sig = np.diag(self.observed_t_all_inc[jj]*2)\n",
        "        M0 = np.tri(N=len(self.observed_0[jj]), k=0)[\n",
        "            np.array(self.observed_0[jj])==1]\n",
        "        M1 = np.tri(N=len(self.observed_1[jj]), k=0)[\n",
        "            np.array(self.observed_1[jj])==1]\n",
        "        r1, c1 = M0.shape\n",
        "        r2, c2 = M1.shape\n",
        "        M = np.zeros((r1+r2, c1*2))\n",
        "        M[:r1, :c1] = self.alpha*M0\n",
        "        M[:r1, c1:c1*2] = M0\n",
        "        M[r1:, :c1] = M1\n",
        "        sig_bar_22_inv = np.linalg.inv(\n",
        "            np.dot(np.dot(M, sig), np.transpose(M)))\n",
        "        m = np.zeros((1,c1*2))\n",
        "        m[0, :c1] = 1\n",
        "        sig_bar_12 = np.dot(np.dot(m, sig), np.transpose(M))\n",
        "        obs_arr = np.array(\n",
        "            self.observed_X0[jj]+self.observed_X1[jj])\n",
        "        mu = np.dot(np.dot(sig_bar_12, sig_bar_22_inv), obs_arr)\n",
        "        return mu\n",
        "\n",
        "    def compute_cond_exp(self, times, time_ptr, X, obs_idx, delta_t, T, start_X,\n",
        "                         n_obs_ot, return_path=True, get_loss=False,\n",
        "                         weight=0.5, store_and_use_stored=True,\n",
        "                         start_time=None, M=None, which_loss=\"easy\",\n",
        "                         **kwargs):\n",
        "        \"\"\"\n",
        "        Compute conditional expectation\n",
        "        :param times: np.array, of observation times\n",
        "        :param time_ptr: list, start indices of X and obs_idx for a given\n",
        "                observation time, first element is 0, this pointer tells how\n",
        "                many (and which) of the observations of X along the batch-dim\n",
        "                belong to the current time, and obs_idx then tells to which of\n",
        "                the batch elements they belong. In particular, not each batch-\n",
        "                element has to jump at the same time, and only those elements\n",
        "                which jump at the current time should be updated with a jump\n",
        "        :param X: np.array, data tensor\n",
        "        :param obs_idx: list, index of the batch elements where jumps occur at\n",
        "                current time\n",
        "        :param delta_t: float, time step for Euler\n",
        "        :param T: float, the final time\n",
        "        :param start_X: np.array, the starting point of X\n",
        "        :param n_obs_ot: np.array, the number of observations over the\n",
        "                entire time interval for each element of the batch\n",
        "        :param return_path: bool, whether to return the path of h\n",
        "        :param get_loss: bool, whether to compute the loss, otherwise 0 returned\n",
        "        :param until_T: bool, whether to continue until T (for eval) or only\n",
        "                until last observation (for training)\n",
        "        :param M: None or np.array, if not None: the mask for the data, same\n",
        "                size as X, with 0 or 1 entries\n",
        "        :return: float (loss), if wanted paths of t and y (np.arrays)\n",
        "        \"\"\"\n",
        "        if return_path and store_and_use_stored:\n",
        "            if get_loss:\n",
        "                if self.path_t is not None and self.loss is not None:\n",
        "                    return self.loss, self.path_t, self.path_y\n",
        "            else:\n",
        "                if self.path_t is not None:\n",
        "                    return self.loss, self.path_t, self.path_y\n",
        "        elif store_and_use_stored:\n",
        "            if get_loss:\n",
        "                if self.loss is not None:\n",
        "                    return self.loss\n",
        "\n",
        "        # in case of the IO version\n",
        "        if M is None:\n",
        "            M = np.ones_like(X)\n",
        "\n",
        "        bs = start_X.shape[0]\n",
        "        self.observed_0 = [[] for x in range(bs)]\n",
        "        self.observed_1 = [[] for x in range(bs)]\n",
        "        self.observed_X0 = [[] for x in range(bs)]\n",
        "        self.observed_X1 = [[] for x in range(bs)]\n",
        "        self.observed_t_all = [[] for x in range(bs)]\n",
        "        self.observed_t_all_inc = [[] for x in range(bs)]\n",
        "\n",
        "        y = start_X\n",
        "        batch_size = bs\n",
        "        current_time = 0.0\n",
        "        if start_time:\n",
        "            current_time = start_time\n",
        "\n",
        "        loss = 0\n",
        "\n",
        "        if return_path:\n",
        "            if start_time:\n",
        "                path_t = []\n",
        "                path_y = []\n",
        "            else:\n",
        "                path_t = [0.]\n",
        "                path_y = [y]\n",
        "\n",
        "        for i, obs_time in enumerate(times):\n",
        "            # Calculate conditional expectation stepwise\n",
        "            while current_time < (obs_time - 1e-10 * delta_t):\n",
        "                if current_time < obs_time - delta_t:\n",
        "                    delta_t_ = delta_t\n",
        "                else:\n",
        "                    delta_t_ = obs_time - current_time\n",
        "                y = self.next_cond_exp(y, delta_t_, current_time)\n",
        "                current_time = current_time + delta_t_\n",
        "\n",
        "                # Storing the conditional expectation\n",
        "                if return_path:\n",
        "                    path_t.append(current_time)\n",
        "                    path_y.append(y)\n",
        "\n",
        "            # Reached an observation - set new interval\n",
        "            start = time_ptr[i]\n",
        "            end = time_ptr[i + 1]\n",
        "            X_obs = X[start:end]\n",
        "            i_obs = obs_idx[start:end]\n",
        "            M_obs = M[start:end]\n",
        "\n",
        "            # Update h. Also updating loss, tau and last_X\n",
        "            Y_bj = y\n",
        "            temp = copy.deepcopy(y)\n",
        "            for j, jj in enumerate(i_obs):\n",
        "                if M_obs[j, 0] == 1:\n",
        "                    self.observed_X0[jj].append(X_obs[j, 0])\n",
        "                    self.observed_0[jj].append(1)\n",
        "                else:\n",
        "                    self.observed_0[jj].append(0)\n",
        "                if M_obs[j, 1] == 1 and not self.IO_version:\n",
        "                    self.observed_X1[jj].append(X_obs[j, 1])\n",
        "                    self.observed_1[jj].append(1)\n",
        "                else:\n",
        "                    self.observed_1[jj].append(0)\n",
        "                assert M_obs[j, :].sum() > 0\n",
        "                self.observed_t_all[jj].append(obs_time)\n",
        "                last = [0.] + self.observed_t_all[jj]\n",
        "                self.observed_t_all_inc[jj].append(obs_time - last[-2])\n",
        "\n",
        "                if (M_obs[j, 0] == 1 and M_obs[j, 1] == 1\n",
        "                        and not self.IO_version):\n",
        "                    temp[jj, 0] = X_obs[j, 0]\n",
        "                    temp[jj, 1] = X_obs[j, 1]\n",
        "                else:\n",
        "                    assert M_obs[j, 0] == 1\n",
        "                    temp[jj, 0] = X_obs[j, 0]\n",
        "                    temp[jj, 1] = self.get_mu(jj=jj, which_coord_obs=0)\n",
        "            y = temp\n",
        "            Y = y\n",
        "\n",
        "            if get_loss:\n",
        "                loss = loss + compute_loss(\n",
        "                    X_obs=X_obs[:, self.output_coords],\n",
        "                    Y_obs=Y[i_obs][:, self.output_coords],\n",
        "                    Y_obs_bj=Y_bj[i_obs][:, self.output_coords],\n",
        "                    n_obs_ot=n_obs_ot[i_obs], batch_size=batch_size,\n",
        "                    weight=weight, M_obs=M_obs[:, self.output_coords],\n",
        "                    which_loss=which_loss)\n",
        "            if return_path:\n",
        "                path_t.append(obs_time)\n",
        "                path_y.append(y)\n",
        "\n",
        "        # after every observation has been processed, propagating until T\n",
        "        while current_time < T - 1e-10 * delta_t:\n",
        "            if current_time < T - delta_t:\n",
        "                delta_t_ = delta_t\n",
        "            else:\n",
        "                delta_t_ = T - current_time\n",
        "            y = self.next_cond_exp(y, delta_t_)\n",
        "            current_time = current_time + delta_t_\n",
        "\n",
        "            # Storing the predictions.\n",
        "            if return_path:\n",
        "                path_t.append(current_time)\n",
        "                path_y.append(y)\n",
        "\n",
        "        if get_loss and store_and_use_stored:\n",
        "            self.loss = loss\n",
        "        if return_path and store_and_use_stored:\n",
        "            self.path_t = np.array(path_t)\n",
        "            self.path_y = np.array(path_y)[:, :, self.output_coords]\n",
        "\n",
        "        if return_path:\n",
        "            # path dimension: [time_steps, batch_size, output_size]\n",
        "            return (loss, np.array(path_t),\n",
        "                    np.array(path_y)[:, :, self.output_coords])\n",
        "        else:\n",
        "            return loss\n",
        "\n",
        "    def generate_paths(self):\n",
        "        spot_paths = np.zeros(\n",
        "            (self.nb_paths, 2, self.nb_steps + 1))\n",
        "        dt = self.dt\n",
        "\n",
        "        random_numbers = np.random.normal(\n",
        "            0, 1, (self.nb_paths, 2, self.nb_steps)) * np.sqrt(dt)\n",
        "        W = np.cumsum(random_numbers, axis=2)\n",
        "\n",
        "        spot_paths[:, 0, 1:] = W[:, 0, :] * self.alpha + W[:, 1, :]\n",
        "        spot_paths[:, 1, 1:] = W[:, 0, :]\n",
        "\n",
        "        # stock_path dimension: [nb_paths, dimension, time_steps]\n",
        "        return spot_paths, dt\n",
        "\n",
        "class Combined(StockModel):\n",
        "    def __init__(self, stock_model_names, hyperparam_dicts, **kwargs):\n",
        "        self.stock_model_names = stock_model_names\n",
        "        self.hyperparam_dicts = hyperparam_dicts\n",
        "\n",
        "    def compute_cond_exp(self, times, time_ptr, X, obs_idx, delta_t, T, start_X,\n",
        "                         n_obs_ot, return_path=True, get_loss=False,\n",
        "                         weight=0.5, which_loss=\"easy\", **kwargs):\n",
        "        # get first stockmodel\n",
        "        stockmodel = DATASETS[self.stock_model_names[0]](\n",
        "            **self.hyperparam_dicts[0])\n",
        "        T = self.hyperparam_dicts[0]['maturity']\n",
        "        loss, path_t, path_y = stockmodel.compute_cond_exp(\n",
        "            times, time_ptr, X, obs_idx, delta_t,\n",
        "            T, start_X,\n",
        "            n_obs_ot, return_path=True, get_loss=get_loss,\n",
        "            weight=weight, store_and_use_stored=False, which_loss=which_loss)\n",
        "        for i in range(1, len(self.stock_model_names)):\n",
        "            start_X = path_y[-1, :, :]\n",
        "            start_time = path_t[-1]\n",
        "            T += self.hyperparam_dicts[i]['maturity']\n",
        "            stockmodel = DATASETS[self.stock_model_names[i]](\n",
        "                **self.hyperparam_dicts[i])\n",
        "            _loss, _path_t, _path_y = stockmodel.compute_cond_exp(\n",
        "                times, time_ptr, X, obs_idx, delta_t,\n",
        "                T, start_X,\n",
        "                n_obs_ot, return_path=True, get_loss=get_loss,\n",
        "                weight=weight, start_time=start_time,\n",
        "                store_and_use_stored=False, which_loss=which_loss)\n",
        "            loss += _loss\n",
        "            path_t = np.concatenate([path_t, _path_t])\n",
        "            path_y = np.concatenate([path_y, _path_y], axis=0)\n",
        "\n",
        "        if return_path:\n",
        "            # path dimension: [time_steps, batch_size, output_size]\n",
        "            return loss, np.array(path_t), np.array(path_y)\n",
        "        else:\n",
        "            return loss\n"
      ]
    },
    {
      "cell_type": "code",
      "execution_count": null,
      "metadata": {
        "id": "aTQT4y0Wp04q"
      },
      "outputs": [],
      "source": [
        "# collection of synthetic data models (find more in the git repo)\n",
        "DATASETS = {\n",
        "    \"BlackScholes\": BlackScholes,\n",
        "    \"BM\": BM,\n",
        "    \"BMNoisyObs\": BMNoisyObs,\n",
        "    \"BMFiltering\": BMFiltering,\n",
        "    \"combined\": Combined,\n",
        "}"
      ]
    },
    {
      "cell_type": "markdown",
      "metadata": {
        "id": "ZP5hUl8CqFw4"
      },
      "source": [
        "# Data generation and handeling"
      ]
    },
    {
      "cell_type": "code",
      "execution_count": null,
      "metadata": {
        "id": "EVi1QZMWqFSs"
      },
      "outputs": [],
      "source": [
        "def create_dataset(\n",
        "        stock_model_name=\"BlackScholes\",\n",
        "        hyperparam_dict=None,\n",
        "        seed=0):\n",
        "    \"\"\"\n",
        "    create a synthetic dataset using one of the stock-models\n",
        "    :param stock_model_name: str, name of the stockmodel, see _STOCK_MODELS\n",
        "    :param hyperparam_dict: dict, contains all needed parameters for the model\n",
        "            it can also contain additional options for dataset generation:\n",
        "                - masked    None, float or array of floats. if None: no mask is\n",
        "                            used; if float: lambda of the poisson distribution;\n",
        "                            if array of floats: gives the bernoulli probability\n",
        "                            for each coordinate to be observed\n",
        "                - obs_noise    dict, if given: add noise to the observations\n",
        "                            the dict needs the following keys: 'distribution'\n",
        "                            (defining the distribution of the noise), and keys\n",
        "                            for the parameters of the distribution (depending on\n",
        "                            the used distribution); supported distributions\n",
        "                            {'normal'}. Be aware that the noise needs to be\n",
        "                            centered for the model to be able to learn the\n",
        "                            correct dynamics.\n",
        "\n",
        "    :param seed: int, random seed for the generation of the dataset\n",
        "    :return: stock_paths, observed_dates, nb_obs, hyperparam_dict, obs_noise\n",
        "    \"\"\"\n",
        "    np.random.seed(seed=seed)\n",
        "    hyperparam_dict['model_name'] = stock_model_name\n",
        "    obs_perc = hyperparam_dict['obs_perc']\n",
        "    masked = False\n",
        "    masked_lambda = None\n",
        "    mask_probs = None\n",
        "    if (\"masked\" in hyperparam_dict\n",
        "            and hyperparam_dict['masked'] not in [None, False]):\n",
        "        masked = True\n",
        "        if isinstance(hyperparam_dict['masked'], float):\n",
        "            masked_lambda = hyperparam_dict['masked']\n",
        "        elif isinstance(hyperparam_dict['masked'], (tuple, list)):\n",
        "            mask_probs = hyperparam_dict['masked']\n",
        "            assert len(mask_probs) == hyperparam_dict['dimension']\n",
        "        else:\n",
        "            raise ValueError(\"please provide a float (poisson lambda) \"\n",
        "                             \"in hyperparam_dict['masked']\")\n",
        "\n",
        "    stockmodel = DATASETS[stock_model_name](**hyperparam_dict)\n",
        "    # stock paths shape: [nb_paths, dim, time_steps]\n",
        "    stock_paths, dt = stockmodel.generate_paths()\n",
        "    size = stock_paths.shape\n",
        "    observed_dates = np.random.random(size=(size[0], size[2]))\n",
        "    observed_dates = (observed_dates < obs_perc)*1\n",
        "    observed_dates[:, 0] = 1\n",
        "    nb_obs = np.sum(observed_dates[:, 1:], axis=1)\n",
        "    if masked:\n",
        "        mask = np.zeros(shape=size)\n",
        "        mask[:,:,0] = 1\n",
        "        for i in range(size[0]):\n",
        "            for j in range(1, size[2]):\n",
        "                if observed_dates[i,j] == 1:\n",
        "                    if masked_lambda is not None:\n",
        "                        amount = min(1+np.random.poisson(masked_lambda),\n",
        "                                     size[1])\n",
        "                        observed = np.random.choice(\n",
        "                            size[1], amount, replace=False)\n",
        "                        mask[i, observed, j] = 1\n",
        "                    elif mask_probs is not None:\n",
        "                        for k in range(size[1]):\n",
        "                            mask[i, k, j] = np.random.binomial(1, mask_probs[k])\n",
        "        observed_dates = mask\n",
        "    if \"obs_noise\" in hyperparam_dict:\n",
        "        obs_noise_dict = hyperparam_dict[\"obs_noise\"]\n",
        "        if obs_noise_dict[\"distribution\"] == \"normal\":\n",
        "            obs_noise = np.random.normal(\n",
        "                loc=obs_noise_dict[\"loc\"],\n",
        "                scale=obs_noise_dict[\"scale\"],\n",
        "                size=size)\n",
        "            if 'noise_at_start' in obs_noise_dict and \\\n",
        "                    obs_noise_dict['noise_at_start']:\n",
        "                pass\n",
        "            else:\n",
        "                obs_noise[:,:,0] = 0\n",
        "        else:\n",
        "            raise ValueError(\"obs_noise distribution {} not implemented\".format(\n",
        "                obs_noise_dict[\"distribution\"]))\n",
        "    else:\n",
        "        obs_noise = None\n",
        "\n",
        "    hyperparam_dict['dt'] = dt\n",
        "\n",
        "    # stock_path dimension: [nb_paths, dimension, time_steps]\n",
        "    return stock_paths, observed_dates, nb_obs, hyperparam_dict, obs_noise\n",
        "\n",
        "def create_combined_dataset(\n",
        "        stock_model_names=(\"BlackScholes\", \"BM\"),\n",
        "        hyperparam_dicts=(None, None),\n",
        "        seed=0):\n",
        "    \"\"\"\n",
        "    create a synthetic dataset using one of the stock-models\n",
        "    :param stock_model_names: list of str, each str is a name of a stockmodel,\n",
        "            see _STOCK_MODELS\n",
        "    :param hyperparam_dicts: list of dict, each dict contains all needed\n",
        "            parameters for the model\n",
        "    :param seed: int, random seed for the generation of the dataset\n",
        "    :return: stock_paths, observed_dates, nb_obs, metadata, None\n",
        "    \"\"\"\n",
        "\n",
        "    assert len(stock_model_names) == len(hyperparam_dicts)\n",
        "    np.random.seed(seed=seed)\n",
        "\n",
        "    # start to create paths from first model\n",
        "    maturity = hyperparam_dicts[0]['maturity']\n",
        "    hyperparam_dicts[0]['model_name'] = stock_model_names[0]\n",
        "    obs_perc = hyperparam_dicts[0]['obs_perc']\n",
        "    stockmodel = DATASETS[stock_model_names[0]](**hyperparam_dicts[0])\n",
        "    stock_paths, dt = stockmodel.generate_paths()\n",
        "    last = stock_paths[:, :, -1]\n",
        "    size = stock_paths.shape\n",
        "    observed_dates = np.random.random(size=(size[0], size[2]))\n",
        "    observed_dates = (observed_dates < obs_perc)*1\n",
        "    observed_dates[:, 0] = 1\n",
        "\n",
        "    # for every other model, add the paths created with this model starting at\n",
        "    #   last point of previous model\n",
        "    for i in range(1, len(stock_model_names)):\n",
        "        dt_last = dt\n",
        "        assert hyperparam_dicts[i]['dimension'] == \\\n",
        "               hyperparam_dicts[i-1]['dimension']\n",
        "        assert hyperparam_dicts[i]['nb_paths'] == \\\n",
        "               hyperparam_dicts[i-1]['nb_paths']\n",
        "        maturity += hyperparam_dicts[i]['maturity']\n",
        "        hyperparam_dicts[i]['model_name'] = stock_model_names[i]\n",
        "        stockmodel = DATASETS[stock_model_names[i]](**hyperparam_dicts[i])\n",
        "        _stock_paths, dt = stockmodel.generate_paths(start_X=last)\n",
        "        size = _stock_paths.shape\n",
        "        obs_perc = hyperparam_dicts[i]['obs_perc']\n",
        "        _observed_dates = np.random.random(size=(size[0], size[2]))\n",
        "        _observed_dates = (_observed_dates < obs_perc)*1\n",
        "        assert dt_last == dt\n",
        "        last = _stock_paths[:, :, -1]\n",
        "        stock_paths = np.concatenate(\n",
        "            [stock_paths, _stock_paths[:, :, 1:]], axis=2)\n",
        "        observed_dates = np.concatenate(\n",
        "            [observed_dates, _observed_dates[:, 1:]], axis=1)\n",
        "    nb_obs = np.sum(observed_dates[:, 1:], axis=1)\n",
        "\n",
        "    metadata = {'dt': dt, 'maturity': maturity,\n",
        "                'dimension': hyperparam_dicts[0]['dimension'],\n",
        "                'nb_paths': hyperparam_dicts[0]['nb_paths'],\n",
        "                'model_name': 'combined',\n",
        "                'stock_model_names': stock_model_names,\n",
        "                'hyperparam_dicts': hyperparam_dicts}\n",
        "\n",
        "    return stock_paths, observed_dates, nb_obs, metadata, None\n",
        "\n",
        "\n",
        "class IrregularDataset(Dataset):\n",
        "    \"\"\"\n",
        "    class for iterating over a dataset\n",
        "    \"\"\"\n",
        "    def __init__(self, dataset_collection, idx=None):\n",
        "        stock_paths, observed_dates, nb_obs, hyperparam_dict, obs_noise = \\\n",
        "            dataset_collection\n",
        "        if idx is None:\n",
        "            idx = np.arange(hyperparam_dict['nb_paths'])\n",
        "        self.metadata = hyperparam_dict\n",
        "        self.stock_paths = stock_paths[idx]\n",
        "        self.observed_dates = observed_dates[idx]\n",
        "        self.nb_obs = nb_obs[idx]\n",
        "        self.obs_noise = obs_noise\n",
        "\n",
        "    def __len__(self):\n",
        "        return len(self.nb_obs)\n",
        "\n",
        "    def __getitem__(self, idx):\n",
        "        if type(idx) == int:\n",
        "            idx = [idx]\n",
        "        if self.obs_noise is None:\n",
        "            obs_noise = None\n",
        "        else:\n",
        "            obs_noise = self.obs_noise[idx]\n",
        "        # stock_path dimension: [BATCH_SIZE, DIMENSION, TIME_STEPS]\n",
        "        return {\"idx\": idx, \"stock_path\": self.stock_paths[idx],\n",
        "                \"observed_dates\": self.observed_dates[idx],\n",
        "                \"nb_obs\": self.nb_obs[idx], \"dt\": self.metadata['dt'],\n",
        "                \"obs_noise\": obs_noise}\n",
        "\n",
        "def _get_func(name):\n",
        "    \"\"\"\n",
        "    transform a function given as str to a python function\n",
        "    :param name: str, correspond to a function,\n",
        "            supported: 'exp', 'power-x' (x the wanted power)\n",
        "    :return: numpy fuction\n",
        "    \"\"\"\n",
        "    if name in ['exp', 'exponential']:\n",
        "        return np.exp\n",
        "    if 'power-' in name:\n",
        "        x = float(name.split('-')[1])\n",
        "        def pow(input):\n",
        "            return np.power(input, x)\n",
        "        return pow\n",
        "    else:\n",
        "        try:\n",
        "            return eval(name)\n",
        "        except Exception:\n",
        "            return None\n",
        "\n",
        "\n",
        "def _get_X_with_func_appl(X, functions, axis):\n",
        "    \"\"\"\n",
        "    apply a list of functions to the paths in X and append X by the outputs\n",
        "    along the given axis\n",
        "    :param X: np.array, with the data,\n",
        "    :param functions: list of functions to be applied\n",
        "    :param axis: int, the data_dimension (not batch and not time dim) along\n",
        "            which the new paths are appended\n",
        "    :return: np.array\n",
        "    \"\"\"\n",
        "    Y = X\n",
        "    for f in functions:\n",
        "        Y = np.concatenate([Y, f(X)], axis=axis)\n",
        "    return Y\n",
        "\n",
        "\n",
        "def CustomCollateFnGen(func_names=None):\n",
        "    \"\"\"\n",
        "    a function to get the costume collate function that can be used in\n",
        "    torch.DataLoader with the wanted functions applied to the data as new\n",
        "    dimensions\n",
        "    -> the functions are applied on the fly to the dataset, and this additional\n",
        "    data doesn't have to be saved\n",
        "\n",
        "    :param func_names: list of str, with all function names, see _get_func\n",
        "    :return: collate function, int (multiplication factor of dimension before\n",
        "                and after applying the functions)\n",
        "    \"\"\"\n",
        "    # get functions that should be applied to X, additionally to identity\n",
        "    functions = []\n",
        "    if func_names is not None:\n",
        "        for func_name in func_names:\n",
        "            f = _get_func(func_name)\n",
        "            if f is not None:\n",
        "                functions.append(f)\n",
        "    mult = len(functions) + 1\n",
        "\n",
        "    def custom_collate_fn(batch):\n",
        "        dt = batch[0]['dt']\n",
        "        stock_paths = np.concatenate([b['stock_path'] for b in batch], axis=0)\n",
        "        observed_dates = np.concatenate([b['observed_dates'] for b in batch],\n",
        "                                        axis=0)\n",
        "        obs_noise = None\n",
        "        if batch[0][\"obs_noise\"] is not None:\n",
        "            obs_noise = np.concatenate([b['obs_noise'] for b in batch], axis=0)\n",
        "        masked = False\n",
        "        mask = None\n",
        "        if len(observed_dates.shape) == 3:\n",
        "            masked = True\n",
        "            mask = observed_dates\n",
        "            observed_dates = observed_dates.max(axis=1)\n",
        "        nb_obs = torch.tensor(\n",
        "            np.concatenate([b['nb_obs'] for b in batch], axis=0))\n",
        "\n",
        "        # here axis=1, since we have elements of dim\n",
        "        #    [batch_size, data_dimension] => add as new data_dimensions\n",
        "        sp = stock_paths[:, :, 0]\n",
        "        if obs_noise is not None:\n",
        "            sp = stock_paths[:, :, 0] + obs_noise[:, :, 0]\n",
        "        start_X = torch.tensor(\n",
        "            _get_X_with_func_appl(sp, functions, axis=1),\n",
        "            dtype=torch.float32)\n",
        "        X = []\n",
        "        if masked:\n",
        "            M = []\n",
        "            start_M = torch.tensor(mask[:,:,0], dtype=torch.float32).repeat(\n",
        "                (1,mult))\n",
        "        else:\n",
        "            M = None\n",
        "            start_M = None\n",
        "        times = []\n",
        "        time_ptr = [0]\n",
        "        obs_idx = []\n",
        "        current_time = 0.\n",
        "        counter = 0\n",
        "        for t in range(1, observed_dates.shape[-1]):\n",
        "            current_time += dt\n",
        "            if observed_dates[:, t].sum() > 0:\n",
        "                times.append(current_time)\n",
        "                for i in range(observed_dates.shape[0]):\n",
        "                    if observed_dates[i, t] == 1:\n",
        "                        counter += 1\n",
        "                        # here axis=0, since only 1 dim (the data_dimension),\n",
        "                        #    i.e. the batch-dim is cummulated outside together\n",
        "                        #    with the time dimension\n",
        "                        sp = stock_paths[i, :, t]\n",
        "                        if obs_noise is not None:\n",
        "                            sp = stock_paths[i, :, t] + obs_noise[i, :, t]\n",
        "                        X.append(_get_X_with_func_appl(sp, functions, axis=0))\n",
        "                        if masked:\n",
        "                            M.append(np.tile(mask[i, :, t], reps=mult))\n",
        "                        obs_idx.append(i)\n",
        "                time_ptr.append(counter)\n",
        "        # if obs_noise is not None:\n",
        "        #     print(\"noisy observations used\")\n",
        "\n",
        "        assert len(obs_idx) == observed_dates[:, 1:].sum()\n",
        "        if masked:\n",
        "            M = torch.tensor(np.array(M), dtype=torch.float32)\n",
        "        res = {'times': np.array(times), 'time_ptr': np.array(time_ptr),\n",
        "               'obs_idx': torch.tensor(obs_idx, dtype=torch.long),\n",
        "               'start_X': start_X, 'n_obs_ot': nb_obs,\n",
        "               'X': torch.tensor(np.array(X), dtype=torch.float32),\n",
        "               'true_paths': stock_paths, 'observed_dates': observed_dates,\n",
        "               'true_mask': mask, 'obs_noise': obs_noise,\n",
        "               'M': M, 'start_M': start_M}\n",
        "        return res\n",
        "\n",
        "    return custom_collate_fn, mult"
      ]
    },
    {
      "cell_type": "code",
      "execution_count": null,
      "metadata": {
        "id": "Uft6O4V6qQQu"
      },
      "outputs": [],
      "source": [
        "def create_dataset_Z(\n",
        "        stock_model_name=\"BlackScholes\",\n",
        "        hyperparam_dict=None,\n",
        "        seed=0):\n",
        "    \"\"\"\n",
        "    Create a synthetic dataset generating process Z using a stock model.\n",
        "\n",
        "    :param stock_model_name: str, name of the stock model, see _STOCK_MODELS\n",
        "    :param hyperparam_dict: dict, contains all needed parameters for the model\n",
        "            it can also contain additional options for dataset generation:\n",
        "                - masked    None, float or array of floats. if None: no mask is\n",
        "                            used; if float: lambda of the poisson distribution;\n",
        "                            if array of floats: gives the bernoulli probability\n",
        "                            for each coordinate to be observed\n",
        "                - obs_noise    dict, if given: add noise to the observations\n",
        "                            the dict needs the following keys: 'distribution'\n",
        "                            (defining the distribution of the noise), and keys\n",
        "                            for the parameters of the distribution (depending on\n",
        "                            the used distribution); supported distributions\n",
        "                            {'normal'}. Be aware that the noise needs to be\n",
        "                            centered for the model to be able to learn the\n",
        "                            correct dynamics.\n",
        "    :param seed: int, random seed for the generation of the dataset\n",
        "    :return: Z_flattened, observed_dates, nb_obs, hyperparam_dict, obs_noise\n",
        "             - Z_flattened: array of shape [nb_paths, dim*dim, time_steps],\n",
        "                            flattened version of Z_t = (X_t - X_{\\tau(t)}) (X_t - X_{\\tau(t)})^T\n",
        "                            for t >= 1, Z_0 = 0, and \\tau(t) is the last observed time before t\n",
        "             - observed_dates: observation indicators, shape [nb_paths, time_steps]\n",
        "                               if not masked, or [nb_paths, dim, time_steps] if masked\n",
        "             - nb_obs: array of shape [nb_paths], number of observed time steps per path (excluding t=0)\n",
        "             - hyperparam_dict: updated hyperparameter dictionary\n",
        "             - obs_noise: noise array of shape [nb_paths, dim, time_steps] or None\n",
        "    \"\"\"\n",
        "    np.random.seed(seed=seed)\n",
        "    hyperparam_dict['model_name'] = stock_model_name\n",
        "    obs_perc = hyperparam_dict['obs_perc']\n",
        "    masked = False\n",
        "    masked_lambda = None\n",
        "    mask_probs = None\n",
        "    if (\"masked\" in hyperparam_dict\n",
        "            and hyperparam_dict['masked'] not in [None, False]):\n",
        "        masked = True\n",
        "        if isinstance(hyperparam_dict['masked'], float):\n",
        "            masked_lambda = hyperparam_dict['masked']\n",
        "        elif isinstance(hyperparam_dict['masked'], (tuple, list)):\n",
        "            mask_probs = hyperparam_dict['masked']\n",
        "            assert len(mask_probs) == hyperparam_dict['dimension']\n",
        "        else:\n",
        "            raise ValueError(\"please provide a float (poisson lambda) \"\n",
        "                             \"in hyperparam_dict['masked']\")\n",
        "\n",
        "    stockmodel = DATASETS[stock_model_name](**hyperparam_dict)\n",
        "    # stock paths shape: [nb_paths, dim, time_steps]\n",
        "    stock_paths, dt = stockmodel.generate_paths()\n",
        "    size = stock_paths.shape\n",
        "    observed_dates = np.random.random(size=(size[0], size[2]))\n",
        "    observed_dates = (observed_dates < obs_perc)*1\n",
        "    observed_dates[:, 0] = 1\n",
        "    nb_obs = np.sum(observed_dates[:, 1:], axis=1)\n",
        "    if masked:\n",
        "        mask = np.zeros(shape=size)\n",
        "        mask[:,:,0] = 1\n",
        "        for i in range(size[0]):\n",
        "            for j in range(1, size[2]):\n",
        "                if observed_dates[i,j] == 1:\n",
        "                    if masked_lambda is not None:\n",
        "                        amount = min(1+np.random.poisson(masked_lambda),\n",
        "                                     size[1])\n",
        "                        observed = np.random.choice(\n",
        "                            size[1], amount, replace=False)\n",
        "                        mask[i, observed, j] = 1\n",
        "                    elif mask_probs is not None:\n",
        "                        for k in range(size[1]):\n",
        "                            mask[i, k, j] = np.random.binomial(1, mask_probs[k])\n",
        "        observed_dates = mask\n",
        "    if \"obs_noise\" in hyperparam_dict:\n",
        "        obs_noise_dict = hyperparam_dict[\"obs_noise\"]\n",
        "        if obs_noise_dict[\"distribution\"] == \"normal\":\n",
        "            obs_noise = np.random.normal(\n",
        "                loc=obs_noise_dict[\"loc\"],\n",
        "                scale=obs_noise_dict[\"scale\"],\n",
        "                size=size)\n",
        "            if 'noise_at_start' in obs_noise_dict and \\\n",
        "                    obs_noise_dict['noise_at_start']:\n",
        "                pass\n",
        "            else:\n",
        "                obs_noise[:,:,0] = 0\n",
        "        else:\n",
        "            raise ValueError(\"obs_noise distribution {} not implemented\".format(\n",
        "                obs_noise_dict[\"distribution\"]))\n",
        "    else:\n",
        "        obs_noise = None\n",
        "\n",
        "    hyperparam_dict['dt'] = dt\n",
        "\n",
        "    return stock_paths**2, observed_dates, nb_obs, hyperparam_dict, obs_noise"
      ]
    },
    {
      "cell_type": "markdown",
      "metadata": {
        "id": "FjpgZGaJqiSO"
      },
      "source": [
        "# NJODE"
      ]
    },
    {
      "cell_type": "markdown",
      "metadata": {
        "id": "CYowuftVqwfT"
      },
      "source": [
        "# Loss function"
      ]
    },
    {
      "cell_type": "code",
      "execution_count": null,
      "metadata": {
        "id": "xeW1P7Hxqbul"
      },
      "outputs": [],
      "source": [
        "def compute_var_loss(X_obs, Y_obs, Y_obs_bj, n_obs_ot, batch_size, eps=1e-10,\n",
        "        weight=0.5, M_obs=None,\n",
        "        compute_variance=None, var_weight=1.,\n",
        "        Y_var_bj=None, Y_var=None, dim_to=None, type=1):\n",
        "    if dim_to is None:\n",
        "        dim_to = Y_obs.shape[1]\n",
        "    if compute_variance == \"variance\":\n",
        "        Y_var_bj_v = Y_var_bj[:, :dim_to] ** 2\n",
        "        Y_var_v = Y_var[:, :dim_to] ** 2\n",
        "        true_var_bj = (X_obs - Y_obs_bj.detach()) ** 2\n",
        "        true_var = (X_obs - Y_obs.detach()) ** 2\n",
        "        M_obs_var = M_obs\n",
        "        sum_dim = 1\n",
        "    elif compute_variance == \"covariance\":\n",
        "        d2 = Y_var.shape[1]\n",
        "        d = int(np.sqrt(d2))\n",
        "        Y_var_bj_v = Y_var_bj.view(-1, d, d)\n",
        "        Y_var_bj_v = Y_var_bj_v[:, :dim_to, :dim_to]\n",
        "        Y_var_bj_v = torch.matmul(Y_var_bj_v.transpose(1, 2), Y_var_bj_v)\n",
        "        Y_var_v = Y_var.view(-1, d, d)\n",
        "        Y_var_v = Y_var_v[:, :dim_to, :dim_to]\n",
        "        Y_var_v = torch.matmul(Y_var_v.transpose(1, 2), Y_var_v)\n",
        "        # the following is a row vector for each batch sample\n",
        "        true_var_bj = (X_obs - Y_obs_bj.detach()).unsqueeze(1)\n",
        "        true_var = (X_obs - Y_obs.detach()).unsqueeze(1)\n",
        "        true_var_bj = torch.matmul(true_var_bj.transpose(1, 2), true_var_bj)\n",
        "        true_var = torch.matmul(true_var.transpose(1, 2), true_var)\n",
        "        M_obs_var = M_obs.unsqueeze(1)\n",
        "        M_obs_var = torch.matmul(M_obs_var.transpose(1, 2), M_obs_var)\n",
        "        sum_dim = (1, 2)\n",
        "    else:\n",
        "        raise ValueError(\"compute_variance must be either 'variance' or \"\n",
        "                         \"'covariance'\")\n",
        "    if type == 1:\n",
        "        inner_var = (2 * weight * torch.sqrt(\n",
        "            torch.sum(M_obs_var * (true_var - Y_var_v)**2, dim=sum_dim) + eps) +\n",
        "                     2 * (1 - weight) * torch.sqrt(\n",
        "                    torch.sum(M_obs_var * (true_var_bj - Y_var_bj_v) ** 2,\n",
        "                              dim=sum_dim) + eps)) ** 2\n",
        "    elif type == 2:\n",
        "        inner_var = 2 * weight * torch.sum(\n",
        "            M_obs_var * (true_var - Y_var_v) ** 2, dim=sum_dim) + \\\n",
        "                    2 * (1 - weight) * torch.sum(\n",
        "            M_obs_var * (true_var_bj - Y_var_bj_v) ** 2, dim=sum_dim)\n",
        "    elif type == 3:\n",
        "        inner_var = torch.sum(M_obs_var * (true_var_bj - Y_var_bj_v) ** 2,\n",
        "                              dim=sum_dim)\n",
        "    else:\n",
        "        raise ValueError(\"type must be in {1, 2, 3}\")\n",
        "\n",
        "    outer = var_weight * torch.sum(inner_var / n_obs_ot)\n",
        "\n",
        "    return outer\n",
        "\n",
        "def compute_loss_2(\n",
        "        X_obs, Y_obs, Y_obs_bj, n_obs_ot, batch_size, eps=1e-10,\n",
        "        weight=0.5, M_obs=None,\n",
        "        compute_variance=None, var_weight=1.,\n",
        "        Y_var_bj=None, Y_var=None, dim_to=None, which_var_loss=None):\n",
        "    \"\"\"\n",
        "    similar to compute_loss, but using X_obs also in second part of loss\n",
        "    instead of Y_obs -> should make the learning easier\n",
        "    \"\"\"\n",
        "    if M_obs is None:\n",
        "        M_obs = 1.\n",
        "\n",
        "    inner = (2*weight * torch.sqrt(\n",
        "        torch.sum(M_obs * (X_obs - Y_obs) ** 2, dim=1) + eps) +\n",
        "             2*(1 - weight) * torch.sqrt(\n",
        "                torch.sum(M_obs * (Y_obs_bj - X_obs) ** 2, dim=1)\n",
        "                + eps)) ** 2\n",
        "    outer = torch.sum(inner / n_obs_ot)\n",
        "\n",
        "    # compute the variance loss term if wanted\n",
        "    if compute_variance is not None:\n",
        "        var_loss_type = 1\n",
        "        if which_var_loss is not None:\n",
        "            var_loss_type = which_var_loss\n",
        "        outer += compute_var_loss(\n",
        "            X_obs, Y_obs, Y_obs_bj, n_obs_ot, batch_size, eps=1e-10,\n",
        "            weight=weight, M_obs=M_obs,\n",
        "            compute_variance=compute_variance, var_weight=var_weight,\n",
        "            Y_var_bj=Y_var_bj, Y_var=Y_var, dim_to=dim_to, type=var_loss_type)\n",
        "\n",
        "    return outer / batch_size\n",
        "\n",
        "def compute_loss_3(\n",
        "        X_obs_bj, X_obs, Y_obs, Y_obs_bj, n_obs_ot, batch_size, eps=1e-10,\n",
        "        weight=0.5, M_obs=None,\n",
        "        compute_variance=None, var_weight=1.,\n",
        "        Y_var_bj=None, Y_var=None, dim_to=None, which_var_loss=None):\n",
        "    \"\"\"\n",
        "    similar to compute_loss, but using X_obs also in second part of loss\n",
        "    instead of Y_obs -> should make the learning easier\n",
        "    \"\"\"\n",
        "    if M_obs is None:\n",
        "        M_obs = 1.\n",
        "\n",
        "    d2 = Y_obs_bj.shape[1]\n",
        "    d = int(np.sqrt(d2))\n",
        "    Y_obs_bj_mat = Y_obs_bj.view(-1, d, d)\n",
        "    Y_obs_bj_mat1 = torch.matmul(Y_obs_bj_mat.transpose(1, 2),Y_obs_bj_mat)\n",
        "    Y_obs_bj_mod = Y_obs_bj_mat1.view(-1, d2)\n",
        "\n",
        "    #inner = torch.sum(M_obs * (Y_obs_bj_mod - X_obs) ** 2, dim=1)\n",
        "\n",
        "    d2 = Y_obs.shape[1]\n",
        "    d = int(np.sqrt(d2))\n",
        "    Y_obs_mat = Y_obs_bj.view(-1, d, d)\n",
        "    Y_obs_mat1 = torch.matmul(Y_obs_mat.transpose(1, 2),Y_obs_mat)\n",
        "    Y_obs_mod = Y_obs_mat1.view(-1, d2)\n",
        "\n",
        "    inner = (2*weight * torch.sqrt(\n",
        "        torch.sum(M_obs * (Y_obs_bj_mod - X_obs_bj) ** 2, dim=1) + eps) +\n",
        "             2*(1 - weight) * torch.sqrt(\n",
        "                torch.sum(M_obs * (Y_obs_mod-X_obs) ** 2, dim=1)\n",
        "                + eps)) ** 2\n",
        "\n",
        "    outer = torch.sum(inner / n_obs_ot)\n",
        "\n",
        "    return outer / batch_size\n",
        "\n",
        "def compute_loss_IO(\n",
        "        X_obs, Y_obs, Y_obs_bj, n_obs_ot, batch_size, eps=1e-10,\n",
        "        weight=0.5, M_obs=None,\n",
        "        compute_variance=None, var_weight=1.,\n",
        "        Y_var_bj=None, Y_var=None, dim_to=None, which_var_loss=None):\n",
        "    \"\"\"\n",
        "    similar to compute_loss, but using X_obs also in second part of loss\n",
        "    instead of Y_obs and squaring the two terms directly instead of squaring the\n",
        "    sum of the two terms\n",
        "    \"\"\"\n",
        "    if M_obs is None:\n",
        "        M_obs = 1.\n",
        "\n",
        "    inner = 2*weight * torch.sum(M_obs * (X_obs - Y_obs) ** 2, dim=1) +\\\n",
        "            2*(1-weight) * torch.sum(M_obs * (Y_obs_bj - X_obs) ** 2, dim=1)\n",
        "\n",
        "    outer = torch.sum(inner / n_obs_ot)\n",
        "\n",
        "    # compute the variance loss term if wanted\n",
        "    if compute_variance is not None:\n",
        "        var_loss_type = 2\n",
        "        if which_var_loss is not None:\n",
        "            var_loss_type = which_var_loss\n",
        "        outer += compute_var_loss(\n",
        "            X_obs, Y_obs, Y_obs_bj, n_obs_ot, batch_size, eps=1e-10,\n",
        "            weight=weight, M_obs=M_obs,\n",
        "            compute_variance=compute_variance, var_weight=var_weight,\n",
        "            Y_var_bj=Y_var_bj, Y_var=Y_var, dim_to=dim_to, type=var_loss_type)\n",
        "\n",
        "    return outer / batch_size\n",
        "\n",
        "def compute_loss_noisy_obs(\n",
        "        X_obs, Y_obs, Y_obs_bj, n_obs_ot, batch_size, eps=1e-10,\n",
        "        weight=0.5, M_obs=None,\n",
        "        compute_variance=None, var_weight=1.,\n",
        "        Y_var_bj=None, Y_var=None, dim_to=None, which_var_loss=None):\n",
        "    \"\"\"\n",
        "    similar to compute_loss, but only using the 2nd term of the original loss\n",
        "    function, which enables training with noisy observations\n",
        "    \"\"\"\n",
        "    if M_obs is None:\n",
        "        M_obs = 1.\n",
        "\n",
        "    inner = torch.sum(M_obs * (Y_obs_bj - X_obs) ** 2, dim=1)\n",
        "\n",
        "    outer = torch.sum(inner / n_obs_ot)\n",
        "\n",
        "    # compute the variance loss term if wanted\n",
        "    if compute_variance is not None:\n",
        "        var_loss_type = 3\n",
        "        if which_var_loss is not None:\n",
        "            var_loss_type = which_var_loss\n",
        "        outer += compute_var_loss(\n",
        "            X_obs, Y_obs, Y_obs_bj, n_obs_ot, batch_size, eps=1e-10,\n",
        "            weight=weight, M_obs=M_obs,\n",
        "            compute_variance=compute_variance, var_weight=var_weight,\n",
        "            Y_var_bj=Y_var_bj, Y_var=Y_var, dim_to=dim_to, type=var_loss_type)\n",
        "\n",
        "    return outer / batch_size\n",
        "\n",
        "def compute_jump_loss(\n",
        "        X_obs, Y_obs, Y_obs_bj, n_obs_ot, batch_size, eps=1e-10,\n",
        "        weight=0.5, M_obs=None, compute_variance=None, **kwargs):\n",
        "    \"\"\"\n",
        "    loss function with 1-norm instead of 2-norm for the two terms\n",
        "    intuitively this should lead to the conditional median instead of mean (not\n",
        "    proven)\n",
        "\n",
        "    :param X_obs: torch.tensor, the true X values at the observations\n",
        "    :param Y_obs: torch.tensor, the predicted values at the observation\n",
        "    :param Y_obs_bj: torch.tensor, the predicted values before the jump at the\n",
        "            observation\n",
        "    :param n_obs_ot: torch.tensor, the number of observations over the entire\n",
        "            time-line for each element of the batch\n",
        "    :param batch_size: int or float\n",
        "    :param eps: float, a small constant which is added before taking torch.sqrt\n",
        "            s.t. the sqrt never becomes zero (which would yield NaNs for the\n",
        "            gradient)\n",
        "    :param weight: float in [0,1], weighting of the two parts of the loss\n",
        "            function,\n",
        "                0.5: standard loss as described in paper\n",
        "                (0.5, 1): more weight to be correct after the jump, can be\n",
        "                theoretically justified similar to standard loss\n",
        "                1: only the value after the jump is trained\n",
        "    :param M_obs: None or torch.tensor, if not None: same size as X_obs with\n",
        "            0  and 1 entries, telling which coordinates were observed\n",
        "    :param kwargs: additional arguments, not used; to be compatible with the\n",
        "            other loss functions which allow for variance computations\n",
        "    :return: torch.tensor (with the loss, reduced to 1 dim)\n",
        "    \"\"\"\n",
        "    if M_obs is None:\n",
        "        M_obs = 1.\n",
        "\n",
        "    inner = torch.sum(M_obs * (X_obs - Y_obs) ** 2, dim=1)\n",
        "    outer = torch.sum(inner / n_obs_ot)\n",
        "\n",
        "    if compute_variance is not None:\n",
        "        warnings.warn(\"compute_variance not implemented for the loss function \"\n",
        "                      \"'compute_jump_loss'\", UserWarning)\n",
        "\n",
        "    return outer / batch_size\n",
        "\n",
        "LOSS_FUN_DICT = {\n",
        "    'easy': compute_loss_2,\n",
        "    'IO': compute_loss_IO,\n",
        "    'noisy_obs': compute_loss_noisy_obs,\n",
        "    'jump': compute_jump_loss,\n",
        "    'easy_vol': compute_loss_3,\n",
        "}"
      ]
    },
    {
      "cell_type": "code",
      "execution_count": null,
      "metadata": {
        "id": "u9d_OfDcqm_s"
      },
      "outputs": [],
      "source": [
        "def init_weights(m, bias=0.0):  # initialize weights for model for linear NN\n",
        "    if type(m) == torch.nn.Linear:\n",
        "        torch.nn.init.xavier_uniform_(m.weight)\n",
        "        if m.bias is not None:\n",
        "            m.bias.data.fill_(bias)\n",
        "\n",
        "nonlinears = {  # dictionary of used non-linear activation functions. Reminder inputs\n",
        "    'tanh': torch.nn.Tanh,\n",
        "    'relu': torch.nn.ReLU,\n",
        "    'prelu': torch.nn.PReLU,\n",
        "}\n",
        "\n",
        "def get_ffnn(input_size, output_size, nn_desc, dropout_rate, bias):\n",
        "    \"\"\"\n",
        "    function to get a feed-forward neural network with the given description\n",
        "    :param input_size: int, input dimension\n",
        "    :param output_size: int, output dimension\n",
        "    :param nn_desc: list of lists or None, each inner list defines one hidden\n",
        "            layer and has 2 elements: 1. int, the hidden dim, 2. str, the\n",
        "            activation function that should be applied (see dict nonlinears for\n",
        "            possible options)\n",
        "    :param dropout_rate: float,\n",
        "    :param bias: bool, whether a bias is used in the layers\n",
        "    :return: torch.nn.Sequential, the NN function\n",
        "    \"\"\"\n",
        "    if nn_desc is not None and len(nn_desc) == 0:\n",
        "        return torch.nn.Identity()\n",
        "    if nn_desc is None:\n",
        "        layers = [torch.nn.Linear(in_features=input_size, out_features=output_size, bias=bias)]  # take linear NN if\n",
        "        # not specified otherwise\n",
        "    else:\n",
        "        layers = [torch.nn.Linear(in_features=input_size, out_features=nn_desc[0][0], bias=bias)]  # first linear\n",
        "        # layer to specified dimension\n",
        "        if len(nn_desc) > 1:\n",
        "            for i in range(len(nn_desc) - 1):  # add multiple layers if multiple were given as input\n",
        "                layers.append(nonlinears[nn_desc[i][1]]())  # add layer with specified activation function\n",
        "                layers.append(torch.nn.Dropout(p=dropout_rate))  # add dropout layer\n",
        "                layers.append(\n",
        "                    torch.nn.Linear(nn_desc[i][0], nn_desc[i + 1][0],  # add linear layer between specified dimensions\n",
        "                                    bias=bias))\n",
        "        layers.append(nonlinears[nn_desc[-1][1]]())  # last specified activation function\n",
        "        layers.append(torch.nn.Dropout(p=dropout_rate))  # add another dropout layer\n",
        "        layers.append(torch.nn.Linear(in_features=nn_desc[-1][0], out_features=output_size, bias=bias))  # linear\n",
        "        # output layer\n",
        "    return torch.nn.Sequential(*layers)  # return the constructed NN"
      ]
    },
    {
      "cell_type": "markdown",
      "metadata": {
        "id": "szfprPTYq7Ma"
      },
      "source": [
        "# NN"
      ]
    },
    {
      "cell_type": "code",
      "execution_count": null,
      "metadata": {
        "id": "FAf18QxEq6hJ"
      },
      "outputs": [],
      "source": [
        "class ODEFunc(torch.nn.Module):\n",
        "    \"\"\"\n",
        "    implementing continuous update between observatios, f_{\\theta} in paper\n",
        "    \"\"\"\n",
        "\n",
        "    def __init__(self, input_size, hidden_size, ode_nn, dropout_rate=0.0,\n",
        "                 bias=True, input_current_t=False, input_sig=False,\n",
        "                 sig_depth=3, coord_wise_tau=False, input_scaling_func=\"tanh\",\n",
        "                 use_current_y_for_ode=False, input_var_t_helper=False):\n",
        "        super().__init__()  # initialize class with given parameters\n",
        "        self.input_current_t = input_current_t\n",
        "        self.input_sig = input_sig\n",
        "        self.sig_depth = sig_depth\n",
        "        self.use_current_y_for_ode = use_current_y_for_ode\n",
        "        self.input_var_t_helper = input_var_t_helper\n",
        "        if input_scaling_func in [\"id\", \"identity\"]:\n",
        "            self.sc_fun = torch.nn.Identity()\n",
        "            print(\"neuralODE use input scaling with identity (no scaling)\")\n",
        "        else:\n",
        "            self.sc_fun = torch.tanh\n",
        "            print(\"neuralODE use input scaling with tanh\")\n",
        "\n",
        "        # create feed-forward NN, f(H,X,tau,t-tau)\n",
        "        if coord_wise_tau:\n",
        "            add = 2*input_size\n",
        "        else:\n",
        "            add = 2\n",
        "        if input_current_t:\n",
        "            if coord_wise_tau:\n",
        "                add += input_size\n",
        "            else:\n",
        "                add += 1\n",
        "        if input_var_t_helper:\n",
        "            if coord_wise_tau:\n",
        "                add += input_size\n",
        "            else:\n",
        "                add += 1\n",
        "        if input_sig:\n",
        "            add += sig_depth\n",
        "        if use_current_y_for_ode:\n",
        "            add += input_size\n",
        "        self.f = get_ffnn(  # get a feedforward NN with the given specifications\n",
        "            input_size=input_size + hidden_size + add, output_size=hidden_size,\n",
        "            nn_desc=ode_nn, dropout_rate=dropout_rate, bias=bias\n",
        "        )\n",
        "\n",
        "    def forward(self, x, h, tau, tdiff, signature=None, current_y=None,\n",
        "                delta_t=None):\n",
        "        # dimension should be (batch, input_size) for x, (batch, hidden) for h,\n",
        "        #    (batch, 1) for times\n",
        "\n",
        "        input_f = torch.cat([self.sc_fun(x), self.sc_fun(h), tau, tdiff], dim=1)\n",
        "\n",
        "        if self.input_current_t:\n",
        "            input_f = torch.cat([input_f, tau+tdiff], dim=1)\n",
        "        if self.input_var_t_helper:\n",
        "            input_f = torch.cat([input_f, 1/torch.sqrt(tdiff+delta_t)], dim=1)\n",
        "        if self.input_sig:\n",
        "            input_f = torch.cat([input_f, signature], dim=1)\n",
        "        if self.use_current_y_for_ode:\n",
        "            input_f = torch.cat([input_f, self.sc_fun(current_y)], dim=1)\n",
        "\n",
        "        df = self.f(input_f)\n",
        "        return df\n",
        "\n",
        "class FFNN(torch.nn.Module):\n",
        "    \"\"\"\n",
        "    Implements feed-forward neural networks with tanh applied to inputs and the\n",
        "    option to use a residual NN version\n",
        "    \"\"\"\n",
        "\n",
        "    def __init__(self, input_size, output_size, nn_desc, dropout_rate=0.0,\n",
        "                 bias=True, residual=False, masked=False, recurrent=False,\n",
        "                 input_sig=False, sig_depth=3, clamp=None, input_t=False,\n",
        "                 t_size=None, nb_outputs=None,\n",
        "                 **kwargs):\n",
        "        super().__init__()\n",
        "\n",
        "        self.use_lstm = False\n",
        "        if nn_desc is not None and isinstance(nn_desc[0][0], str) \\\n",
        "                and nn_desc[0][0].lower() == \"lstm\":\n",
        "            self.use_lstm = True\n",
        "            print(\"USE LSTM\")\n",
        "        in_size = input_size\n",
        "        if masked:\n",
        "            in_size = 2 * input_size\n",
        "        if recurrent and not self.use_lstm:\n",
        "            in_size += output_size\n",
        "        if input_sig:\n",
        "            in_size += sig_depth\n",
        "        self.masked = masked\n",
        "        self.recurrent = recurrent\n",
        "        self.output_size = output_size\n",
        "        self.nb_outputs = nb_outputs\n",
        "        if self.nb_outputs is None:\n",
        "            self.nb_outputs = 1\n",
        "        self.input_sig = input_sig\n",
        "        self.sig_depth = sig_depth\n",
        "        self.input_t = input_t\n",
        "        if self.input_t:\n",
        "            in_size += t_size\n",
        "        self.clamp = clamp\n",
        "        self.lstm = None\n",
        "        if self.use_lstm:\n",
        "            self.lstm = torch.nn.LSTMCell(\n",
        "                input_size=in_size, hidden_size=nn_desc[0][1], bias=bias)\n",
        "            self.c_h = None\n",
        "            in_size = nn_desc[0][1]*2\n",
        "            assert in_size == output_size, \\\n",
        "                \"when using an LSTM, the hidden_size has to be 2* \" \\\n",
        "                \"the LSTM output size\"\n",
        "            nn_desc = nn_desc[1:]\n",
        "        self.ffnn = get_ffnn(\n",
        "            input_size=in_size, output_size=self.output_size*self.nb_outputs,\n",
        "            nn_desc=nn_desc, dropout_rate=dropout_rate, bias=bias)\n",
        "\n",
        "        if residual:\n",
        "            print('use residual network: input_size={}, output_size={}'.format(\n",
        "                input_size, output_size))\n",
        "            if input_size <= output_size:\n",
        "                self.case = 1\n",
        "            if input_size > output_size:\n",
        "                self.case = 2\n",
        "        else:\n",
        "            self.case = 0\n",
        "\n",
        "    def forward(self, nn_input, mask=None, sig=None, h=None, t=None):\n",
        "        identity = None\n",
        "        if self.case == 1:\n",
        "            identity = torch.zeros((nn_input.shape[0], self.output_size)).to(\n",
        "                self.device)\n",
        "            identity[:, 0:nn_input.shape[1]] = nn_input\n",
        "        elif self.case == 2:\n",
        "            identity = nn_input[:, 0:self.output_size]\n",
        "\n",
        "        if self.recurrent or self.use_lstm:\n",
        "            assert h is not None\n",
        "            # x = torch.tanh(nn_input)\n",
        "            x = nn_input\n",
        "        else:\n",
        "            x = torch.tanh(nn_input)  # maybe not helpful\n",
        "        if self.recurrent and not self.use_lstm:\n",
        "            x = torch.cat((x, h), dim=1)\n",
        "        if self.input_t:\n",
        "            x = torch.cat((x, t), dim=1)\n",
        "        if self.masked:\n",
        "            assert mask is not None\n",
        "            x = torch.cat((x, mask), dim=1)\n",
        "        if self.input_sig:\n",
        "            assert sig is not None\n",
        "            x = torch.cat((x, sig), dim=1)\n",
        "        if self.use_lstm:\n",
        "            h_, c_ = torch.chunk(h, chunks=2, dim=1)\n",
        "            h_, c_ = self.lstm(x.float(), (h_, c_))\n",
        "            x = torch.concat((h_, c_), dim=1)\n",
        "        out = self.ffnn(x.float())\n",
        "\n",
        "        if self.nb_outputs > 1:\n",
        "            out = out.reshape(-1, self.output_size, self.nb_outputs)\n",
        "            if self.case > 0:\n",
        "                identity = identity.reshape(-1, self.output_size, 1).repeat(\n",
        "                    1, 1, self.nb_outputs)\n",
        "\n",
        "        if self.case == 0:\n",
        "            pass\n",
        "        else:\n",
        "            out = identity + out\n",
        "\n",
        "        if self.clamp is not None:\n",
        "            out = torch.clamp(out, min=-self.clamp, max=self.clamp)\n",
        "\n",
        "        return out\n",
        "\n",
        "    @property\n",
        "    def device(self):\n",
        "        device = next(self.parameters()).device\n",
        "        return device"
      ]
    },
    {
      "cell_type": "markdown",
      "metadata": {
        "id": "0dakQuNyrBwd"
      },
      "source": [
        "# model"
      ]
    },
    {
      "cell_type": "code",
      "execution_count": null,
      "metadata": {
        "id": "-9sQKgBqrDNu"
      },
      "outputs": [],
      "source": [
        "class NJODE(torch.nn.Module):\n",
        "    \"\"\"\n",
        "    NJ-ODE model\n",
        "    \"\"\"\n",
        "    def __init__(  # initialize the class by naming relevant features\n",
        "            self, input_size, hidden_size, output_size,\n",
        "            ode_nn, readout_nn, enc_nn, use_rnn,\n",
        "            bias=True, dropout_rate=0, solver=\"euler\",\n",
        "            input_coords=None, output_coords=None,\n",
        "            signature_coords=None, compute_variance=None, var_size=0,\n",
        "            **options\n",
        "    ):\n",
        "        \"\"\"\n",
        "        init the model\n",
        "        :param input_size: int\n",
        "        :param hidden_size: int, size of latent variable process\n",
        "        :param output_size: int\n",
        "        :param ode_nn: list of list, defining the NN f, see get_ffnn\n",
        "        :param readout_nn: list of list, defining the NN g, see get_ffnn\n",
        "        :param enc_nn: list of list, defining the NN e, see get_ffnn\n",
        "        :param use_rnn: bool, whether to use the RNN for 'jumps'\n",
        "        :param bias: bool, whether to use a bias for the NNs\n",
        "        :param dropout_rate: float\n",
        "        :param solver: str, specifying the ODE solver, suppoorted: {'euler'}\n",
        "        :param weight: float in [0.5, 1], the initial weight used in the loss\n",
        "        :param weight_decay: float in [0,1], the decay applied to the weight of\n",
        "                the loss function after each epoch, decaying towards 0.5\n",
        "                    1: no decay, weight stays the same\n",
        "                    0: immediate decay to 0.5 after 1st epoch\n",
        "                    (0,1): exponential decay towards 0.5\n",
        "        :param level: level for signature transform\n",
        "        :param input_coords: list of int, the coordinates of the input\n",
        "        :param output_coords: list of int, the coordinates of the output\n",
        "        :param signature_coords: list of int, the coordinates of the signature\n",
        "        :param compute_variance: None or one of {\"variance\", \"covariance\"},\n",
        "                whether to compute the (marginal) variance or covariance matrix\n",
        "        :param var_size: int, the size of the model variance estimate; this is\n",
        "                already included in the output_size, but the variance\n",
        "                coordinates are not included in the output_coords\n",
        "        :param options: kwargs, used:\n",
        "                - \"classifier_nn\"\n",
        "                - \"options\" with arg a dict passed from train.train\n",
        "                    used kwords: 'which_loss', 'residual_enc_dec',\n",
        "                    'residual_enc', 'residual_dec',\n",
        "                    'masked', 'input_current_t', 'input_sig', 'level',\n",
        "                    'use_y_for_ode', 'enc_input_t', 'use_current_y_for_ode',\n",
        "                    'use_observation_as_input', 'coord_wise_tau', 'clamp',\n",
        "                    'ode_input_scaling_func', 'use_sig_for_classifier',\n",
        "                    'classifier_loss_weight'\n",
        "        \"\"\"\n",
        "        super().__init__()\n",
        "\n",
        "        self.epoch = 1\n",
        "        self.retrain_epoch = 0\n",
        "        self.weight = 0.5\n",
        "        self.use_rnn = use_rnn\n",
        "        self.input_coords = input_coords\n",
        "        self.output_coords = output_coords\n",
        "        self.signature_coords = signature_coords\n",
        "        self.compute_variance = compute_variance\n",
        "        self.var_size = var_size\n",
        "        self.var_weight = 1.\n",
        "        self.which_var_loss = None\n",
        "\n",
        "        # get options from the options of train input\n",
        "        options1 = options['options']\n",
        "        if 'which_loss' in options1:\n",
        "            self.which_loss = options1['which_loss']\n",
        "        else:\n",
        "            self.which_loss = 'easy'\n",
        "        assert self.which_loss in LOSS_FUN_DICT\n",
        "        print('using loss: {}'.format(self.which_loss))\n",
        "        if \"var_weight\" in options1:\n",
        "            self.var_weight = options1['var_weight']\n",
        "            print(\"using variance loss weight:\", self.var_weight)\n",
        "        if \"which_var_loss\" in options1:\n",
        "            self.which_var_loss = options1['which_var_loss']\n",
        "            print(\"using variance loss:\", self.which_var_loss)\n",
        "\n",
        "        self.residual_enc = True\n",
        "        self.residual_dec = True\n",
        "        if 'residual_enc_dec' in options1:\n",
        "            residual_enc_dec = options1['residual_enc_dec']\n",
        "            self.residual_enc = residual_enc_dec\n",
        "            self.residual_dec = residual_enc_dec\n",
        "        if 'residual_enc' in options1:\n",
        "            self.residual_enc = options1['residual_enc']\n",
        "        if 'residual_dec' in options1:\n",
        "            self.residual_dec = options1['residual_dec']\n",
        "\n",
        "        self.input_current_t = False\n",
        "        if 'input_current_t' in options1:\n",
        "            self.input_current_t = options1['input_current_t']\n",
        "        self.input_var_t_helper = False\n",
        "        if 'input_var_t_helper' in options1:\n",
        "            self.input_var_t_helper = options1['input_var_t_helper']\n",
        "        self.input_sig = False\n",
        "        if 'input_sig' in options1:\n",
        "            self.input_sig = options1['input_sig']\n",
        "        self.level = 2\n",
        "        if 'level' in options1:\n",
        "            self.level = options1['level']\n",
        "        self.sig_depth = sig.siglength(len(self.signature_coords)+1, self.level)\n",
        "        self.masked = False\n",
        "        if 'masked' in options1:\n",
        "            self.masked = options1['masked']\n",
        "        self.use_y_for_ode = False\n",
        "        if 'use_y_for_ode' in options1:\n",
        "            self.use_y_for_ode = options1['use_y_for_ode']\n",
        "        self.use_current_y_for_ode = False\n",
        "        if 'use_current_y_for_ode' in options1:\n",
        "            self.use_current_y_for_ode = options1['use_current_y_for_ode']\n",
        "        self.coord_wise_tau = False\n",
        "        if 'coord_wise_tau' in options1 and self.masked:\n",
        "            self.coord_wise_tau = options1['coord_wise_tau']\n",
        "        self.enc_input_t = False\n",
        "        if 'enc_input_t' in options1:\n",
        "            self.enc_input_t = options1['enc_input_t']\n",
        "        self.clamp = None\n",
        "        if 'clamp' in options1:\n",
        "            self.clamp = options1['clamp']\n",
        "        self.ode_input_scaling_func = \"tanh\"\n",
        "        if 'ode_input_scaling_func' in options1:\n",
        "            self.ode_input_scaling_func = options1['ode_input_scaling_func']\n",
        "        self.loss_weight = 1.\n",
        "        t_size = 2\n",
        "        if self.coord_wise_tau:\n",
        "            t_size = 2*input_size\n",
        "        use_observation_as_input = None\n",
        "        if 'use_observation_as_input' in options1:\n",
        "            use_observation_as_input = options1['use_observation_as_input']\n",
        "        if use_observation_as_input is None:\n",
        "            self.use_observation_as_input = lambda x: True\n",
        "        elif isinstance(use_observation_as_input, bool):\n",
        "            self.use_observation_as_input = \\\n",
        "                lambda x: use_observation_as_input\n",
        "        elif isinstance(use_observation_as_input, float):\n",
        "            self.use_observation_as_input = \\\n",
        "                lambda x: np.random.random() < use_observation_as_input\n",
        "        elif isinstance(use_observation_as_input, str):\n",
        "            self.use_observation_as_input = \\\n",
        "                eval(use_observation_as_input)\n",
        "        val_use_observation_as_input = None\n",
        "        if 'val_use_observation_as_input' in options1:\n",
        "            val_use_observation_as_input = \\\n",
        "                options1['val_use_observation_as_input']\n",
        "        if val_use_observation_as_input is None:\n",
        "            self.val_use_observation_as_input = self.use_observation_as_input\n",
        "        elif isinstance(val_use_observation_as_input, bool):\n",
        "            self.val_use_observation_as_input = \\\n",
        "                lambda x: val_use_observation_as_input\n",
        "        elif isinstance(val_use_observation_as_input, float):\n",
        "            self.val_use_observation_as_input = \\\n",
        "                lambda x: np.random.random() < val_use_observation_as_input\n",
        "        elif isinstance(val_use_observation_as_input, str):\n",
        "            self.val_use_observation_as_input = \\\n",
        "                eval(val_use_observation_as_input)\n",
        "\n",
        "        self.ode_f = ODEFunc(\n",
        "            input_size=input_size, hidden_size=hidden_size, ode_nn=ode_nn,\n",
        "            dropout_rate=dropout_rate, bias=bias,\n",
        "            input_current_t=self.input_current_t, input_sig=self.input_sig,\n",
        "            sig_depth=self.sig_depth, coord_wise_tau=self.coord_wise_tau,\n",
        "            input_scaling_func=self.ode_input_scaling_func,\n",
        "            use_current_y_for_ode=self.use_current_y_for_ode,\n",
        "            input_var_t_helper=self.input_var_t_helper)\n",
        "        self.encoder_map = FFNN(\n",
        "            input_size=input_size, output_size=hidden_size, nn_desc=enc_nn,\n",
        "            dropout_rate=dropout_rate, bias=bias, recurrent=self.use_rnn,\n",
        "            masked=self.masked, residual=self.residual_enc,\n",
        "            input_sig=self.input_sig, sig_depth=self.sig_depth,\n",
        "            input_t=self.enc_input_t, t_size=t_size)\n",
        "        self.readout_map = FFNN(\n",
        "            input_size=hidden_size, output_size=output_size, nn_desc=readout_nn,\n",
        "            dropout_rate=dropout_rate, bias=bias,\n",
        "            residual=self.residual_dec, clamp=self.clamp,\n",
        "            nb_outputs=None)\n",
        "\n",
        "        self.solver = solver\n",
        "        self.input_size = input_size\n",
        "        self.output_size = output_size\n",
        "        self.hidden_size = hidden_size\n",
        "\n",
        "        self.apply(init_weights)\n",
        "\n",
        "    @property\n",
        "    def device(self):\n",
        "        device = next(self.parameters()).device\n",
        "        return device\n",
        "\n",
        "    def ode_step(self, h, delta_t, current_time, last_X, tau, signature=None,\n",
        "                 current_y=None):\n",
        "        \"\"\"Executes a single ODE step\"\"\"\n",
        "        if not self.input_sig:\n",
        "            signature = None\n",
        "        if self.solver == \"euler\":\n",
        "            h = h + delta_t * self.ode_f(\n",
        "                x=last_X, h=h, tau=tau, tdiff=current_time - tau,\n",
        "                signature=signature, current_y=current_y, delta_t=delta_t)\n",
        "        else:\n",
        "            raise ValueError(\"Unknown solver '{}'.\".format(self.solver))\n",
        "\n",
        "        current_time += delta_t\n",
        "        return h, current_time\n",
        "\n",
        "    def recreate_data(self, times, time_ptr, X, obs_idx, start_X):\n",
        "        \"\"\"\n",
        "        recreates matrix of all observations\n",
        "        first dim: which data path\n",
        "        second dim: which time\n",
        "        \"\"\"\n",
        "        # shape: [batch_size, time_steps+1, dimension]\n",
        "        data = np.empty(shape=(start_X.shape[0], 1+len(times), start_X.shape[1]))\n",
        "        data[:] = np.nan\n",
        "        data[:,0,:] = start_X.detach().cpu().numpy()\n",
        "\n",
        "        X = X.detach().cpu().numpy()\n",
        "        for j, time in enumerate(times):\n",
        "            start = time_ptr[j]\n",
        "            end = time_ptr[j + 1]\n",
        "            X_obs = X[start:end]\n",
        "            i_obs = obs_idx[start:end]\n",
        "            data[i_obs, j+1, :] = X_obs\n",
        "        times_new = np.concatenate(([0], times), axis=0)\n",
        "\n",
        "        return times_new, data\n",
        "\n",
        "    def get_signature(self, times, time_ptr, X, obs_idx, start_X):\n",
        "        \"\"\"\n",
        "        Input: See forward\n",
        "        Returns: signature of paths as nested list\n",
        "        \"\"\"\n",
        "        # reconstructing the data, shape: [batch_size, time_steps+1, dim]\n",
        "        times_new, data = self.recreate_data(\n",
        "            times=times, time_ptr=time_ptr, X=X, obs_idx=obs_idx,\n",
        "            start_X=start_X)\n",
        "\n",
        "        # list of list of lists, shape: [batch_size, obs_dates[j], sig_length]\n",
        "        signature = []\n",
        "        for j in range(data.shape[0]):  # iterate over batch\n",
        "            data_j = data[j, :, :]\n",
        "            observed_j = []\n",
        "            for i in range(data_j.shape[0]):\n",
        "                # if the current batch-sample has an observation at the current\n",
        "                #   time, add it to the list of observations\n",
        "                if not np.all(np.isnan(data_j[i])):\n",
        "                    observed_j += [i]\n",
        "            data_j = data_j[observed_j, :]\n",
        "\n",
        "            # replace no observations with last observation\n",
        "            for i in range(1, data_j.shape[0]):\n",
        "                # # OLD VERSION (SLOW)\n",
        "                # for k in range(data_j.shape[1]):\n",
        "                #     if np.isnan(data_j[i, k]):\n",
        "                #         data_j[i, k] = data_j[i-1, k]\n",
        "                ks = np.isnan(data_j[i, :])\n",
        "                data_j[i, ks] = data_j[i-1, ks]\n",
        "\n",
        "            times_j = times_new[observed_j].reshape(-1, 1)\n",
        "            # add times to data for signature call\n",
        "            path_j = np.concatenate((times_j, data_j), axis=1)\n",
        "            # the following computes the signatures of all partial paths, from\n",
        "            #   start to each point of the path\n",
        "            signature.append(sig.sig(path_j, self.level, 2))\n",
        "\n",
        "        return signature\n",
        "\n",
        "    def forward(self, times, time_ptr, X, obs_idx, delta_t, T, start_X,\n",
        "                n_obs_ot, return_path=False, get_loss=True, until_T=False,\n",
        "                M=None, start_M=None, which_loss=None, dim_to=None,\n",
        "                predict_labels=None, return_classifier_out=False,\n",
        "                return_at_last_obs=False, compute_variance_loss=True):\n",
        "        \"\"\"\n",
        "        the forward run of this module class, used when calling the module\n",
        "        instance without a method\n",
        "        :param times: np.array, of observation times\n",
        "        :param time_ptr: list, start indices of X and obs_idx for a given\n",
        "                observation time, first element is 0, this pointer tells how\n",
        "                many (and which) of the observations of X along the batch-dim\n",
        "                belong to the current time, and obs_idx then tells to which of\n",
        "                the batch elements they belong. In particular, not each batch-\n",
        "                element has to jump at the same time, and only those elements\n",
        "                which jump at the current time should be updated with a jump\n",
        "        :param X: torch.tensor, data tensor\n",
        "        :param obs_idx: list, index of the batch elements where jumps occur at\n",
        "                current time\n",
        "        :param delta_t: float, time step for Euler\n",
        "        :param T: float, the final time\n",
        "        :param start_X: torch.tensor, the starting point of X\n",
        "        :param n_obs_ot: torch.tensor, the number of observations over the\n",
        "                entire time interval for each element of the batch\n",
        "        :param return_path: bool, whether to return the path of h\n",
        "        :param get_loss: bool, whether to compute the loss, otherwise 0 returned\n",
        "        :param until_T: bool, whether to continue until T (for eval) or only\n",
        "                until last observation (for training)\n",
        "        :param M: None or torch.tensor, if not None: the mask for the data, same\n",
        "                size as X, with 0 or 1 entries\n",
        "        :param start_M: None or torch.tensor, if not None: the mask for start_X,\n",
        "                same size as start_X\n",
        "        :param which_loss: see train.train, to overwrite which loss for eval\n",
        "        :param dim_to: None or int, if given not all coordinates along the\n",
        "                data-dimension axis are used but only up to dim_to. this can be\n",
        "                used if func_appl_X is used in train, but the loss etc. should\n",
        "                only be computed for the original coordinates (without those\n",
        "                resulting from the function applications)\n",
        "        :param predict_labels: None or torch.tensor with the true labels to\n",
        "                predict\n",
        "        :param return_classifier_out: bool, whether to return the output of the\n",
        "                classifier\n",
        "        :param return_at_last_obs: bool, whether to return the hidden state at\n",
        "                the last observation time or at the final time\n",
        "        :param epoch: int, the current epoch\n",
        "        :param compute_variance_loss: bool, whether to compute the variance\n",
        "                loss (in case self.compute_variance is not None). default: True\n",
        "\n",
        "        :return: torch.tensor (hidden state at final time), torch.tensor (loss),\n",
        "                    if wanted the paths of t (np.array) and h, y (torch.tensors)\n",
        "        \"\"\"\n",
        "        if which_loss is None:\n",
        "            which_loss = self.which_loss\n",
        "        LOSS = LOSS_FUN_DICT[which_loss]\n",
        "\n",
        "        last_X = start_X\n",
        "        batch_size = start_X.size()[0]\n",
        "        data_dim = start_X.size()[1]\n",
        "        if dim_to is None:\n",
        "            dim_to = len(self.output_coords)\n",
        "        out_coords = self.output_coords[:dim_to]\n",
        "\n",
        "        impute = False\n",
        "        if (len(self.input_coords) == len(self.output_coords) and\n",
        "                np.all(self.input_coords == self.output_coords)):\n",
        "            impute = True\n",
        "        if not impute and self.use_y_for_ode:\n",
        "            raise ValueError(\n",
        "                \"use_y_for_ode can only be used when imputation is possible, \"\n",
        "                \"i.e., when input and output coordinates are the same\")\n",
        "\n",
        "\n",
        "        if self.coord_wise_tau:\n",
        "            tau = torch.tensor([[0.0]]).repeat(batch_size, self.input_size).to(\n",
        "                self.device)\n",
        "        else:\n",
        "            tau = torch.tensor([[0.0]]).repeat(batch_size, 1).to(\n",
        "                self.device)\n",
        "        current_time = 0.0\n",
        "        loss = torch.tensor(0.).to(self.device)\n",
        "        c_sig = None\n",
        "\n",
        "        if self.input_sig:\n",
        "            if X.shape[0] == 0:  # if no data, set signature to 0\n",
        "                pass\n",
        "            elif self.masked:\n",
        "                Mdc = M.clone()\n",
        "                Mdc[Mdc==0] = np.nan\n",
        "                X_obs_impute = X * Mdc\n",
        "                signature = self.get_signature(\n",
        "                    times=times, time_ptr=time_ptr,\n",
        "                    X=X_obs_impute[:, self.signature_coords],\n",
        "                    obs_idx=obs_idx, start_X=start_X[:, self.signature_coords])\n",
        "            else:\n",
        "                signature = self.get_signature(\n",
        "                    times=times, time_ptr=time_ptr,\n",
        "                    X=X[:, self.signature_coords],\n",
        "                    obs_idx=obs_idx, start_X=start_X[:, self.signature_coords])\n",
        "\n",
        "            # in beginning, no path was observed => set sig to 0\n",
        "            current_sig = np.zeros((batch_size, self.sig_depth))\n",
        "            current_sig_nb = np.zeros(batch_size).astype(int)\n",
        "            c_sig = torch.from_numpy(current_sig).float().to(self.device)\n",
        "\n",
        "        if self.masked:\n",
        "            if start_M is None:\n",
        "                start_M = torch.ones_like(start_X)\n",
        "                start_M = start_M[:, self.input_coords]\n",
        "        else:\n",
        "            start_M = None\n",
        "\n",
        "        h = self.encoder_map(\n",
        "            start_X[:, self.input_coords], mask=start_M,\n",
        "            sig=c_sig,\n",
        "            h=torch.zeros((batch_size, self.hidden_size)).to(self.device),\n",
        "            t=torch.cat((tau, current_time - tau), dim=1).to(self.device))\n",
        "\n",
        "        if return_path:\n",
        "            path_t = [0]\n",
        "            path_h = [h]\n",
        "            y = self.readout_map(h)\n",
        "            if self.var_size > 0:\n",
        "                path_y = [y[:, :-self.var_size]]\n",
        "                path_var = [y[:, -self.var_size:]]\n",
        "            else:\n",
        "                path_y = [y]\n",
        "                path_var = None\n",
        "        h_at_last_obs = h.clone()\n",
        "        sig_at_last_obs = c_sig\n",
        "\n",
        "        assert len(times) + 1 == len(time_ptr)\n",
        "\n",
        "        for i, obs_time in enumerate(times):\n",
        "            # Propagation of the ODE until next observation\n",
        "            while current_time < (obs_time - 1e-10 * delta_t):  # 0.0001 delta_t used for numerical consistency.\n",
        "                if current_time < obs_time - delta_t:\n",
        "                    delta_t_ = delta_t\n",
        "                else:\n",
        "                    delta_t_ = obs_time - current_time\n",
        "                if self.solver == 'euler':\n",
        "                    h, current_time = self.ode_step(\n",
        "                        h, delta_t_, current_time,\n",
        "                        last_X=last_X[:, self.input_coords], tau=tau,\n",
        "                        signature=c_sig, current_y=self.readout_map(h))\n",
        "                    current_time_nb = int(round(current_time / delta_t))\n",
        "                else:\n",
        "                    raise NotImplementedError\n",
        "\n",
        "                # Storing the predictions.\n",
        "                if return_path:\n",
        "                    path_t.append(current_time)\n",
        "                    path_h.append(h)\n",
        "                    y = self.readout_map(h)\n",
        "                    if self.var_size > 0:\n",
        "                        path_y.append(y[:, :-self.var_size])\n",
        "                        path_var.append(y[:, -self.var_size:])\n",
        "                    else:\n",
        "                        path_y.append(y)\n",
        "\n",
        "            # Reached an observation - only update those elements of the batch,\n",
        "            #    for which an observation is made\n",
        "            start = time_ptr[i]\n",
        "            end = time_ptr[i + 1]\n",
        "            X_obs = X[start:end]\n",
        "            i_obs = obs_idx[start:end]\n",
        "            if self.masked:\n",
        "                if isinstance(M, np.ndarray):\n",
        "                    M_obs = torch.from_numpy(M[start:end]).to(self.device)\n",
        "                else:\n",
        "                    M_obs = M[start:end]\n",
        "                M_obs_in = M_obs[:, self.input_coords]\n",
        "                M_obs_out = M_obs[:, out_coords]\n",
        "                M_obs_sig = M_obs[:, self.signature_coords]\n",
        "            else:\n",
        "                M_obs = None\n",
        "                M_obs_in = None\n",
        "                M_obs_out = None\n",
        "                M_obs_sig = None\n",
        "\n",
        "            # decide whether to use observation as input\n",
        "            if self.training:  # check whether model is in training or eval mode\n",
        "                use_as_input = self.use_observation_as_input(self.epoch)\n",
        "            else:\n",
        "                use_as_input = self.val_use_observation_as_input(self.epoch)\n",
        "\n",
        "            # update signature\n",
        "            if self.input_sig:\n",
        "                for ij, j in enumerate(i_obs):\n",
        "                    # the signature is updated only if one of the sig-coords is\n",
        "                    #   observed -> hence, it can happen that even though the\n",
        "                    #   j-th batch sample is observed, the signature is not\n",
        "                    #   updated because none of the sig-coords is observed\n",
        "                    if M_obs_sig is None or M_obs_sig[ij].sum() > 0:\n",
        "                        current_sig[j, :] = signature[j][current_sig_nb[j]]\n",
        "                        current_sig_nb[j] += 1\n",
        "                if use_as_input:\n",
        "                    c_sig = torch.from_numpy(current_sig).float().to(\n",
        "                        self.device)\n",
        "\n",
        "            # Using RNNCell to update h. Also updating loss, tau and last_X\n",
        "            Y_bj = self.readout_map(h)\n",
        "            if use_as_input:\n",
        "                X_obs_impute = X_obs\n",
        "                temp = h.clone()\n",
        "                if self.masked:\n",
        "                    if impute:\n",
        "                        # self imputation only possible if input and output are\n",
        "                        #    the same and no quantile loss is used\n",
        "                        X_obs_impute = X_obs * M_obs + (torch.ones_like(\n",
        "                            M_obs.long()) - M_obs) * Y_bj[i_obs.long(), :data_dim]\n",
        "                    else:\n",
        "                        # otherwise set all masked entries to last value of X\n",
        "                        X_obs_impute = X_obs * M_obs + (1-M_obs) * last_X\n",
        "                c_sig_iobs = None\n",
        "                if self.input_sig:\n",
        "                    c_sig_iobs = c_sig[i_obs]\n",
        "                temp[i_obs.long()] = self.encoder_map(\n",
        "                    X_obs_impute[:, self.input_coords],\n",
        "                    mask=M_obs_in, sig=c_sig_iobs, h=h[i_obs],\n",
        "                    t=torch.cat((tau[i_obs], current_time - tau[i_obs]), dim=1))\n",
        "                h = temp\n",
        "                Y = self.readout_map(h)\n",
        "\n",
        "                # update h and sig at last observation\n",
        "                h_at_last_obs[i_obs.long()] = h[i_obs.long()].clone()\n",
        "                sig_at_last_obs = c_sig\n",
        "            else:\n",
        "                Y = Y_bj\n",
        "\n",
        "            if get_loss:\n",
        "                Y_var_bj = None\n",
        "                Y_var = None\n",
        "                if self.var_size > 0:\n",
        "                    Y_var_bj = Y_bj[i_obs.long(), -self.var_size:]\n",
        "                    Y_var = Y[i_obs.long(), -self.var_size:]\n",
        "\n",
        "                # INFO: X_obs has input and output coordinates, out_coords only\n",
        "                #   has the output coordinates until dim_to; Y_obs has only the\n",
        "                #   output coordinates (+ the var coords appended in the end),\n",
        "                #   so taking them until dim_to (which is at max the size of the\n",
        "                #   output_coords) corresponds to the out_coords\n",
        "                if compute_variance_loss:\n",
        "                    compute_variance = self.compute_variance\n",
        "                else:\n",
        "                    compute_variance = None\n",
        "                if which_loss=='easy_vol':\n",
        "                    unused_coords = [0]\n",
        "                    loss = loss + LOSS(\n",
        "                        X_obs_bj=X_obs[:,unused_coords ] , X_obs=X_obs[:, out_coords], Y_obs=Y[i_obs.long(), :dim_to],\n",
        "                        Y_obs_bj=Y_bj[i_obs.long(), :dim_to],\n",
        "                        n_obs_ot=n_obs_ot[i_obs.long()], batch_size=batch_size,\n",
        "                        weight=self.weight, M_obs=M_obs_out,\n",
        "                        compute_variance=compute_variance,\n",
        "                        var_weight=self.var_weight,\n",
        "                        Y_var_bj=Y_var_bj, Y_var=Y_var, dim_to=dim_to,\n",
        "                        which_var_loss=self.which_var_loss)\n",
        "                else:\n",
        "                  loss = loss + LOSS(\n",
        "                      X_obs=X_obs[:, out_coords], Y_obs=Y[i_obs.long(), :dim_to],\n",
        "                      Y_obs_bj=Y_bj[i_obs.long(), :dim_to],\n",
        "                      n_obs_ot=n_obs_ot[i_obs.long()], batch_size=batch_size,\n",
        "                      weight=self.weight, M_obs=M_obs_out,\n",
        "                      compute_variance=compute_variance,\n",
        "                      var_weight=self.var_weight,\n",
        "                      Y_var_bj=Y_var_bj, Y_var=Y_var, dim_to=dim_to,\n",
        "                      which_var_loss=self.which_var_loss)\n",
        "\n",
        "            # make update of last_X and tau, that is not inplace\n",
        "            #    (otherwise problems in autograd)\n",
        "            if use_as_input:\n",
        "              temp_X = last_X.clone()\n",
        "              temp_tau = tau.clone()\n",
        "              if self.use_y_for_ode:\n",
        "                  temp_X[i_obs.long()] = Y[i_obs.long(), :data_dim]\n",
        "              else:\n",
        "                  temp_X[i_obs.long()] = X_obs_impute\n",
        "              if self.coord_wise_tau:\n",
        "                  _M = torch.zeros_like(temp_tau)\n",
        "                  _M[i_obs] = M_obs[:, self.input_coords]\n",
        "                  temp_tau[_M==1] = obs_time.astype(np.float64)\n",
        "              else:\n",
        "                  temp_tau[i_obs.long()] = obs_time.astype(np.float64)\n",
        "              last_X = temp_X\n",
        "              tau = temp_tau\n",
        "\n",
        "            if return_path:\n",
        "                path_t.append(obs_time)\n",
        "                path_h.append(h)\n",
        "                if self.var_size > 0:\n",
        "                    path_y.append(Y[:, :-self.var_size])\n",
        "                    path_var.append(Y[:, -self.var_size:])\n",
        "                else:\n",
        "                    path_y.append(Y)\n",
        "\n",
        "        # after every observation has been processed, propagating until T\n",
        "        if until_T:\n",
        "            while current_time < T - 1e-10 * delta_t:\n",
        "                if current_time < T - delta_t:\n",
        "                    delta_t_ = delta_t\n",
        "                else:\n",
        "                    delta_t_ = T - current_time\n",
        "                if self.solver == 'euler':\n",
        "                    h, current_time = self.ode_step(\n",
        "                        h, delta_t_, current_time, last_X=last_X, tau=tau,\n",
        "                        signature=c_sig, current_y=self.readout_map(h))\n",
        "                else:\n",
        "                    raise NotImplementedError\n",
        "\n",
        "                # Storing the predictions.\n",
        "                if return_path:\n",
        "                    path_t.append(current_time)\n",
        "                    path_h.append(h)\n",
        "                    y = self.readout_map(h)\n",
        "                    if self.var_size > 0:\n",
        "                        path_y.append(y[:, :-self.var_size])\n",
        "                        path_var.append(y[:, -self.var_size:])\n",
        "                    else:\n",
        "                        path_y.append(y)\n",
        "\n",
        "        if return_at_last_obs:\n",
        "            return h_at_last_obs, sig_at_last_obs\n",
        "        if return_path:\n",
        "            # path dimension: [time_steps, batch_size, output_size]\n",
        "            var_path = None\n",
        "            if self.var_size > 0:\n",
        "                var_path = torch.stack(path_var)\n",
        "            return h, loss, np.array(path_t), torch.stack(path_h), \\\n",
        "                   torch.stack(path_y)[:, :, :dim_to], var_path\n",
        "        else:\n",
        "            return h, loss\n",
        "\n",
        "    def evaluate(self, times, time_ptr, X, obs_idx, delta_t, T, start_X,\n",
        "                 n_obs_ot, stockmodel, cond_exp_fun_kwargs=None,\n",
        "                 diff_fun=lambda x, y: np.nanmean((x - y) ** 2),\n",
        "                 return_paths=False, M=None, true_paths=None, start_M=None,\n",
        "                 true_mask=None, mult=None, use_stored_cond_exp=False,):\n",
        "        \"\"\"\n",
        "        evaluate the model at its current training state against the true\n",
        "        conditional expectation\n",
        "        :param times: see forward\n",
        "        :param time_ptr: see forward\n",
        "        :param X: see forward\n",
        "        :param obs_idx: see forward\n",
        "        :param delta_t: see forward\n",
        "        :param T: see forward\n",
        "        :param start_X: see forward\n",
        "        :param n_obs_ot: see forward\n",
        "        :param stockmodel: stock_model.StockModel instance, used to compute true\n",
        "                cond. exp.\n",
        "        :param cond_exp_fun_kwargs: dict, the kwargs for the cond. exp. function\n",
        "                currently not used\n",
        "        :param diff_fun: function, to compute difference between optimal and\n",
        "                predicted cond. exp\n",
        "        :param return_paths: bool, whether to return also the paths\n",
        "        :param M: see forward\n",
        "        :param start_M: see forward\n",
        "        :param true_paths: np.array, shape [batch_size, dimension, time_steps+1]\n",
        "        :param true_mask: as true_paths, with mask entries\n",
        "        :param mult: None or int, if given not all coordinates along the\n",
        "                data-dimension axis are used but only up to dim/mult. this can be\n",
        "                used if func_appl_X is used in train, but the loss etc. should\n",
        "                only be computed for the original coordinates (without those\n",
        "                resulting from the function applications)\n",
        "        :param use_stored_cond_exp: bool, whether to recompute the cond. exp.\n",
        "\n",
        "        :return: eval-loss, if wanted paths t, y for true and pred\n",
        "        \"\"\"\n",
        "        self.eval()\n",
        "\n",
        "        dim = start_X.shape[1]\n",
        "        dim_to = dim\n",
        "        output_dim_to = len(self.output_coords)\n",
        "        if mult is not None and mult > 1:\n",
        "            dim_to = round(dim/mult)\n",
        "            output_dim_to = round(len(self.output_coords)/mult)\n",
        "\n",
        "        _, _, path_t, path_h, path_y, path_var = self.forward(\n",
        "            times, time_ptr, X, obs_idx, delta_t, T, start_X, None,\n",
        "            return_path=True, get_loss=False, until_T=True, M=M,\n",
        "            start_M=start_M, dim_to=output_dim_to)\n",
        "\n",
        "        if true_paths is None:\n",
        "            if M is not None:\n",
        "                M = M.detach().numpy()[:, :dim_to]\n",
        "            if X.shape[0] > 0:  # if no data (eg. bc. obs_perc=0, not possible)\n",
        "                X = X.detach().numpy()[:, :dim_to]\n",
        "            _, true_path_t, true_path_y = stockmodel.compute_cond_exp(\n",
        "                times, time_ptr, X,\n",
        "                obs_idx.detach().numpy(),\n",
        "                delta_t, T, start_X.detach().numpy()[:, :dim_to],\n",
        "                n_obs_ot.detach().numpy(),\n",
        "                return_path=True, get_loss=False, M=M,\n",
        "                store_and_use_stored=use_stored_cond_exp)\n",
        "        else:\n",
        "            true_t = np.linspace(0, T, true_paths.shape[2])\n",
        "            which_t_ind = []\n",
        "            for t in path_t:\n",
        "                which_t_ind.append(np.argmin(np.abs(true_t - t)))\n",
        "            # INFO: first get the correct output coordinate, then the correct\n",
        "            #   time index; afterwards transpose to [time, batch_size, dim]\n",
        "            true_path_y = true_paths[:, self.output_coords[:output_dim_to], :][\n",
        "                :, :, which_t_ind]\n",
        "            true_path_y = np.transpose(true_path_y, axes=(2, 0, 1))\n",
        "            true_path_t = true_t[which_t_ind]\n",
        "\n",
        "        if path_y.detach().numpy().shape == true_path_y.shape:\n",
        "            eval_metric = diff_fun(path_y.detach().numpy(), true_path_y)\n",
        "        else:\n",
        "            print(path_y.detach().numpy().shape)\n",
        "            print(true_path_y.shape)\n",
        "            raise ValueError(\"Shapes do not match!\")\n",
        "        if return_paths:\n",
        "            return eval_metric, path_t, true_path_t, path_y, true_path_y\n",
        "        else:\n",
        "            return eval_metric\n",
        "\n",
        "    def get_pred(self, times, time_ptr, X, obs_idx, delta_t, T, start_X,\n",
        "                 n_obs_ot, M=None, start_M=None, which_loss=None):\n",
        "        \"\"\"\n",
        "        get predicted path\n",
        "        :return: dict, with prediction y and times t\n",
        "        \"\"\"\n",
        "        self.eval()\n",
        "        h, loss, path_t, path_h, path_y, path_var = self.forward(\n",
        "            times=times, time_ptr=time_ptr, X=X, obs_idx=obs_idx,\n",
        "            delta_t=delta_t, T=T, start_X=start_X, n_obs_ot=n_obs_ot,\n",
        "            return_path=True, get_loss=True, until_T=True, M=M,\n",
        "            start_M=start_M, which_loss=which_loss)\n",
        "        return {'pred': path_y, 'pred_t': path_t, 'loss': loss,\n",
        "                'pred_var': path_var}\n",
        "\n"
      ]
    },
    {
      "cell_type": "markdown",
      "metadata": {
        "id": "4WF8Y9aqrK6p"
      },
      "source": [
        "# Training"
      ]
    },
    {
      "cell_type": "code",
      "execution_count": null,
      "metadata": {
        "id": "pJx1TNtWrPfo"
      },
      "outputs": [],
      "source": [
        "METR_COLUMNS: List[str] = [\n",
        "    'epoch', 'train_time', 'val_time', 'train_loss', 'val_loss',\n",
        "    'optimal_val_loss', 'test_loss', 'optimal_test_loss', 'evaluation_mean_diff']\n",
        "default_nn = ((50, 'tanh'), (50, 'tanh'))\n",
        "\n",
        "def train(\n",
        "    model=None, seed=None,\n",
        "    data_train=None, data_val=None, data_test=None,\n",
        "    dataset_metadata=None, testset_metadata=None,\n",
        "    epochs=100, batch_size=100, save_every=1,\n",
        "    learning_rate=0.001,\n",
        "    hidden_size=10, bias=True, dropout_rate=0.1,\n",
        "    ode_nn=default_nn, readout_nn=default_nn,\n",
        "    enc_nn=default_nn, use_rnn=False,\n",
        "    solver=\"euler\",\n",
        "    **options\n",
        "):\n",
        "\n",
        "\n",
        "    \"\"\"\n",
        "    training function for NJODE model (models.NJODE),\n",
        "    the model is automatically saved in the model-save-path with the given\n",
        "    model id, also all evaluations of the model are saved there\n",
        "\n",
        "    :param model: None or a NJODE model instance\n",
        "    :param data_train: see data_utils\n",
        "    :param data_val: see data_utils\n",
        "    :param data_test: see data_utils\n",
        "    :param dataset_metadata: see data_utils\n",
        "    :param testset_metadata: see data_utils\n",
        "    :param epochs: int, number of epochs to train, each epoch is one cycle\n",
        "            through all (random) batches of the training data\n",
        "    :param batch_size: int\n",
        "    :param save_every: int, defined number of epochs after each of which the\n",
        "            model is saved and plotted if wanted. whenever the model has a new\n",
        "            best eval-loss it is also saved, independent of this number (but not\n",
        "            plotted)\n",
        "    :param learning_rate: float\n",
        "    :param hidden_size: see models.NJODE\n",
        "    :param bias: see models.NJODE\n",
        "    :param dropout_rate: float\n",
        "    :param ode_nn: see models.NJODE\n",
        "    :param readout_nn: see models.NJODE\n",
        "    :param enc_nn: see models.NJODE\n",
        "    :param use_rnn: see models.NJODE\n",
        "    :param solver: see models.NJODE\n",
        "    :param saved_models_path: str, where to save the models\n",
        "    :param options: kwargs, used keywords:\n",
        "        'test_data_dict'    None, str or dict, if no None, this data_dict is\n",
        "                        used to define the dataset for plot_only and\n",
        "                        evaluation (if evaluate=True)\n",
        "        'func_appl_X'   list of functions (as str, see data_utils)\n",
        "                        to apply to X\n",
        "        'masked'        bool, whether the data is masked (i.e. has\n",
        "                        incomplete observations)\n",
        "        'which_loss'    default: 'standard', see models.LOSS_FUN_DICT for\n",
        "                        choices. suggested: 'easy' or 'very_easy'\n",
        "        'residual_enc_dec'  bool, whether resNNs are used for encoder and\n",
        "                        readout NN, used by models.NJODE. the provided value\n",
        "                        is overwritten by 'residual_enc' & 'residual_dec' if\n",
        "                        they are provided. default: False\n",
        "        'residual_enc'  bool, whether resNNs are used for encoder NN,\n",
        "                        used by models.NJODE.\n",
        "                        default: True if use_rnn=False, else: False (this is\n",
        "                        for backward compatibility)\n",
        "        'residual_dec'  bool, whether resNNs are used for readout NN,\n",
        "                        used by models.NJODE. default: True\n",
        "        'use_y_for_ode' bool, whether to use y (after jump) or x_impute for\n",
        "                        the ODE as input, only in masked case, default: True\n",
        "        'use_current_y_for_ode' bool, whether to use the current y as input\n",
        "                        to the ode. this should make the training more\n",
        "                        stable in the case of long windows without\n",
        "                        observations (cf. literature about stable output\n",
        "                        feedback). default: False\n",
        "        'coord_wise_tau'    bool, whether to use a coordinate wise tau\n",
        "        'input_sig'     bool, whether to use the signature as input\n",
        "        'level'         int, level of the signature that is used\n",
        "        'input_current_t'   bool, whether to additionally input current time\n",
        "                        to the ODE function f, default: False\n",
        "        'enc_input_t'   bool, whether to use the time as input for the\n",
        "                        encoder network. default: False\n",
        "        'evaluate'      bool, whether to evaluate the model in the test set\n",
        "                        (i.e. not only compute the val_loss, but also\n",
        "                        compute the mean difference between the true and the\n",
        "                        predicted paths comparing at each time point)\n",
        "        'use_observation_as_input'  bool, whether to use the observations as\n",
        "                        input to the model or whether to only use them for\n",
        "                        the loss function (this can be used to make the\n",
        "                        model learn to predict well far into the future).\n",
        "                        can be a float in (0,1) to use an observation with\n",
        "                        this probability as input. can also be a string\n",
        "                        defining a function (when evaluated) that takes the\n",
        "                        current epoch as input and returns a bool whether to\n",
        "                        use the current observation as input (this can be a\n",
        "                        random function, i.e. the output can depend on\n",
        "                        sampling a random variable). default: true\n",
        "        'val_use_observation_as_input'  bool, None, float or str, same as\n",
        "                        'use_observation_as_input', but for the validation\n",
        "                        set. default: None, i.e. same as for training set\n",
        "        'ode_input_scaling_func'    None or str in {'id', 'tanh'}, the\n",
        "                        function used to scale inputs to the neuralODE.\n",
        "                        default: tanh\n",
        "        'use_cond_exp'  bool, whether to use the conditional expectation\n",
        "                        as reference for model evaluation, default: True\n",
        "        'which_val_loss'   str, see models.LOSS_FUN_DICT for choices, which\n",
        "                        loss to use for evaluation, default: 'easy'\n",
        "        'input_coords'  list of int or None, which coordinates to use as\n",
        "                        input. overwrites the setting from dataset_metadata.\n",
        "                        if None, then all coordinates are used.\n",
        "        'output_coords' list of int or None, which coordinates to use as\n",
        "                        output. overwrites the setting from\n",
        "                        dataset_metadata. if None, then all coordinates are\n",
        "                        used.\n",
        "        'signature_coords'  list of int or None, which coordinates to use as\n",
        "                        signature coordinates. overwrites the setting from\n",
        "                        dataset_metadata. if None, then all input\n",
        "                        coordinates are used.\n",
        "        'compute_variance'   None, bool or str, if None, then no variance\n",
        "                        computation is done. if bool, then the (marginal)\n",
        "                        variance is computed. if str \"covariance\", then the\n",
        "                        covariance matrix is computed. ATTENTION: the model\n",
        "                        output corresponds to the square root of the\n",
        "                        variance (or the Cholesky decomposition of the\n",
        "                        covariance matrix, respectivel), so if W is the\n",
        "                        model's output corresponding to the variance, then\n",
        "                        the models variance estimate is V=W^T*W or W^2,\n",
        "                        depending whether the covariance or marginal\n",
        "                        variance is estimated.\n",
        "                        default: None\n",
        "        'var_weight'    float, weight of the variance loss term in the loss\n",
        "                        function, default: 1\n",
        "        'input_var_t_helper'    bool, whether to use 1/sqrt(Delta_t) as\n",
        "                        additional input to the ODE function f. this should help\n",
        "                        to better learn the variance of the process.\n",
        "                        default: False\n",
        "        'which_var_loss'   None or int, which loss to use for the variance loss\n",
        "                        term. default: None, which leads to using default choice\n",
        "                        of the main loss function (which aligns with structure\n",
        "                        of main loss function as far as reasonable). see\n",
        "                        models.LOSS_FUN_DICT for choices (currently in {1,2,3}).\n",
        "\n",
        "    :return: model, df_metric, dl, dl_val, dl_test, stockmodel, stockmodel_test\n",
        "    \"\"\"\n",
        "    use_cond_exp = True\n",
        "    masked = False\n",
        "    if 'masked' in options:\n",
        "        masked = options['masked']\n",
        "    device = torch.device(\"cpu\")\n",
        "\n",
        "    if seed is not None:\n",
        "        torch.manual_seed(seed)\n",
        "        np.random.seed(seed)\n",
        "\n",
        "    # get input and output coordinates of the dataset\n",
        "    input_coords = None\n",
        "    output_coords = None\n",
        "    signature_coords = None\n",
        "    if \"input_coords\" in options:\n",
        "        input_coords = options[\"input_coords\"]\n",
        "    elif \"input_coords\" in dataset_metadata:\n",
        "        input_coords = dataset_metadata[\"input_coords\"]\n",
        "    if \"output_coords\" in options:\n",
        "        output_coords = options[\"output_coords\"]\n",
        "    elif \"output_coords\" in dataset_metadata:\n",
        "        output_coords = dataset_metadata[\"output_coords\"]\n",
        "    if \"signature_coords\" in options:\n",
        "        signature_coords = options[\"signature_coords\"]\n",
        "    elif \"signature_coords\" in dataset_metadata:\n",
        "        signature_coords = dataset_metadata[\"signature_coords\"]\n",
        "    if input_coords is None:\n",
        "        input_size = dataset_metadata['dimension']\n",
        "        input_coords = np.arange(input_size)\n",
        "    else:\n",
        "        input_size = len(input_coords)\n",
        "    if output_coords is None:\n",
        "        output_size = dataset_metadata['dimension']\n",
        "        output_coords = np.arange(output_size)\n",
        "    else:\n",
        "        output_size = len(output_coords)\n",
        "    if signature_coords is None:\n",
        "        signature_coords = input_coords\n",
        "\n",
        "    initial_print = '\\ninput_coords: {}\\noutput_coords: {}'.format(\n",
        "        input_coords, output_coords)\n",
        "    initial_print += '\\ninput_size: {}\\noutput_size: {}'.format(\n",
        "        input_size, output_size)\n",
        "    initial_print += '\\nsignature_coords: {}'.format(signature_coords)\n",
        "    dimension = dataset_metadata['dimension']\n",
        "    T = dataset_metadata['maturity']\n",
        "    delta_t = dataset_metadata['dt']\n",
        "    original_output_dim = output_size\n",
        "    original_input_dim = input_size\n",
        "\n",
        "    # get functions to apply to the paths in X\n",
        "    if 'func_appl_X' in options:  # list of functions to apply to the paths in X\n",
        "        initial_print += '\\napply functions to X'\n",
        "        functions = options['func_appl_X']\n",
        "        collate_fn, mult = CustomCollateFnGen(functions)\n",
        "        input_size = input_size * mult\n",
        "        output_size = output_size * mult\n",
        "        input_coords = np.concatenate(\n",
        "            [np.array(input_coords)+dimension*i for i in range(mult)])\n",
        "        output_coords = np.concatenate(\n",
        "            [np.array(output_coords)+dimension*i for i in range(mult)])\n",
        "        initial_print += '\\nnew input_coords: {}'.format(input_coords)\n",
        "        initial_print += '\\nnew output_coords: {}'.format(output_coords)\n",
        "    else:\n",
        "        functions = None\n",
        "        collate_fn, mult = CustomCollateFnGen(None)\n",
        "        mult = 1\n",
        "\n",
        "    # get variance or covariance coordinates if wanted\n",
        "    compute_variance = None\n",
        "    var_size = 0\n",
        "    if 'compute_variance' in options:\n",
        "        if functions is not None:\n",
        "            warnings.warn(\n",
        "                \"function application to X and concurrent variance/covariance \"\n",
        "                \"computation might lead to problems! Use carefully!\",\n",
        "                UserWarning)\n",
        "        compute_variance = options['compute_variance']\n",
        "        if compute_variance == 'covariance':\n",
        "            var_size = output_size**2\n",
        "            initial_print += '\\ncompute covariance of size {}'.format(var_size)\n",
        "        elif compute_variance not in [None, False]:\n",
        "            compute_variance = 'variance'\n",
        "            var_size = output_size\n",
        "            initial_print += '\\ncompute (marginal) variance of size {}'.format(\n",
        "                var_size)\n",
        "        else:\n",
        "            compute_variance = None\n",
        "            initial_print += '\\nno variance computation'\n",
        "            var_size = 0\n",
        "        # the models variance output is the Cholesky decomposition of the\n",
        "        #   covariance matrix or the square root of the marginal variance.\n",
        "        # for Y being the entire model output, the variance output is\n",
        "        #   W=Y[:,-var_size:]\n",
        "        output_size += var_size\n",
        "\n",
        "    # get data-loader for training\n",
        "    dl = DataLoader(  # class to iterate over training data\n",
        "        dataset=data_train, collate_fn=collate_fn,\n",
        "        shuffle=True, batch_size=batch_size, num_workers=1)\n",
        "    dl_val = DataLoader(  # class to iterate over validation data\n",
        "        dataset=data_val, collate_fn=collate_fn,\n",
        "        shuffle=False, batch_size=len(data_val), num_workers=1)\n",
        "    stockmodel = DATASETS[\n",
        "        dataset_metadata['model_name']](**dataset_metadata)\n",
        "    if data_test is not None:\n",
        "        dl_test = DataLoader(  # class to iterate over test data\n",
        "            dataset=data_test, collate_fn=collate_fn,\n",
        "            shuffle=False, batch_size=len(data_test),\n",
        "            num_workers=1)\n",
        "        stockmodel_test = DATASETS[\n",
        "            testset_metadata['model_name']](**testset_metadata)\n",
        "    else:\n",
        "        dl_test = dl_val\n",
        "        stockmodel_test = stockmodel\n",
        "        testset_metadata = dataset_metadata\n",
        "\n",
        "    # validation loss function\n",
        "    which_val_loss = 'easy'\n",
        "    if 'which_loss' in options:\n",
        "        which_val_loss = options['which_loss']\n",
        "    if 'which_val_loss' in options:\n",
        "        which_val_loss = options['which_val_loss']\n",
        "    assert which_val_loss in LOSS_FUN_DICT\n",
        "\n",
        "    if compute_variance is not None:\n",
        "        warnings.warn(\n",
        "            \"optimal loss might be wrong, since the conditional \"\n",
        "            \"variance is also learned, which is not accounted for in \"\n",
        "            \"computation of the optimal loss\",\n",
        "            UserWarning)\n",
        "    store_cond_exp = True\n",
        "    if dl_val != dl_test:\n",
        "        store_cond_exp = False\n",
        "    if functions is not None and len(functions) > 0:\n",
        "        initial_print += '\\nWARNING: optimal loss computation for ' \\\n",
        "                          'power=2 not implemented for this model'\n",
        "        corrected_string = \"(corrected: only original X used) \"\n",
        "    else:\n",
        "        corrected_string = \"\"\n",
        "    opt_val_loss = compute_optimal_val_loss(\n",
        "        dl_val, stockmodel, delta_t, T, mult=mult,\n",
        "        store_cond_exp=store_cond_exp, return_var=False,\n",
        "        which_loss=which_val_loss)\n",
        "    initial_print += '\\noptimal {}val-loss (achieved by true cond exp): ' \\\n",
        "                  '{:.5f}'.format(corrected_string, opt_val_loss)\n",
        "\n",
        "    # get params_dict\n",
        "    params_dict = {  # create a dictionary of the wanted parameters\n",
        "        'input_size': input_size, 'epochs': epochs,\n",
        "        'hidden_size': hidden_size, 'output_size': output_size, 'bias': bias,\n",
        "        'ode_nn': ode_nn, 'readout_nn': readout_nn, 'enc_nn': enc_nn,\n",
        "        'use_rnn': use_rnn,\n",
        "        'dropout_rate': dropout_rate, 'batch_size': batch_size,\n",
        "        'solver': solver,\n",
        "        'learning_rate': learning_rate, 'test_size': test_size, 'seed': seed,\n",
        "        'optimal_val_loss': opt_val_loss, 'options': options}\n",
        "\n",
        "    # add additional values to params_dict (not to be shown in the description)\n",
        "    params_dict['input_coords'] = input_coords\n",
        "    params_dict['output_coords'] = output_coords\n",
        "    params_dict['signature_coords'] = signature_coords\n",
        "    params_dict['compute_variance'] = compute_variance\n",
        "    params_dict['var_size'] = var_size\n",
        "\n",
        "    # get the model & optimizer\n",
        "    if model is None:\n",
        "        model = NJODE(**params_dict)  # get NJODE model class from\n",
        "        initial_print += '\\ninitiate new model ...'\n",
        "    model.to(device)\n",
        "    optimizer = torch.optim.Adam(\n",
        "        model.parameters(), lr=learning_rate, weight_decay=0.0005)\n",
        "    best_val_loss = np.inf\n",
        "    metr_columns = METR_COLUMNS\n",
        "\n",
        "    # ---------------- TRAINING ----------------\n",
        "    initial_print += '\\n\\nmodel overview:'\n",
        "    print(initial_print)\n",
        "    print(use_cond_exp)\n",
        "    print(model, '\\n')\n",
        "\n",
        "    # compute number of parameters\n",
        "    nr_params = 0\n",
        "    for name, param in model.named_parameters():\n",
        "        nr_params += param.nelement()  # count number of parameters\n",
        "    print('# parameters={}\\n'.format(nr_params))\n",
        "\n",
        "    metric_app = []\n",
        "    while model.epoch <= epochs:\n",
        "        t = time.time()\n",
        "        model.train()  # set model in train mode (e.g. BatchNorm)\n",
        "        for i, b in tqdm.tqdm(enumerate(dl)):  # iterate over the dataloader\n",
        "            optimizer.zero_grad()  # reset the gradient\n",
        "            times = b[\"times\"]\n",
        "            time_ptr = b[\"time_ptr\"]\n",
        "            X = b[\"X\"].to(device)\n",
        "            M = b[\"M\"]\n",
        "            if M is not None:\n",
        "                M = M.to(device)\n",
        "            start_M = b[\"start_M\"]\n",
        "            if start_M is not None:\n",
        "                start_M = start_M.to(device)\n",
        "            start_X = b[\"start_X\"].to(device)\n",
        "            obs_idx = b[\"obs_idx\"]\n",
        "            n_obs_ot = b[\"n_obs_ot\"].to(device)\n",
        "\n",
        "            hT, loss = model(\n",
        "                times=times, time_ptr=time_ptr, X=X, obs_idx=obs_idx,\n",
        "                delta_t=delta_t, T=T, start_X=start_X, n_obs_ot=n_obs_ot,\n",
        "                return_path=False, get_loss=True, M=M, start_M=start_M,)\n",
        "            loss.backward()  # compute gradient of each weight regarding loss function\n",
        "            optimizer.step()  # update weights with ADAM optimizer\n",
        "        train_time = time.time() - t\n",
        "\n",
        "        # -------- evaluation --------\n",
        "        print(\"evaluating ...\")\n",
        "        t = time.time()\n",
        "        batch = None\n",
        "        with torch.no_grad():  # no gradient needed for evaluation\n",
        "            loss_val = 0\n",
        "            num_obs = 0\n",
        "            eval_msd = 0\n",
        "            model.eval()  # set model in evaluation mode\n",
        "            for i, b in enumerate(dl_val):\n",
        "                times = b[\"times\"]\n",
        "                time_ptr = b[\"time_ptr\"]\n",
        "                X = b[\"X\"].to(device)\n",
        "                M = b[\"M\"]\n",
        "                if M is not None:\n",
        "                    M = M.to(device)\n",
        "                start_M = b[\"start_M\"]\n",
        "                if start_M is not None:\n",
        "                    start_M = start_M.to(device)\n",
        "                start_X = b[\"start_X\"].to(device)\n",
        "                obs_idx = b[\"obs_idx\"]\n",
        "                n_obs_ot = b[\"n_obs_ot\"].to(device)\n",
        "                true_paths = b[\"true_paths\"]\n",
        "                true_mask = b[\"true_mask\"]\n",
        "\n",
        "                hT, c_loss = model(\n",
        "                    times, time_ptr, X, obs_idx, delta_t, T, start_X,\n",
        "                    n_obs_ot, return_path=False, get_loss=True, M=M,\n",
        "                    start_M=start_M, which_loss=which_val_loss,)\n",
        "                loss_val += c_loss.detach().numpy()\n",
        "                num_obs += 1  # count number of observations\n",
        "\n",
        "            # mean squared difference evaluation\n",
        "            if 'evaluate' in options and options['evaluate']:\n",
        "                eval_msd = evaluate_model(\n",
        "                    model=model, dl_test=dl_test, device=device,\n",
        "                    stockmodel_test=stockmodel_test,\n",
        "                    testset_metadata=testset_metadata,\n",
        "                    mult=mult, use_cond_exp=use_cond_exp,\n",
        "                    eval_use_true_paths=False)\n",
        "\n",
        "            val_time = time.time() - t\n",
        "            loss_val = loss_val / num_obs\n",
        "            eval_msd = eval_msd / num_obs\n",
        "            train_loss = loss.detach().numpy()\n",
        "            print_str = \"epoch {}, weight={:.5f}, train-loss={:.5f}, \" \\\n",
        "                        \"optimal-val-loss={:.5f}, val-loss={:.5f}, \".format(\n",
        "                model.epoch, model.weight, train_loss, opt_val_loss, loss_val)\n",
        "            print(print_str)\n",
        "\n",
        "        curr_metric = [model.epoch, train_time, val_time, train_loss,\n",
        "                               loss_val, opt_val_loss, None, None]\n",
        "        if 'evaluate' in options and options['evaluate']:\n",
        "            curr_metric.append(eval_msd)\n",
        "            print(\"evaluation mean square difference (test set): {:.5f}\".format(\n",
        "                eval_msd))\n",
        "        else:\n",
        "            curr_metric.append(None)\n",
        "        metric_app.append(curr_metric)\n",
        "\n",
        "        if loss_val < best_val_loss:\n",
        "            print('save new best model: last-best-loss: {:.5f}, '\n",
        "                  'new-best-loss: {:.5f}, epoch: {}'.format(\n",
        "                best_val_loss, loss_val, model.epoch))\n",
        "            best_val_loss = loss_val\n",
        "        print(\"-\"*100)\n",
        "\n",
        "        model.epoch += 1\n",
        "\n",
        "    df_metric = pd.DataFrame(data=metric_app, columns=metr_columns)\n",
        "\n",
        "    return model, df_metric, dl, dl_val, dl_test, stockmodel, stockmodel_test\n",
        "\n",
        "\n",
        "def compute_optimal_val_loss(\n",
        "        dl_val, stockmodel, delta_t, T, mult=None,\n",
        "        store_cond_exp=False, return_var=False, which_loss='easy'):\n",
        "    \"\"\"\n",
        "    compute optimal evaluation loss (with the true cond. exp.) on the\n",
        "    test-dataset\n",
        "    :param dl_val: torch.DataLoader, used for the validation dataset\n",
        "    :param stockmodel: stock_model.StockModel instance\n",
        "    :param delta_t: float, the time_delta\n",
        "    :param T: float, the terminal time\n",
        "    :param mult: None or int, the factor by which the dimension is multiplied\n",
        "    :param store_cond_exp: bool, whether to store the conditional expectation\n",
        "    :return: float (optimal loss)\n",
        "    \"\"\"\n",
        "    opt_loss = 0\n",
        "    num_obs = 0\n",
        "    for i, b in enumerate(dl_val):\n",
        "        times = b[\"times\"]\n",
        "        time_ptr = b[\"time_ptr\"]\n",
        "        X = b[\"X\"].detach().numpy()\n",
        "        start_X = b[\"start_X\"].detach().numpy()\n",
        "        obs_idx = b[\"obs_idx\"].detach().numpy()\n",
        "        n_obs_ot = b[\"n_obs_ot\"].detach().numpy()\n",
        "        M = b[\"M\"]\n",
        "        if M is not None:\n",
        "            M = M.detach().numpy()\n",
        "        num_obs += 1\n",
        "        opt_loss += stockmodel.get_optimal_loss(\n",
        "            times, time_ptr, X, obs_idx, delta_t, T, start_X, n_obs_ot, M=M,\n",
        "            mult=mult, store_and_use_stored=store_cond_exp,\n",
        "            return_var=return_var, which_loss=which_loss)\n",
        "    return opt_loss / num_obs\n",
        "\n",
        "\n",
        "def evaluate_model(\n",
        "        model, dl_test, device, stockmodel_test, testset_metadata,\n",
        "        mult, use_cond_exp, eval_use_true_paths):\n",
        "    \"\"\"\n",
        "    evaluate the model on the test set\n",
        "\n",
        "    Args:\n",
        "        model:\n",
        "        dl_test:\n",
        "        device:\n",
        "        stockmodel_test:\n",
        "        testset_metadata:\n",
        "        mult:\n",
        "        use_cond_exp:\n",
        "        eval_use_true_paths:\n",
        "\n",
        "    Returns: evaluation metric\n",
        "\n",
        "    \"\"\"\n",
        "    eval_msd = 0.\n",
        "    for i, b in enumerate(dl_test):\n",
        "        times = b[\"times\"]\n",
        "        time_ptr = b[\"time_ptr\"]\n",
        "        X = b[\"X\"].to(device)\n",
        "        M = b[\"M\"]\n",
        "        if M is not None:\n",
        "            M = M.to(device)\n",
        "        start_M = b[\"start_M\"]\n",
        "        if start_M is not None:\n",
        "            start_M = start_M.to(device)\n",
        "        start_X = b[\"start_X\"].to(device)\n",
        "        obs_idx = b[\"obs_idx\"]\n",
        "        n_obs_ot = b[\"n_obs_ot\"].to(device)\n",
        "        true_paths = b[\"true_paths\"]\n",
        "        true_mask = b[\"true_mask\"]\n",
        "\n",
        "        if use_cond_exp and not eval_use_true_paths:\n",
        "            true_paths = None\n",
        "            true_mask = None\n",
        "        _eval_msd = model.evaluate(\n",
        "            times=times, time_ptr=time_ptr, X=X,\n",
        "            obs_idx=obs_idx,\n",
        "            delta_t=testset_metadata[\"dt\"],\n",
        "            T=testset_metadata[\"maturity\"],\n",
        "            start_X=start_X, n_obs_ot=n_obs_ot,\n",
        "            stockmodel=stockmodel_test, return_paths=False, M=M,\n",
        "            start_M=start_M, true_paths=true_paths,\n",
        "            true_mask=true_mask, mult=mult,\n",
        "            use_stored_cond_exp=True, )\n",
        "        eval_msd += _eval_msd\n",
        "\n",
        "    return eval_msd"
      ]
    },
    {
      "cell_type": "code",
      "execution_count": null,
      "metadata": {
        "id": "c1_4PQqmrQoy"
      },
      "outputs": [],
      "source": [
        "METR_COLUMNS1: List[str] = [\n",
        "    'epoch', 'train_time', 'val_time', 'train_loss', 'val_loss',]\n",
        "default_nn = ((50, 'tanh'), (50, 'tanh'))\n",
        "\n",
        "def train1(\n",
        "    model=None, seed=None,\n",
        "    data_train=None, data_val=None, data_test=None,\n",
        "    dataset_metadata=None, testset_metadata=None,\n",
        "    epochs=100, batch_size=100, save_every=1,\n",
        "    learning_rate=0.001,\n",
        "    hidden_size=10, bias=True, dropout_rate=0.1,\n",
        "    ode_nn=default_nn, readout_nn=default_nn,\n",
        "    enc_nn=default_nn, use_rnn=False,\n",
        "    solver=\"euler\",\n",
        "    **options\n",
        "):\n",
        "\n",
        "\n",
        "    \"\"\"\n",
        "    training function for NJODE model (models.NJODE),\n",
        "    the model is automatically saved in the model-save-path with the given\n",
        "    model id, also all evaluations of the model are saved there\n",
        "\n",
        "    :param model: None or a NJODE model instance\n",
        "    :param data_train: see data_utils\n",
        "    :param data_val: see data_utils\n",
        "    :param data_test: see data_utils\n",
        "    :param dataset_metadata: see data_utils\n",
        "    :param testset_metadata: see data_utils\n",
        "    :param epochs: int, number of epochs to train, each epoch is one cycle\n",
        "            through all (random) batches of the training data\n",
        "    :param batch_size: int\n",
        "    :param save_every: int, defined number of epochs after each of which the\n",
        "            model is saved and plotted if wanted. whenever the model has a new\n",
        "            best eval-loss it is also saved, independent of this number (but not\n",
        "            plotted)\n",
        "    :param learning_rate: float\n",
        "    :param hidden_size: see models.NJODE\n",
        "    :param bias: see models.NJODE\n",
        "    :param dropout_rate: float\n",
        "    :param ode_nn: see models.NJODE\n",
        "    :param readout_nn: see models.NJODE\n",
        "    :param enc_nn: see models.NJODE\n",
        "    :param use_rnn: see models.NJODE\n",
        "    :param solver: see models.NJODE\n",
        "    :param saved_models_path: str, where to save the models\n",
        "    :param options: kwargs, used keywords:\n",
        "        'test_data_dict'    None, str or dict, if no None, this data_dict is\n",
        "                        used to define the dataset for plot_only and\n",
        "                        evaluation (if evaluate=True)\n",
        "        'func_appl_X'   list of functions (as str, see data_utils)\n",
        "                        to apply to X\n",
        "        'masked'        bool, whether the data is masked (i.e. has\n",
        "                        incomplete observations)\n",
        "        'which_loss'    default: 'standard', see models.LOSS_FUN_DICT for\n",
        "                        choices. suggested: 'easy' or 'very_easy'\n",
        "        'residual_enc_dec'  bool, whether resNNs are used for encoder and\n",
        "                        readout NN, used by models.NJODE. the provided value\n",
        "                        is overwritten by 'residual_enc' & 'residual_dec' if\n",
        "                        they are provided. default: False\n",
        "        'residual_enc'  bool, whether resNNs are used for encoder NN,\n",
        "                        used by models.NJODE.\n",
        "                        default: True if use_rnn=False, else: False (this is\n",
        "                        for backward compatibility)\n",
        "        'residual_dec'  bool, whether resNNs are used for readout NN,\n",
        "                        used by models.NJODE. default: True\n",
        "        'use_y_for_ode' bool, whether to use y (after jump) or x_impute for\n",
        "                        the ODE as input, only in masked case, default: True\n",
        "        'use_current_y_for_ode' bool, whether to use the current y as input\n",
        "                        to the ode. this should make the training more\n",
        "                        stable in the case of long windows without\n",
        "                        observations (cf. literature about stable output\n",
        "                        feedback). default: False\n",
        "        'coord_wise_tau'    bool, whether to use a coordinate wise tau\n",
        "        'input_sig'     bool, whether to use the signature as input\n",
        "        'level'         int, level of the signature that is used\n",
        "        'input_current_t'   bool, whether to additionally input current time\n",
        "                        to the ODE function f, default: False\n",
        "        'enc_input_t'   bool, whether to use the time as input for the\n",
        "                        encoder network. default: False\n",
        "        'evaluate'      bool, whether to evaluate the model in the test set\n",
        "                        (i.e. not only compute the val_loss, but also\n",
        "                        compute the mean difference between the true and the\n",
        "                        predicted paths comparing at each time point)\n",
        "        'use_observation_as_input'  bool, whether to use the observations as\n",
        "                        input to the model or whether to only use them for\n",
        "                        the loss function (this can be used to make the\n",
        "                        model learn to predict well far into the future).\n",
        "                        can be a float in (0,1) to use an observation with\n",
        "                        this probability as input. can also be a string\n",
        "                        defining a function (when evaluated) that takes the\n",
        "                        current epoch as input and returns a bool whether to\n",
        "                        use the current observation as input (this can be a\n",
        "                        random function, i.e. the output can depend on\n",
        "                        sampling a random variable). default: true\n",
        "        'val_use_observation_as_input'  bool, None, float or str, same as\n",
        "                        'use_observation_as_input', but for the validation\n",
        "                        set. default: None, i.e. same as for training set\n",
        "        'ode_input_scaling_func'    None or str in {'id', 'tanh'}, the\n",
        "                        function used to scale inputs to the neuralODE.\n",
        "                        default: tanh\n",
        "        'use_cond_exp'  bool, whether to use the conditional expectation\n",
        "                        as reference for model evaluation, default: True\n",
        "        'which_val_loss'   str, see models.LOSS_FUN_DICT for choices, which\n",
        "                        loss to use for evaluation, default: 'easy'\n",
        "        'input_coords'  list of int or None, which coordinates to use as\n",
        "                        input. overwrites the setting from dataset_metadata.\n",
        "                        if None, then all coordinates are used.\n",
        "        'output_coords' list of int or None, which coordinates to use as\n",
        "                        output. overwrites the setting from\n",
        "                        dataset_metadata. if None, then all coordinates are\n",
        "                        used.\n",
        "        'signature_coords'  list of int or None, which coordinates to use as\n",
        "                        signature coordinates. overwrites the setting from\n",
        "                        dataset_metadata. if None, then all input\n",
        "                        coordinates are used.\n",
        "        'compute_variance'   None, bool or str, if None, then no variance\n",
        "                        computation is done. if bool, then the (marginal)\n",
        "                        variance is computed. if str \"covariance\", then the\n",
        "                        covariance matrix is computed. ATTENTION: the model\n",
        "                        output corresponds to the square root of the\n",
        "                        variance (or the Cholesky decomposition of the\n",
        "                        covariance matrix, respectivel), so if W is the\n",
        "                        model's output corresponding to the variance, then\n",
        "                        the models variance estimate is V=W^T*W or W^2,\n",
        "                        depending whether the covariance or marginal\n",
        "                        variance is estimated.\n",
        "                        default: None\n",
        "        'var_weight'    float, weight of the variance loss term in the loss\n",
        "                        function, default: 1\n",
        "        'input_var_t_helper'    bool, whether to use 1/sqrt(Delta_t) as\n",
        "                        additional input to the ODE function f. this should help\n",
        "                        to better learn the variance of the process.\n",
        "                        default: False\n",
        "        'which_var_loss'   None or int, which loss to use for the variance loss\n",
        "                        term. default: None, which leads to using default choice\n",
        "                        of the main loss function (which aligns with structure\n",
        "                        of main loss function as far as reasonable). see\n",
        "                        models.LOSS_FUN_DICT for choices (currently in {1,2,3}).\n",
        "\n",
        "    :return: model, df_metric, dl, dl_val, dl_test, stockmodel, stockmodel_test\n",
        "    \"\"\"\n",
        "    use_cond_exp = False\n",
        "    masked = False\n",
        "    if 'masked' in options:\n",
        "        masked = options['masked']\n",
        "    device = torch.device(\"cpu\")\n",
        "\n",
        "    if seed is not None:\n",
        "        torch.manual_seed(seed)\n",
        "        np.random.seed(seed)\n",
        "\n",
        "    # get input and output coordinates of the dataset\n",
        "    input_coords = None\n",
        "    output_coords = None\n",
        "    signature_coords = None\n",
        "    if \"input_coords\" in options:\n",
        "        input_coords = options[\"input_coords\"]\n",
        "    elif \"input_coords\" in dataset_metadata:\n",
        "        input_coords = dataset_metadata[\"input_coords\"]\n",
        "    if \"output_coords\" in options:\n",
        "        output_coords = options[\"output_coords\"]\n",
        "    elif \"output_coords\" in dataset_metadata:\n",
        "        output_coords = dataset_metadata[\"output_coords\"]\n",
        "    if \"signature_coords\" in options:\n",
        "        signature_coords = options[\"signature_coords\"]\n",
        "    elif \"signature_coords\" in dataset_metadata:\n",
        "        signature_coords = dataset_metadata[\"signature_coords\"]\n",
        "    if input_coords is None:\n",
        "        input_size = dataset_metadata['dimension']\n",
        "        input_coords = np.arange(input_size)\n",
        "    else:\n",
        "        input_size = len(input_coords)\n",
        "    if output_coords is None:\n",
        "        output_size = dataset_metadata['dimension']\n",
        "        output_coords = np.arange(output_size)\n",
        "    else:\n",
        "        output_size = len(output_coords)\n",
        "    if signature_coords is None:\n",
        "        signature_coords = input_coords\n",
        "\n",
        "    initial_print = '\\ninput_coords: {}\\noutput_coords: {}'.format(\n",
        "        input_coords, output_coords)\n",
        "    initial_print += '\\ninput_size: {}\\noutput_size: {}'.format(\n",
        "        input_size, output_size)\n",
        "    initial_print += '\\nsignature_coords: {}'.format(signature_coords)\n",
        "    dimension = dataset_metadata['dimension']\n",
        "    T = dataset_metadata['maturity']\n",
        "    delta_t = dataset_metadata['dt']\n",
        "    original_output_dim = output_size\n",
        "    original_input_dim = input_size\n",
        "\n",
        "\n",
        "    collate_fn, mult = CustomCollateFnGen(None)\n",
        "\n",
        "    # get data-loader for training\n",
        "    dl = DataLoader(  # class to iterate over training data\n",
        "        dataset=data_train, collate_fn=collate_fn,\n",
        "        shuffle=True, batch_size=batch_size, num_workers=1)\n",
        "    dl_val = DataLoader(  # class to iterate over validation data\n",
        "        dataset=data_val, collate_fn=collate_fn,\n",
        "        shuffle=False, batch_size=len(data_val), num_workers=1)\n",
        "\n",
        "    if data_test is not None:\n",
        "        dl_test = DataLoader(  # class to iterate over test data\n",
        "            dataset=data_test, collate_fn=collate_fn,\n",
        "            shuffle=False, batch_size=len(data_test),\n",
        "            num_workers=1)\n",
        "\n",
        "    else:\n",
        "        dl_test = dl_val\n",
        "        testset_metadata = dataset_metadata\n",
        "\n",
        "    # validation loss function\n",
        "    which_val_loss = 'easy'\n",
        "    if 'which_loss' in options:\n",
        "        which_val_loss = options['which_loss']\n",
        "    if 'which_val_loss' in options:\n",
        "        which_val_loss = options['which_val_loss']\n",
        "    assert which_val_loss in LOSS_FUN_DICT\n",
        "\n",
        "    # get params_dict\n",
        "    params_dict = {  # create a dictionary of the wanted parameters\n",
        "        'input_size': input_size, 'epochs': epochs,\n",
        "        'hidden_size': hidden_size, 'output_size': output_size, 'bias': bias,\n",
        "        'ode_nn': ode_nn, 'readout_nn': readout_nn, 'enc_nn': enc_nn,\n",
        "        'use_rnn': use_rnn,\n",
        "        'dropout_rate': dropout_rate, 'batch_size': batch_size,\n",
        "        'solver': solver,\n",
        "        'learning_rate': learning_rate, 'seed': seed,\n",
        "        'options': options}\n",
        "\n",
        "    # add additional values to params_dict (not to be shown in the description)\n",
        "    params_dict['input_coords'] = input_coords\n",
        "    params_dict['output_coords'] = output_coords\n",
        "    params_dict['signature_coords'] = signature_coords\n",
        "\n",
        "    # get the model & optimizer\n",
        "    if model is None:\n",
        "        model = NJODE(**params_dict)  # get NJODE model class from\n",
        "        initial_print += '\\ninitiate new model ...'\n",
        "    model.to(device)\n",
        "    optimizer = torch.optim.Adam(\n",
        "        model.parameters(), lr=learning_rate, weight_decay=0.0005)\n",
        "    best_val_loss = np.inf\n",
        "    metr_columns = METR_COLUMNS1\n",
        "\n",
        "    # ---------------- TRAINING ----------------\n",
        "    initial_print += '\\n\\nmodel overview:'\n",
        "    print(initial_print)\n",
        "    print(use_cond_exp)\n",
        "    print(model, '\\n')\n",
        "\n",
        "    # compute number of parameters\n",
        "    nr_params = 0\n",
        "    for name, param in model.named_parameters():\n",
        "        nr_params += param.nelement()  # count number of parameters\n",
        "    print('# parameters={}\\n'.format(nr_params))\n",
        "\n",
        "    metric_app = []\n",
        "    while model.epoch <= epochs:\n",
        "        t = time.time()\n",
        "        model.train()  # set model in train mode (e.g. BatchNorm)\n",
        "        for i, b in tqdm.tqdm(enumerate(dl)):  # iterate over the dataloader\n",
        "            optimizer.zero_grad()  # reset the gradient\n",
        "            times = b[\"times\"]\n",
        "            time_ptr = b[\"time_ptr\"]\n",
        "            X = b[\"X\"].to(device)\n",
        "            M = b[\"M\"]\n",
        "            if M is not None:\n",
        "                M = M.to(device)\n",
        "            start_M = b[\"start_M\"]\n",
        "            if start_M is not None:\n",
        "                start_M = start_M.to(device)\n",
        "            start_X = b[\"start_X\"].to(device)\n",
        "            obs_idx = b[\"obs_idx\"]\n",
        "            n_obs_ot = b[\"n_obs_ot\"].to(device)\n",
        "\n",
        "            hT, loss = model(\n",
        "                times=times, time_ptr=time_ptr, X=X, obs_idx=obs_idx,\n",
        "                delta_t=delta_t, T=T, start_X=start_X, n_obs_ot=n_obs_ot,\n",
        "                return_path=False, get_loss=True, M=M, start_M=start_M,)\n",
        "            loss.backward()  # compute gradient of each weight regarding loss function\n",
        "            optimizer.step()  # update weights with ADAM optimizer\n",
        "        train_time = time.time() - t\n",
        "\n",
        "        # -------- evaluation --------\n",
        "        print(\"evaluating ...\")\n",
        "        t = time.time()\n",
        "        batch = None\n",
        "        with torch.no_grad():  # no gradient needed for evaluation\n",
        "            loss_val = 0\n",
        "            num_obs = 0\n",
        "            eval_msd = 0\n",
        "            model.eval()  # set model in evaluation mode\n",
        "            for i, b in enumerate(dl_val):\n",
        "                times = b[\"times\"]\n",
        "                time_ptr = b[\"time_ptr\"]\n",
        "                X = b[\"X\"].to(device)\n",
        "                M = b[\"M\"]\n",
        "                if M is not None:\n",
        "                    M = M.to(device)\n",
        "                start_M = b[\"start_M\"]\n",
        "                if start_M is not None:\n",
        "                    start_M = start_M.to(device)\n",
        "                start_X = b[\"start_X\"].to(device)\n",
        "                obs_idx = b[\"obs_idx\"]\n",
        "                n_obs_ot = b[\"n_obs_ot\"].to(device)\n",
        "                true_paths = b[\"true_paths\"]\n",
        "                true_mask = b[\"true_mask\"]\n",
        "\n",
        "                hT, c_loss = model(\n",
        "                    times, time_ptr, X, obs_idx, delta_t, T, start_X,\n",
        "                    n_obs_ot, return_path=False, get_loss=True, M=M,\n",
        "                    start_M=start_M, which_loss=which_val_loss,)\n",
        "                loss_val += c_loss.detach().numpy()\n",
        "                num_obs += 1  # count number of observations\n",
        "\n",
        "            val_time = time.time() - t\n",
        "            loss_val = loss_val / num_obs\n",
        "            eval_msd = eval_msd / num_obs\n",
        "            train_loss = loss.detach().numpy()\n",
        "            print_str = \"epoch {}, weight={:.5f}, train-loss={:.5f}, \" \\\n",
        "                        \" val-loss={:.5f}, \".format(\n",
        "                model.epoch, model.weight, train_loss, loss_val)\n",
        "            print(print_str)\n",
        "\n",
        "        curr_metric = [model.epoch, train_time, val_time, train_loss,\n",
        "                               loss_val ]\n",
        "\n",
        "        metric_app.append(curr_metric)\n",
        "\n",
        "        if loss_val < best_val_loss:\n",
        "            print('save new best model: last-best-loss: {:.5f}, '\n",
        "                  'new-best-loss: {:.5f}, epoch: {}'.format(\n",
        "                best_val_loss, loss_val, model.epoch))\n",
        "            best_val_loss = loss_val\n",
        "        print(\"-\"*100)\n",
        "\n",
        "        model.epoch += 1\n",
        "\n",
        "    df_metric = pd.DataFrame(data=metric_app, columns=metr_columns)\n",
        "\n",
        "    return model, df_metric, dl, dl_val, dl_test\n"
      ]
    },
    {
      "cell_type": "markdown",
      "metadata": {
        "id": "OaLuOT91tm3J"
      },
      "source": [
        "# plot"
      ]
    },
    {
      "cell_type": "code",
      "execution_count": null,
      "metadata": {
        "id": "Yhl-9mA7ug0O"
      },
      "outputs": [],
      "source": [
        "def plot_one_path_with_pred(\n",
        "        device, model, batch, stockmodel, delta_t, T,\n",
        "        path_to_plot=(0,),\n",
        "        plot_variance=False, plot_true_var=True,\n",
        "        functions=None, std_factor=1,\n",
        "        model_name=\"NJODE\", ylabels=None,\n",
        "        legendlabels=None,\n",
        "        use_cond_exp=True, same_yaxis=False,\n",
        "        plot_obs_prob=False,\n",
        "        reuse_cond_exp=True, output_coords=None,\n",
        "        loss_quantiles=None, input_coords=None,\n",
        "        which_loss='easy',\n",
        "):\n",
        "    \"\"\"\n",
        "    plot one path of the stockmodel together with optimal cond. exp. and its\n",
        "    prediction by the model\n",
        "    :param device: torch.device, to use for computations\n",
        "    :param model: models.NJODE instance\n",
        "    :param batch: the batch from where to take the paths\n",
        "    :param stockmodel: stock_model.StockModel instance, used to compute true\n",
        "            cond. exp.\n",
        "    :param delta_t: float\n",
        "    :param T: float\n",
        "    :param path_to_plot: list of ints, which paths to plot (i.e. which elements\n",
        "            oof the batch)\n",
        "    :param plot_variance: bool, whether to plot the variance, if supported by\n",
        "            functions (i.e. square has to be applied)\n",
        "    :param functions: list of functions (as str), the functions applied to X\n",
        "    :param std_factor: float, the factor by which std is multiplied\n",
        "    :param model_name: str or None, name used for model in plots\n",
        "    :param ylabels: None or list of str of same length as dimension of X\n",
        "    :param legendlabels: None or list of str of length 4 or 5 (labels of\n",
        "        i) true path, ii) our model, iii) true cond. exp., iv) observed values,\n",
        "        v) true values at observation times (only if noisy observations are\n",
        "        used))\n",
        "    :param use_cond_exp: bool, whether to plot the conditional expectation\n",
        "    :param same_yaxis: bool, whether to plot all coordinates with same range on\n",
        "        y-axis\n",
        "    :param plot_obs_prob: bool, whether to plot the probability of an\n",
        "        observation for all times\n",
        "    :param reuse_cond_exp: bool, whether to reuse the conditional expectation\n",
        "        from the last computation\n",
        "    :param output_coords: None or list of ints, the coordinates corresponding to\n",
        "        the model output\n",
        "    :param loss_quantiles: None or list of floats, the quantiles to plot for the\n",
        "        loss\n",
        "    :param input_coords: None or list of ints, the coordinates corresponding to\n",
        "        the model input\n",
        "    :param which_loss: str, the loss function to use for the computation\n",
        "\n",
        "    :return: optimal loss\n",
        "    \"\"\"\n",
        "    if model_name is None or model_name == \"NJODE\":\n",
        "        model_name = 'our model'\n",
        "    if device is None:\n",
        "        device = model.device\n",
        "\n",
        "    prop_cycle = plt.rcParams['axes.prop_cycle']  # change style of plot?\n",
        "    colors = prop_cycle.by_key()['color']\n",
        "    std_color = list(matplotlib.colors.to_rgb(colors[1])) + [0.5]\n",
        "    std_color2 = list(matplotlib.colors.to_rgb(colors[2])) + [0.5]\n",
        "\n",
        "    times = batch[\"times\"]\n",
        "    time_ptr = batch[\"time_ptr\"]\n",
        "    X = batch[\"X\"].to(device)\n",
        "    M = batch[\"M\"]\n",
        "    if M is not None:\n",
        "        M = M.to(device)\n",
        "    start_X = batch[\"start_X\"].to(device)\n",
        "    start_M = batch[\"start_M\"]\n",
        "    if start_M is not None:\n",
        "        start_M = start_M.to(device)\n",
        "    obs_idx = batch[\"obs_idx\"]\n",
        "    n_obs_ot = batch[\"n_obs_ot\"].to(device)\n",
        "    true_X = batch[\"true_paths\"]\n",
        "    # dim does not take the function applications into account\n",
        "    bs, dim, time_steps = true_X.shape\n",
        "    if output_coords is None:\n",
        "        output_coords = list(range(dim))\n",
        "        out_dim = dim\n",
        "    else:\n",
        "        # if output_coords is given, then they also include the function\n",
        "        #   applications\n",
        "        mult = len(functions)+1 if functions is not None else 1\n",
        "        out_dim = int(len(output_coords)/mult)\n",
        "    true_M = batch[\"true_mask\"]\n",
        "    observed_dates = batch['observed_dates']\n",
        "    if \"obs_noise\" in batch:\n",
        "        obs_noise = batch[\"obs_noise\"]\n",
        "    else:\n",
        "        obs_noise = None\n",
        "    path_t_true_X = np.linspace(0., T, int(np.round(T / delta_t)) + 1)\n",
        "\n",
        "    model.eval()  # put model in evaluation mode\n",
        "    res = model.get_pred(\n",
        "        times=times, time_ptr=time_ptr, X=X, obs_idx=obs_idx, delta_t=delta_t,\n",
        "        T=T, start_X=start_X, M=M, start_M=start_M, n_obs_ot=n_obs_ot,\n",
        "        which_loss=which_loss)\n",
        "    path_y_pred = res['pred'].detach().numpy()\n",
        "    path_t_pred = res['pred_t']\n",
        "    current_model_loss = res['loss'].detach().numpy()\n",
        "\n",
        "    # get variance path\n",
        "    if plot_variance and (functions is not None) and ('power-2' in functions):\n",
        "        which = np.argmax(np.array(functions) == 'power-2')+1\n",
        "        y2 = path_y_pred[:, :, (out_dim * which):(out_dim * (which + 1))]\n",
        "        path_var_pred = y2 - np.power(path_y_pred[:, :, 0:out_dim], 2)\n",
        "        if np.any(path_var_pred < 0):\n",
        "            print('WARNING: some predicted cond. variances below 0 -> clip')\n",
        "            path_var_pred = np.maximum(0, path_var_pred)\n",
        "        path_std_pred = np.sqrt(path_var_pred)\n",
        "    elif plot_variance and (model.compute_variance is not None):\n",
        "        path_var_pred = res[\"pred_var\"].detach().numpy()\n",
        "        if model.compute_variance == \"variance\":\n",
        "            path_var_pred = path_var_pred[:, :, 0:out_dim]**2\n",
        "        elif model.compute_variance == \"covariance\":\n",
        "            d = int(np.sqrt(path_var_pred.shape[2]))\n",
        "            path_var_pred = path_var_pred.reshape(\n",
        "                path_y_pred.shape[0], path_y_pred.shape[1], d, d)\n",
        "            path_var_pred = np.matmul(\n",
        "                path_var_pred.transpose(0,1,3,2), path_var_pred)\n",
        "            path_var_pred = np.diagonal(path_var_pred, axis1=2, axis2=3)\n",
        "            path_var_pred = path_var_pred[:, :, 0:out_dim]\n",
        "        else:\n",
        "            raise ValueError(\"compute_variance {} not implemented\".format(\n",
        "                model.compute_variance))\n",
        "        path_std_pred = np.sqrt(path_var_pred)\n",
        "    else:\n",
        "        plot_variance = False\n",
        "    path_var_true = None\n",
        "    if use_cond_exp:\n",
        "        if M is not None:\n",
        "            M = M.detach().numpy()\n",
        "        if (functions is not None and functions == [\"power-2\"] and\n",
        "                stockmodel.loss_comp_for_pow2_implemented):\n",
        "            X_ = X.detach().numpy()\n",
        "            start_X_ = start_X.detach().numpy()\n",
        "        else:\n",
        "            X_ = X.detach().numpy()[:, :dim]\n",
        "            start_X_ = start_X.detach().numpy()[:, :dim]\n",
        "            if M is not None:\n",
        "                M = M[:, :dim]\n",
        "        res_sm = stockmodel.compute_cond_exp(\n",
        "            times, time_ptr, X_, obs_idx.detach().numpy(),\n",
        "            delta_t, T, start_X_, n_obs_ot.detach().numpy(),\n",
        "            return_path=True, get_loss=True, weight=model.weight,\n",
        "            M=M, store_and_use_stored=reuse_cond_exp,\n",
        "            return_var=(plot_variance and plot_true_var),\n",
        "            which_loss=which_loss, ref_model=None)\n",
        "        opt_loss, path_t_true, path_y_true = res_sm[:3]\n",
        "        if plot_variance and len(res_sm) > 3:\n",
        "            path_var_true = res_sm[3]\n",
        "    else:\n",
        "        opt_loss = 0\n",
        "\n",
        "    for i in path_to_plot:\n",
        "        fig, axs = plt.subplots(dim, sharex=True)\n",
        "        if dim == 1:\n",
        "            axs = [axs]\n",
        "        outcoord_ind = -1\n",
        "        unobserved_coord = False\n",
        "        for j in range(dim):\n",
        "            if j in output_coords:\n",
        "                outcoord_ind += 1\n",
        "            # get the true_X at observed dates\n",
        "            path_t_obs = []\n",
        "            path_X_obs = []\n",
        "            if obs_noise is not None:\n",
        "                path_O_obs = []\n",
        "            for k, od in enumerate(observed_dates[i]):\n",
        "                if od == 1:\n",
        "                    if true_M is None or (true_M is not None and\n",
        "                                          true_M[i, j, k]==1):\n",
        "                        path_t_obs.append(path_t_true_X[k])\n",
        "                        path_X_obs.append(true_X[i, j, k])\n",
        "                        if obs_noise is not None:\n",
        "                            path_O_obs.append(\n",
        "                                true_X[i, j, k]+obs_noise[i, j, k])\n",
        "            path_t_obs = np.array(path_t_obs)\n",
        "            path_X_obs = np.array(path_X_obs)\n",
        "            if obs_noise is not None:\n",
        "                path_O_obs = np.array(path_O_obs)\n",
        "\n",
        "            # get the legend labels\n",
        "            lab0 = legendlabels[0] if legendlabels is not None else 'true path'\n",
        "            lab1 = legendlabels[1] if legendlabels is not None else model_name\n",
        "            lab2 = legendlabels[2] if legendlabels is not None \\\n",
        "                else 'true conditional expectation'\n",
        "            lab3 = legendlabels[3] if legendlabels is not None else 'observed'\n",
        "\n",
        "            axs[j].plot(path_t_true_X, true_X[i, j, :], label=lab0,\n",
        "                        color=colors[0])\n",
        "            if obs_noise is not None:\n",
        "                axs[j].scatter(path_t_obs, path_O_obs, label=lab3,\n",
        "                               color=colors[0])\n",
        "                # axs[j].scatter(recr_t, recr_X[i, :, j],label='observed recr.',\n",
        "                #                color=\"black\", marker=\"x\")\n",
        "                lab4 = legendlabels[4] if legendlabels is not None \\\n",
        "                    else 'true value at obs time'\n",
        "                axs[j].scatter(path_t_obs, path_X_obs,\n",
        "                               label=lab4,\n",
        "                               color=colors[2], marker='*')\n",
        "            else:\n",
        "                facecolors = colors[0]\n",
        "                if input_coords is not None and j not in input_coords:\n",
        "                    facecolors = 'none'\n",
        "                    lab3 = '(un)observed'\n",
        "                    unobserved_coord = True\n",
        "                axs[j].scatter(path_t_obs, path_X_obs, label=lab3,\n",
        "                               color=colors[0], facecolors=facecolors)\n",
        "            if j in output_coords:\n",
        "                if loss_quantiles is not None:\n",
        "                    for iq, q in enumerate(loss_quantiles):\n",
        "                        axs[j].plot(\n",
        "                            path_t_pred, path_y_pred[:, i, outcoord_ind, iq],\n",
        "                            label=\"q{} - {}\".format(q, lab1),\n",
        "                            color=list(matplotlib.colors.to_rgb(colors[1]))+\n",
        "                                  [2*min(q, 1-q)])\n",
        "                else:\n",
        "                    axs[j].plot(path_t_pred, path_y_pred[:, i, outcoord_ind],\n",
        "                                label=lab1, color=colors[1])\n",
        "                if plot_variance:\n",
        "                    axs[j].fill_between(\n",
        "                        path_t_pred,\n",
        "                        path_y_pred[:, i, outcoord_ind] - std_factor *\n",
        "                        path_std_pred[:, i, outcoord_ind],\n",
        "                        path_y_pred[:, i, outcoord_ind] + std_factor *\n",
        "                        path_std_pred[:, i, outcoord_ind],\n",
        "                        color=std_color)\n",
        "                if use_cond_exp:\n",
        "                    if loss_quantiles is not None:\n",
        "                        for iq, q in enumerate(loss_quantiles):\n",
        "                            axs[j].plot(\n",
        "                                path_t_true, path_y_true[:, i, outcoord_ind,iq],\n",
        "                                label=\"q{} - {}\".format(q, lab2),\n",
        "                                linestyle=':',\n",
        "                                color=list(matplotlib.colors.to_rgb(colors[2]))+\n",
        "                                      [2*min(q, 1-q)])\n",
        "                    else:\n",
        "                        axs[j].plot(path_t_true, path_y_true[:,i,outcoord_ind],\n",
        "                                    label=lab2, linestyle=':', color=colors[2])\n",
        "                    if plot_variance and path_var_true is not None:\n",
        "                        axs[j].fill_between(\n",
        "                            path_t_true,\n",
        "                            path_y_true[:, i, outcoord_ind] - std_factor *\n",
        "                            np.sqrt(path_var_true[:, i, outcoord_ind]),\n",
        "                            path_y_true[:, i, outcoord_ind] + std_factor *\n",
        "                            np.sqrt(path_var_true[:, i, outcoord_ind]),\n",
        "                            color=std_color2)\n",
        "            if ylabels:\n",
        "                axs[j].set_ylabel(ylabels[j])\n",
        "            if same_yaxis:\n",
        "                low = np.min(true_X[i, :, :])\n",
        "                high = np.max(true_X[i, :, :])\n",
        "                if obs_noise is not None:\n",
        "                    low = min(low, np.min(true_X[i]+obs_noise[i]))\n",
        "                    high = max(high, np.max(true_X[i]+obs_noise[i]))\n",
        "                eps = (high - low)*0.05\n",
        "                axs[j].set_ylim([low-eps, high+eps])\n",
        "\n",
        "        if unobserved_coord:\n",
        "            handles, labels = axs[-1].get_legend_handles_labels()\n",
        "            l, = axs[-1].plot(\n",
        "                [], [], color=colors[0], label='(un)observed',\n",
        "                linestyle='none', marker=\"o\", fillstyle=\"right\")\n",
        "\n",
        "            handles[-1] = l\n",
        "            labels[-1] = 'unobserved/observed'\n",
        "            axs[-1].legend(handles, labels)\n",
        "        else:\n",
        "            axs[-1].legend()\n",
        "        plt.xlabel('$t$')\n",
        "        plt.show()\n",
        "\n",
        "    return opt_loss, current_model_loss\n"
      ]
    },
    {
      "cell_type": "code",
      "execution_count": null,
      "metadata": {
        "id": "cTk7CMpEuiDO"
      },
      "outputs": [],
      "source": [
        "def plot_one_path_with_pred1(\n",
        "        device, model, batch, delta_t, T,\n",
        "        path_to_plot=(0,),\n",
        "        plot_variance=False, plot_true_var=True,\n",
        "        functions=None, std_factor=1,\n",
        "        model_name=\"NJODE\", ylabels=None,\n",
        "        legendlabels=None,\n",
        "        use_cond_exp=True, same_yaxis=False,\n",
        "        plot_obs_prob=False,\n",
        "        reuse_cond_exp=True, output_coords=None,\n",
        "        loss_quantiles=None, input_coords=None,\n",
        "        which_loss='easy_vol',\n",
        "):\n",
        "    \"\"\"\n",
        "    plot one path of the stockmodel together with optimal cond. exp. and its\n",
        "    prediction by the model\n",
        "    :param device: torch.device, to use for computations\n",
        "    :param model: models.NJODE instance\n",
        "    :param batch: the batch from where to take the paths\n",
        "    :param stockmodel: stock_model.StockModel instance, used to compute true\n",
        "            cond. exp.\n",
        "    :param delta_t: float\n",
        "    :param T: float\n",
        "    :param path_to_plot: list of ints, which paths to plot (i.e. which elements\n",
        "            oof the batch)\n",
        "    :param plot_variance: bool, whether to plot the variance, if supported by\n",
        "            functions (i.e. square has to be applied)\n",
        "    :param functions: list of functions (as str), the functions applied to X\n",
        "    :param std_factor: float, the factor by which std is multiplied\n",
        "    :param model_name: str or None, name used for model in plots\n",
        "    :param ylabels: None or list of str of same length as dimension of X\n",
        "    :param legendlabels: None or list of str of length 4 or 5 (labels of\n",
        "        i) true path, ii) our model, iii) true cond. exp., iv) observed values,\n",
        "        v) true values at observation times (only if noisy observations are\n",
        "        used))\n",
        "    :param use_cond_exp: bool, whether to plot the conditional expectation\n",
        "    :param same_yaxis: bool, whether to plot all coordinates with same range on\n",
        "        y-axis\n",
        "    :param plot_obs_prob: bool, whether to plot the probability of an\n",
        "        observation for all times\n",
        "    :param reuse_cond_exp: bool, whether to reuse the conditional expectation\n",
        "        from the last computation\n",
        "    :param output_coords: None or list of ints, the coordinates corresponding to\n",
        "        the model output\n",
        "    :param loss_quantiles: None or list of floats, the quantiles to plot for the\n",
        "        loss\n",
        "    :param input_coords: None or list of ints, the coordinates corresponding to\n",
        "        the model input\n",
        "    :param which_loss: str, the loss function to use for the computation\n",
        "\n",
        "    :return: optimal loss\n",
        "    \"\"\"\n",
        "    if model_name is None or model_name == \"NJODE\":\n",
        "        model_name = 'our model'\n",
        "    if device is None:\n",
        "        device = model.device\n",
        "\n",
        "    prop_cycle = plt.rcParams['axes.prop_cycle']  # change style of plot?\n",
        "    colors = prop_cycle.by_key()['color']\n",
        "    std_color = list(matplotlib.colors.to_rgb(colors[1])) + [0.5]\n",
        "    std_color2 = list(matplotlib.colors.to_rgb(colors[2])) + [0.5]\n",
        "\n",
        "    times = batch[\"times\"]\n",
        "    time_ptr = batch[\"time_ptr\"]\n",
        "    X = batch[\"X\"].to(device)\n",
        "    M = batch[\"M\"]\n",
        "    if M is not None:\n",
        "        M = M.to(device)\n",
        "    start_X = batch[\"start_X\"].to(device)\n",
        "    start_M = batch[\"start_M\"]\n",
        "    if start_M is not None:\n",
        "        start_M = start_M.to(device)\n",
        "    obs_idx = batch[\"obs_idx\"]\n",
        "    n_obs_ot = batch[\"n_obs_ot\"].to(device)\n",
        "    true_X = batch[\"true_paths\"]\n",
        "    # dim does not take the function applications into account\n",
        "    bs, dim, time_steps = true_X.shape\n",
        "    if output_coords is None:\n",
        "        output_coords = list(range(dim))\n",
        "        out_dim = dim\n",
        "    else:\n",
        "        # if output_coords is given, then they also include the function\n",
        "        #   applications\n",
        "        mult = len(functions)+1 if functions is not None else 1\n",
        "        out_dim = int(len(output_coords)/mult)\n",
        "    true_M = batch[\"true_mask\"]\n",
        "    observed_dates = batch['observed_dates']\n",
        "    if \"obs_noise\" in batch:\n",
        "        obs_noise = batch[\"obs_noise\"]\n",
        "    else:\n",
        "        obs_noise = None\n",
        "    path_t_true_X = np.linspace(0., T, int(np.round(T / delta_t)) + 1)\n",
        "\n",
        "    model.eval()  # put model in evaluation mode\n",
        "    res = model.get_pred(\n",
        "        times=times, time_ptr=time_ptr, X=X, obs_idx=obs_idx, delta_t=delta_t,\n",
        "        T=T, start_X=start_X, M=M, start_M=start_M, n_obs_ot=n_obs_ot,\n",
        "        which_loss=which_loss)\n",
        "    path_y_pred = res['pred'].detach().numpy()\n",
        "    path_t_pred = res['pred_t']\n",
        "    current_model_loss = res['loss'].detach().numpy()\n",
        "\n",
        "    # get variance path\n",
        "    if plot_variance and (functions is not None) and ('power-2' in functions):\n",
        "        which = np.argmax(np.array(functions) == 'power-2')+1\n",
        "        y2 = path_y_pred[:, :, (out_dim * which):(out_dim * (which + 1))]\n",
        "        path_var_pred = y2 - np.power(path_y_pred[:, :, 0:out_dim], 2)\n",
        "        if np.any(path_var_pred < 0):\n",
        "            print('WARNING: some predicted cond. variances below 0 -> clip')\n",
        "            path_var_pred = np.maximum(0, path_var_pred)\n",
        "        path_std_pred = np.sqrt(path_var_pred)\n",
        "    elif plot_variance and (model.compute_variance is not None):\n",
        "        path_var_pred = res[\"pred_var\"].detach().numpy()\n",
        "        if model.compute_variance == \"variance\":\n",
        "            path_var_pred = path_var_pred[:, :, 0:out_dim]**2\n",
        "        elif model.compute_variance == \"covariance\":\n",
        "            d = int(np.sqrt(path_var_pred.shape[2]))\n",
        "            path_var_pred = path_var_pred.reshape(\n",
        "                path_y_pred.shape[0], path_y_pred.shape[1], d, d)\n",
        "            path_var_pred = np.matmul(\n",
        "                path_var_pred.transpose(0,1,3,2), path_var_pred)\n",
        "            path_var_pred = np.diagonal(path_var_pred, axis1=2, axis2=3)\n",
        "            path_var_pred = path_var_pred[:, :, 0:out_dim]\n",
        "        else:\n",
        "            raise ValueError(\"compute_variance {} not implemented\".format(\n",
        "                model.compute_variance))\n",
        "        path_std_pred = np.sqrt(path_var_pred)\n",
        "    else:\n",
        "        plot_variance = False\n",
        "    path_var_true = None\n",
        "\n",
        "\n",
        "    for i in path_to_plot:\n",
        "        fig, axs = plt.subplots(dim, sharex=True)\n",
        "        if dim == 1:\n",
        "            axs = [axs]\n",
        "        outcoord_ind = -1\n",
        "        unobserved_coord = False\n",
        "        for j in range(dim):\n",
        "            if j in output_coords:\n",
        "                outcoord_ind += 1\n",
        "            # get the true_X at observed dates\n",
        "            path_t_obs = []\n",
        "            path_X_obs = []\n",
        "            if obs_noise is not None:\n",
        "                path_O_obs = []\n",
        "            for k, od in enumerate(observed_dates[i]):\n",
        "                if od == 1:\n",
        "                    if true_M is None or (true_M is not None and\n",
        "                                          true_M[i, j, k]==1):\n",
        "                        path_t_obs.append(path_t_true_X[k])\n",
        "                        path_X_obs.append(true_X[i, j, k])\n",
        "                        if obs_noise is not None:\n",
        "                            path_O_obs.append(\n",
        "                                true_X[i, j, k]+obs_noise[i, j, k])\n",
        "            path_t_obs = np.array(path_t_obs)\n",
        "            path_X_obs = np.array(path_X_obs)\n",
        "            if obs_noise is not None:\n",
        "                path_O_obs = np.array(path_O_obs)\n",
        "\n",
        "            # get the legend labels\n",
        "            lab0 = legendlabels[0] if legendlabels is not None else 'true path'\n",
        "            lab1 = legendlabels[1] if legendlabels is not None else model_name\n",
        "            lab2 = legendlabels[2] if legendlabels is not None \\\n",
        "                else 'true conditional expectation'\n",
        "            lab3 = legendlabels[3] if legendlabels is not None else 'observed'\n",
        "\n",
        "            axs[j].plot(path_t_true_X, true_X[i, j, :], label=lab0,\n",
        "                        color=colors[0])\n",
        "            if obs_noise is not None:\n",
        "                axs[j].scatter(path_t_obs, path_O_obs, label=lab3,\n",
        "                               color=colors[0])\n",
        "                # axs[j].scatter(recr_t, recr_X[i, :, j],label='observed recr.',\n",
        "                #                color=\"black\", marker=\"x\")\n",
        "                lab4 = legendlabels[4] if legendlabels is not None \\\n",
        "                    else 'true value at obs time'\n",
        "                axs[j].scatter(path_t_obs, path_X_obs,\n",
        "                               label=lab4,\n",
        "                               color=colors[2], marker='*')\n",
        "            else:\n",
        "                facecolors = colors[0]\n",
        "                if input_coords is not None and j not in input_coords:\n",
        "                    facecolors = 'none'\n",
        "                    lab3 = '(un)observed'\n",
        "                    unobserved_coord = True\n",
        "                axs[j].scatter(path_t_obs, path_X_obs, label=lab3,\n",
        "                               color=colors[0], facecolors=facecolors)\n",
        "            if j in output_coords:\n",
        "                if loss_quantiles is not None:\n",
        "                    for iq, q in enumerate(loss_quantiles):\n",
        "                        axs[j].plot(\n",
        "                            path_t_pred, path_y_pred[:, i, outcoord_ind, iq],\n",
        "                            label=\"q{} - {}\".format(q, lab1),\n",
        "                            color=list(matplotlib.colors.to_rgb(colors[1]))+\n",
        "                                  [2*min(q, 1-q)])\n",
        "                else:\n",
        "                    axs[j].plot(path_t_pred, path_y_pred[:, i, outcoord_ind],\n",
        "                                label=lab1, color=colors[1])\n",
        "            if ylabels:\n",
        "                axs[j].set_ylabel(ylabels[j])\n",
        "            if same_yaxis:\n",
        "                low = np.min(true_X[i, :, :])\n",
        "                high = np.max(true_X[i, :, :])\n",
        "                if obs_noise is not None:\n",
        "                    low = min(low, np.min(true_X[i]+obs_noise[i]))\n",
        "                    high = max(high, np.max(true_X[i]+obs_noise[i]))\n",
        "                eps = (high - low)*0.05\n",
        "                axs[j].set_ylim([low-eps, high+eps])\n",
        "\n",
        "        if unobserved_coord:\n",
        "            handles, labels = axs[-1].get_legend_handles_labels()\n",
        "            l, = axs[-1].plot(\n",
        "                [], [], color=colors[0], label='(un)observed',\n",
        "                linestyle='none', marker=\"o\", fillstyle=\"right\")\n",
        "\n",
        "            handles[-1] = l\n",
        "            labels[-1] = 'unobserved/observed'\n",
        "            axs[-1].legend(handles, labels)\n",
        "        else:\n",
        "            axs[-1].legend()\n",
        "        plt.xlabel('$t$')\n",
        "        plt.show()\n",
        "\n",
        "    return current_model_loss\n"
      ]
    },
    {
      "cell_type": "markdown",
      "metadata": {
        "id": "5GNZQPC1wsen"
      },
      "source": [
        "# Example 1."
      ]
    },
    {
      "cell_type": "code",
      "execution_count": null,
      "metadata": {
        "id": "WpfytpLwwsI2"
      },
      "outputs": [],
      "source": [
        "BS_dict_mu = {\n",
        "    'model_name': \"BlackScholes\",\n",
        "    'drift': 2., 'volatility': 0.3,\n",
        "    'nb_paths': 10000, 'nb_steps': 100,\n",
        "    'S0': 1, 'maturity': 1., 'dimension': 1,\n",
        "    'obs_perc': 1.0,\n",
        "}\n",
        "dataset_mu = create_dataset(BS_dict_mu[\"model_name\"], BS_dict_mu, seed=0)\n",
        "dataset_mu_metadata = dataset_mu[-2]"
      ]
    },
    {
      "cell_type": "code",
      "execution_count": null,
      "metadata": {
        "colab": {
          "base_uri": "https://localhost:8080/",
          "height": 430
        },
        "id": "kHumF-vixERX",
        "outputId": "afb92cb1-01d8-4789-b6ba-5467b31d4fdd"
      },
      "outputs": [
        {
          "output_type": "display_data",
          "data": {
            "text/plain": [
              "<Figure size 640x480 with 1 Axes>"
            ],
            "image/png": "[encoded data removed]"
          },
          "metadata": {}
        }
      ],
      "source": [
        "paths = dataset_mu[0]\n",
        "plt.plot(np.linspace(0,1,101), paths[0,0])\n",
        "plt.show()"
      ]
    },
    {
      "cell_type": "code",
      "execution_count": null,
      "metadata": {
        "id": "tJIYl7VZxLsX"
      },
      "outputs": [],
      "source": [
        "seed = 1\n",
        "test_size = 0.2\n",
        "train_mu_idx, val_mu_idx = train_test_split(\n",
        "        np.arange(dataset_mu_metadata[\"nb_paths\"]), test_size=test_size,\n",
        "        random_state=seed)\n",
        "\n",
        "data_mu_train = IrregularDataset(dataset_mu, idx=train_mu_idx)\n",
        "data_mu_val = IrregularDataset(dataset_mu, idx=val_mu_idx)"
      ]
    },
    {
      "cell_type": "code",
      "execution_count": null,
      "metadata": {
        "id": "6R8VRM4pxbXQ"
      },
      "outputs": [],
      "source": [
        "_nn = ((50, 'tanh'),)\n",
        "\n",
        "param_dict_BM = {\n",
        "    'seed': 2,\n",
        "    'data_train': data_mu_train,\n",
        "    'data_val': data_mu_val,\n",
        "    'dataset_metadata': dataset_mu_metadata,\n",
        "    'epochs': 100,\n",
        "    'batch_size': 200,\n",
        "    'learning_rate': 0.001,\n",
        "    'hidden_size': 10,\n",
        "    'bias': True,\n",
        "    'dropout_rate': 0.1,\n",
        "    'ode_nn': _nn,\n",
        "    'readout_nn': None,\n",
        "    'enc_nn': _nn,\n",
        "    'dataset_id': None,\n",
        "    'which_loss': 'easy',\n",
        "    'use_y_for_ode': True,\n",
        "    'use_rnn': False,\n",
        "    'input_sig': False,\n",
        "    'level': 2,\n",
        "    'masked': False,\n",
        "    'evaluate': True,\n",
        "    'compute_variance': False,\n",
        "    'func_appl_X': [\"power-2\"],\n",
        "}"
      ]
    },
    {
      "cell_type": "code",
      "execution_count": null,
      "metadata": {
        "colab": {
          "base_uri": "https://localhost:8080/"
        },
        "id": "RVaU2etOxcvP",
        "outputId": "8572b95a-08b5-481e-ecb4-9c29ced1507c"
      },
      "outputs": [
        {
          "output_type": "stream",
          "name": "stderr",
          "text": [
            "/tmp/ipython-input-10-3732291492.py:217: UserWarning: function application to X and concurrent variance/covariance computation might lead to problems! Use carefully!\n",
            "  warnings.warn(\n"
          ]
        },
        {
          "output_type": "stream",
          "name": "stdout",
          "text": [
            "using loss: easy\n",
            "neuralODE use input scaling with tanh\n",
            "use residual network: input_size=2, output_size=50\n",
            "use residual network: input_size=50, output_size=2\n",
            "\n",
            "input_coords: [0]\n",
            "output_coords: [0]\n",
            "input_size: 1\n",
            "output_size: 1\n",
            "signature_coords: [0]\n",
            "apply functions to X\n",
            "new input_coords: [0 1]\n",
            "new output_coords: [0 1]\n",
            "no variance computation\n",
            "WARNING: optimal loss computation for power=2 not implemented for this model\n",
            "optimal (corrected: only original X used) val-loss (achieved by true cond exp): 0.01223\n",
            "initiate new model ...\n",
            "\n",
            "model overview:\n",
            "True\n",
            "NJODE(\n",
            "  (ode_f): ODEFunc(\n",
            "    (f): Sequential(\n",
            "      (0): Linear(in_features=54, out_features=50, bias=True)\n",
            "      (1): Tanh()\n",
            "      (2): Dropout(p=0.1, inplace=False)\n",
            "      (3): Linear(in_features=50, out_features=50, bias=True)\n",
            "    )\n",
            "  )\n",
            "  (encoder_map): FFNN(\n",
            "    (ffnn): Sequential(\n",
            "      (0): Linear(in_features=2, out_features=50, bias=True)\n",
            "      (1): Tanh()\n",
            "      (2): Dropout(p=0.1, inplace=False)\n",
            "      (3): Linear(in_features=50, out_features=50, bias=True)\n",
            "    )\n",
            "  )\n",
            "  (readout_map): FFNN(\n",
            "    (ffnn): Sequential(\n",
            "      (0): Linear(in_features=50, out_features=2, bias=True)\n",
            "    )\n",
            "  )\n",
            ") \n",
            "\n",
            "# parameters=8102\n",
            "\n"
          ]
        },
        {
          "output_type": "stream",
          "name": "stderr",
          "text": [
            "40it [00:17,  2.34it/s]"
          ]
        },
        {
          "output_type": "stream",
          "name": "stdout",
          "text": [
            "evaluating ...\n"
          ]
        },
        {
          "output_type": "stream",
          "name": "stderr",
          "text": [
            "\n"
          ]
        },
        {
          "output_type": "stream",
          "name": "stdout",
          "text": [
            "epoch 1, weight=0.50000, train-loss=3.18766, optimal-val-loss=0.01223, val-loss=2.81449, \n",
            "evaluation mean square difference (test set): 0.00140\n",
            "save new best model: last-best-loss: inf, new-best-loss: 2.81449, epoch: 1\n",
            "----------------------------------------------------------------------------------------------------\n"
          ]
        },
        {
          "output_type": "stream",
          "name": "stderr",
          "text": [
            "40it [00:17,  2.33it/s]"
          ]
        },
        {
          "output_type": "stream",
          "name": "stdout",
          "text": [
            "evaluating ...\n"
          ]
        },
        {
          "output_type": "stream",
          "name": "stderr",
          "text": [
            "\n"
          ]
        },
        {
          "output_type": "stream",
          "name": "stdout",
          "text": [
            "epoch 2, weight=0.50000, train-loss=3.01291, optimal-val-loss=0.01223, val-loss=2.62166, \n",
            "evaluation mean square difference (test set): 0.00087\n",
            "save new best model: last-best-loss: 2.81449, new-best-loss: 2.62166, epoch: 2\n",
            "----------------------------------------------------------------------------------------------------\n"
          ]
        },
        {
          "output_type": "stream",
          "name": "stderr",
          "text": [
            "40it [00:17,  2.33it/s]"
          ]
        },
        {
          "output_type": "stream",
          "name": "stdout",
          "text": [
            "evaluating ...\n"
          ]
        },
        {
          "output_type": "stream",
          "name": "stderr",
          "text": [
            "\n"
          ]
        },
        {
          "output_type": "stream",
          "name": "stdout",
          "text": [
            "epoch 3, weight=0.50000, train-loss=2.96462, optimal-val-loss=0.01223, val-loss=2.54116, \n",
            "evaluation mean square difference (test set): 0.00076\n",
            "save new best model: last-best-loss: 2.62166, new-best-loss: 2.54116, epoch: 3\n",
            "----------------------------------------------------------------------------------------------------\n"
          ]
        },
        {
          "output_type": "stream",
          "name": "stderr",
          "text": [
            "40it [00:18,  2.18it/s]"
          ]
        },
        {
          "output_type": "stream",
          "name": "stdout",
          "text": [
            "evaluating ...\n"
          ]
        },
        {
          "output_type": "stream",
          "name": "stderr",
          "text": [
            "\n"
          ]
        },
        {
          "output_type": "stream",
          "name": "stdout",
          "text": [
            "epoch 4, weight=0.50000, train-loss=2.18612, optimal-val-loss=0.01223, val-loss=2.51652, \n",
            "evaluation mean square difference (test set): 0.00059\n",
            "save new best model: last-best-loss: 2.54116, new-best-loss: 2.51652, epoch: 4\n",
            "----------------------------------------------------------------------------------------------------\n"
          ]
        },
        {
          "output_type": "stream",
          "name": "stderr",
          "text": [
            "40it [00:17,  2.24it/s]"
          ]
        },
        {
          "output_type": "stream",
          "name": "stdout",
          "text": [
            "evaluating ...\n"
          ]
        },
        {
          "output_type": "stream",
          "name": "stderr",
          "text": [
            "\n"
          ]
        },
        {
          "output_type": "stream",
          "name": "stdout",
          "text": [
            "epoch 5, weight=0.50000, train-loss=2.61597, optimal-val-loss=0.01223, val-loss=2.50367, \n",
            "evaluation mean square difference (test set): 0.00059\n",
            "save new best model: last-best-loss: 2.51652, new-best-loss: 2.50367, epoch: 5\n",
            "----------------------------------------------------------------------------------------------------\n"
          ]
        },
        {
          "output_type": "stream",
          "name": "stderr",
          "text": [
            "40it [00:17,  2.24it/s]"
          ]
        },
        {
          "output_type": "stream",
          "name": "stdout",
          "text": [
            "evaluating ...\n"
          ]
        },
        {
          "output_type": "stream",
          "name": "stderr",
          "text": [
            "\n"
          ]
        },
        {
          "output_type": "stream",
          "name": "stdout",
          "text": [
            "epoch 6, weight=0.50000, train-loss=2.99671, optimal-val-loss=0.01223, val-loss=2.49243, \n",
            "evaluation mean square difference (test set): 0.00056\n",
            "save new best model: last-best-loss: 2.50367, new-best-loss: 2.49243, epoch: 6\n",
            "----------------------------------------------------------------------------------------------------\n"
          ]
        },
        {
          "output_type": "stream",
          "name": "stderr",
          "text": [
            "40it [00:17,  2.29it/s]"
          ]
        },
        {
          "output_type": "stream",
          "name": "stdout",
          "text": [
            "evaluating ...\n"
          ]
        },
        {
          "output_type": "stream",
          "name": "stderr",
          "text": [
            "\n"
          ]
        },
        {
          "output_type": "stream",
          "name": "stdout",
          "text": [
            "epoch 7, weight=0.50000, train-loss=2.20296, optimal-val-loss=0.01223, val-loss=2.48370, \n",
            "evaluation mean square difference (test set): 0.00055\n",
            "save new best model: last-best-loss: 2.49243, new-best-loss: 2.48370, epoch: 7\n",
            "----------------------------------------------------------------------------------------------------\n"
          ]
        },
        {
          "output_type": "stream",
          "name": "stderr",
          "text": [
            "40it [00:17,  2.34it/s]"
          ]
        },
        {
          "output_type": "stream",
          "name": "stdout",
          "text": [
            "evaluating ...\n"
          ]
        },
        {
          "output_type": "stream",
          "name": "stderr",
          "text": [
            "\n"
          ]
        },
        {
          "output_type": "stream",
          "name": "stdout",
          "text": [
            "epoch 8, weight=0.50000, train-loss=2.65141, optimal-val-loss=0.01223, val-loss=2.45375, \n",
            "evaluation mean square difference (test set): 0.00044\n",
            "save new best model: last-best-loss: 2.48370, new-best-loss: 2.45375, epoch: 8\n",
            "----------------------------------------------------------------------------------------------------\n"
          ]
        },
        {
          "output_type": "stream",
          "name": "stderr",
          "text": [
            "40it [00:17,  2.34it/s]"
          ]
        },
        {
          "output_type": "stream",
          "name": "stdout",
          "text": [
            "evaluating ...\n"
          ]
        },
        {
          "output_type": "stream",
          "name": "stderr",
          "text": [
            "\n"
          ]
        },
        {
          "output_type": "stream",
          "name": "stdout",
          "text": [
            "epoch 9, weight=0.50000, train-loss=2.54881, optimal-val-loss=0.01223, val-loss=2.43422, \n",
            "evaluation mean square difference (test set): 0.00040\n",
            "save new best model: last-best-loss: 2.45375, new-best-loss: 2.43422, epoch: 9\n",
            "----------------------------------------------------------------------------------------------------\n"
          ]
        },
        {
          "output_type": "stream",
          "name": "stderr",
          "text": [
            "40it [00:17,  2.30it/s]"
          ]
        },
        {
          "output_type": "stream",
          "name": "stdout",
          "text": [
            "evaluating ...\n"
          ]
        },
        {
          "output_type": "stream",
          "name": "stderr",
          "text": [
            "\n"
          ]
        },
        {
          "output_type": "stream",
          "name": "stdout",
          "text": [
            "epoch 10, weight=0.50000, train-loss=2.04832, optimal-val-loss=0.01223, val-loss=2.41280, \n",
            "evaluation mean square difference (test set): 0.00031\n",
            "save new best model: last-best-loss: 2.43422, new-best-loss: 2.41280, epoch: 10\n",
            "----------------------------------------------------------------------------------------------------\n"
          ]
        },
        {
          "output_type": "stream",
          "name": "stderr",
          "text": [
            "40it [00:17,  2.26it/s]"
          ]
        },
        {
          "output_type": "stream",
          "name": "stdout",
          "text": [
            "evaluating ...\n"
          ]
        },
        {
          "output_type": "stream",
          "name": "stderr",
          "text": [
            "\n"
          ]
        },
        {
          "output_type": "stream",
          "name": "stdout",
          "text": [
            "epoch 11, weight=0.50000, train-loss=2.56059, optimal-val-loss=0.01223, val-loss=2.37876, \n",
            "evaluation mean square difference (test set): 0.00026\n",
            "save new best model: last-best-loss: 2.41280, new-best-loss: 2.37876, epoch: 11\n",
            "----------------------------------------------------------------------------------------------------\n"
          ]
        },
        {
          "output_type": "stream",
          "name": "stderr",
          "text": [
            "40it [00:17,  2.29it/s]"
          ]
        },
        {
          "output_type": "stream",
          "name": "stdout",
          "text": [
            "evaluating ...\n"
          ]
        },
        {
          "output_type": "stream",
          "name": "stderr",
          "text": [
            "\n"
          ]
        },
        {
          "output_type": "stream",
          "name": "stdout",
          "text": [
            "epoch 12, weight=0.50000, train-loss=1.81399, optimal-val-loss=0.01223, val-loss=2.34923, \n",
            "evaluation mean square difference (test set): 0.00025\n",
            "save new best model: last-best-loss: 2.37876, new-best-loss: 2.34923, epoch: 12\n",
            "----------------------------------------------------------------------------------------------------\n"
          ]
        },
        {
          "output_type": "stream",
          "name": "stderr",
          "text": [
            "40it [00:17,  2.33it/s]"
          ]
        },
        {
          "output_type": "stream",
          "name": "stdout",
          "text": [
            "evaluating ...\n"
          ]
        },
        {
          "output_type": "stream",
          "name": "stderr",
          "text": [
            "\n"
          ]
        },
        {
          "output_type": "stream",
          "name": "stdout",
          "text": [
            "epoch 13, weight=0.50000, train-loss=2.26777, optimal-val-loss=0.01223, val-loss=2.33212, \n",
            "evaluation mean square difference (test set): 0.00037\n",
            "save new best model: last-best-loss: 2.34923, new-best-loss: 2.33212, epoch: 13\n",
            "----------------------------------------------------------------------------------------------------\n"
          ]
        },
        {
          "output_type": "stream",
          "name": "stderr",
          "text": [
            "40it [00:16,  2.37it/s]"
          ]
        },
        {
          "output_type": "stream",
          "name": "stdout",
          "text": [
            "evaluating ...\n"
          ]
        },
        {
          "output_type": "stream",
          "name": "stderr",
          "text": [
            "\n"
          ]
        },
        {
          "output_type": "stream",
          "name": "stdout",
          "text": [
            "epoch 14, weight=0.50000, train-loss=2.08967, optimal-val-loss=0.01223, val-loss=2.30849, \n",
            "evaluation mean square difference (test set): 0.00031\n",
            "save new best model: last-best-loss: 2.33212, new-best-loss: 2.30849, epoch: 14\n",
            "----------------------------------------------------------------------------------------------------\n"
          ]
        },
        {
          "output_type": "stream",
          "name": "stderr",
          "text": [
            "40it [00:16,  2.35it/s]"
          ]
        },
        {
          "output_type": "stream",
          "name": "stdout",
          "text": [
            "evaluating ...\n"
          ]
        },
        {
          "output_type": "stream",
          "name": "stderr",
          "text": [
            "\n"
          ]
        },
        {
          "output_type": "stream",
          "name": "stdout",
          "text": [
            "epoch 15, weight=0.50000, train-loss=2.19994, optimal-val-loss=0.01223, val-loss=2.30304, \n",
            "evaluation mean square difference (test set): 0.00038\n",
            "save new best model: last-best-loss: 2.30849, new-best-loss: 2.30304, epoch: 15\n",
            "----------------------------------------------------------------------------------------------------\n"
          ]
        },
        {
          "output_type": "stream",
          "name": "stderr",
          "text": [
            "40it [00:17,  2.29it/s]"
          ]
        },
        {
          "output_type": "stream",
          "name": "stdout",
          "text": [
            "evaluating ...\n"
          ]
        },
        {
          "output_type": "stream",
          "name": "stderr",
          "text": [
            "\n"
          ]
        },
        {
          "output_type": "stream",
          "name": "stdout",
          "text": [
            "epoch 16, weight=0.50000, train-loss=2.33860, optimal-val-loss=0.01223, val-loss=2.29270, \n",
            "evaluation mean square difference (test set): 0.00033\n",
            "save new best model: last-best-loss: 2.30304, new-best-loss: 2.29270, epoch: 16\n",
            "----------------------------------------------------------------------------------------------------\n"
          ]
        },
        {
          "output_type": "stream",
          "name": "stderr",
          "text": [
            "40it [00:17,  2.23it/s]"
          ]
        },
        {
          "output_type": "stream",
          "name": "stdout",
          "text": [
            "evaluating ...\n"
          ]
        },
        {
          "output_type": "stream",
          "name": "stderr",
          "text": [
            "\n"
          ]
        },
        {
          "output_type": "stream",
          "name": "stdout",
          "text": [
            "epoch 17, weight=0.50000, train-loss=2.38308, optimal-val-loss=0.01223, val-loss=2.28642, \n",
            "evaluation mean square difference (test set): 0.00038\n",
            "save new best model: last-best-loss: 2.29270, new-best-loss: 2.28642, epoch: 17\n",
            "----------------------------------------------------------------------------------------------------\n"
          ]
        },
        {
          "output_type": "stream",
          "name": "stderr",
          "text": [
            "40it [00:17,  2.30it/s]"
          ]
        },
        {
          "output_type": "stream",
          "name": "stdout",
          "text": [
            "evaluating ...\n"
          ]
        },
        {
          "output_type": "stream",
          "name": "stderr",
          "text": [
            "\n"
          ]
        },
        {
          "output_type": "stream",
          "name": "stdout",
          "text": [
            "epoch 18, weight=0.50000, train-loss=2.52294, optimal-val-loss=0.01223, val-loss=2.27430, \n",
            "evaluation mean square difference (test set): 0.00035\n",
            "save new best model: last-best-loss: 2.28642, new-best-loss: 2.27430, epoch: 18\n",
            "----------------------------------------------------------------------------------------------------\n"
          ]
        },
        {
          "output_type": "stream",
          "name": "stderr",
          "text": [
            "40it [00:16,  2.36it/s]"
          ]
        },
        {
          "output_type": "stream",
          "name": "stdout",
          "text": [
            "evaluating ...\n"
          ]
        },
        {
          "output_type": "stream",
          "name": "stderr",
          "text": [
            "\n"
          ]
        },
        {
          "output_type": "stream",
          "name": "stdout",
          "text": [
            "epoch 19, weight=0.50000, train-loss=2.69572, optimal-val-loss=0.01223, val-loss=2.28785, \n",
            "evaluation mean square difference (test set): 0.00029\n",
            "----------------------------------------------------------------------------------------------------\n"
          ]
        },
        {
          "output_type": "stream",
          "name": "stderr",
          "text": [
            "40it [00:16,  2.35it/s]"
          ]
        },
        {
          "output_type": "stream",
          "name": "stdout",
          "text": [
            "evaluating ...\n"
          ]
        },
        {
          "output_type": "stream",
          "name": "stderr",
          "text": [
            "\n"
          ]
        },
        {
          "output_type": "stream",
          "name": "stdout",
          "text": [
            "epoch 20, weight=0.50000, train-loss=2.63108, optimal-val-loss=0.01223, val-loss=2.27228, \n",
            "evaluation mean square difference (test set): 0.00029\n",
            "save new best model: last-best-loss: 2.27430, new-best-loss: 2.27228, epoch: 20\n",
            "----------------------------------------------------------------------------------------------------\n"
          ]
        },
        {
          "output_type": "stream",
          "name": "stderr",
          "text": [
            "40it [00:17,  2.33it/s]"
          ]
        },
        {
          "output_type": "stream",
          "name": "stdout",
          "text": [
            "evaluating ...\n"
          ]
        },
        {
          "output_type": "stream",
          "name": "stderr",
          "text": [
            "\n"
          ]
        },
        {
          "output_type": "stream",
          "name": "stdout",
          "text": [
            "epoch 21, weight=0.50000, train-loss=2.05793, optimal-val-loss=0.01223, val-loss=2.26868, \n",
            "evaluation mean square difference (test set): 0.00028\n",
            "save new best model: last-best-loss: 2.27228, new-best-loss: 2.26868, epoch: 21\n",
            "----------------------------------------------------------------------------------------------------\n"
          ]
        },
        {
          "output_type": "stream",
          "name": "stderr",
          "text": [
            "40it [00:17,  2.26it/s]"
          ]
        },
        {
          "output_type": "stream",
          "name": "stdout",
          "text": [
            "evaluating ...\n"
          ]
        },
        {
          "output_type": "stream",
          "name": "stderr",
          "text": [
            "\n"
          ]
        },
        {
          "output_type": "stream",
          "name": "stdout",
          "text": [
            "epoch 22, weight=0.50000, train-loss=1.92312, optimal-val-loss=0.01223, val-loss=2.26079, \n",
            "evaluation mean square difference (test set): 0.00026\n",
            "save new best model: last-best-loss: 2.26868, new-best-loss: 2.26079, epoch: 22\n",
            "----------------------------------------------------------------------------------------------------\n"
          ]
        },
        {
          "output_type": "stream",
          "name": "stderr",
          "text": [
            "40it [00:17,  2.23it/s]"
          ]
        },
        {
          "output_type": "stream",
          "name": "stdout",
          "text": [
            "evaluating ...\n"
          ]
        },
        {
          "output_type": "stream",
          "name": "stderr",
          "text": [
            "\n"
          ]
        },
        {
          "output_type": "stream",
          "name": "stdout",
          "text": [
            "epoch 23, weight=0.50000, train-loss=2.17575, optimal-val-loss=0.01223, val-loss=2.27296, \n",
            "evaluation mean square difference (test set): 0.00026\n",
            "----------------------------------------------------------------------------------------------------\n"
          ]
        },
        {
          "output_type": "stream",
          "name": "stderr",
          "text": [
            "40it [00:17,  2.33it/s]"
          ]
        },
        {
          "output_type": "stream",
          "name": "stdout",
          "text": [
            "evaluating ...\n"
          ]
        },
        {
          "output_type": "stream",
          "name": "stderr",
          "text": [
            "\n"
          ]
        },
        {
          "output_type": "stream",
          "name": "stdout",
          "text": [
            "epoch 24, weight=0.50000, train-loss=1.99165, optimal-val-loss=0.01223, val-loss=2.25949, \n",
            "evaluation mean square difference (test set): 0.00024\n",
            "save new best model: last-best-loss: 2.26079, new-best-loss: 2.25949, epoch: 24\n",
            "----------------------------------------------------------------------------------------------------\n"
          ]
        },
        {
          "output_type": "stream",
          "name": "stderr",
          "text": [
            "40it [00:16,  2.37it/s]"
          ]
        },
        {
          "output_type": "stream",
          "name": "stdout",
          "text": [
            "evaluating ...\n"
          ]
        },
        {
          "output_type": "stream",
          "name": "stderr",
          "text": [
            "\n"
          ]
        },
        {
          "output_type": "stream",
          "name": "stdout",
          "text": [
            "epoch 25, weight=0.50000, train-loss=2.38715, optimal-val-loss=0.01223, val-loss=2.26167, \n",
            "evaluation mean square difference (test set): 0.00026\n",
            "----------------------------------------------------------------------------------------------------\n"
          ]
        },
        {
          "output_type": "stream",
          "name": "stderr",
          "text": [
            "40it [00:17,  2.35it/s]"
          ]
        },
        {
          "output_type": "stream",
          "name": "stdout",
          "text": [
            "evaluating ...\n"
          ]
        },
        {
          "output_type": "stream",
          "name": "stderr",
          "text": [
            "\n"
          ]
        },
        {
          "output_type": "stream",
          "name": "stdout",
          "text": [
            "epoch 26, weight=0.50000, train-loss=2.26884, optimal-val-loss=0.01223, val-loss=2.26245, \n",
            "evaluation mean square difference (test set): 0.00024\n",
            "----------------------------------------------------------------------------------------------------\n"
          ]
        },
        {
          "output_type": "stream",
          "name": "stderr",
          "text": [
            "40it [00:16,  2.37it/s]"
          ]
        },
        {
          "output_type": "stream",
          "name": "stdout",
          "text": [
            "evaluating ...\n"
          ]
        },
        {
          "output_type": "stream",
          "name": "stderr",
          "text": [
            "\n"
          ]
        },
        {
          "output_type": "stream",
          "name": "stdout",
          "text": [
            "epoch 27, weight=0.50000, train-loss=2.39259, optimal-val-loss=0.01223, val-loss=2.26810, \n",
            "evaluation mean square difference (test set): 0.00024\n",
            "----------------------------------------------------------------------------------------------------\n"
          ]
        },
        {
          "output_type": "stream",
          "name": "stderr",
          "text": [
            "40it [00:17,  2.25it/s]"
          ]
        },
        {
          "output_type": "stream",
          "name": "stdout",
          "text": [
            "evaluating ...\n"
          ]
        },
        {
          "output_type": "stream",
          "name": "stderr",
          "text": [
            "\n"
          ]
        },
        {
          "output_type": "stream",
          "name": "stdout",
          "text": [
            "epoch 28, weight=0.50000, train-loss=2.64250, optimal-val-loss=0.01223, val-loss=2.25865, \n",
            "evaluation mean square difference (test set): 0.00025\n",
            "save new best model: last-best-loss: 2.25949, new-best-loss: 2.25865, epoch: 28\n",
            "----------------------------------------------------------------------------------------------------\n"
          ]
        },
        {
          "output_type": "stream",
          "name": "stderr",
          "text": [
            "40it [00:17,  2.26it/s]"
          ]
        },
        {
          "output_type": "stream",
          "name": "stdout",
          "text": [
            "evaluating ...\n"
          ]
        },
        {
          "output_type": "stream",
          "name": "stderr",
          "text": [
            "\n"
          ]
        },
        {
          "output_type": "stream",
          "name": "stdout",
          "text": [
            "epoch 29, weight=0.50000, train-loss=1.96697, optimal-val-loss=0.01223, val-loss=2.25601, \n",
            "evaluation mean square difference (test set): 0.00023\n",
            "save new best model: last-best-loss: 2.25865, new-best-loss: 2.25601, epoch: 29\n",
            "----------------------------------------------------------------------------------------------------\n"
          ]
        },
        {
          "output_type": "stream",
          "name": "stderr",
          "text": [
            "40it [00:16,  2.36it/s]"
          ]
        },
        {
          "output_type": "stream",
          "name": "stdout",
          "text": [
            "evaluating ...\n"
          ]
        },
        {
          "output_type": "stream",
          "name": "stderr",
          "text": [
            "\n"
          ]
        },
        {
          "output_type": "stream",
          "name": "stdout",
          "text": [
            "epoch 30, weight=0.50000, train-loss=2.04053, optimal-val-loss=0.01223, val-loss=2.25406, \n",
            "evaluation mean square difference (test set): 0.00023\n",
            "save new best model: last-best-loss: 2.25601, new-best-loss: 2.25406, epoch: 30\n",
            "----------------------------------------------------------------------------------------------------\n"
          ]
        },
        {
          "output_type": "stream",
          "name": "stderr",
          "text": [
            "40it [00:16,  2.36it/s]"
          ]
        },
        {
          "output_type": "stream",
          "name": "stdout",
          "text": [
            "evaluating ...\n"
          ]
        },
        {
          "output_type": "stream",
          "name": "stderr",
          "text": [
            "\n"
          ]
        },
        {
          "output_type": "stream",
          "name": "stdout",
          "text": [
            "epoch 31, weight=0.50000, train-loss=2.85043, optimal-val-loss=0.01223, val-loss=2.25113, \n",
            "evaluation mean square difference (test set): 0.00022\n",
            "save new best model: last-best-loss: 2.25406, new-best-loss: 2.25113, epoch: 31\n",
            "----------------------------------------------------------------------------------------------------\n"
          ]
        },
        {
          "output_type": "stream",
          "name": "stderr",
          "text": [
            "40it [00:16,  2.35it/s]"
          ]
        },
        {
          "output_type": "stream",
          "name": "stdout",
          "text": [
            "evaluating ...\n"
          ]
        },
        {
          "output_type": "stream",
          "name": "stderr",
          "text": [
            "\n"
          ]
        },
        {
          "output_type": "stream",
          "name": "stdout",
          "text": [
            "epoch 32, weight=0.50000, train-loss=2.31057, optimal-val-loss=0.01223, val-loss=2.25998, \n",
            "evaluation mean square difference (test set): 0.00022\n",
            "----------------------------------------------------------------------------------------------------\n"
          ]
        },
        {
          "output_type": "stream",
          "name": "stderr",
          "text": [
            "40it [00:17,  2.29it/s]"
          ]
        },
        {
          "output_type": "stream",
          "name": "stdout",
          "text": [
            "evaluating ...\n"
          ]
        },
        {
          "output_type": "stream",
          "name": "stderr",
          "text": [
            "\n"
          ]
        },
        {
          "output_type": "stream",
          "name": "stdout",
          "text": [
            "epoch 33, weight=0.50000, train-loss=1.99532, optimal-val-loss=0.01223, val-loss=2.25235, \n",
            "evaluation mean square difference (test set): 0.00022\n",
            "----------------------------------------------------------------------------------------------------\n"
          ]
        },
        {
          "output_type": "stream",
          "name": "stderr",
          "text": [
            "40it [00:17,  2.25it/s]"
          ]
        },
        {
          "output_type": "stream",
          "name": "stdout",
          "text": [
            "evaluating ...\n"
          ]
        },
        {
          "output_type": "stream",
          "name": "stderr",
          "text": [
            "\n"
          ]
        },
        {
          "output_type": "stream",
          "name": "stdout",
          "text": [
            "epoch 34, weight=0.50000, train-loss=1.85746, optimal-val-loss=0.01223, val-loss=2.24754, \n",
            "evaluation mean square difference (test set): 0.00022\n",
            "save new best model: last-best-loss: 2.25113, new-best-loss: 2.24754, epoch: 34\n",
            "----------------------------------------------------------------------------------------------------\n"
          ]
        },
        {
          "output_type": "stream",
          "name": "stderr",
          "text": [
            "40it [00:17,  2.32it/s]"
          ]
        },
        {
          "output_type": "stream",
          "name": "stdout",
          "text": [
            "evaluating ...\n"
          ]
        },
        {
          "output_type": "stream",
          "name": "stderr",
          "text": [
            "\n"
          ]
        },
        {
          "output_type": "stream",
          "name": "stdout",
          "text": [
            "epoch 35, weight=0.50000, train-loss=2.39993, optimal-val-loss=0.01223, val-loss=2.25188, \n",
            "evaluation mean square difference (test set): 0.00022\n",
            "----------------------------------------------------------------------------------------------------\n"
          ]
        },
        {
          "output_type": "stream",
          "name": "stderr",
          "text": [
            "40it [00:16,  2.36it/s]"
          ]
        },
        {
          "output_type": "stream",
          "name": "stdout",
          "text": [
            "evaluating ...\n"
          ]
        },
        {
          "output_type": "stream",
          "name": "stderr",
          "text": [
            "\n"
          ]
        },
        {
          "output_type": "stream",
          "name": "stdout",
          "text": [
            "epoch 36, weight=0.50000, train-loss=1.74577, optimal-val-loss=0.01223, val-loss=2.24930, \n",
            "evaluation mean square difference (test set): 0.00022\n",
            "----------------------------------------------------------------------------------------------------\n"
          ]
        },
        {
          "output_type": "stream",
          "name": "stderr",
          "text": [
            "40it [00:16,  2.37it/s]"
          ]
        },
        {
          "output_type": "stream",
          "name": "stdout",
          "text": [
            "evaluating ...\n"
          ]
        },
        {
          "output_type": "stream",
          "name": "stderr",
          "text": [
            "\n"
          ]
        },
        {
          "output_type": "stream",
          "name": "stdout",
          "text": [
            "epoch 37, weight=0.50000, train-loss=2.50132, optimal-val-loss=0.01223, val-loss=2.24685, \n",
            "evaluation mean square difference (test set): 0.00023\n",
            "save new best model: last-best-loss: 2.24754, new-best-loss: 2.24685, epoch: 37\n",
            "----------------------------------------------------------------------------------------------------\n"
          ]
        },
        {
          "output_type": "stream",
          "name": "stderr",
          "text": [
            "40it [00:16,  2.35it/s]"
          ]
        },
        {
          "output_type": "stream",
          "name": "stdout",
          "text": [
            "evaluating ...\n"
          ]
        },
        {
          "output_type": "stream",
          "name": "stderr",
          "text": [
            "\n"
          ]
        },
        {
          "output_type": "stream",
          "name": "stdout",
          "text": [
            "epoch 38, weight=0.50000, train-loss=2.11457, optimal-val-loss=0.01223, val-loss=2.24691, \n",
            "evaluation mean square difference (test set): 0.00022\n",
            "----------------------------------------------------------------------------------------------------\n"
          ]
        },
        {
          "output_type": "stream",
          "name": "stderr",
          "text": [
            "40it [00:17,  2.25it/s]"
          ]
        },
        {
          "output_type": "stream",
          "name": "stdout",
          "text": [
            "evaluating ...\n"
          ]
        },
        {
          "output_type": "stream",
          "name": "stderr",
          "text": [
            "\n"
          ]
        },
        {
          "output_type": "stream",
          "name": "stdout",
          "text": [
            "epoch 39, weight=0.50000, train-loss=2.23664, optimal-val-loss=0.01223, val-loss=2.24394, \n",
            "evaluation mean square difference (test set): 0.00021\n",
            "save new best model: last-best-loss: 2.24685, new-best-loss: 2.24394, epoch: 39\n",
            "----------------------------------------------------------------------------------------------------\n"
          ]
        },
        {
          "output_type": "stream",
          "name": "stderr",
          "text": [
            "40it [00:17,  2.25it/s]"
          ]
        },
        {
          "output_type": "stream",
          "name": "stdout",
          "text": [
            "evaluating ...\n"
          ]
        },
        {
          "output_type": "stream",
          "name": "stderr",
          "text": [
            "\n"
          ]
        },
        {
          "output_type": "stream",
          "name": "stdout",
          "text": [
            "epoch 40, weight=0.50000, train-loss=2.18994, optimal-val-loss=0.01223, val-loss=2.24576, \n",
            "evaluation mean square difference (test set): 0.00021\n",
            "----------------------------------------------------------------------------------------------------\n"
          ]
        },
        {
          "output_type": "stream",
          "name": "stderr",
          "text": [
            "40it [00:17,  2.26it/s]"
          ]
        },
        {
          "output_type": "stream",
          "name": "stdout",
          "text": [
            "evaluating ...\n"
          ]
        },
        {
          "output_type": "stream",
          "name": "stderr",
          "text": [
            "\n"
          ]
        },
        {
          "output_type": "stream",
          "name": "stdout",
          "text": [
            "epoch 41, weight=0.50000, train-loss=2.52591, optimal-val-loss=0.01223, val-loss=2.25019, \n",
            "evaluation mean square difference (test set): 0.00023\n",
            "----------------------------------------------------------------------------------------------------\n"
          ]
        },
        {
          "output_type": "stream",
          "name": "stderr",
          "text": [
            "40it [00:17,  2.29it/s]"
          ]
        },
        {
          "output_type": "stream",
          "name": "stdout",
          "text": [
            "evaluating ...\n"
          ]
        },
        {
          "output_type": "stream",
          "name": "stderr",
          "text": [
            "\n"
          ]
        },
        {
          "output_type": "stream",
          "name": "stdout",
          "text": [
            "epoch 42, weight=0.50000, train-loss=2.44059, optimal-val-loss=0.01223, val-loss=2.25037, \n",
            "evaluation mean square difference (test set): 0.00021\n",
            "----------------------------------------------------------------------------------------------------\n"
          ]
        },
        {
          "output_type": "stream",
          "name": "stderr",
          "text": [
            "40it [00:17,  2.29it/s]"
          ]
        },
        {
          "output_type": "stream",
          "name": "stdout",
          "text": [
            "evaluating ...\n"
          ]
        },
        {
          "output_type": "stream",
          "name": "stderr",
          "text": [
            "\n"
          ]
        },
        {
          "output_type": "stream",
          "name": "stdout",
          "text": [
            "epoch 43, weight=0.50000, train-loss=1.94281, optimal-val-loss=0.01223, val-loss=2.24508, \n",
            "evaluation mean square difference (test set): 0.00021\n",
            "----------------------------------------------------------------------------------------------------\n"
          ]
        },
        {
          "output_type": "stream",
          "name": "stderr",
          "text": [
            "40it [00:17,  2.25it/s]"
          ]
        },
        {
          "output_type": "stream",
          "name": "stdout",
          "text": [
            "evaluating ...\n"
          ]
        },
        {
          "output_type": "stream",
          "name": "stderr",
          "text": [
            "\n"
          ]
        },
        {
          "output_type": "stream",
          "name": "stdout",
          "text": [
            "epoch 44, weight=0.50000, train-loss=2.32146, optimal-val-loss=0.01223, val-loss=2.24431, \n",
            "evaluation mean square difference (test set): 0.00021\n",
            "----------------------------------------------------------------------------------------------------\n"
          ]
        },
        {
          "output_type": "stream",
          "name": "stderr",
          "text": [
            "40it [00:17,  2.23it/s]"
          ]
        },
        {
          "output_type": "stream",
          "name": "stdout",
          "text": [
            "evaluating ...\n"
          ]
        },
        {
          "output_type": "stream",
          "name": "stderr",
          "text": [
            "\n"
          ]
        },
        {
          "output_type": "stream",
          "name": "stdout",
          "text": [
            "epoch 45, weight=0.50000, train-loss=2.13828, optimal-val-loss=0.01223, val-loss=2.24218, \n",
            "evaluation mean square difference (test set): 0.00021\n",
            "save new best model: last-best-loss: 2.24394, new-best-loss: 2.24218, epoch: 45\n",
            "----------------------------------------------------------------------------------------------------\n"
          ]
        },
        {
          "output_type": "stream",
          "name": "stderr",
          "text": [
            "40it [00:18,  2.20it/s]"
          ]
        },
        {
          "output_type": "stream",
          "name": "stdout",
          "text": [
            "evaluating ...\n"
          ]
        },
        {
          "output_type": "stream",
          "name": "stderr",
          "text": [
            "\n"
          ]
        },
        {
          "output_type": "stream",
          "name": "stdout",
          "text": [
            "epoch 46, weight=0.50000, train-loss=2.49823, optimal-val-loss=0.01223, val-loss=2.25131, \n",
            "evaluation mean square difference (test set): 0.00021\n",
            "----------------------------------------------------------------------------------------------------\n"
          ]
        },
        {
          "output_type": "stream",
          "name": "stderr",
          "text": [
            "40it [00:18,  2.17it/s]"
          ]
        },
        {
          "output_type": "stream",
          "name": "stdout",
          "text": [
            "evaluating ...\n"
          ]
        },
        {
          "output_type": "stream",
          "name": "stderr",
          "text": [
            "\n"
          ]
        },
        {
          "output_type": "stream",
          "name": "stdout",
          "text": [
            "epoch 47, weight=0.50000, train-loss=2.52825, optimal-val-loss=0.01223, val-loss=2.23771, \n",
            "evaluation mean square difference (test set): 0.00021\n",
            "save new best model: last-best-loss: 2.24218, new-best-loss: 2.23771, epoch: 47\n",
            "----------------------------------------------------------------------------------------------------\n"
          ]
        },
        {
          "output_type": "stream",
          "name": "stderr",
          "text": [
            "40it [00:19,  2.10it/s]"
          ]
        },
        {
          "output_type": "stream",
          "name": "stdout",
          "text": [
            "evaluating ...\n"
          ]
        },
        {
          "output_type": "stream",
          "name": "stderr",
          "text": [
            "\n"
          ]
        },
        {
          "output_type": "stream",
          "name": "stdout",
          "text": [
            "epoch 48, weight=0.50000, train-loss=2.33232, optimal-val-loss=0.01223, val-loss=2.24159, \n",
            "evaluation mean square difference (test set): 0.00021\n",
            "----------------------------------------------------------------------------------------------------\n"
          ]
        },
        {
          "output_type": "stream",
          "name": "stderr",
          "text": [
            "40it [00:18,  2.13it/s]"
          ]
        },
        {
          "output_type": "stream",
          "name": "stdout",
          "text": [
            "evaluating ...\n"
          ]
        },
        {
          "output_type": "stream",
          "name": "stderr",
          "text": [
            "\n"
          ]
        },
        {
          "output_type": "stream",
          "name": "stdout",
          "text": [
            "epoch 49, weight=0.50000, train-loss=1.99500, optimal-val-loss=0.01223, val-loss=2.24289, \n",
            "evaluation mean square difference (test set): 0.00023\n",
            "----------------------------------------------------------------------------------------------------\n"
          ]
        },
        {
          "output_type": "stream",
          "name": "stderr",
          "text": [
            "40it [00:18,  2.17it/s]"
          ]
        },
        {
          "output_type": "stream",
          "name": "stdout",
          "text": [
            "evaluating ...\n"
          ]
        },
        {
          "output_type": "stream",
          "name": "stderr",
          "text": [
            "\n"
          ]
        },
        {
          "output_type": "stream",
          "name": "stdout",
          "text": [
            "epoch 50, weight=0.50000, train-loss=2.10965, optimal-val-loss=0.01223, val-loss=2.23979, \n",
            "evaluation mean square difference (test set): 0.00021\n",
            "----------------------------------------------------------------------------------------------------\n"
          ]
        },
        {
          "output_type": "stream",
          "name": "stderr",
          "text": [
            "40it [00:18,  2.22it/s]"
          ]
        },
        {
          "output_type": "stream",
          "name": "stdout",
          "text": [
            "evaluating ...\n"
          ]
        },
        {
          "output_type": "stream",
          "name": "stderr",
          "text": [
            "\n"
          ]
        },
        {
          "output_type": "stream",
          "name": "stdout",
          "text": [
            "epoch 51, weight=0.50000, train-loss=2.69988, optimal-val-loss=0.01223, val-loss=2.23933, \n",
            "evaluation mean square difference (test set): 0.00023\n",
            "----------------------------------------------------------------------------------------------------\n"
          ]
        },
        {
          "output_type": "stream",
          "name": "stderr",
          "text": [
            "40it [00:17,  2.22it/s]"
          ]
        },
        {
          "output_type": "stream",
          "name": "stdout",
          "text": [
            "evaluating ...\n"
          ]
        },
        {
          "output_type": "stream",
          "name": "stderr",
          "text": [
            "\n"
          ]
        },
        {
          "output_type": "stream",
          "name": "stdout",
          "text": [
            "epoch 52, weight=0.50000, train-loss=2.57952, optimal-val-loss=0.01223, val-loss=2.24138, \n",
            "evaluation mean square difference (test set): 0.00022\n",
            "----------------------------------------------------------------------------------------------------\n"
          ]
        },
        {
          "output_type": "stream",
          "name": "stderr",
          "text": [
            "40it [00:17,  2.25it/s]"
          ]
        },
        {
          "output_type": "stream",
          "name": "stdout",
          "text": [
            "evaluating ...\n"
          ]
        },
        {
          "output_type": "stream",
          "name": "stderr",
          "text": [
            "\n"
          ]
        },
        {
          "output_type": "stream",
          "name": "stdout",
          "text": [
            "epoch 53, weight=0.50000, train-loss=2.24984, optimal-val-loss=0.01223, val-loss=2.23622, \n",
            "evaluation mean square difference (test set): 0.00021\n",
            "save new best model: last-best-loss: 2.23771, new-best-loss: 2.23622, epoch: 53\n",
            "----------------------------------------------------------------------------------------------------\n"
          ]
        },
        {
          "output_type": "stream",
          "name": "stderr",
          "text": [
            "40it [00:17,  2.23it/s]"
          ]
        },
        {
          "output_type": "stream",
          "name": "stdout",
          "text": [
            "evaluating ...\n"
          ]
        },
        {
          "output_type": "stream",
          "name": "stderr",
          "text": [
            "\n"
          ]
        },
        {
          "output_type": "stream",
          "name": "stdout",
          "text": [
            "epoch 54, weight=0.50000, train-loss=2.40507, optimal-val-loss=0.01223, val-loss=2.23460, \n",
            "evaluation mean square difference (test set): 0.00021\n",
            "save new best model: last-best-loss: 2.23622, new-best-loss: 2.23460, epoch: 54\n",
            "----------------------------------------------------------------------------------------------------\n"
          ]
        },
        {
          "output_type": "stream",
          "name": "stderr",
          "text": [
            "40it [00:18,  2.21it/s]"
          ]
        },
        {
          "output_type": "stream",
          "name": "stdout",
          "text": [
            "evaluating ...\n"
          ]
        },
        {
          "output_type": "stream",
          "name": "stderr",
          "text": [
            "\n"
          ]
        },
        {
          "output_type": "stream",
          "name": "stdout",
          "text": [
            "epoch 55, weight=0.50000, train-loss=2.41469, optimal-val-loss=0.01223, val-loss=2.23395, \n",
            "evaluation mean square difference (test set): 0.00020\n",
            "save new best model: last-best-loss: 2.23460, new-best-loss: 2.23395, epoch: 55\n",
            "----------------------------------------------------------------------------------------------------\n"
          ]
        },
        {
          "output_type": "stream",
          "name": "stderr",
          "text": [
            "40it [00:18,  2.19it/s]"
          ]
        },
        {
          "output_type": "stream",
          "name": "stdout",
          "text": [
            "evaluating ...\n"
          ]
        },
        {
          "output_type": "stream",
          "name": "stderr",
          "text": [
            "\n"
          ]
        },
        {
          "output_type": "stream",
          "name": "stdout",
          "text": [
            "epoch 56, weight=0.50000, train-loss=2.24593, optimal-val-loss=0.01223, val-loss=2.23782, \n",
            "evaluation mean square difference (test set): 0.00024\n",
            "----------------------------------------------------------------------------------------------------\n"
          ]
        },
        {
          "output_type": "stream",
          "name": "stderr",
          "text": [
            "40it [00:18,  2.16it/s]"
          ]
        },
        {
          "output_type": "stream",
          "name": "stdout",
          "text": [
            "evaluating ...\n"
          ]
        },
        {
          "output_type": "stream",
          "name": "stderr",
          "text": [
            "\n"
          ]
        },
        {
          "output_type": "stream",
          "name": "stdout",
          "text": [
            "epoch 57, weight=0.50000, train-loss=2.57427, optimal-val-loss=0.01223, val-loss=2.23871, \n",
            "evaluation mean square difference (test set): 0.00020\n",
            "----------------------------------------------------------------------------------------------------\n"
          ]
        },
        {
          "output_type": "stream",
          "name": "stderr",
          "text": [
            "40it [00:18,  2.13it/s]"
          ]
        },
        {
          "output_type": "stream",
          "name": "stdout",
          "text": [
            "evaluating ...\n"
          ]
        },
        {
          "output_type": "stream",
          "name": "stderr",
          "text": [
            "\n"
          ]
        },
        {
          "output_type": "stream",
          "name": "stdout",
          "text": [
            "epoch 58, weight=0.50000, train-loss=2.27959, optimal-val-loss=0.01223, val-loss=2.23484, \n",
            "evaluation mean square difference (test set): 0.00020\n",
            "----------------------------------------------------------------------------------------------------\n"
          ]
        },
        {
          "output_type": "stream",
          "name": "stderr",
          "text": [
            "40it [00:19,  2.08it/s]"
          ]
        },
        {
          "output_type": "stream",
          "name": "stdout",
          "text": [
            "evaluating ...\n"
          ]
        },
        {
          "output_type": "stream",
          "name": "stderr",
          "text": [
            "\n"
          ]
        },
        {
          "output_type": "stream",
          "name": "stdout",
          "text": [
            "epoch 59, weight=0.50000, train-loss=1.78413, optimal-val-loss=0.01223, val-loss=2.23246, \n",
            "evaluation mean square difference (test set): 0.00021\n",
            "save new best model: last-best-loss: 2.23395, new-best-loss: 2.23246, epoch: 59\n",
            "----------------------------------------------------------------------------------------------------\n"
          ]
        },
        {
          "output_type": "stream",
          "name": "stderr",
          "text": [
            "40it [00:19,  2.07it/s]"
          ]
        },
        {
          "output_type": "stream",
          "name": "stdout",
          "text": [
            "evaluating ...\n"
          ]
        },
        {
          "output_type": "stream",
          "name": "stderr",
          "text": [
            "\n"
          ]
        },
        {
          "output_type": "stream",
          "name": "stdout",
          "text": [
            "epoch 60, weight=0.50000, train-loss=2.16422, optimal-val-loss=0.01223, val-loss=2.23451, \n",
            "evaluation mean square difference (test set): 0.00020\n",
            "----------------------------------------------------------------------------------------------------\n"
          ]
        },
        {
          "output_type": "stream",
          "name": "stderr",
          "text": [
            "40it [00:19,  2.05it/s]"
          ]
        },
        {
          "output_type": "stream",
          "name": "stdout",
          "text": [
            "evaluating ...\n"
          ]
        },
        {
          "output_type": "stream",
          "name": "stderr",
          "text": [
            "\n"
          ]
        },
        {
          "output_type": "stream",
          "name": "stdout",
          "text": [
            "epoch 61, weight=0.50000, train-loss=1.99048, optimal-val-loss=0.01223, val-loss=2.23424, \n",
            "evaluation mean square difference (test set): 0.00021\n",
            "----------------------------------------------------------------------------------------------------\n"
          ]
        },
        {
          "output_type": "stream",
          "name": "stderr",
          "text": [
            "40it [00:19,  2.04it/s]"
          ]
        },
        {
          "output_type": "stream",
          "name": "stdout",
          "text": [
            "evaluating ...\n"
          ]
        },
        {
          "output_type": "stream",
          "name": "stderr",
          "text": [
            "\n"
          ]
        },
        {
          "output_type": "stream",
          "name": "stdout",
          "text": [
            "epoch 62, weight=0.50000, train-loss=2.48398, optimal-val-loss=0.01223, val-loss=2.23152, \n",
            "evaluation mean square difference (test set): 0.00022\n",
            "save new best model: last-best-loss: 2.23246, new-best-loss: 2.23152, epoch: 62\n",
            "----------------------------------------------------------------------------------------------------\n"
          ]
        },
        {
          "output_type": "stream",
          "name": "stderr",
          "text": [
            "40it [00:19,  2.08it/s]"
          ]
        },
        {
          "output_type": "stream",
          "name": "stdout",
          "text": [
            "evaluating ...\n"
          ]
        },
        {
          "output_type": "stream",
          "name": "stderr",
          "text": [
            "\n"
          ]
        },
        {
          "output_type": "stream",
          "name": "stdout",
          "text": [
            "epoch 63, weight=0.50000, train-loss=2.54677, optimal-val-loss=0.01223, val-loss=2.23129, \n",
            "evaluation mean square difference (test set): 0.00020\n",
            "save new best model: last-best-loss: 2.23152, new-best-loss: 2.23129, epoch: 63\n",
            "----------------------------------------------------------------------------------------------------\n"
          ]
        },
        {
          "output_type": "stream",
          "name": "stderr",
          "text": [
            "40it [00:19,  2.05it/s]"
          ]
        },
        {
          "output_type": "stream",
          "name": "stdout",
          "text": [
            "evaluating ...\n"
          ]
        },
        {
          "output_type": "stream",
          "name": "stderr",
          "text": [
            "\n"
          ]
        },
        {
          "output_type": "stream",
          "name": "stdout",
          "text": [
            "epoch 64, weight=0.50000, train-loss=2.17273, optimal-val-loss=0.01223, val-loss=2.23193, \n",
            "evaluation mean square difference (test set): 0.00020\n",
            "----------------------------------------------------------------------------------------------------\n"
          ]
        },
        {
          "output_type": "stream",
          "name": "stderr",
          "text": [
            "40it [00:20,  1.98it/s]"
          ]
        },
        {
          "output_type": "stream",
          "name": "stdout",
          "text": [
            "evaluating ...\n"
          ]
        },
        {
          "output_type": "stream",
          "name": "stderr",
          "text": [
            "\n"
          ]
        },
        {
          "output_type": "stream",
          "name": "stdout",
          "text": [
            "epoch 65, weight=0.50000, train-loss=2.24015, optimal-val-loss=0.01223, val-loss=2.23049, \n",
            "evaluation mean square difference (test set): 0.00020\n",
            "save new best model: last-best-loss: 2.23129, new-best-loss: 2.23049, epoch: 65\n",
            "----------------------------------------------------------------------------------------------------\n"
          ]
        },
        {
          "output_type": "stream",
          "name": "stderr",
          "text": [
            "40it [00:19,  2.06it/s]"
          ]
        },
        {
          "output_type": "stream",
          "name": "stdout",
          "text": [
            "evaluating ...\n"
          ]
        },
        {
          "output_type": "stream",
          "name": "stderr",
          "text": [
            "\n"
          ]
        },
        {
          "output_type": "stream",
          "name": "stdout",
          "text": [
            "epoch 66, weight=0.50000, train-loss=3.07821, optimal-val-loss=0.01223, val-loss=2.23314, \n",
            "evaluation mean square difference (test set): 0.00021\n",
            "----------------------------------------------------------------------------------------------------\n"
          ]
        },
        {
          "output_type": "stream",
          "name": "stderr",
          "text": [
            "40it [00:19,  2.04it/s]"
          ]
        },
        {
          "output_type": "stream",
          "name": "stdout",
          "text": [
            "evaluating ...\n"
          ]
        },
        {
          "output_type": "stream",
          "name": "stderr",
          "text": [
            "\n"
          ]
        },
        {
          "output_type": "stream",
          "name": "stdout",
          "text": [
            "epoch 67, weight=0.50000, train-loss=2.23748, optimal-val-loss=0.01223, val-loss=2.22997, \n",
            "evaluation mean square difference (test set): 0.00020\n",
            "save new best model: last-best-loss: 2.23049, new-best-loss: 2.22997, epoch: 67\n",
            "----------------------------------------------------------------------------------------------------\n"
          ]
        },
        {
          "output_type": "stream",
          "name": "stderr",
          "text": [
            "40it [00:19,  2.04it/s]"
          ]
        },
        {
          "output_type": "stream",
          "name": "stdout",
          "text": [
            "evaluating ...\n"
          ]
        },
        {
          "output_type": "stream",
          "name": "stderr",
          "text": [
            "\n"
          ]
        },
        {
          "output_type": "stream",
          "name": "stdout",
          "text": [
            "epoch 68, weight=0.50000, train-loss=2.52299, optimal-val-loss=0.01223, val-loss=2.22861, \n",
            "evaluation mean square difference (test set): 0.00021\n",
            "save new best model: last-best-loss: 2.22997, new-best-loss: 2.22861, epoch: 68\n",
            "----------------------------------------------------------------------------------------------------\n"
          ]
        },
        {
          "output_type": "stream",
          "name": "stderr",
          "text": [
            "40it [00:19,  2.03it/s]"
          ]
        },
        {
          "output_type": "stream",
          "name": "stdout",
          "text": [
            "evaluating ...\n"
          ]
        },
        {
          "output_type": "stream",
          "name": "stderr",
          "text": [
            "\n"
          ]
        },
        {
          "output_type": "stream",
          "name": "stdout",
          "text": [
            "epoch 69, weight=0.50000, train-loss=2.30366, optimal-val-loss=0.01223, val-loss=2.22764, \n",
            "evaluation mean square difference (test set): 0.00021\n",
            "save new best model: last-best-loss: 2.22861, new-best-loss: 2.22764, epoch: 69\n",
            "----------------------------------------------------------------------------------------------------\n"
          ]
        },
        {
          "output_type": "stream",
          "name": "stderr",
          "text": [
            "40it [00:19,  2.04it/s]"
          ]
        },
        {
          "output_type": "stream",
          "name": "stdout",
          "text": [
            "evaluating ...\n"
          ]
        },
        {
          "output_type": "stream",
          "name": "stderr",
          "text": [
            "\n"
          ]
        },
        {
          "output_type": "stream",
          "name": "stdout",
          "text": [
            "epoch 70, weight=0.50000, train-loss=2.17790, optimal-val-loss=0.01223, val-loss=2.22968, \n",
            "evaluation mean square difference (test set): 0.00020\n",
            "----------------------------------------------------------------------------------------------------\n"
          ]
        },
        {
          "output_type": "stream",
          "name": "stderr",
          "text": [
            "40it [00:19,  2.05it/s]"
          ]
        },
        {
          "output_type": "stream",
          "name": "stdout",
          "text": [
            "evaluating ...\n"
          ]
        },
        {
          "output_type": "stream",
          "name": "stderr",
          "text": [
            "\n"
          ]
        },
        {
          "output_type": "stream",
          "name": "stdout",
          "text": [
            "epoch 71, weight=0.50000, train-loss=2.10431, optimal-val-loss=0.01223, val-loss=2.22885, \n",
            "evaluation mean square difference (test set): 0.00020\n",
            "----------------------------------------------------------------------------------------------------\n"
          ]
        },
        {
          "output_type": "stream",
          "name": "stderr",
          "text": [
            "40it [00:19,  2.05it/s]"
          ]
        },
        {
          "output_type": "stream",
          "name": "stdout",
          "text": [
            "evaluating ...\n"
          ]
        },
        {
          "output_type": "stream",
          "name": "stderr",
          "text": [
            "\n"
          ]
        },
        {
          "output_type": "stream",
          "name": "stdout",
          "text": [
            "epoch 72, weight=0.50000, train-loss=2.30540, optimal-val-loss=0.01223, val-loss=2.22957, \n",
            "evaluation mean square difference (test set): 0.00020\n",
            "----------------------------------------------------------------------------------------------------\n"
          ]
        },
        {
          "output_type": "stream",
          "name": "stderr",
          "text": [
            "40it [00:19,  2.05it/s]"
          ]
        },
        {
          "output_type": "stream",
          "name": "stdout",
          "text": [
            "evaluating ...\n"
          ]
        },
        {
          "output_type": "stream",
          "name": "stderr",
          "text": [
            "\n"
          ]
        },
        {
          "output_type": "stream",
          "name": "stdout",
          "text": [
            "epoch 73, weight=0.50000, train-loss=2.44204, optimal-val-loss=0.01223, val-loss=2.23154, \n",
            "evaluation mean square difference (test set): 0.00021\n",
            "----------------------------------------------------------------------------------------------------\n"
          ]
        },
        {
          "output_type": "stream",
          "name": "stderr",
          "text": [
            "40it [00:19,  2.01it/s]"
          ]
        },
        {
          "output_type": "stream",
          "name": "stdout",
          "text": [
            "evaluating ...\n"
          ]
        },
        {
          "output_type": "stream",
          "name": "stderr",
          "text": [
            "\n"
          ]
        },
        {
          "output_type": "stream",
          "name": "stdout",
          "text": [
            "epoch 74, weight=0.50000, train-loss=2.77790, optimal-val-loss=0.01223, val-loss=2.22626, \n",
            "evaluation mean square difference (test set): 0.00020\n",
            "save new best model: last-best-loss: 2.22764, new-best-loss: 2.22626, epoch: 74\n",
            "----------------------------------------------------------------------------------------------------\n"
          ]
        },
        {
          "output_type": "stream",
          "name": "stderr",
          "text": [
            "40it [00:19,  2.03it/s]"
          ]
        },
        {
          "output_type": "stream",
          "name": "stdout",
          "text": [
            "evaluating ...\n"
          ]
        },
        {
          "output_type": "stream",
          "name": "stderr",
          "text": [
            "\n"
          ]
        },
        {
          "output_type": "stream",
          "name": "stdout",
          "text": [
            "epoch 75, weight=0.50000, train-loss=2.25604, optimal-val-loss=0.01223, val-loss=2.23191, \n",
            "evaluation mean square difference (test set): 0.00020\n",
            "----------------------------------------------------------------------------------------------------\n"
          ]
        },
        {
          "output_type": "stream",
          "name": "stderr",
          "text": [
            "40it [00:19,  2.06it/s]"
          ]
        },
        {
          "output_type": "stream",
          "name": "stdout",
          "text": [
            "evaluating ...\n"
          ]
        },
        {
          "output_type": "stream",
          "name": "stderr",
          "text": [
            "\n"
          ]
        },
        {
          "output_type": "stream",
          "name": "stdout",
          "text": [
            "epoch 76, weight=0.50000, train-loss=2.47441, optimal-val-loss=0.01223, val-loss=2.23001, \n",
            "evaluation mean square difference (test set): 0.00020\n",
            "----------------------------------------------------------------------------------------------------\n"
          ]
        },
        {
          "output_type": "stream",
          "name": "stderr",
          "text": [
            "40it [00:19,  2.05it/s]"
          ]
        },
        {
          "output_type": "stream",
          "name": "stdout",
          "text": [
            "evaluating ...\n"
          ]
        },
        {
          "output_type": "stream",
          "name": "stderr",
          "text": [
            "\n"
          ]
        },
        {
          "output_type": "stream",
          "name": "stdout",
          "text": [
            "epoch 77, weight=0.50000, train-loss=2.20458, optimal-val-loss=0.01223, val-loss=2.22600, \n",
            "evaluation mean square difference (test set): 0.00020\n",
            "save new best model: last-best-loss: 2.22626, new-best-loss: 2.22600, epoch: 77\n",
            "----------------------------------------------------------------------------------------------------\n"
          ]
        },
        {
          "output_type": "stream",
          "name": "stderr",
          "text": [
            "40it [00:19,  2.01it/s]"
          ]
        },
        {
          "output_type": "stream",
          "name": "stdout",
          "text": [
            "evaluating ...\n"
          ]
        },
        {
          "output_type": "stream",
          "name": "stderr",
          "text": [
            "\n"
          ]
        },
        {
          "output_type": "stream",
          "name": "stdout",
          "text": [
            "epoch 78, weight=0.50000, train-loss=2.27266, optimal-val-loss=0.01223, val-loss=2.22531, \n",
            "evaluation mean square difference (test set): 0.00020\n",
            "save new best model: last-best-loss: 2.22600, new-best-loss: 2.22531, epoch: 78\n",
            "----------------------------------------------------------------------------------------------------\n"
          ]
        },
        {
          "output_type": "stream",
          "name": "stderr",
          "text": [
            "40it [00:19,  2.01it/s]"
          ]
        },
        {
          "output_type": "stream",
          "name": "stdout",
          "text": [
            "evaluating ...\n"
          ]
        },
        {
          "output_type": "stream",
          "name": "stderr",
          "text": [
            "\n"
          ]
        },
        {
          "output_type": "stream",
          "name": "stdout",
          "text": [
            "epoch 79, weight=0.50000, train-loss=2.09481, optimal-val-loss=0.01223, val-loss=2.22554, \n",
            "evaluation mean square difference (test set): 0.00020\n",
            "----------------------------------------------------------------------------------------------------\n"
          ]
        },
        {
          "output_type": "stream",
          "name": "stderr",
          "text": [
            "40it [00:19,  2.04it/s]"
          ]
        },
        {
          "output_type": "stream",
          "name": "stdout",
          "text": [
            "evaluating ...\n"
          ]
        },
        {
          "output_type": "stream",
          "name": "stderr",
          "text": [
            "\n"
          ]
        },
        {
          "output_type": "stream",
          "name": "stdout",
          "text": [
            "epoch 80, weight=0.50000, train-loss=2.25246, optimal-val-loss=0.01223, val-loss=2.22458, \n",
            "evaluation mean square difference (test set): 0.00020\n",
            "save new best model: last-best-loss: 2.22531, new-best-loss: 2.22458, epoch: 80\n",
            "----------------------------------------------------------------------------------------------------\n"
          ]
        },
        {
          "output_type": "stream",
          "name": "stderr",
          "text": [
            "40it [00:19,  2.04it/s]"
          ]
        },
        {
          "output_type": "stream",
          "name": "stdout",
          "text": [
            "evaluating ...\n"
          ]
        },
        {
          "output_type": "stream",
          "name": "stderr",
          "text": [
            "\n"
          ]
        },
        {
          "output_type": "stream",
          "name": "stdout",
          "text": [
            "epoch 81, weight=0.50000, train-loss=2.03171, optimal-val-loss=0.01223, val-loss=2.22408, \n",
            "evaluation mean square difference (test set): 0.00021\n",
            "save new best model: last-best-loss: 2.22458, new-best-loss: 2.22408, epoch: 81\n",
            "----------------------------------------------------------------------------------------------------\n"
          ]
        },
        {
          "output_type": "stream",
          "name": "stderr",
          "text": [
            "40it [00:19,  2.04it/s]"
          ]
        },
        {
          "output_type": "stream",
          "name": "stdout",
          "text": [
            "evaluating ...\n"
          ]
        },
        {
          "output_type": "stream",
          "name": "stderr",
          "text": [
            "\n"
          ]
        },
        {
          "output_type": "stream",
          "name": "stdout",
          "text": [
            "epoch 82, weight=0.50000, train-loss=2.49895, optimal-val-loss=0.01223, val-loss=2.22449, \n",
            "evaluation mean square difference (test set): 0.00020\n",
            "----------------------------------------------------------------------------------------------------\n"
          ]
        },
        {
          "output_type": "stream",
          "name": "stderr",
          "text": [
            "40it [00:19,  2.05it/s]"
          ]
        },
        {
          "output_type": "stream",
          "name": "stdout",
          "text": [
            "evaluating ...\n"
          ]
        },
        {
          "output_type": "stream",
          "name": "stderr",
          "text": [
            "\n"
          ]
        },
        {
          "output_type": "stream",
          "name": "stdout",
          "text": [
            "epoch 83, weight=0.50000, train-loss=2.32647, optimal-val-loss=0.01223, val-loss=2.22369, \n",
            "evaluation mean square difference (test set): 0.00021\n",
            "save new best model: last-best-loss: 2.22408, new-best-loss: 2.22369, epoch: 83\n",
            "----------------------------------------------------------------------------------------------------\n"
          ]
        },
        {
          "output_type": "stream",
          "name": "stderr",
          "text": [
            "40it [00:19,  2.02it/s]"
          ]
        },
        {
          "output_type": "stream",
          "name": "stdout",
          "text": [
            "evaluating ...\n"
          ]
        },
        {
          "output_type": "stream",
          "name": "stderr",
          "text": [
            "\n"
          ]
        },
        {
          "output_type": "stream",
          "name": "stdout",
          "text": [
            "epoch 84, weight=0.50000, train-loss=2.42837, optimal-val-loss=0.01223, val-loss=2.22232, \n",
            "evaluation mean square difference (test set): 0.00020\n",
            "save new best model: last-best-loss: 2.22369, new-best-loss: 2.22232, epoch: 84\n",
            "----------------------------------------------------------------------------------------------------\n"
          ]
        },
        {
          "output_type": "stream",
          "name": "stderr",
          "text": [
            "40it [00:19,  2.06it/s]"
          ]
        },
        {
          "output_type": "stream",
          "name": "stdout",
          "text": [
            "evaluating ...\n"
          ]
        },
        {
          "output_type": "stream",
          "name": "stderr",
          "text": [
            "\n"
          ]
        },
        {
          "output_type": "stream",
          "name": "stdout",
          "text": [
            "epoch 85, weight=0.50000, train-loss=2.21410, optimal-val-loss=0.01223, val-loss=2.22480, \n",
            "evaluation mean square difference (test set): 0.00020\n",
            "----------------------------------------------------------------------------------------------------\n"
          ]
        },
        {
          "output_type": "stream",
          "name": "stderr",
          "text": [
            "40it [00:19,  2.04it/s]"
          ]
        },
        {
          "output_type": "stream",
          "name": "stdout",
          "text": [
            "evaluating ...\n"
          ]
        },
        {
          "output_type": "stream",
          "name": "stderr",
          "text": [
            "\n"
          ]
        },
        {
          "output_type": "stream",
          "name": "stdout",
          "text": [
            "epoch 86, weight=0.50000, train-loss=2.04375, optimal-val-loss=0.01223, val-loss=2.22382, \n",
            "evaluation mean square difference (test set): 0.00020\n",
            "----------------------------------------------------------------------------------------------------\n"
          ]
        },
        {
          "output_type": "stream",
          "name": "stderr",
          "text": [
            "40it [00:19,  2.05it/s]"
          ]
        },
        {
          "output_type": "stream",
          "name": "stdout",
          "text": [
            "evaluating ...\n"
          ]
        },
        {
          "output_type": "stream",
          "name": "stderr",
          "text": [
            "\n"
          ]
        },
        {
          "output_type": "stream",
          "name": "stdout",
          "text": [
            "epoch 87, weight=0.50000, train-loss=2.08787, optimal-val-loss=0.01223, val-loss=2.22225, \n",
            "evaluation mean square difference (test set): 0.00020\n",
            "save new best model: last-best-loss: 2.22232, new-best-loss: 2.22225, epoch: 87\n",
            "----------------------------------------------------------------------------------------------------\n"
          ]
        },
        {
          "output_type": "stream",
          "name": "stderr",
          "text": [
            "40it [00:23,  1.69it/s]"
          ]
        },
        {
          "output_type": "stream",
          "name": "stdout",
          "text": [
            "evaluating ...\n"
          ]
        },
        {
          "output_type": "stream",
          "name": "stderr",
          "text": [
            "\n"
          ]
        },
        {
          "output_type": "stream",
          "name": "stdout",
          "text": [
            "epoch 88, weight=0.50000, train-loss=2.65039, optimal-val-loss=0.01223, val-loss=2.22351, \n",
            "evaluation mean square difference (test set): 0.00020\n",
            "----------------------------------------------------------------------------------------------------\n"
          ]
        },
        {
          "output_type": "stream",
          "name": "stderr",
          "text": [
            "40it [00:19,  2.02it/s]"
          ]
        },
        {
          "output_type": "stream",
          "name": "stdout",
          "text": [
            "evaluating ...\n"
          ]
        },
        {
          "output_type": "stream",
          "name": "stderr",
          "text": [
            "\n"
          ]
        },
        {
          "output_type": "stream",
          "name": "stdout",
          "text": [
            "epoch 89, weight=0.50000, train-loss=2.09760, optimal-val-loss=0.01223, val-loss=2.22280, \n",
            "evaluation mean square difference (test set): 0.00021\n",
            "----------------------------------------------------------------------------------------------------\n"
          ]
        },
        {
          "output_type": "stream",
          "name": "stderr",
          "text": [
            "40it [00:19,  2.04it/s]"
          ]
        },
        {
          "output_type": "stream",
          "name": "stdout",
          "text": [
            "evaluating ...\n"
          ]
        },
        {
          "output_type": "stream",
          "name": "stderr",
          "text": [
            "\n"
          ]
        },
        {
          "output_type": "stream",
          "name": "stdout",
          "text": [
            "epoch 90, weight=0.50000, train-loss=2.04636, optimal-val-loss=0.01223, val-loss=2.22467, \n",
            "evaluation mean square difference (test set): 0.00020\n",
            "----------------------------------------------------------------------------------------------------\n"
          ]
        },
        {
          "output_type": "stream",
          "name": "stderr",
          "text": [
            "40it [00:19,  2.02it/s]"
          ]
        },
        {
          "output_type": "stream",
          "name": "stdout",
          "text": [
            "evaluating ...\n"
          ]
        },
        {
          "output_type": "stream",
          "name": "stderr",
          "text": [
            "\n"
          ]
        },
        {
          "output_type": "stream",
          "name": "stdout",
          "text": [
            "epoch 91, weight=0.50000, train-loss=1.96399, optimal-val-loss=0.01223, val-loss=2.22330, \n",
            "evaluation mean square difference (test set): 0.00020\n",
            "----------------------------------------------------------------------------------------------------\n"
          ]
        },
        {
          "output_type": "stream",
          "name": "stderr",
          "text": [
            "40it [00:19,  2.05it/s]"
          ]
        },
        {
          "output_type": "stream",
          "name": "stdout",
          "text": [
            "evaluating ...\n"
          ]
        },
        {
          "output_type": "stream",
          "name": "stderr",
          "text": [
            "\n"
          ]
        },
        {
          "output_type": "stream",
          "name": "stdout",
          "text": [
            "epoch 92, weight=0.50000, train-loss=2.35488, optimal-val-loss=0.01223, val-loss=2.22071, \n",
            "evaluation mean square difference (test set): 0.00020\n",
            "save new best model: last-best-loss: 2.22225, new-best-loss: 2.22071, epoch: 92\n",
            "----------------------------------------------------------------------------------------------------\n"
          ]
        },
        {
          "output_type": "stream",
          "name": "stderr",
          "text": [
            "40it [00:19,  2.05it/s]"
          ]
        },
        {
          "output_type": "stream",
          "name": "stdout",
          "text": [
            "evaluating ...\n"
          ]
        },
        {
          "output_type": "stream",
          "name": "stderr",
          "text": [
            "\n"
          ]
        },
        {
          "output_type": "stream",
          "name": "stdout",
          "text": [
            "epoch 93, weight=0.50000, train-loss=2.31324, optimal-val-loss=0.01223, val-loss=2.22091, \n",
            "evaluation mean square difference (test set): 0.00021\n",
            "----------------------------------------------------------------------------------------------------\n"
          ]
        },
        {
          "output_type": "stream",
          "name": "stderr",
          "text": [
            "40it [00:19,  2.04it/s]"
          ]
        },
        {
          "output_type": "stream",
          "name": "stdout",
          "text": [
            "evaluating ...\n"
          ]
        },
        {
          "output_type": "stream",
          "name": "stderr",
          "text": [
            "\n"
          ]
        },
        {
          "output_type": "stream",
          "name": "stdout",
          "text": [
            "epoch 94, weight=0.50000, train-loss=2.28054, optimal-val-loss=0.01223, val-loss=2.22063, \n",
            "evaluation mean square difference (test set): 0.00020\n",
            "save new best model: last-best-loss: 2.22071, new-best-loss: 2.22063, epoch: 94\n",
            "----------------------------------------------------------------------------------------------------\n"
          ]
        },
        {
          "output_type": "stream",
          "name": "stderr",
          "text": [
            "40it [00:19,  2.06it/s]"
          ]
        },
        {
          "output_type": "stream",
          "name": "stdout",
          "text": [
            "evaluating ...\n"
          ]
        },
        {
          "output_type": "stream",
          "name": "stderr",
          "text": [
            "\n"
          ]
        },
        {
          "output_type": "stream",
          "name": "stdout",
          "text": [
            "epoch 95, weight=0.50000, train-loss=2.08165, optimal-val-loss=0.01223, val-loss=2.21970, \n",
            "evaluation mean square difference (test set): 0.00020\n",
            "save new best model: last-best-loss: 2.22063, new-best-loss: 2.21970, epoch: 95\n",
            "----------------------------------------------------------------------------------------------------\n"
          ]
        },
        {
          "output_type": "stream",
          "name": "stderr",
          "text": [
            "40it [00:19,  2.04it/s]"
          ]
        },
        {
          "output_type": "stream",
          "name": "stdout",
          "text": [
            "evaluating ...\n"
          ]
        },
        {
          "output_type": "stream",
          "name": "stderr",
          "text": [
            "\n"
          ]
        },
        {
          "output_type": "stream",
          "name": "stdout",
          "text": [
            "epoch 96, weight=0.50000, train-loss=2.40488, optimal-val-loss=0.01223, val-loss=2.21864, \n",
            "evaluation mean square difference (test set): 0.00020\n",
            "save new best model: last-best-loss: 2.21970, new-best-loss: 2.21864, epoch: 96\n",
            "----------------------------------------------------------------------------------------------------\n"
          ]
        },
        {
          "output_type": "stream",
          "name": "stderr",
          "text": [
            "40it [00:19,  2.05it/s]"
          ]
        },
        {
          "output_type": "stream",
          "name": "stdout",
          "text": [
            "evaluating ...\n"
          ]
        },
        {
          "output_type": "stream",
          "name": "stderr",
          "text": [
            "\n"
          ]
        },
        {
          "output_type": "stream",
          "name": "stdout",
          "text": [
            "epoch 97, weight=0.50000, train-loss=2.36030, optimal-val-loss=0.01223, val-loss=2.22016, \n",
            "evaluation mean square difference (test set): 0.00020\n",
            "----------------------------------------------------------------------------------------------------\n"
          ]
        },
        {
          "output_type": "stream",
          "name": "stderr",
          "text": [
            "40it [00:19,  2.04it/s]"
          ]
        },
        {
          "output_type": "stream",
          "name": "stdout",
          "text": [
            "evaluating ...\n"
          ]
        },
        {
          "output_type": "stream",
          "name": "stderr",
          "text": [
            "\n"
          ]
        },
        {
          "output_type": "stream",
          "name": "stdout",
          "text": [
            "epoch 98, weight=0.50000, train-loss=2.32637, optimal-val-loss=0.01223, val-loss=2.21900, \n",
            "evaluation mean square difference (test set): 0.00020\n",
            "----------------------------------------------------------------------------------------------------\n"
          ]
        },
        {
          "output_type": "stream",
          "name": "stderr",
          "text": [
            "40it [00:19,  2.03it/s]"
          ]
        },
        {
          "output_type": "stream",
          "name": "stdout",
          "text": [
            "evaluating ...\n"
          ]
        },
        {
          "output_type": "stream",
          "name": "stderr",
          "text": [
            "\n"
          ]
        },
        {
          "output_type": "stream",
          "name": "stdout",
          "text": [
            "epoch 99, weight=0.50000, train-loss=2.28965, optimal-val-loss=0.01223, val-loss=2.21791, \n",
            "evaluation mean square difference (test set): 0.00020\n",
            "save new best model: last-best-loss: 2.21864, new-best-loss: 2.21791, epoch: 99\n",
            "----------------------------------------------------------------------------------------------------\n"
          ]
        },
        {
          "output_type": "stream",
          "name": "stderr",
          "text": [
            "40it [00:19,  2.08it/s]"
          ]
        },
        {
          "output_type": "stream",
          "name": "stdout",
          "text": [
            "evaluating ...\n"
          ]
        },
        {
          "output_type": "stream",
          "name": "stderr",
          "text": [
            "\n"
          ]
        },
        {
          "output_type": "stream",
          "name": "stdout",
          "text": [
            "epoch 100, weight=0.50000, train-loss=1.96164, optimal-val-loss=0.01223, val-loss=2.21879, \n",
            "evaluation mean square difference (test set): 0.00020\n",
            "----------------------------------------------------------------------------------------------------\n"
          ]
        }
      ],
      "source": [
        "model, df_metric, dl, dl_val, dl_test, stockmodel, stockmodel_test = train(**param_dict_BM)"
      ]
    },
    {
      "cell_type": "code",
      "execution_count": null,
      "metadata": {
        "colab": {
          "base_uri": "https://localhost:8080/",
          "height": 917
        },
        "id": "xef3GwObxfa3",
        "outputId": "0e98ff1a-9026-4497-804f-8a8354ee1d61"
      },
      "outputs": [
        {
          "output_type": "display_data",
          "data": {
            "text/plain": [
              "<Figure size 640x480 with 1 Axes>"
            ],
            "image/png": "[encoded data removed]"
          },
          "metadata": {}
        },
        {
          "output_type": "display_data",
          "data": {
            "text/plain": [
              "<Figure size 640x480 with 1 Axes>"
            ],
            "image/png": "[encoded data removed]"
          },
          "metadata": {}
        },
        {
          "output_type": "stream",
          "name": "stdout",
          "text": [
            "optimal loss (test): 0.012233841426095819\n",
            "model loss   (test): 2.412797451019287\n"
          ]
        }
      ],
      "source": [
        "batch = next(iter(dl_test))\n",
        "\n",
        "opt_loss, current_model_loss = plot_one_path_with_pred(\n",
        "    device=None, model=model, batch=batch, stockmodel=stockmodel_test,\n",
        "    delta_t=dataset_mu_metadata[\"dt\"], T=dataset_mu_metadata[\"maturity\"],\n",
        "    path_to_plot=(0,1), reuse_cond_exp=False,)\n",
        "print('optimal loss (test): {}'.format(opt_loss))\n",
        "print('model loss   (test): {}'.format(current_model_loss))"
      ]
    },
    {
      "cell_type": "markdown",
      "metadata": {
        "id": "xieO_jBkLbYD"
      },
      "source": [
        "# Generate new paths"
      ]
    },
    {
      "cell_type": "code",
      "execution_count": null,
      "metadata": {
        "id": "ZSkUTmKOJ5Qk"
      },
      "outputs": [],
      "source": [
        "def generate_next_value( X_t, mu_t, sigma_t, delta_t):\n",
        "   \"\"\"\n",
        "   Generate the next value in the time series using the Euler-Maruyama scheme.\n",
        "\n",
        "   :param X_t: current value tensor of shape (batch_size, d)\n",
        "   :param mu_t: drift coefficient tensor of shape (batch_size, d)\n",
        "   :param sigma_t: diffusion coefficient tensor of shape ( d, d)\n",
        "   :param delta_t: time difference float\n",
        "   :return: next value tensor of shape (batch_size, d)\n",
        "   \"\"\"\n",
        "   delta_Wt = torch.randn_like(X_t) * np.sqrt(delta_t)\n",
        "   delta_Wt_sigma_t = delta_Wt * sigma_t\n",
        "   X_t_next = X_t + mu_t * delta_t + delta_Wt_sigma_t\n",
        "   return X_t_next\n",
        "\n"
      ]
    },
    {
      "cell_type": "code",
      "source": [
        "batch_size=1\n",
        "dim=1\n",
        "times=np.array([])\n",
        "time_ptr = np.array([0])\n",
        "obs_idx = torch.tensor([],dtype=torch.long)\n",
        "Z = torch.tensor([], dtype=torch.float)\n",
        "delta_t=0.01\n",
        "X= torch.tensor([], dtype=torch.float)\n",
        "start_X = torch.tensor([1.0, 1.0**2], dtype=torch.float).unsqueeze(0)\n",
        "start_X = start_X.repeat(batch_size, dim)\n",
        "n_obs_ot=torch.tensor([0]*batch_size, dtype=torch.float)\n",
        "count=0\n",
        "\n",
        "T=0.01\n",
        "pred1=model.get_pred(times, time_ptr, X, obs_idx, delta_t, T, start_X, n_obs_ot)[\"pred\"][-1]\n",
        "mu_hat = (pred1[:,0] - start_X[:,0])/delta_t\n",
        "sigma_hat =  (pred1[:,1] - start_X[:,0]**2)/delta_t - 2*start_X[:,0]*mu_hat"
      ],
      "metadata": {
        "id": "7cyAqd0ccV8v"
      },
      "execution_count": null,
      "outputs": []
    },
    {
      "cell_type": "code",
      "source": [
        "mu_hat"
      ],
      "metadata": {
        "colab": {
          "base_uri": "https://localhost:8080/"
        },
        "id": "F0PgGhWXccDm",
        "outputId": "8ed2fd2c-872f-4a96-a07a-eec09db3f3de"
      },
      "execution_count": null,
      "outputs": [
        {
          "output_type": "execute_result",
          "data": {
            "text/plain": [
              "tensor([2.6189], grad_fn=<DivBackward0>)"
            ]
          },
          "metadata": {},
          "execution_count": 109
        }
      ]
    },
    {
      "cell_type": "code",
      "source": [
        "sigma_hat"
      ],
      "metadata": {
        "colab": {
          "base_uri": "https://localhost:8080/"
        },
        "id": "k9aplsTilxuF",
        "outputId": "cb76aaac-f392-4044-d347-d1c62fd2461c"
      },
      "execution_count": null,
      "outputs": [
        {
          "output_type": "execute_result",
          "data": {
            "text/plain": [
              "tensor([17.9515], grad_fn=<SubBackward0>)"
            ]
          },
          "metadata": {},
          "execution_count": 110
        }
      ]
    },
    {
      "cell_type": "code",
      "execution_count": null,
      "metadata": {
        "id": "1DG9Vl3kcymT"
      },
      "outputs": [],
      "source": [
        "batch_size=10\n",
        "dim=1\n",
        "times=np.array([])\n",
        "time_ptr = np.array([0])\n",
        "obs_idx = torch.tensor([],dtype=torch.long)\n",
        "delta_t=0.01\n",
        "X= torch.tensor([], dtype=torch.float)\n",
        "start_X_value = 1.0\n",
        "start_X = torch.tensor([[start_X_value, start_X_value**2]], dtype=torch.float).repeat(batch_size, 1)\n",
        "n_obs_ot=torch.tensor([0]*batch_size, dtype=torch.float)\n",
        "count=0\n",
        "for i in range(1, 101):\n",
        "\n",
        "    T=delta_t*i\n",
        "\n",
        "    pred=model.get_pred(times, time_ptr, X, obs_idx, delta_t, T, start_X, n_obs_ot)[\"pred\"][-1]\n",
        "\n",
        "    if i==1:\n",
        "        X_t=start_X\n",
        "    else:\n",
        "        X_t = X_next\n",
        "\n",
        "\n",
        "    mu_hat_t = (pred[:,0] - X_t[:,0])/delta_t\n",
        "    sigma_hat_t =  (pred[:,1] - X_t[:,0]*X_t[:,0])/delta_t - 2*X_t[:,0]*mu_hat_t\n",
        "\n",
        "\n",
        "    vol = torch.sqrt(sigma_hat_t)\n",
        "\n",
        "    X_next = generate_next_value(X_t[:,0].unsqueeze(1), mu_hat_t.unsqueeze(1), vol.unsqueeze(1), delta_t)\n",
        "    X_next = torch.cat((X_next, X_next**2), dim=1)\n",
        "\n",
        "\n",
        "    X=torch.cat((X, X_next), dim=0)\n",
        "    times=np.append(times, delta_t*i)\n",
        "    time_ptr = np.append(time_ptr, i*batch_size)\n",
        "    obs_idx=torch.cat((obs_idx, torch.arange(batch_size)))\n",
        "    n_obs_ot+=torch.tensor([1]*batch_size, dtype=torch.float)\n",
        "X_new1 = X.view(100, batch_size, 2).permute(1, 2, 0)\n",
        "start_X_expanded1 = start_X.unsqueeze(2)\n",
        "X_final1=torch.cat((start_X_expanded1, X_new1), dim=2)"
      ]
    },
    {
      "cell_type": "markdown",
      "metadata": {
        "id": "gn33EjZerXzJ"
      },
      "source": [
        "## Parameter estimates and Graphs"
      ]
    },
    {
      "cell_type": "code",
      "execution_count": null,
      "metadata": {
        "id": "NJ0cCZOhMoBd"
      },
      "outputs": [],
      "source": [
        "import matplotlib.pyplot as plt\n",
        "import numpy as np\n",
        "import pandas as pd\n",
        "import torch\n",
        "\n",
        "# Compare (visualize) paths\n",
        "def compare_path(x_real, x_fake, titles=[\"Real\", \"Fake\"], file_path=None, return_figax=False, dim=0, plot_size=100):\n",
        "    fig, ax = plt.subplots(1, 2, figsize=[12, 4], sharex=True, sharey=True)\n",
        "    ax[0].plot(\n",
        "        x_real[:plot_size].numpy().T,\n",
        "        alpha=0.3,\n",
        "        marker=\"o\",\n",
        "        linewidth=1,\n",
        "        markersize=1,\n",
        "    )\n",
        "\n",
        "    ax[1].plot(\n",
        "        x_fake[:plot_size].numpy().T,\n",
        "        alpha=0.3,\n",
        "        marker=\"o\",\n",
        "        linewidth=1,\n",
        "        markersize=1,\n",
        "    )\n",
        "\n",
        "    if titles:\n",
        "        ax[0].set_title(titles[0])\n",
        "        ax[1].set_title(titles[1])\n",
        "\n",
        "    for i in range(2):\n",
        "        ax[i].set_xlabel(\"Time\")\n",
        "        ax[i].set_ylabel(\"Prices\")\n",
        "    if return_figax:\n",
        "        return fig, ax\n",
        "    if file_path is None:\n",
        "        plt.show()\n",
        "    else:\n",
        "        fig.savefig(os.path.join(file_path, 'bs_term.png'))\n",
        "    plt.close()"
      ]
    },
    {
      "cell_type": "code",
      "execution_count": null,
      "metadata": {
        "id": "4cwGo8fEhk1x"
      },
      "outputs": [],
      "source": [
        "def estimate_params(X, dt=0.01):\n",
        "  rets = np.log(X[:,1:]/X[:,:-1])\n",
        "  #rets=X[:,1:]/X[:,:-1]-1\n",
        "  r=rets.ravel()\n",
        "\n",
        "  m=np.mean(r)\n",
        "  s=np.std(r)\n",
        "\n",
        "  sigma=s/np.sqrt(dt)\n",
        "  mu=m/dt+0.5*sigma**2\n",
        "  return mu, sigma\n",
        "  #return m, s"
      ]
    },
    {
      "cell_type": "code",
      "source": [
        "compare_path(torch.tensor(dataset_mu[0][:,0,:]),X_final1[:,0,:].detach(),plot_size=5)"
      ],
      "metadata": {
        "colab": {
          "base_uri": "https://localhost:8080/",
          "height": 410
        },
        "id": "LMldHAAjojAW",
        "outputId": "3a1a307e-0fd2-4317-a889-6abc1e9a9569"
      },
      "execution_count": null,
      "outputs": [
        {
          "output_type": "display_data",
          "data": {
            "text/plain": [
              "<Figure size 1200x400 with 2 Axes>"
            ],
            "image/png": "[encoded data removed]"
          },
          "metadata": {}
        }
      ]
    },
    {
      "cell_type": "code",
      "execution_count": null,
      "metadata": {
        "colab": {
          "base_uri": "https://localhost:8080/",
          "height": 410
        },
        "id": "AWGbMtWLl3m5",
        "outputId": "3d9e2b82-4079-4eec-c979-b3d052ee4178"
      },
      "outputs": [
        {
          "output_type": "display_data",
          "data": {
            "text/plain": [
              "<Figure size 1200x400 with 2 Axes>"
            ],
            "image/png": "[encoded data removed]"
          },
          "metadata": {}
        }
      ],
      "source": [
        "compare_path(torch.tensor(dataset_mu[0][:,0,:]),X_final1[:,0,:].detach(),plot_size=10)"
      ]
    }
  ],
  "metadata": {
    "accelerator": "GPU",
    "colab": {
      "gpuType": "T4",
      "provenance": []
    },
    "kernelspec": {
      "display_name": "Python 3",
      "name": "python3"
    },
    "language_info": {
      "name": "python"
    }
  },
  "nbformat": 4,
  "nbformat_minor": 0
}
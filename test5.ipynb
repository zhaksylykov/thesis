{
 "cells": [
  {
   "cell_type": "code",
   "execution_count": 124,
   "id": "initial_id",
   "metadata": {
    "collapsed": true,
    "ExecuteTime": {
     "end_time": "2025-04-11T12:03:34.288305200Z",
     "start_time": "2025-04-11T12:03:32.807626600Z"
    }
   },
   "outputs": [],
   "source": [
    "import math\n",
    "import torch\n",
    "import torch.nn as nn\n",
    "from torch.utils.data import Dataset, DataLoader\n",
    "import numpy as np\n",
    "import matplotlib.pyplot as plt"
   ]
  },
  {
   "cell_type": "code",
   "execution_count": 4,
   "outputs": [
    {
     "name": "stdout",
     "output_type": "stream",
     "text": [
      "param_dict: {'epochs': [200], 'batch_size': [200], 'save_every': [5], 'learning_rate': [0.001], 'test_size': [0.2], 'seed': [398], 'hidden_size': [10], 'bias': [True], 'dropout_rate': [0.1], 'ode_nn': [((50, 'tanh'), (50, 'tanh'))], 'readout_nn': [((50, 'tanh'), (50, 'tanh'))], 'enc_nn': [((50, 'tanh'), (50, 'tanh'))], 'use_rnn': [False], 'func_appl_X': [[]], 'solver': ['euler'], 'weight': [0.5], 'weight_decay': [1.0], 'dataset': ['BlackScholes', 'Heston', 'OrnsteinUhlenbeck'], 'dataset_id': [None], 'plot': [True], 'evaluate': [True], 'paths_to_plot': [(0, 1, 2, 3, 4)]}\n",
      "param_dict: {'epochs': [100], 'batch_size': [20], 'save_every': [10], 'learning_rate': [0.001], 'test_size': [0.2], 'training_size': [200, 400, 800, 1600, 3200, 6400, 12800], 'seed': [398], 'hidden_size': [10], 'bias': [True], 'dropout_rate': [0.1], 'ode_nn': [((10, 'tanh'), (10, 'tanh'))], 'readout_nn': [((10, 'tanh'), (10, 'tanh'))], 'enc_nn': [((10, 'tanh'), (10, 'tanh'))], 'use_rnn': [False], 'func_appl_X': [[]], 'solver': ['euler'], 'weight': [0.5], 'weight_decay': [1.0], 'dataset': ['Heston'], 'dataset_id': [None], 'plot': [True], 'paths_to_plot': [(0,)], 'saved_models_path': ['../data/conv-study-Heston-saved_models/'], 'evaluate': [True]}\n",
      "param_dict: {'epochs': [100], 'batch_size': [20], 'save_every': [10], 'learning_rate': [0.001], 'test_size': [0.2], 'training_size': [200, 400, 800, 1600, 3200, 6400, 12800], 'seed': [398], 'hidden_size': [10], 'bias': [True], 'dropout_rate': [0.1], 'ode_nn': [((20, 'tanh'), (20, 'tanh'))], 'readout_nn': [((20, 'tanh'), (20, 'tanh'))], 'enc_nn': [((20, 'tanh'), (20, 'tanh'))], 'use_rnn': [False], 'func_appl_X': [[]], 'solver': ['euler'], 'weight': [0.5], 'weight_decay': [1.0], 'dataset': ['Heston'], 'dataset_id': [None], 'plot': [True], 'paths_to_plot': [(0,)], 'saved_models_path': ['../data/conv-study-Heston-saved_models/'], 'evaluate': [True]}\n",
      "param_dict: {'epochs': [100], 'batch_size': [20], 'save_every': [10], 'learning_rate': [0.001], 'test_size': [0.2], 'training_size': [200, 400, 800, 1600, 3200, 6400, 12800], 'seed': [398], 'hidden_size': [10], 'bias': [True], 'dropout_rate': [0.1], 'ode_nn': [((40, 'tanh'), (40, 'tanh'))], 'readout_nn': [((40, 'tanh'), (40, 'tanh'))], 'enc_nn': [((40, 'tanh'), (40, 'tanh'))], 'use_rnn': [False], 'func_appl_X': [[]], 'solver': ['euler'], 'weight': [0.5], 'weight_decay': [1.0], 'dataset': ['Heston'], 'dataset_id': [None], 'plot': [True], 'paths_to_plot': [(0,)], 'saved_models_path': ['../data/conv-study-Heston-saved_models/'], 'evaluate': [True]}\n",
      "param_dict: {'epochs': [100], 'batch_size': [20], 'save_every': [10], 'learning_rate': [0.001], 'test_size': [0.2], 'training_size': [200, 400, 800, 1600, 3200, 6400, 12800], 'seed': [398], 'hidden_size': [10], 'bias': [True], 'dropout_rate': [0.1], 'ode_nn': [((80, 'tanh'), (80, 'tanh'))], 'readout_nn': [((80, 'tanh'), (80, 'tanh'))], 'enc_nn': [((80, 'tanh'), (80, 'tanh'))], 'use_rnn': [False], 'func_appl_X': [[]], 'solver': ['euler'], 'weight': [0.5], 'weight_decay': [1.0], 'dataset': ['Heston'], 'dataset_id': [None], 'plot': [True], 'paths_to_plot': [(0,)], 'saved_models_path': ['../data/conv-study-Heston-saved_models/'], 'evaluate': [True]}\n",
      "param_dict: {'epochs': [100], 'batch_size': [20], 'save_every': [10], 'learning_rate': [0.001], 'test_size': [0.2], 'training_size': [200, 400, 800, 1600, 3200, 6400, 12800], 'seed': [398], 'hidden_size': [10], 'bias': [True], 'dropout_rate': [0.1], 'ode_nn': [((160, 'tanh'), (160, 'tanh'))], 'readout_nn': [((160, 'tanh'), (160, 'tanh'))], 'enc_nn': [((160, 'tanh'), (160, 'tanh'))], 'use_rnn': [False], 'func_appl_X': [[]], 'solver': ['euler'], 'weight': [0.5], 'weight_decay': [1.0], 'dataset': ['Heston'], 'dataset_id': [None], 'plot': [True], 'paths_to_plot': [(0,)], 'saved_models_path': ['../data/conv-study-Heston-saved_models/'], 'evaluate': [True]}\n",
      "param_dict: {'epochs': [100], 'batch_size': [20], 'save_every': [10], 'learning_rate': [0.001], 'test_size': [0.2], 'training_size': [200, 400, 800, 1600, 3200, 6400, 12800], 'seed': [398], 'hidden_size': [10], 'bias': [True], 'dropout_rate': [0.1], 'ode_nn': [((320, 'tanh'), (320, 'tanh'))], 'readout_nn': [((320, 'tanh'), (320, 'tanh'))], 'enc_nn': [((320, 'tanh'), (320, 'tanh'))], 'use_rnn': [False], 'func_appl_X': [[]], 'solver': ['euler'], 'weight': [0.5], 'weight_decay': [1.0], 'dataset': ['Heston'], 'dataset_id': [None], 'plot': [True], 'paths_to_plot': [(0,)], 'saved_models_path': ['../data/conv-study-Heston-saved_models/'], 'evaluate': [True]}\n",
      "param_dict: {'epochs': [100], 'batch_size': [20], 'save_every': [10], 'learning_rate': [0.001], 'test_size': [0.2], 'training_size': [200, 400, 800, 1600, 3200, 6400, 12800], 'seed': [398], 'hidden_size': [10], 'bias': [True], 'dropout_rate': [0.1], 'ode_nn': [((10, 'tanh'), (10, 'tanh'))], 'readout_nn': [((10, 'tanh'), (10, 'tanh'))], 'enc_nn': [((10, 'tanh'), (10, 'tanh'))], 'use_rnn': [False], 'func_appl_X': [[]], 'solver': ['euler'], 'weight': [0.5], 'weight_decay': [1.0], 'dataset': ['BlackScholes'], 'dataset_id': [None], 'plot': [True], 'paths_to_plot': [(0,)], 'saved_models_path': ['../data/conv-study-BS-saved_models/'], 'evaluate': [True]}\n",
      "param_dict: {'epochs': [100], 'batch_size': [20], 'save_every': [10], 'learning_rate': [0.001], 'test_size': [0.2], 'training_size': [200, 400, 800, 1600, 3200, 6400, 12800], 'seed': [398], 'hidden_size': [10], 'bias': [True], 'dropout_rate': [0.1], 'ode_nn': [((20, 'tanh'), (20, 'tanh'))], 'readout_nn': [((20, 'tanh'), (20, 'tanh'))], 'enc_nn': [((20, 'tanh'), (20, 'tanh'))], 'use_rnn': [False], 'func_appl_X': [[]], 'solver': ['euler'], 'weight': [0.5], 'weight_decay': [1.0], 'dataset': ['BlackScholes'], 'dataset_id': [None], 'plot': [True], 'paths_to_plot': [(0,)], 'saved_models_path': ['../data/conv-study-BS-saved_models/'], 'evaluate': [True]}\n",
      "param_dict: {'epochs': [100], 'batch_size': [20], 'save_every': [10], 'learning_rate': [0.001], 'test_size': [0.2], 'training_size': [200, 400, 800, 1600, 3200, 6400, 12800], 'seed': [398], 'hidden_size': [10], 'bias': [True], 'dropout_rate': [0.1], 'ode_nn': [((40, 'tanh'), (40, 'tanh'))], 'readout_nn': [((40, 'tanh'), (40, 'tanh'))], 'enc_nn': [((40, 'tanh'), (40, 'tanh'))], 'use_rnn': [False], 'func_appl_X': [[]], 'solver': ['euler'], 'weight': [0.5], 'weight_decay': [1.0], 'dataset': ['BlackScholes'], 'dataset_id': [None], 'plot': [True], 'paths_to_plot': [(0,)], 'saved_models_path': ['../data/conv-study-BS-saved_models/'], 'evaluate': [True]}\n",
      "param_dict: {'epochs': [100], 'batch_size': [20], 'save_every': [10], 'learning_rate': [0.001], 'test_size': [0.2], 'training_size': [200, 400, 800, 1600, 3200, 6400, 12800], 'seed': [398], 'hidden_size': [10], 'bias': [True], 'dropout_rate': [0.1], 'ode_nn': [((80, 'tanh'), (80, 'tanh'))], 'readout_nn': [((80, 'tanh'), (80, 'tanh'))], 'enc_nn': [((80, 'tanh'), (80, 'tanh'))], 'use_rnn': [False], 'func_appl_X': [[]], 'solver': ['euler'], 'weight': [0.5], 'weight_decay': [1.0], 'dataset': ['BlackScholes'], 'dataset_id': [None], 'plot': [True], 'paths_to_plot': [(0,)], 'saved_models_path': ['../data/conv-study-BS-saved_models/'], 'evaluate': [True]}\n",
      "param_dict: {'epochs': [100], 'batch_size': [20], 'save_every': [10], 'learning_rate': [0.001], 'test_size': [0.2], 'training_size': [200, 400, 800, 1600, 3200, 6400, 12800], 'seed': [398], 'hidden_size': [10], 'bias': [True], 'dropout_rate': [0.1], 'ode_nn': [((160, 'tanh'), (160, 'tanh'))], 'readout_nn': [((160, 'tanh'), (160, 'tanh'))], 'enc_nn': [((160, 'tanh'), (160, 'tanh'))], 'use_rnn': [False], 'func_appl_X': [[]], 'solver': ['euler'], 'weight': [0.5], 'weight_decay': [1.0], 'dataset': ['BlackScholes'], 'dataset_id': [None], 'plot': [True], 'paths_to_plot': [(0,)], 'saved_models_path': ['../data/conv-study-BS-saved_models/'], 'evaluate': [True]}\n",
      "param_dict: {'epochs': [100], 'batch_size': [20], 'save_every': [10], 'learning_rate': [0.001], 'test_size': [0.2], 'training_size': [200, 400, 800, 1600, 3200, 6400, 12800], 'seed': [398], 'hidden_size': [10], 'bias': [True], 'dropout_rate': [0.1], 'ode_nn': [((320, 'tanh'), (320, 'tanh'))], 'readout_nn': [((320, 'tanh'), (320, 'tanh'))], 'enc_nn': [((320, 'tanh'), (320, 'tanh'))], 'use_rnn': [False], 'func_appl_X': [[]], 'solver': ['euler'], 'weight': [0.5], 'weight_decay': [1.0], 'dataset': ['BlackScholes'], 'dataset_id': [None], 'plot': [True], 'paths_to_plot': [(0,)], 'saved_models_path': ['../data/conv-study-BS-saved_models/'], 'evaluate': [True]}\n",
      "param_dict: {'epochs': [100], 'batch_size': [20], 'save_every': [10], 'learning_rate': [0.001], 'test_size': [0.2], 'training_size': [200, 400, 800, 1600, 3200, 6400, 12800], 'seed': [398], 'hidden_size': [10], 'bias': [True], 'dropout_rate': [0.1], 'ode_nn': [((10, 'tanh'), (10, 'tanh'))], 'readout_nn': [((10, 'tanh'), (10, 'tanh'))], 'enc_nn': [((10, 'tanh'), (10, 'tanh'))], 'use_rnn': [False], 'func_appl_X': [[]], 'solver': ['euler'], 'weight': [0.5], 'weight_decay': [1.0], 'dataset': ['OrnsteinUhlenbeck'], 'dataset_id': [None], 'plot': [True], 'paths_to_plot': [(0,)], 'saved_models_path': ['../data/conv-study-OU-saved_models/'], 'evaluate': [True]}\n",
      "param_dict: {'epochs': [100], 'batch_size': [20], 'save_every': [10], 'learning_rate': [0.001], 'test_size': [0.2], 'training_size': [200, 400, 800, 1600, 3200, 6400, 12800], 'seed': [398], 'hidden_size': [10], 'bias': [True], 'dropout_rate': [0.1], 'ode_nn': [((20, 'tanh'), (20, 'tanh'))], 'readout_nn': [((20, 'tanh'), (20, 'tanh'))], 'enc_nn': [((20, 'tanh'), (20, 'tanh'))], 'use_rnn': [False], 'func_appl_X': [[]], 'solver': ['euler'], 'weight': [0.5], 'weight_decay': [1.0], 'dataset': ['OrnsteinUhlenbeck'], 'dataset_id': [None], 'plot': [True], 'paths_to_plot': [(0,)], 'saved_models_path': ['../data/conv-study-OU-saved_models/'], 'evaluate': [True]}\n",
      "param_dict: {'epochs': [100], 'batch_size': [20], 'save_every': [10], 'learning_rate': [0.001], 'test_size': [0.2], 'training_size': [200, 400, 800, 1600, 3200, 6400, 12800], 'seed': [398], 'hidden_size': [10], 'bias': [True], 'dropout_rate': [0.1], 'ode_nn': [((40, 'tanh'), (40, 'tanh'))], 'readout_nn': [((40, 'tanh'), (40, 'tanh'))], 'enc_nn': [((40, 'tanh'), (40, 'tanh'))], 'use_rnn': [False], 'func_appl_X': [[]], 'solver': ['euler'], 'weight': [0.5], 'weight_decay': [1.0], 'dataset': ['OrnsteinUhlenbeck'], 'dataset_id': [None], 'plot': [True], 'paths_to_plot': [(0,)], 'saved_models_path': ['../data/conv-study-OU-saved_models/'], 'evaluate': [True]}\n",
      "param_dict: {'epochs': [100], 'batch_size': [20], 'save_every': [10], 'learning_rate': [0.001], 'test_size': [0.2], 'training_size': [200, 400, 800, 1600, 3200, 6400, 12800], 'seed': [398], 'hidden_size': [10], 'bias': [True], 'dropout_rate': [0.1], 'ode_nn': [((80, 'tanh'), (80, 'tanh'))], 'readout_nn': [((80, 'tanh'), (80, 'tanh'))], 'enc_nn': [((80, 'tanh'), (80, 'tanh'))], 'use_rnn': [False], 'func_appl_X': [[]], 'solver': ['euler'], 'weight': [0.5], 'weight_decay': [1.0], 'dataset': ['OrnsteinUhlenbeck'], 'dataset_id': [None], 'plot': [True], 'paths_to_plot': [(0,)], 'saved_models_path': ['../data/conv-study-OU-saved_models/'], 'evaluate': [True]}\n",
      "param_dict: {'epochs': [100], 'batch_size': [20], 'save_every': [10], 'learning_rate': [0.001], 'test_size': [0.2], 'training_size': [200, 400, 800, 1600, 3200, 6400, 12800], 'seed': [398], 'hidden_size': [10], 'bias': [True], 'dropout_rate': [0.1], 'ode_nn': [((160, 'tanh'), (160, 'tanh'))], 'readout_nn': [((160, 'tanh'), (160, 'tanh'))], 'enc_nn': [((160, 'tanh'), (160, 'tanh'))], 'use_rnn': [False], 'func_appl_X': [[]], 'solver': ['euler'], 'weight': [0.5], 'weight_decay': [1.0], 'dataset': ['OrnsteinUhlenbeck'], 'dataset_id': [None], 'plot': [True], 'paths_to_plot': [(0,)], 'saved_models_path': ['../data/conv-study-OU-saved_models/'], 'evaluate': [True]}\n",
      "param_dict: {'epochs': [100], 'batch_size': [20], 'save_every': [10], 'learning_rate': [0.001], 'test_size': [0.2], 'training_size': [200, 400, 800, 1600, 3200, 6400, 12800], 'seed': [398], 'hidden_size': [10], 'bias': [True], 'dropout_rate': [0.1], 'ode_nn': [((320, 'tanh'), (320, 'tanh'))], 'readout_nn': [((320, 'tanh'), (320, 'tanh'))], 'enc_nn': [((320, 'tanh'), (320, 'tanh'))], 'use_rnn': [False], 'func_appl_X': [[]], 'solver': ['euler'], 'weight': [0.5], 'weight_decay': [1.0], 'dataset': ['OrnsteinUhlenbeck'], 'dataset_id': [None], 'plot': [True], 'paths_to_plot': [(0,)], 'saved_models_path': ['../data/conv-study-OU-saved_models/'], 'evaluate': [True]}\n",
      "param_dict: {'epochs': [200], 'batch_size': [100], 'save_every': [1], 'learning_rate': [0.001], 'test_size': [0.2], 'seed': [398], 'hidden_size': [10], 'bias': [True], 'dropout_rate': [0.1], 'ode_nn': [((50, 'tanh'), (50, 'tanh'))], 'readout_nn': [((50, 'tanh'), (50, 'tanh'))], 'enc_nn': [((50, 'tanh'), (50, 'tanh'))], 'use_rnn': [False], 'func_appl_X': [[]], 'solver': ['euler'], 'weight': [0.5], 'weight_decay': [1.0], 'dataset': ['HestonWOFeller'], 'dataset_id': [1], 'plot': [True], 'paths_to_plot': [(0, 1, 2, 3, 4)], 'evaluate': [True], 'saved_models_path': ['../data/saved_models_HestonWOFeller/']}\n",
      "param_dict: {'epochs': [200], 'batch_size': [100], 'save_every': [1], 'learning_rate': [0.001], 'test_size': [0.2], 'seed': [398], 'hidden_size': [10], 'bias': [True], 'dropout_rate': [0.1], 'ode_nn': [((100, 'tanh'), (100, 'tanh'))], 'readout_nn': [((100, 'tanh'), (100, 'tanh'))], 'enc_nn': [((100, 'tanh'), (100, 'tanh'))], 'use_rnn': [False], 'func_appl_X': [[]], 'solver': ['euler'], 'weight': [0.5], 'weight_decay': [1.0], 'dataset': ['combined_OrnsteinUhlenbeck_BlackScholes'], 'plot': [True], 'paths_to_plot': [(0, 1, 2, 3, 4)], 'evaluate': [True], 'saved_models_path': ['../data/saved_models_combined_OU_BS/'], 'dataset_id': [1]}\n",
      "param_dict: {'epochs': [100], 'batch_size': [100], 'save_every': [1], 'learning_rate': [0.001], 'test_size': [0.2], 'seed': [398], 'hidden_size': [10], 'bias': [True], 'dropout_rate': [0.1], 'ode_nn': [((400, 'tanh'), (400, 'tanh'))], 'readout_nn': [((400, 'tanh'), (400, 'tanh'))], 'enc_nn': [((400, 'tanh'), (400, 'tanh'))], 'use_rnn': [False], 'func_appl_X': [[]], 'solver': ['euler'], 'weight': [0.5], 'weight_decay': [1.0], 'dataset': ['sine_BlackScholes'], 'dataset_id': [1], 'plot': [True], 'paths_to_plot': [(0, 1, 2, 3, 4)], 'evaluate': [True], 'saved_models_path': ['../data/saved_models_sine_BS/']}\n",
      "param_dict: {'epochs': [100], 'batch_size': [20], 'save_every': [1], 'learning_rate': [0.001], 'test_size': [0.2], 'seed': [398], 'hidden_size': [50, 100], 'bias': [True], 'dropout_rate': [0.1], 'ode_nn': [None], 'readout_nn': [None], 'enc_nn': [None], 'use_rnn': [False], 'func_appl_X': [[]], 'solver': ['euler'], 'weight': [0.5], 'weight_decay': [1.0], 'dataset': ['BlackScholes', 'Heston', 'OrnsteinUhlenbeck'], 'dataset_id': [None], 'plot': [True], 'paths_to_plot': [(0, 1, 2, 3, 4)], 'evaluate': [True], 'other_model': ['GRU_ODE_Bayes'], 'saved_models_path': ['../data/saved_models_GRUODEBayes-comparison/'], 'GRU_ODE_Bayes-impute': [True, False], 'GRU_ODE_Bayes-logvar': [True, False], 'GRU_ODE_Bayes-mixing': [0.0001, 0.5]}\n",
      "param_dict: {'epochs': [100], 'batch_size': [20], 'save_every': [1], 'learning_rate': [0.001], 'test_size': [0.2], 'seed': [398], 'hidden_size': [10], 'bias': [True], 'dropout_rate': [0.1], 'ode_nn': [((50, 'tanh'), (50, 'tanh'))], 'readout_nn': [((50, 'tanh'), (50, 'tanh'))], 'enc_nn': [((50, 'tanh'), (50, 'tanh'))], 'use_rnn': [False], 'func_appl_X': [[]], 'solver': ['euler'], 'weight': [0.5], 'weight_decay': [1.0], 'dataset': ['BlackScholes', 'Heston', 'OrnsteinUhlenbeck'], 'dataset_id': [None], 'plot': [True], 'paths_to_plot': [(0, 1, 2, 3, 4)], 'evaluate': [True], 'saved_models_path': ['../data/saved_models_GRUODEBayes-comparison/']}\n",
      "param_dict: {'epochs': [200], 'batch_size': [100], 'save_every': [1], 'learning_rate': [0.001], 'hidden_size': [10], 'bias': [True], 'dropout_rate': [0.1], 'ode_nn': [((50, 'tanh'), (50, 'tanh'))], 'readout_nn': [((50, 'tanh'), (50, 'tanh'))], 'enc_nn': [((50, 'tanh'), (50, 'tanh'))], 'use_rnn': [False], 'solver': ['euler'], 'weight': [0.5], 'weight_decay': [1.0], 'dataset': ['climate'], 'data_index': [0, 1, 2, 3, 4], 'delta_t': [0.1], 'saved_models_path': ['../data/saved_models_NJODE1-climate/'], 'dataset_id': [1]}\n",
      "param_dict: {'epochs': [200], 'batch_size': [100], 'save_every': [1], 'learning_rate': [0.001], 'hidden_size': [50], 'bias': [True], 'dropout_rate': [0.1], 'ode_nn': [((400, 'tanh'), (400, 'tanh'))], 'readout_nn': [((400, 'tanh'), (400, 'tanh'))], 'enc_nn': [((400, 'tanh'), (400, 'tanh'))], 'use_rnn': [False], 'solver': ['euler'], 'weight': [0.5], 'weight_decay': [1.0], 'dataset': ['climate'], 'data_index': [0, 1, 2, 3, 4], 'delta_t': [0.1], 'saved_models_path': ['../data/saved_models_NJODE1-climate/'], 'dataset_id': [1]}\n",
      "param_dict: {'epochs': [50], 'batch_size': [100], 'save_every': [1], 'learning_rate': [0.001], 'hidden_size': [50], 'bias': [True], 'dropout_rate': [0.2], 'ode_nn': [None], 'readout_nn': [None], 'enc_nn': [None], 'use_rnn': [False], 'solver': ['euler'], 'weight': [0.5], 'weight_decay': [0, 1, 2, 3, 4], 'dataset': ['climate'], 'data_index': [1], 'delta_t': [0.1], 'other_model': ['GRU_ODE_Bayes'], 'GRU_ODE_Bayes-impute': [False], 'GRU_ODE_Bayes-logvar': [True], 'GRU_ODE_Bayes-mixing': [0.0001], 'GRU_ODE_Bayes-p_hidden': [25], 'GRU_ODE_Bayes-prep_hidden': [10], 'GRU_ODE_Bayes-cov_hidden': [50], 'saved_models_path': ['../data/saved_models_NJODE1-climate/'], 'dataset_id': [1]}\n",
      "param_dict: {'epochs': [175], 'batch_size': [50], 'save_every': [1], 'learning_rate': [0.001], 'hidden_size': [41], 'bias': [True], 'dropout_rate': [0.1], 'ode_nn': [((50, 'tanh'), (50, 'tanh'))], 'readout_nn': [((50, 'tanh'), (50, 'tanh'))], 'enc_nn': [((50, 'tanh'), (50, 'tanh'))], 'use_rnn': [False], 'solver': ['euler'], 'weight': [0.5], 'weight_decay': [1.0], 'dataset': ['physionet'], 'quantization': [0.016], 'n_samples': [8000], 'saved_models_path': ['../data/saved_models_NJODE1_physionet_comparison/'], 'dataset_id': [1]}\n",
      "param_dict: {'epochs': [175], 'batch_size': [50], 'save_every': [1], 'learning_rate': [0.001], 'hidden_size': [41], 'bias': [True], 'dropout_rate': [0.1], 'ode_nn': [((200, 'tanh'), (200, 'tanh'))], 'readout_nn': [((200, 'tanh'), (200, 'tanh'))], 'enc_nn': [((200, 'tanh'), (200, 'tanh'))], 'use_rnn': [False], 'solver': ['euler'], 'weight': [0.5], 'weight_decay': [1.0], 'dataset': ['physionet'], 'quantization': [0.016], 'n_samples': [8000], 'saved_models_path': ['../data/saved_models_NJODE1_physionet_comparison/'], 'dataset_id': [1]}\n",
      "param_dict: {'epochs': [50], 'batch_size': [50], 'save_every': [1], 'learning_rate': [0.01], 'test_size': [0.2], 'seed': [398], 'hidden_size': [100], 'bias': [True], 'dropout_rate': [0.1], 'ode_nn': [((50, 'tanh'),)], 'readout_nn': [((50, 'tanh'),)], 'enc_nn': [((50, 'tanh'),)], 'use_rnn': [False, True], 'solver': ['euler'], 'weight': [0.5], 'weight_decay': [1.0], 'input_sig': [False, True], 'level': [2], 'use_sig_for_classifier': [False], 'data_dict': ['LOB_dict1', 'LOB_dict2', 'LOB_dict3'], 'which_loss': ['easy'], 'plot': [True], 'evaluate': [True], 'paths_to_plot': [(0, 1, 2, 3, 4)], 'output_midprice_only': [False], 'use_eval_on_train': [False], 'classifier_nn': [((50, 'tanh'),)], 'classifier_loss_weight': [1.0], 'saved_models_path': ['../data/saved_models_LOB/'], 'dataset_id': [1]}\n",
      "param_dict: {'epochs': [50], 'batch_size': [50], 'save_every': [1], 'learning_rate': [0.01], 'test_size': [0.2], 'seed': [398], 'hidden_size': [100], 'bias': [True], 'dropout_rate': [0.1], 'ode_nn': [((50, 'tanh'),)], 'readout_nn': [((50, 'tanh'),)], 'enc_nn': [((50, 'tanh'),)], 'use_rnn': [False, True], 'solver': ['euler'], 'weight': [0.5], 'weight_decay': [1.0], 'input_sig': [True], 'level': [2], 'use_sig_for_classifier': [True], 'data_dict': ['LOB_dict1', 'LOB_dict2', 'LOB_dict3'], 'which_loss': ['easy'], 'plot': [True], 'evaluate': [True], 'paths_to_plot': [(0, 1, 2, 3, 4)], 'output_midprice_only': [False], 'use_eval_on_train': [False], 'classifier_nn': [((50, 'tanh'),)], 'classifier_loss_weight': [1.0], 'saved_models_path': ['../data/saved_models_LOB/'], 'dataset_id': [1]}\n",
      "param_dict: {'epochs': [50], 'batch_size': [50], 'save_every': [1], 'learning_rate': [0.01], 'test_size': [0.2], 'seed': [398], 'hidden_size': [100], 'bias': [True], 'dropout_rate': [0.1], 'ode_nn': [((50, 'tanh'),)], 'readout_nn': [((50, 'tanh'),)], 'enc_nn': [((50, 'tanh'),)], 'use_rnn': [False], 'solver': ['euler'], 'weight': [0.5], 'weight_decay': [1.0], 'input_sig': [True], 'level': [2], 'use_sig_for_classifier': [False], 'data_dict': ['LOB_dict3'], 'which_loss': ['easy'], 'plot': [True], 'evaluate': [True], 'paths_to_plot': [(0, 1, 2, 3, 4)], 'output_midprice_only': [False, True], 'use_eval_on_train': [False], 'residual_enc_dec': [True], 'classifier_nn': [None, ((50, 'tanh'),)], 'classifier_loss_weight': [1.0], 'saved_models_path': ['../data/saved_models_LOB/'], 'dataset_id': [1]}\n",
      "param_dict: {'epochs': [200], 'batch_size': [50], 'save_every': [1], 'learning_rate': [0.001], 'dataset': ['retrain_LOB'], 'evaluate': [True], 'saved_models_path': ['../data/saved_models_retrain_LOB/'], 'load_model_id': [17, 18, 9, 10, 11, 12, 19, 20, 21, 22], 'load_saved_models_path': ['../data/saved_models_LOB/'], 'load_model_load_best': [True, False], 'dataset_id': [1]}\n",
      "param_dict: {'epochs': [1000], 'batch_size': [50], 'save_every': [1], 'learning_rate': [0.001], 'dataset': ['retrain_LOB'], 'evaluate': [True], 'saved_models_path': ['../data/saved_models_retrain_LOB/'], 'load_model_id': [17, 18, 9, 10, 11, 12, 19, 20, 21, 22], 'load_saved_models_path': ['../data/saved_models_LOB/'], 'load_model_load_best': [True, False], 'new_classifier_nn': [{'nn_desc': ((200, 'tanh'), (200, 'tanh')), 'dropout_rate': 0.1, 'bias': True}], 'dataset_id': [1]}\n",
      "param_dict: {'epochs': [1000], 'batch_size': [50], 'save_every': [1], 'learning_rate': [0.001], 'dataset': ['retrain_LOB'], 'evaluate': [True], 'saved_models_path': ['../data/saved_models_retrain_LOB/'], 'load_model_id': [17, 18, 9, 10, 11, 12, 19, 20, 21, 22], 'load_saved_models_path': ['../data/saved_models_LOB/'], 'load_model_load_best': [True, False], 'new_classifier_nn': [{'nn_desc': ((200, 'tanh'), (200, 'tanh'), (200, 'tanh'), (200, 'tanh')), 'dropout_rate': 0.1, 'bias': True}], 'dataset_id': [1]}\n",
      "param_dict: {'epochs': [50], 'batch_size': [50], 'save_every': [1], 'learning_rate': [0.01], 'test_size': [0.2], 'seed': [398], 'hidden_size': [100], 'bias': [True], 'dropout_rate': [0.1], 'ode_nn': [((50, 'tanh'),)], 'readout_nn': [((50, 'tanh'),)], 'enc_nn': [((50, 'tanh'),)], 'use_rnn': [False], 'solver': ['euler'], 'weight': [0.5], 'weight_decay': [1.0], 'input_sig': [True], 'level': [2], 'use_sig_for_classifier': [False], 'data_dict': ['LOB_dict_K_3', 'LOB_dict_K_6'], 'which_loss': ['easy'], 'plot': [True], 'evaluate': [True], 'paths_to_plot': [(0, 1, 2, 3, 4)], 'output_midprice_only': [False], 'use_eval_on_train': [False], 'residual_enc_dec': [True], 'classifier_nn': [((50, 'tanh'),)], 'classifier_loss_weight': [1.0], 'saved_models_path': ['../data/saved_models_LOB_K/'], 'dataset_id': [1]}\n",
      "param_dict: {'epochs': [200], 'batch_size': [50], 'save_every': [1], 'learning_rate': [0.001], 'dataset': ['retrain_LOB'], 'evaluate': [True], 'saved_models_path': ['../data/saved_models_retrain_LOB_K/'], 'load_model_id': [1, 2], 'load_saved_models_path': ['../data/saved_models_LOB_K/'], 'load_model_load_best': [True, False], 'dataset_id': [1]}\n",
      "param_dict: {'epochs': [1000], 'batch_size': [50], 'save_every': [1], 'learning_rate': [0.001], 'dataset': ['retrain_LOB'], 'evaluate': [True], 'saved_models_path': ['../data/saved_models_retrain_LOB_K/'], 'load_model_id': [1, 2], 'load_saved_models_path': ['../data/saved_models_LOB_K/'], 'load_model_load_best': [True, False], 'new_classifier_nn': [{'nn_desc': ((200, 'tanh'), (200, 'tanh')), 'dropout_rate': 0.1, 'bias': True}], 'dataset_id': [1]}\n",
      "param_dict: {'epochs': [1000], 'batch_size': [50], 'save_every': [1], 'learning_rate': [0.001], 'dataset': ['retrain_LOB'], 'evaluate': [True], 'saved_models_path': ['../data/saved_models_retrain_LOB_K/'], 'load_model_id': [1, 2], 'load_saved_models_path': ['../data/saved_models_LOB_K/'], 'load_model_load_best': [True, False], 'new_classifier_nn': [{'nn_desc': ((200, 'tanh'), (200, 'tanh'), (200, 'tanh'), (200, 'tanh')), 'dropout_rate': 0.1, 'bias': True}], 'dataset_id': [1]}\n",
      "param_dict: {'epochs': [50], 'batch_size': [50], 'save_every': [1], 'learning_rate': [0.01], 'test_size': [0.2], 'seed': [398], 'hidden_size': [100], 'bias': [True], 'dropout_rate': [0.1], 'ode_nn': [((50, 'tanh'),)], 'readout_nn': [((50, 'tanh'),)], 'enc_nn': [((50, 'tanh'),)], 'use_rnn': [False], 'solver': ['euler'], 'weight': [0.5], 'weight_decay': [1.0], 'input_sig': [True], 'level': [2], 'use_sig_for_classifier': [False], 'data_dict': ['LOB_dict3_2', 'LOB_dict_K_3_2', 'LOB_dict_K_6_2'], 'which_loss': ['easy'], 'plot': [True], 'evaluate': [True], 'paths_to_plot': [(0, 1, 2, 3, 4)], 'output_midprice_only': [False], 'use_eval_on_train': [False], 'residual_enc_dec': [True], 'classifier_nn': [((50, 'tanh'),)], 'classifier_loss_weight': [1.0], 'saved_models_path': ['../data/saved_models_LOB_n/'], 'dataset_id': [1]}\n",
      "param_dict: {'epochs': [200], 'batch_size': [50], 'save_every': [1], 'learning_rate': [0.001], 'dataset': ['retrain_LOB'], 'evaluate': [True], 'saved_models_path': ['../data/saved_models_retrain_LOB_n/'], 'load_model_id': [1, 2, 3], 'load_saved_models_path': ['../data/saved_models_LOB_n/'], 'load_model_load_best': [True, False], 'dataset_id': [1]}\n",
      "param_dict: {'epochs': [1000], 'batch_size': [50], 'save_every': [1], 'learning_rate': [0.001], 'dataset': ['retrain_LOB'], 'evaluate': [True], 'saved_models_path': ['../data/saved_models_retrain_LOB_n/'], 'load_model_id': [1, 2, 3], 'load_saved_models_path': ['../data/saved_models_LOB_n/'], 'load_model_load_best': [True, False], 'new_classifier_nn': [{'nn_desc': ((200, 'tanh'), (200, 'tanh')), 'dropout_rate': 0.1, 'bias': True}], 'dataset_id': [1]}\n",
      "param_dict: {'epochs': [1000], 'batch_size': [50], 'save_every': [1], 'learning_rate': [0.001], 'dataset': ['retrain_LOB'], 'evaluate': [True], 'saved_models_path': ['../data/saved_models_retrain_LOB_n/'], 'load_model_id': [1, 2, 3], 'load_saved_models_path': ['../data/saved_models_LOB_n/'], 'load_model_load_best': [True, False], 'new_classifier_nn': [{'nn_desc': ((200, 'tanh'), (200, 'tanh'), (200, 'tanh'), (200, 'tanh')), 'dropout_rate': 0.1, 'bias': True}], 'dataset_id': [1]}\n",
      "param_dict: {'epochs': [200], 'batch_size': [200], 'save_every': [1], 'learning_rate': [0.001], 'test_size': [0.2], 'seed': [398], 'hidden_size': [50], 'bias': [True], 'dropout_rate': [0.1], 'ode_nn': [((50, 'tanh'),)], 'readout_nn': [None], 'enc_nn': [((50, 'tanh'),)], 'func_appl_X': [[]], 'solver': ['euler'], 'weight': [0.5], 'weight_decay': [1.0], 'dataset': ['BM', 'BMandVar'], 'dataset_id': [None], 'which_loss': ['easy'], 'coord_wise_tau': [False], 'use_y_for_ode': [True], 'use_rnn': [False], 'masked': [False], 'plot': [True], 'evaluate': [True], 'paths_to_plot': [(0, 1, 2, 3, 4)], 'plot_same_yaxis': [True], 'train_readout_only': [True], 'saved_models_path': ['../data/saved_models_randNJODE/']}\n",
      "param_dict: {'epochs': [200], 'batch_size': [200], 'save_every': [1], 'learning_rate': [0.001], 'test_size': [0.2], 'seed': [398], 'hidden_size': [50, 200], 'bias': [True], 'dropout_rate': [0.1], 'ode_nn': [((50, 'tanh'),)], 'enc_nn': [((50, 'tanh'),)], 'func_appl_X': [[]], 'solver': ['euler'], 'weight': [0.5], 'weight_decay': [1.0], 'dataset': ['BM', 'BMandVar'], 'dataset_id': [None], 'which_loss': ['easy'], 'coord_wise_tau': [False], 'use_y_for_ode': [True], 'use_rnn': [False], 'masked': [False], 'plot': [True], 'evaluate': [True], 'paths_to_plot': [(0, 1, 2, 3, 4)], 'plot_same_yaxis': [True], 'other_model': ['randomizedNJODE'], 'saved_models_path': ['../data/saved_models_randNJODE/']}\n",
      "param_dict: {'epochs': [200], 'batch_size': [200], 'save_every': [1], 'learning_rate': [0.001], 'test_size': [0.2], 'seed': [398], 'hidden_size': [50, 200], 'bias': [True], 'dropout_rate': [0.1], 'ode_nn': [((50, 'tanh'),)], 'enc_nn': [((50, 'tanh'),)], 'func_appl_X': [[]], 'solver': ['euler'], 'weight': [0.5], 'weight_decay': [1.0], 'dataset': ['DoublePendulum'], 'dataset_id': [None], 'which_loss': ['easy'], 'coord_wise_tau': [False], 'use_y_for_ode': [True], 'use_rnn': [False], 'masked': [False], 'plot': [True], 'evaluate': [True], 'paths_to_plot': [(0, 1, 2, 3, 4)], 'plot_same_yaxis': [True], 'other_model': ['randomizedNJODE'], 'saved_models_path': ['../data/saved_models_randNJODE/']}\n",
      "param_dict: {'epochs': [200], 'batch_size': [200], 'save_every': [1], 'learning_rate': [0.001], 'test_size': [0.2], 'seed': [398], 'hidden_size': [50, 200], 'bias': [True], 'dropout_rate': [0.1], 'ode_nn': [((50, 'tanh'),)], 'enc_nn': [((50, 'tanh'),)], 'func_appl_X': [[]], 'solver': ['euler'], 'weight': [0.5], 'weight_decay': [1.0], 'data_dict': ['BlackScholes_dict'], 'dataset_id': [None], 'which_loss': ['easy'], 'coord_wise_tau': [False], 'use_y_for_ode': [True], 'use_rnn': [False, True], 'masked': [False], 'plot': [True], 'evaluate': [True], 'paths_to_plot': [(0, 1, 2, 3, 4)], 'plot_same_yaxis': [True], 'other_model': ['randomizedNJODE'], 'saved_models_path': ['../data/saved_models_randNJODE_BS/']}\n",
      "param_dict: {'epochs': [200], 'batch_size': [200], 'save_every': [1], 'learning_rate': [0.01, 0.001], 'test_size': [0.2], 'seed': [398], 'hidden_size': [None], 'bias': [True], 'dropout_rate': [0.1], 'ode_nn': [None], 'readout_nn': [None], 'enc_nn': [((100, 'tanh'),)], 'func_appl_X': [[]], 'solver': ['euler'], 'weight': [0.5], 'weight_decay': [1.0], 'dataset': ['BlackScholes'], 'dataset_id': [None], 'which_loss': ['easy'], 'coord_wise_tau': [False], 'use_y_for_ode': [True], 'use_rnn': [True, False], 'input_sig': [True, False], 'level': [2], 'masked': [False], 'plot': [True], 'evaluate': [True], 'paths_to_plot': [(0, 1, 2, 3, 4)], 'plot_same_yaxis': [True], 'other_model': ['NJmodel'], 'saved_models_path': ['../data/saved_models_NJmodel/']}\n",
      "param_dict: {'epochs': [200], 'batch_size': [200], 'save_every': [1], 'learning_rate': [0.001], 'test_size': [0.2], 'seed': [398], 'hidden_size': [50], 'bias': [True], 'dropout_rate': [0.1], 'ode_nn': [((100, 'tanh'),)], 'readout_nn': [None, ((100, 'tanh'),)], 'enc_nn': [((100, 'tanh'),)], 'func_appl_X': [[]], 'solver': ['euler'], 'weight': [0.5], 'weight_decay': [1.0], 'dataset': ['BlackScholes'], 'dataset_id': [None], 'which_loss': ['easy'], 'coord_wise_tau': [False], 'use_y_for_ode': [True], 'use_rnn': [True, False], 'input_sig': [True, False], 'level': [2], 'masked': [False], 'plot': [True], 'evaluate': [True], 'paths_to_plot': [(0, 1, 2, 3, 4)], 'plot_same_yaxis': [True], 'saved_models_path': ['../data/saved_models_NJmodel/']}\n",
      "param_dict: {'epochs': [200], 'batch_size': [200], 'save_every': [1], 'learning_rate': [0.001], 'test_size': [0.2], 'seed': [398], 'hidden_size': [None], 'bias': [True], 'dropout_rate': [0.1], 'ode_nn': [None], 'readout_nn': [None], 'enc_nn': [((2000, 'tanh'),), ((200, 'tanh'), (200, 'tanh'))], 'func_appl_X': [[]], 'solver': ['euler'], 'weight': [0.5], 'weight_decay': [1.0], 'dataset': ['BlackScholes'], 'dataset_id': [None], 'which_loss': ['easy'], 'coord_wise_tau': [False], 'use_y_for_ode': [True], 'use_rnn': [True], 'input_sig': [True], 'level': [2], 'masked': [False], 'plot': [True], 'evaluate': [True], 'paths_to_plot': [(0, 1, 2, 3, 4)], 'plot_same_yaxis': [True], 'other_model': ['NJmodel'], 'saved_models_path': ['../data/saved_models_NJmodel/']}\n",
      "param_dict: {'epochs': [200], 'batch_size': [200], 'save_every': [1], 'learning_rate': [0.001], 'test_size': [0.2], 'seed': [398], 'hidden_size': [50], 'bias': [True], 'dropout_rate': [0.1], 'ode_nn': [((50, 'tanh'), (50, 'tanh'))], 'readout_nn': [((50, 'tanh'), (50, 'tanh'))], 'enc_nn': [((50, 'tanh'), (50, 'tanh'))], 'func_appl_X': [[]], 'solver': ['euler'], 'weight': [0.5], 'weight_decay': [1.0], 'data_dict': ['BS_dep_obs_dict'], 'dataset_id': [None], 'which_loss': ['easy'], 'coord_wise_tau': [False], 'use_y_for_ode': [True], 'use_rnn': [True], 'input_sig': [True], 'level': [3], 'masked': [False], 'residual_dec': [True, False], 'plot': [True], 'evaluate': [True], 'paths_to_plot': [(0, 1, 2, 3, 4)], 'plot_same_yaxis': [True], 'plot_obs_prob': [True], 'saved_models_path': ['../data/saved_models_DepObservations/']}\n",
      "param_dict: {'epochs': [200], 'batch_size': [200], 'save_every': [1], 'learning_rate': [0.001], 'test_size': [0.2], 'seed': [398], 'hidden_size': [100], 'bias': [True], 'dropout_rate': [0.1], 'ode_nn': [((100, 'tanh'),)], 'readout_nn': [((100, 'tanh'),), None], 'enc_nn': [((100, 'tanh'),)], 'use_rnn': [True], 'residual_dec': [True, False], 'func_appl_X': [[]], 'solver': ['euler'], 'weight': [0.5], 'weight_decay': [1.0], 'input_sig': [True], 'level': [3], 'data_dict': ['BM_NoisyObs_dict'], 'which_loss': ['easy', 'noisy_obs'], 'coord_wise_tau': [False], 'use_y_for_ode': [True], 'masked': [False], 'plot': [True], 'evaluate': [True], 'paths_to_plot': [(0, 1, 2, 3, 4)], 'plot_same_yaxis': [True], 'saved_models_path': ['../data/saved_models_BMNoisyObs/'], 'dataset_id': [1]}\n",
      "param_dict: {'epochs': [200], 'batch_size': [200], 'save_every': [1], 'learning_rate': [0.001], 'test_size': [0.2], 'seed': [398], 'hidden_size': [100], 'bias': [True], 'dropout_rate': [0.1], 'ode_nn': [((100, 'relu'),)], 'readout_nn': [((100, 'relu'),), None], 'enc_nn': [((100, 'relu'),)], 'use_rnn': [True], 'residual_dec': [True, False], 'func_appl_X': [[]], 'solver': ['euler'], 'weight': [0.5], 'weight_decay': [1.0], 'input_sig': [True], 'level': [3], 'data_dict': ['BM_NoisyObs_dict'], 'which_loss': ['easy', 'noisy_obs'], 'coord_wise_tau': [False], 'use_y_for_ode': [True], 'masked': [False], 'plot': [True], 'evaluate': [True], 'paths_to_plot': [(0, 1, 2, 3, 4)], 'plot_same_yaxis': [True], 'saved_models_path': ['../data/saved_models_BMNoisyObs/'], 'dataset_id': [1]}\n",
      "param_dict: {'epochs': [100], 'batch_size': [50], 'save_every': [1], 'learning_rate': [0.001], 'test_size': [0.2], 'hidden_size': [50], 'bias': [True], 'dropout_rate': [0.1], 'ode_nn': [((50, 'tanh'),)], 'readout_nn': [((50, 'tanh'),)], 'enc_nn': [((50, 'tanh'),)], 'use_rnn': [True], 'solver': ['euler'], 'weight': [0.5], 'weight_decay': [1.0], 'input_sig': [True], 'level': [2], 'dataset': ['physionet'], 'dataset_id': [None], 'which_loss': ['easy', 'noisy_obs'], 'quantization': [0.016], 'n_samples': [8000], 'saved_models_path': ['../data/saved_models_PhysioNet_NJODE3/'], 'obs_noise': [{'std_factor': 0.0, 'seed': 333}, {'std_factor': 0.2, 'seed': 333}, {'std_factor': 0.4, 'seed': 333}, {'std_factor': 0.6, 'seed': 333}, {'std_factor': 0.8, 'seed': 333}, {'std_factor': 1.0, 'seed': 333}]}\n",
      "param_dict: {'epochs': [200], 'batch_size': [100], 'save_every': [1], 'learning_rate': [0.001], 'test_size': [0.2], 'seed': [398], 'hidden_size': [50], 'bias': [True], 'dropout_rate': [0.1], 'ode_nn': [((50, 'tanh'),)], 'readout_nn': [((50, 'tanh'),)], 'enc_nn': [((50, 'tanh'),)], 'use_rnn': [False, True], 'solver': ['euler'], 'weight': [0.5], 'weight_decay': [1.0], 'input_sig': [False, True], 'level': [2], 'dataset': ['climate'], 'data_index': [0, 1, 2, 3, 4], 'which_loss': ['easy', 'noisy_obs'], 'delta_t': [0.1], 'saved_models_path': ['../data/saved_models_Climate/'], 'dataset_id': [1]}\n",
      "param_dict: {'epochs': [200], 'batch_size': [200], 'save_every': [1], 'learning_rate': [0.001], 'test_size': [0.2], 'seed': [398], 'hidden_size': [400], 'bias': [True], 'dropout_rate': [0.1], 'ode_nn': [((200, 'tanh'),)], 'readout_nn': [((200, 'tanh'),)], 'enc_nn': [((200, 'tanh'),)], 'use_rnn': [True], 'func_appl_X': [[]], 'solver': ['euler'], 'weight': [0.5], 'weight_decay': [1.0], 'input_sig': [False], 'level': [3], 'data_dict': ['DP_dict3'], 'test_data_dict': ['DP_dict3_test'], 'which_loss': ['easy'], 'plot': [True], 'evaluate': [True], 'paths_to_plot': [(0, 1, 2, 3, 4)], 'saved_models_path': ['../data/saved_models_ODEexp_DoublePendulum/'], 'use_current_y_for_ode': [False, True], 'use_observation_as_input': [False, True, 0.5, 0.75, 0.25, 'lambda x: np.random.random(1) < 1-x/200', 'lambda x: np.random.random(1) < 1-x/100'], 'val_use_observation_as_input': [False], 'eval_use_true_paths': [True], 'dataset_id': [1]}\n",
      "param_dict: {'epochs': [300], 'batch_size': [200], 'save_every': [1], 'learning_rate': [0.001], 'test_size': [0.2], 'seed': [398], 'hidden_size': [400], 'bias': [True], 'dropout_rate': [0.1], 'ode_nn': [((200, 'tanh'),)], 'readout_nn': [((200, 'tanh'),)], 'enc_nn': [((200, 'tanh'),)], 'use_rnn': [True], 'func_appl_X': [[]], 'solver': ['euler'], 'weight': [0.5], 'weight_decay': [1.0], 'input_sig': [False], 'level': [3], 'data_dict': ['DP_dict4'], 'test_data_dict': ['DP_dict3_test'], 'which_loss': ['easy'], 'plot': [True], 'evaluate': [True], 'paths_to_plot': [(0, 1, 2, 3, 4)], 'saved_models_path': ['../data/saved_models_ODEexp_DoublePendulum/'], 'use_current_y_for_ode': [True], 'use_observation_as_input': ['lambda x: np.random.random() < 1-x/100'], 'val_use_observation_as_input': [False], 'eval_use_true_paths': [True], 'dataset_id': [1]}\n",
      "param_dict: {'epochs': [300], 'batch_size': [200], 'save_every': [1], 'learning_rate': [0.001], 'test_size': [0.2], 'seed': [398], 'hidden_size': [400], 'bias': [True], 'dropout_rate': [0.1], 'ode_nn': [((400, 'tanh'),)], 'readout_nn': [((400, 'tanh'),)], 'enc_nn': [((400, 'tanh'),)], 'use_rnn': [True], 'func_appl_X': [[]], 'solver': ['euler'], 'weight': [0.5], 'weight_decay': [1.0], 'input_sig': [False], 'level': [3], 'data_dict': ['DP_dict4'], 'test_data_dict': ['DP_dict3_test'], 'which_loss': ['easy'], 'plot': [True], 'evaluate': [True], 'paths_to_plot': [(0, 1, 2, 3, 4)], 'saved_models_path': ['../data/saved_models_ODEexp_DoublePendulum/'], 'use_current_y_for_ode': [True], 'use_observation_as_input': ['lambda x: np.random.random() < 1-x/100'], 'val_use_observation_as_input': [False], 'eval_use_true_paths': [True], 'dataset_id': [1]}\n",
      "param_dict: {'epochs': [300], 'batch_size': [200], 'save_every': [1], 'learning_rate': [0.001], 'test_size': [0.2], 'seed': [398], 'hidden_size': [400], 'bias': [True], 'dropout_rate': [0.1], 'ode_nn': [((200, 'tanh'), (200, 'tanh'))], 'readout_nn': [((200, 'tanh'), (200, 'tanh'))], 'enc_nn': [((200, 'tanh'), (200, 'tanh'))], 'use_rnn': [True], 'func_appl_X': [[]], 'solver': ['euler'], 'weight': [0.5], 'weight_decay': [1.0], 'input_sig': [False], 'level': [3], 'data_dict': ['DP_dict4'], 'test_data_dict': ['DP_dict3_test'], 'which_loss': ['easy'], 'plot': [True], 'evaluate': [True], 'paths_to_plot': [(0, 1, 2, 3, 4)], 'saved_models_path': ['../data/saved_models_ODEexp_DoublePendulum/'], 'use_current_y_for_ode': [True], 'use_observation_as_input': ['lambda x: np.random.random() < 1-x/100'], 'val_use_observation_as_input': [False], 'eval_use_true_paths': [True], 'dataset_id': [1]}\n",
      "param_dict: {'epochs': [300], 'batch_size': [200], 'save_every': [1], 'learning_rate': [0.001], 'test_size': [0.2], 'seed': [398], 'hidden_size': [400], 'bias': [True], 'dropout_rate': [0.1], 'ode_nn': [((200, 'relu'), (200, 'tanh'))], 'readout_nn': [((200, 'relu'), (200, 'tanh'))], 'enc_nn': [((200, 'relu'), (200, 'tanh'))], 'use_rnn': [True], 'func_appl_X': [[]], 'solver': ['euler'], 'weight': [0.5], 'weight_decay': [1.0], 'input_sig': [False], 'level': [3], 'data_dict': ['DP_dict4'], 'test_data_dict': ['DP_dict3_test'], 'which_loss': ['easy'], 'plot': [True], 'evaluate': [True], 'paths_to_plot': [(0, 1, 2, 3, 4)], 'saved_models_path': ['../data/saved_models_ODEexp_DoublePendulum/'], 'use_current_y_for_ode': [True], 'use_observation_as_input': ['lambda x: np.random.random() < 1-x/100'], 'val_use_observation_as_input': [False], 'eval_use_true_paths': [True], 'dataset_id': [1]}\n",
      "param_dict: {'epochs': [200], 'batch_size': [200], 'save_every': [1], 'learning_rate': [0.001], 'test_size': [0.2], 'seed': [398], 'hidden_size': [100], 'bias': [True], 'dropout_rate': [0.1], 'ode_nn': [((100, 'tanh'),)], 'readout_nn': [((100, 'tanh'),)], 'enc_nn': [((100, 'tanh'),)], 'use_rnn': [True], 'func_appl_X': [[]], 'solver': ['euler'], 'weight': [0.5], 'weight_decay': [1.0], 'input_sig': [True], 'level': [3], 'data_dict': ['BS_LT_dict'], 'test_data_dict': ['BS_LT_dict_test'], 'which_loss': ['easy'], 'plot': [True], 'evaluate': [True], 'paths_to_plot': [(0, 1, 2, 3, 4)], 'saved_models_path': ['../data/saved_models_BS_LongTerm/'], 'use_current_y_for_ode': [False, True], 'use_observation_as_input': [True, 'lambda x: np.random.random(1) < 1-x/100'], 'val_use_observation_as_input': [False], 'dataset_id': [1]}\n",
      "param_dict: {'epochs': [200], 'batch_size': [200], 'save_every': [1], 'learning_rate': [0.001], 'test_size': [0.2], 'seed': [398], 'hidden_size': [100], 'bias': [True], 'dropout_rate': [0.1], 'ode_nn': [((100, 'tanh'),)], 'readout_nn': [((100, 'tanh'),)], 'enc_nn': [((100, 'tanh'),)], 'use_rnn': [True], 'func_appl_X': [[]], 'solver': ['euler'], 'weight': [0.5], 'weight_decay': [1.0], 'input_sig': [True], 'level': [3], 'data_dict': ['BS_LT_dict2'], 'test_data_dict': ['BS_LT_dict2_test'], 'which_loss': ['easy'], 'plot': [True], 'evaluate': [True], 'paths_to_plot': [(0, 1, 2, 3, 4)], 'saved_models_path': ['../data/saved_models_BS_LongTerm/'], 'use_current_y_for_ode': [False, True], 'use_observation_as_input': [True, 'lambda x: np.random.random(1) < 1-x/100'], 'val_use_observation_as_input': [False], 'dataset_id': [1]}\n",
      "param_dict: {'epochs': [200], 'batch_size': [200], 'save_every': [1], 'learning_rate': [0.001], 'test_size': [0.2], 'seed': [398], 'hidden_size': [100], 'bias': [True], 'dropout_rate': [0.1], 'ode_nn': [((100, 'tanh'),)], 'readout_nn': [((100, 'tanh'),)], 'enc_nn': [((100, 'tanh'),)], 'use_rnn': [True], 'func_appl_X': [[]], 'solver': ['euler'], 'weight': [0.5], 'weight_decay': [1.0], 'input_sig': [True], 'level': [3], 'data_dict': ['BS_LT_dict1'], 'test_data_dict': ['BS_LT_dict_test'], 'which_loss': ['easy'], 'plot': [True], 'evaluate': [True], 'paths_to_plot': [(0, 1, 2, 3, 4)], 'saved_models_path': ['../data/saved_models_BS_LongTerm/'], 'use_current_y_for_ode': [False, True], 'use_observation_as_input': [True, 'lambda x: np.random.random(1) < 1-x/100'], 'val_use_observation_as_input': [False], 'dataset_id': [1]}\n",
      "param_dict: {'epochs': [175], 'batch_size': [50], 'save_every': [1], 'learning_rate': [0.001], 'test_size': [0.2], 'hidden_size': [50], 'bias': [True], 'dropout_rate': [0.1], 'ode_nn': [((50, 'tanh'),)], 'readout_nn': [((50, 'tanh'),)], 'enc_nn': [((50, 'tanh'),)], 'use_rnn': [True], 'solver': ['euler'], 'weight': [0.5], 'weight_decay': [1.0], 'input_sig': [True], 'level': [2], 'dataset': ['physionet'], 'dataset_id': [None], 'which_loss': ['easy'], 'quantization': [0.016], 'n_samples': [8000], 'saved_models_path': ['../data/saved_models_LongTerm_physionet/'], 'use_current_y_for_ode': [False, True], 'use_observation_as_input': ['lambda x: np.random.random(1) < 1-x/350', 'lambda x: np.random.random(1) < 1-(x-100)/150', 'lambda x: np.random.random(1) < 1-min(x-75,50)/200'], 'val_use_observation_as_input': [True]}\n",
      "param_dict: {'epochs': [200], 'batch_size': [200], 'save_every': [1], 'learning_rate': [0.001], 'test_size': [0.2], 'seed': [398], 'hidden_size': [100], 'bias': [True], 'dropout_rate': [0.1], 'ode_nn': [((100, 'tanh'),)], 'readout_nn': [((100, 'tanh'),), None], 'enc_nn': [((100, 'tanh'),)], 'use_rnn': [True, False], 'residual_enc_dec': [True, False], 'func_appl_X': [[]], 'solver': ['euler'], 'weight': [0.5], 'weight_decay': [1.0], 'input_sig': [True, False], 'level': [3], 'data_dict': ['PF_BSUP_dict1'], 'test_data_dict': ['PF_BSUP_dict1_test'], 'which_loss': ['IO'], 'coord_wise_tau': [False], 'use_y_for_ode': [False], 'masked': [False], 'plot': [True], 'evaluate': [True], 'paths_to_plot': [(0, 1, 2, 3, 4)], 'plot_same_yaxis': [False], 'use_cond_exp': [True], 'saved_models_path': ['../data/saved_models_BSUncertainParams/'], 'dataset_id': [1]}\n",
      "param_dict: {'epochs': [200], 'batch_size': [200], 'save_every': [1], 'learning_rate': [0.001], 'test_size': [0.2], 'seed': [398], 'hidden_size': [100], 'bias': [True], 'dropout_rate': [0.1], 'ode_nn': [((100, 'relu'),)], 'readout_nn': [((100, 'relu'),), None], 'enc_nn': [((100, 'relu'),)], 'use_rnn': [True, False], 'residual_enc_dec': [True, False], 'func_appl_X': [[]], 'solver': ['euler'], 'weight': [0.5], 'weight_decay': [1.0], 'input_sig': [True, False], 'level': [3], 'data_dict': ['PF_BSUP_dict1'], 'test_data_dict': ['PF_BSUP_dict1_test'], 'which_loss': ['IO'], 'coord_wise_tau': [False], 'use_y_for_ode': [False], 'masked': [False], 'plot': [True], 'evaluate': [True], 'paths_to_plot': [(0, 1, 2, 3, 4)], 'plot_same_yaxis': [False], 'use_cond_exp': [True], 'saved_models_path': ['../data/saved_models_BSUncertainParams/'], 'dataset_id': [1]}\n",
      "param_dict: {'epochs': [200], 'batch_size': [200], 'save_every': [1], 'learning_rate': [0.001], 'test_size': [0.2], 'seed': [398], 'hidden_size': [100], 'bias': [True], 'dropout_rate': [0.1], 'ode_nn': [((100, 'tanh'),)], 'readout_nn': [((100, 'tanh'),), None], 'enc_nn': [((100, 'tanh'),)], 'use_rnn': [True, False], 'residual_enc_dec': [True, False], 'func_appl_X': [[]], 'solver': ['euler'], 'weight': [0.5], 'weight_decay': [1.0], 'input_sig': [True, False], 'level': [3], 'data_dict': ['PF_BSUP_dict2'], 'test_data_dict': ['PF_BSUP_dict2_test'], 'which_loss': ['IO'], 'coord_wise_tau': [False], 'use_y_for_ode': [False], 'masked': [False], 'plot': [True], 'evaluate': [True], 'paths_to_plot': [(0, 1, 2, 3, 4)], 'plot_same_yaxis': [False], 'use_cond_exp': [True], 'saved_models_path': ['../data/saved_models_BSUncertainParams2/'], 'dataset_id': [1]}\n",
      "param_dict: {'epochs': [200], 'batch_size': [200], 'save_every': [1], 'learning_rate': [0.001], 'test_size': [0.2], 'seed': [398], 'hidden_size': [100], 'bias': [True], 'dropout_rate': [0.1], 'ode_nn': [((100, 'relu'),)], 'readout_nn': [((100, 'relu'),), None], 'enc_nn': [((100, 'relu'),)], 'use_rnn': [True, False], 'residual_enc_dec': [True, False], 'func_appl_X': [[]], 'solver': ['euler'], 'weight': [0.5], 'weight_decay': [1.0], 'input_sig': [True, False], 'level': [3], 'data_dict': ['PF_BSUP_dict2'], 'test_data_dict': ['PF_BSUP_dict2_test'], 'which_loss': ['IO'], 'coord_wise_tau': [False], 'use_y_for_ode': [False], 'masked': [False], 'plot': [True], 'evaluate': [True], 'paths_to_plot': [(0, 1, 2, 3, 4)], 'plot_same_yaxis': [False], 'use_cond_exp': [True], 'saved_models_path': ['../data/saved_models_BSUncertainParams2/'], 'dataset_id': [1]}\n",
      "param_dict: {'epochs': [200], 'batch_size': [200], 'save_every': [1], 'learning_rate': [0.001], 'test_size': [0.2], 'seed': [398], 'hidden_size': [200], 'bias': [True], 'dropout_rate': [0.1], 'ode_nn': [((100, 'relu'),)], 'readout_nn': [((100, 'relu'),)], 'enc_nn': [((100, 'relu'),)], 'use_rnn': [True], 'residual_enc_dec': [True], 'func_appl_X': [[]], 'solver': ['euler'], 'weight': [0.5], 'weight_decay': [1.0], 'input_sig': [True], 'level': [3], 'data_dict': ['PF_BSUP_dict_CS1_1'], 'test_data_dict': ['PF_BSUP_dict_CS1_test_1'], 'which_loss': ['IO'], 'coord_wise_tau': [False], 'use_y_for_ode': [False], 'masked': [False], 'plot': [True], 'evaluate': [True], 'paths_to_plot': [(0, 1, 2, 3, 4)], 'plot_same_yaxis': [False], 'use_cond_exp': [True], 'saved_models_path': ['../data/saved_models_BSUncertainParams_CS/'], 'dataset_id': [1]}\n",
      "param_dict: {'epochs': [200], 'batch_size': [200], 'save_every': [1], 'learning_rate': [0.001], 'test_size': [0.2], 'seed': [398], 'hidden_size': [200], 'bias': [True], 'dropout_rate': [0.1], 'ode_nn': [((100, 'relu'),)], 'readout_nn': [((100, 'relu'),)], 'enc_nn': [((100, 'relu'),)], 'use_rnn': [True], 'residual_enc_dec': [True], 'func_appl_X': [[]], 'solver': ['euler'], 'weight': [0.5], 'weight_decay': [1.0], 'input_sig': [True], 'level': [3], 'data_dict': ['PF_BSUP_dict_CS1_2'], 'test_data_dict': ['PF_BSUP_dict_CS1_test_2'], 'which_loss': ['IO'], 'coord_wise_tau': [False], 'use_y_for_ode': [False], 'masked': [False], 'plot': [True], 'evaluate': [True], 'paths_to_plot': [(0, 1, 2, 3, 4)], 'plot_same_yaxis': [False], 'use_cond_exp': [True], 'saved_models_path': ['../data/saved_models_BSUncertainParams_CS/'], 'dataset_id': [1]}\n",
      "param_dict: {'epochs': [200], 'batch_size': [200], 'save_every': [1], 'learning_rate': [0.001], 'test_size': [0.2], 'seed': [398], 'hidden_size': [200], 'bias': [True], 'dropout_rate': [0.1], 'ode_nn': [((100, 'relu'),)], 'readout_nn': [((100, 'relu'),)], 'enc_nn': [((100, 'relu'),)], 'use_rnn': [True], 'residual_enc_dec': [True], 'func_appl_X': [[]], 'solver': ['euler'], 'weight': [0.5], 'weight_decay': [1.0], 'input_sig': [True], 'level': [3], 'data_dict': ['PF_BSUP_dict_CS1_3'], 'test_data_dict': ['PF_BSUP_dict_CS1_test_3'], 'which_loss': ['IO'], 'coord_wise_tau': [False], 'use_y_for_ode': [False], 'masked': [False], 'plot': [True], 'evaluate': [True], 'paths_to_plot': [(0, 1, 2, 3, 4)], 'plot_same_yaxis': [False], 'use_cond_exp': [True], 'saved_models_path': ['../data/saved_models_BSUncertainParams_CS/'], 'dataset_id': [1]}\n",
      "param_dict: {'epochs': [200], 'batch_size': [200], 'save_every': [1], 'learning_rate': [0.001], 'test_size': [0.2], 'seed': [398], 'hidden_size': [200], 'bias': [True], 'dropout_rate': [0.1], 'ode_nn': [((100, 'relu'),)], 'readout_nn': [((100, 'relu'),)], 'enc_nn': [((100, 'relu'),)], 'use_rnn': [True], 'residual_enc_dec': [True], 'func_appl_X': [[]], 'solver': ['euler'], 'weight': [0.5], 'weight_decay': [1.0], 'input_sig': [True], 'level': [3], 'data_dict': ['PF_BSUP_dict_CS1_4'], 'test_data_dict': ['PF_BSUP_dict_CS1_test_4'], 'which_loss': ['IO'], 'coord_wise_tau': [False], 'use_y_for_ode': [False], 'masked': [False], 'plot': [True], 'evaluate': [True], 'paths_to_plot': [(0, 1, 2, 3, 4)], 'plot_same_yaxis': [False], 'use_cond_exp': [True], 'saved_models_path': ['../data/saved_models_BSUncertainParams_CS/'], 'dataset_id': [1]}\n",
      "param_dict: {'epochs': [200], 'batch_size': [200], 'save_every': [1], 'learning_rate': [0.001], 'test_size': [0.2], 'seed': [398], 'hidden_size': [200], 'bias': [True], 'dropout_rate': [0.1], 'ode_nn': [((100, 'relu'),)], 'readout_nn': [((100, 'relu'),)], 'enc_nn': [((100, 'relu'),)], 'use_rnn': [True], 'residual_enc_dec': [True], 'func_appl_X': [[]], 'solver': ['euler'], 'weight': [0.5], 'weight_decay': [1.0], 'input_sig': [True], 'level': [3], 'data_dict': ['PF_BSUP_dict_CS1_5'], 'test_data_dict': ['PF_BSUP_dict_CS1_test_5'], 'which_loss': ['IO'], 'coord_wise_tau': [False], 'use_y_for_ode': [False], 'masked': [False], 'plot': [True], 'evaluate': [True], 'paths_to_plot': [(0, 1, 2, 3, 4)], 'plot_same_yaxis': [False], 'use_cond_exp': [True], 'saved_models_path': ['../data/saved_models_BSUncertainParams_CS/'], 'dataset_id': [1]}\n",
      "param_dict: {'epochs': [200], 'batch_size': [200], 'save_every': [1], 'learning_rate': [0.001], 'test_size': [0.2], 'seed': [398], 'hidden_size': [200], 'bias': [True], 'dropout_rate': [0.1], 'ode_nn': [((100, 'relu'),)], 'readout_nn': [((100, 'relu'),)], 'enc_nn': [((100, 'relu'),)], 'use_rnn': [True], 'residual_enc_dec': [True], 'func_appl_X': [[]], 'solver': ['euler'], 'weight': [0.5], 'weight_decay': [1.0], 'input_sig': [True], 'level': [3], 'data_dict': ['PF_BSUP_dict_CS1_6'], 'test_data_dict': ['PF_BSUP_dict_CS1_test_6'], 'which_loss': ['IO'], 'coord_wise_tau': [False], 'use_y_for_ode': [False], 'masked': [False], 'plot': [True], 'evaluate': [True], 'paths_to_plot': [(0, 1, 2, 3, 4)], 'plot_same_yaxis': [False], 'use_cond_exp': [True], 'saved_models_path': ['../data/saved_models_BSUncertainParams_CS/'], 'dataset_id': [1]}\n",
      "param_dict: {'epochs': [200], 'batch_size': [200], 'save_every': [1], 'learning_rate': [0.001], 'test_size': [0.2], 'seed': [398], 'hidden_size': [200], 'bias': [True], 'dropout_rate': [0.1], 'ode_nn': [((100, 'relu'),)], 'readout_nn': [((100, 'relu'),)], 'enc_nn': [((100, 'relu'),)], 'use_rnn': [True], 'residual_enc_dec': [True], 'func_appl_X': [[]], 'solver': ['euler'], 'weight': [0.5], 'weight_decay': [1.0], 'input_sig': [True], 'level': [3], 'data_dict': ['PF_BSUP_dict_CS2_1'], 'test_data_dict': ['PF_BSUP_dict_CS2_test_1'], 'which_loss': ['IO'], 'coord_wise_tau': [False], 'use_y_for_ode': [False], 'masked': [False], 'plot': [True], 'evaluate': [True], 'paths_to_plot': [(0, 1, 2, 3, 4)], 'plot_same_yaxis': [False], 'use_cond_exp': [True], 'saved_models_path': ['../data/saved_models_BSUncertainParams_CS/'], 'dataset_id': [1]}\n",
      "param_dict: {'epochs': [200], 'batch_size': [200], 'save_every': [1], 'learning_rate': [0.001], 'test_size': [0.2], 'seed': [398], 'hidden_size': [200], 'bias': [True], 'dropout_rate': [0.1], 'ode_nn': [((100, 'relu'),)], 'readout_nn': [((100, 'relu'),)], 'enc_nn': [((100, 'relu'),)], 'use_rnn': [True], 'residual_enc_dec': [True], 'func_appl_X': [[]], 'solver': ['euler'], 'weight': [0.5], 'weight_decay': [1.0], 'input_sig': [True], 'level': [3], 'data_dict': ['PF_BSUP_dict_CS2_2'], 'test_data_dict': ['PF_BSUP_dict_CS2_test_2'], 'which_loss': ['IO'], 'coord_wise_tau': [False], 'use_y_for_ode': [False], 'masked': [False], 'plot': [True], 'evaluate': [True], 'paths_to_plot': [(0, 1, 2, 3, 4)], 'plot_same_yaxis': [False], 'use_cond_exp': [True], 'saved_models_path': ['../data/saved_models_BSUncertainParams_CS/'], 'dataset_id': [1]}\n",
      "param_dict: {'epochs': [200], 'batch_size': [200], 'save_every': [1], 'learning_rate': [0.001], 'test_size': [0.2], 'seed': [398], 'hidden_size': [200], 'bias': [True], 'dropout_rate': [0.1], 'ode_nn': [((100, 'relu'),)], 'readout_nn': [((100, 'relu'),)], 'enc_nn': [((100, 'relu'),)], 'use_rnn': [True], 'residual_enc_dec': [True], 'func_appl_X': [[]], 'solver': ['euler'], 'weight': [0.5], 'weight_decay': [1.0], 'input_sig': [True], 'level': [3], 'data_dict': ['PF_BSUP_dict_CS2_3'], 'test_data_dict': ['PF_BSUP_dict_CS2_test_3'], 'which_loss': ['IO'], 'coord_wise_tau': [False], 'use_y_for_ode': [False], 'masked': [False], 'plot': [True], 'evaluate': [True], 'paths_to_plot': [(0, 1, 2, 3, 4)], 'plot_same_yaxis': [False], 'use_cond_exp': [True], 'saved_models_path': ['../data/saved_models_BSUncertainParams_CS/'], 'dataset_id': [1]}\n",
      "param_dict: {'epochs': [200], 'batch_size': [200], 'save_every': [1], 'learning_rate': [0.001], 'test_size': [0.2], 'seed': [398], 'hidden_size': [200], 'bias': [True], 'dropout_rate': [0.1], 'ode_nn': [((100, 'relu'),)], 'readout_nn': [((100, 'relu'),)], 'enc_nn': [((100, 'relu'),)], 'use_rnn': [True], 'residual_enc_dec': [True], 'func_appl_X': [[]], 'solver': ['euler'], 'weight': [0.5], 'weight_decay': [1.0], 'input_sig': [True], 'level': [3], 'data_dict': ['PF_BSUP_dict_CS2_4'], 'test_data_dict': ['PF_BSUP_dict_CS2_test_4'], 'which_loss': ['IO'], 'coord_wise_tau': [False], 'use_y_for_ode': [False], 'masked': [False], 'plot': [True], 'evaluate': [True], 'paths_to_plot': [(0, 1, 2, 3, 4)], 'plot_same_yaxis': [False], 'use_cond_exp': [True], 'saved_models_path': ['../data/saved_models_BSUncertainParams_CS/'], 'dataset_id': [1]}\n",
      "param_dict: {'epochs': [200], 'batch_size': [200], 'save_every': [1], 'learning_rate': [0.001], 'test_size': [0.2], 'seed': [398], 'hidden_size': [200], 'bias': [True], 'dropout_rate': [0.1], 'ode_nn': [((100, 'relu'),)], 'readout_nn': [((100, 'relu'),)], 'enc_nn': [((100, 'relu'),)], 'use_rnn': [True], 'residual_enc_dec': [True], 'func_appl_X': [[]], 'solver': ['euler'], 'weight': [0.5], 'weight_decay': [1.0], 'input_sig': [True], 'level': [3], 'data_dict': ['PF_BSUP_dict_CS2_5'], 'test_data_dict': ['PF_BSUP_dict_CS2_test_5'], 'which_loss': ['IO'], 'coord_wise_tau': [False], 'use_y_for_ode': [False], 'masked': [False], 'plot': [True], 'evaluate': [True], 'paths_to_plot': [(0, 1, 2, 3, 4)], 'plot_same_yaxis': [False], 'use_cond_exp': [True], 'saved_models_path': ['../data/saved_models_BSUncertainParams_CS/'], 'dataset_id': [1]}\n",
      "param_dict: {'epochs': [200], 'batch_size': [200], 'save_every': [1], 'learning_rate': [0.001], 'test_size': [0.2], 'seed': [398], 'hidden_size': [200], 'bias': [True], 'dropout_rate': [0.1], 'ode_nn': [((100, 'relu'),)], 'readout_nn': [((100, 'relu'),)], 'enc_nn': [((100, 'relu'),)], 'use_rnn': [True], 'residual_enc_dec': [True], 'func_appl_X': [[]], 'solver': ['euler'], 'weight': [0.5], 'weight_decay': [1.0], 'input_sig': [True], 'level': [3], 'data_dict': ['PF_BSUP_dict_CS2_6'], 'test_data_dict': ['PF_BSUP_dict_CS2_test_6'], 'which_loss': ['IO'], 'coord_wise_tau': [False], 'use_y_for_ode': [False], 'masked': [False], 'plot': [True], 'evaluate': [True], 'paths_to_plot': [(0, 1, 2, 3, 4)], 'plot_same_yaxis': [False], 'use_cond_exp': [True], 'saved_models_path': ['../data/saved_models_BSUncertainParams_CS/'], 'dataset_id': [1]}\n",
      "param_dict: {'epochs': [200], 'batch_size': [200], 'save_every': [1], 'learning_rate': [0.001], 'test_size': [0.2], 'seed': [398], 'hidden_size': [100, 200], 'bias': [True], 'dropout_rate': [0.1], 'ode_nn': [((100, 'tanh'),)], 'readout_nn': [((100, 'tanh'),)], 'enc_nn': [((100, 'tanh'),)], 'use_rnn': [True, False], 'residual_enc_dec': [True], 'func_appl_X': [['power-2']], 'solver': ['euler'], 'weight': [0.5], 'weight_decay': [1.0], 'input_sig': [True, False], 'level': [3], 'data_dict': ['PF_BMwUD_dict1'], 'test_data_dict': ['PF_BMwUD_dict1_test'], 'which_loss': ['IO'], 'coord_wise_tau': [False], 'use_y_for_ode': [False], 'masked': [False], 'plot': [True], 'evaluate': [True], 'paths_to_plot': [(0, 1, 2, 3, 4)], 'plot_variance': [True], 'plot_same_yaxis': [False], 'use_cond_exp': [True], 'saved_models_path': ['../data/saved_models_BMwUncertainDrift/'], 'dataset_id': [1]}\n",
      "param_dict: {'epochs': [200], 'batch_size': [200], 'save_every': [1], 'learning_rate': [0.001], 'test_size': [0.2], 'seed': [398], 'hidden_size': [100, 200], 'bias': [True], 'dropout_rate': [0.1], 'ode_nn': [((100, 'tanh'),)], 'readout_nn': [((100, 'tanh'),)], 'enc_nn': [((100, 'tanh'),)], 'use_rnn': [True, False], 'residual_enc_dec': [True], 'func_appl_X': [[]], 'solver': ['euler'], 'weight': [0.5], 'weight_decay': [1.0], 'input_sig': [True, False], 'level': [3], 'data_dict': ['IO_BM_Filter_dict_1'], 'test_data_dict': ['IO_BM_Filter_dict_1_test'], 'which_loss': ['very_easy'], 'coord_wise_tau': [False], 'use_y_for_ode': [False], 'masked': [False], 'plot': [True], 'evaluate': [True], 'paths_to_plot': [(0, 1, 2, 3, 4)], 'plot_variance': [False], 'plot_same_yaxis': [False], 'use_cond_exp': [True], 'saved_models_path': ['../data/saved_models_IO_BMFilter/'], 'dataset_id': [1]}\n",
      "param_dict: {'epochs': [200], 'batch_size': [200], 'save_every': [1], 'learning_rate': [0.001], 'test_size': [0.2], 'seed': [398], 'hidden_size': [100], 'bias': [True], 'dropout_rate': [0.1], 'ode_nn': [((100, 'tanh'),)], 'readout_nn': [((100, 'tanh'),)], 'enc_nn': [((100, 'tanh'),)], 'use_rnn': [True], 'residual_enc_dec': [True], 'func_appl_X': [[]], 'solver': ['euler'], 'weight': [0.5], 'weight_decay': [1.0], 'input_sig': [True], 'level': [3], 'data_dict': ['IO_BS_dict'], 'test_data_dict': ['IO_BS_dict_test'], 'which_loss': ['IO', 'easy'], 'which_val_loss': ['jump'], 'coord_wise_tau': [False], 'use_y_for_ode': [False], 'masked': [False], 'plot': [True], 'evaluate': [True], 'paths_to_plot': [(0, 1, 2, 3, 4)], 'plot_same_yaxis': [False], 'use_cond_exp': [True], 'saved_models_path': ['../data/saved_models_BS_learn_jumps/'], 'dataset_id': [1]}\n",
      "param_dict: {'epochs': [200], 'batch_size': [200], 'save_every': [1], 'learning_rate': [0.001], 'test_size': [0.2], 'seed': [398], 'hidden_size': [100], 'bias': [True], 'dropout_rate': [0.1], 'ode_nn': [((100, 'relu'),)], 'readout_nn': [((100, 'relu'),)], 'enc_nn': [((100, 'relu'),)], 'use_rnn': [True], 'residual_enc_dec': [True], 'func_appl_X': [[]], 'solver': ['euler'], 'weight': [0.5], 'weight_decay': [1.0], 'input_sig': [True], 'level': [3], 'data_dict': ['IO_BS_dict'], 'test_data_dict': ['IO_BS_dict_test'], 'which_loss': ['IO', 'easy'], 'which_val_loss': ['jump'], 'coord_wise_tau': [False], 'use_y_for_ode': [False], 'masked': [False], 'plot': [True], 'evaluate': [True], 'paths_to_plot': [(0, 1, 2, 3, 4)], 'plot_same_yaxis': [False], 'use_cond_exp': [True], 'saved_models_path': ['../data/saved_models_BS_learn_jumps/'], 'dataset_id': [1]}\n",
      "param_dict: {'epochs': [200], 'batch_size': [200], 'save_every': [1], 'learning_rate': [0.001], 'test_size': [0.2], 'seed': [398], 'hidden_size': [200], 'bias': [True], 'dropout_rate': [0.1], 'ode_nn': [((100, 'tanh'),)], 'readout_nn': [((100, 'tanh'),)], 'enc_nn': [((100, 'tanh'),)], 'use_rnn': [True, False], 'residual_enc_dec': [True, False], 'func_appl_X': [[]], 'solver': ['euler'], 'weight': [0.5], 'weight_decay': [1.0], 'input_sig': [True, False], 'level': [3], 'data_dict': ['PF_CIR_dict1'], 'test_data_dict': ['PF_CIR_dict1_test'], 'which_loss': ['IO'], 'coord_wise_tau': [False], 'use_y_for_ode': [False], 'masked': [False], 'plot': [True], 'evaluate': [True], 'paths_to_plot': [(0, 1, 2, 3, 4)], 'plot_same_yaxis': [False], 'use_cond_exp': [True], 'saved_models_path': ['../data/saved_models_CIRUncertainParams/'], 'dataset_id': [1]}\n",
      "param_dict: {'epochs': [200], 'batch_size': [200], 'save_every': [1], 'learning_rate': [0.001], 'test_size': [0.2], 'seed': [398], 'hidden_size': [200], 'bias': [True], 'dropout_rate': [0.1], 'ode_nn': [((100, 'relu'),)], 'readout_nn': [((100, 'relu'),)], 'enc_nn': [((100, 'relu'),)], 'use_rnn': [True, False], 'residual_enc_dec': [True, False], 'func_appl_X': [[]], 'solver': ['euler'], 'weight': [0.5], 'weight_decay': [1.0], 'input_sig': [True, False], 'level': [3], 'data_dict': ['PF_CIR_dict1'], 'test_data_dict': ['PF_CIR_dict1_test'], 'which_loss': ['IO'], 'coord_wise_tau': [False], 'use_y_for_ode': [False], 'masked': [False], 'plot': [True], 'evaluate': [True], 'paths_to_plot': [(0, 1, 2, 3, 4)], 'plot_same_yaxis': [False], 'use_cond_exp': [True], 'saved_models_path': ['../data/saved_models_CIRUncertainParams/'], 'dataset_id': [1]}\n",
      "param_dict: {'epochs': [200], 'batch_size': [200], 'save_every': [1], 'learning_rate': [0.001], 'test_size': [0.2], 'seed': [398], 'hidden_size': [200], 'bias': [True], 'dropout_rate': [0.1], 'ode_nn': [((100, 'tanh'),)], 'readout_nn': [((100, 'tanh'),)], 'enc_nn': [((100, 'tanh'),)], 'use_rnn': [True, False], 'residual_enc_dec': [True, False], 'func_appl_X': [[]], 'solver': ['euler'], 'weight': [0.5], 'weight_decay': [1.0], 'input_sig': [True, False], 'level': [3], 'data_dict': ['PF_CIR_dict2'], 'test_data_dict': ['PF_CIR_dict2_test'], 'which_loss': ['IO'], 'coord_wise_tau': [False], 'use_y_for_ode': [False], 'masked': [False], 'plot': [True], 'evaluate': [True], 'paths_to_plot': [(0, 1, 2, 3, 4)], 'plot_same_yaxis': [False], 'use_cond_exp': [True], 'saved_models_path': ['../data/saved_models_CIRUncertainParams/'], 'dataset_id': [1]}\n",
      "param_dict: {'epochs': [200], 'batch_size': [200], 'save_every': [1], 'learning_rate': [0.001], 'test_size': [0.2], 'seed': [398], 'hidden_size': [200], 'bias': [True], 'dropout_rate': [0.1], 'ode_nn': [((100, 'relu'),)], 'readout_nn': [((100, 'relu'),)], 'enc_nn': [((100, 'relu'),)], 'use_rnn': [True, False], 'residual_enc_dec': [True, False], 'func_appl_X': [[]], 'solver': ['euler'], 'weight': [0.5], 'weight_decay': [1.0], 'input_sig': [True, False], 'level': [3], 'data_dict': ['PF_CIR_dict2'], 'test_data_dict': ['PF_CIR_dict2_test'], 'which_loss': ['IO'], 'coord_wise_tau': [False], 'use_y_for_ode': [False], 'masked': [False], 'plot': [True], 'evaluate': [True], 'paths_to_plot': [(0, 1, 2, 3, 4)], 'plot_same_yaxis': [False], 'use_cond_exp': [True], 'saved_models_path': ['../data/saved_models_CIRUncertainParams/'], 'dataset_id': [1]}\n",
      "param_dict: {'epochs': [200], 'batch_size': [200], 'save_every': [1], 'learning_rate': [0.001], 'test_size': [0.2], 'seed': [398], 'hidden_size': [200], 'bias': [True], 'dropout_rate': [0.1], 'ode_nn': [((100, 'tanh'),)], 'readout_nn': [((100, 'tanh'),)], 'enc_nn': [((100, 'tanh'),)], 'use_rnn': [True, False], 'residual_enc_dec': [True, False], 'func_appl_X': [[]], 'solver': ['euler'], 'weight': [0.5], 'weight_decay': [1.0], 'input_sig': [True, False], 'level': [3], 'data_dict': ['PF_CIR_dict3'], 'test_data_dict': ['PF_CIR_dict3_test'], 'which_loss': ['IO'], 'coord_wise_tau': [False], 'use_y_for_ode': [False], 'masked': [False], 'plot': [True], 'evaluate': [True], 'paths_to_plot': [(0, 1, 2, 3, 4)], 'plot_same_yaxis': [False], 'use_cond_exp': [True], 'saved_models_path': ['../data/saved_models_CIRUncertainParams/'], 'dataset_id': [1]}\n",
      "param_dict: {'epochs': [200], 'batch_size': [200], 'save_every': [1], 'learning_rate': [0.001], 'test_size': [0.2], 'seed': [398], 'hidden_size': [200], 'bias': [True], 'dropout_rate': [0.1], 'ode_nn': [((100, 'relu'),)], 'readout_nn': [((100, 'relu'),)], 'enc_nn': [((100, 'relu'),)], 'use_rnn': [True, False], 'residual_enc_dec': [True, False], 'func_appl_X': [[]], 'solver': ['euler'], 'weight': [0.5], 'weight_decay': [1.0], 'input_sig': [True, False], 'level': [3], 'data_dict': ['PF_CIR_dict3'], 'test_data_dict': ['PF_CIR_dict3_test'], 'which_loss': ['IO'], 'coord_wise_tau': [False], 'use_y_for_ode': [False], 'masked': [False], 'plot': [True], 'evaluate': [True], 'paths_to_plot': [(0, 1, 2, 3, 4)], 'plot_same_yaxis': [False], 'use_cond_exp': [True], 'saved_models_path': ['../data/saved_models_CIRUncertainParams/'], 'dataset_id': [1]}\n",
      "param_dict: {'epochs': [200], 'batch_size': [200], 'save_every': [1], 'learning_rate': [0.001], 'test_size': [0.2], 'seed': [398], 'hidden_size': [200], 'bias': [True], 'dropout_rate': [0.1], 'ode_nn': [((100, 'tanh'),)], 'readout_nn': [((100, 'tanh'),)], 'enc_nn': [((100, 'tanh'),)], 'use_rnn': [True, False], 'residual_enc_dec': [True, False], 'func_appl_X': [[]], 'solver': ['euler'], 'weight': [0.5], 'weight_decay': [1.0], 'input_sig': [True, False], 'level': [3], 'data_dict': ['PF_CIR_dict4'], 'test_data_dict': ['PF_CIR_dict4_test'], 'which_loss': ['IO'], 'coord_wise_tau': [False], 'use_y_for_ode': [False], 'masked': [False], 'plot': [True], 'evaluate': [True], 'paths_to_plot': [(0, 1, 2, 3, 4)], 'plot_same_yaxis': [False], 'use_cond_exp': [True], 'saved_models_path': ['../data/saved_models_CIRUncertainParams/'], 'dataset_id': [1]}\n",
      "param_dict: {'epochs': [200], 'batch_size': [200], 'save_every': [1], 'learning_rate': [0.001], 'test_size': [0.2], 'seed': [398], 'hidden_size': [200], 'bias': [True], 'dropout_rate': [0.1], 'ode_nn': [((100, 'relu'),)], 'readout_nn': [((100, 'relu'),)], 'enc_nn': [((100, 'relu'),)], 'use_rnn': [True, False], 'residual_enc_dec': [True, False], 'func_appl_X': [[]], 'solver': ['euler'], 'weight': [0.5], 'weight_decay': [1.0], 'input_sig': [True, False], 'level': [3], 'data_dict': ['PF_CIR_dict4'], 'test_data_dict': ['PF_CIR_dict4_test'], 'which_loss': ['IO'], 'coord_wise_tau': [False], 'use_y_for_ode': [False], 'masked': [False], 'plot': [True], 'evaluate': [True], 'paths_to_plot': [(0, 1, 2, 3, 4)], 'plot_same_yaxis': [False], 'use_cond_exp': [True], 'saved_models_path': ['../data/saved_models_CIRUncertainParams/'], 'dataset_id': [1]}\n",
      "param_dict: {'epochs': [200], 'batch_size': [200], 'save_every': [1], 'learning_rate': [0.001], 'test_size': [0.2], 'seed': [398], 'hidden_size': [200], 'bias': [True], 'dropout_rate': [0.1], 'ode_nn': [((100, 'tanh'),)], 'readout_nn': [((100, 'tanh'),)], 'enc_nn': [((100, 'tanh'),)], 'use_rnn': [True, False], 'residual_enc_dec': [True, False], 'func_appl_X': [[]], 'solver': ['euler'], 'weight': [0.5], 'weight_decay': [1.0], 'input_sig': [True, False], 'level': [3], 'data_dict': ['IO_BMClass_dict'], 'test_data_dict': ['IO_BMClass_dict_test'], 'which_loss': ['IO'], 'coord_wise_tau': [False], 'use_y_for_ode': [False], 'masked': [False], 'plot': [True], 'evaluate': [True], 'paths_to_plot': [(0, 1, 2, 3, 4)], 'plot_same_yaxis': [False], 'use_cond_exp': [True], 'saved_models_path': ['../data/saved_models_BMClassification/'], 'dataset_id': [1]}\n",
      "param_dict: {'epochs': [200], 'batch_size': [200], 'save_every': [1], 'learning_rate': [0.001], 'test_size': [0.2], 'seed': [398], 'hidden_size': [200], 'bias': [True], 'dropout_rate': [0.1], 'ode_nn': [((100, 'relu'),)], 'readout_nn': [((100, 'relu'),)], 'enc_nn': [((100, 'relu'),)], 'use_rnn': [True, False], 'residual_enc_dec': [True, False], 'func_appl_X': [[]], 'solver': ['euler'], 'weight': [0.5], 'weight_decay': [1.0], 'input_sig': [True, False], 'level': [3], 'data_dict': ['IO_BMClass_dict'], 'test_data_dict': ['IO_BMClass_dict_test'], 'which_loss': ['IO'], 'coord_wise_tau': [False], 'use_y_for_ode': [False], 'masked': [False], 'plot': [True], 'evaluate': [True], 'paths_to_plot': [(0, 1, 2, 3, 4)], 'plot_same_yaxis': [False], 'use_cond_exp': [True], 'saved_models_path': ['../data/saved_models_BMClassification/'], 'dataset_id': [1]}\n",
      "param_dict: {'epochs': [200], 'batch_size': [200], 'save_every': [1], 'learning_rate': [0.001], 'test_size': [0.2], 'seed': [398], 'hidden_size': [400], 'bias': [True], 'dropout_rate': [0.1], 'ode_nn': [((200, 'tanh'),)], 'readout_nn': [((200, 'tanh'),)], 'enc_nn': [((200, 'tanh'),)], 'use_rnn': [True, False], 'func_appl_X': [[]], 'solver': ['euler'], 'weight': [0.5], 'weight_decay': [1.0], 'input_sig': [False, True], 'level': [3], 'residual_enc_dec': [False, True], 'data_dict': ['BM_Quantiles'], 'test_data_dict': ['BM_Quantiles_test'], 'which_loss': ['quantile_jump', 'quantile'], 'loss_quantiles': [[0.1, 0.5, 0.9]], 'which_val_loss': ['quantile'], 'plot': [True], 'evaluate': [True], 'paths_to_plot': [(0, 1, 2, 3, 4)], 'saved_models_path': ['../data/saved_models_BMandQuantiles/'], 'use_current_y_for_ode': [False], 'use_y_for_ode': [False], 'use_observation_as_input': [True, 'lambda x: np.random.random(1) < 1-x/200'], 'dataset_id': [1]}\n",
      "param_dict: {'epochs': [200], 'batch_size': [200], 'save_every': [5], 'learning_rate': [0.001], 'test_size': [0.2], 'seed': [398], 'hidden_size': [10], 'bias': [True], 'dropout_rate': [0.1], 'ode_nn': [((50, 'tanh'), (50, 'tanh'))], 'readout_nn': [((50, 'tanh'), (50, 'tanh'))], 'enc_nn': [((50, 'tanh'), (50, 'tanh'))], 'use_rnn': [False], 'func_appl_X': [[]], 'solver': ['euler'], 'weight': [0.5], 'weight_decay': [1.0], 'data_dict': ['poisson_pp_dict'], 'plot': [True], 'evaluate': [True], 'paths_to_plot': [(0, 1, 2, 3, 4)], 'saved_models_path': ['../data/saved_models_PPP/'], 'dataset_id': [1]}\n",
      "param_dict: {'epochs': [200], 'batch_size': [200], 'save_every': [1], 'learning_rate': [0.001], 'test_size': [0.2], 'seed': [398], 'hidden_size': [10, 50], 'bias': [True], 'dropout_rate': [0.1], 'ode_nn': [((50, 'tanh'), (50, 'tanh'))], 'readout_nn': [((50, 'tanh'), (50, 'tanh'))], 'enc_nn': [((50, 'tanh'), (50, 'tanh'))], 'use_rnn': [False], 'func_appl_X': [[]], 'solver': ['euler'], 'weight': [0.5], 'weight_decay': [1.0], 'data_dict': ['FBM_1_dict'], 'plot': [True], 'evaluate': [True], 'paths_to_plot': [(0, 1, 2, 3, 4)], 'saved_models_path': ['../data/saved_models_FBM/'], 'dataset_id': [1]}\n",
      "param_dict: {'epochs': [200], 'batch_size': [50, 200], 'save_every': [1], 'learning_rate': [0.001], 'test_size': [0.2], 'seed': [398], 'hidden_size': [10, 50], 'bias': [True], 'dropout_rate': [0.1], 'ode_nn': [((50, 'tanh'), (50, 'tanh'))], 'readout_nn': [((50, 'tanh'), (50, 'tanh'))], 'enc_nn': [((50, 'tanh'), (50, 'tanh'))], 'use_rnn': [False], 'func_appl_X': [[]], 'solver': ['euler'], 'weight': [0.5], 'weight_decay': [1.0], 'input_sig': [True], 'level': [2, 3], 'data_dict': ['FBM_1_dict'], 'which_loss': ['standard', 'easy'], 'plot': [True], 'evaluate': [True], 'paths_to_plot': [(0, 1, 2, 3, 4)], 'saved_models_path': ['../data/saved_models_FBM/'], 'dataset_id': [1]}\n",
      "param_dict: {'epochs': [200], 'batch_size': [50, 200], 'save_every': [1], 'learning_rate': [0.001], 'test_size': [0.2], 'seed': [398], 'hidden_size': [10, 50], 'bias': [True], 'dropout_rate': [0.1], 'ode_nn': [((200, 'tanh'), (200, 'tanh'))], 'readout_nn': [((200, 'tanh'), (200, 'tanh'))], 'enc_nn': [((200, 'tanh'), (200, 'tanh'))], 'use_rnn': [False], 'func_appl_X': [[]], 'solver': ['euler'], 'weight': [0.5], 'weight_decay': [1.0], 'input_sig': [True], 'level': [2, 3], 'data_dict': ['FBM_1_dict'], 'which_loss': ['standard', 'easy'], 'plot': [True], 'evaluate': [True], 'paths_to_plot': [(0, 1, 2, 3, 4)], 'saved_models_path': ['../data/saved_models_FBM/'], 'dataset_id': [1]}\n",
      "param_dict: {'epochs': [200], 'batch_size': [200], 'save_every': [1], 'learning_rate': [0.001], 'test_size': [0.2], 'seed': [398], 'hidden_size': [50, 100], 'bias': [True], 'dropout_rate': [0.1], 'ode_nn': [((200, 'tanh'), (200, 'tanh'))], 'readout_nn': [((200, 'tanh'), (200, 'tanh')), None], 'enc_nn': [((200, 'tanh'), (200, 'tanh'))], 'use_rnn': [True], 'func_appl_X': [[]], 'solver': ['euler'], 'weight': [0.5], 'weight_decay': [1.0], 'input_sig': [True, False], 'level': [3], 'data_dict': ['FBM_1_dict'], 'which_loss': ['easy'], 'plot': [True], 'evaluate': [True], 'paths_to_plot': [(0, 1, 2, 3, 4)], 'saved_models_path': ['../data/saved_models_FBM/'], 'dataset_id': [1]}\n",
      "param_dict: {'epochs': [200], 'batch_size': [200], 'save_every': [1], 'learning_rate': [0.001], 'test_size': [0.2], 'seed': [398], 'hidden_size': [50, 100], 'bias': [True], 'dropout_rate': [0.1], 'ode_nn': [((200, 'tanh'), (200, 'tanh'))], 'readout_nn': [((200, 'tanh'), (200, 'tanh'))], 'enc_nn': [((200, 'tanh'), (200, 'tanh'))], 'use_rnn': [False], 'func_appl_X': [[]], 'solver': ['euler'], 'weight': [0.5], 'weight_decay': [1.0], 'input_sig': [False], 'level': [3], 'data_dict': ['FBM_1_dict'], 'which_loss': ['easy'], 'plot': [True], 'evaluate': [True], 'paths_to_plot': [(0, 1, 2, 3, 4)], 'saved_models_path': ['../data/saved_models_FBM/'], 'dataset_id': [1]}\n",
      "param_dict: {'epochs': [200], 'batch_size': [200], 'save_every': [1], 'learning_rate': [0.001], 'test_size': [0.2], 'seed': [398], 'hidden_size': [50], 'bias': [True], 'dropout_rate': [0.1], 'ode_nn': [((200, 'tanh'), (200, 'tanh'))], 'readout_nn': [((200, 'tanh'), (200, 'tanh'))], 'enc_nn': [((200, 'tanh'), (200, 'tanh'))], 'use_rnn': [True], 'func_appl_X': [[]], 'solver': ['euler'], 'weight': [0.5], 'weight_decay': [1.0], 'input_sig': [True], 'level': [1, 2, 4, 5, 6, 7, 8, 9, 10], 'data_dict': ['FBM_1_dict'], 'which_loss': ['easy'], 'plot': [True], 'evaluate': [True], 'paths_to_plot': [(0, 1, 2, 3, 4)], 'saved_models_path': ['../data/saved_models_FBM/'], 'dataset_id': [1]}\n",
      "param_dict: {'epochs': [200], 'batch_size': [200], 'save_every': [1], 'learning_rate': [0.001], 'test_size': [0.2], 'seed': [398], 'hidden_size': [50], 'bias': [True], 'dropout_rate': [0.1], 'ode_nn': [((200, 'tanh'), (200, 'tanh'))], 'readout_nn': [((200, 'tanh'), (200, 'tanh'))], 'enc_nn': [((200, 'tanh'), (200, 'tanh'))], 'use_rnn': [True], 'func_appl_X': [[]], 'solver': ['euler'], 'weight': [0.5], 'weight_decay': [1.0], 'input_sig': [True], 'level': [1, 2, 4, 5, 6, 7, 8, 9, 10], 'data_dict': ['FBM_1_dict'], 'which_loss': ['easy'], 'plot': [True], 'evaluate': [True], 'paths_to_plot': [(0, 1, 2, 3, 4)], 'saved_models_path': ['../data/saved_models_FBM/'], 'dataset_id': [1]}\n",
      "param_dict: {'epochs': [200], 'batch_size': [200], 'save_every': [1], 'learning_rate': [0.001], 'test_size': [0.2], 'seed': [398], 'hidden_size': [100], 'bias': [True], 'dropout_rate': [0.1], 'ode_nn': [((100, 'tanh'),)], 'readout_nn': [((100, 'tanh'),), None], 'enc_nn': [((100, 'tanh'),)], 'use_rnn': [True], 'func_appl_X': [[]], 'solver': ['euler'], 'weight': [0.5], 'weight_decay': [1.0], 'input_sig': [True], 'level': [2], 'dataset': ['BM2DCorr'], 'dataset_id': [None], 'which_loss': ['easy'], 'coord_wise_tau': [False], 'use_y_for_ode': [True], 'masked': [True], 'plot': [True], 'evaluate': [True], 'paths_to_plot': [(0, 1, 2, 3, 4)], 'plot_same_yaxis': [True], 'saved_models_path': ['../data/saved_models_BM2D/']}\n",
      "param_dict: {'epochs': [200], 'batch_size': [200], 'save_every': [1], 'learning_rate': [0.001], 'test_size': [0.2], 'seed': [398], 'hidden_size': [100], 'bias': [True], 'dropout_rate': [0.1], 'ode_nn': [((100, 'relu'),)], 'readout_nn': [((100, 'relu'),), None], 'enc_nn': [((100, 'relu'),)], 'use_rnn': [True], 'func_appl_X': [[]], 'solver': ['euler'], 'weight': [0.5], 'weight_decay': [1.0], 'input_sig': [True], 'level': [2], 'dataset': ['BM2DCorr'], 'dataset_id': [None], 'which_loss': ['easy'], 'coord_wise_tau': [False], 'use_y_for_ode': [True], 'masked': [True], 'plot': [True], 'evaluate': [True], 'paths_to_plot': [(0, 1, 2, 3, 4)], 'plot_same_yaxis': [True], 'saved_models_path': ['../data/saved_models_BM2D/']}\n",
      "param_dict: {'epochs': [200], 'batch_size': [200], 'save_every': [1], 'learning_rate': [0.001], 'test_size': [0.2], 'seed': [398], 'hidden_size': [50], 'bias': [True], 'dropout_rate': [0.1], 'ode_nn': [((50, 'tanh'),)], 'readout_nn': [None], 'enc_nn': [((50, 'tanh'),)], 'func_appl_X': [[]], 'solver': ['euler'], 'weight': [0.5], 'weight_decay': [1.0], 'dataset': ['BMandVar'], 'dataset_id': [None], 'which_loss': ['easy'], 'coord_wise_tau': [False], 'use_y_for_ode': [True], 'use_rnn': [False], 'masked': [False], 'plot': [True], 'evaluate': [True], 'paths_to_plot': [(0, 1, 2, 3, 4)], 'plot_same_yaxis': [True], 'saved_models_path': ['../data/saved_models_BMandVar/']}\n",
      "param_dict: {'epochs': [200], 'batch_size': [200], 'save_every': [1], 'learning_rate': [0.001], 'test_size': [0.2], 'seed': [398], 'hidden_size': [50], 'bias': [True], 'dropout_rate': [0.1], 'ode_nn': [((50, 'tanh'),)], 'readout_nn': [None], 'enc_nn': [((50, 'tanh'),)], 'func_appl_X': [['power-2']], 'solver': ['euler'], 'weight': [0.5], 'weight_decay': [1.0], 'dataset': ['BM'], 'dataset_id': [None], 'which_loss': ['easy'], 'coord_wise_tau': [False], 'use_y_for_ode': [True], 'use_rnn': [False], 'masked': [False], 'plot': [True], 'plot_variance': [True], 'evaluate': [True], 'paths_to_plot': [(0, 1, 2, 3, 4)], 'plot_same_yaxis': [True], 'saved_models_path': ['../data/saved_models_BMandVar/']}\n",
      "param_dict: {'epochs': [200], 'batch_size': [200], 'save_every': [1], 'learning_rate': [0.001], 'test_size': [0.2], 'seed': [398], 'hidden_size': [50], 'bias': [True], 'dropout_rate': [0.1], 'ode_nn': [((50, 'tanh'), (50, 'tanh'))], 'readout_nn': [((50, 'tanh'), (50, 'tanh'))], 'enc_nn': [((50, 'tanh'), (50, 'tanh'))], 'func_appl_X': [[]], 'solver': ['euler'], 'weight': [0.5], 'weight_decay': [1.0], 'data_dict': ['BS_dep_intensity_dict'], 'dataset_id': [None], 'which_loss': ['easy'], 'coord_wise_tau': [False], 'use_y_for_ode': [True], 'use_rnn': [False], 'masked': [False], 'plot': [True], 'evaluate': [True], 'paths_to_plot': [(0, 1, 2, 3, 4)], 'plot_same_yaxis': [True], 'saved_models_path': ['../data/saved_models_DepIntensity/']}\n",
      "param_dict: {'epochs': [200], 'batch_size': [200], 'save_every': [1], 'learning_rate': [0.001], 'test_size': [0.2], 'seed': [398], 'hidden_size': [50], 'bias': [True], 'dropout_rate': [0.1], 'ode_nn': [((50, 'tanh'), (50, 'tanh'))], 'readout_nn': [((50, 'tanh'), (50, 'tanh'))], 'enc_nn': [((50, 'tanh'), (50, 'tanh'))], 'func_appl_X': [[]], 'solver': ['euler'], 'weight': [0.5], 'weight_decay': [1.0], 'data_dict': ['BS_dep_intensity_dict'], 'dataset_id': [None], 'which_loss': ['easy'], 'coord_wise_tau': [False], 'use_y_for_ode': [True], 'use_rnn': [True], 'input_sig': [True], 'level': [3], 'masked': [False], 'plot': [True], 'evaluate': [True], 'paths_to_plot': [(0, 1, 2, 3, 4)], 'plot_same_yaxis': [True], 'saved_models_path': ['../data/saved_models_DepIntensity/']}\n",
      "param_dict: {'epochs': [175], 'batch_size': [50], 'save_every': [1], 'learning_rate': [0.001], 'test_size': [0.2], 'hidden_size': [50], 'bias': [True], 'dropout_rate': [0.1], 'ode_nn': [((50, 'tanh'),)], 'readout_nn': [((50, 'tanh'),)], 'enc_nn': [((50, 'tanh'),)], 'use_rnn': [True], 'solver': ['euler'], 'weight': [0.5], 'weight_decay': [1.0], 'input_sig': [True], 'level': [2], 'dataset': ['physionet'], 'dataset_id': [None], 'which_loss': ['easy'], 'quantization': [0.016], 'n_samples': [8000], 'saved_models_path': ['../data/saved_models_PhysioNet/']}\n",
      "param_dict: {'epochs': [175], 'batch_size': [50], 'save_every': [1], 'learning_rate': [0.001], 'test_size': [0.2], 'hidden_size': [50], 'bias': [True], 'dropout_rate': [0.1], 'ode_nn': [((50, 'tanh'),)], 'readout_nn': [((50, 'tanh'),)], 'enc_nn': [((50, 'tanh'),)], 'use_rnn': [True], 'solver': ['euler'], 'weight': [0.5], 'weight_decay': [1.0], 'input_sig': [True], 'level': [2], 'dataset': ['physionet'], 'dataset_id': [None], 'which_loss': ['easy'], 'quantization': [0.016], 'n_samples': [8000], 'saved_models_path': ['../data/saved_models_PhysioNet/']}\n",
      "param_dict: {'epochs': [200], 'batch_size': [100], 'save_every': [1], 'learning_rate': [0.001], 'test_size': [0.2], 'seed': [398], 'hidden_size': [50, 100], 'bias': [True], 'dropout_rate': [0.1], 'ode_nn': [((50, 'tanh'),)], 'readout_nn': [((50, 'tanh'),)], 'enc_nn': [((50, 'tanh'),)], 'use_rnn': [True], 'solver': ['euler'], 'weight': [0.5], 'weight_decay': [1.0], 'input_sig': [False, True], 'level': [2], 'dataset': ['climate'], 'data_index': [0, 1, 2, 3, 4], 'which_loss': ['easy'], 'delta_t': [0.1], 'saved_models_path': ['../data/saved_models_Climate/'], 'dataset_id': [1]}\n",
      "param_dict: {'epochs': [200], 'batch_size': [100], 'save_every': [1], 'learning_rate': [0.001], 'test_size': [0.2], 'seed': [398], 'hidden_size': [50, 100], 'bias': [True], 'dropout_rate': [0.1], 'ode_nn': [((200, 'tanh'), (200, 'tanh'))], 'readout_nn': [((200, 'tanh'), (200, 'tanh'))], 'enc_nn': [((200, 'tanh'), (200, 'tanh'))], 'use_rnn': [True], 'solver': ['euler'], 'weight': [0.5], 'weight_decay': [1.0], 'input_sig': [False, True], 'level': [2], 'dataset': ['climate'], 'data_index': [0, 1, 2, 3, 4], 'which_loss': ['easy'], 'delta_t': [0.1], 'saved_models_path': ['../data/saved_models_Climate/'], 'dataset_id': [1]}\n",
      "param_dict: {'epochs': [200], 'batch_size': [200], 'save_every': [1], 'learning_rate': [0.001], 'test_size': [0.2], 'seed': [398], 'hidden_size': [50, 100, 200, 400], 'bias': [True], 'dropout_rate': [0.1], 'ode_nn': [((200, 'tanh'),)], 'readout_nn': [((200, 'tanh'),)], 'enc_nn': [((200, 'tanh'),)], 'use_rnn': [False, True], 'func_appl_X': [[]], 'solver': ['euler'], 'weight': [0.5], 'weight_decay': [1.0], 'input_sig': [False, True], 'level': [3], 'data_dict': ['DP_dict1', 'DP_dict2'], 'which_loss': ['easy'], 'plot': [True], 'evaluate': [True], 'paths_to_plot': [(0, 1, 2, 3, 4)], 'saved_models_path': ['../data/saved_models_DoublePendulum/'], 'dataset_id': [1]}\n",
      "param_dict: {'epochs': [200], 'batch_size': [200], 'save_every': [1], 'learning_rate': [0.001], 'test_size': [0.2], 'seed': [398], 'hidden_size': [50, 100, 200, 400], 'bias': [True], 'dropout_rate': [0.1], 'ode_nn': [((200, 'relu'),)], 'readout_nn': [((200, 'relu'),)], 'enc_nn': [((200, 'relu'),)], 'use_rnn': [False, True], 'func_appl_X': [[]], 'solver': ['euler'], 'weight': [0.5], 'weight_decay': [1.0], 'input_sig': [False, True], 'level': [3], 'data_dict': ['DP_dict1', 'DP_dict2'], 'which_loss': ['easy'], 'plot': [True], 'evaluate': [True], 'paths_to_plot': [(0, 1, 2, 3, 4)], 'saved_models_path': ['../data/saved_models_DoublePendulum/'], 'dataset_id': [1]}\n",
      "param_dict: {'epochs': [200], 'batch_size': [200], 'save_every': [1], 'learning_rate': [0.001], 'test_size': [0.2], 'seed': [398], 'hidden_size': [400], 'bias': [True], 'dropout_rate': [0.1], 'ode_nn': [((200, 'tanh'),)], 'readout_nn': [((200, 'tanh'),)], 'enc_nn': [((200, 'tanh'),)], 'use_rnn': [True], 'func_appl_X': [[]], 'solver': ['euler'], 'weight': [0.5], 'weight_decay': [1.0], 'input_sig': [False], 'level': [3], 'data_dict': ['DP_dict3'], 'which_loss': ['easy'], 'plot': [True], 'evaluate': [True], 'paths_to_plot': [(0, 1, 2, 3, 4)], 'saved_models_path': ['../data/saved_models_DoublePendulum/'], 'dataset_id': [1]}\n",
      "param_dict: {'epochs': [200], 'batch_size': [200], 'save_every': [1], 'learning_rate': [0.001], 'test_size': [0.2], 'seed': [398], 'hidden_size': [200], 'bias': [True], 'dropout_rate': [0.1], 'ode_nn': [((100, 'tanh'),)], 'readout_nn': [((100, 'tanh'),), None], 'enc_nn': [((100, 'tanh'),)], 'use_rnn': [True], 'func_appl_X': [[]], 'solver': ['euler'], 'weight': [0.5], 'weight_decay': [1.0], 'input_sig': [True], 'level': [2], 'data_dict': ['BM_Filter_dict_1'], 'test_data_dict': ['BM_Filter_dict_testdata'], 'which_loss': ['easy'], 'use_y_for_ode': [True], 'masked': [True], 'plot': [True], 'evaluate': [True], 'paths_to_plot': [(0, 1, 2, 3, 4)], 'plot_same_yaxis': [True], 'saved_models_path': ['../data/saved_models_BMFiltering/'], 'dataset_id': [1]}\n",
      "param_dict: {'epochs': [200], 'batch_size': [200], 'save_every': [1], 'learning_rate': [0.001], 'test_size': [0.2], 'seed': [398], 'hidden_size': [400], 'bias': [True], 'dropout_rate': [0.1], 'ode_nn': [((200, 'relu'),)], 'readout_nn': [((200, 'relu'),), None], 'enc_nn': [((200, 'relu'),)], 'use_rnn': [True], 'func_appl_X': [[]], 'solver': ['euler'], 'weight': [0.5], 'weight_decay': [1.0], 'input_sig': [True, False], 'level': [2], 'data_dict': ['BM_TimeLag_dict_1', 'BM_TimeLag_dict_2'], 'test_data_dict': ['BM_TimeLag_dict_testdata'], 'which_loss': ['easy'], 'residual_enc_dec': [False], 'ode_input_scaling_func': ['tanh'], 'enc_input_t': [True], 'coord_wise_tau': [True], 'use_y_for_ode': [True], 'masked': [True], 'plot': [True], 'evaluate': [True], 'paths_to_plot': [(0, 1, 2, 3, 4)], 'plot_same_yaxis': [True], 'saved_models_path': ['../data/saved_models_BMTimeLag/'], 'dataset_id': [1]}\n",
      "param_dict: {'epochs': [200], 'batch_size': [200], 'save_every': [5], 'learning_rate': [0.001], 'test_size': [0.2], 'seed': [398], 'hidden_size': [10], 'bias': [True], 'dropout_rate': [0.1], 'ode_nn': [((50, 'tanh'), (50, 'tanh'))], 'readout_nn': [((50, 'tanh'), (50, 'tanh'))], 'enc_nn': [((50, 'tanh'), (50, 'tanh'))], 'use_rnn': [False], 'func_appl_X': [[]], 'solver': ['euler'], 'weight': [0.5], 'weight_decay': [1.0], 'data_dict': ['poisson_pp_dict'], 'plot': [True], 'evaluate': [True], 'paths_to_plot': [(0, 1, 2, 3, 4)], 'saved_models_path': ['../data/saved_models_PPP/'], 'dataset_id': [1]}\n",
      "param_dict: {'epochs': [200], 'batch_size': [200], 'save_every': [1], 'learning_rate': [0.001], 'test_size': [0.2], 'seed': [398], 'hidden_size': [10, 50], 'bias': [True], 'dropout_rate': [0.1], 'ode_nn': [((50, 'tanh'), (50, 'tanh'))], 'readout_nn': [((50, 'tanh'), (50, 'tanh'))], 'enc_nn': [((50, 'tanh'), (50, 'tanh'))], 'use_rnn': [False], 'func_appl_X': [[]], 'solver': ['euler'], 'weight': [0.5], 'weight_decay': [1.0], 'data_dict': ['FBM_1_dict'], 'plot': [True], 'evaluate': [True], 'paths_to_plot': [(0, 1, 2, 3, 4)], 'saved_models_path': ['../data/saved_models_FBM/'], 'dataset_id': [1]}\n",
      "param_dict: {'epochs': [200], 'batch_size': [50, 200], 'save_every': [1], 'learning_rate': [0.001], 'test_size': [0.2], 'seed': [398], 'hidden_size': [10, 50], 'bias': [True], 'dropout_rate': [0.1], 'ode_nn': [((50, 'tanh'), (50, 'tanh'))], 'readout_nn': [((50, 'tanh'), (50, 'tanh'))], 'enc_nn': [((50, 'tanh'), (50, 'tanh'))], 'use_rnn': [False], 'func_appl_X': [[]], 'solver': ['euler'], 'weight': [0.5], 'weight_decay': [1.0], 'input_sig': [True], 'level': [2, 3], 'data_dict': ['FBM_1_dict'], 'which_loss': ['standard', 'easy'], 'plot': [True], 'evaluate': [True], 'paths_to_plot': [(0, 1, 2, 3, 4)], 'saved_models_path': ['../data/saved_models_FBM/'], 'dataset_id': [1]}\n",
      "param_dict: {'epochs': [200], 'batch_size': [50, 200], 'save_every': [1], 'learning_rate': [0.001], 'test_size': [0.2], 'seed': [398], 'hidden_size': [10, 50], 'bias': [True], 'dropout_rate': [0.1], 'ode_nn': [((200, 'tanh'), (200, 'tanh'))], 'readout_nn': [((200, 'tanh'), (200, 'tanh'))], 'enc_nn': [((200, 'tanh'), (200, 'tanh'))], 'use_rnn': [False], 'func_appl_X': [[]], 'solver': ['euler'], 'weight': [0.5], 'weight_decay': [1.0], 'input_sig': [True], 'level': [2, 3], 'data_dict': ['FBM_1_dict'], 'which_loss': ['standard', 'easy'], 'plot': [True], 'evaluate': [True], 'paths_to_plot': [(0, 1, 2, 3, 4)], 'saved_models_path': ['../data/saved_models_FBM/'], 'dataset_id': [1]}\n",
      "param_dict: {'epochs': [200], 'batch_size': [200], 'save_every': [1], 'learning_rate': [0.001], 'test_size': [0.2], 'seed': [398], 'hidden_size': [50, 100], 'bias': [True], 'dropout_rate': [0.1], 'ode_nn': [((200, 'tanh'), (200, 'tanh'))], 'readout_nn': [((200, 'tanh'), (200, 'tanh')), None], 'enc_nn': [((200, 'tanh'), (200, 'tanh'))], 'use_rnn': [True], 'func_appl_X': [[]], 'solver': ['euler'], 'weight': [0.5], 'weight_decay': [1.0], 'input_sig': [True, False], 'level': [3], 'data_dict': ['FBM_1_dict'], 'which_loss': ['easy'], 'plot': [True], 'evaluate': [True], 'paths_to_plot': [(0, 1, 2, 3, 4)], 'saved_models_path': ['../data/saved_models_FBM/'], 'dataset_id': [1]}\n",
      "param_dict: {'epochs': [200], 'batch_size': [200], 'save_every': [1], 'learning_rate': [0.001], 'test_size': [0.2], 'seed': [398], 'hidden_size': [50, 100], 'bias': [True], 'dropout_rate': [0.1], 'ode_nn': [((200, 'tanh'), (200, 'tanh'))], 'readout_nn': [((200, 'tanh'), (200, 'tanh'))], 'enc_nn': [((200, 'tanh'), (200, 'tanh'))], 'use_rnn': [False], 'func_appl_X': [[]], 'solver': ['euler'], 'weight': [0.5], 'weight_decay': [1.0], 'input_sig': [False], 'level': [3], 'data_dict': ['FBM_1_dict'], 'which_loss': ['easy'], 'plot': [True], 'evaluate': [True], 'paths_to_plot': [(0, 1, 2, 3, 4)], 'saved_models_path': ['../data/saved_models_FBM/'], 'dataset_id': [1]}\n",
      "param_dict: {'epochs': [200], 'batch_size': [200], 'save_every': [1], 'learning_rate': [0.001], 'test_size': [0.2], 'seed': [398], 'hidden_size': [50], 'bias': [True], 'dropout_rate': [0.1], 'ode_nn': [((200, 'tanh'), (200, 'tanh'))], 'readout_nn': [((200, 'tanh'), (200, 'tanh'))], 'enc_nn': [((200, 'tanh'), (200, 'tanh'))], 'use_rnn': [True], 'func_appl_X': [[]], 'solver': ['euler'], 'weight': [0.5], 'weight_decay': [1.0], 'input_sig': [True], 'level': [1, 2, 4, 5, 6, 7, 8, 9, 10], 'data_dict': ['FBM_1_dict'], 'which_loss': ['easy'], 'plot': [True], 'evaluate': [True], 'paths_to_plot': [(0, 1, 2, 3, 4)], 'saved_models_path': ['../data/saved_models_FBM/'], 'dataset_id': [1]}\n",
      "param_dict: {'epochs': [200], 'batch_size': [200], 'save_every': [1], 'learning_rate': [0.001], 'test_size': [0.2], 'seed': [398], 'hidden_size': [50], 'bias': [True], 'dropout_rate': [0.1], 'ode_nn': [((200, 'tanh'), (200, 'tanh'))], 'readout_nn': [((200, 'tanh'), (200, 'tanh'))], 'enc_nn': [((200, 'tanh'), (200, 'tanh'))], 'use_rnn': [True], 'func_appl_X': [[]], 'solver': ['euler'], 'weight': [0.5], 'weight_decay': [1.0], 'input_sig': [True], 'level': [1, 2, 4, 5, 6, 7, 8, 9, 10], 'data_dict': ['FBM_1_dict'], 'which_loss': ['easy'], 'plot': [True], 'evaluate': [True], 'paths_to_plot': [(0, 1, 2, 3, 4)], 'saved_models_path': ['../data/saved_models_FBM/'], 'dataset_id': [1]}\n",
      "param_dict: {'epochs': [200], 'batch_size': [200], 'save_every': [1], 'learning_rate': [0.001], 'test_size': [0.2], 'seed': [398], 'hidden_size': [100], 'bias': [True], 'dropout_rate': [0.1], 'ode_nn': [((100, 'tanh'),)], 'readout_nn': [((100, 'tanh'),), None], 'enc_nn': [((100, 'tanh'),)], 'use_rnn': [True], 'func_appl_X': [[]], 'solver': ['euler'], 'weight': [0.5], 'weight_decay': [1.0], 'input_sig': [True], 'level': [2], 'dataset': ['BM2DCorr'], 'dataset_id': [None], 'which_loss': ['easy'], 'coord_wise_tau': [False], 'use_y_for_ode': [True], 'masked': [True], 'plot': [True], 'evaluate': [True], 'paths_to_plot': [(0, 1, 2, 3, 4)], 'plot_same_yaxis': [True], 'saved_models_path': ['../data/saved_models_BM2D/']}\n",
      "param_dict: {'epochs': [200], 'batch_size': [200], 'save_every': [1], 'learning_rate': [0.001], 'test_size': [0.2], 'seed': [398], 'hidden_size': [100], 'bias': [True], 'dropout_rate': [0.1], 'ode_nn': [((100, 'relu'),)], 'readout_nn': [((100, 'relu'),), None], 'enc_nn': [((100, 'relu'),)], 'use_rnn': [True], 'func_appl_X': [[]], 'solver': ['euler'], 'weight': [0.5], 'weight_decay': [1.0], 'input_sig': [True], 'level': [2], 'dataset': ['BM2DCorr'], 'dataset_id': [None], 'which_loss': ['easy'], 'coord_wise_tau': [False], 'use_y_for_ode': [True], 'masked': [True], 'plot': [True], 'evaluate': [True], 'paths_to_plot': [(0, 1, 2, 3, 4)], 'plot_same_yaxis': [True], 'saved_models_path': ['../data/saved_models_BM2D/']}\n",
      "param_dict: {'epochs': [200], 'batch_size': [200], 'save_every': [1], 'learning_rate': [0.001], 'test_size': [0.2], 'seed': [398], 'hidden_size': [50], 'bias': [True], 'dropout_rate': [0.1], 'ode_nn': [((50, 'tanh'),)], 'readout_nn': [None], 'enc_nn': [((50, 'tanh'),)], 'func_appl_X': [[]], 'solver': ['euler'], 'weight': [0.5], 'weight_decay': [1.0], 'dataset': ['BMandVar'], 'dataset_id': [None], 'which_loss': ['easy'], 'coord_wise_tau': [False], 'use_y_for_ode': [True], 'use_rnn': [False], 'masked': [False], 'plot': [True], 'evaluate': [True], 'paths_to_plot': [(0, 1, 2, 3, 4)], 'plot_same_yaxis': [True], 'saved_models_path': ['../data/saved_models_BMandVar/']}\n",
      "param_dict: {'epochs': [200], 'batch_size': [200], 'save_every': [1], 'learning_rate': [0.001], 'test_size': [0.2], 'seed': [398], 'hidden_size': [50], 'bias': [True], 'dropout_rate': [0.1], 'ode_nn': [((50, 'tanh'),)], 'readout_nn': [None], 'enc_nn': [((50, 'tanh'),)], 'func_appl_X': [['power-2']], 'solver': ['euler'], 'weight': [0.5], 'weight_decay': [1.0], 'dataset': ['BM'], 'dataset_id': [None], 'which_loss': ['easy'], 'coord_wise_tau': [False], 'use_y_for_ode': [True], 'use_rnn': [False], 'masked': [False], 'plot': [True], 'plot_variance': [True], 'evaluate': [True], 'paths_to_plot': [(0, 1, 2, 3, 4)], 'plot_same_yaxis': [True], 'saved_models_path': ['../data/saved_models_BMandVar/']}\n",
      "param_dict: {'epochs': [200], 'batch_size': [200], 'save_every': [1], 'learning_rate': [0.001], 'test_size': [0.2], 'seed': [398], 'hidden_size': [50], 'bias': [True], 'dropout_rate': [0.1], 'ode_nn': [((50, 'tanh'), (50, 'tanh'))], 'readout_nn': [((50, 'tanh'), (50, 'tanh'))], 'enc_nn': [((50, 'tanh'), (50, 'tanh'))], 'func_appl_X': [[]], 'solver': ['euler'], 'weight': [0.5], 'weight_decay': [1.0], 'data_dict': ['BS_dep_intensity_dict'], 'dataset_id': [None], 'which_loss': ['easy'], 'coord_wise_tau': [False], 'use_y_for_ode': [True], 'use_rnn': [False], 'masked': [False], 'plot': [True], 'evaluate': [True], 'paths_to_plot': [(0, 1, 2, 3, 4)], 'plot_same_yaxis': [True], 'saved_models_path': ['../data/saved_models_DepIntensity/']}\n",
      "param_dict: {'epochs': [200], 'batch_size': [200], 'save_every': [1], 'learning_rate': [0.001], 'test_size': [0.2], 'seed': [398], 'hidden_size': [50], 'bias': [True], 'dropout_rate': [0.1], 'ode_nn': [((50, 'tanh'), (50, 'tanh'))], 'readout_nn': [((50, 'tanh'), (50, 'tanh'))], 'enc_nn': [((50, 'tanh'), (50, 'tanh'))], 'func_appl_X': [[]], 'solver': ['euler'], 'weight': [0.5], 'weight_decay': [1.0], 'data_dict': ['BS_dep_intensity_dict'], 'dataset_id': [None], 'which_loss': ['easy'], 'coord_wise_tau': [False], 'use_y_for_ode': [True], 'use_rnn': [True], 'input_sig': [True], 'level': [3], 'masked': [False], 'plot': [True], 'evaluate': [True], 'paths_to_plot': [(0, 1, 2, 3, 4)], 'plot_same_yaxis': [True], 'saved_models_path': ['../data/saved_models_DepIntensity/']}\n",
      "param_dict: {'epochs': [175], 'batch_size': [50], 'save_every': [1], 'learning_rate': [0.001], 'test_size': [0.2], 'hidden_size': [50], 'bias': [True], 'dropout_rate': [0.1], 'ode_nn': [((50, 'tanh'),)], 'readout_nn': [((50, 'tanh'),)], 'enc_nn': [((50, 'tanh'),)], 'use_rnn': [True], 'solver': ['euler'], 'weight': [0.5], 'weight_decay': [1.0], 'input_sig': [True], 'level': [2], 'dataset': ['physionet'], 'dataset_id': [None], 'which_loss': ['easy'], 'quantization': [0.016], 'n_samples': [8000], 'saved_models_path': ['../data/saved_models_PhysioNet/']}\n",
      "param_dict: {'epochs': [175], 'batch_size': [50], 'save_every': [1], 'learning_rate': [0.001], 'test_size': [0.2], 'hidden_size': [50], 'bias': [True], 'dropout_rate': [0.1], 'ode_nn': [((50, 'tanh'),)], 'readout_nn': [((50, 'tanh'),)], 'enc_nn': [((50, 'tanh'),)], 'use_rnn': [True], 'solver': ['euler'], 'weight': [0.5], 'weight_decay': [1.0], 'input_sig': [True], 'level': [2], 'dataset': ['physionet'], 'dataset_id': [None], 'which_loss': ['easy'], 'quantization': [0.016], 'n_samples': [8000], 'saved_models_path': ['../data/saved_models_PhysioNet/']}\n",
      "param_dict: {'epochs': [200], 'batch_size': [100], 'save_every': [1], 'learning_rate': [0.001], 'test_size': [0.2], 'seed': [398], 'hidden_size': [50, 100], 'bias': [True], 'dropout_rate': [0.1], 'ode_nn': [((50, 'tanh'),)], 'readout_nn': [((50, 'tanh'),)], 'enc_nn': [((50, 'tanh'),)], 'use_rnn': [True], 'solver': ['euler'], 'weight': [0.5], 'weight_decay': [1.0], 'input_sig': [False, True], 'level': [2], 'dataset': ['climate'], 'data_index': [0, 1, 2, 3, 4], 'which_loss': ['easy'], 'delta_t': [0.1], 'saved_models_path': ['../data/saved_models_Climate/'], 'dataset_id': [1]}\n",
      "param_dict: {'epochs': [200], 'batch_size': [100], 'save_every': [1], 'learning_rate': [0.001], 'test_size': [0.2], 'seed': [398], 'hidden_size': [50, 100], 'bias': [True], 'dropout_rate': [0.1], 'ode_nn': [((200, 'tanh'), (200, 'tanh'))], 'readout_nn': [((200, 'tanh'), (200, 'tanh'))], 'enc_nn': [((200, 'tanh'), (200, 'tanh'))], 'use_rnn': [True], 'solver': ['euler'], 'weight': [0.5], 'weight_decay': [1.0], 'input_sig': [False, True], 'level': [2], 'dataset': ['climate'], 'data_index': [0, 1, 2, 3, 4], 'which_loss': ['easy'], 'delta_t': [0.1], 'saved_models_path': ['../data/saved_models_Climate/'], 'dataset_id': [1]}\n",
      "param_dict: {'epochs': [200], 'batch_size': [200], 'save_every': [1], 'learning_rate': [0.001], 'test_size': [0.2], 'seed': [398], 'hidden_size': [50, 100, 200, 400], 'bias': [True], 'dropout_rate': [0.1], 'ode_nn': [((200, 'tanh'),)], 'readout_nn': [((200, 'tanh'),)], 'enc_nn': [((200, 'tanh'),)], 'use_rnn': [False, True], 'func_appl_X': [[]], 'solver': ['euler'], 'weight': [0.5], 'weight_decay': [1.0], 'input_sig': [False, True], 'level': [3], 'data_dict': ['DP_dict1', 'DP_dict2'], 'which_loss': ['easy'], 'plot': [True], 'evaluate': [True], 'paths_to_plot': [(0, 1, 2, 3, 4)], 'saved_models_path': ['../data/saved_models_DoublePendulum/'], 'dataset_id': [1]}\n",
      "param_dict: {'epochs': [200], 'batch_size': [200], 'save_every': [1], 'learning_rate': [0.001], 'test_size': [0.2], 'seed': [398], 'hidden_size': [50, 100, 200, 400], 'bias': [True], 'dropout_rate': [0.1], 'ode_nn': [((200, 'relu'),)], 'readout_nn': [((200, 'relu'),)], 'enc_nn': [((200, 'relu'),)], 'use_rnn': [False, True], 'func_appl_X': [[]], 'solver': ['euler'], 'weight': [0.5], 'weight_decay': [1.0], 'input_sig': [False, True], 'level': [3], 'data_dict': ['DP_dict1', 'DP_dict2'], 'which_loss': ['easy'], 'plot': [True], 'evaluate': [True], 'paths_to_plot': [(0, 1, 2, 3, 4)], 'saved_models_path': ['../data/saved_models_DoublePendulum/'], 'dataset_id': [1]}\n",
      "param_dict: {'epochs': [200], 'batch_size': [200], 'save_every': [1], 'learning_rate': [0.001], 'test_size': [0.2], 'seed': [398], 'hidden_size': [400], 'bias': [True], 'dropout_rate': [0.1], 'ode_nn': [((200, 'tanh'),)], 'readout_nn': [((200, 'tanh'),)], 'enc_nn': [((200, 'tanh'),)], 'use_rnn': [True], 'func_appl_X': [[]], 'solver': ['euler'], 'weight': [0.5], 'weight_decay': [1.0], 'input_sig': [False], 'level': [3], 'data_dict': ['DP_dict3'], 'which_loss': ['easy'], 'plot': [True], 'evaluate': [True], 'paths_to_plot': [(0, 1, 2, 3, 4)], 'saved_models_path': ['../data/saved_models_DoublePendulum/'], 'dataset_id': [1]}\n",
      "param_dict: {'epochs': [200], 'batch_size': [200], 'save_every': [1], 'learning_rate': [0.001], 'test_size': [0.2], 'seed': [398], 'hidden_size': [200], 'bias': [True], 'dropout_rate': [0.1], 'ode_nn': [((100, 'tanh'),)], 'readout_nn': [((100, 'tanh'),), None], 'enc_nn': [((100, 'tanh'),)], 'use_rnn': [True], 'func_appl_X': [[]], 'solver': ['euler'], 'weight': [0.5], 'weight_decay': [1.0], 'input_sig': [True], 'level': [2], 'data_dict': ['BM_Filter_dict_1'], 'test_data_dict': ['BM_Filter_dict_testdata'], 'which_loss': ['easy'], 'use_y_for_ode': [True], 'masked': [True], 'plot': [True], 'evaluate': [True], 'paths_to_plot': [(0, 1, 2, 3, 4)], 'plot_same_yaxis': [True], 'saved_models_path': ['../data/saved_models_BMFiltering/'], 'dataset_id': [1]}\n",
      "param_dict: {'epochs': [200], 'batch_size': [200], 'save_every': [1], 'learning_rate': [0.001], 'test_size': [0.2], 'seed': [398], 'hidden_size': [400], 'bias': [True], 'dropout_rate': [0.1], 'ode_nn': [((200, 'relu'),)], 'readout_nn': [((200, 'relu'),), None], 'enc_nn': [((200, 'relu'),)], 'use_rnn': [True], 'func_appl_X': [[]], 'solver': ['euler'], 'weight': [0.5], 'weight_decay': [1.0], 'input_sig': [True, False], 'level': [2], 'data_dict': ['BM_TimeLag_dict_1', 'BM_TimeLag_dict_2'], 'test_data_dict': ['BM_TimeLag_dict_testdata'], 'which_loss': ['easy'], 'residual_enc_dec': [False], 'ode_input_scaling_func': ['tanh'], 'enc_input_t': [True], 'coord_wise_tau': [True], 'use_y_for_ode': [True], 'masked': [True], 'plot': [True], 'evaluate': [True], 'paths_to_plot': [(0, 1, 2, 3, 4)], 'plot_same_yaxis': [True], 'saved_models_path': ['../data/saved_models_BMTimeLag/'], 'dataset_id': [1]}\n",
      "mob30009889\n",
      "SERVER=False\n"
     ]
    }
   ],
   "source": [
    "import NJODE.data_utils as data_util\n",
    "import NJODE.train as train"
   ],
   "metadata": {
    "collapsed": false,
    "ExecuteTime": {
     "end_time": "2025-04-10T14:48:26.000784600Z",
     "start_time": "2025-04-10T14:48:25.162995300Z"
    }
   },
   "id": "ad8939a0f1577863"
  },
  {
   "cell_type": "code",
   "execution_count": 4,
   "outputs": [],
   "source": [
    "dataset_dic = {\n",
    "    'volatility': np.array([[0.05, 0.0, 0.0], [0.0, 0.1, 0.0], [0.0,0.0, 0.2]]).tolist(),\n",
    "    'mean': np.array([1, 0.5, 0.5]).tolist(),\n",
    "    'poisson_lambda': 3.0,\n",
    "    'speed': np.array([[10, 0.0, 0.0], [0.0, 0.4, 0.0],[0.0,0.0,0.5]]).tolist(),\n",
    "    'correlation': 0.5,\n",
    "    'nb_paths': 100,\n",
    "    'nb_steps': 100,\n",
    "    'S0': np.array([1.0, 1.5 ,2.0]).tolist(),\n",
    "    'maturity': 1.0,\n",
    "    'dimension': 3,\n",
    "    'obs_perc': 1.0,\n",
    "    'scheme': 'euler',\n",
    "    'return_vol': False,\n",
    "    'v0': 1,\n",
    "    'hurst': 0.75,\n",
    "    'FBMmethod': 'daviesharte',\n",
    "    'model_name': 'OrnsteinUhlenbeckWithCrossTerms',\n",
    "    'dt': 0.01, \n",
    "}"
   ],
   "metadata": {
    "collapsed": false,
    "ExecuteTime": {
     "end_time": "2025-04-10T14:06:38.796813400Z",
     "start_time": "2025-04-10T14:06:38.757453200Z"
    }
   },
   "id": "69320b6d144fe549"
  },
  {
   "cell_type": "code",
   "execution_count": 5,
   "outputs": [],
   "source": [
    "datasetpath, dataset_id = data_util.create_dataset(\"OrnsteinUhlenbeckWithCrossTerms\",dataset_dic)"
   ],
   "metadata": {
    "collapsed": false,
    "ExecuteTime": {
     "end_time": "2025-04-10T14:06:42.323713600Z",
     "start_time": "2025-04-10T14:06:42.203823700Z"
    }
   },
   "id": "af4e387dc042b519"
  },
  {
   "cell_type": "code",
   "execution_count": 6,
   "outputs": [
    {
     "data": {
      "text/plain": "38"
     },
     "execution_count": 6,
     "metadata": {},
     "output_type": "execute_result"
    }
   ],
   "source": [
    "dataset_id"
   ],
   "metadata": {
    "collapsed": false,
    "ExecuteTime": {
     "end_time": "2025-04-10T14:06:43.554801200Z",
     "start_time": "2025-04-10T14:06:43.523415200Z"
    }
   },
   "id": "9b23a13f999bcab0"
  },
  {
   "cell_type": "code",
   "execution_count": 7,
   "outputs": [
    {
     "name": "stdout",
     "output_type": "stream",
     "text": [
      "{'FBMmethod': 'daviesharte', 'S0': [1.0, 1.5, 2.0], 'correlation': 0.5, 'dimension': 3, 'dt': 0.01, 'hurst': 0.75, 'maturity': 1.0, 'mean': [1.0, 0.5, 0.5], 'model_name': 'OrnsteinUhlenbeckWithCrossTerms', 'nb_paths': 100, 'nb_steps': 100, 'obs_perc': 1.0, 'poisson_lambda': 3.0, 'return_vol': False, 'scheme': 'euler', 'speed': [[10.0, 0.0, 0.0], [0.0, 0.4, 0.0], [0.0, 0.0, 0.5]], 'v0': 1, 'volatility': [[0.05, 0.0, 0.0], [0.0, 0.1, 0.0], [0.0, 0.0, 0.2]]}\n",
      "using loss: standard\n",
      "neuralODE use input scaling with tanh\n",
      "use residual network: input_size=9, output_size=10\n",
      "use residual network: input_size=10, output_size=9\n",
      "model-id: None\n",
      "\n",
      "using CPU\n",
      "input_coords: [0 1 2 3 4 5 6 7 8]\n",
      "output_coords: [0 1 2 3 4 5 6 7 8]\n",
      "input_size: 9\n",
      "output_size: 9\n",
      "signature_coords: [0 1 2 3 4 5 6 7 8]\n",
      "new model_id=28\n",
      "model params:\n",
      "{\"batch_size\": 100, \"bias\": true, \"data_dict\": {\"FBMmethod\": \"daviesharte\", \"S0\": [1.0, 1.5, 2.0], \"correlation\": 0.5, \"dimension\": 3, \"dt\": 0.01, \"hurst\": 0.75, \"maturity\": 1.0, \"mean\": [1.0, 0.5, 0.5], \"model_name\": \"OrnsteinUhlenbeckWithCrossTerms\", \"nb_paths\": 100, \"nb_steps\": 100, \"obs_perc\": 1.0, \"poisson_lambda\": 3.0, \"return_vol\": false, \"scheme\": \"euler\", \"speed\": [[10.0, 0.0, 0.0], [0.0, 0.4, 0.0], [0.0, 0.0, 0.5]], \"v0\": 1, \"volatility\": [[0.05, 0.0, 0.0], [0.0, 0.1, 0.0], [0.0, 0.0, 0.2]]}, \"dataset\": \"OrnsteinUhlenbeckWithCrossTerms\", \"dataset_id\": 38, \"dropout_rate\": 0.1, \"enc_nn\": [[50, \"tanh\"], [50, \"tanh\"]], \"epochs\": 100, \"hidden_size\": 10, \"input_size\": 9, \"learning_rate\": 0.001, \"ode_nn\": [[50, \"tanh\"], [50, \"tanh\"]], \"optimal_val_loss\": NaN, \"options\": {\"use_cond_exp\": false}, \"output_size\": 9, \"readout_nn\": [[50, \"tanh\"], [50, \"tanh\"]], \"seed\": 398, \"solver\": \"euler\", \"test_size\": 0.2, \"use_rnn\": false, \"weight\": 0.5, \"weight_decay\": 1.0}\n",
      "initiate new model ...\n",
      "\n",
      "model overview:\n",
      "NJODE(\n",
      "  (ode_f): ODEFunc(\n",
      "    (f): Sequential(\n",
      "      (0): Linear(in_features=21, out_features=50, bias=True)\n",
      "      (1): Tanh()\n",
      "      (2): Dropout(p=0.1, inplace=False)\n",
      "      (3): Linear(in_features=50, out_features=50, bias=True)\n",
      "      (4): Tanh()\n",
      "      (5): Dropout(p=0.1, inplace=False)\n",
      "      (6): Linear(in_features=50, out_features=10, bias=True)\n",
      "    )\n",
      "  )\n",
      "  (encoder_map): FFNN(\n",
      "    (ffnn): Sequential(\n",
      "      (0): Linear(in_features=9, out_features=50, bias=True)\n",
      "      (1): Tanh()\n",
      "      (2): Dropout(p=0.1, inplace=False)\n",
      "      (3): Linear(in_features=50, out_features=50, bias=True)\n",
      "      (4): Tanh()\n",
      "      (5): Dropout(p=0.1, inplace=False)\n",
      "      (6): Linear(in_features=50, out_features=10, bias=True)\n",
      "    )\n",
      "  )\n",
      "  (readout_map): FFNN(\n",
      "    (ffnn): Sequential(\n",
      "      (0): Linear(in_features=10, out_features=50, bias=True)\n",
      "      (1): Tanh()\n",
      "      (2): Dropout(p=0.1, inplace=False)\n",
      "      (3): Linear(in_features=50, out_features=50, bias=True)\n",
      "      (4): Tanh()\n",
      "      (5): Dropout(p=0.1, inplace=False)\n",
      "      (6): Linear(in_features=50, out_features=9, bias=True)\n",
      "    )\n",
      "  )\n",
      ") \n",
      "\n",
      "# parameters=11279\n",
      "\n",
      "# trainable parameters=11279\n",
      "\n",
      "start training ...\n"
     ]
    },
    {
     "name": "stderr",
     "output_type": "stream",
     "text": [
      "1it [00:00,  5.89it/s]\n"
     ]
    },
    {
     "name": "stdout",
     "output_type": "stream",
     "text": [
      "evaluating ...\n",
      "epoch 1, weight=0.50000, train-loss=9.31770, optimal-val-loss=nan, val-loss=2.27129, \n",
      "plotting ...\n"
     ]
    },
    {
     "name": "stderr",
     "output_type": "stream",
     "text": [
      "C:\\Users\\gg868\\thesis\\NJODE\\train.py:1030: FutureWarning: The behavior of DataFrame concatenation with empty or all-NA entries is deprecated. In a future version, this will no longer exclude empty or all-NA columns when determining the result dtypes. To retain the old behavior, exclude the relevant entries before the concat operation.\n",
      "  df_metric = pd.concat([df_metric, df_m_app], ignore_index=True)\n",
      "C:\\Users\\gg868\\thesis\\NJODE\\train.py:1041: FutureWarning: The behavior of DataFrame concatenation with empty or all-NA entries is deprecated. In a future version, this will no longer exclude empty or all-NA columns when determining the result dtypes. To retain the old behavior, exclude the relevant entries before the concat operation.\n",
      "  df_metric = pd.concat([df_metric, df_m_app], ignore_index=True)\n"
     ]
    },
    {
     "name": "stdout",
     "output_type": "stream",
     "text": [
      "optimal test-loss (with current weight=0.50000): 0.00000\n",
      "model test-loss (with current weight=0.50000): 2.27129\n",
      "save model ...\n",
      "saved!\n",
      "save new best model: last-best-loss: inf, new-best-loss: 2.27129, epoch: 1\n",
      "saved!\n",
      "----------------------------------------------------------------------------------------------------\n"
     ]
    },
    {
     "name": "stderr",
     "output_type": "stream",
     "text": [
      "1it [00:00,  2.33it/s]\n"
     ]
    },
    {
     "name": "stdout",
     "output_type": "stream",
     "text": [
      "evaluating ...\n",
      "epoch 2, weight=0.50000, train-loss=7.39892, optimal-val-loss=nan, val-loss=0.90812, \n",
      "plotting ...\n"
     ]
    },
    {
     "name": "stderr",
     "output_type": "stream",
     "text": [
      "C:\\Users\\gg868\\thesis\\NJODE\\train.py:1041: FutureWarning: The behavior of DataFrame concatenation with empty or all-NA entries is deprecated. In a future version, this will no longer exclude empty or all-NA columns when determining the result dtypes. To retain the old behavior, exclude the relevant entries before the concat operation.\n",
      "  df_metric = pd.concat([df_metric, df_m_app], ignore_index=True)\n"
     ]
    },
    {
     "name": "stdout",
     "output_type": "stream",
     "text": [
      "optimal test-loss (with current weight=0.50000): 0.00000\n",
      "model test-loss (with current weight=0.50000): 0.90812\n",
      "save model ...\n",
      "saved!\n",
      "save new best model: last-best-loss: 2.27129, new-best-loss: 0.90812, epoch: 2\n",
      "saved!\n",
      "----------------------------------------------------------------------------------------------------\n"
     ]
    },
    {
     "name": "stderr",
     "output_type": "stream",
     "text": [
      "1it [00:00,  3.67it/s]\n"
     ]
    },
    {
     "name": "stdout",
     "output_type": "stream",
     "text": [
      "evaluating ...\n",
      "epoch 3, weight=0.50000, train-loss=5.92530, optimal-val-loss=nan, val-loss=0.21056, \n",
      "plotting ...\n"
     ]
    },
    {
     "name": "stderr",
     "output_type": "stream",
     "text": [
      "C:\\Users\\gg868\\thesis\\NJODE\\train.py:1041: FutureWarning: The behavior of DataFrame concatenation with empty or all-NA entries is deprecated. In a future version, this will no longer exclude empty or all-NA columns when determining the result dtypes. To retain the old behavior, exclude the relevant entries before the concat operation.\n",
      "  df_metric = pd.concat([df_metric, df_m_app], ignore_index=True)\n"
     ]
    },
    {
     "name": "stdout",
     "output_type": "stream",
     "text": [
      "optimal test-loss (with current weight=0.50000): 0.00000\n",
      "model test-loss (with current weight=0.50000): 0.21056\n",
      "save model ...\n",
      "saved!\n",
      "save new best model: last-best-loss: 0.90812, new-best-loss: 0.21056, epoch: 3\n",
      "saved!\n",
      "----------------------------------------------------------------------------------------------------\n"
     ]
    },
    {
     "name": "stderr",
     "output_type": "stream",
     "text": [
      "1it [00:00,  3.64it/s]\n"
     ]
    },
    {
     "name": "stdout",
     "output_type": "stream",
     "text": [
      "evaluating ...\n",
      "epoch 4, weight=0.50000, train-loss=5.09022, optimal-val-loss=nan, val-loss=0.05301, \n",
      "plotting ...\n"
     ]
    },
    {
     "name": "stderr",
     "output_type": "stream",
     "text": [
      "C:\\Users\\gg868\\thesis\\NJODE\\train.py:1041: FutureWarning: The behavior of DataFrame concatenation with empty or all-NA entries is deprecated. In a future version, this will no longer exclude empty or all-NA columns when determining the result dtypes. To retain the old behavior, exclude the relevant entries before the concat operation.\n",
      "  df_metric = pd.concat([df_metric, df_m_app], ignore_index=True)\n"
     ]
    },
    {
     "name": "stdout",
     "output_type": "stream",
     "text": [
      "optimal test-loss (with current weight=0.50000): 0.00000\n",
      "model test-loss (with current weight=0.50000): 0.05301\n",
      "save model ...\n",
      "saved!\n",
      "save new best model: last-best-loss: 0.21056, new-best-loss: 0.05301, epoch: 4\n",
      "saved!\n",
      "----------------------------------------------------------------------------------------------------\n"
     ]
    },
    {
     "name": "stderr",
     "output_type": "stream",
     "text": [
      "1it [00:00,  3.83it/s]\n"
     ]
    },
    {
     "name": "stdout",
     "output_type": "stream",
     "text": [
      "evaluating ...\n",
      "epoch 5, weight=0.50000, train-loss=4.73081, optimal-val-loss=nan, val-loss=0.22891, \n",
      "plotting ...\n",
      "optimal test-loss (with current weight=0.50000): 0.00000\n",
      "model test-loss (with current weight=0.50000): 0.22891\n",
      "save model ...\n",
      "saved!\n",
      "----------------------------------------------------------------------------------------------------\n"
     ]
    },
    {
     "name": "stderr",
     "output_type": "stream",
     "text": [
      "1it [00:00,  3.69it/s]\n"
     ]
    },
    {
     "name": "stdout",
     "output_type": "stream",
     "text": [
      "evaluating ...\n",
      "epoch 6, weight=0.50000, train-loss=4.86322, optimal-val-loss=nan, val-loss=0.50106, \n",
      "plotting ...\n",
      "optimal test-loss (with current weight=0.50000): 0.00000\n",
      "model test-loss (with current weight=0.50000): 0.50106\n",
      "save model ...\n",
      "saved!\n",
      "----------------------------------------------------------------------------------------------------\n"
     ]
    },
    {
     "name": "stderr",
     "output_type": "stream",
     "text": [
      "1it [00:00,  3.48it/s]\n"
     ]
    },
    {
     "name": "stdout",
     "output_type": "stream",
     "text": [
      "evaluating ...\n",
      "epoch 7, weight=0.50000, train-loss=5.02524, optimal-val-loss=nan, val-loss=0.70000, \n",
      "plotting ...\n",
      "optimal test-loss (with current weight=0.50000): 0.00000\n",
      "model test-loss (with current weight=0.50000): 0.70000\n",
      "save model ...\n",
      "saved!\n",
      "----------------------------------------------------------------------------------------------------\n"
     ]
    },
    {
     "name": "stderr",
     "output_type": "stream",
     "text": [
      "1it [00:00,  3.73it/s]\n"
     ]
    },
    {
     "name": "stdout",
     "output_type": "stream",
     "text": [
      "evaluating ...\n",
      "epoch 8, weight=0.50000, train-loss=5.02220, optimal-val-loss=nan, val-loss=0.76055, \n",
      "plotting ...\n",
      "optimal test-loss (with current weight=0.50000): 0.00000\n",
      "model test-loss (with current weight=0.50000): 0.76055\n",
      "save model ...\n",
      "saved!\n",
      "----------------------------------------------------------------------------------------------------\n"
     ]
    },
    {
     "name": "stderr",
     "output_type": "stream",
     "text": [
      "1it [00:00,  3.92it/s]\n"
     ]
    },
    {
     "name": "stdout",
     "output_type": "stream",
     "text": [
      "evaluating ...\n",
      "epoch 9, weight=0.50000, train-loss=4.97166, optimal-val-loss=nan, val-loss=0.69379, \n",
      "plotting ...\n",
      "optimal test-loss (with current weight=0.50000): 0.00000\n",
      "model test-loss (with current weight=0.50000): 0.69379\n",
      "save model ...\n",
      "saved!\n",
      "----------------------------------------------------------------------------------------------------\n"
     ]
    },
    {
     "name": "stderr",
     "output_type": "stream",
     "text": [
      "1it [00:00,  3.82it/s]\n"
     ]
    },
    {
     "name": "stdout",
     "output_type": "stream",
     "text": [
      "evaluating ...\n",
      "epoch 10, weight=0.50000, train-loss=4.79047, optimal-val-loss=nan, val-loss=0.54612, \n",
      "plotting ...\n",
      "optimal test-loss (with current weight=0.50000): 0.00000\n",
      "model test-loss (with current weight=0.50000): 0.54612\n",
      "save model ...\n",
      "saved!\n",
      "----------------------------------------------------------------------------------------------------\n"
     ]
    },
    {
     "name": "stderr",
     "output_type": "stream",
     "text": [
      "1it [00:00,  3.67it/s]\n"
     ]
    },
    {
     "name": "stdout",
     "output_type": "stream",
     "text": [
      "evaluating ...\n",
      "epoch 11, weight=0.50000, train-loss=4.49020, optimal-val-loss=nan, val-loss=0.36880, \n",
      "plotting ...\n",
      "optimal test-loss (with current weight=0.50000): 0.00000\n",
      "model test-loss (with current weight=0.50000): 0.36880\n",
      "save model ...\n",
      "saved!\n",
      "----------------------------------------------------------------------------------------------------\n"
     ]
    },
    {
     "name": "stderr",
     "output_type": "stream",
     "text": [
      "1it [00:00,  4.33it/s]\n"
     ]
    },
    {
     "name": "stdout",
     "output_type": "stream",
     "text": [
      "evaluating ...\n",
      "epoch 12, weight=0.50000, train-loss=4.13481, optimal-val-loss=nan, val-loss=0.20660, \n",
      "plotting ...\n",
      "optimal test-loss (with current weight=0.50000): 0.00000\n",
      "model test-loss (with current weight=0.50000): 0.20660\n",
      "save model ...\n",
      "saved!\n",
      "----------------------------------------------------------------------------------------------------\n"
     ]
    },
    {
     "name": "stderr",
     "output_type": "stream",
     "text": [
      "1it [00:00,  4.18it/s]\n"
     ]
    },
    {
     "name": "stdout",
     "output_type": "stream",
     "text": [
      "evaluating ...\n",
      "epoch 13, weight=0.50000, train-loss=3.84597, optimal-val-loss=nan, val-loss=0.08905, \n",
      "plotting ...\n",
      "optimal test-loss (with current weight=0.50000): 0.00000\n",
      "model test-loss (with current weight=0.50000): 0.08905\n",
      "save model ...\n",
      "saved!\n",
      "----------------------------------------------------------------------------------------------------\n"
     ]
    },
    {
     "name": "stderr",
     "output_type": "stream",
     "text": [
      "1it [00:00,  3.79it/s]\n"
     ]
    },
    {
     "name": "stdout",
     "output_type": "stream",
     "text": [
      "evaluating ...\n",
      "epoch 14, weight=0.50000, train-loss=3.58103, optimal-val-loss=nan, val-loss=0.02904, \n",
      "plotting ...\n"
     ]
    },
    {
     "name": "stderr",
     "output_type": "stream",
     "text": [
      "C:\\Users\\gg868\\thesis\\NJODE\\train.py:1041: FutureWarning: The behavior of DataFrame concatenation with empty or all-NA entries is deprecated. In a future version, this will no longer exclude empty or all-NA columns when determining the result dtypes. To retain the old behavior, exclude the relevant entries before the concat operation.\n",
      "  df_metric = pd.concat([df_metric, df_m_app], ignore_index=True)\n"
     ]
    },
    {
     "name": "stdout",
     "output_type": "stream",
     "text": [
      "optimal test-loss (with current weight=0.50000): 0.00000\n",
      "model test-loss (with current weight=0.50000): 0.02904\n",
      "save model ...\n",
      "saved!\n",
      "save new best model: last-best-loss: 0.05301, new-best-loss: 0.02904, epoch: 14\n",
      "saved!\n",
      "----------------------------------------------------------------------------------------------------\n"
     ]
    },
    {
     "name": "stderr",
     "output_type": "stream",
     "text": [
      "1it [00:00,  3.88it/s]\n"
     ]
    },
    {
     "name": "stdout",
     "output_type": "stream",
     "text": [
      "evaluating ...\n",
      "epoch 15, weight=0.50000, train-loss=3.36595, optimal-val-loss=nan, val-loss=0.02325, \n",
      "plotting ...\n"
     ]
    },
    {
     "name": "stderr",
     "output_type": "stream",
     "text": [
      "C:\\Users\\gg868\\thesis\\NJODE\\train.py:1041: FutureWarning: The behavior of DataFrame concatenation with empty or all-NA entries is deprecated. In a future version, this will no longer exclude empty or all-NA columns when determining the result dtypes. To retain the old behavior, exclude the relevant entries before the concat operation.\n",
      "  df_metric = pd.concat([df_metric, df_m_app], ignore_index=True)\n"
     ]
    },
    {
     "name": "stdout",
     "output_type": "stream",
     "text": [
      "optimal test-loss (with current weight=0.50000): 0.00000\n",
      "model test-loss (with current weight=0.50000): 0.02325\n",
      "save model ...\n",
      "saved!\n",
      "save new best model: last-best-loss: 0.02904, new-best-loss: 0.02325, epoch: 15\n",
      "saved!\n",
      "----------------------------------------------------------------------------------------------------\n"
     ]
    },
    {
     "name": "stderr",
     "output_type": "stream",
     "text": [
      "1it [00:00,  3.69it/s]\n"
     ]
    },
    {
     "name": "stdout",
     "output_type": "stream",
     "text": [
      "evaluating ...\n",
      "epoch 16, weight=0.50000, train-loss=3.24413, optimal-val-loss=nan, val-loss=0.05535, \n",
      "plotting ...\n",
      "optimal test-loss (with current weight=0.50000): 0.00000\n",
      "model test-loss (with current weight=0.50000): 0.05535\n",
      "save model ...\n",
      "saved!\n",
      "----------------------------------------------------------------------------------------------------\n"
     ]
    },
    {
     "name": "stderr",
     "output_type": "stream",
     "text": [
      "1it [00:00,  2.30it/s]\n"
     ]
    },
    {
     "name": "stdout",
     "output_type": "stream",
     "text": [
      "evaluating ...\n",
      "epoch 17, weight=0.50000, train-loss=3.22606, optimal-val-loss=nan, val-loss=0.10340, \n",
      "plotting ...\n",
      "optimal test-loss (with current weight=0.50000): 0.00000\n",
      "model test-loss (with current weight=0.50000): 0.10340\n",
      "save model ...\n",
      "saved!\n",
      "----------------------------------------------------------------------------------------------------\n"
     ]
    },
    {
     "name": "stderr",
     "output_type": "stream",
     "text": [
      "1it [00:00,  3.07it/s]\n"
     ]
    },
    {
     "name": "stdout",
     "output_type": "stream",
     "text": [
      "evaluating ...\n",
      "epoch 18, weight=0.50000, train-loss=3.18263, optimal-val-loss=nan, val-loss=0.14701, \n",
      "plotting ...\n",
      "optimal test-loss (with current weight=0.50000): 0.00000\n",
      "model test-loss (with current weight=0.50000): 0.14701\n",
      "save model ...\n",
      "saved!\n",
      "----------------------------------------------------------------------------------------------------\n"
     ]
    },
    {
     "name": "stderr",
     "output_type": "stream",
     "text": [
      "1it [00:00,  3.71it/s]\n"
     ]
    },
    {
     "name": "stdout",
     "output_type": "stream",
     "text": [
      "evaluating ...\n",
      "epoch 19, weight=0.50000, train-loss=3.09047, optimal-val-loss=nan, val-loss=0.17204, \n",
      "plotting ...\n",
      "optimal test-loss (with current weight=0.50000): 0.00000\n",
      "model test-loss (with current weight=0.50000): 0.17204\n",
      "save model ...\n",
      "saved!\n",
      "----------------------------------------------------------------------------------------------------\n"
     ]
    },
    {
     "name": "stderr",
     "output_type": "stream",
     "text": [
      "1it [00:00,  3.60it/s]\n"
     ]
    },
    {
     "name": "stdout",
     "output_type": "stream",
     "text": [
      "evaluating ...\n",
      "epoch 20, weight=0.50000, train-loss=3.02169, optimal-val-loss=nan, val-loss=0.17329, \n",
      "plotting ...\n",
      "optimal test-loss (with current weight=0.50000): 0.00000\n",
      "model test-loss (with current weight=0.50000): 0.17329\n",
      "save model ...\n",
      "saved!\n",
      "----------------------------------------------------------------------------------------------------\n"
     ]
    },
    {
     "name": "stderr",
     "output_type": "stream",
     "text": [
      "1it [00:00,  3.76it/s]\n"
     ]
    },
    {
     "name": "stdout",
     "output_type": "stream",
     "text": [
      "evaluating ...\n",
      "epoch 21, weight=0.50000, train-loss=2.90503, optimal-val-loss=nan, val-loss=0.15318, \n",
      "plotting ...\n",
      "optimal test-loss (with current weight=0.50000): 0.00000\n",
      "model test-loss (with current weight=0.50000): 0.15318\n",
      "save model ...\n",
      "saved!\n",
      "----------------------------------------------------------------------------------------------------\n"
     ]
    },
    {
     "name": "stderr",
     "output_type": "stream",
     "text": [
      "1it [00:00,  2.84it/s]\n"
     ]
    },
    {
     "name": "stdout",
     "output_type": "stream",
     "text": [
      "evaluating ...\n",
      "epoch 22, weight=0.50000, train-loss=2.80619, optimal-val-loss=nan, val-loss=0.11918, \n",
      "plotting ...\n",
      "optimal test-loss (with current weight=0.50000): 0.00000\n",
      "model test-loss (with current weight=0.50000): 0.11918\n",
      "save model ...\n",
      "saved!\n",
      "----------------------------------------------------------------------------------------------------\n"
     ]
    },
    {
     "name": "stderr",
     "output_type": "stream",
     "text": [
      "1it [00:00,  3.27it/s]\n"
     ]
    },
    {
     "name": "stdout",
     "output_type": "stream",
     "text": [
      "evaluating ...\n",
      "epoch 23, weight=0.50000, train-loss=2.69420, optimal-val-loss=nan, val-loss=0.08060, \n",
      "plotting ...\n",
      "optimal test-loss (with current weight=0.50000): 0.00000\n",
      "model test-loss (with current weight=0.50000): 0.08060\n",
      "save model ...\n",
      "saved!\n",
      "----------------------------------------------------------------------------------------------------\n"
     ]
    },
    {
     "name": "stderr",
     "output_type": "stream",
     "text": [
      "1it [00:00,  3.71it/s]\n"
     ]
    },
    {
     "name": "stdout",
     "output_type": "stream",
     "text": [
      "evaluating ...\n",
      "epoch 24, weight=0.50000, train-loss=2.53090, optimal-val-loss=nan, val-loss=0.04632, \n",
      "plotting ...\n",
      "optimal test-loss (with current weight=0.50000): 0.00000\n",
      "model test-loss (with current weight=0.50000): 0.04632\n",
      "save model ...\n",
      "saved!\n",
      "----------------------------------------------------------------------------------------------------\n"
     ]
    },
    {
     "name": "stderr",
     "output_type": "stream",
     "text": [
      "1it [00:00,  3.60it/s]\n"
     ]
    },
    {
     "name": "stdout",
     "output_type": "stream",
     "text": [
      "evaluating ...\n",
      "epoch 25, weight=0.50000, train-loss=2.37229, optimal-val-loss=nan, val-loss=0.02272, \n",
      "plotting ...\n"
     ]
    },
    {
     "name": "stderr",
     "output_type": "stream",
     "text": [
      "C:\\Users\\gg868\\thesis\\NJODE\\train.py:1041: FutureWarning: The behavior of DataFrame concatenation with empty or all-NA entries is deprecated. In a future version, this will no longer exclude empty or all-NA columns when determining the result dtypes. To retain the old behavior, exclude the relevant entries before the concat operation.\n",
      "  df_metric = pd.concat([df_metric, df_m_app], ignore_index=True)\n"
     ]
    },
    {
     "name": "stdout",
     "output_type": "stream",
     "text": [
      "optimal test-loss (with current weight=0.50000): 0.00000\n",
      "model test-loss (with current weight=0.50000): 0.02272\n",
      "save model ...\n",
      "saved!\n",
      "save new best model: last-best-loss: 0.02325, new-best-loss: 0.02272, epoch: 25\n",
      "saved!\n",
      "----------------------------------------------------------------------------------------------------\n"
     ]
    },
    {
     "name": "stderr",
     "output_type": "stream",
     "text": [
      "1it [00:00,  3.93it/s]\n"
     ]
    },
    {
     "name": "stdout",
     "output_type": "stream",
     "text": [
      "evaluating ...\n",
      "epoch 26, weight=0.50000, train-loss=2.28572, optimal-val-loss=nan, val-loss=0.01254, \n",
      "plotting ...\n"
     ]
    },
    {
     "name": "stderr",
     "output_type": "stream",
     "text": [
      "C:\\Users\\gg868\\thesis\\NJODE\\train.py:1041: FutureWarning: The behavior of DataFrame concatenation with empty or all-NA entries is deprecated. In a future version, this will no longer exclude empty or all-NA columns when determining the result dtypes. To retain the old behavior, exclude the relevant entries before the concat operation.\n",
      "  df_metric = pd.concat([df_metric, df_m_app], ignore_index=True)\n"
     ]
    },
    {
     "name": "stdout",
     "output_type": "stream",
     "text": [
      "optimal test-loss (with current weight=0.50000): 0.00000\n",
      "model test-loss (with current weight=0.50000): 0.01254\n",
      "save model ...\n",
      "saved!\n",
      "save new best model: last-best-loss: 0.02272, new-best-loss: 0.01254, epoch: 26\n",
      "saved!\n",
      "----------------------------------------------------------------------------------------------------\n"
     ]
    },
    {
     "name": "stderr",
     "output_type": "stream",
     "text": [
      "1it [00:00,  3.69it/s]\n"
     ]
    },
    {
     "name": "stdout",
     "output_type": "stream",
     "text": [
      "evaluating ...\n",
      "epoch 27, weight=0.50000, train-loss=2.17998, optimal-val-loss=nan, val-loss=0.01472, \n",
      "plotting ...\n",
      "optimal test-loss (with current weight=0.50000): 0.00000\n",
      "model test-loss (with current weight=0.50000): 0.01472\n",
      "save model ...\n",
      "saved!\n",
      "----------------------------------------------------------------------------------------------------\n"
     ]
    },
    {
     "name": "stderr",
     "output_type": "stream",
     "text": [
      "1it [00:00,  3.92it/s]\n"
     ]
    },
    {
     "name": "stdout",
     "output_type": "stream",
     "text": [
      "evaluating ...\n",
      "epoch 28, weight=0.50000, train-loss=2.08550, optimal-val-loss=nan, val-loss=0.02569, \n",
      "plotting ...\n",
      "optimal test-loss (with current weight=0.50000): 0.00000\n",
      "model test-loss (with current weight=0.50000): 0.02569\n",
      "save model ...\n",
      "saved!\n",
      "----------------------------------------------------------------------------------------------------\n"
     ]
    },
    {
     "name": "stderr",
     "output_type": "stream",
     "text": [
      "1it [00:00,  3.90it/s]\n"
     ]
    },
    {
     "name": "stdout",
     "output_type": "stream",
     "text": [
      "evaluating ...\n",
      "epoch 29, weight=0.50000, train-loss=2.03736, optimal-val-loss=nan, val-loss=0.04034, \n",
      "plotting ...\n",
      "optimal test-loss (with current weight=0.50000): 0.00000\n",
      "model test-loss (with current weight=0.50000): 0.04034\n",
      "save model ...\n",
      "saved!\n",
      "----------------------------------------------------------------------------------------------------\n"
     ]
    },
    {
     "name": "stderr",
     "output_type": "stream",
     "text": [
      "1it [00:00,  4.01it/s]\n"
     ]
    },
    {
     "name": "stdout",
     "output_type": "stream",
     "text": [
      "evaluating ...\n",
      "epoch 30, weight=0.50000, train-loss=1.94705, optimal-val-loss=nan, val-loss=0.05363, \n",
      "plotting ...\n",
      "optimal test-loss (with current weight=0.50000): 0.00000\n",
      "model test-loss (with current weight=0.50000): 0.05363\n",
      "save model ...\n",
      "saved!\n",
      "----------------------------------------------------------------------------------------------------\n"
     ]
    },
    {
     "name": "stderr",
     "output_type": "stream",
     "text": [
      "1it [00:00,  3.93it/s]\n"
     ]
    },
    {
     "name": "stdout",
     "output_type": "stream",
     "text": [
      "evaluating ...\n",
      "epoch 31, weight=0.50000, train-loss=1.91261, optimal-val-loss=nan, val-loss=0.06216, \n",
      "plotting ...\n",
      "optimal test-loss (with current weight=0.50000): 0.00000\n",
      "model test-loss (with current weight=0.50000): 0.06216\n",
      "save model ...\n",
      "saved!\n",
      "----------------------------------------------------------------------------------------------------\n"
     ]
    },
    {
     "name": "stderr",
     "output_type": "stream",
     "text": [
      "1it [00:00,  4.34it/s]\n"
     ]
    },
    {
     "name": "stdout",
     "output_type": "stream",
     "text": [
      "evaluating ...\n",
      "epoch 32, weight=0.50000, train-loss=1.85242, optimal-val-loss=nan, val-loss=0.06432, \n",
      "plotting ...\n",
      "optimal test-loss (with current weight=0.50000): 0.00000\n",
      "model test-loss (with current weight=0.50000): 0.06432\n",
      "save model ...\n",
      "saved!\n",
      "----------------------------------------------------------------------------------------------------\n"
     ]
    },
    {
     "name": "stderr",
     "output_type": "stream",
     "text": [
      "1it [00:00,  4.11it/s]\n"
     ]
    },
    {
     "name": "stdout",
     "output_type": "stream",
     "text": [
      "evaluating ...\n",
      "epoch 33, weight=0.50000, train-loss=1.80713, optimal-val-loss=nan, val-loss=0.06045, \n",
      "plotting ...\n",
      "optimal test-loss (with current weight=0.50000): 0.00000\n",
      "model test-loss (with current weight=0.50000): 0.06045\n",
      "save model ...\n",
      "saved!\n",
      "----------------------------------------------------------------------------------------------------\n"
     ]
    },
    {
     "name": "stderr",
     "output_type": "stream",
     "text": [
      "1it [00:00,  3.81it/s]\n"
     ]
    },
    {
     "name": "stdout",
     "output_type": "stream",
     "text": [
      "evaluating ...\n",
      "epoch 34, weight=0.50000, train-loss=1.72232, optimal-val-loss=nan, val-loss=0.05223, \n",
      "plotting ...\n",
      "optimal test-loss (with current weight=0.50000): 0.00000\n",
      "model test-loss (with current weight=0.50000): 0.05223\n",
      "save model ...\n",
      "saved!\n",
      "----------------------------------------------------------------------------------------------------\n"
     ]
    },
    {
     "name": "stderr",
     "output_type": "stream",
     "text": [
      "1it [00:00,  3.95it/s]\n"
     ]
    },
    {
     "name": "stdout",
     "output_type": "stream",
     "text": [
      "evaluating ...\n",
      "epoch 35, weight=0.50000, train-loss=1.65481, optimal-val-loss=nan, val-loss=0.04168, \n",
      "plotting ...\n",
      "optimal test-loss (with current weight=0.50000): 0.00000\n",
      "model test-loss (with current weight=0.50000): 0.04168\n",
      "save model ...\n",
      "saved!\n",
      "----------------------------------------------------------------------------------------------------\n"
     ]
    },
    {
     "name": "stderr",
     "output_type": "stream",
     "text": [
      "1it [00:00,  3.97it/s]\n"
     ]
    },
    {
     "name": "stdout",
     "output_type": "stream",
     "text": [
      "evaluating ...\n",
      "epoch 36, weight=0.50000, train-loss=1.58282, optimal-val-loss=nan, val-loss=0.03107, \n",
      "plotting ...\n",
      "optimal test-loss (with current weight=0.50000): 0.00000\n",
      "model test-loss (with current weight=0.50000): 0.03107\n",
      "save model ...\n",
      "saved!\n",
      "----------------------------------------------------------------------------------------------------\n"
     ]
    },
    {
     "name": "stderr",
     "output_type": "stream",
     "text": [
      "1it [00:00,  3.66it/s]\n"
     ]
    },
    {
     "name": "stdout",
     "output_type": "stream",
     "text": [
      "evaluating ...\n",
      "epoch 37, weight=0.50000, train-loss=1.52242, optimal-val-loss=nan, val-loss=0.02244, \n",
      "plotting ...\n",
      "optimal test-loss (with current weight=0.50000): 0.00000\n",
      "model test-loss (with current weight=0.50000): 0.02244\n",
      "save model ...\n",
      "saved!\n",
      "----------------------------------------------------------------------------------------------------\n"
     ]
    },
    {
     "name": "stderr",
     "output_type": "stream",
     "text": [
      "1it [00:00,  4.09it/s]\n"
     ]
    },
    {
     "name": "stdout",
     "output_type": "stream",
     "text": [
      "evaluating ...\n",
      "epoch 38, weight=0.50000, train-loss=1.47539, optimal-val-loss=nan, val-loss=0.01673, \n",
      "plotting ...\n",
      "optimal test-loss (with current weight=0.50000): 0.00000\n",
      "model test-loss (with current weight=0.50000): 0.01673\n",
      "save model ...\n",
      "saved!\n",
      "----------------------------------------------------------------------------------------------------\n"
     ]
    },
    {
     "name": "stderr",
     "output_type": "stream",
     "text": [
      "1it [00:00,  3.85it/s]\n"
     ]
    },
    {
     "name": "stdout",
     "output_type": "stream",
     "text": [
      "evaluating ...\n",
      "epoch 39, weight=0.50000, train-loss=1.41601, optimal-val-loss=nan, val-loss=0.01421, \n",
      "plotting ...\n",
      "optimal test-loss (with current weight=0.50000): 0.00000\n",
      "model test-loss (with current weight=0.50000): 0.01421\n",
      "save model ...\n",
      "saved!\n",
      "----------------------------------------------------------------------------------------------------\n"
     ]
    },
    {
     "name": "stderr",
     "output_type": "stream",
     "text": [
      "1it [00:00,  3.64it/s]\n"
     ]
    },
    {
     "name": "stdout",
     "output_type": "stream",
     "text": [
      "evaluating ...\n",
      "epoch 40, weight=0.50000, train-loss=1.36413, optimal-val-loss=nan, val-loss=0.01417, \n",
      "plotting ...\n",
      "optimal test-loss (with current weight=0.50000): 0.00000\n",
      "model test-loss (with current weight=0.50000): 0.01417\n",
      "save model ...\n",
      "saved!\n",
      "----------------------------------------------------------------------------------------------------\n"
     ]
    },
    {
     "name": "stderr",
     "output_type": "stream",
     "text": [
      "1it [00:00,  4.05it/s]\n"
     ]
    },
    {
     "name": "stdout",
     "output_type": "stream",
     "text": [
      "evaluating ...\n",
      "epoch 41, weight=0.50000, train-loss=1.30607, optimal-val-loss=nan, val-loss=0.01566, \n",
      "plotting ...\n",
      "optimal test-loss (with current weight=0.50000): 0.00000\n",
      "model test-loss (with current weight=0.50000): 0.01566\n",
      "save model ...\n",
      "saved!\n",
      "----------------------------------------------------------------------------------------------------\n"
     ]
    },
    {
     "name": "stderr",
     "output_type": "stream",
     "text": [
      "1it [00:00,  3.83it/s]\n"
     ]
    },
    {
     "name": "stdout",
     "output_type": "stream",
     "text": [
      "evaluating ...\n",
      "epoch 42, weight=0.50000, train-loss=1.24471, optimal-val-loss=nan, val-loss=0.01755, \n",
      "plotting ...\n",
      "optimal test-loss (with current weight=0.50000): 0.00000\n",
      "model test-loss (with current weight=0.50000): 0.01755\n",
      "save model ...\n",
      "saved!\n",
      "----------------------------------------------------------------------------------------------------\n"
     ]
    },
    {
     "name": "stderr",
     "output_type": "stream",
     "text": [
      "1it [00:00,  3.69it/s]\n"
     ]
    },
    {
     "name": "stdout",
     "output_type": "stream",
     "text": [
      "evaluating ...\n",
      "epoch 43, weight=0.50000, train-loss=1.21543, optimal-val-loss=nan, val-loss=0.01889, \n",
      "plotting ...\n",
      "optimal test-loss (with current weight=0.50000): 0.00000\n",
      "model test-loss (with current weight=0.50000): 0.01889\n",
      "save model ...\n",
      "saved!\n",
      "----------------------------------------------------------------------------------------------------\n"
     ]
    },
    {
     "name": "stderr",
     "output_type": "stream",
     "text": [
      "1it [00:00,  4.05it/s]\n"
     ]
    },
    {
     "name": "stdout",
     "output_type": "stream",
     "text": [
      "evaluating ...\n",
      "epoch 44, weight=0.50000, train-loss=1.18227, optimal-val-loss=nan, val-loss=0.01912, \n",
      "plotting ...\n",
      "optimal test-loss (with current weight=0.50000): 0.00000\n",
      "model test-loss (with current weight=0.50000): 0.01912\n",
      "save model ...\n",
      "saved!\n",
      "----------------------------------------------------------------------------------------------------\n"
     ]
    },
    {
     "name": "stderr",
     "output_type": "stream",
     "text": [
      "1it [00:00,  3.73it/s]\n"
     ]
    },
    {
     "name": "stdout",
     "output_type": "stream",
     "text": [
      "evaluating ...\n",
      "epoch 45, weight=0.50000, train-loss=1.14951, optimal-val-loss=nan, val-loss=0.01827, \n",
      "plotting ...\n",
      "optimal test-loss (with current weight=0.50000): 0.00000\n",
      "model test-loss (with current weight=0.50000): 0.01827\n",
      "save model ...\n",
      "saved!\n",
      "----------------------------------------------------------------------------------------------------\n"
     ]
    },
    {
     "name": "stderr",
     "output_type": "stream",
     "text": [
      "1it [00:00,  3.73it/s]\n"
     ]
    },
    {
     "name": "stdout",
     "output_type": "stream",
     "text": [
      "evaluating ...\n",
      "epoch 46, weight=0.50000, train-loss=1.11712, optimal-val-loss=nan, val-loss=0.01658, \n",
      "plotting ...\n",
      "optimal test-loss (with current weight=0.50000): 0.00000\n",
      "model test-loss (with current weight=0.50000): 0.01658\n",
      "save model ...\n",
      "saved!\n",
      "----------------------------------------------------------------------------------------------------\n"
     ]
    },
    {
     "name": "stderr",
     "output_type": "stream",
     "text": [
      "1it [00:00,  4.01it/s]\n"
     ]
    },
    {
     "name": "stdout",
     "output_type": "stream",
     "text": [
      "evaluating ...\n",
      "epoch 47, weight=0.50000, train-loss=1.06574, optimal-val-loss=nan, val-loss=0.01461, \n",
      "plotting ...\n",
      "optimal test-loss (with current weight=0.50000): 0.00000\n",
      "model test-loss (with current weight=0.50000): 0.01461\n",
      "save model ...\n",
      "saved!\n",
      "----------------------------------------------------------------------------------------------------\n"
     ]
    },
    {
     "name": "stderr",
     "output_type": "stream",
     "text": [
      "1it [00:00,  3.79it/s]\n"
     ]
    },
    {
     "name": "stdout",
     "output_type": "stream",
     "text": [
      "evaluating ...\n",
      "epoch 48, weight=0.50000, train-loss=1.02563, optimal-val-loss=nan, val-loss=0.01284, \n",
      "plotting ...\n",
      "optimal test-loss (with current weight=0.50000): 0.00000\n",
      "model test-loss (with current weight=0.50000): 0.01284\n",
      "save model ...\n",
      "saved!\n",
      "----------------------------------------------------------------------------------------------------\n"
     ]
    },
    {
     "name": "stderr",
     "output_type": "stream",
     "text": [
      "1it [00:00,  3.87it/s]\n"
     ]
    },
    {
     "name": "stdout",
     "output_type": "stream",
     "text": [
      "evaluating ...\n",
      "epoch 49, weight=0.50000, train-loss=0.99777, optimal-val-loss=nan, val-loss=0.01167, \n",
      "plotting ...\n"
     ]
    },
    {
     "name": "stderr",
     "output_type": "stream",
     "text": [
      "C:\\Users\\gg868\\thesis\\NJODE\\train.py:1041: FutureWarning: The behavior of DataFrame concatenation with empty or all-NA entries is deprecated. In a future version, this will no longer exclude empty or all-NA columns when determining the result dtypes. To retain the old behavior, exclude the relevant entries before the concat operation.\n",
      "  df_metric = pd.concat([df_metric, df_m_app], ignore_index=True)\n"
     ]
    },
    {
     "name": "stdout",
     "output_type": "stream",
     "text": [
      "optimal test-loss (with current weight=0.50000): 0.00000\n",
      "model test-loss (with current weight=0.50000): 0.01167\n",
      "save model ...\n",
      "saved!\n",
      "save new best model: last-best-loss: 0.01254, new-best-loss: 0.01167, epoch: 49\n",
      "saved!\n",
      "----------------------------------------------------------------------------------------------------\n"
     ]
    },
    {
     "name": "stderr",
     "output_type": "stream",
     "text": [
      "1it [00:00,  4.25it/s]\n"
     ]
    },
    {
     "name": "stdout",
     "output_type": "stream",
     "text": [
      "evaluating ...\n",
      "epoch 50, weight=0.50000, train-loss=0.94903, optimal-val-loss=nan, val-loss=0.01137, \n",
      "plotting ...\n"
     ]
    },
    {
     "name": "stderr",
     "output_type": "stream",
     "text": [
      "C:\\Users\\gg868\\thesis\\NJODE\\train.py:1041: FutureWarning: The behavior of DataFrame concatenation with empty or all-NA entries is deprecated. In a future version, this will no longer exclude empty or all-NA columns when determining the result dtypes. To retain the old behavior, exclude the relevant entries before the concat operation.\n",
      "  df_metric = pd.concat([df_metric, df_m_app], ignore_index=True)\n"
     ]
    },
    {
     "name": "stdout",
     "output_type": "stream",
     "text": [
      "optimal test-loss (with current weight=0.50000): 0.00000\n",
      "model test-loss (with current weight=0.50000): 0.01137\n",
      "save model ...\n",
      "saved!\n",
      "save new best model: last-best-loss: 0.01167, new-best-loss: 0.01137, epoch: 50\n",
      "saved!\n",
      "----------------------------------------------------------------------------------------------------\n"
     ]
    },
    {
     "name": "stderr",
     "output_type": "stream",
     "text": [
      "1it [00:00,  3.82it/s]\n"
     ]
    },
    {
     "name": "stdout",
     "output_type": "stream",
     "text": [
      "evaluating ...\n",
      "epoch 51, weight=0.50000, train-loss=0.91979, optimal-val-loss=nan, val-loss=0.01193, \n",
      "plotting ...\n",
      "optimal test-loss (with current weight=0.50000): 0.00000\n",
      "model test-loss (with current weight=0.50000): 0.01193\n",
      "save model ...\n",
      "saved!\n",
      "----------------------------------------------------------------------------------------------------\n"
     ]
    },
    {
     "name": "stderr",
     "output_type": "stream",
     "text": [
      "1it [00:00,  3.66it/s]\n"
     ]
    },
    {
     "name": "stdout",
     "output_type": "stream",
     "text": [
      "evaluating ...\n",
      "epoch 52, weight=0.50000, train-loss=0.89929, optimal-val-loss=nan, val-loss=0.01311, \n",
      "plotting ...\n",
      "optimal test-loss (with current weight=0.50000): 0.00000\n",
      "model test-loss (with current weight=0.50000): 0.01311\n",
      "save model ...\n",
      "saved!\n",
      "----------------------------------------------------------------------------------------------------\n"
     ]
    },
    {
     "name": "stderr",
     "output_type": "stream",
     "text": [
      "1it [00:00,  4.08it/s]\n"
     ]
    },
    {
     "name": "stdout",
     "output_type": "stream",
     "text": [
      "evaluating ...\n",
      "epoch 53, weight=0.50000, train-loss=0.87358, optimal-val-loss=nan, val-loss=0.01449, \n",
      "plotting ...\n",
      "optimal test-loss (with current weight=0.50000): 0.00000\n",
      "model test-loss (with current weight=0.50000): 0.01449\n",
      "save model ...\n",
      "saved!\n",
      "----------------------------------------------------------------------------------------------------\n"
     ]
    },
    {
     "name": "stderr",
     "output_type": "stream",
     "text": [
      "1it [00:00,  3.82it/s]\n"
     ]
    },
    {
     "name": "stdout",
     "output_type": "stream",
     "text": [
      "evaluating ...\n",
      "epoch 54, weight=0.50000, train-loss=0.85124, optimal-val-loss=nan, val-loss=0.01572, \n",
      "plotting ...\n",
      "optimal test-loss (with current weight=0.50000): 0.00000\n",
      "model test-loss (with current weight=0.50000): 0.01572\n",
      "save model ...\n",
      "saved!\n",
      "----------------------------------------------------------------------------------------------------\n"
     ]
    },
    {
     "name": "stderr",
     "output_type": "stream",
     "text": [
      "1it [00:00,  3.84it/s]\n"
     ]
    },
    {
     "name": "stdout",
     "output_type": "stream",
     "text": [
      "evaluating ...\n",
      "epoch 55, weight=0.50000, train-loss=0.81741, optimal-val-loss=nan, val-loss=0.01652, \n",
      "plotting ...\n",
      "optimal test-loss (with current weight=0.50000): 0.00000\n",
      "model test-loss (with current weight=0.50000): 0.01652\n",
      "save model ...\n",
      "saved!\n",
      "----------------------------------------------------------------------------------------------------\n"
     ]
    },
    {
     "name": "stderr",
     "output_type": "stream",
     "text": [
      "1it [00:00,  3.30it/s]\n"
     ]
    },
    {
     "name": "stdout",
     "output_type": "stream",
     "text": [
      "evaluating ...\n",
      "epoch 56, weight=0.50000, train-loss=0.79105, optimal-val-loss=nan, val-loss=0.01667, \n",
      "plotting ...\n",
      "optimal test-loss (with current weight=0.50000): 0.00000\n",
      "model test-loss (with current weight=0.50000): 0.01667\n",
      "save model ...\n",
      "saved!\n",
      "----------------------------------------------------------------------------------------------------\n"
     ]
    },
    {
     "name": "stderr",
     "output_type": "stream",
     "text": [
      "1it [00:00,  3.68it/s]\n"
     ]
    },
    {
     "name": "stdout",
     "output_type": "stream",
     "text": [
      "evaluating ...\n",
      "epoch 57, weight=0.50000, train-loss=0.76391, optimal-val-loss=nan, val-loss=0.01614, \n",
      "plotting ...\n",
      "optimal test-loss (with current weight=0.50000): 0.00000\n",
      "model test-loss (with current weight=0.50000): 0.01614\n",
      "save model ...\n",
      "saved!\n",
      "----------------------------------------------------------------------------------------------------\n"
     ]
    },
    {
     "name": "stderr",
     "output_type": "stream",
     "text": [
      "1it [00:00,  3.51it/s]\n"
     ]
    },
    {
     "name": "stdout",
     "output_type": "stream",
     "text": [
      "evaluating ...\n",
      "epoch 58, weight=0.50000, train-loss=0.75390, optimal-val-loss=nan, val-loss=0.01517, \n",
      "plotting ...\n",
      "optimal test-loss (with current weight=0.50000): 0.00000\n",
      "model test-loss (with current weight=0.50000): 0.01517\n",
      "save model ...\n",
      "saved!\n",
      "----------------------------------------------------------------------------------------------------\n"
     ]
    },
    {
     "name": "stderr",
     "output_type": "stream",
     "text": [
      "1it [00:00,  3.39it/s]\n"
     ]
    },
    {
     "name": "stdout",
     "output_type": "stream",
     "text": [
      "evaluating ...\n",
      "epoch 59, weight=0.50000, train-loss=0.72143, optimal-val-loss=nan, val-loss=0.01395, \n",
      "plotting ...\n",
      "optimal test-loss (with current weight=0.50000): 0.00000\n",
      "model test-loss (with current weight=0.50000): 0.01395\n",
      "save model ...\n",
      "saved!\n",
      "----------------------------------------------------------------------------------------------------\n"
     ]
    },
    {
     "name": "stderr",
     "output_type": "stream",
     "text": [
      "1it [00:00,  3.80it/s]\n"
     ]
    },
    {
     "name": "stdout",
     "output_type": "stream",
     "text": [
      "evaluating ...\n",
      "epoch 60, weight=0.50000, train-loss=0.69687, optimal-val-loss=nan, val-loss=0.01270, \n",
      "plotting ...\n",
      "optimal test-loss (with current weight=0.50000): 0.00000\n",
      "model test-loss (with current weight=0.50000): 0.01270\n",
      "save model ...\n",
      "saved!\n",
      "----------------------------------------------------------------------------------------------------\n"
     ]
    },
    {
     "name": "stderr",
     "output_type": "stream",
     "text": [
      "1it [00:00,  3.52it/s]\n"
     ]
    },
    {
     "name": "stdout",
     "output_type": "stream",
     "text": [
      "evaluating ...\n",
      "epoch 61, weight=0.50000, train-loss=0.67642, optimal-val-loss=nan, val-loss=0.01161, \n",
      "plotting ...\n",
      "optimal test-loss (with current weight=0.50000): 0.00000\n",
      "model test-loss (with current weight=0.50000): 0.01161\n",
      "save model ...\n",
      "saved!\n",
      "----------------------------------------------------------------------------------------------------\n"
     ]
    },
    {
     "name": "stderr",
     "output_type": "stream",
     "text": [
      "1it [00:00,  4.25it/s]\n"
     ]
    },
    {
     "name": "stdout",
     "output_type": "stream",
     "text": [
      "evaluating ...\n",
      "epoch 62, weight=0.50000, train-loss=0.65878, optimal-val-loss=nan, val-loss=0.01079, \n",
      "plotting ...\n"
     ]
    },
    {
     "name": "stderr",
     "output_type": "stream",
     "text": [
      "C:\\Users\\gg868\\thesis\\NJODE\\train.py:1041: FutureWarning: The behavior of DataFrame concatenation with empty or all-NA entries is deprecated. In a future version, this will no longer exclude empty or all-NA columns when determining the result dtypes. To retain the old behavior, exclude the relevant entries before the concat operation.\n",
      "  df_metric = pd.concat([df_metric, df_m_app], ignore_index=True)\n"
     ]
    },
    {
     "name": "stdout",
     "output_type": "stream",
     "text": [
      "optimal test-loss (with current weight=0.50000): 0.00000\n",
      "model test-loss (with current weight=0.50000): 0.01079\n",
      "save model ...\n",
      "saved!\n",
      "save new best model: last-best-loss: 0.01137, new-best-loss: 0.01079, epoch: 62\n",
      "saved!\n",
      "----------------------------------------------------------------------------------------------------\n"
     ]
    },
    {
     "name": "stderr",
     "output_type": "stream",
     "text": [
      "1it [00:00,  3.82it/s]\n"
     ]
    },
    {
     "name": "stdout",
     "output_type": "stream",
     "text": [
      "evaluating ...\n",
      "epoch 63, weight=0.50000, train-loss=0.63660, optimal-val-loss=nan, val-loss=0.01031, \n",
      "plotting ...\n"
     ]
    },
    {
     "name": "stderr",
     "output_type": "stream",
     "text": [
      "C:\\Users\\gg868\\thesis\\NJODE\\train.py:1041: FutureWarning: The behavior of DataFrame concatenation with empty or all-NA entries is deprecated. In a future version, this will no longer exclude empty or all-NA columns when determining the result dtypes. To retain the old behavior, exclude the relevant entries before the concat operation.\n",
      "  df_metric = pd.concat([df_metric, df_m_app], ignore_index=True)\n"
     ]
    },
    {
     "name": "stdout",
     "output_type": "stream",
     "text": [
      "optimal test-loss (with current weight=0.50000): 0.00000\n",
      "model test-loss (with current weight=0.50000): 0.01031\n",
      "save model ...\n",
      "saved!\n",
      "save new best model: last-best-loss: 0.01079, new-best-loss: 0.01031, epoch: 63\n",
      "saved!\n",
      "----------------------------------------------------------------------------------------------------\n"
     ]
    },
    {
     "name": "stderr",
     "output_type": "stream",
     "text": [
      "1it [00:00,  3.66it/s]\n"
     ]
    },
    {
     "name": "stdout",
     "output_type": "stream",
     "text": [
      "evaluating ...\n",
      "epoch 64, weight=0.50000, train-loss=0.62208, optimal-val-loss=nan, val-loss=0.01014, \n",
      "plotting ...\n"
     ]
    },
    {
     "name": "stderr",
     "output_type": "stream",
     "text": [
      "C:\\Users\\gg868\\thesis\\NJODE\\train.py:1041: FutureWarning: The behavior of DataFrame concatenation with empty or all-NA entries is deprecated. In a future version, this will no longer exclude empty or all-NA columns when determining the result dtypes. To retain the old behavior, exclude the relevant entries before the concat operation.\n",
      "  df_metric = pd.concat([df_metric, df_m_app], ignore_index=True)\n"
     ]
    },
    {
     "name": "stdout",
     "output_type": "stream",
     "text": [
      "optimal test-loss (with current weight=0.50000): 0.00000\n",
      "model test-loss (with current weight=0.50000): 0.01014\n",
      "save model ...\n",
      "saved!\n",
      "save new best model: last-best-loss: 0.01031, new-best-loss: 0.01014, epoch: 64\n",
      "saved!\n",
      "----------------------------------------------------------------------------------------------------\n"
     ]
    },
    {
     "name": "stderr",
     "output_type": "stream",
     "text": [
      "1it [00:00,  3.74it/s]\n"
     ]
    },
    {
     "name": "stdout",
     "output_type": "stream",
     "text": [
      "evaluating ...\n",
      "epoch 65, weight=0.50000, train-loss=0.60217, optimal-val-loss=nan, val-loss=0.01018, \n",
      "plotting ...\n",
      "optimal test-loss (with current weight=0.50000): 0.00000\n",
      "model test-loss (with current weight=0.50000): 0.01018\n",
      "save model ...\n",
      "saved!\n",
      "----------------------------------------------------------------------------------------------------\n"
     ]
    },
    {
     "name": "stderr",
     "output_type": "stream",
     "text": [
      "1it [00:00,  3.93it/s]\n"
     ]
    },
    {
     "name": "stdout",
     "output_type": "stream",
     "text": [
      "evaluating ...\n",
      "epoch 66, weight=0.50000, train-loss=0.58731, optimal-val-loss=nan, val-loss=0.01029, \n",
      "plotting ...\n",
      "optimal test-loss (with current weight=0.50000): 0.00000\n",
      "model test-loss (with current weight=0.50000): 0.01029\n",
      "save model ...\n",
      "saved!\n",
      "----------------------------------------------------------------------------------------------------\n"
     ]
    },
    {
     "name": "stderr",
     "output_type": "stream",
     "text": [
      "1it [00:00,  4.08it/s]\n"
     ]
    },
    {
     "name": "stdout",
     "output_type": "stream",
     "text": [
      "evaluating ...\n",
      "epoch 67, weight=0.50000, train-loss=0.56536, optimal-val-loss=nan, val-loss=0.01039, \n",
      "plotting ...\n",
      "optimal test-loss (with current weight=0.50000): 0.00000\n",
      "model test-loss (with current weight=0.50000): 0.01039\n",
      "save model ...\n",
      "saved!\n",
      "----------------------------------------------------------------------------------------------------\n"
     ]
    },
    {
     "name": "stderr",
     "output_type": "stream",
     "text": [
      "1it [00:00,  3.62it/s]\n"
     ]
    },
    {
     "name": "stdout",
     "output_type": "stream",
     "text": [
      "evaluating ...\n",
      "epoch 68, weight=0.50000, train-loss=0.55453, optimal-val-loss=nan, val-loss=0.01041, \n",
      "plotting ...\n",
      "optimal test-loss (with current weight=0.50000): 0.00000\n",
      "model test-loss (with current weight=0.50000): 0.01041\n",
      "save model ...\n",
      "saved!\n",
      "----------------------------------------------------------------------------------------------------\n"
     ]
    },
    {
     "name": "stderr",
     "output_type": "stream",
     "text": [
      "1it [00:00,  3.47it/s]\n"
     ]
    },
    {
     "name": "stdout",
     "output_type": "stream",
     "text": [
      "evaluating ...\n",
      "epoch 69, weight=0.50000, train-loss=0.53301, optimal-val-loss=nan, val-loss=0.01033, \n",
      "plotting ...\n",
      "optimal test-loss (with current weight=0.50000): 0.00000\n",
      "model test-loss (with current weight=0.50000): 0.01033\n",
      "save model ...\n",
      "saved!\n",
      "----------------------------------------------------------------------------------------------------\n"
     ]
    },
    {
     "name": "stderr",
     "output_type": "stream",
     "text": [
      "1it [00:00,  3.79it/s]\n"
     ]
    },
    {
     "name": "stdout",
     "output_type": "stream",
     "text": [
      "evaluating ...\n",
      "epoch 70, weight=0.50000, train-loss=0.53015, optimal-val-loss=nan, val-loss=0.01020, \n",
      "plotting ...\n",
      "optimal test-loss (with current weight=0.50000): 0.00000\n",
      "model test-loss (with current weight=0.50000): 0.01020\n",
      "save model ...\n",
      "saved!\n",
      "----------------------------------------------------------------------------------------------------\n"
     ]
    },
    {
     "name": "stderr",
     "output_type": "stream",
     "text": [
      "1it [00:00,  2.70it/s]\n"
     ]
    },
    {
     "name": "stdout",
     "output_type": "stream",
     "text": [
      "evaluating ...\n",
      "epoch 71, weight=0.50000, train-loss=0.50703, optimal-val-loss=nan, val-loss=0.01005, \n",
      "plotting ...\n"
     ]
    },
    {
     "name": "stderr",
     "output_type": "stream",
     "text": [
      "C:\\Users\\gg868\\thesis\\NJODE\\train.py:1041: FutureWarning: The behavior of DataFrame concatenation with empty or all-NA entries is deprecated. In a future version, this will no longer exclude empty or all-NA columns when determining the result dtypes. To retain the old behavior, exclude the relevant entries before the concat operation.\n",
      "  df_metric = pd.concat([df_metric, df_m_app], ignore_index=True)\n"
     ]
    },
    {
     "name": "stdout",
     "output_type": "stream",
     "text": [
      "optimal test-loss (with current weight=0.50000): 0.00000\n",
      "model test-loss (with current weight=0.50000): 0.01005\n",
      "save model ...\n",
      "saved!\n",
      "save new best model: last-best-loss: 0.01014, new-best-loss: 0.01005, epoch: 71\n",
      "saved!\n",
      "----------------------------------------------------------------------------------------------------\n"
     ]
    },
    {
     "name": "stderr",
     "output_type": "stream",
     "text": [
      "1it [00:00,  2.20it/s]\n"
     ]
    },
    {
     "name": "stdout",
     "output_type": "stream",
     "text": [
      "evaluating ...\n",
      "epoch 72, weight=0.50000, train-loss=0.49551, optimal-val-loss=nan, val-loss=0.00993, \n",
      "plotting ...\n"
     ]
    },
    {
     "name": "stderr",
     "output_type": "stream",
     "text": [
      "C:\\Users\\gg868\\thesis\\NJODE\\train.py:1041: FutureWarning: The behavior of DataFrame concatenation with empty or all-NA entries is deprecated. In a future version, this will no longer exclude empty or all-NA columns when determining the result dtypes. To retain the old behavior, exclude the relevant entries before the concat operation.\n",
      "  df_metric = pd.concat([df_metric, df_m_app], ignore_index=True)\n"
     ]
    },
    {
     "name": "stdout",
     "output_type": "stream",
     "text": [
      "optimal test-loss (with current weight=0.50000): 0.00000\n",
      "model test-loss (with current weight=0.50000): 0.00993\n",
      "save model ...\n",
      "saved!\n",
      "save new best model: last-best-loss: 0.01005, new-best-loss: 0.00993, epoch: 72\n",
      "saved!\n",
      "----------------------------------------------------------------------------------------------------\n"
     ]
    },
    {
     "name": "stderr",
     "output_type": "stream",
     "text": [
      "1it [00:00,  2.99it/s]\n"
     ]
    },
    {
     "name": "stdout",
     "output_type": "stream",
     "text": [
      "evaluating ...\n",
      "epoch 73, weight=0.50000, train-loss=0.47819, optimal-val-loss=nan, val-loss=0.00986, \n",
      "plotting ...\n"
     ]
    },
    {
     "name": "stderr",
     "output_type": "stream",
     "text": [
      "C:\\Users\\gg868\\thesis\\NJODE\\train.py:1041: FutureWarning: The behavior of DataFrame concatenation with empty or all-NA entries is deprecated. In a future version, this will no longer exclude empty or all-NA columns when determining the result dtypes. To retain the old behavior, exclude the relevant entries before the concat operation.\n",
      "  df_metric = pd.concat([df_metric, df_m_app], ignore_index=True)\n"
     ]
    },
    {
     "name": "stdout",
     "output_type": "stream",
     "text": [
      "optimal test-loss (with current weight=0.50000): 0.00000\n",
      "model test-loss (with current weight=0.50000): 0.00986\n",
      "save model ...\n",
      "saved!\n",
      "save new best model: last-best-loss: 0.00993, new-best-loss: 0.00986, epoch: 73\n",
      "saved!\n",
      "----------------------------------------------------------------------------------------------------\n"
     ]
    },
    {
     "name": "stderr",
     "output_type": "stream",
     "text": [
      "1it [00:00,  3.64it/s]\n"
     ]
    },
    {
     "name": "stdout",
     "output_type": "stream",
     "text": [
      "evaluating ...\n",
      "epoch 74, weight=0.50000, train-loss=0.47251, optimal-val-loss=nan, val-loss=0.00985, \n",
      "plotting ...\n"
     ]
    },
    {
     "name": "stderr",
     "output_type": "stream",
     "text": [
      "C:\\Users\\gg868\\thesis\\NJODE\\train.py:1041: FutureWarning: The behavior of DataFrame concatenation with empty or all-NA entries is deprecated. In a future version, this will no longer exclude empty or all-NA columns when determining the result dtypes. To retain the old behavior, exclude the relevant entries before the concat operation.\n",
      "  df_metric = pd.concat([df_metric, df_m_app], ignore_index=True)\n"
     ]
    },
    {
     "name": "stdout",
     "output_type": "stream",
     "text": [
      "optimal test-loss (with current weight=0.50000): 0.00000\n",
      "model test-loss (with current weight=0.50000): 0.00985\n",
      "save model ...\n",
      "saved!\n",
      "save new best model: last-best-loss: 0.00986, new-best-loss: 0.00985, epoch: 74\n",
      "saved!\n",
      "----------------------------------------------------------------------------------------------------\n"
     ]
    },
    {
     "name": "stderr",
     "output_type": "stream",
     "text": [
      "1it [00:00,  3.51it/s]\n"
     ]
    },
    {
     "name": "stdout",
     "output_type": "stream",
     "text": [
      "evaluating ...\n",
      "epoch 75, weight=0.50000, train-loss=0.45809, optimal-val-loss=nan, val-loss=0.00992, \n",
      "plotting ...\n",
      "optimal test-loss (with current weight=0.50000): 0.00000\n",
      "model test-loss (with current weight=0.50000): 0.00992\n",
      "save model ...\n",
      "saved!\n",
      "----------------------------------------------------------------------------------------------------\n"
     ]
    },
    {
     "name": "stderr",
     "output_type": "stream",
     "text": [
      "1it [00:00,  3.64it/s]\n"
     ]
    },
    {
     "name": "stdout",
     "output_type": "stream",
     "text": [
      "evaluating ...\n",
      "epoch 76, weight=0.50000, train-loss=0.44070, optimal-val-loss=nan, val-loss=0.01004, \n",
      "plotting ...\n",
      "optimal test-loss (with current weight=0.50000): 0.00000\n",
      "model test-loss (with current weight=0.50000): 0.01004\n",
      "save model ...\n",
      "saved!\n",
      "----------------------------------------------------------------------------------------------------\n"
     ]
    },
    {
     "name": "stderr",
     "output_type": "stream",
     "text": [
      "1it [00:00,  3.84it/s]\n"
     ]
    },
    {
     "name": "stdout",
     "output_type": "stream",
     "text": [
      "evaluating ...\n",
      "epoch 77, weight=0.50000, train-loss=0.43438, optimal-val-loss=nan, val-loss=0.01018, \n",
      "plotting ...\n",
      "optimal test-loss (with current weight=0.50000): 0.00000\n",
      "model test-loss (with current weight=0.50000): 0.01018\n",
      "save model ...\n",
      "saved!\n",
      "----------------------------------------------------------------------------------------------------\n"
     ]
    },
    {
     "name": "stderr",
     "output_type": "stream",
     "text": [
      "1it [00:00,  3.82it/s]\n"
     ]
    },
    {
     "name": "stdout",
     "output_type": "stream",
     "text": [
      "evaluating ...\n",
      "epoch 78, weight=0.50000, train-loss=0.42417, optimal-val-loss=nan, val-loss=0.01029, \n",
      "plotting ...\n",
      "optimal test-loss (with current weight=0.50000): 0.00000\n",
      "model test-loss (with current weight=0.50000): 0.01029\n",
      "save model ...\n",
      "saved!\n",
      "----------------------------------------------------------------------------------------------------\n"
     ]
    },
    {
     "name": "stderr",
     "output_type": "stream",
     "text": [
      "1it [00:00,  3.63it/s]\n"
     ]
    },
    {
     "name": "stdout",
     "output_type": "stream",
     "text": [
      "evaluating ...\n",
      "epoch 79, weight=0.50000, train-loss=0.41108, optimal-val-loss=nan, val-loss=0.01033, \n",
      "plotting ...\n",
      "optimal test-loss (with current weight=0.50000): 0.00000\n",
      "model test-loss (with current weight=0.50000): 0.01033\n",
      "save model ...\n",
      "saved!\n",
      "----------------------------------------------------------------------------------------------------\n"
     ]
    },
    {
     "name": "stderr",
     "output_type": "stream",
     "text": [
      "1it [00:00,  3.38it/s]\n"
     ]
    },
    {
     "name": "stdout",
     "output_type": "stream",
     "text": [
      "evaluating ...\n",
      "epoch 80, weight=0.50000, train-loss=0.40794, optimal-val-loss=nan, val-loss=0.01031, \n",
      "plotting ...\n",
      "optimal test-loss (with current weight=0.50000): 0.00000\n",
      "model test-loss (with current weight=0.50000): 0.01031\n",
      "save model ...\n",
      "saved!\n",
      "----------------------------------------------------------------------------------------------------\n"
     ]
    },
    {
     "name": "stderr",
     "output_type": "stream",
     "text": [
      "1it [00:00,  3.69it/s]\n"
     ]
    },
    {
     "name": "stdout",
     "output_type": "stream",
     "text": [
      "evaluating ...\n",
      "epoch 81, weight=0.50000, train-loss=0.39352, optimal-val-loss=nan, val-loss=0.01023, \n",
      "plotting ...\n",
      "optimal test-loss (with current weight=0.50000): 0.00000\n",
      "model test-loss (with current weight=0.50000): 0.01023\n",
      "save model ...\n",
      "saved!\n",
      "----------------------------------------------------------------------------------------------------\n"
     ]
    },
    {
     "name": "stderr",
     "output_type": "stream",
     "text": [
      "1it [00:00,  4.03it/s]\n"
     ]
    },
    {
     "name": "stdout",
     "output_type": "stream",
     "text": [
      "evaluating ...\n",
      "epoch 82, weight=0.50000, train-loss=0.38713, optimal-val-loss=nan, val-loss=0.01012, \n",
      "plotting ...\n",
      "optimal test-loss (with current weight=0.50000): 0.00000\n",
      "model test-loss (with current weight=0.50000): 0.01012\n",
      "save model ...\n",
      "saved!\n",
      "----------------------------------------------------------------------------------------------------\n"
     ]
    },
    {
     "name": "stderr",
     "output_type": "stream",
     "text": [
      "1it [00:00,  3.97it/s]\n"
     ]
    },
    {
     "name": "stdout",
     "output_type": "stream",
     "text": [
      "evaluating ...\n",
      "epoch 83, weight=0.50000, train-loss=0.37569, optimal-val-loss=nan, val-loss=0.00999, \n",
      "plotting ...\n",
      "optimal test-loss (with current weight=0.50000): 0.00000\n",
      "model test-loss (with current weight=0.50000): 0.00999\n",
      "save model ...\n",
      "saved!\n",
      "----------------------------------------------------------------------------------------------------\n"
     ]
    },
    {
     "name": "stderr",
     "output_type": "stream",
     "text": [
      "1it [00:00,  3.64it/s]\n"
     ]
    },
    {
     "name": "stdout",
     "output_type": "stream",
     "text": [
      "evaluating ...\n",
      "epoch 84, weight=0.50000, train-loss=0.36590, optimal-val-loss=nan, val-loss=0.00985, \n",
      "plotting ...\n"
     ]
    },
    {
     "name": "stderr",
     "output_type": "stream",
     "text": [
      "C:\\Users\\gg868\\thesis\\NJODE\\train.py:1041: FutureWarning: The behavior of DataFrame concatenation with empty or all-NA entries is deprecated. In a future version, this will no longer exclude empty or all-NA columns when determining the result dtypes. To retain the old behavior, exclude the relevant entries before the concat operation.\n",
      "  df_metric = pd.concat([df_metric, df_m_app], ignore_index=True)\n"
     ]
    },
    {
     "name": "stdout",
     "output_type": "stream",
     "text": [
      "optimal test-loss (with current weight=0.50000): 0.00000\n",
      "model test-loss (with current weight=0.50000): 0.00985\n",
      "save model ...\n",
      "saved!\n",
      "save new best model: last-best-loss: 0.00985, new-best-loss: 0.00985, epoch: 84\n",
      "saved!\n",
      "----------------------------------------------------------------------------------------------------\n"
     ]
    },
    {
     "name": "stderr",
     "output_type": "stream",
     "text": [
      "1it [00:00,  4.09it/s]\n"
     ]
    },
    {
     "name": "stdout",
     "output_type": "stream",
     "text": [
      "evaluating ...\n",
      "epoch 85, weight=0.50000, train-loss=0.35570, optimal-val-loss=nan, val-loss=0.00972, \n",
      "plotting ...\n"
     ]
    },
    {
     "name": "stderr",
     "output_type": "stream",
     "text": [
      "C:\\Users\\gg868\\thesis\\NJODE\\train.py:1041: FutureWarning: The behavior of DataFrame concatenation with empty or all-NA entries is deprecated. In a future version, this will no longer exclude empty or all-NA columns when determining the result dtypes. To retain the old behavior, exclude the relevant entries before the concat operation.\n",
      "  df_metric = pd.concat([df_metric, df_m_app], ignore_index=True)\n"
     ]
    },
    {
     "name": "stdout",
     "output_type": "stream",
     "text": [
      "optimal test-loss (with current weight=0.50000): 0.00000\n",
      "model test-loss (with current weight=0.50000): 0.00972\n",
      "save model ...\n",
      "saved!\n",
      "save new best model: last-best-loss: 0.00985, new-best-loss: 0.00972, epoch: 85\n",
      "saved!\n",
      "----------------------------------------------------------------------------------------------------\n"
     ]
    },
    {
     "name": "stderr",
     "output_type": "stream",
     "text": [
      "1it [00:00,  3.68it/s]\n"
     ]
    },
    {
     "name": "stdout",
     "output_type": "stream",
     "text": [
      "evaluating ...\n",
      "epoch 86, weight=0.50000, train-loss=0.34682, optimal-val-loss=nan, val-loss=0.00962, \n",
      "plotting ...\n"
     ]
    },
    {
     "name": "stderr",
     "output_type": "stream",
     "text": [
      "C:\\Users\\gg868\\thesis\\NJODE\\train.py:1041: FutureWarning: The behavior of DataFrame concatenation with empty or all-NA entries is deprecated. In a future version, this will no longer exclude empty or all-NA columns when determining the result dtypes. To retain the old behavior, exclude the relevant entries before the concat operation.\n",
      "  df_metric = pd.concat([df_metric, df_m_app], ignore_index=True)\n"
     ]
    },
    {
     "name": "stdout",
     "output_type": "stream",
     "text": [
      "optimal test-loss (with current weight=0.50000): 0.00000\n",
      "model test-loss (with current weight=0.50000): 0.00962\n",
      "save model ...\n",
      "saved!\n",
      "save new best model: last-best-loss: 0.00972, new-best-loss: 0.00962, epoch: 86\n",
      "saved!\n",
      "----------------------------------------------------------------------------------------------------\n"
     ]
    },
    {
     "name": "stderr",
     "output_type": "stream",
     "text": [
      "1it [00:00,  3.73it/s]\n"
     ]
    },
    {
     "name": "stdout",
     "output_type": "stream",
     "text": [
      "evaluating ...\n",
      "epoch 87, weight=0.50000, train-loss=0.34180, optimal-val-loss=nan, val-loss=0.00955, \n",
      "plotting ...\n"
     ]
    },
    {
     "name": "stderr",
     "output_type": "stream",
     "text": [
      "C:\\Users\\gg868\\thesis\\NJODE\\train.py:1041: FutureWarning: The behavior of DataFrame concatenation with empty or all-NA entries is deprecated. In a future version, this will no longer exclude empty or all-NA columns when determining the result dtypes. To retain the old behavior, exclude the relevant entries before the concat operation.\n",
      "  df_metric = pd.concat([df_metric, df_m_app], ignore_index=True)\n"
     ]
    },
    {
     "name": "stdout",
     "output_type": "stream",
     "text": [
      "optimal test-loss (with current weight=0.50000): 0.00000\n",
      "model test-loss (with current weight=0.50000): 0.00955\n",
      "save model ...\n",
      "saved!\n",
      "save new best model: last-best-loss: 0.00962, new-best-loss: 0.00955, epoch: 87\n",
      "saved!\n",
      "----------------------------------------------------------------------------------------------------\n"
     ]
    },
    {
     "name": "stderr",
     "output_type": "stream",
     "text": [
      "1it [00:00,  3.69it/s]\n"
     ]
    },
    {
     "name": "stdout",
     "output_type": "stream",
     "text": [
      "evaluating ...\n",
      "epoch 88, weight=0.50000, train-loss=0.33013, optimal-val-loss=nan, val-loss=0.00951, \n",
      "plotting ...\n"
     ]
    },
    {
     "name": "stderr",
     "output_type": "stream",
     "text": [
      "C:\\Users\\gg868\\thesis\\NJODE\\train.py:1041: FutureWarning: The behavior of DataFrame concatenation with empty or all-NA entries is deprecated. In a future version, this will no longer exclude empty or all-NA columns when determining the result dtypes. To retain the old behavior, exclude the relevant entries before the concat operation.\n",
      "  df_metric = pd.concat([df_metric, df_m_app], ignore_index=True)\n"
     ]
    },
    {
     "name": "stdout",
     "output_type": "stream",
     "text": [
      "optimal test-loss (with current weight=0.50000): 0.00000\n",
      "model test-loss (with current weight=0.50000): 0.00951\n",
      "save model ...\n",
      "saved!\n",
      "save new best model: last-best-loss: 0.00955, new-best-loss: 0.00951, epoch: 88\n",
      "saved!\n",
      "----------------------------------------------------------------------------------------------------\n"
     ]
    },
    {
     "name": "stderr",
     "output_type": "stream",
     "text": [
      "1it [00:00,  3.36it/s]\n"
     ]
    },
    {
     "name": "stdout",
     "output_type": "stream",
     "text": [
      "evaluating ...\n",
      "epoch 89, weight=0.50000, train-loss=0.32336, optimal-val-loss=nan, val-loss=0.00947, \n",
      "plotting ...\n"
     ]
    },
    {
     "name": "stderr",
     "output_type": "stream",
     "text": [
      "C:\\Users\\gg868\\thesis\\NJODE\\train.py:1041: FutureWarning: The behavior of DataFrame concatenation with empty or all-NA entries is deprecated. In a future version, this will no longer exclude empty or all-NA columns when determining the result dtypes. To retain the old behavior, exclude the relevant entries before the concat operation.\n",
      "  df_metric = pd.concat([df_metric, df_m_app], ignore_index=True)\n"
     ]
    },
    {
     "name": "stdout",
     "output_type": "stream",
     "text": [
      "optimal test-loss (with current weight=0.50000): 0.00000\n",
      "model test-loss (with current weight=0.50000): 0.00947\n",
      "save model ...\n",
      "saved!\n",
      "save new best model: last-best-loss: 0.00951, new-best-loss: 0.00947, epoch: 89\n",
      "saved!\n",
      "----------------------------------------------------------------------------------------------------\n"
     ]
    },
    {
     "name": "stderr",
     "output_type": "stream",
     "text": [
      "1it [00:00,  3.87it/s]\n"
     ]
    },
    {
     "name": "stdout",
     "output_type": "stream",
     "text": [
      "evaluating ...\n",
      "epoch 90, weight=0.50000, train-loss=0.31638, optimal-val-loss=nan, val-loss=0.00944, \n",
      "plotting ...\n"
     ]
    },
    {
     "name": "stderr",
     "output_type": "stream",
     "text": [
      "C:\\Users\\gg868\\thesis\\NJODE\\train.py:1041: FutureWarning: The behavior of DataFrame concatenation with empty or all-NA entries is deprecated. In a future version, this will no longer exclude empty or all-NA columns when determining the result dtypes. To retain the old behavior, exclude the relevant entries before the concat operation.\n",
      "  df_metric = pd.concat([df_metric, df_m_app], ignore_index=True)\n"
     ]
    },
    {
     "name": "stdout",
     "output_type": "stream",
     "text": [
      "optimal test-loss (with current weight=0.50000): 0.00000\n",
      "model test-loss (with current weight=0.50000): 0.00944\n",
      "save model ...\n",
      "saved!\n",
      "save new best model: last-best-loss: 0.00947, new-best-loss: 0.00944, epoch: 90\n",
      "saved!\n",
      "----------------------------------------------------------------------------------------------------\n"
     ]
    },
    {
     "name": "stderr",
     "output_type": "stream",
     "text": [
      "1it [00:00,  3.53it/s]\n"
     ]
    },
    {
     "name": "stdout",
     "output_type": "stream",
     "text": [
      "evaluating ...\n",
      "epoch 91, weight=0.50000, train-loss=0.30940, optimal-val-loss=nan, val-loss=0.00941, \n",
      "plotting ...\n"
     ]
    },
    {
     "name": "stderr",
     "output_type": "stream",
     "text": [
      "C:\\Users\\gg868\\thesis\\NJODE\\train.py:1041: FutureWarning: The behavior of DataFrame concatenation with empty or all-NA entries is deprecated. In a future version, this will no longer exclude empty or all-NA columns when determining the result dtypes. To retain the old behavior, exclude the relevant entries before the concat operation.\n",
      "  df_metric = pd.concat([df_metric, df_m_app], ignore_index=True)\n"
     ]
    },
    {
     "name": "stdout",
     "output_type": "stream",
     "text": [
      "optimal test-loss (with current weight=0.50000): 0.00000\n",
      "model test-loss (with current weight=0.50000): 0.00941\n",
      "save model ...\n",
      "saved!\n",
      "save new best model: last-best-loss: 0.00944, new-best-loss: 0.00941, epoch: 91\n",
      "saved!\n",
      "----------------------------------------------------------------------------------------------------\n"
     ]
    },
    {
     "name": "stderr",
     "output_type": "stream",
     "text": [
      "1it [00:00,  3.59it/s]\n"
     ]
    },
    {
     "name": "stdout",
     "output_type": "stream",
     "text": [
      "evaluating ...\n",
      "epoch 92, weight=0.50000, train-loss=0.30424, optimal-val-loss=nan, val-loss=0.00939, \n",
      "plotting ...\n"
     ]
    },
    {
     "name": "stderr",
     "output_type": "stream",
     "text": [
      "C:\\Users\\gg868\\thesis\\NJODE\\train.py:1041: FutureWarning: The behavior of DataFrame concatenation with empty or all-NA entries is deprecated. In a future version, this will no longer exclude empty or all-NA columns when determining the result dtypes. To retain the old behavior, exclude the relevant entries before the concat operation.\n",
      "  df_metric = pd.concat([df_metric, df_m_app], ignore_index=True)\n"
     ]
    },
    {
     "name": "stdout",
     "output_type": "stream",
     "text": [
      "optimal test-loss (with current weight=0.50000): 0.00000\n",
      "model test-loss (with current weight=0.50000): 0.00939\n",
      "save model ...\n",
      "saved!\n",
      "save new best model: last-best-loss: 0.00941, new-best-loss: 0.00939, epoch: 92\n",
      "saved!\n",
      "----------------------------------------------------------------------------------------------------\n"
     ]
    },
    {
     "name": "stderr",
     "output_type": "stream",
     "text": [
      "1it [00:00,  3.33it/s]\n"
     ]
    },
    {
     "name": "stdout",
     "output_type": "stream",
     "text": [
      "evaluating ...\n",
      "epoch 93, weight=0.50000, train-loss=0.29863, optimal-val-loss=nan, val-loss=0.00938, \n",
      "plotting ...\n"
     ]
    },
    {
     "name": "stderr",
     "output_type": "stream",
     "text": [
      "C:\\Users\\gg868\\thesis\\NJODE\\train.py:1041: FutureWarning: The behavior of DataFrame concatenation with empty or all-NA entries is deprecated. In a future version, this will no longer exclude empty or all-NA columns when determining the result dtypes. To retain the old behavior, exclude the relevant entries before the concat operation.\n",
      "  df_metric = pd.concat([df_metric, df_m_app], ignore_index=True)\n"
     ]
    },
    {
     "name": "stdout",
     "output_type": "stream",
     "text": [
      "optimal test-loss (with current weight=0.50000): 0.00000\n",
      "model test-loss (with current weight=0.50000): 0.00938\n",
      "save model ...\n",
      "saved!\n",
      "save new best model: last-best-loss: 0.00939, new-best-loss: 0.00938, epoch: 93\n",
      "saved!\n",
      "----------------------------------------------------------------------------------------------------\n"
     ]
    },
    {
     "name": "stderr",
     "output_type": "stream",
     "text": [
      "1it [00:00,  3.95it/s]\n"
     ]
    },
    {
     "name": "stdout",
     "output_type": "stream",
     "text": [
      "evaluating ...\n",
      "epoch 94, weight=0.50000, train-loss=0.29158, optimal-val-loss=nan, val-loss=0.00937, \n",
      "plotting ...\n"
     ]
    },
    {
     "name": "stderr",
     "output_type": "stream",
     "text": [
      "C:\\Users\\gg868\\thesis\\NJODE\\train.py:1041: FutureWarning: The behavior of DataFrame concatenation with empty or all-NA entries is deprecated. In a future version, this will no longer exclude empty or all-NA columns when determining the result dtypes. To retain the old behavior, exclude the relevant entries before the concat operation.\n",
      "  df_metric = pd.concat([df_metric, df_m_app], ignore_index=True)\n"
     ]
    },
    {
     "name": "stdout",
     "output_type": "stream",
     "text": [
      "optimal test-loss (with current weight=0.50000): 0.00000\n",
      "model test-loss (with current weight=0.50000): 0.00937\n",
      "save model ...\n",
      "saved!\n",
      "save new best model: last-best-loss: 0.00938, new-best-loss: 0.00937, epoch: 94\n",
      "saved!\n",
      "----------------------------------------------------------------------------------------------------\n"
     ]
    },
    {
     "name": "stderr",
     "output_type": "stream",
     "text": [
      "1it [00:00,  3.51it/s]\n"
     ]
    },
    {
     "name": "stdout",
     "output_type": "stream",
     "text": [
      "evaluating ...\n",
      "epoch 95, weight=0.50000, train-loss=0.27997, optimal-val-loss=nan, val-loss=0.00936, \n",
      "plotting ...\n"
     ]
    },
    {
     "name": "stderr",
     "output_type": "stream",
     "text": [
      "C:\\Users\\gg868\\thesis\\NJODE\\train.py:1041: FutureWarning: The behavior of DataFrame concatenation with empty or all-NA entries is deprecated. In a future version, this will no longer exclude empty or all-NA columns when determining the result dtypes. To retain the old behavior, exclude the relevant entries before the concat operation.\n",
      "  df_metric = pd.concat([df_metric, df_m_app], ignore_index=True)\n"
     ]
    },
    {
     "name": "stdout",
     "output_type": "stream",
     "text": [
      "optimal test-loss (with current weight=0.50000): 0.00000\n",
      "model test-loss (with current weight=0.50000): 0.00936\n",
      "save model ...\n",
      "saved!\n",
      "save new best model: last-best-loss: 0.00937, new-best-loss: 0.00936, epoch: 95\n",
      "saved!\n",
      "----------------------------------------------------------------------------------------------------\n"
     ]
    },
    {
     "name": "stderr",
     "output_type": "stream",
     "text": [
      "1it [00:00,  3.83it/s]\n"
     ]
    },
    {
     "name": "stdout",
     "output_type": "stream",
     "text": [
      "evaluating ...\n",
      "epoch 96, weight=0.50000, train-loss=0.27786, optimal-val-loss=nan, val-loss=0.00937, \n",
      "plotting ...\n",
      "optimal test-loss (with current weight=0.50000): 0.00000\n",
      "model test-loss (with current weight=0.50000): 0.00937\n",
      "save model ...\n",
      "saved!\n",
      "----------------------------------------------------------------------------------------------------\n"
     ]
    },
    {
     "name": "stderr",
     "output_type": "stream",
     "text": [
      "1it [00:00,  3.60it/s]\n"
     ]
    },
    {
     "name": "stdout",
     "output_type": "stream",
     "text": [
      "evaluating ...\n",
      "epoch 97, weight=0.50000, train-loss=0.27165, optimal-val-loss=nan, val-loss=0.00939, \n",
      "plotting ...\n",
      "optimal test-loss (with current weight=0.50000): 0.00000\n",
      "model test-loss (with current weight=0.50000): 0.00939\n",
      "save model ...\n",
      "saved!\n",
      "----------------------------------------------------------------------------------------------------\n"
     ]
    },
    {
     "name": "stderr",
     "output_type": "stream",
     "text": [
      "1it [00:00,  3.49it/s]\n"
     ]
    },
    {
     "name": "stdout",
     "output_type": "stream",
     "text": [
      "evaluating ...\n",
      "epoch 98, weight=0.50000, train-loss=0.26729, optimal-val-loss=nan, val-loss=0.00940, \n",
      "plotting ...\n",
      "optimal test-loss (with current weight=0.50000): 0.00000\n",
      "model test-loss (with current weight=0.50000): 0.00940\n",
      "save model ...\n",
      "saved!\n",
      "----------------------------------------------------------------------------------------------------\n"
     ]
    },
    {
     "name": "stderr",
     "output_type": "stream",
     "text": [
      "1it [00:00,  3.69it/s]\n"
     ]
    },
    {
     "name": "stdout",
     "output_type": "stream",
     "text": [
      "evaluating ...\n",
      "epoch 99, weight=0.50000, train-loss=0.26293, optimal-val-loss=nan, val-loss=0.00942, \n",
      "plotting ...\n",
      "optimal test-loss (with current weight=0.50000): 0.00000\n",
      "model test-loss (with current weight=0.50000): 0.00942\n",
      "save model ...\n",
      "saved!\n",
      "----------------------------------------------------------------------------------------------------\n"
     ]
    },
    {
     "name": "stderr",
     "output_type": "stream",
     "text": [
      "1it [00:00,  3.31it/s]\n"
     ]
    },
    {
     "name": "stdout",
     "output_type": "stream",
     "text": [
      "evaluating ...\n",
      "epoch 100, weight=0.50000, train-loss=0.25443, optimal-val-loss=nan, val-loss=0.00944, \n",
      "plotting ...\n",
      "optimal test-loss (with current weight=0.50000): 0.00000\n",
      "model test-loss (with current weight=0.50000): 0.00944\n",
      "save model ...\n",
      "saved!\n",
      "----------------------------------------------------------------------------------------------------\n"
     ]
    },
    {
     "data": {
      "text/plain": "0"
     },
     "execution_count": 7,
     "metadata": {},
     "output_type": "execute_result"
    }
   ],
   "source": [
    "train.train(dataset=\"OrnsteinUhlenbeckWithCrossTerms\", dataset_id=38, data_dict=dataset_dic, use_cond_exp = False)"
   ],
   "metadata": {
    "collapsed": false,
    "ExecuteTime": {
     "end_time": "2025-04-10T14:09:48.945043200Z",
     "start_time": "2025-04-10T14:07:45.092590700Z"
    }
   },
   "id": "4f3948260efa245d"
  },
  {
   "cell_type": "code",
   "execution_count": 2,
   "outputs": [],
   "source": [
    "from models_az import NJODE, get_ckpt_model\n",
    "import torch\n",
    "import numpy as np"
   ],
   "metadata": {
    "collapsed": false,
    "ExecuteTime": {
     "end_time": "2025-04-11T09:28:20.802034800Z",
     "start_time": "2025-04-11T09:28:13.577312300Z"
    }
   },
   "id": "d05d5a91f2a08085"
  },
  {
   "cell_type": "code",
   "execution_count": 3,
   "outputs": [],
   "source": [
    "params_dict = {\n",
    "    'input_size': 9, 'epochs': 100, 'hidden_size': 10, 'output_size': 9,\n",
    "    'ode_nn': ((50, \"tanh\"), (50, \"tanh\")), 'readout_nn': ((50, \"tanh\"), (50, \"tanh\")), 'enc_nn': ((50, \"tanh\"), (50, \"tanh\")),\n",
    "    'use_rnn': False,\n",
    "    'options': {'which_loss': 'standard'}, \"input_coords\": np.arange(9), \"output_coords\": np.arange(9)\n",
    "}"
   ],
   "metadata": {
    "collapsed": false,
    "ExecuteTime": {
     "end_time": "2025-04-11T09:28:24.601915700Z",
     "start_time": "2025-04-11T09:28:24.522819400Z"
    }
   },
   "id": "140e1f3eed1d8201"
  },
  {
   "cell_type": "code",
   "execution_count": 4,
   "outputs": [
    {
     "name": "stdout",
     "output_type": "stream",
     "text": [
      "using loss: standard\n",
      "neuralODE use input scaling with tanh\n",
      "use residual network: input_size=9, output_size=10\n",
      "use residual network: input_size=10, output_size=9\n"
     ]
    },
    {
     "data": {
      "text/plain": "NJODE(\n  (ode_f): ODEFunc(\n    (f): Sequential(\n      (0): Linear(in_features=21, out_features=50, bias=True)\n      (1): Tanh()\n      (2): Dropout(p=0, inplace=False)\n      (3): Linear(in_features=50, out_features=50, bias=True)\n      (4): Tanh()\n      (5): Dropout(p=0, inplace=False)\n      (6): Linear(in_features=50, out_features=10, bias=True)\n    )\n  )\n  (encoder_map): FFNN(\n    (ffnn): Sequential(\n      (0): Linear(in_features=9, out_features=50, bias=True)\n      (1): Tanh()\n      (2): Dropout(p=0, inplace=False)\n      (3): Linear(in_features=50, out_features=50, bias=True)\n      (4): Tanh()\n      (5): Dropout(p=0, inplace=False)\n      (6): Linear(in_features=50, out_features=10, bias=True)\n    )\n  )\n  (readout_map): FFNN(\n    (ffnn): Sequential(\n      (0): Linear(in_features=10, out_features=50, bias=True)\n      (1): Tanh()\n      (2): Dropout(p=0, inplace=False)\n      (3): Linear(in_features=50, out_features=50, bias=True)\n      (4): Tanh()\n      (5): Dropout(p=0, inplace=False)\n      (6): Linear(in_features=50, out_features=9, bias=True)\n    )\n  )\n)"
     },
     "execution_count": 4,
     "metadata": {},
     "output_type": "execute_result"
    }
   ],
   "source": [
    "device = torch.device(\"cuda\" if torch.cuda.is_available() else \"cpu\")\n",
    "model = NJODE(**params_dict)\n",
    "optimizer = torch.optim.Adam(model.parameters())\n",
    "get_ckpt_model(\"../data/saved_models/id-24/best_checkpoint/\", model, optimizer, device)\n",
    "model.eval()"
   ],
   "metadata": {
    "collapsed": false,
    "ExecuteTime": {
     "end_time": "2025-04-11T09:28:31.489914900Z",
     "start_time": "2025-04-11T09:28:26.285414900Z"
    }
   },
   "id": "118b476a6be118a2"
  },
  {
   "cell_type": "code",
   "execution_count": 112,
   "outputs": [],
   "source": [
    "times=[]\n",
    "time_ptr = [0]\n",
    "obs_idx = torch.tensor([],dtype=torch.long)\n",
    "delta_t=0.01\n",
    "T=0.01\n",
    "X= torch.tensor([[1.0], [1.5], [2.0], [1.0], [1.5**2], [4.0], [1.5], [2.0],[3.0]]).reshape(1,9)\n",
    "start_X = torch.tensor([[1.0], [1.5], [2.0], [1.0], [1.5**2], [4.0], [1.5], [2.0],[3.0]]).reshape(1,9)\n",
    "n_obs_ot=torch.tensor([0])"
   ],
   "metadata": {
    "collapsed": false,
    "ExecuteTime": {
     "end_time": "2025-04-11T12:00:31.777113500Z",
     "start_time": "2025-04-11T12:00:31.725107500Z"
    }
   },
   "id": "aa127b11ec038e70"
  },
  {
   "cell_type": "code",
   "execution_count": 6,
   "outputs": [],
   "source": [
    "prediction=model.get_pred(times, time_ptr, X, obs_idx, delta_t, T, start_X, n_obs_ot)"
   ],
   "metadata": {
    "collapsed": false,
    "ExecuteTime": {
     "end_time": "2025-04-11T09:28:42.134901300Z",
     "start_time": "2025-04-11T09:28:42.087588600Z"
    }
   },
   "id": "9c40af2557ef691e"
  },
  {
   "cell_type": "code",
   "execution_count": 7,
   "outputs": [
    {
     "data": {
      "text/plain": "{'pred': tensor([[[1.0000, 1.5000, 2.0000, 0.9999, 2.2500, 4.0000, 1.5001, 2.0000,\n           2.9997]],\n \n         [[0.9989, 1.4976, 1.9958, 0.9983, 2.2438, 3.9858, 1.4966, 1.9945,\n           2.9902]]], grad_fn=<SliceBackward0>),\n 'pred_t': array([0.  , 0.01]),\n 'loss': tensor(0.),\n 'mu': tensor([[[-0.1080, -0.2429, -0.4247]]], grad_fn=<StackBackward0>),\n 'sigma': tensor([[[0.0413, 0.0685, 0.0932],\n          [0.0685, 0.1098, 0.1399],\n          [0.0932, 0.1399, 0.2838]]], grad_fn=<StackBackward0>)}"
     },
     "execution_count": 7,
     "metadata": {},
     "output_type": "execute_result"
    }
   ],
   "source": [
    "prediction"
   ],
   "metadata": {
    "collapsed": false,
    "ExecuteTime": {
     "end_time": "2025-04-11T09:28:48.316764500Z",
     "start_time": "2025-04-11T09:28:48.285490700Z"
    }
   },
   "id": "fa61a5a79f7bd3aa"
  },
  {
   "cell_type": "code",
   "execution_count": 19,
   "outputs": [
    {
     "data": {
      "text/plain": "(20000, 9, 101)"
     },
     "execution_count": 19,
     "metadata": {},
     "output_type": "execute_result"
    }
   ],
   "source": [
    "x = np.load(\"../data/training_data/OrnsteinUhlenbeckWithCrossTerms-32/data.npy\")\n",
    "x.shape"
   ],
   "metadata": {
    "collapsed": false,
    "ExecuteTime": {
     "end_time": "2025-04-11T09:33:15.807728Z",
     "start_time": "2025-04-11T09:33:15.621345800Z"
    }
   },
   "id": "89f894993f908a6b"
  },
  {
   "cell_type": "code",
   "execution_count": 27,
   "outputs": [],
   "source": [
    "import random"
   ],
   "metadata": {
    "collapsed": false,
    "ExecuteTime": {
     "end_time": "2025-04-11T09:43:36.605827200Z",
     "start_time": "2025-04-11T09:43:36.511710300Z"
    }
   },
   "id": "3c5cfa05e8de74dd"
  },
  {
   "cell_type": "code",
   "execution_count": 113,
   "outputs": [
    {
     "name": "stdout",
     "output_type": "stream",
     "text": [
      "torch.Size([1, 3, 3])\n",
      "[0.   0.01]\n",
      "torch.Size([3, 3, 3])\n",
      "[0.   0.01 0.01 0.02]\n",
      "torch.Size([5, 3, 3])\n",
      "[0.   0.01 0.01 0.02 0.02 0.03]\n",
      "torch.Size([7, 3, 3])\n",
      "[0.   0.01 0.01 0.02 0.02 0.03 0.03 0.04]\n",
      "torch.Size([9, 3, 3])\n",
      "[0.   0.01 0.01 0.02 0.02 0.03 0.03 0.04 0.04 0.05]\n",
      "torch.Size([11, 3, 3])\n",
      "[0.   0.01 0.01 0.02 0.02 0.03 0.03 0.04 0.04 0.05 0.05 0.06]\n",
      "torch.Size([13, 3, 3])\n",
      "[0.   0.01 0.01 0.02 0.02 0.03 0.03 0.04 0.04 0.05 0.05 0.06 0.06 0.07]\n",
      "torch.Size([15, 3, 3])\n",
      "[0.   0.01 0.01 0.02 0.02 0.03 0.03 0.04 0.04 0.05 0.05 0.06 0.06 0.07\n",
      " 0.07 0.08]\n",
      "torch.Size([17, 3, 3])\n",
      "[0.   0.01 0.01 0.02 0.02 0.03 0.03 0.04 0.04 0.05 0.05 0.06 0.06 0.07\n",
      " 0.07 0.08 0.08 0.09]\n",
      "torch.Size([19, 3, 3])\n",
      "[0.   0.01 0.01 0.02 0.02 0.03 0.03 0.04 0.04 0.05 0.05 0.06 0.06 0.07\n",
      " 0.07 0.08 0.08 0.09 0.09 0.1 ]\n",
      "torch.Size([21, 3, 3])\n",
      "[0.   0.01 0.01 0.02 0.02 0.03 0.03 0.04 0.04 0.05 0.05 0.06 0.06 0.07\n",
      " 0.07 0.08 0.08 0.09 0.09 0.1  0.1  0.11]\n",
      "torch.Size([23, 3, 3])\n",
      "[0.   0.01 0.01 0.02 0.02 0.03 0.03 0.04 0.04 0.05 0.05 0.06 0.06 0.07\n",
      " 0.07 0.08 0.08 0.09 0.09 0.1  0.1  0.11 0.11 0.12]\n",
      "torch.Size([25, 3, 3])\n",
      "[0.   0.01 0.01 0.02 0.02 0.03 0.03 0.04 0.04 0.05 0.05 0.06 0.06 0.07\n",
      " 0.07 0.08 0.08 0.09 0.09 0.1  0.1  0.11 0.11 0.12 0.12 0.13]\n",
      "torch.Size([27, 3, 3])\n",
      "[0.   0.01 0.01 0.02 0.02 0.03 0.03 0.04 0.04 0.05 0.05 0.06 0.06 0.07\n",
      " 0.07 0.08 0.08 0.09 0.09 0.1  0.1  0.11 0.11 0.12 0.12 0.13 0.13 0.14]\n",
      "torch.Size([29, 3, 3])\n",
      "[0.   0.01 0.01 0.02 0.02 0.03 0.03 0.04 0.04 0.05 0.05 0.06 0.06 0.07\n",
      " 0.07 0.08 0.08 0.09 0.09 0.1  0.1  0.11 0.11 0.12 0.12 0.13 0.13 0.14\n",
      " 0.14 0.15]\n",
      "torch.Size([31, 3, 3])\n",
      "[0.   0.01 0.01 0.02 0.02 0.03 0.03 0.04 0.04 0.05 0.05 0.06 0.06 0.07\n",
      " 0.07 0.08 0.08 0.09 0.09 0.1  0.1  0.11 0.11 0.12 0.12 0.13 0.13 0.14\n",
      " 0.14 0.15 0.15 0.16]\n",
      "torch.Size([33, 3, 3])\n",
      "[0.   0.01 0.01 0.02 0.02 0.03 0.03 0.04 0.04 0.05 0.05 0.06 0.06 0.07\n",
      " 0.07 0.08 0.08 0.09 0.09 0.1  0.1  0.11 0.11 0.12 0.12 0.13 0.13 0.14\n",
      " 0.14 0.15 0.15 0.16 0.16 0.17]\n",
      "torch.Size([35, 3, 3])\n",
      "[0.   0.01 0.01 0.02 0.02 0.03 0.03 0.04 0.04 0.05 0.05 0.06 0.06 0.07\n",
      " 0.07 0.08 0.08 0.09 0.09 0.1  0.1  0.11 0.11 0.12 0.12 0.13 0.13 0.14\n",
      " 0.14 0.15 0.15 0.16 0.16 0.17 0.17 0.18]\n",
      "torch.Size([37, 3, 3])\n",
      "[0.   0.01 0.01 0.02 0.02 0.03 0.03 0.04 0.04 0.05 0.05 0.06 0.06 0.07\n",
      " 0.07 0.08 0.08 0.09 0.09 0.1  0.1  0.11 0.11 0.12 0.12 0.13 0.13 0.14\n",
      " 0.14 0.15 0.15 0.16 0.16 0.17 0.17 0.18 0.18 0.19]\n",
      "torch.Size([39, 3, 3])\n",
      "[0.   0.01 0.01 0.02 0.02 0.03 0.03 0.04 0.04 0.05 0.05 0.06 0.06 0.07\n",
      " 0.07 0.08 0.08 0.09 0.09 0.1  0.1  0.11 0.11 0.12 0.12 0.13 0.13 0.14\n",
      " 0.14 0.15 0.15 0.16 0.16 0.17 0.17 0.18 0.18 0.19 0.19 0.2 ]\n",
      "torch.Size([41, 3, 3])\n",
      "[0.   0.01 0.01 0.02 0.02 0.03 0.03 0.04 0.04 0.05 0.05 0.06 0.06 0.07\n",
      " 0.07 0.08 0.08 0.09 0.09 0.1  0.1  0.11 0.11 0.12 0.12 0.13 0.13 0.14\n",
      " 0.14 0.15 0.15 0.16 0.16 0.17 0.17 0.18 0.18 0.19 0.19 0.2  0.2  0.21]\n",
      "torch.Size([43, 3, 3])\n",
      "[0.   0.01 0.01 0.02 0.02 0.03 0.03 0.04 0.04 0.05 0.05 0.06 0.06 0.07\n",
      " 0.07 0.08 0.08 0.09 0.09 0.1  0.1  0.11 0.11 0.12 0.12 0.13 0.13 0.14\n",
      " 0.14 0.15 0.15 0.16 0.16 0.17 0.17 0.18 0.18 0.19 0.19 0.2  0.2  0.21\n",
      " 0.21 0.22]\n",
      "torch.Size([45, 3, 3])\n",
      "[0.   0.01 0.01 0.02 0.02 0.03 0.03 0.04 0.04 0.05 0.05 0.06 0.06 0.07\n",
      " 0.07 0.08 0.08 0.09 0.09 0.1  0.1  0.11 0.11 0.12 0.12 0.13 0.13 0.14\n",
      " 0.14 0.15 0.15 0.16 0.16 0.17 0.17 0.18 0.18 0.19 0.19 0.2  0.2  0.21\n",
      " 0.21 0.22 0.22 0.23]\n",
      "torch.Size([47, 3, 3])\n",
      "[0.   0.01 0.01 0.02 0.02 0.03 0.03 0.04 0.04 0.05 0.05 0.06 0.06 0.07\n",
      " 0.07 0.08 0.08 0.09 0.09 0.1  0.1  0.11 0.11 0.12 0.12 0.13 0.13 0.14\n",
      " 0.14 0.15 0.15 0.16 0.16 0.17 0.17 0.18 0.18 0.19 0.19 0.2  0.2  0.21\n",
      " 0.21 0.22 0.22 0.23 0.23 0.24]\n",
      "torch.Size([49, 3, 3])\n",
      "[0.   0.01 0.01 0.02 0.02 0.03 0.03 0.04 0.04 0.05 0.05 0.06 0.06 0.07\n",
      " 0.07 0.08 0.08 0.09 0.09 0.1  0.1  0.11 0.11 0.12 0.12 0.13 0.13 0.14\n",
      " 0.14 0.15 0.15 0.16 0.16 0.17 0.17 0.18 0.18 0.19 0.19 0.2  0.2  0.21\n",
      " 0.21 0.22 0.22 0.23 0.23 0.24 0.24 0.25]\n",
      "torch.Size([51, 3, 3])\n",
      "[0.   0.01 0.01 0.02 0.02 0.03 0.03 0.04 0.04 0.05 0.05 0.06 0.06 0.07\n",
      " 0.07 0.08 0.08 0.09 0.09 0.1  0.1  0.11 0.11 0.12 0.12 0.13 0.13 0.14\n",
      " 0.14 0.15 0.15 0.16 0.16 0.17 0.17 0.18 0.18 0.19 0.19 0.2  0.2  0.21\n",
      " 0.21 0.22 0.22 0.23 0.23 0.24 0.24 0.25 0.25 0.26]\n",
      "torch.Size([53, 3, 3])\n",
      "[0.   0.01 0.01 0.02 0.02 0.03 0.03 0.04 0.04 0.05 0.05 0.06 0.06 0.07\n",
      " 0.07 0.08 0.08 0.09 0.09 0.1  0.1  0.11 0.11 0.12 0.12 0.13 0.13 0.14\n",
      " 0.14 0.15 0.15 0.16 0.16 0.17 0.17 0.18 0.18 0.19 0.19 0.2  0.2  0.21\n",
      " 0.21 0.22 0.22 0.23 0.23 0.24 0.24 0.25 0.25 0.26 0.26 0.27]\n",
      "torch.Size([55, 3, 3])\n",
      "[0.   0.01 0.01 0.02 0.02 0.03 0.03 0.04 0.04 0.05 0.05 0.06 0.06 0.07\n",
      " 0.07 0.08 0.08 0.09 0.09 0.1  0.1  0.11 0.11 0.12 0.12 0.13 0.13 0.14\n",
      " 0.14 0.15 0.15 0.16 0.16 0.17 0.17 0.18 0.18 0.19 0.19 0.2  0.2  0.21\n",
      " 0.21 0.22 0.22 0.23 0.23 0.24 0.24 0.25 0.25 0.26 0.26 0.27 0.27 0.28]\n",
      "torch.Size([57, 3, 3])\n",
      "[0.   0.01 0.01 0.02 0.02 0.03 0.03 0.04 0.04 0.05 0.05 0.06 0.06 0.07\n",
      " 0.07 0.08 0.08 0.09 0.09 0.1  0.1  0.11 0.11 0.12 0.12 0.13 0.13 0.14\n",
      " 0.14 0.15 0.15 0.16 0.16 0.17 0.17 0.18 0.18 0.19 0.19 0.2  0.2  0.21\n",
      " 0.21 0.22 0.22 0.23 0.23 0.24 0.24 0.25 0.25 0.26 0.26 0.27 0.27 0.28\n",
      " 0.28 0.29]\n",
      "torch.Size([59, 3, 3])\n",
      "[0.   0.01 0.01 0.02 0.02 0.03 0.03 0.04 0.04 0.05 0.05 0.06 0.06 0.07\n",
      " 0.07 0.08 0.08 0.09 0.09 0.1  0.1  0.11 0.11 0.12 0.12 0.13 0.13 0.14\n",
      " 0.14 0.15 0.15 0.16 0.16 0.17 0.17 0.18 0.18 0.19 0.19 0.2  0.2  0.21\n",
      " 0.21 0.22 0.22 0.23 0.23 0.24 0.24 0.25 0.25 0.26 0.26 0.27 0.27 0.28\n",
      " 0.28 0.29 0.29 0.3 ]\n",
      "torch.Size([61, 3, 3])\n",
      "[0.   0.01 0.01 0.02 0.02 0.03 0.03 0.04 0.04 0.05 0.05 0.06 0.06 0.07\n",
      " 0.07 0.08 0.08 0.09 0.09 0.1  0.1  0.11 0.11 0.12 0.12 0.13 0.13 0.14\n",
      " 0.14 0.15 0.15 0.16 0.16 0.17 0.17 0.18 0.18 0.19 0.19 0.2  0.2  0.21\n",
      " 0.21 0.22 0.22 0.23 0.23 0.24 0.24 0.25 0.25 0.26 0.26 0.27 0.27 0.28\n",
      " 0.28 0.29 0.29 0.3  0.3  0.31]\n",
      "torch.Size([63, 3, 3])\n",
      "[0.   0.01 0.01 0.02 0.02 0.03 0.03 0.04 0.04 0.05 0.05 0.06 0.06 0.07\n",
      " 0.07 0.08 0.08 0.09 0.09 0.1  0.1  0.11 0.11 0.12 0.12 0.13 0.13 0.14\n",
      " 0.14 0.15 0.15 0.16 0.16 0.17 0.17 0.18 0.18 0.19 0.19 0.2  0.2  0.21\n",
      " 0.21 0.22 0.22 0.23 0.23 0.24 0.24 0.25 0.25 0.26 0.26 0.27 0.27 0.28\n",
      " 0.28 0.29 0.29 0.3  0.3  0.31 0.31 0.32]\n",
      "torch.Size([65, 3, 3])\n",
      "[0.   0.01 0.01 0.02 0.02 0.03 0.03 0.04 0.04 0.05 0.05 0.06 0.06 0.07\n",
      " 0.07 0.08 0.08 0.09 0.09 0.1  0.1  0.11 0.11 0.12 0.12 0.13 0.13 0.14\n",
      " 0.14 0.15 0.15 0.16 0.16 0.17 0.17 0.18 0.18 0.19 0.19 0.2  0.2  0.21\n",
      " 0.21 0.22 0.22 0.23 0.23 0.24 0.24 0.25 0.25 0.26 0.26 0.27 0.27 0.28\n",
      " 0.28 0.29 0.29 0.3  0.3  0.31 0.31 0.32 0.32 0.33]\n",
      "torch.Size([67, 3, 3])\n",
      "[0.   0.01 0.01 0.02 0.02 0.03 0.03 0.04 0.04 0.05 0.05 0.06 0.06 0.07\n",
      " 0.07 0.08 0.08 0.09 0.09 0.1  0.1  0.11 0.11 0.12 0.12 0.13 0.13 0.14\n",
      " 0.14 0.15 0.15 0.16 0.16 0.17 0.17 0.18 0.18 0.19 0.19 0.2  0.2  0.21\n",
      " 0.21 0.22 0.22 0.23 0.23 0.24 0.24 0.25 0.25 0.26 0.26 0.27 0.27 0.28\n",
      " 0.28 0.29 0.29 0.3  0.3  0.31 0.31 0.32 0.32 0.33 0.33 0.34]\n",
      "torch.Size([69, 3, 3])\n",
      "[0.   0.01 0.01 0.02 0.02 0.03 0.03 0.04 0.04 0.05 0.05 0.06 0.06 0.07\n",
      " 0.07 0.08 0.08 0.09 0.09 0.1  0.1  0.11 0.11 0.12 0.12 0.13 0.13 0.14\n",
      " 0.14 0.15 0.15 0.16 0.16 0.17 0.17 0.18 0.18 0.19 0.19 0.2  0.2  0.21\n",
      " 0.21 0.22 0.22 0.23 0.23 0.24 0.24 0.25 0.25 0.26 0.26 0.27 0.27 0.28\n",
      " 0.28 0.29 0.29 0.3  0.3  0.31 0.31 0.32 0.32 0.33 0.33 0.34 0.34 0.35]\n",
      "torch.Size([71, 3, 3])\n",
      "[0.   0.01 0.01 0.02 0.02 0.03 0.03 0.04 0.04 0.05 0.05 0.06 0.06 0.07\n",
      " 0.07 0.08 0.08 0.09 0.09 0.1  0.1  0.11 0.11 0.12 0.12 0.13 0.13 0.14\n",
      " 0.14 0.15 0.15 0.16 0.16 0.17 0.17 0.18 0.18 0.19 0.19 0.2  0.2  0.21\n",
      " 0.21 0.22 0.22 0.23 0.23 0.24 0.24 0.25 0.25 0.26 0.26 0.27 0.27 0.28\n",
      " 0.28 0.29 0.29 0.3  0.3  0.31 0.31 0.32 0.32 0.33 0.33 0.34 0.34 0.35\n",
      " 0.35 0.36]\n",
      "torch.Size([73, 3, 3])\n",
      "[0.   0.01 0.01 0.02 0.02 0.03 0.03 0.04 0.04 0.05 0.05 0.06 0.06 0.07\n",
      " 0.07 0.08 0.08 0.09 0.09 0.1  0.1  0.11 0.11 0.12 0.12 0.13 0.13 0.14\n",
      " 0.14 0.15 0.15 0.16 0.16 0.17 0.17 0.18 0.18 0.19 0.19 0.2  0.2  0.21\n",
      " 0.21 0.22 0.22 0.23 0.23 0.24 0.24 0.25 0.25 0.26 0.26 0.27 0.27 0.28\n",
      " 0.28 0.29 0.29 0.3  0.3  0.31 0.31 0.32 0.32 0.33 0.33 0.34 0.34 0.35\n",
      " 0.35 0.36 0.36 0.37]\n",
      "torch.Size([75, 3, 3])\n",
      "[0.   0.01 0.01 0.02 0.02 0.03 0.03 0.04 0.04 0.05 0.05 0.06 0.06 0.07\n",
      " 0.07 0.08 0.08 0.09 0.09 0.1  0.1  0.11 0.11 0.12 0.12 0.13 0.13 0.14\n",
      " 0.14 0.15 0.15 0.16 0.16 0.17 0.17 0.18 0.18 0.19 0.19 0.2  0.2  0.21\n",
      " 0.21 0.22 0.22 0.23 0.23 0.24 0.24 0.25 0.25 0.26 0.26 0.27 0.27 0.28\n",
      " 0.28 0.29 0.29 0.3  0.3  0.31 0.31 0.32 0.32 0.33 0.33 0.34 0.34 0.35\n",
      " 0.35 0.36 0.36 0.37 0.37 0.38]\n",
      "torch.Size([77, 3, 3])\n",
      "[0.   0.01 0.01 0.02 0.02 0.03 0.03 0.04 0.04 0.05 0.05 0.06 0.06 0.07\n",
      " 0.07 0.08 0.08 0.09 0.09 0.1  0.1  0.11 0.11 0.12 0.12 0.13 0.13 0.14\n",
      " 0.14 0.15 0.15 0.16 0.16 0.17 0.17 0.18 0.18 0.19 0.19 0.2  0.2  0.21\n",
      " 0.21 0.22 0.22 0.23 0.23 0.24 0.24 0.25 0.25 0.26 0.26 0.27 0.27 0.28\n",
      " 0.28 0.29 0.29 0.3  0.3  0.31 0.31 0.32 0.32 0.33 0.33 0.34 0.34 0.35\n",
      " 0.35 0.36 0.36 0.37 0.37 0.38 0.38 0.39]\n",
      "torch.Size([79, 3, 3])\n",
      "[0.   0.01 0.01 0.02 0.02 0.03 0.03 0.04 0.04 0.05 0.05 0.06 0.06 0.07\n",
      " 0.07 0.08 0.08 0.09 0.09 0.1  0.1  0.11 0.11 0.12 0.12 0.13 0.13 0.14\n",
      " 0.14 0.15 0.15 0.16 0.16 0.17 0.17 0.18 0.18 0.19 0.19 0.2  0.2  0.21\n",
      " 0.21 0.22 0.22 0.23 0.23 0.24 0.24 0.25 0.25 0.26 0.26 0.27 0.27 0.28\n",
      " 0.28 0.29 0.29 0.3  0.3  0.31 0.31 0.32 0.32 0.33 0.33 0.34 0.34 0.35\n",
      " 0.35 0.36 0.36 0.37 0.37 0.38 0.38 0.39 0.39 0.4 ]\n",
      "torch.Size([81, 3, 3])\n",
      "[0.   0.01 0.01 0.02 0.02 0.03 0.03 0.04 0.04 0.05 0.05 0.06 0.06 0.07\n",
      " 0.07 0.08 0.08 0.09 0.09 0.1  0.1  0.11 0.11 0.12 0.12 0.13 0.13 0.14\n",
      " 0.14 0.15 0.15 0.16 0.16 0.17 0.17 0.18 0.18 0.19 0.19 0.2  0.2  0.21\n",
      " 0.21 0.22 0.22 0.23 0.23 0.24 0.24 0.25 0.25 0.26 0.26 0.27 0.27 0.28\n",
      " 0.28 0.29 0.29 0.3  0.3  0.31 0.31 0.32 0.32 0.33 0.33 0.34 0.34 0.35\n",
      " 0.35 0.36 0.36 0.37 0.37 0.38 0.38 0.39 0.39 0.4  0.4  0.41]\n",
      "torch.Size([83, 3, 3])\n",
      "[0.   0.01 0.01 0.02 0.02 0.03 0.03 0.04 0.04 0.05 0.05 0.06 0.06 0.07\n",
      " 0.07 0.08 0.08 0.09 0.09 0.1  0.1  0.11 0.11 0.12 0.12 0.13 0.13 0.14\n",
      " 0.14 0.15 0.15 0.16 0.16 0.17 0.17 0.18 0.18 0.19 0.19 0.2  0.2  0.21\n",
      " 0.21 0.22 0.22 0.23 0.23 0.24 0.24 0.25 0.25 0.26 0.26 0.27 0.27 0.28\n",
      " 0.28 0.29 0.29 0.3  0.3  0.31 0.31 0.32 0.32 0.33 0.33 0.34 0.34 0.35\n",
      " 0.35 0.36 0.36 0.37 0.37 0.38 0.38 0.39 0.39 0.4  0.4  0.41 0.41 0.42]\n",
      "torch.Size([85, 3, 3])\n",
      "[0.   0.01 0.01 0.02 0.02 0.03 0.03 0.04 0.04 0.05 0.05 0.06 0.06 0.07\n",
      " 0.07 0.08 0.08 0.09 0.09 0.1  0.1  0.11 0.11 0.12 0.12 0.13 0.13 0.14\n",
      " 0.14 0.15 0.15 0.16 0.16 0.17 0.17 0.18 0.18 0.19 0.19 0.2  0.2  0.21\n",
      " 0.21 0.22 0.22 0.23 0.23 0.24 0.24 0.25 0.25 0.26 0.26 0.27 0.27 0.28\n",
      " 0.28 0.29 0.29 0.3  0.3  0.31 0.31 0.32 0.32 0.33 0.33 0.34 0.34 0.35\n",
      " 0.35 0.36 0.36 0.37 0.37 0.38 0.38 0.39 0.39 0.4  0.4  0.41 0.41 0.42\n",
      " 0.42 0.43]\n",
      "torch.Size([87, 3, 3])\n",
      "[0.   0.01 0.01 0.02 0.02 0.03 0.03 0.04 0.04 0.05 0.05 0.06 0.06 0.07\n",
      " 0.07 0.08 0.08 0.09 0.09 0.1  0.1  0.11 0.11 0.12 0.12 0.13 0.13 0.14\n",
      " 0.14 0.15 0.15 0.16 0.16 0.17 0.17 0.18 0.18 0.19 0.19 0.2  0.2  0.21\n",
      " 0.21 0.22 0.22 0.23 0.23 0.24 0.24 0.25 0.25 0.26 0.26 0.27 0.27 0.28\n",
      " 0.28 0.29 0.29 0.3  0.3  0.31 0.31 0.32 0.32 0.33 0.33 0.34 0.34 0.35\n",
      " 0.35 0.36 0.36 0.37 0.37 0.38 0.38 0.39 0.39 0.4  0.4  0.41 0.41 0.42\n",
      " 0.42 0.43 0.43 0.44]\n",
      "torch.Size([89, 3, 3])\n",
      "[0.   0.01 0.01 0.02 0.02 0.03 0.03 0.04 0.04 0.05 0.05 0.06 0.06 0.07\n",
      " 0.07 0.08 0.08 0.09 0.09 0.1  0.1  0.11 0.11 0.12 0.12 0.13 0.13 0.14\n",
      " 0.14 0.15 0.15 0.16 0.16 0.17 0.17 0.18 0.18 0.19 0.19 0.2  0.2  0.21\n",
      " 0.21 0.22 0.22 0.23 0.23 0.24 0.24 0.25 0.25 0.26 0.26 0.27 0.27 0.28\n",
      " 0.28 0.29 0.29 0.3  0.3  0.31 0.31 0.32 0.32 0.33 0.33 0.34 0.34 0.35\n",
      " 0.35 0.36 0.36 0.37 0.37 0.38 0.38 0.39 0.39 0.4  0.4  0.41 0.41 0.42\n",
      " 0.42 0.43 0.43 0.44 0.44 0.45]\n",
      "torch.Size([91, 3, 3])\n",
      "[0.   0.01 0.01 0.02 0.02 0.03 0.03 0.04 0.04 0.05 0.05 0.06 0.06 0.07\n",
      " 0.07 0.08 0.08 0.09 0.09 0.1  0.1  0.11 0.11 0.12 0.12 0.13 0.13 0.14\n",
      " 0.14 0.15 0.15 0.16 0.16 0.17 0.17 0.18 0.18 0.19 0.19 0.2  0.2  0.21\n",
      " 0.21 0.22 0.22 0.23 0.23 0.24 0.24 0.25 0.25 0.26 0.26 0.27 0.27 0.28\n",
      " 0.28 0.29 0.29 0.3  0.3  0.31 0.31 0.32 0.32 0.33 0.33 0.34 0.34 0.35\n",
      " 0.35 0.36 0.36 0.37 0.37 0.38 0.38 0.39 0.39 0.4  0.4  0.41 0.41 0.42\n",
      " 0.42 0.43 0.43 0.44 0.44 0.45 0.45 0.46]\n",
      "torch.Size([93, 3, 3])\n",
      "[0.   0.01 0.01 0.02 0.02 0.03 0.03 0.04 0.04 0.05 0.05 0.06 0.06 0.07\n",
      " 0.07 0.08 0.08 0.09 0.09 0.1  0.1  0.11 0.11 0.12 0.12 0.13 0.13 0.14\n",
      " 0.14 0.15 0.15 0.16 0.16 0.17 0.17 0.18 0.18 0.19 0.19 0.2  0.2  0.21\n",
      " 0.21 0.22 0.22 0.23 0.23 0.24 0.24 0.25 0.25 0.26 0.26 0.27 0.27 0.28\n",
      " 0.28 0.29 0.29 0.3  0.3  0.31 0.31 0.32 0.32 0.33 0.33 0.34 0.34 0.35\n",
      " 0.35 0.36 0.36 0.37 0.37 0.38 0.38 0.39 0.39 0.4  0.4  0.41 0.41 0.42\n",
      " 0.42 0.43 0.43 0.44 0.44 0.45 0.45 0.46 0.46 0.47]\n",
      "torch.Size([95, 3, 3])\n",
      "[0.   0.01 0.01 0.02 0.02 0.03 0.03 0.04 0.04 0.05 0.05 0.06 0.06 0.07\n",
      " 0.07 0.08 0.08 0.09 0.09 0.1  0.1  0.11 0.11 0.12 0.12 0.13 0.13 0.14\n",
      " 0.14 0.15 0.15 0.16 0.16 0.17 0.17 0.18 0.18 0.19 0.19 0.2  0.2  0.21\n",
      " 0.21 0.22 0.22 0.23 0.23 0.24 0.24 0.25 0.25 0.26 0.26 0.27 0.27 0.28\n",
      " 0.28 0.29 0.29 0.3  0.3  0.31 0.31 0.32 0.32 0.33 0.33 0.34 0.34 0.35\n",
      " 0.35 0.36 0.36 0.37 0.37 0.38 0.38 0.39 0.39 0.4  0.4  0.41 0.41 0.42\n",
      " 0.42 0.43 0.43 0.44 0.44 0.45 0.45 0.46 0.46 0.47 0.47 0.48]\n",
      "torch.Size([97, 3, 3])\n",
      "[0.   0.01 0.01 0.02 0.02 0.03 0.03 0.04 0.04 0.05 0.05 0.06 0.06 0.07\n",
      " 0.07 0.08 0.08 0.09 0.09 0.1  0.1  0.11 0.11 0.12 0.12 0.13 0.13 0.14\n",
      " 0.14 0.15 0.15 0.16 0.16 0.17 0.17 0.18 0.18 0.19 0.19 0.2  0.2  0.21\n",
      " 0.21 0.22 0.22 0.23 0.23 0.24 0.24 0.25 0.25 0.26 0.26 0.27 0.27 0.28\n",
      " 0.28 0.29 0.29 0.3  0.3  0.31 0.31 0.32 0.32 0.33 0.33 0.34 0.34 0.35\n",
      " 0.35 0.36 0.36 0.37 0.37 0.38 0.38 0.39 0.39 0.4  0.4  0.41 0.41 0.42\n",
      " 0.42 0.43 0.43 0.44 0.44 0.45 0.45 0.46 0.46 0.47 0.47 0.48 0.48 0.49]\n",
      "torch.Size([99, 3, 3])\n",
      "[0.   0.01 0.01 0.02 0.02 0.03 0.03 0.04 0.04 0.05 0.05 0.06 0.06 0.07\n",
      " 0.07 0.08 0.08 0.09 0.09 0.1  0.1  0.11 0.11 0.12 0.12 0.13 0.13 0.14\n",
      " 0.14 0.15 0.15 0.16 0.16 0.17 0.17 0.18 0.18 0.19 0.19 0.2  0.2  0.21\n",
      " 0.21 0.22 0.22 0.23 0.23 0.24 0.24 0.25 0.25 0.26 0.26 0.27 0.27 0.28\n",
      " 0.28 0.29 0.29 0.3  0.3  0.31 0.31 0.32 0.32 0.33 0.33 0.34 0.34 0.35\n",
      " 0.35 0.36 0.36 0.37 0.37 0.38 0.38 0.39 0.39 0.4  0.4  0.41 0.41 0.42\n",
      " 0.42 0.43 0.43 0.44 0.44 0.45 0.45 0.46 0.46 0.47 0.47 0.48 0.48 0.49\n",
      " 0.49 0.5 ]\n",
      "torch.Size([101, 3, 3])\n",
      "[0.   0.01 0.01 0.02 0.02 0.03 0.03 0.04 0.04 0.05 0.05 0.06 0.06 0.07\n",
      " 0.07 0.08 0.08 0.09 0.09 0.1  0.1  0.11 0.11 0.12 0.12 0.13 0.13 0.14\n",
      " 0.14 0.15 0.15 0.16 0.16 0.17 0.17 0.18 0.18 0.19 0.19 0.2  0.2  0.21\n",
      " 0.21 0.22 0.22 0.23 0.23 0.24 0.24 0.25 0.25 0.26 0.26 0.27 0.27 0.28\n",
      " 0.28 0.29 0.29 0.3  0.3  0.31 0.31 0.32 0.32 0.33 0.33 0.34 0.34 0.35\n",
      " 0.35 0.36 0.36 0.37 0.37 0.38 0.38 0.39 0.39 0.4  0.4  0.41 0.41 0.42\n",
      " 0.42 0.43 0.43 0.44 0.44 0.45 0.45 0.46 0.46 0.47 0.47 0.48 0.48 0.49\n",
      " 0.49 0.5  0.5  0.51]\n",
      "torch.Size([103, 3, 3])\n",
      "[0.   0.01 0.01 0.02 0.02 0.03 0.03 0.04 0.04 0.05 0.05 0.06 0.06 0.07\n",
      " 0.07 0.08 0.08 0.09 0.09 0.1  0.1  0.11 0.11 0.12 0.12 0.13 0.13 0.14\n",
      " 0.14 0.15 0.15 0.16 0.16 0.17 0.17 0.18 0.18 0.19 0.19 0.2  0.2  0.21\n",
      " 0.21 0.22 0.22 0.23 0.23 0.24 0.24 0.25 0.25 0.26 0.26 0.27 0.27 0.28\n",
      " 0.28 0.29 0.29 0.3  0.3  0.31 0.31 0.32 0.32 0.33 0.33 0.34 0.34 0.35\n",
      " 0.35 0.36 0.36 0.37 0.37 0.38 0.38 0.39 0.39 0.4  0.4  0.41 0.41 0.42\n",
      " 0.42 0.43 0.43 0.44 0.44 0.45 0.45 0.46 0.46 0.47 0.47 0.48 0.48 0.49\n",
      " 0.49 0.5  0.5  0.51 0.51 0.52]\n",
      "torch.Size([105, 3, 3])\n",
      "[0.   0.01 0.01 0.02 0.02 0.03 0.03 0.04 0.04 0.05 0.05 0.06 0.06 0.07\n",
      " 0.07 0.08 0.08 0.09 0.09 0.1  0.1  0.11 0.11 0.12 0.12 0.13 0.13 0.14\n",
      " 0.14 0.15 0.15 0.16 0.16 0.17 0.17 0.18 0.18 0.19 0.19 0.2  0.2  0.21\n",
      " 0.21 0.22 0.22 0.23 0.23 0.24 0.24 0.25 0.25 0.26 0.26 0.27 0.27 0.28\n",
      " 0.28 0.29 0.29 0.3  0.3  0.31 0.31 0.32 0.32 0.33 0.33 0.34 0.34 0.35\n",
      " 0.35 0.36 0.36 0.37 0.37 0.38 0.38 0.39 0.39 0.4  0.4  0.41 0.41 0.42\n",
      " 0.42 0.43 0.43 0.44 0.44 0.45 0.45 0.46 0.46 0.47 0.47 0.48 0.48 0.49\n",
      " 0.49 0.5  0.5  0.51 0.51 0.52 0.52 0.53]\n",
      "torch.Size([107, 3, 3])\n",
      "[0.   0.01 0.01 0.02 0.02 0.03 0.03 0.04 0.04 0.05 0.05 0.06 0.06 0.07\n",
      " 0.07 0.08 0.08 0.09 0.09 0.1  0.1  0.11 0.11 0.12 0.12 0.13 0.13 0.14\n",
      " 0.14 0.15 0.15 0.16 0.16 0.17 0.17 0.18 0.18 0.19 0.19 0.2  0.2  0.21\n",
      " 0.21 0.22 0.22 0.23 0.23 0.24 0.24 0.25 0.25 0.26 0.26 0.27 0.27 0.28\n",
      " 0.28 0.29 0.29 0.3  0.3  0.31 0.31 0.32 0.32 0.33 0.33 0.34 0.34 0.35\n",
      " 0.35 0.36 0.36 0.37 0.37 0.38 0.38 0.39 0.39 0.4  0.4  0.41 0.41 0.42\n",
      " 0.42 0.43 0.43 0.44 0.44 0.45 0.45 0.46 0.46 0.47 0.47 0.48 0.48 0.49\n",
      " 0.49 0.5  0.5  0.51 0.51 0.52 0.52 0.53 0.53 0.54]\n",
      "torch.Size([109, 3, 3])\n",
      "[0.   0.01 0.01 0.02 0.02 0.03 0.03 0.04 0.04 0.05 0.05 0.06 0.06 0.07\n",
      " 0.07 0.08 0.08 0.09 0.09 0.1  0.1  0.11 0.11 0.12 0.12 0.13 0.13 0.14\n",
      " 0.14 0.15 0.15 0.16 0.16 0.17 0.17 0.18 0.18 0.19 0.19 0.2  0.2  0.21\n",
      " 0.21 0.22 0.22 0.23 0.23 0.24 0.24 0.25 0.25 0.26 0.26 0.27 0.27 0.28\n",
      " 0.28 0.29 0.29 0.3  0.3  0.31 0.31 0.32 0.32 0.33 0.33 0.34 0.34 0.35\n",
      " 0.35 0.36 0.36 0.37 0.37 0.38 0.38 0.39 0.39 0.4  0.4  0.41 0.41 0.42\n",
      " 0.42 0.43 0.43 0.44 0.44 0.45 0.45 0.46 0.46 0.47 0.47 0.48 0.48 0.49\n",
      " 0.49 0.5  0.5  0.51 0.51 0.52 0.52 0.53 0.53 0.54 0.54 0.55]\n",
      "torch.Size([111, 3, 3])\n",
      "[0.   0.01 0.01 0.02 0.02 0.03 0.03 0.04 0.04 0.05 0.05 0.06 0.06 0.07\n",
      " 0.07 0.08 0.08 0.09 0.09 0.1  0.1  0.11 0.11 0.12 0.12 0.13 0.13 0.14\n",
      " 0.14 0.15 0.15 0.16 0.16 0.17 0.17 0.18 0.18 0.19 0.19 0.2  0.2  0.21\n",
      " 0.21 0.22 0.22 0.23 0.23 0.24 0.24 0.25 0.25 0.26 0.26 0.27 0.27 0.28\n",
      " 0.28 0.29 0.29 0.3  0.3  0.31 0.31 0.32 0.32 0.33 0.33 0.34 0.34 0.35\n",
      " 0.35 0.36 0.36 0.37 0.37 0.38 0.38 0.39 0.39 0.4  0.4  0.41 0.41 0.42\n",
      " 0.42 0.43 0.43 0.44 0.44 0.45 0.45 0.46 0.46 0.47 0.47 0.48 0.48 0.49\n",
      " 0.49 0.5  0.5  0.51 0.51 0.52 0.52 0.53 0.53 0.54 0.54 0.55 0.55 0.56]\n",
      "torch.Size([113, 3, 3])\n",
      "[0.   0.01 0.01 0.02 0.02 0.03 0.03 0.04 0.04 0.05 0.05 0.06 0.06 0.07\n",
      " 0.07 0.08 0.08 0.09 0.09 0.1  0.1  0.11 0.11 0.12 0.12 0.13 0.13 0.14\n",
      " 0.14 0.15 0.15 0.16 0.16 0.17 0.17 0.18 0.18 0.19 0.19 0.2  0.2  0.21\n",
      " 0.21 0.22 0.22 0.23 0.23 0.24 0.24 0.25 0.25 0.26 0.26 0.27 0.27 0.28\n",
      " 0.28 0.29 0.29 0.3  0.3  0.31 0.31 0.32 0.32 0.33 0.33 0.34 0.34 0.35\n",
      " 0.35 0.36 0.36 0.37 0.37 0.38 0.38 0.39 0.39 0.4  0.4  0.41 0.41 0.42\n",
      " 0.42 0.43 0.43 0.44 0.44 0.45 0.45 0.46 0.46 0.47 0.47 0.48 0.48 0.49\n",
      " 0.49 0.5  0.5  0.51 0.51 0.52 0.52 0.53 0.53 0.54 0.54 0.55 0.55 0.56\n",
      " 0.56 0.57]\n",
      "torch.Size([115, 3, 3])\n",
      "[0.   0.01 0.01 0.02 0.02 0.03 0.03 0.04 0.04 0.05 0.05 0.06 0.06 0.07\n",
      " 0.07 0.08 0.08 0.09 0.09 0.1  0.1  0.11 0.11 0.12 0.12 0.13 0.13 0.14\n",
      " 0.14 0.15 0.15 0.16 0.16 0.17 0.17 0.18 0.18 0.19 0.19 0.2  0.2  0.21\n",
      " 0.21 0.22 0.22 0.23 0.23 0.24 0.24 0.25 0.25 0.26 0.26 0.27 0.27 0.28\n",
      " 0.28 0.29 0.29 0.3  0.3  0.31 0.31 0.32 0.32 0.33 0.33 0.34 0.34 0.35\n",
      " 0.35 0.36 0.36 0.37 0.37 0.38 0.38 0.39 0.39 0.4  0.4  0.41 0.41 0.42\n",
      " 0.42 0.43 0.43 0.44 0.44 0.45 0.45 0.46 0.46 0.47 0.47 0.48 0.48 0.49\n",
      " 0.49 0.5  0.5  0.51 0.51 0.52 0.52 0.53 0.53 0.54 0.54 0.55 0.55 0.56\n",
      " 0.56 0.57 0.57 0.58]\n",
      "torch.Size([117, 3, 3])\n",
      "[0.   0.01 0.01 0.02 0.02 0.03 0.03 0.04 0.04 0.05 0.05 0.06 0.06 0.07\n",
      " 0.07 0.08 0.08 0.09 0.09 0.1  0.1  0.11 0.11 0.12 0.12 0.13 0.13 0.14\n",
      " 0.14 0.15 0.15 0.16 0.16 0.17 0.17 0.18 0.18 0.19 0.19 0.2  0.2  0.21\n",
      " 0.21 0.22 0.22 0.23 0.23 0.24 0.24 0.25 0.25 0.26 0.26 0.27 0.27 0.28\n",
      " 0.28 0.29 0.29 0.3  0.3  0.31 0.31 0.32 0.32 0.33 0.33 0.34 0.34 0.35\n",
      " 0.35 0.36 0.36 0.37 0.37 0.38 0.38 0.39 0.39 0.4  0.4  0.41 0.41 0.42\n",
      " 0.42 0.43 0.43 0.44 0.44 0.45 0.45 0.46 0.46 0.47 0.47 0.48 0.48 0.49\n",
      " 0.49 0.5  0.5  0.51 0.51 0.52 0.52 0.53 0.53 0.54 0.54 0.55 0.55 0.56\n",
      " 0.56 0.57 0.57 0.58 0.58 0.59]\n",
      "torch.Size([119, 3, 3])\n",
      "[0.   0.01 0.01 0.02 0.02 0.03 0.03 0.04 0.04 0.05 0.05 0.06 0.06 0.07\n",
      " 0.07 0.08 0.08 0.09 0.09 0.1  0.1  0.11 0.11 0.12 0.12 0.13 0.13 0.14\n",
      " 0.14 0.15 0.15 0.16 0.16 0.17 0.17 0.18 0.18 0.19 0.19 0.2  0.2  0.21\n",
      " 0.21 0.22 0.22 0.23 0.23 0.24 0.24 0.25 0.25 0.26 0.26 0.27 0.27 0.28\n",
      " 0.28 0.29 0.29 0.3  0.3  0.31 0.31 0.32 0.32 0.33 0.33 0.34 0.34 0.35\n",
      " 0.35 0.36 0.36 0.37 0.37 0.38 0.38 0.39 0.39 0.4  0.4  0.41 0.41 0.42\n",
      " 0.42 0.43 0.43 0.44 0.44 0.45 0.45 0.46 0.46 0.47 0.47 0.48 0.48 0.49\n",
      " 0.49 0.5  0.5  0.51 0.51 0.52 0.52 0.53 0.53 0.54 0.54 0.55 0.55 0.56\n",
      " 0.56 0.57 0.57 0.58 0.58 0.59 0.59 0.6 ]\n",
      "torch.Size([121, 3, 3])\n",
      "[0.   0.01 0.01 0.02 0.02 0.03 0.03 0.04 0.04 0.05 0.05 0.06 0.06 0.07\n",
      " 0.07 0.08 0.08 0.09 0.09 0.1  0.1  0.11 0.11 0.12 0.12 0.13 0.13 0.14\n",
      " 0.14 0.15 0.15 0.16 0.16 0.17 0.17 0.18 0.18 0.19 0.19 0.2  0.2  0.21\n",
      " 0.21 0.22 0.22 0.23 0.23 0.24 0.24 0.25 0.25 0.26 0.26 0.27 0.27 0.28\n",
      " 0.28 0.29 0.29 0.3  0.3  0.31 0.31 0.32 0.32 0.33 0.33 0.34 0.34 0.35\n",
      " 0.35 0.36 0.36 0.37 0.37 0.38 0.38 0.39 0.39 0.4  0.4  0.41 0.41 0.42\n",
      " 0.42 0.43 0.43 0.44 0.44 0.45 0.45 0.46 0.46 0.47 0.47 0.48 0.48 0.49\n",
      " 0.49 0.5  0.5  0.51 0.51 0.52 0.52 0.53 0.53 0.54 0.54 0.55 0.55 0.56\n",
      " 0.56 0.57 0.57 0.58 0.58 0.59 0.59 0.6  0.6  0.61]\n",
      "torch.Size([123, 3, 3])\n",
      "[0.   0.01 0.01 0.02 0.02 0.03 0.03 0.04 0.04 0.05 0.05 0.06 0.06 0.07\n",
      " 0.07 0.08 0.08 0.09 0.09 0.1  0.1  0.11 0.11 0.12 0.12 0.13 0.13 0.14\n",
      " 0.14 0.15 0.15 0.16 0.16 0.17 0.17 0.18 0.18 0.19 0.19 0.2  0.2  0.21\n",
      " 0.21 0.22 0.22 0.23 0.23 0.24 0.24 0.25 0.25 0.26 0.26 0.27 0.27 0.28\n",
      " 0.28 0.29 0.29 0.3  0.3  0.31 0.31 0.32 0.32 0.33 0.33 0.34 0.34 0.35\n",
      " 0.35 0.36 0.36 0.37 0.37 0.38 0.38 0.39 0.39 0.4  0.4  0.41 0.41 0.42\n",
      " 0.42 0.43 0.43 0.44 0.44 0.45 0.45 0.46 0.46 0.47 0.47 0.48 0.48 0.49\n",
      " 0.49 0.5  0.5  0.51 0.51 0.52 0.52 0.53 0.53 0.54 0.54 0.55 0.55 0.56\n",
      " 0.56 0.57 0.57 0.58 0.58 0.59 0.59 0.6  0.6  0.61 0.61 0.62]\n",
      "torch.Size([125, 3, 3])\n",
      "[0.   0.01 0.01 0.02 0.02 0.03 0.03 0.04 0.04 0.05 0.05 0.06 0.06 0.07\n",
      " 0.07 0.08 0.08 0.09 0.09 0.1  0.1  0.11 0.11 0.12 0.12 0.13 0.13 0.14\n",
      " 0.14 0.15 0.15 0.16 0.16 0.17 0.17 0.18 0.18 0.19 0.19 0.2  0.2  0.21\n",
      " 0.21 0.22 0.22 0.23 0.23 0.24 0.24 0.25 0.25 0.26 0.26 0.27 0.27 0.28\n",
      " 0.28 0.29 0.29 0.3  0.3  0.31 0.31 0.32 0.32 0.33 0.33 0.34 0.34 0.35\n",
      " 0.35 0.36 0.36 0.37 0.37 0.38 0.38 0.39 0.39 0.4  0.4  0.41 0.41 0.42\n",
      " 0.42 0.43 0.43 0.44 0.44 0.45 0.45 0.46 0.46 0.47 0.47 0.48 0.48 0.49\n",
      " 0.49 0.5  0.5  0.51 0.51 0.52 0.52 0.53 0.53 0.54 0.54 0.55 0.55 0.56\n",
      " 0.56 0.57 0.57 0.58 0.58 0.59 0.59 0.6  0.6  0.61 0.61 0.62 0.62 0.63]\n",
      "torch.Size([127, 3, 3])\n",
      "[0.   0.01 0.01 0.02 0.02 0.03 0.03 0.04 0.04 0.05 0.05 0.06 0.06 0.07\n",
      " 0.07 0.08 0.08 0.09 0.09 0.1  0.1  0.11 0.11 0.12 0.12 0.13 0.13 0.14\n",
      " 0.14 0.15 0.15 0.16 0.16 0.17 0.17 0.18 0.18 0.19 0.19 0.2  0.2  0.21\n",
      " 0.21 0.22 0.22 0.23 0.23 0.24 0.24 0.25 0.25 0.26 0.26 0.27 0.27 0.28\n",
      " 0.28 0.29 0.29 0.3  0.3  0.31 0.31 0.32 0.32 0.33 0.33 0.34 0.34 0.35\n",
      " 0.35 0.36 0.36 0.37 0.37 0.38 0.38 0.39 0.39 0.4  0.4  0.41 0.41 0.42\n",
      " 0.42 0.43 0.43 0.44 0.44 0.45 0.45 0.46 0.46 0.47 0.47 0.48 0.48 0.49\n",
      " 0.49 0.5  0.5  0.51 0.51 0.52 0.52 0.53 0.53 0.54 0.54 0.55 0.55 0.56\n",
      " 0.56 0.57 0.57 0.58 0.58 0.59 0.59 0.6  0.6  0.61 0.61 0.62 0.62 0.63\n",
      " 0.63 0.64]\n",
      "torch.Size([129, 3, 3])\n",
      "[0.   0.01 0.01 0.02 0.02 0.03 0.03 0.04 0.04 0.05 0.05 0.06 0.06 0.07\n",
      " 0.07 0.08 0.08 0.09 0.09 0.1  0.1  0.11 0.11 0.12 0.12 0.13 0.13 0.14\n",
      " 0.14 0.15 0.15 0.16 0.16 0.17 0.17 0.18 0.18 0.19 0.19 0.2  0.2  0.21\n",
      " 0.21 0.22 0.22 0.23 0.23 0.24 0.24 0.25 0.25 0.26 0.26 0.27 0.27 0.28\n",
      " 0.28 0.29 0.29 0.3  0.3  0.31 0.31 0.32 0.32 0.33 0.33 0.34 0.34 0.35\n",
      " 0.35 0.36 0.36 0.37 0.37 0.38 0.38 0.39 0.39 0.4  0.4  0.41 0.41 0.42\n",
      " 0.42 0.43 0.43 0.44 0.44 0.45 0.45 0.46 0.46 0.47 0.47 0.48 0.48 0.49\n",
      " 0.49 0.5  0.5  0.51 0.51 0.52 0.52 0.53 0.53 0.54 0.54 0.55 0.55 0.56\n",
      " 0.56 0.57 0.57 0.58 0.58 0.59 0.59 0.6  0.6  0.61 0.61 0.62 0.62 0.63\n",
      " 0.63 0.64 0.64 0.65]\n",
      "torch.Size([131, 3, 3])\n",
      "[0.   0.01 0.01 0.02 0.02 0.03 0.03 0.04 0.04 0.05 0.05 0.06 0.06 0.07\n",
      " 0.07 0.08 0.08 0.09 0.09 0.1  0.1  0.11 0.11 0.12 0.12 0.13 0.13 0.14\n",
      " 0.14 0.15 0.15 0.16 0.16 0.17 0.17 0.18 0.18 0.19 0.19 0.2  0.2  0.21\n",
      " 0.21 0.22 0.22 0.23 0.23 0.24 0.24 0.25 0.25 0.26 0.26 0.27 0.27 0.28\n",
      " 0.28 0.29 0.29 0.3  0.3  0.31 0.31 0.32 0.32 0.33 0.33 0.34 0.34 0.35\n",
      " 0.35 0.36 0.36 0.37 0.37 0.38 0.38 0.39 0.39 0.4  0.4  0.41 0.41 0.42\n",
      " 0.42 0.43 0.43 0.44 0.44 0.45 0.45 0.46 0.46 0.47 0.47 0.48 0.48 0.49\n",
      " 0.49 0.5  0.5  0.51 0.51 0.52 0.52 0.53 0.53 0.54 0.54 0.55 0.55 0.56\n",
      " 0.56 0.57 0.57 0.58 0.58 0.59 0.59 0.6  0.6  0.61 0.61 0.62 0.62 0.63\n",
      " 0.63 0.64 0.64 0.65 0.65 0.66]\n",
      "torch.Size([133, 3, 3])\n",
      "[0.   0.01 0.01 0.02 0.02 0.03 0.03 0.04 0.04 0.05 0.05 0.06 0.06 0.07\n",
      " 0.07 0.08 0.08 0.09 0.09 0.1  0.1  0.11 0.11 0.12 0.12 0.13 0.13 0.14\n",
      " 0.14 0.15 0.15 0.16 0.16 0.17 0.17 0.18 0.18 0.19 0.19 0.2  0.2  0.21\n",
      " 0.21 0.22 0.22 0.23 0.23 0.24 0.24 0.25 0.25 0.26 0.26 0.27 0.27 0.28\n",
      " 0.28 0.29 0.29 0.3  0.3  0.31 0.31 0.32 0.32 0.33 0.33 0.34 0.34 0.35\n",
      " 0.35 0.36 0.36 0.37 0.37 0.38 0.38 0.39 0.39 0.4  0.4  0.41 0.41 0.42\n",
      " 0.42 0.43 0.43 0.44 0.44 0.45 0.45 0.46 0.46 0.47 0.47 0.48 0.48 0.49\n",
      " 0.49 0.5  0.5  0.51 0.51 0.52 0.52 0.53 0.53 0.54 0.54 0.55 0.55 0.56\n",
      " 0.56 0.57 0.57 0.58 0.58 0.59 0.59 0.6  0.6  0.61 0.61 0.62 0.62 0.63\n",
      " 0.63 0.64 0.64 0.65 0.65 0.66 0.66 0.67]\n",
      "torch.Size([135, 3, 3])\n",
      "[0.   0.01 0.01 0.02 0.02 0.03 0.03 0.04 0.04 0.05 0.05 0.06 0.06 0.07\n",
      " 0.07 0.08 0.08 0.09 0.09 0.1  0.1  0.11 0.11 0.12 0.12 0.13 0.13 0.14\n",
      " 0.14 0.15 0.15 0.16 0.16 0.17 0.17 0.18 0.18 0.19 0.19 0.2  0.2  0.21\n",
      " 0.21 0.22 0.22 0.23 0.23 0.24 0.24 0.25 0.25 0.26 0.26 0.27 0.27 0.28\n",
      " 0.28 0.29 0.29 0.3  0.3  0.31 0.31 0.32 0.32 0.33 0.33 0.34 0.34 0.35\n",
      " 0.35 0.36 0.36 0.37 0.37 0.38 0.38 0.39 0.39 0.4  0.4  0.41 0.41 0.42\n",
      " 0.42 0.43 0.43 0.44 0.44 0.45 0.45 0.46 0.46 0.47 0.47 0.48 0.48 0.49\n",
      " 0.49 0.5  0.5  0.51 0.51 0.52 0.52 0.53 0.53 0.54 0.54 0.55 0.55 0.56\n",
      " 0.56 0.57 0.57 0.58 0.58 0.59 0.59 0.6  0.6  0.61 0.61 0.62 0.62 0.63\n",
      " 0.63 0.64 0.64 0.65 0.65 0.66 0.66 0.67 0.67 0.68]\n",
      "torch.Size([137, 3, 3])\n",
      "[0.   0.01 0.01 0.02 0.02 0.03 0.03 0.04 0.04 0.05 0.05 0.06 0.06 0.07\n",
      " 0.07 0.08 0.08 0.09 0.09 0.1  0.1  0.11 0.11 0.12 0.12 0.13 0.13 0.14\n",
      " 0.14 0.15 0.15 0.16 0.16 0.17 0.17 0.18 0.18 0.19 0.19 0.2  0.2  0.21\n",
      " 0.21 0.22 0.22 0.23 0.23 0.24 0.24 0.25 0.25 0.26 0.26 0.27 0.27 0.28\n",
      " 0.28 0.29 0.29 0.3  0.3  0.31 0.31 0.32 0.32 0.33 0.33 0.34 0.34 0.35\n",
      " 0.35 0.36 0.36 0.37 0.37 0.38 0.38 0.39 0.39 0.4  0.4  0.41 0.41 0.42\n",
      " 0.42 0.43 0.43 0.44 0.44 0.45 0.45 0.46 0.46 0.47 0.47 0.48 0.48 0.49\n",
      " 0.49 0.5  0.5  0.51 0.51 0.52 0.52 0.53 0.53 0.54 0.54 0.55 0.55 0.56\n",
      " 0.56 0.57 0.57 0.58 0.58 0.59 0.59 0.6  0.6  0.61 0.61 0.62 0.62 0.63\n",
      " 0.63 0.64 0.64 0.65 0.65 0.66 0.66 0.67 0.67 0.68 0.68 0.69]\n",
      "torch.Size([139, 3, 3])\n",
      "[0.   0.01 0.01 0.02 0.02 0.03 0.03 0.04 0.04 0.05 0.05 0.06 0.06 0.07\n",
      " 0.07 0.08 0.08 0.09 0.09 0.1  0.1  0.11 0.11 0.12 0.12 0.13 0.13 0.14\n",
      " 0.14 0.15 0.15 0.16 0.16 0.17 0.17 0.18 0.18 0.19 0.19 0.2  0.2  0.21\n",
      " 0.21 0.22 0.22 0.23 0.23 0.24 0.24 0.25 0.25 0.26 0.26 0.27 0.27 0.28\n",
      " 0.28 0.29 0.29 0.3  0.3  0.31 0.31 0.32 0.32 0.33 0.33 0.34 0.34 0.35\n",
      " 0.35 0.36 0.36 0.37 0.37 0.38 0.38 0.39 0.39 0.4  0.4  0.41 0.41 0.42\n",
      " 0.42 0.43 0.43 0.44 0.44 0.45 0.45 0.46 0.46 0.47 0.47 0.48 0.48 0.49\n",
      " 0.49 0.5  0.5  0.51 0.51 0.52 0.52 0.53 0.53 0.54 0.54 0.55 0.55 0.56\n",
      " 0.56 0.57 0.57 0.58 0.58 0.59 0.59 0.6  0.6  0.61 0.61 0.62 0.62 0.63\n",
      " 0.63 0.64 0.64 0.65 0.65 0.66 0.66 0.67 0.67 0.68 0.68 0.69 0.69 0.7 ]\n",
      "torch.Size([141, 3, 3])\n",
      "[0.   0.01 0.01 0.02 0.02 0.03 0.03 0.04 0.04 0.05 0.05 0.06 0.06 0.07\n",
      " 0.07 0.08 0.08 0.09 0.09 0.1  0.1  0.11 0.11 0.12 0.12 0.13 0.13 0.14\n",
      " 0.14 0.15 0.15 0.16 0.16 0.17 0.17 0.18 0.18 0.19 0.19 0.2  0.2  0.21\n",
      " 0.21 0.22 0.22 0.23 0.23 0.24 0.24 0.25 0.25 0.26 0.26 0.27 0.27 0.28\n",
      " 0.28 0.29 0.29 0.3  0.3  0.31 0.31 0.32 0.32 0.33 0.33 0.34 0.34 0.35\n",
      " 0.35 0.36 0.36 0.37 0.37 0.38 0.38 0.39 0.39 0.4  0.4  0.41 0.41 0.42\n",
      " 0.42 0.43 0.43 0.44 0.44 0.45 0.45 0.46 0.46 0.47 0.47 0.48 0.48 0.49\n",
      " 0.49 0.5  0.5  0.51 0.51 0.52 0.52 0.53 0.53 0.54 0.54 0.55 0.55 0.56\n",
      " 0.56 0.57 0.57 0.58 0.58 0.59 0.59 0.6  0.6  0.61 0.61 0.62 0.62 0.63\n",
      " 0.63 0.64 0.64 0.65 0.65 0.66 0.66 0.67 0.67 0.68 0.68 0.69 0.69 0.7\n",
      " 0.7  0.71]\n",
      "torch.Size([143, 3, 3])\n",
      "[0.   0.01 0.01 0.02 0.02 0.03 0.03 0.04 0.04 0.05 0.05 0.06 0.06 0.07\n",
      " 0.07 0.08 0.08 0.09 0.09 0.1  0.1  0.11 0.11 0.12 0.12 0.13 0.13 0.14\n",
      " 0.14 0.15 0.15 0.16 0.16 0.17 0.17 0.18 0.18 0.19 0.19 0.2  0.2  0.21\n",
      " 0.21 0.22 0.22 0.23 0.23 0.24 0.24 0.25 0.25 0.26 0.26 0.27 0.27 0.28\n",
      " 0.28 0.29 0.29 0.3  0.3  0.31 0.31 0.32 0.32 0.33 0.33 0.34 0.34 0.35\n",
      " 0.35 0.36 0.36 0.37 0.37 0.38 0.38 0.39 0.39 0.4  0.4  0.41 0.41 0.42\n",
      " 0.42 0.43 0.43 0.44 0.44 0.45 0.45 0.46 0.46 0.47 0.47 0.48 0.48 0.49\n",
      " 0.49 0.5  0.5  0.51 0.51 0.52 0.52 0.53 0.53 0.54 0.54 0.55 0.55 0.56\n",
      " 0.56 0.57 0.57 0.58 0.58 0.59 0.59 0.6  0.6  0.61 0.61 0.62 0.62 0.63\n",
      " 0.63 0.64 0.64 0.65 0.65 0.66 0.66 0.67 0.67 0.68 0.68 0.69 0.69 0.7\n",
      " 0.7  0.71 0.71 0.72]\n",
      "torch.Size([145, 3, 3])\n",
      "[0.   0.01 0.01 0.02 0.02 0.03 0.03 0.04 0.04 0.05 0.05 0.06 0.06 0.07\n",
      " 0.07 0.08 0.08 0.09 0.09 0.1  0.1  0.11 0.11 0.12 0.12 0.13 0.13 0.14\n",
      " 0.14 0.15 0.15 0.16 0.16 0.17 0.17 0.18 0.18 0.19 0.19 0.2  0.2  0.21\n",
      " 0.21 0.22 0.22 0.23 0.23 0.24 0.24 0.25 0.25 0.26 0.26 0.27 0.27 0.28\n",
      " 0.28 0.29 0.29 0.3  0.3  0.31 0.31 0.32 0.32 0.33 0.33 0.34 0.34 0.35\n",
      " 0.35 0.36 0.36 0.37 0.37 0.38 0.38 0.39 0.39 0.4  0.4  0.41 0.41 0.42\n",
      " 0.42 0.43 0.43 0.44 0.44 0.45 0.45 0.46 0.46 0.47 0.47 0.48 0.48 0.49\n",
      " 0.49 0.5  0.5  0.51 0.51 0.52 0.52 0.53 0.53 0.54 0.54 0.55 0.55 0.56\n",
      " 0.56 0.57 0.57 0.58 0.58 0.59 0.59 0.6  0.6  0.61 0.61 0.62 0.62 0.63\n",
      " 0.63 0.64 0.64 0.65 0.65 0.66 0.66 0.67 0.67 0.68 0.68 0.69 0.69 0.7\n",
      " 0.7  0.71 0.71 0.72 0.72 0.73]\n",
      "torch.Size([147, 3, 3])\n",
      "[0.   0.01 0.01 0.02 0.02 0.03 0.03 0.04 0.04 0.05 0.05 0.06 0.06 0.07\n",
      " 0.07 0.08 0.08 0.09 0.09 0.1  0.1  0.11 0.11 0.12 0.12 0.13 0.13 0.14\n",
      " 0.14 0.15 0.15 0.16 0.16 0.17 0.17 0.18 0.18 0.19 0.19 0.2  0.2  0.21\n",
      " 0.21 0.22 0.22 0.23 0.23 0.24 0.24 0.25 0.25 0.26 0.26 0.27 0.27 0.28\n",
      " 0.28 0.29 0.29 0.3  0.3  0.31 0.31 0.32 0.32 0.33 0.33 0.34 0.34 0.35\n",
      " 0.35 0.36 0.36 0.37 0.37 0.38 0.38 0.39 0.39 0.4  0.4  0.41 0.41 0.42\n",
      " 0.42 0.43 0.43 0.44 0.44 0.45 0.45 0.46 0.46 0.47 0.47 0.48 0.48 0.49\n",
      " 0.49 0.5  0.5  0.51 0.51 0.52 0.52 0.53 0.53 0.54 0.54 0.55 0.55 0.56\n",
      " 0.56 0.57 0.57 0.58 0.58 0.59 0.59 0.6  0.6  0.61 0.61 0.62 0.62 0.63\n",
      " 0.63 0.64 0.64 0.65 0.65 0.66 0.66 0.67 0.67 0.68 0.68 0.69 0.69 0.7\n",
      " 0.7  0.71 0.71 0.72 0.72 0.73 0.73 0.74]\n",
      "torch.Size([149, 3, 3])\n",
      "[0.   0.01 0.01 0.02 0.02 0.03 0.03 0.04 0.04 0.05 0.05 0.06 0.06 0.07\n",
      " 0.07 0.08 0.08 0.09 0.09 0.1  0.1  0.11 0.11 0.12 0.12 0.13 0.13 0.14\n",
      " 0.14 0.15 0.15 0.16 0.16 0.17 0.17 0.18 0.18 0.19 0.19 0.2  0.2  0.21\n",
      " 0.21 0.22 0.22 0.23 0.23 0.24 0.24 0.25 0.25 0.26 0.26 0.27 0.27 0.28\n",
      " 0.28 0.29 0.29 0.3  0.3  0.31 0.31 0.32 0.32 0.33 0.33 0.34 0.34 0.35\n",
      " 0.35 0.36 0.36 0.37 0.37 0.38 0.38 0.39 0.39 0.4  0.4  0.41 0.41 0.42\n",
      " 0.42 0.43 0.43 0.44 0.44 0.45 0.45 0.46 0.46 0.47 0.47 0.48 0.48 0.49\n",
      " 0.49 0.5  0.5  0.51 0.51 0.52 0.52 0.53 0.53 0.54 0.54 0.55 0.55 0.56\n",
      " 0.56 0.57 0.57 0.58 0.58 0.59 0.59 0.6  0.6  0.61 0.61 0.62 0.62 0.63\n",
      " 0.63 0.64 0.64 0.65 0.65 0.66 0.66 0.67 0.67 0.68 0.68 0.69 0.69 0.7\n",
      " 0.7  0.71 0.71 0.72 0.72 0.73 0.73 0.74 0.74 0.75]\n",
      "torch.Size([151, 3, 3])\n",
      "[0.   0.01 0.01 0.02 0.02 0.03 0.03 0.04 0.04 0.05 0.05 0.06 0.06 0.07\n",
      " 0.07 0.08 0.08 0.09 0.09 0.1  0.1  0.11 0.11 0.12 0.12 0.13 0.13 0.14\n",
      " 0.14 0.15 0.15 0.16 0.16 0.17 0.17 0.18 0.18 0.19 0.19 0.2  0.2  0.21\n",
      " 0.21 0.22 0.22 0.23 0.23 0.24 0.24 0.25 0.25 0.26 0.26 0.27 0.27 0.28\n",
      " 0.28 0.29 0.29 0.3  0.3  0.31 0.31 0.32 0.32 0.33 0.33 0.34 0.34 0.35\n",
      " 0.35 0.36 0.36 0.37 0.37 0.38 0.38 0.39 0.39 0.4  0.4  0.41 0.41 0.42\n",
      " 0.42 0.43 0.43 0.44 0.44 0.45 0.45 0.46 0.46 0.47 0.47 0.48 0.48 0.49\n",
      " 0.49 0.5  0.5  0.51 0.51 0.52 0.52 0.53 0.53 0.54 0.54 0.55 0.55 0.56\n",
      " 0.56 0.57 0.57 0.58 0.58 0.59 0.59 0.6  0.6  0.61 0.61 0.62 0.62 0.63\n",
      " 0.63 0.64 0.64 0.65 0.65 0.66 0.66 0.67 0.67 0.68 0.68 0.69 0.69 0.7\n",
      " 0.7  0.71 0.71 0.72 0.72 0.73 0.73 0.74 0.74 0.75 0.75 0.76]\n",
      "torch.Size([153, 3, 3])\n",
      "[0.   0.01 0.01 0.02 0.02 0.03 0.03 0.04 0.04 0.05 0.05 0.06 0.06 0.07\n",
      " 0.07 0.08 0.08 0.09 0.09 0.1  0.1  0.11 0.11 0.12 0.12 0.13 0.13 0.14\n",
      " 0.14 0.15 0.15 0.16 0.16 0.17 0.17 0.18 0.18 0.19 0.19 0.2  0.2  0.21\n",
      " 0.21 0.22 0.22 0.23 0.23 0.24 0.24 0.25 0.25 0.26 0.26 0.27 0.27 0.28\n",
      " 0.28 0.29 0.29 0.3  0.3  0.31 0.31 0.32 0.32 0.33 0.33 0.34 0.34 0.35\n",
      " 0.35 0.36 0.36 0.37 0.37 0.38 0.38 0.39 0.39 0.4  0.4  0.41 0.41 0.42\n",
      " 0.42 0.43 0.43 0.44 0.44 0.45 0.45 0.46 0.46 0.47 0.47 0.48 0.48 0.49\n",
      " 0.49 0.5  0.5  0.51 0.51 0.52 0.52 0.53 0.53 0.54 0.54 0.55 0.55 0.56\n",
      " 0.56 0.57 0.57 0.58 0.58 0.59 0.59 0.6  0.6  0.61 0.61 0.62 0.62 0.63\n",
      " 0.63 0.64 0.64 0.65 0.65 0.66 0.66 0.67 0.67 0.68 0.68 0.69 0.69 0.7\n",
      " 0.7  0.71 0.71 0.72 0.72 0.73 0.73 0.74 0.74 0.75 0.75 0.76 0.76 0.77]\n",
      "torch.Size([155, 3, 3])\n",
      "[0.   0.01 0.01 0.02 0.02 0.03 0.03 0.04 0.04 0.05 0.05 0.06 0.06 0.07\n",
      " 0.07 0.08 0.08 0.09 0.09 0.1  0.1  0.11 0.11 0.12 0.12 0.13 0.13 0.14\n",
      " 0.14 0.15 0.15 0.16 0.16 0.17 0.17 0.18 0.18 0.19 0.19 0.2  0.2  0.21\n",
      " 0.21 0.22 0.22 0.23 0.23 0.24 0.24 0.25 0.25 0.26 0.26 0.27 0.27 0.28\n",
      " 0.28 0.29 0.29 0.3  0.3  0.31 0.31 0.32 0.32 0.33 0.33 0.34 0.34 0.35\n",
      " 0.35 0.36 0.36 0.37 0.37 0.38 0.38 0.39 0.39 0.4  0.4  0.41 0.41 0.42\n",
      " 0.42 0.43 0.43 0.44 0.44 0.45 0.45 0.46 0.46 0.47 0.47 0.48 0.48 0.49\n",
      " 0.49 0.5  0.5  0.51 0.51 0.52 0.52 0.53 0.53 0.54 0.54 0.55 0.55 0.56\n",
      " 0.56 0.57 0.57 0.58 0.58 0.59 0.59 0.6  0.6  0.61 0.61 0.62 0.62 0.63\n",
      " 0.63 0.64 0.64 0.65 0.65 0.66 0.66 0.67 0.67 0.68 0.68 0.69 0.69 0.7\n",
      " 0.7  0.71 0.71 0.72 0.72 0.73 0.73 0.74 0.74 0.75 0.75 0.76 0.76 0.77\n",
      " 0.77 0.78]\n",
      "torch.Size([157, 3, 3])\n",
      "[0.   0.01 0.01 0.02 0.02 0.03 0.03 0.04 0.04 0.05 0.05 0.06 0.06 0.07\n",
      " 0.07 0.08 0.08 0.09 0.09 0.1  0.1  0.11 0.11 0.12 0.12 0.13 0.13 0.14\n",
      " 0.14 0.15 0.15 0.16 0.16 0.17 0.17 0.18 0.18 0.19 0.19 0.2  0.2  0.21\n",
      " 0.21 0.22 0.22 0.23 0.23 0.24 0.24 0.25 0.25 0.26 0.26 0.27 0.27 0.28\n",
      " 0.28 0.29 0.29 0.3  0.3  0.31 0.31 0.32 0.32 0.33 0.33 0.34 0.34 0.35\n",
      " 0.35 0.36 0.36 0.37 0.37 0.38 0.38 0.39 0.39 0.4  0.4  0.41 0.41 0.42\n",
      " 0.42 0.43 0.43 0.44 0.44 0.45 0.45 0.46 0.46 0.47 0.47 0.48 0.48 0.49\n",
      " 0.49 0.5  0.5  0.51 0.51 0.52 0.52 0.53 0.53 0.54 0.54 0.55 0.55 0.56\n",
      " 0.56 0.57 0.57 0.58 0.58 0.59 0.59 0.6  0.6  0.61 0.61 0.62 0.62 0.63\n",
      " 0.63 0.64 0.64 0.65 0.65 0.66 0.66 0.67 0.67 0.68 0.68 0.69 0.69 0.7\n",
      " 0.7  0.71 0.71 0.72 0.72 0.73 0.73 0.74 0.74 0.75 0.75 0.76 0.76 0.77\n",
      " 0.77 0.78 0.78 0.79]\n",
      "torch.Size([159, 3, 3])\n",
      "[0.   0.01 0.01 0.02 0.02 0.03 0.03 0.04 0.04 0.05 0.05 0.06 0.06 0.07\n",
      " 0.07 0.08 0.08 0.09 0.09 0.1  0.1  0.11 0.11 0.12 0.12 0.13 0.13 0.14\n",
      " 0.14 0.15 0.15 0.16 0.16 0.17 0.17 0.18 0.18 0.19 0.19 0.2  0.2  0.21\n",
      " 0.21 0.22 0.22 0.23 0.23 0.24 0.24 0.25 0.25 0.26 0.26 0.27 0.27 0.28\n",
      " 0.28 0.29 0.29 0.3  0.3  0.31 0.31 0.32 0.32 0.33 0.33 0.34 0.34 0.35\n",
      " 0.35 0.36 0.36 0.37 0.37 0.38 0.38 0.39 0.39 0.4  0.4  0.41 0.41 0.42\n",
      " 0.42 0.43 0.43 0.44 0.44 0.45 0.45 0.46 0.46 0.47 0.47 0.48 0.48 0.49\n",
      " 0.49 0.5  0.5  0.51 0.51 0.52 0.52 0.53 0.53 0.54 0.54 0.55 0.55 0.56\n",
      " 0.56 0.57 0.57 0.58 0.58 0.59 0.59 0.6  0.6  0.61 0.61 0.62 0.62 0.63\n",
      " 0.63 0.64 0.64 0.65 0.65 0.66 0.66 0.67 0.67 0.68 0.68 0.69 0.69 0.7\n",
      " 0.7  0.71 0.71 0.72 0.72 0.73 0.73 0.74 0.74 0.75 0.75 0.76 0.76 0.77\n",
      " 0.77 0.78 0.78 0.79 0.79 0.8 ]\n",
      "torch.Size([161, 3, 3])\n",
      "[0.   0.01 0.01 0.02 0.02 0.03 0.03 0.04 0.04 0.05 0.05 0.06 0.06 0.07\n",
      " 0.07 0.08 0.08 0.09 0.09 0.1  0.1  0.11 0.11 0.12 0.12 0.13 0.13 0.14\n",
      " 0.14 0.15 0.15 0.16 0.16 0.17 0.17 0.18 0.18 0.19 0.19 0.2  0.2  0.21\n",
      " 0.21 0.22 0.22 0.23 0.23 0.24 0.24 0.25 0.25 0.26 0.26 0.27 0.27 0.28\n",
      " 0.28 0.29 0.29 0.3  0.3  0.31 0.31 0.32 0.32 0.33 0.33 0.34 0.34 0.35\n",
      " 0.35 0.36 0.36 0.37 0.37 0.38 0.38 0.39 0.39 0.4  0.4  0.41 0.41 0.42\n",
      " 0.42 0.43 0.43 0.44 0.44 0.45 0.45 0.46 0.46 0.47 0.47 0.48 0.48 0.49\n",
      " 0.49 0.5  0.5  0.51 0.51 0.52 0.52 0.53 0.53 0.54 0.54 0.55 0.55 0.56\n",
      " 0.56 0.57 0.57 0.58 0.58 0.59 0.59 0.6  0.6  0.61 0.61 0.62 0.62 0.63\n",
      " 0.63 0.64 0.64 0.65 0.65 0.66 0.66 0.67 0.67 0.68 0.68 0.69 0.69 0.7\n",
      " 0.7  0.71 0.71 0.72 0.72 0.73 0.73 0.74 0.74 0.75 0.75 0.76 0.76 0.77\n",
      " 0.77 0.78 0.78 0.79 0.79 0.8  0.8  0.81]\n",
      "torch.Size([163, 3, 3])\n",
      "[0.   0.01 0.01 0.02 0.02 0.03 0.03 0.04 0.04 0.05 0.05 0.06 0.06 0.07\n",
      " 0.07 0.08 0.08 0.09 0.09 0.1  0.1  0.11 0.11 0.12 0.12 0.13 0.13 0.14\n",
      " 0.14 0.15 0.15 0.16 0.16 0.17 0.17 0.18 0.18 0.19 0.19 0.2  0.2  0.21\n",
      " 0.21 0.22 0.22 0.23 0.23 0.24 0.24 0.25 0.25 0.26 0.26 0.27 0.27 0.28\n",
      " 0.28 0.29 0.29 0.3  0.3  0.31 0.31 0.32 0.32 0.33 0.33 0.34 0.34 0.35\n",
      " 0.35 0.36 0.36 0.37 0.37 0.38 0.38 0.39 0.39 0.4  0.4  0.41 0.41 0.42\n",
      " 0.42 0.43 0.43 0.44 0.44 0.45 0.45 0.46 0.46 0.47 0.47 0.48 0.48 0.49\n",
      " 0.49 0.5  0.5  0.51 0.51 0.52 0.52 0.53 0.53 0.54 0.54 0.55 0.55 0.56\n",
      " 0.56 0.57 0.57 0.58 0.58 0.59 0.59 0.6  0.6  0.61 0.61 0.62 0.62 0.63\n",
      " 0.63 0.64 0.64 0.65 0.65 0.66 0.66 0.67 0.67 0.68 0.68 0.69 0.69 0.7\n",
      " 0.7  0.71 0.71 0.72 0.72 0.73 0.73 0.74 0.74 0.75 0.75 0.76 0.76 0.77\n",
      " 0.77 0.78 0.78 0.79 0.79 0.8  0.8  0.81 0.81 0.82]\n",
      "torch.Size([165, 3, 3])\n",
      "[0.   0.01 0.01 0.02 0.02 0.03 0.03 0.04 0.04 0.05 0.05 0.06 0.06 0.07\n",
      " 0.07 0.08 0.08 0.09 0.09 0.1  0.1  0.11 0.11 0.12 0.12 0.13 0.13 0.14\n",
      " 0.14 0.15 0.15 0.16 0.16 0.17 0.17 0.18 0.18 0.19 0.19 0.2  0.2  0.21\n",
      " 0.21 0.22 0.22 0.23 0.23 0.24 0.24 0.25 0.25 0.26 0.26 0.27 0.27 0.28\n",
      " 0.28 0.29 0.29 0.3  0.3  0.31 0.31 0.32 0.32 0.33 0.33 0.34 0.34 0.35\n",
      " 0.35 0.36 0.36 0.37 0.37 0.38 0.38 0.39 0.39 0.4  0.4  0.41 0.41 0.42\n",
      " 0.42 0.43 0.43 0.44 0.44 0.45 0.45 0.46 0.46 0.47 0.47 0.48 0.48 0.49\n",
      " 0.49 0.5  0.5  0.51 0.51 0.52 0.52 0.53 0.53 0.54 0.54 0.55 0.55 0.56\n",
      " 0.56 0.57 0.57 0.58 0.58 0.59 0.59 0.6  0.6  0.61 0.61 0.62 0.62 0.63\n",
      " 0.63 0.64 0.64 0.65 0.65 0.66 0.66 0.67 0.67 0.68 0.68 0.69 0.69 0.7\n",
      " 0.7  0.71 0.71 0.72 0.72 0.73 0.73 0.74 0.74 0.75 0.75 0.76 0.76 0.77\n",
      " 0.77 0.78 0.78 0.79 0.79 0.8  0.8  0.81 0.81 0.82 0.82 0.83]\n",
      "torch.Size([167, 3, 3])\n",
      "[0.   0.01 0.01 0.02 0.02 0.03 0.03 0.04 0.04 0.05 0.05 0.06 0.06 0.07\n",
      " 0.07 0.08 0.08 0.09 0.09 0.1  0.1  0.11 0.11 0.12 0.12 0.13 0.13 0.14\n",
      " 0.14 0.15 0.15 0.16 0.16 0.17 0.17 0.18 0.18 0.19 0.19 0.2  0.2  0.21\n",
      " 0.21 0.22 0.22 0.23 0.23 0.24 0.24 0.25 0.25 0.26 0.26 0.27 0.27 0.28\n",
      " 0.28 0.29 0.29 0.3  0.3  0.31 0.31 0.32 0.32 0.33 0.33 0.34 0.34 0.35\n",
      " 0.35 0.36 0.36 0.37 0.37 0.38 0.38 0.39 0.39 0.4  0.4  0.41 0.41 0.42\n",
      " 0.42 0.43 0.43 0.44 0.44 0.45 0.45 0.46 0.46 0.47 0.47 0.48 0.48 0.49\n",
      " 0.49 0.5  0.5  0.51 0.51 0.52 0.52 0.53 0.53 0.54 0.54 0.55 0.55 0.56\n",
      " 0.56 0.57 0.57 0.58 0.58 0.59 0.59 0.6  0.6  0.61 0.61 0.62 0.62 0.63\n",
      " 0.63 0.64 0.64 0.65 0.65 0.66 0.66 0.67 0.67 0.68 0.68 0.69 0.69 0.7\n",
      " 0.7  0.71 0.71 0.72 0.72 0.73 0.73 0.74 0.74 0.75 0.75 0.76 0.76 0.77\n",
      " 0.77 0.78 0.78 0.79 0.79 0.8  0.8  0.81 0.81 0.82 0.82 0.83 0.83 0.84]\n",
      "torch.Size([169, 3, 3])\n",
      "[0.   0.01 0.01 0.02 0.02 0.03 0.03 0.04 0.04 0.05 0.05 0.06 0.06 0.07\n",
      " 0.07 0.08 0.08 0.09 0.09 0.1  0.1  0.11 0.11 0.12 0.12 0.13 0.13 0.14\n",
      " 0.14 0.15 0.15 0.16 0.16 0.17 0.17 0.18 0.18 0.19 0.19 0.2  0.2  0.21\n",
      " 0.21 0.22 0.22 0.23 0.23 0.24 0.24 0.25 0.25 0.26 0.26 0.27 0.27 0.28\n",
      " 0.28 0.29 0.29 0.3  0.3  0.31 0.31 0.32 0.32 0.33 0.33 0.34 0.34 0.35\n",
      " 0.35 0.36 0.36 0.37 0.37 0.38 0.38 0.39 0.39 0.4  0.4  0.41 0.41 0.42\n",
      " 0.42 0.43 0.43 0.44 0.44 0.45 0.45 0.46 0.46 0.47 0.47 0.48 0.48 0.49\n",
      " 0.49 0.5  0.5  0.51 0.51 0.52 0.52 0.53 0.53 0.54 0.54 0.55 0.55 0.56\n",
      " 0.56 0.57 0.57 0.58 0.58 0.59 0.59 0.6  0.6  0.61 0.61 0.62 0.62 0.63\n",
      " 0.63 0.64 0.64 0.65 0.65 0.66 0.66 0.67 0.67 0.68 0.68 0.69 0.69 0.7\n",
      " 0.7  0.71 0.71 0.72 0.72 0.73 0.73 0.74 0.74 0.75 0.75 0.76 0.76 0.77\n",
      " 0.77 0.78 0.78 0.79 0.79 0.8  0.8  0.81 0.81 0.82 0.82 0.83 0.83 0.84\n",
      " 0.84 0.85]\n",
      "torch.Size([171, 3, 3])\n",
      "[0.   0.01 0.01 0.02 0.02 0.03 0.03 0.04 0.04 0.05 0.05 0.06 0.06 0.07\n",
      " 0.07 0.08 0.08 0.09 0.09 0.1  0.1  0.11 0.11 0.12 0.12 0.13 0.13 0.14\n",
      " 0.14 0.15 0.15 0.16 0.16 0.17 0.17 0.18 0.18 0.19 0.19 0.2  0.2  0.21\n",
      " 0.21 0.22 0.22 0.23 0.23 0.24 0.24 0.25 0.25 0.26 0.26 0.27 0.27 0.28\n",
      " 0.28 0.29 0.29 0.3  0.3  0.31 0.31 0.32 0.32 0.33 0.33 0.34 0.34 0.35\n",
      " 0.35 0.36 0.36 0.37 0.37 0.38 0.38 0.39 0.39 0.4  0.4  0.41 0.41 0.42\n",
      " 0.42 0.43 0.43 0.44 0.44 0.45 0.45 0.46 0.46 0.47 0.47 0.48 0.48 0.49\n",
      " 0.49 0.5  0.5  0.51 0.51 0.52 0.52 0.53 0.53 0.54 0.54 0.55 0.55 0.56\n",
      " 0.56 0.57 0.57 0.58 0.58 0.59 0.59 0.6  0.6  0.61 0.61 0.62 0.62 0.63\n",
      " 0.63 0.64 0.64 0.65 0.65 0.66 0.66 0.67 0.67 0.68 0.68 0.69 0.69 0.7\n",
      " 0.7  0.71 0.71 0.72 0.72 0.73 0.73 0.74 0.74 0.75 0.75 0.76 0.76 0.77\n",
      " 0.77 0.78 0.78 0.79 0.79 0.8  0.8  0.81 0.81 0.82 0.82 0.83 0.83 0.84\n",
      " 0.84 0.85 0.85 0.86]\n",
      "torch.Size([173, 3, 3])\n",
      "[0.   0.01 0.01 0.02 0.02 0.03 0.03 0.04 0.04 0.05 0.05 0.06 0.06 0.07\n",
      " 0.07 0.08 0.08 0.09 0.09 0.1  0.1  0.11 0.11 0.12 0.12 0.13 0.13 0.14\n",
      " 0.14 0.15 0.15 0.16 0.16 0.17 0.17 0.18 0.18 0.19 0.19 0.2  0.2  0.21\n",
      " 0.21 0.22 0.22 0.23 0.23 0.24 0.24 0.25 0.25 0.26 0.26 0.27 0.27 0.28\n",
      " 0.28 0.29 0.29 0.3  0.3  0.31 0.31 0.32 0.32 0.33 0.33 0.34 0.34 0.35\n",
      " 0.35 0.36 0.36 0.37 0.37 0.38 0.38 0.39 0.39 0.4  0.4  0.41 0.41 0.42\n",
      " 0.42 0.43 0.43 0.44 0.44 0.45 0.45 0.46 0.46 0.47 0.47 0.48 0.48 0.49\n",
      " 0.49 0.5  0.5  0.51 0.51 0.52 0.52 0.53 0.53 0.54 0.54 0.55 0.55 0.56\n",
      " 0.56 0.57 0.57 0.58 0.58 0.59 0.59 0.6  0.6  0.61 0.61 0.62 0.62 0.63\n",
      " 0.63 0.64 0.64 0.65 0.65 0.66 0.66 0.67 0.67 0.68 0.68 0.69 0.69 0.7\n",
      " 0.7  0.71 0.71 0.72 0.72 0.73 0.73 0.74 0.74 0.75 0.75 0.76 0.76 0.77\n",
      " 0.77 0.78 0.78 0.79 0.79 0.8  0.8  0.81 0.81 0.82 0.82 0.83 0.83 0.84\n",
      " 0.84 0.85 0.85 0.86 0.86 0.87]\n",
      "torch.Size([175, 3, 3])\n",
      "[0.   0.01 0.01 0.02 0.02 0.03 0.03 0.04 0.04 0.05 0.05 0.06 0.06 0.07\n",
      " 0.07 0.08 0.08 0.09 0.09 0.1  0.1  0.11 0.11 0.12 0.12 0.13 0.13 0.14\n",
      " 0.14 0.15 0.15 0.16 0.16 0.17 0.17 0.18 0.18 0.19 0.19 0.2  0.2  0.21\n",
      " 0.21 0.22 0.22 0.23 0.23 0.24 0.24 0.25 0.25 0.26 0.26 0.27 0.27 0.28\n",
      " 0.28 0.29 0.29 0.3  0.3  0.31 0.31 0.32 0.32 0.33 0.33 0.34 0.34 0.35\n",
      " 0.35 0.36 0.36 0.37 0.37 0.38 0.38 0.39 0.39 0.4  0.4  0.41 0.41 0.42\n",
      " 0.42 0.43 0.43 0.44 0.44 0.45 0.45 0.46 0.46 0.47 0.47 0.48 0.48 0.49\n",
      " 0.49 0.5  0.5  0.51 0.51 0.52 0.52 0.53 0.53 0.54 0.54 0.55 0.55 0.56\n",
      " 0.56 0.57 0.57 0.58 0.58 0.59 0.59 0.6  0.6  0.61 0.61 0.62 0.62 0.63\n",
      " 0.63 0.64 0.64 0.65 0.65 0.66 0.66 0.67 0.67 0.68 0.68 0.69 0.69 0.7\n",
      " 0.7  0.71 0.71 0.72 0.72 0.73 0.73 0.74 0.74 0.75 0.75 0.76 0.76 0.77\n",
      " 0.77 0.78 0.78 0.79 0.79 0.8  0.8  0.81 0.81 0.82 0.82 0.83 0.83 0.84\n",
      " 0.84 0.85 0.85 0.86 0.86 0.87 0.87 0.88]\n",
      "torch.Size([177, 3, 3])\n",
      "[0.   0.01 0.01 0.02 0.02 0.03 0.03 0.04 0.04 0.05 0.05 0.06 0.06 0.07\n",
      " 0.07 0.08 0.08 0.09 0.09 0.1  0.1  0.11 0.11 0.12 0.12 0.13 0.13 0.14\n",
      " 0.14 0.15 0.15 0.16 0.16 0.17 0.17 0.18 0.18 0.19 0.19 0.2  0.2  0.21\n",
      " 0.21 0.22 0.22 0.23 0.23 0.24 0.24 0.25 0.25 0.26 0.26 0.27 0.27 0.28\n",
      " 0.28 0.29 0.29 0.3  0.3  0.31 0.31 0.32 0.32 0.33 0.33 0.34 0.34 0.35\n",
      " 0.35 0.36 0.36 0.37 0.37 0.38 0.38 0.39 0.39 0.4  0.4  0.41 0.41 0.42\n",
      " 0.42 0.43 0.43 0.44 0.44 0.45 0.45 0.46 0.46 0.47 0.47 0.48 0.48 0.49\n",
      " 0.49 0.5  0.5  0.51 0.51 0.52 0.52 0.53 0.53 0.54 0.54 0.55 0.55 0.56\n",
      " 0.56 0.57 0.57 0.58 0.58 0.59 0.59 0.6  0.6  0.61 0.61 0.62 0.62 0.63\n",
      " 0.63 0.64 0.64 0.65 0.65 0.66 0.66 0.67 0.67 0.68 0.68 0.69 0.69 0.7\n",
      " 0.7  0.71 0.71 0.72 0.72 0.73 0.73 0.74 0.74 0.75 0.75 0.76 0.76 0.77\n",
      " 0.77 0.78 0.78 0.79 0.79 0.8  0.8  0.81 0.81 0.82 0.82 0.83 0.83 0.84\n",
      " 0.84 0.85 0.85 0.86 0.86 0.87 0.87 0.88 0.88 0.89]\n",
      "torch.Size([179, 3, 3])\n",
      "[0.   0.01 0.01 0.02 0.02 0.03 0.03 0.04 0.04 0.05 0.05 0.06 0.06 0.07\n",
      " 0.07 0.08 0.08 0.09 0.09 0.1  0.1  0.11 0.11 0.12 0.12 0.13 0.13 0.14\n",
      " 0.14 0.15 0.15 0.16 0.16 0.17 0.17 0.18 0.18 0.19 0.19 0.2  0.2  0.21\n",
      " 0.21 0.22 0.22 0.23 0.23 0.24 0.24 0.25 0.25 0.26 0.26 0.27 0.27 0.28\n",
      " 0.28 0.29 0.29 0.3  0.3  0.31 0.31 0.32 0.32 0.33 0.33 0.34 0.34 0.35\n",
      " 0.35 0.36 0.36 0.37 0.37 0.38 0.38 0.39 0.39 0.4  0.4  0.41 0.41 0.42\n",
      " 0.42 0.43 0.43 0.44 0.44 0.45 0.45 0.46 0.46 0.47 0.47 0.48 0.48 0.49\n",
      " 0.49 0.5  0.5  0.51 0.51 0.52 0.52 0.53 0.53 0.54 0.54 0.55 0.55 0.56\n",
      " 0.56 0.57 0.57 0.58 0.58 0.59 0.59 0.6  0.6  0.61 0.61 0.62 0.62 0.63\n",
      " 0.63 0.64 0.64 0.65 0.65 0.66 0.66 0.67 0.67 0.68 0.68 0.69 0.69 0.7\n",
      " 0.7  0.71 0.71 0.72 0.72 0.73 0.73 0.74 0.74 0.75 0.75 0.76 0.76 0.77\n",
      " 0.77 0.78 0.78 0.79 0.79 0.8  0.8  0.81 0.81 0.82 0.82 0.83 0.83 0.84\n",
      " 0.84 0.85 0.85 0.86 0.86 0.87 0.87 0.88 0.88 0.89 0.89 0.9 ]\n",
      "torch.Size([181, 3, 3])\n",
      "[0.   0.01 0.01 0.02 0.02 0.03 0.03 0.04 0.04 0.05 0.05 0.06 0.06 0.07\n",
      " 0.07 0.08 0.08 0.09 0.09 0.1  0.1  0.11 0.11 0.12 0.12 0.13 0.13 0.14\n",
      " 0.14 0.15 0.15 0.16 0.16 0.17 0.17 0.18 0.18 0.19 0.19 0.2  0.2  0.21\n",
      " 0.21 0.22 0.22 0.23 0.23 0.24 0.24 0.25 0.25 0.26 0.26 0.27 0.27 0.28\n",
      " 0.28 0.29 0.29 0.3  0.3  0.31 0.31 0.32 0.32 0.33 0.33 0.34 0.34 0.35\n",
      " 0.35 0.36 0.36 0.37 0.37 0.38 0.38 0.39 0.39 0.4  0.4  0.41 0.41 0.42\n",
      " 0.42 0.43 0.43 0.44 0.44 0.45 0.45 0.46 0.46 0.47 0.47 0.48 0.48 0.49\n",
      " 0.49 0.5  0.5  0.51 0.51 0.52 0.52 0.53 0.53 0.54 0.54 0.55 0.55 0.56\n",
      " 0.56 0.57 0.57 0.58 0.58 0.59 0.59 0.6  0.6  0.61 0.61 0.62 0.62 0.63\n",
      " 0.63 0.64 0.64 0.65 0.65 0.66 0.66 0.67 0.67 0.68 0.68 0.69 0.69 0.7\n",
      " 0.7  0.71 0.71 0.72 0.72 0.73 0.73 0.74 0.74 0.75 0.75 0.76 0.76 0.77\n",
      " 0.77 0.78 0.78 0.79 0.79 0.8  0.8  0.81 0.81 0.82 0.82 0.83 0.83 0.84\n",
      " 0.84 0.85 0.85 0.86 0.86 0.87 0.87 0.88 0.88 0.89 0.89 0.9  0.9  0.91]\n",
      "torch.Size([183, 3, 3])\n",
      "[0.   0.01 0.01 0.02 0.02 0.03 0.03 0.04 0.04 0.05 0.05 0.06 0.06 0.07\n",
      " 0.07 0.08 0.08 0.09 0.09 0.1  0.1  0.11 0.11 0.12 0.12 0.13 0.13 0.14\n",
      " 0.14 0.15 0.15 0.16 0.16 0.17 0.17 0.18 0.18 0.19 0.19 0.2  0.2  0.21\n",
      " 0.21 0.22 0.22 0.23 0.23 0.24 0.24 0.25 0.25 0.26 0.26 0.27 0.27 0.28\n",
      " 0.28 0.29 0.29 0.3  0.3  0.31 0.31 0.32 0.32 0.33 0.33 0.34 0.34 0.35\n",
      " 0.35 0.36 0.36 0.37 0.37 0.38 0.38 0.39 0.39 0.4  0.4  0.41 0.41 0.42\n",
      " 0.42 0.43 0.43 0.44 0.44 0.45 0.45 0.46 0.46 0.47 0.47 0.48 0.48 0.49\n",
      " 0.49 0.5  0.5  0.51 0.51 0.52 0.52 0.53 0.53 0.54 0.54 0.55 0.55 0.56\n",
      " 0.56 0.57 0.57 0.58 0.58 0.59 0.59 0.6  0.6  0.61 0.61 0.62 0.62 0.63\n",
      " 0.63 0.64 0.64 0.65 0.65 0.66 0.66 0.67 0.67 0.68 0.68 0.69 0.69 0.7\n",
      " 0.7  0.71 0.71 0.72 0.72 0.73 0.73 0.74 0.74 0.75 0.75 0.76 0.76 0.77\n",
      " 0.77 0.78 0.78 0.79 0.79 0.8  0.8  0.81 0.81 0.82 0.82 0.83 0.83 0.84\n",
      " 0.84 0.85 0.85 0.86 0.86 0.87 0.87 0.88 0.88 0.89 0.89 0.9  0.9  0.91\n",
      " 0.91 0.92]\n",
      "torch.Size([185, 3, 3])\n",
      "[0.   0.01 0.01 0.02 0.02 0.03 0.03 0.04 0.04 0.05 0.05 0.06 0.06 0.07\n",
      " 0.07 0.08 0.08 0.09 0.09 0.1  0.1  0.11 0.11 0.12 0.12 0.13 0.13 0.14\n",
      " 0.14 0.15 0.15 0.16 0.16 0.17 0.17 0.18 0.18 0.19 0.19 0.2  0.2  0.21\n",
      " 0.21 0.22 0.22 0.23 0.23 0.24 0.24 0.25 0.25 0.26 0.26 0.27 0.27 0.28\n",
      " 0.28 0.29 0.29 0.3  0.3  0.31 0.31 0.32 0.32 0.33 0.33 0.34 0.34 0.35\n",
      " 0.35 0.36 0.36 0.37 0.37 0.38 0.38 0.39 0.39 0.4  0.4  0.41 0.41 0.42\n",
      " 0.42 0.43 0.43 0.44 0.44 0.45 0.45 0.46 0.46 0.47 0.47 0.48 0.48 0.49\n",
      " 0.49 0.5  0.5  0.51 0.51 0.52 0.52 0.53 0.53 0.54 0.54 0.55 0.55 0.56\n",
      " 0.56 0.57 0.57 0.58 0.58 0.59 0.59 0.6  0.6  0.61 0.61 0.62 0.62 0.63\n",
      " 0.63 0.64 0.64 0.65 0.65 0.66 0.66 0.67 0.67 0.68 0.68 0.69 0.69 0.7\n",
      " 0.7  0.71 0.71 0.72 0.72 0.73 0.73 0.74 0.74 0.75 0.75 0.76 0.76 0.77\n",
      " 0.77 0.78 0.78 0.79 0.79 0.8  0.8  0.81 0.81 0.82 0.82 0.83 0.83 0.84\n",
      " 0.84 0.85 0.85 0.86 0.86 0.87 0.87 0.88 0.88 0.89 0.89 0.9  0.9  0.91\n",
      " 0.91 0.92 0.92 0.93]\n",
      "torch.Size([187, 3, 3])\n",
      "[0.   0.01 0.01 0.02 0.02 0.03 0.03 0.04 0.04 0.05 0.05 0.06 0.06 0.07\n",
      " 0.07 0.08 0.08 0.09 0.09 0.1  0.1  0.11 0.11 0.12 0.12 0.13 0.13 0.14\n",
      " 0.14 0.15 0.15 0.16 0.16 0.17 0.17 0.18 0.18 0.19 0.19 0.2  0.2  0.21\n",
      " 0.21 0.22 0.22 0.23 0.23 0.24 0.24 0.25 0.25 0.26 0.26 0.27 0.27 0.28\n",
      " 0.28 0.29 0.29 0.3  0.3  0.31 0.31 0.32 0.32 0.33 0.33 0.34 0.34 0.35\n",
      " 0.35 0.36 0.36 0.37 0.37 0.38 0.38 0.39 0.39 0.4  0.4  0.41 0.41 0.42\n",
      " 0.42 0.43 0.43 0.44 0.44 0.45 0.45 0.46 0.46 0.47 0.47 0.48 0.48 0.49\n",
      " 0.49 0.5  0.5  0.51 0.51 0.52 0.52 0.53 0.53 0.54 0.54 0.55 0.55 0.56\n",
      " 0.56 0.57 0.57 0.58 0.58 0.59 0.59 0.6  0.6  0.61 0.61 0.62 0.62 0.63\n",
      " 0.63 0.64 0.64 0.65 0.65 0.66 0.66 0.67 0.67 0.68 0.68 0.69 0.69 0.7\n",
      " 0.7  0.71 0.71 0.72 0.72 0.73 0.73 0.74 0.74 0.75 0.75 0.76 0.76 0.77\n",
      " 0.77 0.78 0.78 0.79 0.79 0.8  0.8  0.81 0.81 0.82 0.82 0.83 0.83 0.84\n",
      " 0.84 0.85 0.85 0.86 0.86 0.87 0.87 0.88 0.88 0.89 0.89 0.9  0.9  0.91\n",
      " 0.91 0.92 0.92 0.93 0.93 0.94]\n",
      "torch.Size([189, 3, 3])\n",
      "[0.   0.01 0.01 0.02 0.02 0.03 0.03 0.04 0.04 0.05 0.05 0.06 0.06 0.07\n",
      " 0.07 0.08 0.08 0.09 0.09 0.1  0.1  0.11 0.11 0.12 0.12 0.13 0.13 0.14\n",
      " 0.14 0.15 0.15 0.16 0.16 0.17 0.17 0.18 0.18 0.19 0.19 0.2  0.2  0.21\n",
      " 0.21 0.22 0.22 0.23 0.23 0.24 0.24 0.25 0.25 0.26 0.26 0.27 0.27 0.28\n",
      " 0.28 0.29 0.29 0.3  0.3  0.31 0.31 0.32 0.32 0.33 0.33 0.34 0.34 0.35\n",
      " 0.35 0.36 0.36 0.37 0.37 0.38 0.38 0.39 0.39 0.4  0.4  0.41 0.41 0.42\n",
      " 0.42 0.43 0.43 0.44 0.44 0.45 0.45 0.46 0.46 0.47 0.47 0.48 0.48 0.49\n",
      " 0.49 0.5  0.5  0.51 0.51 0.52 0.52 0.53 0.53 0.54 0.54 0.55 0.55 0.56\n",
      " 0.56 0.57 0.57 0.58 0.58 0.59 0.59 0.6  0.6  0.61 0.61 0.62 0.62 0.63\n",
      " 0.63 0.64 0.64 0.65 0.65 0.66 0.66 0.67 0.67 0.68 0.68 0.69 0.69 0.7\n",
      " 0.7  0.71 0.71 0.72 0.72 0.73 0.73 0.74 0.74 0.75 0.75 0.76 0.76 0.77\n",
      " 0.77 0.78 0.78 0.79 0.79 0.8  0.8  0.81 0.81 0.82 0.82 0.83 0.83 0.84\n",
      " 0.84 0.85 0.85 0.86 0.86 0.87 0.87 0.88 0.88 0.89 0.89 0.9  0.9  0.91\n",
      " 0.91 0.92 0.92 0.93 0.93 0.94 0.94 0.95]\n",
      "torch.Size([191, 3, 3])\n",
      "[0.   0.01 0.01 0.02 0.02 0.03 0.03 0.04 0.04 0.05 0.05 0.06 0.06 0.07\n",
      " 0.07 0.08 0.08 0.09 0.09 0.1  0.1  0.11 0.11 0.12 0.12 0.13 0.13 0.14\n",
      " 0.14 0.15 0.15 0.16 0.16 0.17 0.17 0.18 0.18 0.19 0.19 0.2  0.2  0.21\n",
      " 0.21 0.22 0.22 0.23 0.23 0.24 0.24 0.25 0.25 0.26 0.26 0.27 0.27 0.28\n",
      " 0.28 0.29 0.29 0.3  0.3  0.31 0.31 0.32 0.32 0.33 0.33 0.34 0.34 0.35\n",
      " 0.35 0.36 0.36 0.37 0.37 0.38 0.38 0.39 0.39 0.4  0.4  0.41 0.41 0.42\n",
      " 0.42 0.43 0.43 0.44 0.44 0.45 0.45 0.46 0.46 0.47 0.47 0.48 0.48 0.49\n",
      " 0.49 0.5  0.5  0.51 0.51 0.52 0.52 0.53 0.53 0.54 0.54 0.55 0.55 0.56\n",
      " 0.56 0.57 0.57 0.58 0.58 0.59 0.59 0.6  0.6  0.61 0.61 0.62 0.62 0.63\n",
      " 0.63 0.64 0.64 0.65 0.65 0.66 0.66 0.67 0.67 0.68 0.68 0.69 0.69 0.7\n",
      " 0.7  0.71 0.71 0.72 0.72 0.73 0.73 0.74 0.74 0.75 0.75 0.76 0.76 0.77\n",
      " 0.77 0.78 0.78 0.79 0.79 0.8  0.8  0.81 0.81 0.82 0.82 0.83 0.83 0.84\n",
      " 0.84 0.85 0.85 0.86 0.86 0.87 0.87 0.88 0.88 0.89 0.89 0.9  0.9  0.91\n",
      " 0.91 0.92 0.92 0.93 0.93 0.94 0.94 0.95 0.95 0.96]\n",
      "torch.Size([193, 3, 3])\n",
      "[0.   0.01 0.01 0.02 0.02 0.03 0.03 0.04 0.04 0.05 0.05 0.06 0.06 0.07\n",
      " 0.07 0.08 0.08 0.09 0.09 0.1  0.1  0.11 0.11 0.12 0.12 0.13 0.13 0.14\n",
      " 0.14 0.15 0.15 0.16 0.16 0.17 0.17 0.18 0.18 0.19 0.19 0.2  0.2  0.21\n",
      " 0.21 0.22 0.22 0.23 0.23 0.24 0.24 0.25 0.25 0.26 0.26 0.27 0.27 0.28\n",
      " 0.28 0.29 0.29 0.3  0.3  0.31 0.31 0.32 0.32 0.33 0.33 0.34 0.34 0.35\n",
      " 0.35 0.36 0.36 0.37 0.37 0.38 0.38 0.39 0.39 0.4  0.4  0.41 0.41 0.42\n",
      " 0.42 0.43 0.43 0.44 0.44 0.45 0.45 0.46 0.46 0.47 0.47 0.48 0.48 0.49\n",
      " 0.49 0.5  0.5  0.51 0.51 0.52 0.52 0.53 0.53 0.54 0.54 0.55 0.55 0.56\n",
      " 0.56 0.57 0.57 0.58 0.58 0.59 0.59 0.6  0.6  0.61 0.61 0.62 0.62 0.63\n",
      " 0.63 0.64 0.64 0.65 0.65 0.66 0.66 0.67 0.67 0.68 0.68 0.69 0.69 0.7\n",
      " 0.7  0.71 0.71 0.72 0.72 0.73 0.73 0.74 0.74 0.75 0.75 0.76 0.76 0.77\n",
      " 0.77 0.78 0.78 0.79 0.79 0.8  0.8  0.81 0.81 0.82 0.82 0.83 0.83 0.84\n",
      " 0.84 0.85 0.85 0.86 0.86 0.87 0.87 0.88 0.88 0.89 0.89 0.9  0.9  0.91\n",
      " 0.91 0.92 0.92 0.93 0.93 0.94 0.94 0.95 0.95 0.96 0.96 0.97]\n",
      "torch.Size([195, 3, 3])\n",
      "[0.   0.01 0.01 0.02 0.02 0.03 0.03 0.04 0.04 0.05 0.05 0.06 0.06 0.07\n",
      " 0.07 0.08 0.08 0.09 0.09 0.1  0.1  0.11 0.11 0.12 0.12 0.13 0.13 0.14\n",
      " 0.14 0.15 0.15 0.16 0.16 0.17 0.17 0.18 0.18 0.19 0.19 0.2  0.2  0.21\n",
      " 0.21 0.22 0.22 0.23 0.23 0.24 0.24 0.25 0.25 0.26 0.26 0.27 0.27 0.28\n",
      " 0.28 0.29 0.29 0.3  0.3  0.31 0.31 0.32 0.32 0.33 0.33 0.34 0.34 0.35\n",
      " 0.35 0.36 0.36 0.37 0.37 0.38 0.38 0.39 0.39 0.4  0.4  0.41 0.41 0.42\n",
      " 0.42 0.43 0.43 0.44 0.44 0.45 0.45 0.46 0.46 0.47 0.47 0.48 0.48 0.49\n",
      " 0.49 0.5  0.5  0.51 0.51 0.52 0.52 0.53 0.53 0.54 0.54 0.55 0.55 0.56\n",
      " 0.56 0.57 0.57 0.58 0.58 0.59 0.59 0.6  0.6  0.61 0.61 0.62 0.62 0.63\n",
      " 0.63 0.64 0.64 0.65 0.65 0.66 0.66 0.67 0.67 0.68 0.68 0.69 0.69 0.7\n",
      " 0.7  0.71 0.71 0.72 0.72 0.73 0.73 0.74 0.74 0.75 0.75 0.76 0.76 0.77\n",
      " 0.77 0.78 0.78 0.79 0.79 0.8  0.8  0.81 0.81 0.82 0.82 0.83 0.83 0.84\n",
      " 0.84 0.85 0.85 0.86 0.86 0.87 0.87 0.88 0.88 0.89 0.89 0.9  0.9  0.91\n",
      " 0.91 0.92 0.92 0.93 0.93 0.94 0.94 0.95 0.95 0.96 0.96 0.97 0.97 0.98]\n",
      "torch.Size([197, 3, 3])\n",
      "[0.   0.01 0.01 0.02 0.02 0.03 0.03 0.04 0.04 0.05 0.05 0.06 0.06 0.07\n",
      " 0.07 0.08 0.08 0.09 0.09 0.1  0.1  0.11 0.11 0.12 0.12 0.13 0.13 0.14\n",
      " 0.14 0.15 0.15 0.16 0.16 0.17 0.17 0.18 0.18 0.19 0.19 0.2  0.2  0.21\n",
      " 0.21 0.22 0.22 0.23 0.23 0.24 0.24 0.25 0.25 0.26 0.26 0.27 0.27 0.28\n",
      " 0.28 0.29 0.29 0.3  0.3  0.31 0.31 0.32 0.32 0.33 0.33 0.34 0.34 0.35\n",
      " 0.35 0.36 0.36 0.37 0.37 0.38 0.38 0.39 0.39 0.4  0.4  0.41 0.41 0.42\n",
      " 0.42 0.43 0.43 0.44 0.44 0.45 0.45 0.46 0.46 0.47 0.47 0.48 0.48 0.49\n",
      " 0.49 0.5  0.5  0.51 0.51 0.52 0.52 0.53 0.53 0.54 0.54 0.55 0.55 0.56\n",
      " 0.56 0.57 0.57 0.58 0.58 0.59 0.59 0.6  0.6  0.61 0.61 0.62 0.62 0.63\n",
      " 0.63 0.64 0.64 0.65 0.65 0.66 0.66 0.67 0.67 0.68 0.68 0.69 0.69 0.7\n",
      " 0.7  0.71 0.71 0.72 0.72 0.73 0.73 0.74 0.74 0.75 0.75 0.76 0.76 0.77\n",
      " 0.77 0.78 0.78 0.79 0.79 0.8  0.8  0.81 0.81 0.82 0.82 0.83 0.83 0.84\n",
      " 0.84 0.85 0.85 0.86 0.86 0.87 0.87 0.88 0.88 0.89 0.89 0.9  0.9  0.91\n",
      " 0.91 0.92 0.92 0.93 0.93 0.94 0.94 0.95 0.95 0.96 0.96 0.97 0.97 0.98\n",
      " 0.98 0.99]\n",
      "torch.Size([199, 3, 3])\n",
      "[0.   0.01 0.01 0.02 0.02 0.03 0.03 0.04 0.04 0.05 0.05 0.06 0.06 0.07\n",
      " 0.07 0.08 0.08 0.09 0.09 0.1  0.1  0.11 0.11 0.12 0.12 0.13 0.13 0.14\n",
      " 0.14 0.15 0.15 0.16 0.16 0.17 0.17 0.18 0.18 0.19 0.19 0.2  0.2  0.21\n",
      " 0.21 0.22 0.22 0.23 0.23 0.24 0.24 0.25 0.25 0.26 0.26 0.27 0.27 0.28\n",
      " 0.28 0.29 0.29 0.3  0.3  0.31 0.31 0.32 0.32 0.33 0.33 0.34 0.34 0.35\n",
      " 0.35 0.36 0.36 0.37 0.37 0.38 0.38 0.39 0.39 0.4  0.4  0.41 0.41 0.42\n",
      " 0.42 0.43 0.43 0.44 0.44 0.45 0.45 0.46 0.46 0.47 0.47 0.48 0.48 0.49\n",
      " 0.49 0.5  0.5  0.51 0.51 0.52 0.52 0.53 0.53 0.54 0.54 0.55 0.55 0.56\n",
      " 0.56 0.57 0.57 0.58 0.58 0.59 0.59 0.6  0.6  0.61 0.61 0.62 0.62 0.63\n",
      " 0.63 0.64 0.64 0.65 0.65 0.66 0.66 0.67 0.67 0.68 0.68 0.69 0.69 0.7\n",
      " 0.7  0.71 0.71 0.72 0.72 0.73 0.73 0.74 0.74 0.75 0.75 0.76 0.76 0.77\n",
      " 0.77 0.78 0.78 0.79 0.79 0.8  0.8  0.81 0.81 0.82 0.82 0.83 0.83 0.84\n",
      " 0.84 0.85 0.85 0.86 0.86 0.87 0.87 0.88 0.88 0.89 0.89 0.9  0.9  0.91\n",
      " 0.91 0.92 0.92 0.93 0.93 0.94 0.94 0.95 0.95 0.96 0.96 0.97 0.97 0.98\n",
      " 0.98 0.99 0.99 1.  ]\n"
     ]
    }
   ],
   "source": [
    "counts = 0\n",
    "min_eigenvalues = np.inf\n",
    "max_eigenvalues = -np.inf\n",
    "current_time=0\n",
    "for _ in range(100):  \n",
    "    prediction=model.get_pred(times, time_ptr, X, obs_idx, delta_t, T, start_X, n_obs_ot)\n",
    "    sigma=prediction[\"sigma\"][-1,:,:]\n",
    "    mu=prediction[\"mu\"][-1,:,:] \n",
    "    print(prediction[\"sigma\"].shape)\n",
    "    print(prediction[\"pred_t\"])\n",
    "    vol= model.sqrt_matrix(sigma)\n",
    "    X_t=model.generate_next_value(start_X[:,:3], mu, vol, delta_t)\n",
    "    start_X=model.generate_features(X_t)\n",
    "    start_X = start_X.float()\n",
    "    current_time+=delta_t\n",
    "    T+=delta_t\n",
    "    times=np.append(times,current_time)\n",
    "    time_ptr=np.append(time_ptr, len(obs_idx)+1)\n",
    "    obs_idx=torch.cat((obs_idx, torch.arange(start_X.shape[0], dtype=torch.long)))\n",
    "    X=torch.cat((X,start_X)) \n",
    "    n_obs_ot+=1    "
   ],
   "metadata": {
    "collapsed": false,
    "ExecuteTime": {
     "end_time": "2025-04-11T12:01:10.212239400Z",
     "start_time": "2025-04-11T12:00:35.632985100Z"
    }
   },
   "id": "31874ff1bc9cbee4"
  },
  {
   "cell_type": "code",
   "execution_count": 114,
   "outputs": [
    {
     "data": {
      "text/plain": "torch.Size([101, 9])"
     },
     "execution_count": 114,
     "metadata": {},
     "output_type": "execute_result"
    }
   ],
   "source": [
    "X.shape"
   ],
   "metadata": {
    "collapsed": false,
    "ExecuteTime": {
     "end_time": "2025-04-11T12:01:10.238236300Z",
     "start_time": "2025-04-11T12:01:10.180717200Z"
    }
   },
   "id": "4bcabd9ba18bd8d3"
  },
  {
   "cell_type": "code",
   "execution_count": 115,
   "outputs": [
    {
     "name": "stdout",
     "output_type": "stream",
     "text": [
      "tensor([[1.0000, 1.5000, 2.0000, 1.0000, 2.2500, 4.0000, 1.5000, 2.0000, 3.0000],\n",
      "        [1.0025, 1.4974, 1.9921, 1.0051, 2.2422, 3.9684, 1.5012, 1.9971, 2.9830],\n",
      "        [0.9745, 1.4794, 2.0115, 0.9496, 2.1885, 4.0462, 1.4416, 1.9602, 2.9758],\n",
      "        [0.9995, 1.4918, 1.9869, 0.9991, 2.2255, 3.9478, 1.4911, 1.9860, 2.9640],\n",
      "        [0.8989, 1.4924, 1.9191, 0.8081, 2.2273, 3.6829, 1.3416, 1.7251, 2.8641],\n",
      "        [0.8790, 1.4851, 1.9105, 0.7727, 2.2055, 3.6502, 1.3055, 1.6795, 2.8373],\n",
      "        [0.8156, 1.4766, 1.9201, 0.6652, 2.1804, 3.6869, 1.2044, 1.5661, 2.8353],\n",
      "        [0.8380, 1.4504, 1.8899, 0.7022, 2.1037, 3.5717, 1.2155, 1.5837, 2.7412],\n",
      "        [0.7955, 1.4838, 1.9176, 0.6329, 2.2016, 3.6773, 1.1804, 1.5255, 2.8453],\n",
      "        [0.8456, 1.5490, 1.9388, 0.7151, 2.3993, 3.7589, 1.3098, 1.6395, 3.0031],\n",
      "        [0.8537, 1.5401, 1.9380, 0.7288, 2.3719, 3.7560, 1.3148, 1.6545, 2.9848],\n",
      "        [0.8549, 1.5797, 1.9551, 0.7308, 2.4954, 3.8225, 1.3504, 1.6714, 3.0884],\n",
      "        [0.9265, 1.6400, 1.9583, 0.8583, 2.6897, 3.8350, 1.5194, 1.8143, 3.2117],\n",
      "        [0.9038, 1.5886, 1.9352, 0.8169, 2.5235, 3.7448, 1.4358, 1.7490, 3.0741],\n",
      "        [0.8596, 1.5625, 1.9296, 0.7389, 2.4414, 3.7232, 1.3431, 1.6586, 3.0149],\n",
      "        [0.8953, 1.5929, 1.9400, 0.8016, 2.5373, 3.7636, 1.4262, 1.7370, 3.0902],\n",
      "        [0.8738, 1.5562, 1.9213, 0.7636, 2.4216, 3.6914, 1.3598, 1.6789, 2.9899],\n",
      "        [0.8708, 1.5429, 1.9151, 0.7582, 2.3805, 3.6676, 1.3435, 1.6676, 2.9548],\n",
      "        [0.8872, 1.5496, 1.9151, 0.7870, 2.4013, 3.6674, 1.3748, 1.6990, 2.9676],\n",
      "        [0.9170, 1.5571, 1.9106, 0.8409, 2.4245, 3.6504, 1.4279, 1.7521, 2.9750],\n",
      "        [0.8723, 1.5666, 1.9247, 0.7609, 2.4541, 3.7044, 1.3665, 1.6789, 3.0151],\n",
      "        [0.8543, 1.5512, 1.9164, 0.7298, 2.4063, 3.6727, 1.3252, 1.6372, 2.9728],\n",
      "        [0.8151, 1.5096, 1.9058, 0.6644, 2.2790, 3.6322, 1.2305, 1.5535, 2.8771],\n",
      "        [0.8247, 1.5028, 1.8927, 0.6801, 2.2583, 3.5824, 1.2393, 1.5609, 2.8443],\n",
      "        [0.8438, 1.6178, 1.9227, 0.7121, 2.6173, 3.6969, 1.3652, 1.6225, 3.1106],\n",
      "        [0.8306, 1.6049, 1.9118, 0.6899, 2.5756, 3.6551, 1.3330, 1.5880, 3.0682],\n",
      "        [0.8211, 1.6041, 1.9104, 0.6742, 2.5731, 3.6497, 1.3172, 1.5687, 3.0645],\n",
      "        [0.7639, 1.5716, 1.9124, 0.5835, 2.4700, 3.6572, 1.2005, 1.4608, 3.0055],\n",
      "        [0.7231, 1.4700, 1.8936, 0.5229, 2.1610, 3.5856, 1.0630, 1.3693, 2.7836],\n",
      "        [0.6831, 1.4639, 1.8998, 0.4666, 2.1429, 3.6093, 0.9999, 1.2977, 2.7811],\n",
      "        [0.7809, 1.3633, 1.8601, 0.6098, 1.8587, 3.4600, 1.0646, 1.4526, 2.5360],\n",
      "        [0.7045, 1.3830, 1.8702, 0.4964, 1.9127, 3.4978, 0.9744, 1.3176, 2.5865],\n",
      "        [0.7344, 1.3455, 1.8385, 0.5394, 1.8103, 3.3800, 0.9881, 1.3502, 2.4737],\n",
      "        [0.6996, 1.3406, 1.8524, 0.4895, 1.7972, 3.4314, 0.9379, 1.2960, 2.4833],\n",
      "        [0.6360, 1.3592, 1.8715, 0.4045, 1.8474, 3.5026, 0.8644, 1.1903, 2.5437],\n",
      "        [0.6306, 1.3378, 1.8708, 0.3977, 1.7897, 3.4999, 0.8436, 1.1797, 2.5027],\n",
      "        [0.6365, 1.3371, 1.8688, 0.4052, 1.7877, 3.4924, 0.8511, 1.1895, 2.4987],\n",
      "        [0.6461, 1.3220, 1.8621, 0.4174, 1.7477, 3.4675, 0.8541, 1.2031, 2.4617],\n",
      "        [0.6601, 1.3327, 1.8529, 0.4358, 1.7761, 3.4332, 0.8798, 1.2231, 2.4694],\n",
      "        [0.6236, 1.3280, 1.8625, 0.3889, 1.7636, 3.4690, 0.8282, 1.1615, 2.4735],\n",
      "        [0.5491, 1.3315, 1.8693, 0.3015, 1.7729, 3.4942, 0.7311, 1.0264, 2.4889],\n",
      "        [0.5436, 1.3636, 1.8625, 0.2955, 1.8594, 3.4689, 0.7412, 1.0124, 2.5397],\n",
      "        [0.6177, 1.3388, 1.8529, 0.3815, 1.7925, 3.4333, 0.8270, 1.1445, 2.4808],\n",
      "        [0.5963, 1.3545, 1.8479, 0.3555, 1.8347, 3.4147, 0.8077, 1.1018, 2.5030],\n",
      "        [0.6660, 1.3406, 1.8315, 0.4435, 1.7972, 3.3544, 0.8928, 1.2197, 2.4553],\n",
      "        [0.6790, 1.3436, 1.8227, 0.4611, 1.8052, 3.3223, 0.9123, 1.2377, 2.4490],\n",
      "        [0.5931, 1.3034, 1.8391, 0.3517, 1.6989, 3.3824, 0.7730, 1.0907, 2.3972],\n",
      "        [0.6130, 1.3143, 1.8342, 0.3758, 1.7274, 3.3643, 0.8057, 1.1244, 2.4107],\n",
      "        [0.6508, 1.3201, 1.8225, 0.4236, 1.7426, 3.3214, 0.8591, 1.1861, 2.4058],\n",
      "        [0.6401, 1.3339, 1.8293, 0.4098, 1.7792, 3.3465, 0.8538, 1.1710, 2.4401],\n",
      "        [0.6228, 1.2828, 1.8347, 0.3878, 1.6456, 3.3661, 0.7989, 1.1426, 2.3536],\n",
      "        [0.6555, 1.2912, 1.8218, 0.4296, 1.6671, 3.3189, 0.8463, 1.1941, 2.3522],\n",
      "        [0.6831, 1.2704, 1.8113, 0.4666, 1.6140, 3.2809, 0.8678, 1.2373, 2.3012],\n",
      "        [0.6979, 1.2642, 1.8061, 0.4871, 1.5983, 3.2620, 0.8823, 1.2605, 2.2833],\n",
      "        [0.6622, 1.2303, 1.8119, 0.4386, 1.5137, 3.2829, 0.8148, 1.1999, 2.2292],\n",
      "        [0.5517, 1.1937, 1.8361, 0.3044, 1.4249, 3.3714, 0.6585, 1.0130, 2.1918],\n",
      "        [0.5174, 1.2444, 1.8196, 0.2677, 1.5486, 3.3110, 0.6439, 0.9415, 2.2644],\n",
      "        [0.5678, 1.2989, 1.8067, 0.3224, 1.6872, 3.2642, 0.7375, 1.0259, 2.3468],\n",
      "        [0.5626, 1.3626, 1.8003, 0.3166, 1.8567, 3.2410, 0.7666, 1.0129, 2.4530],\n",
      "        [0.6427, 1.3544, 1.7895, 0.4130, 1.8345, 3.2022, 0.8705, 1.1501, 2.4237],\n",
      "        [0.7618, 1.3418, 1.7738, 0.5804, 1.8005, 3.1464, 1.0223, 1.3513, 2.3802],\n",
      "        [0.7204, 1.3510, 1.7685, 0.5189, 1.8252, 3.1276, 0.9732, 1.2740, 2.3892],\n",
      "        [0.7455, 1.3362, 1.7555, 0.5557, 1.7854, 3.0819, 0.9961, 1.3087, 2.3458],\n",
      "        [0.7643, 1.3781, 1.7429, 0.5841, 1.8993, 3.0378, 1.0533, 1.3321, 2.4020],\n",
      "        [0.7511, 1.3758, 1.7433, 0.5642, 1.8928, 3.0389, 1.0334, 1.3094, 2.3983],\n",
      "        [0.7574, 1.3537, 1.7384, 0.5736, 1.8325, 3.0220, 1.0253, 1.3166, 2.3533],\n",
      "        [0.7439, 1.3572, 1.7426, 0.5534, 1.8420, 3.0366, 1.0097, 1.2964, 2.3650],\n",
      "        [0.7842, 1.3267, 1.7299, 0.6150, 1.7602, 2.9924, 1.0405, 1.3566, 2.2950],\n",
      "        [0.8233, 1.3310, 1.7145, 0.6778, 1.7716, 2.9394, 1.0958, 1.4115, 2.2820],\n",
      "        [0.8387, 1.3428, 1.7032, 0.7035, 1.8031, 2.9010, 1.1262, 1.4286, 2.2870],\n",
      "        [0.8429, 1.3555, 1.6988, 0.7104, 1.8373, 2.8860, 1.1425, 1.4319, 2.3027],\n",
      "        [0.8268, 1.3541, 1.6993, 0.6835, 1.8336, 2.8875, 1.1195, 1.4049, 2.3009],\n",
      "        [0.7972, 1.3286, 1.6952, 0.6355, 1.7652, 2.8737, 1.0592, 1.3514, 2.2522],\n",
      "        [0.7857, 1.3264, 1.6978, 0.6174, 1.7593, 2.8826, 1.0422, 1.3340, 2.2520],\n",
      "        [0.7848, 1.3559, 1.6973, 0.6159, 1.8384, 2.8810, 1.0641, 1.3320, 2.3014],\n",
      "        [0.7466, 1.3120, 1.7041, 0.5575, 1.7214, 2.9039, 0.9796, 1.2724, 2.2358],\n",
      "        [0.7356, 1.3066, 1.6994, 0.5411, 1.7072, 2.8881, 0.9612, 1.2502, 2.2205],\n",
      "        [0.7045, 1.2933, 1.7040, 0.4963, 1.6727, 2.9035, 0.9112, 1.2005, 2.2038],\n",
      "        [0.6702, 1.2583, 1.7030, 0.4491, 1.5834, 2.9003, 0.8433, 1.1413, 2.1430],\n",
      "        [0.6841, 1.3252, 1.6872, 0.4680, 1.7562, 2.8466, 0.9066, 1.1542, 2.2359],\n",
      "        [0.7341, 1.2129, 1.6896, 0.5388, 1.4710, 2.8548, 0.8903, 1.2403, 2.0493],\n",
      "        [0.7995, 1.1526, 1.6845, 0.6392, 1.3285, 2.8374, 0.9215, 1.3467, 1.9415],\n",
      "        [0.7851, 1.1467, 1.6810, 0.6164, 1.3149, 2.8258, 0.9003, 1.3198, 1.9276],\n",
      "        [0.8119, 1.1310, 1.6768, 0.6591, 1.2791, 2.8118, 0.9182, 1.3614, 1.8965],\n",
      "        [0.8396, 1.1850, 1.6660, 0.7048, 1.4043, 2.7756, 0.9949, 1.3987, 1.9743],\n",
      "        [0.8481, 1.1416, 1.6651, 0.7192, 1.3032, 2.7727, 0.9681, 1.4122, 1.9009],\n",
      "        [0.8306, 1.1577, 1.6679, 0.6899, 1.3403, 2.7820, 0.9616, 1.3854, 1.9310],\n",
      "        [0.8191, 1.0640, 1.6760, 0.6709, 1.1321, 2.8088, 0.8715, 1.3727, 1.7832],\n",
      "        [0.8495, 1.0890, 1.6737, 0.7216, 1.1859, 2.8012, 0.9250, 1.4217, 1.8226],\n",
      "        [0.8389, 1.1381, 1.6680, 0.7037, 1.2953, 2.7823, 0.9547, 1.3993, 1.8984],\n",
      "        [0.9195, 1.1685, 1.6600, 0.8454, 1.3655, 2.7555, 1.0744, 1.5263, 1.9397],\n",
      "        [0.9068, 1.1762, 1.6552, 0.8223, 1.3834, 2.7397, 1.0666, 1.5009, 1.9469],\n",
      "        [0.8483, 1.1857, 1.6474, 0.7196, 1.4059, 2.7140, 1.0058, 1.3975, 1.9533],\n",
      "        [0.8286, 1.1417, 1.6495, 0.6866, 1.3036, 2.7210, 0.9460, 1.3668, 1.8833],\n",
      "        [0.9127, 1.1522, 1.6433, 0.8330, 1.3276, 2.7004, 1.0516, 1.4998, 1.8934],\n",
      "        [0.9010, 1.1607, 1.6375, 0.8117, 1.3473, 2.6814, 1.0458, 1.4753, 1.9007],\n",
      "        [0.9118, 1.1483, 1.6374, 0.8314, 1.3187, 2.6812, 1.0471, 1.4930, 1.8803],\n",
      "        [0.8817, 1.1294, 1.6358, 0.7774, 1.2756, 2.6758, 0.9958, 1.4422, 1.8475],\n",
      "        [0.8884, 1.1072, 1.6331, 0.7893, 1.2258, 2.6670, 0.9836, 1.4509, 1.8081],\n",
      "        [0.9366, 1.0286, 1.6345, 0.8771, 1.0581, 2.6716, 0.9634, 1.5308, 1.6813],\n",
      "        [0.9336, 1.0309, 1.6273, 0.8716, 1.0628, 2.6481, 0.9624, 1.5192, 1.6776]],\n",
      "       grad_fn=<CatBackward0>)\n"
     ]
    }
   ],
   "source": [
    "print(X)"
   ],
   "metadata": {
    "collapsed": false,
    "ExecuteTime": {
     "end_time": "2025-04-11T12:01:10.385828700Z",
     "start_time": "2025-04-11T12:01:10.194242200Z"
    }
   },
   "id": "1694b6484705d4b"
  },
  {
   "cell_type": "code",
   "execution_count": 42,
   "outputs": [],
   "source": [
    "sigma=prediction[\"sigma\"][0,:,:]"
   ],
   "metadata": {
    "collapsed": false,
    "ExecuteTime": {
     "end_time": "2025-04-11T09:49:18.092050500Z",
     "start_time": "2025-04-11T09:49:18.060726700Z"
    }
   },
   "id": "47928fcd38a2f495"
  },
  {
   "cell_type": "code",
   "execution_count": 43,
   "outputs": [],
   "source": [
    "mu=prediction[\"mu\"]"
   ],
   "metadata": {
    "collapsed": false,
    "ExecuteTime": {
     "end_time": "2025-04-11T09:49:19.513866300Z",
     "start_time": "2025-04-11T09:49:19.451337Z"
    }
   },
   "id": "e864ab693b51ca82"
  },
  {
   "cell_type": "code",
   "execution_count": 22,
   "outputs": [
    {
     "data": {
      "text/plain": "torch.Size([1, 1, 3])"
     },
     "execution_count": 22,
     "metadata": {},
     "output_type": "execute_result"
    }
   ],
   "source": [
    "mu.shape"
   ],
   "metadata": {
    "collapsed": false,
    "ExecuteTime": {
     "end_time": "2025-04-11T09:36:45.547422500Z",
     "start_time": "2025-04-11T09:36:45.479331600Z"
    }
   },
   "id": "3756472bd25243f8"
  },
  {
   "cell_type": "code",
   "execution_count": 24,
   "outputs": [
    {
     "data": {
      "text/plain": "torch.Size([3, 3])"
     },
     "execution_count": 24,
     "metadata": {},
     "output_type": "execute_result"
    }
   ],
   "source": [
    "sigma.shape"
   ],
   "metadata": {
    "collapsed": false,
    "ExecuteTime": {
     "end_time": "2025-04-11T09:37:08.765520700Z",
     "start_time": "2025-04-11T09:37:08.729097400Z"
    }
   },
   "id": "2a3fb6f09e949de7"
  },
  {
   "cell_type": "code",
   "execution_count": 10,
   "outputs": [],
   "source": [
    "sigma1=sigma[0,:,:]"
   ],
   "metadata": {
    "collapsed": false,
    "ExecuteTime": {
     "end_time": "2025-04-11T09:29:01.953306900Z",
     "start_time": "2025-04-11T09:29:01.900745Z"
    }
   },
   "id": "381cbe2c90553696"
  },
  {
   "cell_type": "code",
   "execution_count": 11,
   "outputs": [],
   "source": [
    "sigma2=sigma1.detach().numpy()"
   ],
   "metadata": {
    "collapsed": false,
    "ExecuteTime": {
     "end_time": "2025-04-11T09:29:02.773148400Z",
     "start_time": "2025-04-11T09:29:02.661576400Z"
    }
   },
   "id": "615f7421b50375a6"
  },
  {
   "cell_type": "code",
   "execution_count": 12,
   "outputs": [
    {
     "data": {
      "text/plain": "array([[0.04133582, 0.06852746, 0.09320974],\n       [0.06852746, 0.10979176, 0.13985038],\n       [0.09320974, 0.13985038, 0.28378963]], dtype=float32)"
     },
     "execution_count": 12,
     "metadata": {},
     "output_type": "execute_result"
    }
   ],
   "source": [
    "sigma2"
   ],
   "metadata": {
    "collapsed": false,
    "ExecuteTime": {
     "end_time": "2025-04-11T09:29:03.662890600Z",
     "start_time": "2025-04-11T09:29:03.514335900Z"
    }
   },
   "id": "90bd4006448ea64f"
  },
  {
   "cell_type": "code",
   "execution_count": 13,
   "outputs": [
    {
     "data": {
      "text/plain": "array([ 0.39843428, -0.00136014,  0.03784306], dtype=float32)"
     },
     "execution_count": 13,
     "metadata": {},
     "output_type": "execute_result"
    }
   ],
   "source": [
    "np.linalg.eigvals(sigma[0,:,:].detach().numpy())"
   ],
   "metadata": {
    "collapsed": false,
    "ExecuteTime": {
     "end_time": "2025-04-11T09:29:05.370116300Z",
     "start_time": "2025-04-11T09:29:04.915152500Z"
    }
   },
   "id": "3a87d853d9445250"
  },
  {
   "cell_type": "code",
   "execution_count": 14,
   "outputs": [
    {
     "data": {
      "text/plain": "array([[ 0.20903579,  0.        ,  0.        ],\n       [ 0.32782645,  0.06842307,  0.        ],\n       [ 0.44590328, -0.09249087,  0.28065189]])"
     },
     "execution_count": 14,
     "metadata": {},
     "output_type": "execute_result"
    }
   ],
   "source": [
    "model.sqrt_matrix(sigma1)"
   ],
   "metadata": {
    "collapsed": false,
    "ExecuteTime": {
     "end_time": "2025-04-11T09:29:16.185000300Z",
     "start_time": "2025-04-11T09:29:16.153201Z"
    }
   },
   "id": "4774ed479378377a"
  },
  {
   "cell_type": "code",
   "execution_count": null,
   "outputs": [],
   "source": [],
   "metadata": {
    "collapsed": false
   },
   "id": "88e64b90f546e6f4"
  },
  {
   "cell_type": "code",
   "execution_count": 17,
   "outputs": [],
   "source": [
    "forward=model.forward(times, time_ptr, X, obs_idx, delta_t, T, start_X, n_obs_ot, return_path=False, return_at_last_obs=False, return_classifier_out=False)"
   ],
   "metadata": {
    "collapsed": false,
    "ExecuteTime": {
     "end_time": "2025-04-11T09:30:55.717037500Z",
     "start_time": "2025-04-11T09:30:55.646923900Z"
    }
   },
   "id": "4bd30f3c1537eb1e"
  },
  {
   "cell_type": "code",
   "execution_count": 18,
   "outputs": [
    {
     "data": {
      "text/plain": "(tensor([[ 0.9986,  1.4985,  1.9981,  1.0551,  2.2695,  3.9965,  1.5260,  2.0167,\n           2.9959, -0.0099]], grad_fn=<AddBackward0>),\n tensor(0.))"
     },
     "execution_count": 18,
     "metadata": {},
     "output_type": "execute_result"
    }
   ],
   "source": [
    "forward"
   ],
   "metadata": {
    "collapsed": false,
    "ExecuteTime": {
     "end_time": "2025-04-11T09:30:59.894473400Z",
     "start_time": "2025-04-11T09:30:59.878720800Z"
    }
   },
   "id": "a43e09da4bbea3f2"
  },
  {
   "cell_type": "code",
   "execution_count": null,
   "outputs": [],
   "source": [
    "model.construct_matrix()"
   ],
   "metadata": {
    "collapsed": false
   },
   "id": "30e22f21071a21ee"
  },
  {
   "cell_type": "code",
   "execution_count": 151,
   "outputs": [],
   "source": [
    "current_time=0\n",
    "X=prediction[\"pred\"][1]\n",
    "start_X=prediction[\"pred\"][-1]\n",
    "current_time+=delta_t\n",
    "times=np.append(times,current_time)\n",
    "time_ptr.append(1)\n",
    "obs_idx=torch.arange(start_X.shape[0], dtype=torch.long)\n",
    "T+=delta_t\n",
    "n_obs_ot+=1\n",
    "pred=model.get_pred(times, time_ptr, X, obs_idx, delta_t, T, start_X, n_obs_ot)"
   ],
   "metadata": {
    "collapsed": false,
    "ExecuteTime": {
     "end_time": "2025-04-10T11:56:15.824919100Z",
     "start_time": "2025-04-10T11:56:15.797750800Z"
    }
   },
   "id": "2fe2ebd22845e131"
  },
  {
   "cell_type": "code",
   "execution_count": 147,
   "outputs": [
    {
     "data": {
      "text/plain": "{'pred': tensor([[[1.0000, 1.5000, 2.0000, 0.9999, 2.2500, 4.0000, 1.5001, 2.0000,\n           2.9997]],\n \n         [[0.9989, 1.4976, 1.9958, 0.9983, 2.2438, 3.9858, 1.4966, 1.9945,\n           2.9902]],\n \n         [[0.9989, 1.4976, 1.9958, 0.9982, 2.2438, 3.9858, 1.4967, 1.9945,\n           2.9899]],\n \n         [[0.9978, 1.4951, 1.9915, 0.9965, 2.2376, 3.9717, 1.4933, 1.9890,\n           2.9803]]], grad_fn=<SliceBackward0>),\n 'pred_t': array([0.  , 0.01, 0.01, 0.02]),\n 'loss': tensor(4.0393e-07, grad_fn=<AddBackward0>)}"
     },
     "execution_count": 147,
     "metadata": {},
     "output_type": "execute_result"
    }
   ],
   "source": [
    "pred"
   ],
   "metadata": {
    "collapsed": false,
    "ExecuteTime": {
     "end_time": "2025-04-10T11:55:07.811963600Z",
     "start_time": "2025-04-10T11:55:07.758792Z"
    }
   },
   "id": "32309d3000dc8758"
  },
  {
   "cell_type": "code",
   "execution_count": 152,
   "outputs": [
    {
     "data": {
      "text/plain": "{'pred': tensor([[[0.9989, 1.4976, 1.9958, 0.9982, 2.2438, 3.9858, 1.4967, 1.9945,\n           2.9899]],\n \n         [[0.9978, 1.4951, 1.9915, 0.9965, 2.2376, 3.9717, 1.4933, 1.9890,\n           2.9803]],\n \n         [[0.9989, 1.4976, 1.9958, 0.9982, 2.2438, 3.9858, 1.4967, 1.9945,\n           2.9899]],\n \n         [[0.9978, 1.4951, 1.9915, 0.9965, 2.2376, 3.9717, 1.4933, 1.9890,\n           2.9803]]], grad_fn=<SliceBackward0>),\n 'pred_t': array([0.  , 0.01, 0.01, 0.02]),\n 'loss': tensor(0.0004, grad_fn=<AddBackward0>)}"
     },
     "execution_count": 152,
     "metadata": {},
     "output_type": "execute_result"
    }
   ],
   "source": [
    "pred"
   ],
   "metadata": {
    "collapsed": false,
    "ExecuteTime": {
     "end_time": "2025-04-10T11:56:24.102191600Z",
     "start_time": "2025-04-10T11:56:24.061906700Z"
    }
   },
   "id": "6b632ce5814af9bf"
  },
  {
   "cell_type": "code",
   "execution_count": 139,
   "outputs": [],
   "source": [
    "current_time=0\n",
    "X=prediction[\"pred\"][1]\n",
    "current_time+=delta_t\n",
    "times=np.append(times,current_time)\n",
    "time_ptr.append(1)\n",
    "obs_idx=torch.arange(start_X.shape[0], dtype=torch.long)\n",
    "n_obs_ot+=1\n",
    "pred=model.get_pred(times, time_ptr, X, obs_idx, delta_t, T, start_X, n_obs_ot)"
   ],
   "metadata": {
    "collapsed": false,
    "ExecuteTime": {
     "end_time": "2025-04-10T11:13:20.935180900Z",
     "start_time": "2025-04-10T11:13:20.891713300Z"
    }
   },
   "id": "5cbe5b77e66a8e2a"
  },
  {
   "cell_type": "code",
   "execution_count": 140,
   "outputs": [
    {
     "data": {
      "text/plain": "torch.Size([2, 1, 9])"
     },
     "execution_count": 140,
     "metadata": {},
     "output_type": "execute_result"
    }
   ],
   "source": [
    "pred[\"pred\"][-2:].shape"
   ],
   "metadata": {
    "collapsed": false,
    "ExecuteTime": {
     "end_time": "2025-04-10T11:13:22.154763100Z",
     "start_time": "2025-04-10T11:13:22.041702500Z"
    }
   },
   "id": "996ea97d3d1535ca"
  },
  {
   "cell_type": "code",
   "execution_count": 141,
   "outputs": [
    {
     "data": {
      "text/plain": "{'pred': tensor([[[1.0000, 1.5000, 2.0000, 0.9999, 2.2500, 4.0000, 1.5001, 2.0000,\n           2.9997]],\n \n         [[0.9989, 1.4976, 1.9958, 0.9983, 2.2438, 3.9858, 1.4966, 1.9945,\n           2.9902]],\n \n         [[0.9989, 1.4976, 1.9958, 0.9982, 2.2438, 3.9858, 1.4967, 1.9945,\n           2.9899]]], grad_fn=<SliceBackward0>),\n 'pred_t': array([0.  , 0.01, 0.01]),\n 'loss': tensor(4.0393e-07, grad_fn=<AddBackward0>)}"
     },
     "execution_count": 141,
     "metadata": {},
     "output_type": "execute_result"
    }
   ],
   "source": [
    "pred"
   ],
   "metadata": {
    "collapsed": false,
    "ExecuteTime": {
     "end_time": "2025-04-10T11:13:32.552026200Z",
     "start_time": "2025-04-10T11:13:32.499919100Z"
    }
   },
   "id": "172fca3948c2f084"
  },
  {
   "cell_type": "code",
   "execution_count": 133,
   "outputs": [],
   "source": [
    "X=pred[\"pred\"][-2:].reshape(2,9)\n",
    "current_time+=delta_t\n",
    "times=np.append(times,current_time)\n",
    "time_ptr.append(1)\n",
    "obs_idx=torch.arange(start_X.shape[0], dtype=torch.long)\n",
    "T+=delta_t\n",
    "n_obs_ot+=1\n",
    "pred1=model.get_pred(times, time_ptr, X, obs_idx, delta_t, T, start_X, n_obs_ot)"
   ],
   "metadata": {
    "collapsed": false,
    "ExecuteTime": {
     "end_time": "2025-04-10T11:09:41.994278300Z",
     "start_time": "2025-04-10T11:09:41.918942700Z"
    }
   },
   "id": "6edfe96f9c1b2c1d"
  },
  {
   "cell_type": "code",
   "execution_count": 134,
   "outputs": [
    {
     "data": {
      "text/plain": "{'pred': tensor([[[1.0000, 1.5000, 2.0000, 0.9999, 2.2500, 4.0000, 1.5001, 2.0000,\n           2.9997]],\n \n         [[0.9989, 1.4976, 1.9958, 0.9983, 2.2438, 3.9858, 1.4966, 1.9945,\n           2.9902]],\n \n         [[0.9989, 1.4976, 1.9958, 0.9981, 2.2438, 3.9858, 1.4967, 1.9945,\n           2.9896]],\n \n         [[0.9978, 1.4952, 1.9915, 0.9964, 2.2376, 3.9717, 1.4933, 1.9890,\n           2.9800]],\n \n         [[0.9978, 1.4952, 1.9915, 0.9964, 2.2376, 3.9717, 1.4933, 1.9890,\n           2.9800]],\n \n         [[0.9968, 1.4927, 1.9873, 0.9948, 2.2314, 3.9576, 1.4899, 1.9836,\n           2.9705]],\n \n         [[0.9968, 1.4927, 1.9873, 0.9948, 2.2314, 3.9576, 1.4899, 1.9836,\n           2.9705]],\n \n         [[0.9957, 1.4903, 1.9830, 0.9931, 2.2252, 3.9434, 1.4865, 1.9781,\n           2.9610]]], grad_fn=<SliceBackward0>),\n 'pred_t': array([0.  , 0.01, 0.01, 0.02, 0.02, 0.03, 0.03, 0.04]),\n 'loss': tensor(3.0279e-07, grad_fn=<AddBackward0>)}"
     },
     "execution_count": 134,
     "metadata": {},
     "output_type": "execute_result"
    }
   ],
   "source": [
    "pred1"
   ],
   "metadata": {
    "collapsed": false,
    "ExecuteTime": {
     "end_time": "2025-04-10T11:09:51.242678700Z",
     "start_time": "2025-04-10T11:09:51.161614400Z"
    }
   },
   "id": "5c28c1bdac1cf3b"
  },
  {
   "cell_type": "code",
   "execution_count": 135,
   "outputs": [
    {
     "data": {
      "text/plain": "0.04"
     },
     "execution_count": 135,
     "metadata": {},
     "output_type": "execute_result"
    }
   ],
   "source": [
    "T"
   ],
   "metadata": {
    "collapsed": false,
    "ExecuteTime": {
     "end_time": "2025-04-10T11:10:06.275997500Z",
     "start_time": "2025-04-10T11:10:06.220857900Z"
    }
   },
   "id": "68f8e201733cc089"
  },
  {
   "cell_type": "code",
   "execution_count": 25,
   "outputs": [],
   "source": [
    "mu=model.get_mu_hat(times,time_ptr,obs_idx,delta_t, T,X,start_X, n_obs_ot)"
   ],
   "metadata": {
    "collapsed": false,
    "ExecuteTime": {
     "end_time": "2025-04-09T08:16:44.018251400Z",
     "start_time": "2025-04-09T08:16:43.986423600Z"
    }
   },
   "id": "597fa129ecac77d7"
  },
  {
   "cell_type": "code",
   "execution_count": 103,
   "outputs": [],
   "source": [
    "sigma_hat=model.get_sigma_hat(times,time_ptr,obs_idx,delta_t, T,X,start_X, n_obs_ot)"
   ],
   "metadata": {
    "collapsed": false,
    "ExecuteTime": {
     "end_time": "2025-04-09T09:54:27.839860400Z",
     "start_time": "2025-04-09T09:54:27.682928900Z"
    }
   },
   "id": "f133cd8bbd38678c"
  },
  {
   "cell_type": "code",
   "execution_count": 106,
   "outputs": [],
   "source": [
    "vol_t=model.sqrt_matrix(sigma_hat)"
   ],
   "metadata": {
    "collapsed": false,
    "ExecuteTime": {
     "end_time": "2025-04-09T09:54:48.153705Z",
     "start_time": "2025-04-09T09:54:48.106702300Z"
    }
   },
   "id": "1adc0cd42643195a"
  },
  {
   "cell_type": "code",
   "execution_count": 29,
   "outputs": [],
   "source": [
    "X_t_next=model.generate_next_value(start_X[:,:3], mu, vol_t, delta_t)"
   ],
   "metadata": {
    "collapsed": false,
    "ExecuteTime": {
     "end_time": "2025-04-09T08:17:38.433177300Z",
     "start_time": "2025-04-09T08:17:38.415615500Z"
    }
   },
   "id": "ebc05b428d7a843"
  },
  {
   "cell_type": "code",
   "execution_count": 30,
   "outputs": [
    {
     "data": {
      "text/plain": "torch.Size([1, 3])"
     },
     "execution_count": 30,
     "metadata": {},
     "output_type": "execute_result"
    }
   ],
   "source": [
    "X_t_next.shape"
   ],
   "metadata": {
    "collapsed": false,
    "ExecuteTime": {
     "end_time": "2025-04-09T08:17:42.039671300Z",
     "start_time": "2025-04-09T08:17:42.011804800Z"
    }
   },
   "id": "ed6a7a7af7323046"
  },
  {
   "cell_type": "code",
   "execution_count": 32,
   "outputs": [],
   "source": [
    "X_new=model.generate_features(X_t_next)"
   ],
   "metadata": {
    "collapsed": false,
    "ExecuteTime": {
     "end_time": "2025-04-09T08:17:59.888804400Z",
     "start_time": "2025-04-09T08:17:59.873791200Z"
    }
   },
   "id": "657c81e447111cb7"
  },
  {
   "cell_type": "code",
   "execution_count": 33,
   "outputs": [
    {
     "data": {
      "text/plain": "tensor([[0.9913, 1.5034, 1.9793, 0.9828, 2.2602, 3.9176, 1.4904, 1.9621, 2.9757]],\n       dtype=torch.float64, grad_fn=<StackBackward0>)"
     },
     "execution_count": 33,
     "metadata": {},
     "output_type": "execute_result"
    }
   ],
   "source": [
    "X_new"
   ],
   "metadata": {
    "collapsed": false,
    "ExecuteTime": {
     "end_time": "2025-04-09T08:18:02.555198300Z",
     "start_time": "2025-04-09T08:18:02.508492900Z"
    }
   },
   "id": "ce63cf01030bfd18"
  },
  {
   "cell_type": "code",
   "execution_count": 151,
   "outputs": [],
   "source": [
    "X=torch.cat((X,X_new))"
   ],
   "metadata": {
    "collapsed": false
   },
   "id": "1ce417101828326f"
  },
  {
   "cell_type": "code",
   "execution_count": 152,
   "outputs": [
    {
     "data": {
      "text/plain": "tensor([[1.0000, 1.5000, 2.0000, 1.0000, 2.2500, 4.0000, 1.5000, 2.0000, 3.0000],\n        [1.0510, 1.4848, 1.9958, 1.1047, 2.2047, 3.9831, 1.5606, 2.0976, 2.9634]],\n       grad_fn=<CatBackward0>)"
     },
     "execution_count": 152,
     "metadata": {},
     "output_type": "execute_result"
    }
   ],
   "source": [
    "X"
   ],
   "metadata": {
    "collapsed": false
   },
   "id": "a0fed99d3381c3d"
  },
  {
   "cell_type": "code",
   "execution_count": 153,
   "outputs": [],
   "source": [
    "X_new=X_new.float()"
   ],
   "metadata": {
    "collapsed": false
   },
   "id": "2f53380ea54ac16e"
  },
  {
   "cell_type": "code",
   "execution_count": 154,
   "outputs": [
    {
     "data": {
      "text/plain": "tensor([[1.0510, 1.4848, 1.9958, 1.1047, 2.2047, 3.9831, 1.5606, 2.0976, 2.9634]],\n       grad_fn=<ToCopyBackward0>)"
     },
     "execution_count": 154,
     "metadata": {},
     "output_type": "execute_result"
    }
   ],
   "source": [
    "X_new"
   ],
   "metadata": {
    "collapsed": false
   },
   "id": "27391f6b4df8b516"
  },
  {
   "cell_type": "code",
   "execution_count": 155,
   "outputs": [
    {
     "data": {
      "text/plain": "tensor([[1.0000, 1.5000, 2.0000, 1.0000, 2.2500, 4.0000, 1.5000, 2.0000, 3.0000],\n        [1.0510, 1.4848, 1.9958, 1.1047, 2.2047, 3.9831, 1.5606, 2.0976, 2.9634]],\n       grad_fn=<CatBackward0>)"
     },
     "execution_count": 155,
     "metadata": {},
     "output_type": "execute_result"
    }
   ],
   "source": [
    "X"
   ],
   "metadata": {
    "collapsed": false
   },
   "id": "f0f1519f62597860"
  },
  {
   "cell_type": "code",
   "execution_count": 74,
   "outputs": [],
   "source": [
    "times=[]\n",
    "time_ptr = [0]\n",
    "obs_idx = torch.tensor([], dtype=torch.long)\n",
    "delta_t=0.01\n",
    "T=0.01\n",
    "X = torch.empty(1,9)\n",
    "start_X0 = torch.tensor([[1.0], [1.5], [2.0], [1.0], [1.5**2], [4.0], [1.5], [2.0],[3.0]]).reshape(1,9)\n",
    "n_obs_ot=torch.tensor([0])"
   ],
   "metadata": {
    "collapsed": false,
    "ExecuteTime": {
     "end_time": "2025-04-10T10:28:00.299814600Z",
     "start_time": "2025-04-10T10:28:00.282813600Z"
    }
   },
   "id": "190a68f370d70772"
  },
  {
   "cell_type": "code",
   "execution_count": 75,
   "outputs": [],
   "source": [
    "current_time = 0.0\n",
    "for i in range(100):\n",
    "    mu_hat=get_mu_hat(times, time_ptr, obs_idx, delta_t, T, X, start_X0, n_obs_ot,1)\n",
    "    sigma_hat=get_sigma_hat(times, time_ptr, obs_idx, delta_t, T, X, start_X0, n_obs_ot,1)\n",
    "    vol_hat=model.sqrt_matrix(torch.from_numpy(sigma_hat))\n",
    "    X_t=model.generate_next_value(start_X[:,:3], mu_hat, vol_hat, delta_t)\n",
    "    start_X=model.generate_features(X_t)\n",
    "    start_X = start_X.float()\n",
    "    current_time+=delta_t\n",
    "    T+=delta_t\n",
    "    times=np.append(times,current_time)\n",
    "    time_ptr=np.append(time_ptr, len(obs_idx)+1)\n",
    "    obs_idx=torch.cat((obs_idx, torch.arange(start_X.shape[0], dtype=torch.long)))\n",
    "    if i==0:\n",
    "        X=start_X0\n",
    "    else:\n",
    "        X=torch.cat((X,start_X))\n",
    "    n_obs_ot+=1"
   ],
   "metadata": {
    "collapsed": false,
    "ExecuteTime": {
     "end_time": "2025-04-10T10:28:22.689465700Z",
     "start_time": "2025-04-10T10:28:04.899917900Z"
    }
   },
   "id": "d175b8b15beed58a"
  },
  {
   "cell_type": "code",
   "execution_count": 70,
   "outputs": [
    {
     "data": {
      "text/plain": "tensor([100])"
     },
     "execution_count": 70,
     "metadata": {},
     "output_type": "execute_result"
    }
   ],
   "source": [
    "n_obs_ot"
   ],
   "metadata": {
    "collapsed": false,
    "ExecuteTime": {
     "end_time": "2025-04-10T10:23:31.859223900Z",
     "start_time": "2025-04-10T10:23:31.839106200Z"
    }
   },
   "id": "ba1e3def2753474e"
  },
  {
   "cell_type": "code",
   "execution_count": 76,
   "outputs": [
    {
     "data": {
      "text/plain": "tensor([[0.8775, 1.5065, 1.9469, 0.7700, 2.2696, 3.7906, 1.3220, 1.7084, 2.9331],\n        [0.8781, 1.4909, 1.9379, 0.7711, 2.2228, 3.7554, 1.3092, 1.7017, 2.8892],\n        [0.8370, 1.4776, 1.9331, 0.7006, 2.1833, 3.7370, 1.2368, 1.6181, 2.8564],\n        [0.8725, 1.5407, 1.9660, 0.7613, 2.3736, 3.8653, 1.3443, 1.7155, 3.0290],\n        [0.9323, 1.5951, 1.9857, 0.8691, 2.5445, 3.9431, 1.4871, 1.8512, 3.1675],\n        [0.9488, 1.6053, 1.9926, 0.9002, 2.5770, 3.9706, 1.5231, 1.8906, 3.1988],\n        [0.9047, 1.6075, 2.0013, 0.8185, 2.5839, 4.0053, 1.4543, 1.8107, 3.2171],\n        [0.9207, 1.5971, 1.9916, 0.8477, 2.5507, 3.9663, 1.4705, 1.8337, 3.1807],\n        [0.8287, 1.5435, 1.9766, 0.6867, 2.3823, 3.9068, 1.2790, 1.6379, 3.0508],\n        [0.8157, 1.5310, 1.9712, 0.6654, 2.3439, 3.8857, 1.2488, 1.6080, 3.0179],\n        [0.7999, 1.4788, 1.9464, 0.6398, 2.1869, 3.7884, 1.1829, 1.5569, 2.8784],\n        [0.7573, 1.4211, 1.9414, 0.5734, 2.0194, 3.7692, 1.0761, 1.4702, 2.7589],\n        [0.7486, 1.4346, 1.9421, 0.5604, 2.0581, 3.7718, 1.0740, 1.4539, 2.7861],\n        [0.7573, 1.3934, 1.9346, 0.5735, 1.9417, 3.7426, 1.0552, 1.4651, 2.6957],\n        [0.7727, 1.3993, 1.9175, 0.5970, 1.9580, 3.6766, 1.0812, 1.4815, 2.6830],\n        [0.7866, 1.3765, 1.8958, 0.6188, 1.8948, 3.5942, 1.0828, 1.4913, 2.6097],\n        [0.7702, 1.4471, 1.9337, 0.5932, 2.0942, 3.7393, 1.1145, 1.4893, 2.7984],\n        [0.7730, 1.3366, 1.9053, 0.5976, 1.7865, 3.6302, 1.0332, 1.4729, 2.5466],\n        [0.7654, 1.3182, 1.9174, 0.5858, 1.7376, 3.6763, 1.0089, 1.4676, 2.5274],\n        [0.7609, 1.3261, 1.8957, 0.5790, 1.7585, 3.5939, 1.0090, 1.4425, 2.5139],\n        [0.7070, 1.3569, 1.9067, 0.4998, 1.8413, 3.6356, 0.9593, 1.3480, 2.5873],\n        [0.6952, 1.3821, 1.8914, 0.4833, 1.9101, 3.5775, 0.9608, 1.3150, 2.6141],\n        [0.7078, 1.3511, 1.8848, 0.5010, 1.8254, 3.5526, 0.9564, 1.3342, 2.5466],\n        [0.7210, 1.3867, 1.8645, 0.5199, 1.9229, 3.4764, 0.9998, 1.3444, 2.5855],\n        [0.7467, 1.3643, 1.8497, 0.5575, 1.8614, 3.4213, 1.0187, 1.3811, 2.5236],\n        [0.7053, 1.3611, 1.8619, 0.4974, 1.8526, 3.4665, 0.9599, 1.3131, 2.5342],\n        [0.6569, 1.3556, 1.8724, 0.4316, 1.8377, 3.5059, 0.8906, 1.2301, 2.5382],\n        [0.6018, 1.3302, 1.8852, 0.3622, 1.7696, 3.5539, 0.8006, 1.1345, 2.5077],\n        [0.6197, 1.3074, 1.8791, 0.3840, 1.7092, 3.5309, 0.8102, 1.1645, 2.4567],\n        [0.5191, 1.2349, 1.9058, 0.2694, 1.5251, 3.6320, 0.6410, 0.9893, 2.3535],\n        [0.5006, 1.2427, 1.9040, 0.2506, 1.5442, 3.6254, 0.6220, 0.9531, 2.3661],\n        [0.5094, 1.2455, 1.9003, 0.2595, 1.5513, 3.6111, 0.6345, 0.9681, 2.3668],\n        [0.5581, 1.2591, 1.8861, 0.3115, 1.5854, 3.5572, 0.7027, 1.0526, 2.3748],\n        [0.5478, 1.2343, 1.8856, 0.3001, 1.5235, 3.5557, 0.6761, 1.0329, 2.3274],\n        [0.5447, 1.1880, 1.8924, 0.2967, 1.4112, 3.5811, 0.6470, 1.0307, 2.2481],\n        [0.5510, 1.1692, 1.8927, 0.3036, 1.3669, 3.5821, 0.6442, 1.0428, 2.2128],\n        [0.5721, 1.1190, 1.8952, 0.3273, 1.2522, 3.5918, 0.6402, 1.0842, 2.1208],\n        [0.5110, 1.1274, 1.8961, 0.2611, 1.2711, 3.5950, 0.5762, 0.9689, 2.1377],\n        [0.5350, 1.1151, 1.8944, 0.2862, 1.2435, 3.5888, 0.5966, 1.0135, 2.1125],\n        [0.5886, 1.0964, 1.8926, 0.3464, 1.2022, 3.5818, 0.6453, 1.1139, 2.0751],\n        [0.5659, 1.0977, 1.8816, 0.3203, 1.2050, 3.5405, 0.6212, 1.0649, 2.0655],\n        [0.5831, 1.1097, 1.8803, 0.3400, 1.2314, 3.5354, 0.6470, 1.0964, 2.0865],\n        [0.5513, 1.0901, 1.8790, 0.3040, 1.1882, 3.5305, 0.6010, 1.0359, 2.0482],\n        [0.5457, 1.1280, 1.8735, 0.2978, 1.2723, 3.5101, 0.6155, 1.0223, 2.1133],\n        [0.5823, 1.1318, 1.8662, 0.3391, 1.2811, 3.4827, 0.6591, 1.0867, 2.1123],\n        [0.6070, 1.1182, 1.8603, 0.3685, 1.2503, 3.4607, 0.6788, 1.1292, 2.0801],\n        [0.6577, 1.1452, 1.8459, 0.4326, 1.3115, 3.4072, 0.7533, 1.2141, 2.1139],\n        [0.6460, 1.1368, 1.8417, 0.4173, 1.2924, 3.3919, 0.7343, 1.1897, 2.0937],\n        [0.6935, 1.1375, 1.8332, 0.4810, 1.2938, 3.3607, 0.7888, 1.2714, 2.0852],\n        [0.6289, 1.1458, 1.8343, 0.3955, 1.3130, 3.3646, 0.7206, 1.1535, 2.1018],\n        [0.6498, 1.1430, 1.8314, 0.4222, 1.3065, 3.3541, 0.7427, 1.1901, 2.0933],\n        [0.6887, 1.0442, 1.8382, 0.4743, 1.0904, 3.3789, 0.7192, 1.2659, 1.9195],\n        [0.6751, 1.0308, 1.8370, 0.4558, 1.0626, 3.3745, 0.6960, 1.2402, 1.8936],\n        [0.6566, 1.0555, 1.8313, 0.4311, 1.1140, 3.3538, 0.6930, 1.2024, 1.9329],\n        [0.6700, 1.0240, 1.8299, 0.4489, 1.0486, 3.3487, 0.6861, 1.2261, 1.8739],\n        [0.6325, 0.9876, 1.8322, 0.4001, 0.9753, 3.3570, 0.6247, 1.1590, 1.8094],\n        [0.6745, 1.0227, 1.8168, 0.4550, 1.0460, 3.3007, 0.6899, 1.2255, 1.8581],\n        [0.6270, 1.0265, 1.8102, 0.3931, 1.0537, 3.2769, 0.6436, 1.1350, 1.8582],\n        [0.6431, 1.0134, 1.8082, 0.4136, 1.0271, 3.2696, 0.6518, 1.1629, 1.8325],\n        [0.7362, 1.0497, 1.7964, 0.5420, 1.1019, 3.2272, 0.7728, 1.3226, 1.8858],\n        [0.6247, 1.0486, 1.7973, 0.3903, 1.0996, 3.2304, 0.6551, 1.1229, 1.8847],\n        [0.6800, 1.0601, 1.7862, 0.4624, 1.1239, 3.1904, 0.7209, 1.2146, 1.8935],\n        [0.6828, 1.0167, 1.7857, 0.4662, 1.0337, 3.1888, 0.6942, 1.2192, 1.8156],\n        [0.6323, 0.9474, 1.7877, 0.3999, 0.8976, 3.1957, 0.5991, 1.1304, 1.6937],\n        [0.7166, 0.9089, 1.7853, 0.5135, 0.8260, 3.1871, 0.6513, 1.2793, 1.6226],\n        [0.7339, 0.9829, 1.7745, 0.5387, 0.9660, 3.1487, 0.7214, 1.3023, 1.7441],\n        [0.7405, 1.0394, 1.7625, 0.5484, 1.0803, 3.1065, 0.7697, 1.3052, 1.8319],\n        [0.6922, 1.0634, 1.7584, 0.4791, 1.1308, 3.0920, 0.7361, 1.2172, 1.8699],\n        [0.6851, 1.1263, 1.7495, 0.4694, 1.2685, 3.0607, 0.7717, 1.1987, 1.9704],\n        [0.6722, 1.0745, 1.7570, 0.4518, 1.1545, 3.0871, 0.7222, 1.1810, 1.8878],\n        [0.6447, 1.0178, 1.7607, 0.4156, 1.0358, 3.1001, 0.6562, 1.1351, 1.7920],\n        [0.6696, 1.0006, 1.7629, 0.4484, 1.0012, 3.1077, 0.6700, 1.1804, 1.7639],\n        [0.6570, 1.0681, 1.7505, 0.4317, 1.1407, 3.0643, 0.7017, 1.1501, 1.8696],\n        [0.6952, 1.0480, 1.7445, 0.4833, 1.0982, 3.0434, 0.7286, 1.2128, 1.8282],\n        [0.6934, 1.0213, 1.7406, 0.4808, 1.0431, 3.0297, 0.7082, 1.2070, 1.7777],\n        [0.6199, 1.0091, 1.7346, 0.3842, 1.0182, 3.0089, 0.6255, 1.0752, 1.7503],\n        [0.6663, 0.9953, 1.7312, 0.4440, 0.9907, 2.9970, 0.6632, 1.1535, 1.7231],\n        [0.5914, 0.9645, 1.7373, 0.3498, 0.9303, 3.0181, 0.5704, 1.0274, 1.6756],\n        [0.5910, 0.9116, 1.7387, 0.3492, 0.8310, 3.0229, 0.5387, 1.0275, 1.5850],\n        [0.6423, 0.9473, 1.7292, 0.4125, 0.8974, 2.9900, 0.6084, 1.1106, 1.6381],\n        [0.6173, 0.9919, 1.7248, 0.3811, 0.9838, 2.9749, 0.6123, 1.0647, 1.7108],\n        [0.5939, 0.9965, 1.7200, 0.3527, 0.9929, 2.9584, 0.5918, 1.0215, 1.7139],\n        [0.6518, 0.9729, 1.7209, 0.4248, 0.9466, 2.9615, 0.6341, 1.1216, 1.6744],\n        [0.6476, 0.8523, 1.7262, 0.4194, 0.7264, 2.9797, 0.5520, 1.1179, 1.4712],\n        [0.7323, 0.7550, 1.7275, 0.5362, 0.5701, 2.9841, 0.5529, 1.2650, 1.3043],\n        [0.6836, 0.7679, 1.7253, 0.4673, 0.5897, 2.9768, 0.5249, 1.1794, 1.3249],\n        [0.6128, 0.6935, 1.7292, 0.3755, 0.4809, 2.9901, 0.4250, 1.0597, 1.1992],\n        [0.5173, 0.6271, 1.7316, 0.2676, 0.3933, 2.9986, 0.3244, 0.8959, 1.0859],\n        [0.3559, 0.5770, 1.7360, 0.1267, 0.3330, 3.0137, 0.2054, 0.6179, 1.0018],\n        [0.2728, 0.4741, 1.7408, 0.0744, 0.2248, 3.0303, 0.1293, 0.4749, 0.8254],\n        [0.2555, 0.4868, 1.7372, 0.0653, 0.2370, 3.0178, 0.1244, 0.4438, 0.8457],\n        [0.2724, 0.3857, 1.7415, 0.0742, 0.1488, 3.0327, 0.1051, 0.4745, 0.6717],\n        [0.2515, 0.3636, 1.7367, 0.0632, 0.1322, 3.0162, 0.0914, 0.4367, 0.6315],\n        [0.1884, 0.4002, 1.7314, 0.0355, 0.1602, 2.9976, 0.0754, 0.3262, 0.6930],\n        [0.1838, 0.5808, 1.7216, 0.0338, 0.3373, 2.9639, 0.1067, 0.3164, 0.9999],\n        [0.2382, 0.6528, 1.7103, 0.0567, 0.4262, 2.9251, 0.1555, 0.4074, 1.1166],\n        [0.3641, 0.5908, 1.7127, 0.1326, 0.3490, 2.9334, 0.2151, 0.6236, 1.0118],\n        [0.3256, 0.6544, 1.7065, 0.1060, 0.4282, 2.9120, 0.2131, 0.5556, 1.1167],\n        [0.3141, 0.5583, 1.7107, 0.0986, 0.3118, 2.9266, 0.1754, 0.5373, 0.9552],\n        [0.2281, 0.5898, 1.7043, 0.0520, 0.3479, 2.9048, 0.1345, 0.3888, 1.0053]],\n       grad_fn=<CatBackward0>)"
     },
     "execution_count": 76,
     "metadata": {},
     "output_type": "execute_result"
    }
   ],
   "source": [
    "X"
   ],
   "metadata": {
    "collapsed": false,
    "ExecuteTime": {
     "end_time": "2025-04-10T10:28:53.140837Z",
     "start_time": "2025-04-10T10:28:53.107790800Z"
    }
   },
   "id": "84573b5e315f634c"
  },
  {
   "cell_type": "code",
   "execution_count": 66,
   "outputs": [
    {
     "data": {
      "text/plain": "array([0.01, 0.02, 0.03, 0.04, 0.05, 0.06, 0.07, 0.08, 0.09, 0.1 , 0.11,\n       0.12, 0.13, 0.14, 0.15, 0.16, 0.17, 0.18, 0.19, 0.2 , 0.21, 0.22,\n       0.23, 0.24, 0.25, 0.26, 0.27, 0.28, 0.29, 0.3 , 0.31, 0.32, 0.33,\n       0.34, 0.35, 0.36, 0.37, 0.38, 0.39, 0.4 , 0.41, 0.42, 0.43, 0.44,\n       0.45, 0.46, 0.47, 0.48, 0.49, 0.5 , 0.51, 0.52, 0.53, 0.54, 0.55,\n       0.56, 0.57, 0.58, 0.59, 0.6 , 0.61, 0.62, 0.63, 0.64, 0.65, 0.66,\n       0.67, 0.68, 0.69, 0.7 , 0.71, 0.72, 0.73, 0.74, 0.75, 0.76, 0.77,\n       0.78, 0.79, 0.8 , 0.81, 0.82, 0.83, 0.84, 0.85, 0.86, 0.87, 0.88,\n       0.89, 0.9 , 0.91, 0.92, 0.93, 0.94, 0.95, 0.96, 0.97, 0.98, 0.99,\n       1.  ])"
     },
     "execution_count": 66,
     "metadata": {},
     "output_type": "execute_result"
    }
   ],
   "source": [
    "times"
   ],
   "metadata": {
    "collapsed": false,
    "ExecuteTime": {
     "end_time": "2025-04-10T10:22:25.191644400Z",
     "start_time": "2025-04-10T10:22:25.154271Z"
    }
   },
   "id": "5b18b33dd385604"
  },
  {
   "cell_type": "code",
   "execution_count": 67,
   "outputs": [
    {
     "data": {
      "text/plain": "array([  0,   1,   2,   3,   4,   5,   6,   7,   8,   9,  10,  11,  12,\n        13,  14,  15,  16,  17,  18,  19,  20,  21,  22,  23,  24,  25,\n        26,  27,  28,  29,  30,  31,  32,  33,  34,  35,  36,  37,  38,\n        39,  40,  41,  42,  43,  44,  45,  46,  47,  48,  49,  50,  51,\n        52,  53,  54,  55,  56,  57,  58,  59,  60,  61,  62,  63,  64,\n        65,  66,  67,  68,  69,  70,  71,  72,  73,  74,  75,  76,  77,\n        78,  79,  80,  81,  82,  83,  84,  85,  86,  87,  88,  89,  90,\n        91,  92,  93,  94,  95,  96,  97,  98,  99, 100])"
     },
     "execution_count": 67,
     "metadata": {},
     "output_type": "execute_result"
    }
   ],
   "source": [
    "time_ptr"
   ],
   "metadata": {
    "collapsed": false,
    "ExecuteTime": {
     "end_time": "2025-04-10T10:22:30.185217400Z",
     "start_time": "2025-04-10T10:22:30.153343900Z"
    }
   },
   "id": "3f79ac91c8eab6d6"
  },
  {
   "cell_type": "code",
   "execution_count": 38,
   "outputs": [
    {
     "data": {
      "text/plain": "torch.Size([100])"
     },
     "execution_count": 38,
     "metadata": {},
     "output_type": "execute_result"
    }
   ],
   "source": [
    "obs_idx.shape"
   ],
   "metadata": {
    "collapsed": false,
    "ExecuteTime": {
     "end_time": "2025-04-10T10:07:01.108978400Z",
     "start_time": "2025-04-10T10:07:01.077697500Z"
    }
   },
   "id": "eacb76f7964b05b0"
  },
  {
   "cell_type": "code",
   "execution_count": 46,
   "outputs": [
    {
     "data": {
      "text/plain": "torch.Size([101, 9])"
     },
     "execution_count": 46,
     "metadata": {},
     "output_type": "execute_result"
    }
   ],
   "source": [
    "X.shape"
   ],
   "metadata": {
    "collapsed": false,
    "ExecuteTime": {
     "end_time": "2025-04-10T10:10:31.755162500Z",
     "start_time": "2025-04-10T10:10:31.708190300Z"
    }
   },
   "id": "a6cc1f359e9245e9"
  },
  {
   "cell_type": "code",
   "execution_count": 47,
   "outputs": [
    {
     "data": {
      "text/plain": "tensor([[1.0000, 1.5000, 2.0000, 1.0000, 2.2500, 4.0000, 1.5000, 2.0000, 3.0000],\n        [1.0465, 1.4612, 2.0657, 1.0951, 2.1352, 4.2671, 1.5291, 2.1617, 3.0184],\n        [1.0030, 1.4858, 2.0146, 1.0061, 2.2075, 4.0587, 1.4903, 2.0207, 2.9932],\n        [0.9468, 1.4541, 2.0022, 0.8964, 2.1143, 4.0087, 1.3767, 1.8956, 2.9113],\n        [0.9222, 1.4913, 2.0318, 0.8505, 2.2239, 4.1281, 1.3753, 1.8737, 3.0300],\n        [0.9339, 1.4703, 2.0356, 0.8723, 2.1618, 4.1438, 1.3732, 1.9012, 2.9930],\n        [0.9094, 1.4442, 2.0210, 0.8270, 2.0857, 4.0845, 1.3134, 1.8379, 2.9188],\n        [0.9129, 1.4390, 2.0062, 0.8334, 2.0708, 4.0248, 1.3137, 1.8314, 2.8870],\n        [0.9214, 1.4460, 2.0114, 0.8489, 2.0910, 4.0457, 1.3323, 1.8532, 2.9085],\n        [0.9018, 1.4364, 1.9961, 0.8133, 2.0632, 3.9842, 1.2953, 1.8000, 2.8671],\n        [0.9095, 1.4457, 2.0146, 0.8272, 2.0899, 4.0587, 1.3148, 1.8323, 2.9124],\n        [0.9016, 1.4422, 2.0054, 0.8129, 2.0800, 4.0215, 1.3003, 1.8080, 2.8922],\n        [0.9075, 1.4461, 2.0100, 0.8235, 2.0913, 4.0400, 1.3123, 1.8240, 2.9067],\n        [0.9212, 1.4528, 2.0161, 0.8487, 2.1106, 4.0646, 1.3383, 1.8573, 2.9289],\n        [0.9234, 1.4588, 2.0126, 0.8527, 2.1282, 4.0507, 1.3471, 1.8585, 2.9361],\n        [0.9078, 1.4546, 2.0160, 0.8242, 2.1159, 4.0641, 1.3206, 1.8302, 2.9324],\n        [0.9313, 1.4785, 2.0355, 0.8673, 2.1858, 4.1432, 1.3768, 1.8956, 3.0094],\n        [0.9187, 1.4794, 2.0449, 0.8440, 2.1887, 4.1816, 1.3591, 1.8786, 3.0253],\n        [0.9135, 1.4764, 2.0428, 0.8344, 2.1798, 4.1730, 1.3487, 1.8661, 3.0160],\n        [0.9155, 1.4776, 2.0440, 0.8381, 2.1834, 4.1778, 1.3527, 1.8712, 3.0202],\n        [0.9054, 1.4714, 2.0386, 0.8198, 2.1650, 4.1559, 1.3322, 1.8458, 2.9996],\n        [0.9228, 1.4817, 2.0407, 0.8516, 2.1953, 4.1646, 1.3673, 1.8832, 3.0237],\n        [0.9193, 1.4813, 2.0454, 0.8451, 2.1944, 4.1835, 1.3618, 1.8803, 3.0299],\n        [0.8950, 1.4681, 2.0288, 0.8010, 2.1552, 4.1161, 1.3139, 1.8157, 2.9784],\n        [0.8898, 1.4610, 2.0294, 0.7917, 2.1346, 4.1185, 1.3000, 1.8058, 2.9650],\n        [0.8968, 1.4650, 2.0323, 0.8043, 2.1461, 4.1301, 1.3139, 1.8226, 2.9772],\n        [0.8888, 1.4585, 2.0219, 0.7900, 2.1271, 4.0880, 1.2964, 1.7971, 2.9489],\n        [0.8870, 1.4589, 2.0245, 0.7867, 2.1283, 4.0987, 1.2940, 1.7957, 2.9535],\n        [0.8921, 1.4630, 2.0266, 0.7959, 2.1403, 4.1072, 1.3052, 1.8081, 2.9649],\n        [0.8965, 1.4616, 2.0228, 0.8037, 2.1362, 4.0918, 1.3103, 1.8135, 2.9565],\n        [0.9038, 1.4662, 2.0245, 0.8168, 2.1499, 4.0985, 1.3252, 1.8297, 2.9684],\n        [0.8904, 1.4566, 2.0111, 0.7928, 2.1218, 4.0443, 1.2970, 1.7906, 2.9294],\n        [0.8922, 1.4572, 2.0160, 0.7960, 2.1234, 4.0641, 1.3001, 1.7986, 2.9377],\n        [0.8763, 1.4477, 2.0012, 0.7678, 2.0959, 4.0049, 1.2686, 1.7536, 2.8972],\n        [0.8760, 1.4432, 1.9970, 0.7674, 2.0829, 3.9879, 1.2643, 1.7493, 2.8821],\n        [0.8769, 1.4416, 1.9936, 0.7690, 2.0782, 3.9745, 1.2642, 1.7483, 2.8740],\n        [0.8867, 1.4457, 1.9941, 0.7862, 2.0899, 3.9764, 1.2819, 1.7682, 2.8828],\n        [0.8865, 1.4459, 1.9933, 0.7859, 2.0906, 3.9734, 1.2818, 1.7671, 2.8822],\n        [0.9084, 1.4563, 2.0025, 0.8252, 2.1209, 4.0098, 1.3230, 1.8190, 2.9163],\n        [0.9147, 1.4642, 2.0099, 0.8367, 2.1438, 4.0396, 1.3393, 1.8384, 2.9428],\n        [0.9131, 1.4647, 2.0104, 0.8338, 2.1454, 4.0416, 1.3375, 1.8358, 2.9447],\n        [0.9066, 1.4619, 2.0048, 0.8219, 2.1371, 4.0194, 1.3253, 1.8176, 2.9309],\n        [0.8995, 1.4584, 2.0008, 0.8091, 2.1270, 4.0032, 1.3119, 1.7997, 2.9180],\n        [0.8982, 1.4562, 1.9986, 0.8067, 2.1204, 3.9946, 1.3079, 1.7951, 2.9103],\n        [0.8920, 1.4540, 1.9974, 0.7957, 2.1142, 3.9894, 1.2971, 1.7817, 2.9042],\n        [0.8962, 1.4579, 2.0017, 0.8032, 2.1253, 4.0069, 1.3066, 1.7940, 2.9182],\n        [0.8916, 1.4541, 1.9952, 0.7949, 2.1144, 3.9807, 1.2965, 1.7789, 2.9012],\n        [0.9019, 1.4600, 2.0054, 0.8135, 2.1316, 4.0215, 1.3168, 1.8087, 2.9278],\n        [0.8970, 1.4567, 1.9957, 0.8046, 2.1220, 3.9829, 1.3067, 1.7901, 2.9072],\n        [0.9037, 1.4588, 1.9965, 0.8167, 2.1282, 3.9860, 1.3183, 1.8042, 2.9126],\n        [0.9066, 1.4578, 1.9958, 0.8219, 2.1252, 3.9834, 1.3216, 1.8094, 2.9096],\n        [0.9125, 1.4604, 2.0001, 0.8327, 2.1328, 4.0005, 1.3326, 1.8251, 2.9210],\n        [0.9097, 1.4601, 2.0026, 0.8276, 2.1318, 4.0103, 1.3283, 1.8218, 2.9239],\n        [0.9111, 1.4596, 1.9949, 0.8301, 2.1303, 3.9797, 1.3298, 1.8176, 2.9117],\n        [0.9142, 1.4612, 1.9956, 0.8358, 2.1352, 3.9824, 1.3359, 1.8244, 2.9161],\n        [0.9180, 1.4624, 1.9994, 0.8427, 2.1386, 3.9977, 1.3425, 1.8355, 2.9239],\n        [0.9087, 1.4593, 1.9964, 0.8257, 2.1297, 3.9855, 1.3261, 1.8141, 2.9134],\n        [0.9155, 1.4619, 1.9973, 0.8382, 2.1372, 3.9892, 1.3384, 1.8286, 2.9199],\n        [0.9148, 1.4601, 1.9920, 0.8369, 2.1319, 3.9680, 1.3357, 1.8223, 2.9085],\n        [0.9163, 1.4604, 1.9927, 0.8397, 2.1328, 3.9710, 1.3382, 1.8260, 2.9102],\n        [0.9085, 1.4588, 1.9936, 0.8254, 2.1280, 3.9746, 1.3253, 1.8112, 2.9083],\n        [0.9169, 1.4653, 2.0003, 0.8406, 2.1471, 4.0011, 1.3435, 1.8340, 2.9310],\n        [0.9129, 1.4624, 1.9955, 0.8335, 2.1387, 3.9822, 1.3351, 1.8218, 2.9183],\n        [0.9235, 1.4677, 2.0002, 0.8528, 2.1541, 4.0006, 1.3554, 1.8471, 2.9356],\n        [0.9241, 1.4675, 2.0022, 0.8539, 2.1535, 4.0089, 1.3561, 1.8502, 2.9382],\n        [0.9249, 1.4674, 1.9982, 0.8554, 2.1533, 3.9926, 1.3572, 1.8480, 2.9321],\n        [0.9291, 1.4709, 2.0071, 0.8632, 2.1634, 4.0283, 1.3666, 1.8648, 2.9521],\n        [0.9279, 1.4696, 2.0053, 0.8611, 2.1596, 4.0211, 1.3637, 1.8608, 2.9468],\n        [0.9317, 1.4698, 2.0041, 0.8680, 2.1602, 4.0165, 1.3693, 1.8672, 2.9456],\n        [0.9320, 1.4709, 2.0065, 0.8687, 2.1636, 4.0261, 1.3709, 1.8701, 2.9514],\n        [0.9258, 1.4699, 2.0077, 0.8571, 2.1605, 4.0307, 1.3608, 1.8587, 2.9510],\n        [0.9255, 1.4683, 2.0095, 0.8566, 2.1559, 4.0383, 1.3590, 1.8599, 2.9506],\n        [0.9317, 1.4707, 2.0129, 0.8681, 2.1629, 4.0518, 1.3702, 1.8754, 2.9604],\n        [0.9264, 1.4691, 2.0089, 0.8582, 2.1583, 4.0357, 1.3610, 1.8610, 2.9513],\n        [0.9380, 1.4737, 2.0152, 0.8799, 2.1719, 4.0609, 1.3824, 1.8903, 2.9698],\n        [0.9381, 1.4752, 2.0181, 0.8801, 2.1761, 4.0726, 1.3839, 1.8932, 2.9770],\n        [0.9386, 1.4745, 2.0157, 0.8809, 2.1741, 4.0631, 1.3839, 1.8919, 2.9721],\n        [0.9416, 1.4745, 2.0128, 0.8865, 2.1741, 4.0513, 1.3883, 1.8951, 2.9678],\n        [0.9445, 1.4750, 2.0148, 0.8922, 2.1757, 4.0594, 1.3932, 1.9031, 2.9719],\n        [0.9454, 1.4757, 2.0157, 0.8937, 2.1777, 4.0629, 1.3951, 1.9056, 2.9745],\n        [0.9530, 1.4773, 2.0196, 0.9083, 2.1824, 4.0789, 1.4079, 1.9248, 2.9836],\n        [0.9495, 1.4752, 2.0155, 0.9016, 2.1761, 4.0624, 1.4007, 1.9138, 2.9732],\n        [0.9618, 1.4772, 2.0223, 0.9250, 2.1820, 4.0898, 1.4207, 1.9451, 2.9873],\n        [0.9587, 1.4768, 2.0241, 0.9191, 2.1809, 4.0968, 1.4158, 1.9405, 2.9891],\n        [0.9593, 1.4761, 2.0221, 0.9203, 2.1789, 4.0891, 1.4161, 1.9399, 2.9849],\n        [0.9511, 1.4747, 2.0213, 0.9046, 2.1746, 4.0855, 1.4025, 1.9224, 2.9807],\n        [0.9442, 1.4731, 2.0206, 0.8915, 2.1700, 4.0828, 1.3909, 1.9078, 2.9765],\n        [0.9457, 1.4733, 2.0215, 0.8943, 2.1706, 4.0866, 1.3933, 1.9117, 2.9784],\n        [0.9477, 1.4734, 2.0219, 0.8981, 2.1708, 4.0881, 1.3963, 1.9161, 2.9790],\n        [0.9421, 1.4718, 2.0164, 0.8875, 2.1661, 4.0659, 1.3865, 1.8996, 2.9677],\n        [0.9413, 1.4708, 2.0165, 0.8860, 2.1634, 4.0664, 1.3845, 1.8981, 2.9660],\n        [0.9442, 1.4718, 2.0172, 0.8914, 2.1661, 4.0693, 1.3896, 1.9046, 2.9689],\n        [0.9416, 1.4719, 2.0163, 0.8866, 2.1666, 4.0655, 1.3860, 1.8985, 2.9679],\n        [0.9411, 1.4725, 2.0173, 0.8856, 2.1682, 4.0696, 1.3857, 1.8984, 2.9705],\n        [0.9530, 1.4747, 2.0199, 0.9082, 2.1747, 4.0801, 1.4054, 1.9250, 2.9787],\n        [0.9497, 1.4730, 2.0162, 0.9019, 2.1697, 4.0650, 1.3989, 1.9147, 2.9698],\n        [0.9479, 1.4730, 2.0104, 0.8986, 2.1696, 4.0419, 1.3962, 1.9057, 2.9613],\n        [0.9379, 1.4712, 2.0025, 0.8797, 2.1645, 4.0098, 1.3799, 1.8782, 2.9461],\n        [0.9280, 1.4669, 1.9990, 0.8611, 2.1517, 3.9960, 1.3612, 1.8550, 2.9323],\n        [0.9309, 1.4690, 2.0008, 0.8666, 2.1579, 4.0034, 1.3675, 1.8627, 2.9392],\n        [0.9319, 1.4690, 2.0011, 0.8685, 2.1581, 4.0044, 1.3691, 1.8649, 2.9397]],\n       grad_fn=<CatBackward0>)"
     },
     "execution_count": 47,
     "metadata": {},
     "output_type": "execute_result"
    }
   ],
   "source": [
    "X"
   ],
   "metadata": {
    "collapsed": false,
    "ExecuteTime": {
     "end_time": "2025-04-10T10:10:55.524659100Z",
     "start_time": "2025-04-10T10:10:55.480078100Z"
    }
   },
   "id": "c34c9faeba3d7e4c"
  },
  {
   "cell_type": "code",
   "execution_count": 143,
   "outputs": [
    {
     "data": {
      "text/plain": "tensor([[1.0000, 1.0477, 1.1572, 0.9182, 0.8390, 0.9407, 0.9270, 0.9601, 0.9868,\n         1.0228, 0.9817, 0.9721, 0.9556, 0.9788, 0.9535, 0.9583, 0.9601, 0.9269,\n         0.9278, 0.9337, 0.9348, 0.9392, 0.9498, 0.9476, 0.9616, 0.9815, 0.9881,\n         0.9833, 1.0100, 1.0128, 0.9947, 1.0030, 1.0066, 1.0047, 1.0160, 1.0126,\n         1.0177, 1.0178, 1.0171, 1.0206, 1.0071, 1.0077, 1.0163, 1.0314, 1.0382,\n         1.0534, 1.0671, 1.0707, 1.0810, 1.0904, 1.0832, 1.0838, 1.0854, 1.1015,\n         1.1160, 1.0992, 1.0982, 1.0815, 1.0811, 1.0815, 1.0772, 1.0749, 1.0749,\n         1.0768, 1.0731, 1.0676, 1.0712, 1.0825, 1.0813, 1.0796, 1.0693, 1.0534,\n         1.0483, 1.0448, 1.0428, 1.0544, 1.0556, 1.0576, 1.0519, 1.0547, 1.0576,\n         1.0612, 1.0595, 1.0594, 1.0575, 1.0664, 1.0730, 1.0578, 1.0563, 1.0531,\n         1.0496, 1.0462, 1.0497, 1.0492, 1.0487, 1.0381, 1.0365, 1.0330, 1.0250,\n         1.0293, 1.0294],\n        [1.5000, 1.4935, 1.4875, 1.4930, 1.5004, 1.4833, 1.4683, 1.4733, 1.5069,\n         1.5300, 1.5115, 1.5132, 1.5092, 1.5285, 1.5251, 1.5217, 1.5244, 1.5157,\n         1.5350, 1.5435, 1.5430, 1.5385, 1.5455, 1.5478, 1.5540, 1.5625, 1.5707,\n         1.5720, 1.5770, 1.5815, 1.5732, 1.5782, 1.5805, 1.5809, 1.5813, 1.5789,\n         1.5798, 1.5825, 1.5815, 1.5825, 1.5800, 1.5775, 1.5803, 1.5823, 1.5830,\n         1.5852, 1.5909, 1.5885, 1.5890, 1.5937, 1.5918, 1.5955, 1.5949, 1.6056,\n         1.6066, 1.6030, 1.5996, 1.5959, 1.5944, 1.5944, 1.5932, 1.5913, 1.5901,\n         1.5900, 1.5877, 1.5781, 1.5810, 1.5921, 1.5926, 1.5953, 1.5867, 1.5865,\n         1.5844, 1.5830, 1.5838, 1.5836, 1.5833, 1.5848, 1.5747, 1.5781, 1.5831,\n         1.5858, 1.5851, 1.5857, 1.5904, 1.5879, 1.5862, 1.5815, 1.5852, 1.5843,\n         1.5845, 1.5830, 1.5839, 1.5812, 1.5801, 1.5715, 1.5757, 1.5725, 1.5733,\n         1.5738, 1.5724],\n        [2.0000, 2.0025, 2.0292, 2.0185, 1.9986, 2.0019, 1.9908, 1.9952, 2.0311,\n         2.0457, 2.0150, 2.0038, 2.0062, 2.0105, 2.0053, 2.0137, 2.0109, 1.9980,\n         2.0103, 2.0154, 2.0062, 1.9971, 1.9991, 1.9981, 2.0027, 2.0094, 2.0096,\n         2.0057, 2.0112, 2.0109, 2.0069, 2.0123, 2.0164, 2.0123, 2.0133, 2.0152,\n         2.0169, 2.0135, 2.0174, 2.0163, 2.0175, 2.0135, 2.0209, 2.0272, 2.0314,\n         2.0399, 2.0436, 2.0424, 2.0450, 2.0425, 2.0408, 2.0464, 2.0461, 2.0527,\n         2.0615, 2.0582, 2.0570, 2.0543, 2.0554, 2.0558, 2.0544, 2.0539, 2.0646,\n         2.0604, 2.0617, 2.0559, 2.0493, 2.0603, 2.0660, 2.0663, 2.0597, 2.0556,\n         2.0542, 2.0525, 2.0517, 2.0549, 2.0548, 2.0561, 2.0558, 2.0522, 2.0433,\n         2.0436, 2.0408, 2.0465, 2.0513, 2.0556, 2.0610, 2.0534, 2.0535, 2.0531,\n         2.0516, 2.0519, 2.0511, 2.0553, 2.0520, 2.0387, 2.0342, 2.0338, 2.0311,\n         2.0339, 2.0370],\n        [1.0000, 1.0977, 1.3390, 0.8431, 0.7040, 0.8850, 0.8593, 0.9219, 0.9738,\n         1.0461, 0.9637, 0.9450, 0.9132, 0.9581, 0.9091, 0.9183, 0.9217, 0.8592,\n         0.8609, 0.8719, 0.8738, 0.8821, 0.9021, 0.8980, 0.9246, 0.9633, 0.9763,\n         0.9670, 1.0200, 1.0258, 0.9894, 1.0060, 1.0132, 1.0094, 1.0322, 1.0253,\n         1.0358, 1.0360, 1.0345, 1.0416, 1.0142, 1.0155, 1.0329, 1.0637, 1.0778,\n         1.1096, 1.1386, 1.1465, 1.1685, 1.1890, 1.1734, 1.1745, 1.1781, 1.2133,\n         1.2454, 1.2083, 1.2060, 1.1697, 1.1687, 1.1696, 1.1603, 1.1553, 1.1555,\n         1.1595, 1.1515, 1.1398, 1.1474, 1.1718, 1.1691, 1.1655, 1.1434, 1.1097,\n         1.0989, 1.0917, 1.0873, 1.1118, 1.1143, 1.1185, 1.1064, 1.1124, 1.1184,\n         1.1262, 1.1226, 1.1223, 1.1182, 1.1373, 1.1514, 1.1190, 1.1158, 1.1091,\n         1.1017, 1.0944, 1.1019, 1.1009, 1.0998, 1.0776, 1.0744, 1.0671, 1.0507,\n         1.0596, 1.0596],\n        [2.2500, 2.2307, 2.2126, 2.2292, 2.2512, 2.2003, 2.1559, 2.1706, 2.2707,\n         2.3409, 2.2845, 2.2899, 2.2777, 2.3362, 2.3259, 2.3154, 2.3237, 2.2974,\n         2.3563, 2.3824, 2.3809, 2.3671, 2.3885, 2.3957, 2.4151, 2.4414, 2.4670,\n         2.4711, 2.4868, 2.5011, 2.4750, 2.4907, 2.4978, 2.4992, 2.5004, 2.4929,\n         2.4959, 2.5044, 2.5013, 2.5044, 2.4963, 2.4884, 2.4974, 2.5037, 2.5060,\n         2.5130, 2.5309, 2.5232, 2.5250, 2.5399, 2.5338, 2.5455, 2.5439, 2.5779,\n         2.5813, 2.5695, 2.5587, 2.5468, 2.5421, 2.5420, 2.5382, 2.5322, 2.5284,\n         2.5280, 2.5209, 2.4904, 2.4994, 2.5347, 2.5364, 2.5448, 2.5175, 2.5169,\n         2.5103, 2.5059, 2.5084, 2.5079, 2.5069, 2.5116, 2.4797, 2.4904, 2.5064,\n         2.5146, 2.5124, 2.5145, 2.5294, 2.5215, 2.5161, 2.5012, 2.5130, 2.5099,\n         2.5106, 2.5057, 2.5088, 2.5002, 2.4968, 2.4695, 2.4829, 2.4727, 2.4753,\n         2.4768, 2.4723],\n        [4.0000, 4.0099, 4.1177, 4.0742, 3.9944, 4.0074, 3.9634, 3.9807, 4.1254,\n         4.1851, 4.0603, 4.0151, 4.0249, 4.0420, 4.0212, 4.0548, 4.0437, 3.9921,\n         4.0415, 4.0618, 4.0248, 3.9884, 3.9964, 3.9923, 4.0109, 4.0377, 4.0385,\n         4.0228, 4.0448, 4.0436, 4.0275, 4.0492, 4.0658, 4.0493, 4.0534, 4.0611,\n         4.0680, 4.0541, 4.0698, 4.0654, 4.0702, 4.0540, 4.0840, 4.1094, 4.1265,\n         4.1612, 4.1761, 4.1713, 4.1821, 4.1719, 4.1650, 4.1878, 4.1865, 4.2135,\n         4.2497, 4.2363, 4.2313, 4.2200, 4.2245, 4.2265, 4.2205, 4.2186, 4.2624,\n         4.2452, 4.2506, 4.2269, 4.1994, 4.2449, 4.2683, 4.2695, 4.2423, 4.2255,\n         4.2196, 4.2126, 4.2093, 4.2227, 4.2221, 4.2275, 4.2264, 4.2115, 4.1749,\n         4.1762, 4.1650, 4.1883, 4.2079, 4.2253, 4.2476, 4.2164, 4.2169, 4.2153,\n         4.2089, 4.2101, 4.2071, 4.2242, 4.2107, 4.1564, 4.1379, 4.1364, 4.1253,\n         4.1368, 4.1493],\n        [1.5000, 1.5648, 1.7212, 1.3709, 1.2589, 1.3954, 1.3611, 1.4146, 1.4870,\n         1.5649, 1.4838, 1.4710, 1.4422, 1.4961, 1.4541, 1.4581, 1.4635, 1.4050,\n         1.4242, 1.4413, 1.4424, 1.4450, 1.4679, 1.4667, 1.4943, 1.5335, 1.5519,\n         1.5458, 1.5927, 1.6018, 1.5649, 1.5829, 1.5908, 1.5883, 1.6065, 1.5988,\n         1.6079, 1.6107, 1.6086, 1.6151, 1.5912, 1.5896, 1.6061, 1.6320, 1.6435,\n         1.6698, 1.6976, 1.7008, 1.7177, 1.7378, 1.7243, 1.7291, 1.7312, 1.7685,\n         1.7930, 1.7621, 1.7566, 1.7260, 1.7237, 1.7243, 1.7161, 1.7104, 1.7092,\n         1.7121, 1.7038, 1.6848, 1.6935, 1.7234, 1.7220, 1.7222, 1.6966, 1.6712,\n         1.6609, 1.6540, 1.6515, 1.6698, 1.6714, 1.6761, 1.6564, 1.6645, 1.6743,\n         1.6829, 1.6794, 1.6799, 1.6818, 1.6934, 1.7021, 1.6730, 1.6745, 1.6684,\n         1.6631, 1.6560, 1.6627, 1.6590, 1.6571, 1.6313, 1.6332, 1.6244, 1.6127,\n         1.6200, 1.6185],\n        [2.0000, 2.0980, 2.3481, 1.8534, 1.6769, 1.8832, 1.8454, 1.9156, 2.0043,\n         2.0924, 1.9781, 1.9479, 1.9172, 1.9679, 1.9120, 1.9296, 1.9306, 1.8520,\n         1.8653, 1.8819, 1.8753, 1.8757, 1.8988, 1.8934, 1.9258, 1.9721, 1.9856,\n         1.9723, 2.0312, 2.0367, 1.9962, 2.0183, 2.0296, 2.0217, 2.0454, 2.0406,\n         2.0527, 2.0494, 2.0519, 2.0578, 2.0318, 2.0290, 2.0539, 2.0908, 2.1090,\n         2.1487, 2.1806, 2.1868, 2.2106, 2.2271, 2.2107, 2.2178, 2.2209, 2.2610,\n         2.3006, 2.2625, 2.2590, 2.2217, 2.2220, 2.2234, 2.2129, 2.2077, 2.2192,\n         2.2186, 2.2124, 2.1949, 2.1951, 2.2303, 2.2339, 2.2307, 2.2024, 2.1654,\n         2.1533, 2.1445, 2.1394, 2.1667, 2.1691, 2.1745, 2.1624, 2.1645, 2.1609,\n         2.1687, 2.1624, 2.1681, 2.1692, 2.1921, 2.2115, 2.1721, 2.1692, 2.1622,\n         2.1534, 2.1466, 2.1531, 2.1564, 2.1519, 2.1163, 2.1085, 2.1009, 2.0819,\n         2.0936, 2.0968],\n        [3.0000, 2.9908, 3.0184, 3.0137, 2.9987, 2.9694, 2.9231, 2.9395, 3.0606,\n         3.1300, 3.0456, 3.0322, 3.0278, 3.0729, 3.0583, 3.0641, 3.0654, 3.0285,\n         3.0859, 3.1108, 3.0956, 3.0726, 3.0896, 3.0926, 3.1123, 3.1397, 3.1565,\n         3.1529, 3.1716, 3.1802, 3.1572, 3.1757, 3.1868, 3.1812, 3.1836, 3.1818,\n         3.1864, 3.1864, 3.1906, 3.1908, 3.1876, 3.1761, 3.1937, 3.2076, 3.2157,\n         3.2337, 3.2511, 3.2442, 3.2496, 3.2552, 3.2486, 3.2650, 3.2634, 3.2957,\n         3.3121, 3.2993, 3.2904, 3.2783, 3.2771, 3.2778, 3.2730, 3.2684, 3.2828,\n         3.2760, 3.2734, 3.2445, 3.2398, 3.2802, 3.2903, 3.2962, 3.2680, 3.2612,\n         3.2546, 3.2491, 3.2494, 3.2542, 3.2533, 3.2585, 3.2373, 3.2386, 3.2348,\n         3.2406, 3.2348, 3.2452, 3.2624, 3.2641, 3.2691, 3.2474, 3.2553, 3.2527,\n         3.2507, 3.2480, 3.2488, 3.2498, 3.2424, 3.2038, 3.2053, 3.1981, 3.1955,\n         3.2010, 3.2028]], grad_fn=<PermuteBackward0>)"
     },
     "execution_count": 143,
     "metadata": {},
     "output_type": "execute_result"
    }
   ],
   "source": [
    "X.T"
   ],
   "metadata": {
    "collapsed": false,
    "ExecuteTime": {
     "end_time": "2025-04-09T12:09:20.412399100Z",
     "start_time": "2025-04-09T12:09:20.370935900Z"
    }
   },
   "id": "7008798930ced7bb"
  },
  {
   "cell_type": "code",
   "execution_count": 144,
   "outputs": [],
   "source": [
    "path2=X"
   ],
   "metadata": {
    "collapsed": false,
    "ExecuteTime": {
     "end_time": "2025-04-09T12:09:24.312231600Z",
     "start_time": "2025-04-09T12:09:24.291718500Z"
    }
   },
   "id": "b5634bf893ce3aed"
  },
  {
   "cell_type": "code",
   "execution_count": 149,
   "outputs": [],
   "source": [
    "path2=path2.detach().numpy()"
   ],
   "metadata": {
    "collapsed": false,
    "ExecuteTime": {
     "end_time": "2025-04-09T12:10:20.866367700Z",
     "start_time": "2025-04-09T12:10:20.834916900Z"
    }
   },
   "id": "1f568d48b1a1787f"
  },
  {
   "cell_type": "code",
   "execution_count": 150,
   "outputs": [
    {
     "data": {
      "text/plain": "array([[1.        , 1.5       , 2.        , 1.        , 2.25      ,\n        4.        , 1.5       , 2.        , 3.        ],\n       [1.0477207 , 1.4935485 , 2.0024712 , 1.0977187 , 2.2306874 ,\n        4.009891  , 1.5648217 , 2.0980306 , 2.990788  ],\n       [1.1571625 , 1.4874651 , 2.029214  , 1.3390251 , 2.2125525 ,\n        4.117709  , 1.721239  , 2.3481302 , 3.018385  ],\n       [0.91821504, 1.4930489 , 2.0184693 , 0.84311885, 2.229195  ,\n        4.0742183 , 1.37094   , 1.8533889 , 3.0136735 ],\n       [0.83903134, 1.5004091 , 1.9986032 , 0.7039736 , 2.2512276 ,\n        3.9944148 , 1.2588903 , 1.6768907 , 2.9987226 ],\n       [0.94073796, 1.4833344 , 2.0018523 , 0.8849879 , 2.200281  ,\n        4.0074124 , 1.395429  , 1.8832184 , 2.9694164 ],\n       [0.92697245, 1.4682996 , 1.9908352 , 0.8592779 , 2.1559038 ,\n        3.9634247 , 1.3610733 , 1.8454493 , 2.9231427 ],\n       [0.9601373 , 1.4732865 , 1.9951698 , 0.9218637 , 2.1705732 ,\n        3.9807024 , 1.4145573 , 1.9156369 , 2.9394567 ],\n       [0.9868015 , 1.5068741 , 2.031111  , 0.97377723, 2.2706695 ,\n        4.125412  , 1.4869856 , 2.0043035 , 3.0606284 ],\n       [1.022811  , 1.5300118 , 2.0457401 , 1.0461425 , 2.340936  ,\n        4.185053  , 1.5649129 , 2.0924056 , 3.1300066 ],\n       [0.98168117, 1.5114685 , 2.0150194 , 0.9636979 , 2.284537  ,\n        4.060303  , 1.4837801 , 1.9781066 , 3.0456383 ],\n       [0.9720933 , 1.5132318 , 2.0037818 , 0.94496536, 2.2898703 ,\n        4.0151415 , 1.4710025 , 1.9478629 , 3.0321863 ],\n       [0.955612  , 1.509201  , 2.006225  , 0.9131943 , 2.2776878 ,\n        4.024939  , 1.4422107 , 1.9171728 , 3.027797  ],\n       [0.9788217 , 1.528463  , 2.0104675 , 0.9580919 , 2.336199  ,\n        4.04198   , 1.4960928 , 1.9678892 , 3.0729253 ],\n       [0.9534737 , 1.525105  , 2.005297  , 0.9091121 , 2.3259454 ,\n        4.021216  , 1.4541475 , 1.9119979 , 3.0582883 ],\n       [0.9582653 , 1.5216526 , 2.0136511 , 0.9182724 , 2.3154266 ,\n        4.054791  , 1.4581469 , 1.929612  , 3.0640774 ],\n       [0.96007717, 1.5243715 , 2.0109076 , 0.92174816, 2.3237085 ,\n        4.04375   , 1.4635143 , 1.9306265 , 3.0653703 ],\n       [0.9269224 , 1.5157315 , 1.9980321 , 0.8591851 , 2.297442  ,\n        3.9921322 , 1.4049654 , 1.8520206 , 3.02848   ],\n       [0.9278287 , 1.5350138 , 2.010345  , 0.8608661 , 2.3562675 ,\n        4.0414867 , 1.4242299 , 1.8652558 , 3.0859072 ],\n       [0.9337482 , 1.5435141 , 2.015382  , 0.87188566, 2.3824358 ,\n        4.0617647 , 1.4412535 , 1.8818593 , 3.1107707 ],\n       [0.9347697 , 1.5430307 , 2.0061855 , 0.8737944 , 2.3809438 ,\n        4.0247803 , 1.4423784 , 1.8753214 , 3.0956059 ],\n       [0.9392207 , 1.5385321 , 1.9970996 , 0.88213557, 2.3670812 ,\n        3.988407  , 1.4450213 , 1.8757174 , 3.072602  ],\n       [0.9498038 , 1.5454786 , 1.9991083 , 0.9021273 , 2.388504  ,\n        3.996434  , 1.4679015 , 1.8987607 , 3.089579  ],\n       [0.94762474, 1.5478007 , 1.9980725 , 0.8979927 , 2.3956869 ,\n        3.9922938 , 1.4667342 , 1.893423  , 3.092618  ],\n       [0.96156996, 1.5540447 , 2.002726  , 0.9246168 , 2.415055  ,\n        4.010912  , 1.4943228 , 1.9257612 , 3.112326  ],\n       [0.98145574, 1.5625036 , 2.0094004 , 0.9632554 , 2.4414175 ,\n        4.0376897 , 1.5335281 , 1.9721376 , 3.1396952 ],\n       [0.98806214, 1.5706844 , 2.00961   , 0.9762668 , 2.4670496 ,\n        4.0385323 , 1.5519339 , 1.9856195 , 3.1564631 ],\n       [0.98333925, 1.5719578 , 2.0056987 , 0.9669561 , 2.4710515 ,\n        4.022827  , 1.5457678 , 1.9722823 , 3.1528738 ],\n       [1.0099633 , 1.5769674 , 2.0111728 , 1.0200258 , 2.486826  ,\n        4.044816  , 1.5926791 , 2.0312107 , 3.1715539 ],\n       [1.0128307 , 1.581478  , 2.0108752 , 1.0258261 , 2.5010726 ,\n        4.043619  , 1.6017696 , 2.0366762 , 3.180155  ],\n       [0.99470425, 1.5732067 , 2.0068703 , 0.98943657, 2.4749792 ,\n        4.0275283 , 1.5648754 , 1.9962424 , 3.1572218 ],\n       [1.0029941 , 1.5781828 , 2.0122721 , 1.0059971 , 2.490661  ,\n        4.049239  , 1.582908  , 2.018297  , 3.1757333 ],\n       [1.0065744 , 1.580455  , 2.016375  , 1.013192  , 2.4978378 ,\n        4.0657682 , 1.5908455 , 2.0296316 , 3.18679   ],\n       [1.0046726 , 1.5808927 , 2.0122907 , 1.0093671 , 2.4992216 ,\n        4.049314  , 1.5882796 , 2.0216935 , 3.1812158 ],\n       [1.0159545 , 1.5812548 , 2.013312  , 1.0321635 , 2.500367  ,\n        4.053426  , 1.606483  , 2.0454335 , 3.1835594 ],\n       [1.0125858 , 1.5788827 , 2.0152185 , 1.02533   , 2.4928706 ,\n        4.0611057 , 1.5987542 , 2.0405815 , 3.1817937 ],\n       [1.0177386 , 1.5798488 , 2.016929  , 1.0357919 , 2.495922  ,\n        4.068002  , 1.6078731 , 2.0527065 , 3.1864426 ],\n       [1.0178387 , 1.5825177 , 2.0134857 , 1.0359956 , 2.5043623 ,\n        4.0541244 , 1.6107478 , 2.0494037 , 3.1863768 ],\n       [1.0171208 , 1.581546  , 2.0173774 , 1.0345348 , 2.5012877 ,\n        4.0698113 , 1.6086234 , 2.0519166 , 3.1905751 ],\n       [1.020589  , 1.5825151 , 2.0162852 , 1.0416019 , 2.504354  ,\n        4.065406  , 1.6150975 , 2.0577984 , 3.1908019 ],\n       [1.007088  , 1.5799748 , 2.0174801 , 1.0142261 , 2.4963202 ,\n        4.070226  , 1.5911735 , 2.03178   , 3.1875677 ],\n       [1.0077165 , 1.5774523 , 2.0134628 , 1.0154926 , 2.4883559 ,\n        4.0540323 , 1.5896248 , 2.0289998 , 3.1761415 ],\n       [1.016332  , 1.5803188 , 2.0208955 , 1.0329309 , 2.4974074 ,\n        4.0840187 , 1.6061286 , 2.0539007 , 3.193659  ],\n       [1.0313753 , 1.5823082 , 2.0271587 , 1.063735  , 2.503699  ,\n        4.1093726 , 1.6319536 , 2.0907614 , 3.2075899 ],\n       [1.0381938 , 1.5830272 , 2.0313733 , 1.0778464 , 2.5059752 ,\n        4.1264772 , 1.6434891 , 2.1089592 , 3.2157192 ],\n       [1.0533543 , 1.5852413 , 2.0398939 , 1.1095552 , 2.51299   ,\n        4.161167  , 1.6698207 , 2.148731  , 3.233724  ],\n       [1.0670708 , 1.5908761 , 2.043563  , 1.1386402 , 2.530887  ,\n        4.1761494 , 1.6975775 , 2.1806264 , 3.2510555 ],\n       [1.0707254 , 1.5884714 , 2.0423722 , 1.146453  , 2.5232415 ,\n        4.171284  , 1.7008168 , 2.1868198 , 3.2442498 ],\n       [1.0809596 , 1.5890398 , 2.0450099 , 1.1684736 , 2.5250475 ,\n        4.1820655 , 1.7176877 , 2.210573  , 3.249602  ],\n       [1.0903962 , 1.5936981 , 2.0425136 , 1.1889638 , 2.5398738 ,\n        4.1718616 , 1.7377623 , 2.227149  , 3.25515   ],\n       [1.0832441 , 1.5917846 , 2.0408425 , 1.1734178 , 2.5337782 ,\n        4.165038  , 1.7242912 , 2.2107306 , 3.2485816 ],\n       [1.0837581 , 1.5954604 , 2.0464005 , 1.1745317 , 2.5454938 ,\n        4.1877556 , 1.7290932 , 2.2178032 , 3.264951  ],\n       [1.0854186 , 1.5949465 , 2.0460865 , 1.1781335 , 2.5438542 ,\n        4.18647   , 1.7311846 , 2.2208602 , 3.2633986 ],\n       [1.1014915 , 1.6055704 , 2.0526927 , 1.2132833 , 2.5778565 ,\n        4.2135477 , 1.768522  , 2.2610233 , 3.2957428 ],\n       [1.1159853 , 1.6066449 , 2.0614817 , 1.2454231 , 2.5813076 ,\n        4.2497067 , 1.792992  , 2.3005831 , 3.312069  ],\n       [1.0992442 , 1.6029798 , 2.0582213 , 1.2083379 , 2.569544  ,\n        4.236275  , 1.7620662 , 2.262488  , 3.299287  ],\n       [1.098169  , 1.5995883 , 2.0570183 , 1.205975  , 2.5586827 ,\n        4.231324  , 1.7566181 , 2.2589536 , 3.2903821 ],\n       [1.08152   , 1.5958587 , 2.0542667 , 1.1696855 , 2.5467649 ,\n        4.2200117 , 1.725953  , 2.2217305 , 3.2783194 ],\n       [1.0810679 , 1.594406  , 2.0553575 , 1.1687078 , 2.5421305 ,\n        4.2244945 , 1.7236612 , 2.221981  , 3.2770743 ],\n       [1.0814834 , 1.5943724 , 2.0558407 , 1.1696062 , 2.5420234 ,\n        4.226481  , 1.7242873 , 2.2233574 , 3.2777758 ],\n       [1.0771589 , 1.5931848 , 2.054377  , 1.1602714 , 2.5382378 ,\n        4.220465  , 1.7161133 , 2.2128906 , 3.2730024 ],\n       [1.0748594 , 1.5912813 , 2.053929  , 1.1553227 , 2.5321763 ,\n        4.218625  , 1.7104037 , 2.207685  , 3.268379  ],\n       [1.0749208 , 1.5900923 , 2.0645545 , 1.1554546 , 2.5283937 ,\n        4.2623854 , 1.7092233 , 2.2192323 , 3.2828324 ],\n       [1.0767816 , 1.5899718 , 2.0603893 , 1.1594586 , 2.5280104 ,\n        4.245204  , 1.7120525 , 2.2185893 , 3.275961  ],\n       [1.0730816 , 1.5877452 , 2.061687  , 1.1515042 , 2.5209348 ,\n        4.2505536 , 1.7037802 , 2.2123585 , 3.2734337 ],\n       [1.0676014 , 1.5781127 , 2.0559394 , 1.1397728 , 2.49044   ,\n        4.226887  , 1.6847954 , 2.1949239 , 3.2445042 ],\n       [1.0711774 , 1.5809597 , 2.0492544 , 1.147421  , 2.4994335 ,\n        4.199444  , 1.6934884 , 2.195115  , 3.2397885 ],\n       [1.082475  , 1.5920585 , 2.0603275 , 1.1717521 , 2.5346503 ,\n        4.24495   , 1.7233635 , 2.2302532 , 3.280162  ],\n       [1.0812707 , 1.5926008 , 2.0659945 , 1.1691463 , 2.5363772 ,\n        4.2683334 , 1.7220325 , 2.2338994 , 3.2903044 ],\n       [1.079575  , 1.595251  , 2.0662782 , 1.1654819 , 2.5448256 ,\n        4.269506  , 1.7221929 , 2.2307022 , 3.2962325 ],\n       [1.0692837 , 1.5866632 , 2.0596945 , 1.1433678 , 2.5175002 ,\n        4.2423415 , 1.6965932 , 2.2023978 , 3.2680414 ],\n       [1.0534104 , 1.5864859 , 2.0555944 , 1.1096735 , 2.5169375 ,\n        4.2254686 , 1.6712208 , 2.1653845 , 3.2611716 ],\n       [1.0482649 , 1.5843818 , 2.0541637 , 1.0988592 , 2.5102658 ,\n        4.2195883 , 1.6608518 , 2.1533077 , 3.2545795 ],\n       [1.0448437 , 1.5829988 , 2.052468  , 1.0916983 , 2.5058851 ,\n        4.212625  , 1.6539862 , 2.1445084 , 3.2490544 ],\n       [1.042754  , 1.5837971 , 2.0516508 , 1.0873361 , 2.5084133 ,\n        4.209271  , 1.6515108 , 2.139367  , 3.2493985 ],\n       [1.0544003 , 1.5836376 , 2.0549116 , 1.11176   , 2.507908  ,\n        4.222662  , 1.669788  , 2.1666994 , 3.2542353 ],\n       [1.0556207 , 1.5833086 , 2.0547783 , 1.114335  , 2.506866  ,\n        4.222114  , 1.6713732 , 2.1690664 , 3.253348  ],\n       [1.0576035 , 1.584794  , 2.0560873 , 1.1185251 , 2.5115721 ,\n        4.2274947 , 1.6760837 , 2.174525  , 3.2584748 ],\n       [1.0518553 , 1.5746993 , 2.0558095 , 1.1063997 , 2.479678  ,\n        4.2263527 , 1.6563559 , 2.1624143 , 3.2372818 ],\n       [1.054715  , 1.5781088 , 2.052183  , 1.1124238 , 2.4904273 ,\n        4.211455  , 1.664455  , 2.1644683 , 3.238568  ],\n       [1.057561  , 1.583146  , 2.043262  , 1.1184354 , 2.5063512 ,\n        4.1749196 , 1.6742735 , 2.1608744 , 3.234782  ],\n       [1.061249  , 1.5857507 , 2.043571  , 1.1262494 , 2.5146053 ,\n        4.1761827 , 1.6828763 , 2.1687376 , 3.2405941 ],\n       [1.0595485 , 1.5850533 , 2.040824  , 1.1226431 , 2.5123942 ,\n        4.1649623 , 1.679441  , 2.162352  , 3.234815  ],\n       [1.0593861 , 1.5857298 , 2.046532  , 1.122299  , 2.5145392 ,\n        4.188293  , 1.6799003 , 2.1680675 , 3.245247  ],\n       [1.0574695 , 1.5904077 , 2.051328  , 1.1182418 , 2.5293968 ,\n        4.207946  , 1.6818076 , 2.1692166 , 3.2624476 ],\n       [1.0664346 , 1.587923  , 2.0555556 , 1.1372828 , 2.5214996 ,\n        4.225309  , 1.6934161 , 2.1921155 , 3.264064  ],\n       [1.0730487 , 1.5862067 , 2.0609825 , 1.1514336 , 2.5160518 ,\n        4.247649  , 1.7020772 , 2.2115347 , 3.2691443 ],\n       [1.05782   , 1.5815171 , 2.0533762 , 1.118983  , 2.5011964 ,\n        4.216354  , 1.6729604 , 2.1721025 , 3.2474496 ],\n       [1.0563178 , 1.585237  , 2.0535152 , 1.1158074 , 2.5129766 ,\n        4.216925  , 1.6745142 , 2.169165  , 3.2553086 ],\n       [1.0531217 , 1.5842555 , 2.0531309 , 1.1090653 , 2.5098653 ,\n        4.2153463 , 1.6684138 , 2.1621966 , 3.2526839 ],\n       [1.0496206 , 1.5844914 , 2.0515714 , 1.1017034 , 2.510613  ,\n        4.2089453 , 1.6631148 , 2.1533716 , 3.2506971 ],\n       [1.0461571 , 1.5829545 , 2.0518644 , 1.0944448 , 2.505745  ,\n        4.2101474 , 1.6560191 , 2.1465726 , 3.248008  ],\n       [1.0497246 , 1.5839243 , 2.051122  , 1.1019217 , 2.5088162 ,\n        4.2071013 , 1.6626843 , 2.1531131 , 3.248822  ],\n       [1.0492148 , 1.5811927 , 2.0552979 , 1.1008518 , 2.5001705 ,\n        4.2242494 , 1.6590109 , 2.156449  , 3.2498221 ],\n       [1.0487033 , 1.5801271 , 2.051994  , 1.0997785 , 2.4968016 ,\n        4.2106795 , 1.6570845 , 2.1519327 , 3.2424114 ],\n       [1.0380702 , 1.5714761 , 2.0387294 , 1.0775898 , 2.4695373 ,\n        4.1564174 , 1.6313026 , 2.1163442 , 3.2038145 ],\n       [1.0365155 , 1.575707  , 2.0341766 , 1.0743643 , 2.4828525 ,\n        4.1378746 , 1.6332446 , 2.1084554 , 3.2052662 ],\n       [1.0330065 , 1.5724856 , 2.033812  , 1.0671026 , 2.4727108 ,\n        4.1363916 , 1.6243879 , 2.1009412 , 3.1981401 ],\n       [1.02504   , 1.573308  , 2.0310752 , 1.0507071 , 2.475298  ,\n        4.1252666 , 1.6127037 , 2.0819335 , 3.1955068 ],\n       [1.0293484 , 1.5737923 , 2.033917  , 1.059558  , 2.4768224 ,\n        4.136818  , 1.6199806 , 2.093609  , 3.200963  ],\n       [1.029376  , 1.5723504 , 2.03698   , 1.059615  , 2.4722857 ,\n        4.149287  , 1.6185398 , 2.0968182 , 3.202846  ]], dtype=float32)"
     },
     "execution_count": 150,
     "metadata": {},
     "output_type": "execute_result"
    }
   ],
   "source": [
    "path2"
   ],
   "metadata": {
    "collapsed": false,
    "ExecuteTime": {
     "end_time": "2025-04-09T12:10:21.836389100Z",
     "start_time": "2025-04-09T12:10:21.774677700Z"
    }
   },
   "id": "209318baea8d78d4"
  },
  {
   "cell_type": "code",
   "execution_count": 184,
   "outputs": [
    {
     "data": {
      "text/plain": "(20000, 9, 101)"
     },
     "execution_count": 184,
     "metadata": {},
     "output_type": "execute_result"
    }
   ],
   "source": [
    "x = np.load(\"../data/training_data/OrnsteinUhlenbeckWithCrossTerms-32/data.npy\")\n",
    "x.shape"
   ],
   "metadata": {
    "collapsed": false,
    "ExecuteTime": {
     "end_time": "2025-04-09T13:15:59.753112Z",
     "start_time": "2025-04-09T13:15:59.608144800Z"
    }
   },
   "id": "b1d4f0eddedaeddf"
  },
  {
   "cell_type": "code",
   "execution_count": 48,
   "outputs": [],
   "source": [
    "from scipy.stats import wasserstein_distance "
   ],
   "metadata": {
    "collapsed": false,
    "ExecuteTime": {
     "end_time": "2025-04-09T08:21:26.397678900Z",
     "start_time": "2025-04-09T08:21:26.348097400Z"
    }
   },
   "id": "7e83ad45e45d42b5"
  },
  {
   "cell_type": "code",
   "execution_count": 151,
   "outputs": [
    {
     "name": "stdout",
     "output_type": "stream",
     "text": [
      "Average Wasserstein distances: [0.361265837694825, 0.9626870879695981, 0.8777076756816029, 0.1716007033811876, 0.5796999386212983, 0.4029856980877508, 0.6804363997709613, 0.8449346651830889, 0.5351301088012581, 0.8479777834721614]\n"
     ]
    }
   ],
   "source": [
    "avg_distance=[]\n",
    "for i in range(10):\n",
    "    path1=x[i,:,]\n",
    "    path1=path1.T\n",
    "    distances = []\n",
    "    for dim in range(path1.shape[1]):\n",
    "        distance = wasserstein_distance(path1[:, dim], path2[:, dim])\n",
    "        distances.append(distance)\n",
    "\n",
    "    average_distance = np.mean(distances) \n",
    "    avg_distance.append(average_distance)\n",
    "    \n",
    "print(\"Average Wasserstein distances:\", avg_distance)\n"
   ],
   "metadata": {
    "collapsed": false,
    "ExecuteTime": {
     "end_time": "2025-04-09T12:10:26.844934500Z",
     "start_time": "2025-04-09T12:10:26.781993Z"
    }
   },
   "id": "f5de54993e93499a"
  },
  {
   "cell_type": "code",
   "execution_count": 152,
   "outputs": [
    {
     "name": "stdout",
     "output_type": "stream",
     "text": [
      "Average Wasserstein distances: [0.672396384670776, 0.12611486905780306, 0.7988223880676978, 0.5008146510073932, 0.1873781845142183, 0.28316333653400644, 0.2188133003994491, 0.31228569874619333, 0.3132494024626571, 0.12397894064256598, 0.24577591364497164, 0.171590417053597, 0.2112337763190818, 0.28029750938479137, 0.12427004947188215, 0.21961645348100353, 0.5345213027221434, 0.1816644374340497, 0.15123549007818193, 0.18283329510040083, 0.580308149579897, 0.5577066386418381, 0.20993431963286657, 0.15551398217152335, 0.15246340474181644, 0.24730120423329474, 0.32087421636268315, 0.46090129119226897, 0.3140903469507224, 0.3255974569431292]\n"
     ]
    }
   ],
   "source": [
    "path_avg_diff=[]\n",
    "for i in range(30):\n",
    "    path1=x[i,:,]\n",
    "    path2=x[i+1,:,]\n",
    "    path1=path1.T\n",
    "    path2=path2.T\n",
    "    distances = []\n",
    "    for dim in range(path1.shape[1]):\n",
    "        distance = wasserstein_distance(path1[:, dim], path2[:, dim])\n",
    "        distances.append(distance)\n",
    "    path_avg_diff.append(np.mean(distances))\n",
    "\n",
    "print(\"Average Wasserstein distances:\", path_avg_diff)\n"
   ],
   "metadata": {
    "collapsed": false,
    "ExecuteTime": {
     "end_time": "2025-04-09T12:11:03.303040700Z",
     "start_time": "2025-04-09T12:11:03.275080Z"
    }
   },
   "id": "6c8af1ad1912af10"
  },
  {
   "cell_type": "code",
   "execution_count": 173,
   "outputs": [],
   "source": [
    "def generate_data():\n",
    "    times = []\n",
    "    time_ptr = [0]\n",
    "    obs_idx = torch.tensor([], dtype=torch.long)\n",
    "    delta_t = 0.01\n",
    "    T = 0.01\n",
    "    X = torch.tensor([[1.0], [1.5], [2.0], [1.0], [1.5**2], [4.0], [1.5], [2.0], [3.0]]).reshape(1, 9)\n",
    "    start_X = X\n",
    "    n_obs_ot = torch.tensor([1])\n",
    "    current_time = 0.0\n",
    "\n",
    "    for i in range(100):\n",
    "        mu_hat = get_mu_hat(times, time_ptr, obs_idx, delta_t, T, X, start_X, n_obs_ot, 1)\n",
    "        sigma_hat = get_sigma_hat(times, time_ptr, obs_idx, delta_t, T, X, start_X, n_obs_ot, 1)\n",
    "        vol_hat = model.sqrt_matrix(torch.from_numpy(sigma_hat))\n",
    "        X_t = model.generate_next_value(start_X[:, :3], mu_hat, vol_hat, delta_t)\n",
    "        start_X = model.generate_features(X_t)\n",
    "        start_X = start_X.float()\n",
    "        current_time += delta_t\n",
    "        T += delta_t\n",
    "        times = np.append(times, current_time)\n",
    "        time_ptr = np.append(time_ptr, len(obs_idx))\n",
    "        obs_idx = torch.cat((obs_idx, torch.arange(start_X.shape[0], dtype=torch.long)))\n",
    "        X = torch.cat((X, start_X))\n",
    "        n_obs_ot = torch.cat((n_obs_ot, n_obs_ot[-1].unsqueeze(0) + 1))\n",
    "\n",
    "    return X"
   ],
   "metadata": {
    "collapsed": false,
    "ExecuteTime": {
     "end_time": "2025-04-09T12:48:57.137155800Z",
     "start_time": "2025-04-09T12:48:57.097589800Z"
    }
   },
   "id": "4b947d469f8245b1"
  },
  {
   "cell_type": "code",
   "execution_count": 226,
   "outputs": [
    {
     "data": {
      "text/plain": "tensor([0, 0, 0, 0, 0, 0, 0, 0, 0, 0, 0, 0, 0, 0, 0, 0, 0, 0, 0, 0, 0, 0, 0, 0,\n        0, 0, 0, 0, 0, 0, 0, 0, 0, 0, 0, 0, 0, 0, 0, 0, 0, 0, 0, 0, 0, 0, 0, 0,\n        0, 0, 0, 0, 0, 0, 0, 0, 0, 0, 0, 0, 0, 0, 0, 0, 0, 0, 0, 0, 0, 0, 0, 0,\n        0, 0, 0, 0, 0, 0, 0, 0, 0, 0, 0, 0, 0, 0, 0, 0, 0, 0, 0, 0, 0, 0, 0, 0,\n        0, 0, 0, 0])"
     },
     "execution_count": 226,
     "metadata": {},
     "output_type": "execute_result"
    }
   ],
   "source": [
    "obs_idx"
   ],
   "metadata": {
    "collapsed": false,
    "ExecuteTime": {
     "end_time": "2025-04-09T14:36:58.486870500Z",
     "start_time": "2025-04-09T14:36:58.442178200Z"
    }
   },
   "id": "25a8f2bcb43726ec"
  },
  {
   "cell_type": "code",
   "execution_count": 227,
   "outputs": [
    {
     "data": {
      "text/plain": "tensor([  1,   2,   3,   4,   5,   6,   7,   8,   9,  10,  11,  12,  13,  14,\n         15,  16,  17,  18,  19,  20,  21,  22,  23,  24,  25,  26,  27,  28,\n         29,  30,  31,  32,  33,  34,  35,  36,  37,  38,  39,  40,  41,  42,\n         43,  44,  45,  46,  47,  48,  49,  50,  51,  52,  53,  54,  55,  56,\n         57,  58,  59,  60,  61,  62,  63,  64,  65,  66,  67,  68,  69,  70,\n         71,  72,  73,  74,  75,  76,  77,  78,  79,  80,  81,  82,  83,  84,\n         85,  86,  87,  88,  89,  90,  91,  92,  93,  94,  95,  96,  97,  98,\n         99, 100, 101])"
     },
     "execution_count": 227,
     "metadata": {},
     "output_type": "execute_result"
    }
   ],
   "source": [
    "n_obs_ot"
   ],
   "metadata": {
    "collapsed": false,
    "ExecuteTime": {
     "end_time": "2025-04-09T14:37:12.637730900Z",
     "start_time": "2025-04-09T14:37:12.596034200Z"
    }
   },
   "id": "7f167e63fd9a73f3"
  },
  {
   "cell_type": "code",
   "execution_count": 228,
   "outputs": [
    {
     "data": {
      "text/plain": "array([ 0,  0,  1,  2,  3,  4,  5,  6,  7,  8,  9, 10, 11, 12, 13, 14, 15,\n       16, 17, 18, 19, 20, 21, 22, 23, 24, 25, 26, 27, 28, 29, 30, 31, 32,\n       33, 34, 35, 36, 37, 38, 39, 40, 41, 42, 43, 44, 45, 46, 47, 48, 49,\n       50, 51, 52, 53, 54, 55, 56, 57, 58, 59, 60, 61, 62, 63, 64, 65, 66,\n       67, 68, 69, 70, 71, 72, 73, 74, 75, 76, 77, 78, 79, 80, 81, 82, 83,\n       84, 85, 86, 87, 88, 89, 90, 91, 92, 93, 94, 95, 96, 97, 98, 99])"
     },
     "execution_count": 228,
     "metadata": {},
     "output_type": "execute_result"
    }
   ],
   "source": [
    "time_ptr"
   ],
   "metadata": {
    "collapsed": false,
    "ExecuteTime": {
     "end_time": "2025-04-09T14:37:31.739717200Z",
     "start_time": "2025-04-09T14:37:31.670998400Z"
    }
   },
   "id": "90e0726b67622f93"
  },
  {
   "cell_type": "code",
   "execution_count": 229,
   "outputs": [
    {
     "data": {
      "text/plain": "array([0.01, 0.02, 0.03, 0.04, 0.05, 0.06, 0.07, 0.08, 0.09, 0.1 , 0.11,\n       0.12, 0.13, 0.14, 0.15, 0.16, 0.17, 0.18, 0.19, 0.2 , 0.21, 0.22,\n       0.23, 0.24, 0.25, 0.26, 0.27, 0.28, 0.29, 0.3 , 0.31, 0.32, 0.33,\n       0.34, 0.35, 0.36, 0.37, 0.38, 0.39, 0.4 , 0.41, 0.42, 0.43, 0.44,\n       0.45, 0.46, 0.47, 0.48, 0.49, 0.5 , 0.51, 0.52, 0.53, 0.54, 0.55,\n       0.56, 0.57, 0.58, 0.59, 0.6 , 0.61, 0.62, 0.63, 0.64, 0.65, 0.66,\n       0.67, 0.68, 0.69, 0.7 , 0.71, 0.72, 0.73, 0.74, 0.75, 0.76, 0.77,\n       0.78, 0.79, 0.8 , 0.81, 0.82, 0.83, 0.84, 0.85, 0.86, 0.87, 0.88,\n       0.89, 0.9 , 0.91, 0.92, 0.93, 0.94, 0.95, 0.96, 0.97, 0.98, 0.99,\n       1.  ])"
     },
     "execution_count": 229,
     "metadata": {},
     "output_type": "execute_result"
    }
   ],
   "source": [
    "times"
   ],
   "metadata": {
    "collapsed": false,
    "ExecuteTime": {
     "end_time": "2025-04-09T14:38:03.970732800Z",
     "start_time": "2025-04-09T14:38:03.925533600Z"
    }
   },
   "id": "9bae1e7450a1cb63"
  },
  {
   "cell_type": "code",
   "execution_count": null,
   "outputs": [],
   "source": [],
   "metadata": {
    "collapsed": false
   },
   "id": "9a48fa903565456"
  },
  {
   "cell_type": "code",
   "execution_count": 175,
   "outputs": [
    {
     "name": "stdout",
     "output_type": "stream",
     "text": [
      "torch.Size([10, 101, 9])\n"
     ]
    }
   ],
   "source": [
    "data = torch.stack([generate_data() for _ in range(10)])\n",
    "\n",
    "print(data.shape)  # Should print torch.Size([100, 101, 9])"
   ],
   "metadata": {
    "collapsed": false,
    "ExecuteTime": {
     "end_time": "2025-04-09T13:11:29.761032600Z",
     "start_time": "2025-04-09T13:08:51.272446300Z"
    }
   },
   "id": "f774592e03e2d9b8"
  },
  {
   "cell_type": "code",
   "execution_count": 65,
   "outputs": [],
   "source": [
    "from scipy.stats import linregress "
   ],
   "metadata": {
    "collapsed": false,
    "ExecuteTime": {
     "end_time": "2025-04-11T10:27:22.987989300Z",
     "start_time": "2025-04-11T10:27:22.956599900Z"
    }
   },
   "id": "26067e6e7ed3e471"
  },
  {
   "cell_type": "code",
   "execution_count": 62,
   "outputs": [],
   "source": [
    "def estimate_ou_parameters(paths, delta_t):\n",
    "    \"\"\"\n",
    "    Estimate the parameters of an OU process from given paths.\n",
    "    \n",
    "    Parameters:\n",
    "    - paths: numpy array of shape (num_paths, num_timesteps)\n",
    "    - delta_t: time increment between observations\n",
    "    \n",
    "    Returns:\n",
    "    - theta: rate of mean reversion\n",
    "    - mu: long-term mean\n",
    "    - sigma: volatility\n",
    "    \"\"\"\n",
    "    num_paths, num_timesteps = paths.shape\n",
    "\n",
    "    \n",
    "\n",
    "    X_t = paths[:, :-1].flatten() \n",
    "    X_t_plus_1 = paths[:, 1:].flatten() \n",
    "    \n",
    "    beta, alpha, _, _, _ = linregress(X_t,X_t_plus_1)\n",
    "    \n",
    "    theta = -np.log(beta)/delta_t\n",
    "    mu = alpha/(1-beta) \n",
    "    \n",
    "    residuals=X_t_plus_1-beta*X_t-alpha\n",
    "    std_resid =np.std(residuals, ddof=2)\n",
    "\n",
    "    sigma = std_resid*np.sqrt(2*theta/(1-beta**2))\n",
    "\n",
    "    return theta, mu, sigma"
   ],
   "metadata": {
    "collapsed": false,
    "ExecuteTime": {
     "end_time": "2025-04-11T10:27:09.283579200Z",
     "start_time": "2025-04-11T10:27:09.236406100Z"
    }
   },
   "id": "1db757ad593b4f01"
  },
  {
   "cell_type": "code",
   "execution_count": 99,
   "outputs": [],
   "source": [
    "path_1=x[:,0,:]"
   ],
   "metadata": {
    "collapsed": false,
    "ExecuteTime": {
     "end_time": "2025-04-11T11:52:42.807778900Z",
     "start_time": "2025-04-11T11:52:42.770920100Z"
    }
   },
   "id": "d6465599bd02dc65"
  },
  {
   "cell_type": "code",
   "execution_count": 100,
   "outputs": [
    {
     "data": {
      "text/plain": "array([[1.        , 1.04757   , 1.09964795, ..., 0.98592246, 0.99409186,\n        1.00397472],\n       [1.        , 0.98776913, 0.97475889, ..., 0.49509547, 0.50123782,\n        0.48581202],\n       [1.        , 0.96222092, 0.94563611, ..., 0.60045729, 0.58313159,\n        0.57395437],\n       ...,\n       [1.        , 1.0189734 , 1.02558413, ..., 1.08383991, 1.09355576,\n        1.10627318],\n       [1.        , 1.01866436, 1.0056022 , ..., 0.90734859, 0.94430757,\n        0.94494657],\n       [1.        , 0.99417523, 1.02467142, ..., 0.72973039, 0.76739661,\n        0.74665505]])"
     },
     "execution_count": 100,
     "metadata": {},
     "output_type": "execute_result"
    }
   ],
   "source": [
    "path_1"
   ],
   "metadata": {
    "collapsed": false,
    "ExecuteTime": {
     "end_time": "2025-04-11T11:52:43.361870Z",
     "start_time": "2025-04-11T11:52:43.323564600Z"
    }
   },
   "id": "fecad80142a36267"
  },
  {
   "cell_type": "code",
   "execution_count": 116,
   "outputs": [],
   "source": [
    "path_2=X[:,0].reshape(1,101)"
   ],
   "metadata": {
    "collapsed": false,
    "ExecuteTime": {
     "end_time": "2025-04-11T12:02:21.037169100Z",
     "start_time": "2025-04-11T12:02:20.973060200Z"
    }
   },
   "id": "74f20a664283fba0"
  },
  {
   "cell_type": "code",
   "execution_count": 117,
   "outputs": [
    {
     "data": {
      "text/plain": "torch.Size([1, 101])"
     },
     "execution_count": 117,
     "metadata": {},
     "output_type": "execute_result"
    }
   ],
   "source": [
    "path_2.shape"
   ],
   "metadata": {
    "collapsed": false,
    "ExecuteTime": {
     "end_time": "2025-04-11T12:02:21.671614Z",
     "start_time": "2025-04-11T12:02:21.610483800Z"
    }
   },
   "id": "4a61e2bfb1f5b382"
  },
  {
   "cell_type": "code",
   "execution_count": 118,
   "outputs": [
    {
     "data": {
      "text/plain": "tensor([[1.0000, 1.0025, 0.9745, 0.9995, 0.8989, 0.8790, 0.8156, 0.8380, 0.7955,\n         0.8456, 0.8537, 0.8549, 0.9265, 0.9038, 0.8596, 0.8953, 0.8738, 0.8708,\n         0.8872, 0.9170, 0.8723, 0.8543, 0.8151, 0.8247, 0.8438, 0.8306, 0.8211,\n         0.7639, 0.7231, 0.6831, 0.7809, 0.7045, 0.7344, 0.6996, 0.6360, 0.6306,\n         0.6365, 0.6461, 0.6601, 0.6236, 0.5491, 0.5436, 0.6177, 0.5963, 0.6660,\n         0.6790, 0.5931, 0.6130, 0.6508, 0.6401, 0.6228, 0.6555, 0.6831, 0.6979,\n         0.6622, 0.5517, 0.5174, 0.5678, 0.5626, 0.6427, 0.7618, 0.7204, 0.7455,\n         0.7643, 0.7511, 0.7574, 0.7439, 0.7842, 0.8233, 0.8387, 0.8429, 0.8268,\n         0.7972, 0.7857, 0.7848, 0.7466, 0.7356, 0.7045, 0.6702, 0.6841, 0.7341,\n         0.7995, 0.7851, 0.8119, 0.8396, 0.8481, 0.8306, 0.8191, 0.8495, 0.8389,\n         0.9195, 0.9068, 0.8483, 0.8286, 0.9127, 0.9010, 0.9118, 0.8817, 0.8884,\n         0.9366, 0.9336]], grad_fn=<ReshapeAliasBackward0>)"
     },
     "execution_count": 118,
     "metadata": {},
     "output_type": "execute_result"
    }
   ],
   "source": [
    "path_2"
   ],
   "metadata": {
    "collapsed": false,
    "ExecuteTime": {
     "end_time": "2025-04-11T12:02:22.786635300Z",
     "start_time": "2025-04-11T12:02:22.625803500Z"
    }
   },
   "id": "770fc5dd3a837df3"
  },
  {
   "cell_type": "code",
   "execution_count": 119,
   "outputs": [
    {
     "data": {
      "text/plain": "(0.30747507452576045, 0.511030185072598, 0.24537869408275828)"
     },
     "execution_count": 119,
     "metadata": {},
     "output_type": "execute_result"
    }
   ],
   "source": [
    "estimate_ou_parameters(path_1,0.01)"
   ],
   "metadata": {
    "collapsed": false,
    "ExecuteTime": {
     "end_time": "2025-04-11T12:02:24.427953Z",
     "start_time": "2025-04-11T12:02:24.254054300Z"
    }
   },
   "id": "7060deb71535f30b"
  },
  {
   "cell_type": "code",
   "execution_count": 120,
   "outputs": [
    {
     "data": {
      "text/plain": "(7.967332548890962, 0.7648143652506202, 0.4291810454359387)"
     },
     "execution_count": 120,
     "metadata": {},
     "output_type": "execute_result"
    }
   ],
   "source": [
    "estimate_ou_parameters(path_2.detach().numpy(),0.01)"
   ],
   "metadata": {
    "collapsed": false,
    "ExecuteTime": {
     "end_time": "2025-04-11T12:02:26.235829Z",
     "start_time": "2025-04-11T12:02:26.192926300Z"
    }
   },
   "id": "42e42cb30dd65f40"
  },
  {
   "cell_type": "code",
   "execution_count": 68,
   "outputs": [
    {
     "ename": "NameError",
     "evalue": "name 'data' is not defined",
     "output_type": "error",
     "traceback": [
      "\u001B[1;31m---------------------------------------------------------------------------\u001B[0m",
      "\u001B[1;31mNameError\u001B[0m                                 Traceback (most recent call last)",
      "Cell \u001B[1;32mIn[68], line 1\u001B[0m\n\u001B[1;32m----> 1\u001B[0m estimate_ou_parameters(\u001B[43mdata\u001B[49m[:,:,\u001B[38;5;241m0\u001B[39m]\u001B[38;5;241m.\u001B[39mdetach()\u001B[38;5;241m.\u001B[39mnumpy(),\u001B[38;5;241m0.01\u001B[39m)\n",
      "\u001B[1;31mNameError\u001B[0m: name 'data' is not defined"
     ]
    }
   ],
   "source": [
    "estimate_ou_parameters(data[:,:,0].detach().numpy(),0.01)"
   ],
   "metadata": {
    "collapsed": false,
    "ExecuteTime": {
     "end_time": "2025-04-11T10:27:29.789705Z",
     "start_time": "2025-04-11T10:27:29.724638500Z"
    }
   },
   "id": "d55177467ff512d9"
  },
  {
   "cell_type": "code",
   "execution_count": 220,
   "outputs": [
    {
     "data": {
      "text/plain": "(19.68004358357635, 1.0300556041126772, 0.33753672695150433)"
     },
     "execution_count": 220,
     "metadata": {},
     "output_type": "execute_result"
    }
   ],
   "source": [
    "estimate_ou_parameters(data_generated.reshape(1,101),0.01)"
   ],
   "metadata": {
    "collapsed": false,
    "ExecuteTime": {
     "end_time": "2025-04-09T14:29:50.353028800Z",
     "start_time": "2025-04-09T14:29:50.285125Z"
    }
   },
   "id": "cbe3a64138e502c"
  },
  {
   "cell_type": "code",
   "execution_count": 129,
   "outputs": [
    {
     "data": {
      "text/plain": "<Figure size 1000x600 with 1 Axes>",
      "image/png": "[encoded data removed]"
     },
     "metadata": {},
     "output_type": "display_data"
    }
   ],
   "source": [
    "data_real = x[0:10, 0, :]\n",
    "data_generated =  X[:, 0].detach().numpy()\n",
    "\n",
    "plt.figure(figsize=(10, 6))\n",
    "for i in range(data_real.shape[0]):\n",
    "    plt.plot(data_real[i], label=f'data_real[{i}]', linestyle=\"--\")\n",
    "    \n",
    "plt.plot(data_generated, label='data_generated')\n",
    "plt.legend()\n",
    "plt.show() "
   ],
   "metadata": {
    "collapsed": false,
    "ExecuteTime": {
     "end_time": "2025-04-11T12:05:28.112981300Z",
     "start_time": "2025-04-11T12:05:27.963463700Z"
    }
   },
   "id": "c671abfd0b715efb"
  },
  {
   "cell_type": "code",
   "execution_count": 58,
   "outputs": [],
   "source": [
    "import random\n",
    "batch_idx = random.randint(0, 19999)\n",
    "time_idx = random.randint(0,90)"
   ],
   "metadata": {
    "collapsed": false,
    "ExecuteTime": {
     "start_time": "2025-04-09T08:29:54.995307Z"
    }
   },
   "id": "896238764893727e"
  },
  {
   "cell_type": "code",
   "execution_count": 59,
   "outputs": [
    {
     "data": {
      "text/plain": "12576"
     },
     "execution_count": 59,
     "metadata": {},
     "output_type": "execute_result"
    }
   ],
   "source": [
    "batch_idx"
   ],
   "metadata": {
    "collapsed": false,
    "ExecuteTime": {
     "start_time": "2025-04-09T08:29:55.574650100Z"
    }
   },
   "id": "ed6d4e3f81143cd4"
  },
  {
   "cell_type": "code",
   "execution_count": 60,
   "outputs": [
    {
     "data": {
      "text/plain": "58"
     },
     "execution_count": 60,
     "metadata": {},
     "output_type": "execute_result"
    }
   ],
   "source": [
    "time_idx"
   ],
   "metadata": {
    "collapsed": false,
    "ExecuteTime": {
     "start_time": "2025-04-09T08:29:56.332638500Z"
    }
   },
   "id": "b5dd49d045c272bd"
  },
  {
   "cell_type": "code",
   "execution_count": 61,
   "outputs": [],
   "source": [
    "start_X=torch.tensor(x[batch_idx,:,time_idx], dtype=torch.float).reshape((1,9))"
   ],
   "metadata": {
    "collapsed": false,
    "ExecuteTime": {
     "start_time": "2025-04-09T08:29:57.064401800Z"
    }
   },
   "id": "c6186b8c480d7034"
  },
  {
   "cell_type": "code",
   "execution_count": 57,
   "outputs": [
    {
     "data": {
      "text/plain": "tensor([[1.0216, 1.4714, 1.9868, 1.0437, 2.1652, 3.9474, 1.5032, 2.0297, 2.9235]],\n       grad_fn=<ToCopyBackward0>)"
     },
     "execution_count": 57,
     "metadata": {},
     "output_type": "execute_result"
    }
   ],
   "source": [
    "start_X"
   ],
   "metadata": {
    "collapsed": false,
    "ExecuteTime": {
     "start_time": "2025-04-09T08:29:44.614093600Z"
    }
   },
   "id": "2649665ac46913ab"
  },
  {
   "cell_type": "code",
   "execution_count": 63,
   "outputs": [
    {
     "name": "stdout",
     "output_type": "stream",
     "text": [
      "1 False -0.00028791453 0.05435294\n",
      "2 True 0.0001836539 0.05274425\n",
      "3 False -0.0002992118 0.053720027\n",
      "4 True 0.00018829353 0.054460187\n",
      "5 False -0.00029005585 0.055442303\n",
      "6 True 0.00020227808 0.05325982\n",
      "7 False -0.000286868 0.05422924\n",
      "8 True 0.00019814768 0.055789884\n",
      "9 False -0.0002892917 0.056791723\n",
      "10 True 0.00019406062 0.05709827\n"
     ]
    }
   ],
   "source": [
    "count=0 \n",
    "\n",
    "for i in range(1,11): \n",
    "    sigma=get_sigma_hat(times, time_ptr, obs_idx, 0.01, 0.1, X, start_X, n_obs_ot,i) \n",
    "    print(i, is_pd(sigma), min(np.linalg.eigvals(sigma)), max(np.linalg.eigvals(sigma)))\n"
   ],
   "metadata": {
    "collapsed": false,
    "ExecuteTime": {
     "start_time": "2025-04-09T08:40:11.487059800Z"
    }
   },
   "id": "a799bda6ae147145"
  },
  {
   "cell_type": "code",
   "execution_count": 66,
   "outputs": [],
   "source": [
    "N=1000 \n",
    "counts=np.zeros(10)\n",
    "min_eigenvalues=np.full(10, np.inf)\n",
    "\n",
    "for _ in range(N):\n",
    "    batch_idx = random.randint(0, 19999)\n",
    "    time_idx = random.randint(0,90)\n",
    "    start_X=torch.tensor(x[batch_idx,:,time_idx], dtype=torch.float).reshape((1,9))\n",
    "    \n",
    "    for i in range(1, 11):\n",
    "        sigma = get_sigma_hat(times, time_ptr, obs_idx, 0.01, 0.1, X, start_X, n_obs_ot, i)\n",
    "        pd = is_pd(sigma)\n",
    "        eigenvalues = np.linalg.eigvals(sigma)\n",
    "\n",
    "        if pd:\n",
    "            counts[i-1] += 1\n",
    "        min_eigenvalues[i-1] = min(min_eigenvalues[i-1], np.min(eigenvalues))\n",
    "percentage=counts/N*100"
   ],
   "metadata": {
    "collapsed": false,
    "ExecuteTime": {
     "start_time": "2025-04-09T08:47:31.913445600Z"
    }
   },
   "id": "ac4196e530333fd3"
  },
  {
   "cell_type": "code",
   "execution_count": 67,
   "outputs": [
    {
     "name": "stdout",
     "output_type": "stream",
     "text": [
      "Step 1:\n",
      "  Positive Definite Percentage: 0.0%\n",
      "  Minimum Eigenvalue: -0.0004220842383801937\n",
      "Step 2:\n",
      "  Positive Definite Percentage: 52.400000000000006%\n",
      "  Minimum Eigenvalue: -5.482573760673404e-05\n",
      "Step 3:\n",
      "  Positive Definite Percentage: 0.0%\n",
      "  Minimum Eigenvalue: -0.0004264510644134134\n",
      "Step 4:\n",
      "  Positive Definite Percentage: 52.800000000000004%\n",
      "  Minimum Eigenvalue: -5.4529387853108346e-05\n",
      "Step 5:\n",
      "  Positive Definite Percentage: 0.0%\n",
      "  Minimum Eigenvalue: -0.0004306554328650236\n",
      "Step 6:\n",
      "  Positive Definite Percentage: 53.800000000000004%\n",
      "  Minimum Eigenvalue: -5.543185761780478e-05\n",
      "Step 7:\n",
      "  Positive Definite Percentage: 0.0%\n",
      "  Minimum Eigenvalue: -0.0004359594313427806\n",
      "Step 8:\n",
      "  Positive Definite Percentage: 53.7%\n",
      "  Minimum Eigenvalue: -5.4336127504939213e-05\n",
      "Step 9:\n",
      "  Positive Definite Percentage: 0.0%\n",
      "  Minimum Eigenvalue: -0.0004404570790939033\n",
      "Step 10:\n",
      "  Positive Definite Percentage: 51.4%\n",
      "  Minimum Eigenvalue: -6.135518196970224e-05\n"
     ]
    }
   ],
   "source": [
    "for i in range(10):\n",
    "    print(f\"Step {i+1}:\")\n",
    "    print(f\"  Positive Definite Percentage: {percentage[i]}%\")\n",
    "    print(f\"  Minimum Eigenvalue: {min_eigenvalues[i]}\")\n"
   ],
   "metadata": {
    "collapsed": false,
    "ExecuteTime": {
     "start_time": "2025-04-09T09:19:35.824833700Z"
    }
   },
   "id": "c29b13384a45ded2"
  },
  {
   "cell_type": "code",
   "execution_count": 123,
   "outputs": [],
   "source": [
    "start_X=torch.tensor(x[batch_idx,:,time_idx], dtype=torch.float).reshape((1,9))"
   ],
   "metadata": {
    "collapsed": false,
    "ExecuteTime": {
     "end_time": "2025-04-09T11:46:36.427338200Z",
     "start_time": "2025-04-09T11:46:36.356190200Z"
    }
   },
   "id": "885acddd0d1d4baa"
  },
  {
   "cell_type": "code",
   "execution_count": 124,
   "outputs": [
    {
     "data": {
      "text/plain": "tensor([[0.9137, 1.3866, 1.8187, 0.8348, 1.9228, 3.3075, 1.2669, 1.6617, 2.5218]])"
     },
     "execution_count": 124,
     "metadata": {},
     "output_type": "execute_result"
    }
   ],
   "source": [
    "start_X"
   ],
   "metadata": {
    "collapsed": false,
    "ExecuteTime": {
     "end_time": "2025-04-09T11:46:43.290198100Z",
     "start_time": "2025-04-09T11:46:43.246872100Z"
    }
   },
   "id": "2098be6455af23cb"
  },
  {
   "cell_type": "code",
   "execution_count": 125,
   "outputs": [],
   "source": [
    "X=torch.tensor(x[batch_idx,:,:time_idx],dtype=torch.float)"
   ],
   "metadata": {
    "collapsed": false,
    "ExecuteTime": {
     "end_time": "2025-04-09T11:47:11.705714300Z",
     "start_time": "2025-04-09T11:47:11.674559900Z"
    }
   },
   "id": "85d238dc920e6fcf"
  },
  {
   "cell_type": "code",
   "execution_count": 128,
   "outputs": [
    {
     "data": {
      "text/plain": "10"
     },
     "execution_count": 128,
     "metadata": {},
     "output_type": "execute_result"
    }
   ],
   "source": [
    "time_idx"
   ],
   "metadata": {
    "collapsed": false,
    "ExecuteTime": {
     "end_time": "2025-04-09T11:47:36.602725100Z",
     "start_time": "2025-04-09T11:47:36.540128Z"
    }
   },
   "id": "d246027ca79ae76b"
  },
  {
   "cell_type": "code",
   "execution_count": 127,
   "outputs": [
    {
     "data": {
      "text/plain": "torch.Size([9, 10])"
     },
     "execution_count": 127,
     "metadata": {},
     "output_type": "execute_result"
    }
   ],
   "source": [
    "X.shape"
   ],
   "metadata": {
    "collapsed": false,
    "ExecuteTime": {
     "end_time": "2025-04-09T11:47:21.958799200Z",
     "start_time": "2025-04-09T11:47:21.899311700Z"
    }
   },
   "id": "932fe1a0ab3329d"
  },
  {
   "cell_type": "code",
   "execution_count": 130,
   "outputs": [
    {
     "data": {
      "text/plain": "array([0, 1, 2, 3, 4, 5, 6, 7, 8, 9])"
     },
     "execution_count": 130,
     "metadata": {},
     "output_type": "execute_result"
    }
   ],
   "source": [
    "np.arange(0,10)"
   ],
   "metadata": {
    "collapsed": false,
    "ExecuteTime": {
     "end_time": "2025-04-09T11:50:28.831125800Z",
     "start_time": "2025-04-09T11:50:28.776036Z"
    }
   },
   "id": "ca2de10215af25c1"
  },
  {
   "cell_type": "code",
   "execution_count": 72,
   "outputs": [],
   "source": [
    " def get_mu_hat(times, time_ptr, obs_idx, delta_t, T, X, start_X, n_obs_ot,i):\n",
    "    \"\"\"\n",
    "    Calculate the drift (mu_hat) estimate.\n",
    "    :param times: see forward\n",
    "    :param time_ptr: see forward\n",
    "    :param obs_idx: see forward\n",
    "    :param delta_t: see forward\n",
    "    :param T: see forward\n",
    "    :param X: see forward\n",
    "    :param start_X: see forward\n",
    "    :param n_obs_ot: see forward\n",
    "    :param d: dimension of the process\n",
    "    :return: mu_hat estimate\n",
    "    \"\"\"\n",
    "    input_size=start_X.size()[1]\n",
    "    d=int((-3+np.sqrt(9+8*input_size))/2)\n",
    "    njode = model.get_pred(times, time_ptr, X, obs_idx, delta_t, T, start_X, n_obs_ot)\n",
    "    njode_pred = njode[\"pred\"]\n",
    "    njode_time = njode[\"pred_t\"]\n",
    "    mu_hat = (njode_pred[-i, :, :d] - start_X[:, :d]) / delta_t\n",
    "    return mu_hat"
   ],
   "metadata": {
    "collapsed": false,
    "ExecuteTime": {
     "end_time": "2025-04-10T10:27:15.153339700Z",
     "start_time": "2025-04-10T10:27:15.117863400Z"
    }
   },
   "id": "10f41e2ec5fcf6b4"
  },
  {
   "cell_type": "code",
   "execution_count": 73,
   "outputs": [],
   "source": [
    "def get_sigma_hat(times, time_ptr, obs_idx, delta_t, T, X, start_X, n_obs_ot,i):\n",
    "    \"\"\"\n",
    "    Calculate the diffusion (sigma_hat) estimate.\n",
    "    :param times: see forward\n",
    "    :param time_ptr: see forward\n",
    "    :param obs_idx: see forward\n",
    "    :param delta_t: see forward\n",
    "    :param T: see forward\n",
    "    :param X: see forward\n",
    "    :param start_X: see forward\n",
    "    :param n_obs_ot: see forward\n",
    "    :param d: dimension of the process\n",
    "    :return: sigma_hat estimate\n",
    "    \"\"\"\n",
    "    input_size=start_X.size()[1]\n",
    "    d=int((-3+np.sqrt(9+8*input_size))/2)\n",
    "    X0 = start_X[:, :d]\n",
    "    njode = model.get_pred(times, time_ptr, X, obs_idx, delta_t, T, start_X, n_obs_ot)\n",
    "    njode_pred = njode[\"pred\"]\n",
    "    njode_time = njode[\"pred_t\"]\n",
    "    sig1 = (construct_matrix(njode_pred[-i, :], d) - construct_matrix(start_X, d)) / delta_t\n",
    "    mu_hat = get_mu_hat(times, time_ptr, obs_idx, delta_t, T, X, start_X, n_obs_ot,i)\n",
    "    sig2 = X0.T @ mu_hat + mu_hat.T @ X0\n",
    "    return (sig1 - sig2).detach().numpy()"
   ],
   "metadata": {
    "collapsed": false,
    "ExecuteTime": {
     "end_time": "2025-04-10T10:27:44.620668700Z",
     "start_time": "2025-04-10T10:27:44.583441Z"
    }
   },
   "id": "8616595f1a5ee58a"
  },
  {
   "cell_type": "code",
   "execution_count": 31,
   "outputs": [],
   "source": [
    " def construct_matrix( output, d):\n",
    "    \"\"\"\n",
    "    Construct a matrix from the input tensor output.\n",
    "    :param output: input tensor\n",
    "    :param d: dimension of the process\n",
    "    :return: constructed matrix\n",
    "    \"\"\"\n",
    "    XX = torch.zeros((d, d), dtype=output.dtype)\n",
    "\n",
    "    for i in range(d):\n",
    "        XX[i, i] = output[:, d + i]\n",
    "\n",
    "    index = 2 * d\n",
    "    for i in range(d):\n",
    "        for j in range(i + 1, d):\n",
    "            XX[i, j] = output[:, index]\n",
    "            XX[j, i] = output[:, index]\n",
    "            index += 1\n",
    "\n",
    "    return XX"
   ],
   "metadata": {
    "collapsed": false,
    "ExecuteTime": {
     "end_time": "2025-04-10T10:05:05.639837Z",
     "start_time": "2025-04-10T10:05:05.608044600Z"
    }
   },
   "id": "67b18c1b7e9f44bf"
  },
  {
   "cell_type": "code",
   "execution_count": 29,
   "outputs": [],
   "source": [
    "def is_pd(matrix):\n",
    "    try:\n",
    "        np.linalg.cholesky(matrix)\n",
    "        return True\n",
    "    except np.linalg.LinAlgError:\n",
    "        return False"
   ],
   "metadata": {
    "collapsed": false,
    "ExecuteTime": {
     "end_time": "2025-04-11T09:43:52.249971500Z",
     "start_time": "2025-04-11T09:43:52.219991500Z"
    }
   },
   "id": "c37fe2801050cf91"
  },
  {
   "cell_type": "code",
   "execution_count": null,
   "outputs": [],
   "source": [],
   "metadata": {
    "collapsed": false
   },
   "id": "350a2856a91e1a34"
  }
 ],
 "metadata": {
  "kernelspec": {
   "display_name": "Python 3",
   "language": "python",
   "name": "python3"
  },
  "language_info": {
   "codemirror_mode": {
    "name": "ipython",
    "version": 2
   },
   "file_extension": ".py",
   "mimetype": "text/x-python",
   "name": "python",
   "nbconvert_exporter": "python",
   "pygments_lexer": "ipython2",
   "version": "2.7.6"
  }
 },
 "nbformat": 4,
 "nbformat_minor": 5
}
